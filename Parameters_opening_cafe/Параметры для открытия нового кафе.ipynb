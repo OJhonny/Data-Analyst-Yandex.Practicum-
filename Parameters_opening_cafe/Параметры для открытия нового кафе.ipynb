{
 "cells": [
  {
   "cell_type": "markdown",
   "metadata": {
    "toc": true
   },
   "source": [
    "<h1>Содержание<span class=\"tocSkip\"></span></h1>\n",
    "<div class=\"toc\"><ul class=\"toc-item\"><li><span><a href=\"#Подготовка-данных\" data-toc-modified-id=\"Подготовка-данных-1\"><span class=\"toc-item-num\">1&nbsp;&nbsp;</span>Подготовка данных</a></span><ul class=\"toc-item\"><li><span><a href=\"#Импорт-библиотек-и-загрузка-данных\" data-toc-modified-id=\"Импорт-библиотек-и-загрузка-данных-1.1\"><span class=\"toc-item-num\">1.1&nbsp;&nbsp;</span>Импорт библиотек и загрузка данных</a></span></li><li><span><a href=\"#Обзор-данных\" data-toc-modified-id=\"Обзор-данных-1.2\"><span class=\"toc-item-num\">1.2&nbsp;&nbsp;</span>Обзор данных</a></span><ul class=\"toc-item\"><li><span><a href=\"#Таблица-data\" data-toc-modified-id=\"Таблица-data-1.2.1\"><span class=\"toc-item-num\">1.2.1&nbsp;&nbsp;</span>Таблица data</a></span></li></ul></li><li><span><a href=\"#Выводы\" data-toc-modified-id=\"Выводы-1.3\"><span class=\"toc-item-num\">1.3&nbsp;&nbsp;</span>Выводы</a></span></li><li><span><a href=\"#Обработка-пропусков\" data-toc-modified-id=\"Обработка-пропусков-1.4\"><span class=\"toc-item-num\">1.4&nbsp;&nbsp;</span>Обработка пропусков</a></span></li><li><span><a href=\"#Обработка-дубликатов\" data-toc-modified-id=\"Обработка-дубликатов-1.5\"><span class=\"toc-item-num\">1.5&nbsp;&nbsp;</span>Обработка дубликатов</a></span><ul class=\"toc-item\"><li><span><a href=\"#Обработка-дубликатов-в-колонке-&quot;object_name&quot;\" data-toc-modified-id=\"Обработка-дубликатов-в-колонке-&quot;object_name&quot;-1.5.1\"><span class=\"toc-item-num\">1.5.1&nbsp;&nbsp;</span>Обработка дубликатов в колонке \"object_name\"</a></span></li><li><span><a href=\"#Обработка-дубликатов-в-колонке-&quot;object_type&quot;\" data-toc-modified-id=\"Обработка-дубликатов-в-колонке-&quot;object_type&quot;-1.5.2\"><span class=\"toc-item-num\">1.5.2&nbsp;&nbsp;</span>Обработка дубликатов в колонке \"object_type\"</a></span></li><li><span><a href=\"#Обработка-дубликатов-в-колонке-&quot;address&quot;\" data-toc-modified-id=\"Обработка-дубликатов-в-колонке-&quot;address&quot;-1.5.3\"><span class=\"toc-item-num\">1.5.3&nbsp;&nbsp;</span>Обработка дубликатов в колонке \"address\"</a></span></li><li><span><a href=\"#Обработка-дубликатов-в-колонке-&quot;chain&quot;\" data-toc-modified-id=\"Обработка-дубликатов-в-колонке-&quot;chain&quot;-1.5.4\"><span class=\"toc-item-num\">1.5.4&nbsp;&nbsp;</span>Обработка дубликатов в колонке \"chain\"</a></span></li><li><span><a href=\"#Обработка-явных-дубликатов\" data-toc-modified-id=\"Обработка-явных-дубликатов-1.5.5\"><span class=\"toc-item-num\">1.5.5&nbsp;&nbsp;</span>Обработка явных дубликатов</a></span></li></ul></li><li><span><a href=\"#Выводы\" data-toc-modified-id=\"Выводы-1.6\"><span class=\"toc-item-num\">1.6&nbsp;&nbsp;</span>Выводы</a></span></li></ul></li><li><span><a href=\"#Исследовательский-анализ-данных\" data-toc-modified-id=\"Исследовательский-анализ-данных-2\"><span class=\"toc-item-num\">2&nbsp;&nbsp;</span>Исследовательский анализ данных</a></span><ul class=\"toc-item\"><li><span><a href=\"#Количественное-соотношение-видов-объектов-общественного-питания\" data-toc-modified-id=\"Количественное-соотношение-видов-объектов-общественного-питания-2.1\"><span class=\"toc-item-num\">2.1&nbsp;&nbsp;</span>Количественное соотношение видов объектов общественного питания</a></span><ul class=\"toc-item\"><li><span><a href=\"#Вывод\" data-toc-modified-id=\"Вывод-2.1.1\"><span class=\"toc-item-num\">2.1.1&nbsp;&nbsp;</span>Вывод</a></span></li></ul></li><li><span><a href=\"#Количественное-соотношение-сетевых-и-несетевых-заведений\" data-toc-modified-id=\"Количественное-соотношение-сетевых-и-несетевых-заведений-2.2\"><span class=\"toc-item-num\">2.2&nbsp;&nbsp;</span>Количественное соотношение сетевых и несетевых заведений</a></span><ul class=\"toc-item\"><li><span><a href=\"#Вывод\" data-toc-modified-id=\"Вывод-2.2.1\"><span class=\"toc-item-num\">2.2.1&nbsp;&nbsp;</span>Вывод</a></span></li></ul></li><li><span><a href=\"#Доли-сетевых-заведений-среди-видов-объектов-общественного-питания\" data-toc-modified-id=\"Доли-сетевых-заведений-среди-видов-объектов-общественного-питания-2.3\"><span class=\"toc-item-num\">2.3&nbsp;&nbsp;</span>Доли сетевых заведений среди видов объектов общественного питания</a></span><ul class=\"toc-item\"><li><span><a href=\"#Выводы\" data-toc-modified-id=\"Выводы-2.3.1\"><span class=\"toc-item-num\">2.3.1&nbsp;&nbsp;</span>Выводы</a></span></li></ul></li><li><span><a href=\"#Соотношение-количества-посадочных-мест-с-количеством--сетевых-заведений\" data-toc-modified-id=\"Соотношение-количества-посадочных-мест-с-количеством--сетевых-заведений-2.4\"><span class=\"toc-item-num\">2.4&nbsp;&nbsp;</span>Соотношение количества посадочных мест с количеством  сетевых заведений</a></span><ul class=\"toc-item\"><li><span><a href=\"#Вывод\" data-toc-modified-id=\"Вывод-2.4.1\"><span class=\"toc-item-num\">2.4.1&nbsp;&nbsp;</span>Вывод</a></span></li></ul></li><li><span><a href=\"#Среднее-количество-посадочных-мест-по-типам-объектов\" data-toc-modified-id=\"Среднее-количество-посадочных-мест-по-типам-объектов-2.5\"><span class=\"toc-item-num\">2.5&nbsp;&nbsp;</span>Среднее количество посадочных мест по типам объектов</a></span><ul class=\"toc-item\"><li><span><a href=\"#Вывод\" data-toc-modified-id=\"Вывод-2.5.1\"><span class=\"toc-item-num\">2.5.1&nbsp;&nbsp;</span>Вывод</a></span></li></ul></li><li><span><a href=\"#Создание-колонки-&quot;street&quot;\" data-toc-modified-id=\"Создание-колонки-&quot;street&quot;-2.6\"><span class=\"toc-item-num\">2.6&nbsp;&nbsp;</span>Создание колонки \"street\"</a></span></li><li><span><a href=\"#Топ-10-улиц-по-количеству-объектов-общественного-питания\" data-toc-modified-id=\"Топ-10-улиц-по-количеству-объектов-общественного-питания-2.7\"><span class=\"toc-item-num\">2.7&nbsp;&nbsp;</span>Топ-10 улиц по количеству объектов общественного питания</a></span><ul class=\"toc-item\"><li><span><a href=\"#Вывод\" data-toc-modified-id=\"Вывод-2.7.1\"><span class=\"toc-item-num\">2.7.1&nbsp;&nbsp;</span>Вывод</a></span></li></ul></li><li><span><a href=\"#Датафрейм-rest_data-с-районами-Москвы\" data-toc-modified-id=\"Датафрейм-rest_data-с-районами-Москвы-2.8\"><span class=\"toc-item-num\">2.8&nbsp;&nbsp;</span>Датафрейм rest_data с районами Москвы</a></span><ul class=\"toc-item\"><li><span><a href=\"#Выводы\" data-toc-modified-id=\"Выводы-2.8.1\"><span class=\"toc-item-num\">2.8.1&nbsp;&nbsp;</span>Выводы</a></span></li></ul></li><li><span><a href=\"#Районы-топ-10-улиц-по-количеству-объектов-общественного-питания\" data-toc-modified-id=\"Районы-топ-10-улиц-по-количеству-объектов-общественного-питания-2.9\"><span class=\"toc-item-num\">2.9&nbsp;&nbsp;</span>Районы топ-10 улиц по количеству объектов общественного питания</a></span><ul class=\"toc-item\"><li><span><a href=\"#Вывод\" data-toc-modified-id=\"Вывод-2.9.1\"><span class=\"toc-item-num\">2.9.1&nbsp;&nbsp;</span>Вывод</a></span></li></ul></li><li><span><a href=\"#Количество-улиц-с-одним-объектом-общественного-питания\" data-toc-modified-id=\"Количество-улиц-с-одним-объектом-общественного-питания-2.10\"><span class=\"toc-item-num\">2.10&nbsp;&nbsp;</span>Количество улиц с одним объектом общественного питания</a></span></li><li><span><a href=\"#Районы-улиц-с-одним-объектом-общественного-питания\" data-toc-modified-id=\"Районы-улиц-с-одним-объектом-общественного-питания-2.11\"><span class=\"toc-item-num\">2.11&nbsp;&nbsp;</span>Районы улиц с одним объектом общественного питания</a></span><ul class=\"toc-item\"><li><span><a href=\"#Вывод\" data-toc-modified-id=\"Вывод-2.11.1\"><span class=\"toc-item-num\">2.11.1&nbsp;&nbsp;</span>Вывод</a></span></li></ul></li><li><span><a href=\"#Распределение-количества-посадочных-мест-для-топ-10-улиц-по-количеству-объектов-общественного-питания\" data-toc-modified-id=\"Распределение-количества-посадочных-мест-для-топ-10-улиц-по-количеству-объектов-общественного-питания-2.12\"><span class=\"toc-item-num\">2.12&nbsp;&nbsp;</span>Распределение количества посадочных мест для топ-10 улиц по количеству объектов общественного питания</a></span><ul class=\"toc-item\"><li><span><a href=\"#Вывод\" data-toc-modified-id=\"Вывод-2.12.1\"><span class=\"toc-item-num\">2.12.1&nbsp;&nbsp;</span>Вывод</a></span></li></ul></li></ul></li><li><span><a href=\"#Общие-выводы-и-презентация\" data-toc-modified-id=\"Общие-выводы-и-презентация-3\"><span class=\"toc-item-num\">3&nbsp;&nbsp;</span>Общие выводы и презентация</a></span><ul class=\"toc-item\"><li><span><a href=\"#Презентация\" data-toc-modified-id=\"Презентация-3.1\"><span class=\"toc-item-num\">3.1&nbsp;&nbsp;</span>Презентация</a></span></li></ul></li></ul></div>"
   ]
  },
  {
   "cell_type": "markdown",
   "metadata": {},
   "source": [
    "**Проект \"Рынок заведений общественного питания Москвы\"**\n",
    "\n",
    "**Проблема:**\n",
    "\n",
    "Решено открыть небольшое кафе в Москве. Оно оригинальное — гостей должны обслуживать роботы. Проект многообещающий, но дорогой. Инвесторов интересует текущее положение дел на рынке — сможет ли кафе снискать популярность на долгое время, когда все зеваки насмотрятся на роботов-официантов?\n",
    "\n",
    "**Цель:**\n",
    "\n",
    "Провести исследование рынка общественного питания в Москве, чтобы оценить оптимальные параметры для открытия нового кафе с официантами-роботами.\n",
    "\n",
    "**Задачи:**\n",
    "- Подготовить данные к анализу;\n",
    "- Исследовать соотношение видов объектов общественного питания по количеству;\n",
    "- Исследовать соотношение сетевых и несетевых заведений по количеству;\n",
    "- Для каждого типа объекта общественного питания описать среднее количество посадочных мест;\n",
    "- Найти топ-10 улиц по количеству объектов общественного питания;\n",
    "- Найти число улиц с одним объектом общественного питания; \n",
    "- Исследовать распределение количества посадочных мест для улиц с большим количеством объектов общественного питания;\n",
    "- Сделать выводы и рекомендации по результатам исследовательского анализа;\n",
    "- Подготовить презентацию с результатами исследовательского анализа.\n",
    "\n",
    "**План**\n",
    "\n",
    "- Часть 1. Подготовка данных. \n",
    "- Часть 2. Исследовательский анализ данных.\n",
    "- Часть 3. Общие выводы и презентация.\n",
    "\n",
    "**Описание данных**\n",
    "\n",
    "У нас в распоряжении есть открытые данные о заведениях общественного питания в Москве."
   ]
  },
  {
   "cell_type": "markdown",
   "metadata": {},
   "source": [
    "## Подготовка данных "
   ]
  },
  {
   "cell_type": "markdown",
   "metadata": {},
   "source": [
    "### Импорт библиотек и загрузка данных"
   ]
  },
  {
   "cell_type": "code",
   "execution_count": 1,
   "metadata": {},
   "outputs": [],
   "source": [
    "# импорт библиотек\n",
    "import pandas as pd                             # для анализа данных\n",
    "import numpy as np                              # для математических вычислений\n",
    "\n",
    "import seaborn as sns                           # для визуализации данных\n",
    "from matplotlib import pyplot as plt            # для визуализации данных\n",
    "%matplotlib inline\n",
    "\n",
    "import datetime as dt                           # для преобразования к типу данных\n",
    "from datetime import datetime   \n",
    "\n",
    "from io import BytesIO                          # для работы с различными типами ввода-вывода\n",
    "import requests                                 # для взаимодействия с HTTP (web-приложениями)\n",
    "\n",
    "import warnings                                 # для предупреждений в программе \n",
    "warnings.filterwarnings('ignore')               # игнорировать предупреждения"
   ]
  },
  {
   "cell_type": "code",
   "execution_count": 3,
   "metadata": {},
   "outputs": [],
   "source": [
    "# создание переменной с датафреймом \n",
    "#data = pd.read_csv('/datasets/rest_data.csv')\n",
    "data = pd.read_csv(r'C:\\Users\\Dao\\YandexDisk\\IT\\Datasets\\y_9_rest_data.csv')\n",
    "\n",
    "# С помощью pd.option настроим вывод так чтобы\n",
    "pd.options.display.max_columns = None               # чтобы не обрезались колонки\n",
    "# pd.options.display.max_rows = None                  # чтобы видеть все содержимое вывода\n",
    "# pd.options.display.max_colwidth = -1                # текст в ячейке отражался полностью вне зависимости от длины\n",
    "pd.options.display.float_format = '{:.2f}'.format   # все числа отражались с двумя знаками после запятой"
   ]
  },
  {
   "cell_type": "markdown",
   "metadata": {},
   "source": [
    "### Обзор данных  "
   ]
  },
  {
   "cell_type": "markdown",
   "metadata": {},
   "source": [
    "#### Таблица data\n",
    "\n",
    "- id — идентификатор объекта;\n",
    "- object_name — название объекта общественного питания;\n",
    "- chain — сетевой ресторан;\n",
    "- object_type — тип объекта общественного питания;\n",
    "- address — адрес;\n",
    "- number — количество посадочных мест. "
   ]
  },
  {
   "cell_type": "code",
   "execution_count": 4,
   "metadata": {},
   "outputs": [
    {
     "data": {
      "text/plain": [
       "'5 рандомных строк таблицы:'"
      ]
     },
     "metadata": {},
     "output_type": "display_data"
    },
    {
     "data": {
      "text/html": [
       "<div>\n",
       "<style scoped>\n",
       "    .dataframe tbody tr th:only-of-type {\n",
       "        vertical-align: middle;\n",
       "    }\n",
       "\n",
       "    .dataframe tbody tr th {\n",
       "        vertical-align: top;\n",
       "    }\n",
       "\n",
       "    .dataframe thead th {\n",
       "        text-align: right;\n",
       "    }\n",
       "</style>\n",
       "<table border=\"1\" class=\"dataframe\">\n",
       "  <thead>\n",
       "    <tr style=\"text-align: right;\">\n",
       "      <th></th>\n",
       "      <th>id</th>\n",
       "      <th>object_name</th>\n",
       "      <th>chain</th>\n",
       "      <th>object_type</th>\n",
       "      <th>address</th>\n",
       "      <th>number</th>\n",
       "    </tr>\n",
       "  </thead>\n",
       "  <tbody>\n",
       "    <tr>\n",
       "      <td>0</td>\n",
       "      <td>151635</td>\n",
       "      <td>СМЕТАНА</td>\n",
       "      <td>нет</td>\n",
       "      <td>кафе</td>\n",
       "      <td>город Москва, улица Егора Абакумова, дом 9</td>\n",
       "      <td>48</td>\n",
       "    </tr>\n",
       "    <tr>\n",
       "      <td>1</td>\n",
       "      <td>77874</td>\n",
       "      <td>Родник</td>\n",
       "      <td>нет</td>\n",
       "      <td>кафе</td>\n",
       "      <td>город Москва, улица Талалихина, дом 2/1, корпус 1</td>\n",
       "      <td>35</td>\n",
       "    </tr>\n",
       "    <tr>\n",
       "      <td>2</td>\n",
       "      <td>24309</td>\n",
       "      <td>Кафе «Академия»</td>\n",
       "      <td>нет</td>\n",
       "      <td>кафе</td>\n",
       "      <td>город Москва, Абельмановская улица, дом 6</td>\n",
       "      <td>95</td>\n",
       "    </tr>\n",
       "    <tr>\n",
       "      <td>3</td>\n",
       "      <td>21894</td>\n",
       "      <td>ПИЦЦЕТОРИЯ</td>\n",
       "      <td>да</td>\n",
       "      <td>кафе</td>\n",
       "      <td>город Москва, Абрамцевская улица, дом 1</td>\n",
       "      <td>40</td>\n",
       "    </tr>\n",
       "    <tr>\n",
       "      <td>4</td>\n",
       "      <td>119365</td>\n",
       "      <td>Кафе «Вишневая метель»</td>\n",
       "      <td>нет</td>\n",
       "      <td>кафе</td>\n",
       "      <td>город Москва, Абрамцевская улица, дом 9, корпус 1</td>\n",
       "      <td>50</td>\n",
       "    </tr>\n",
       "  </tbody>\n",
       "</table>\n",
       "</div>"
      ],
      "text/plain": [
       "       id             object_name chain object_type  \\\n",
       "0  151635                 СМЕТАНА   нет        кафе   \n",
       "1   77874                  Родник   нет        кафе   \n",
       "2   24309         Кафе «Академия»   нет        кафе   \n",
       "3   21894              ПИЦЦЕТОРИЯ    да        кафе   \n",
       "4  119365  Кафе «Вишневая метель»   нет        кафе   \n",
       "\n",
       "                                             address  number  \n",
       "0         город Москва, улица Егора Абакумова, дом 9      48  \n",
       "1  город Москва, улица Талалихина, дом 2/1, корпус 1      35  \n",
       "2          город Москва, Абельмановская улица, дом 6      95  \n",
       "3            город Москва, Абрамцевская улица, дом 1      40  \n",
       "4  город Москва, Абрамцевская улица, дом 9, корпус 1      50  "
      ]
     },
     "metadata": {},
     "output_type": "display_data"
    },
    {
     "data": {
      "text/plain": [
       "'Статистика данных:'"
      ]
     },
     "metadata": {},
     "output_type": "display_data"
    },
    {
     "data": {
      "text/html": [
       "<div>\n",
       "<style scoped>\n",
       "    .dataframe tbody tr th:only-of-type {\n",
       "        vertical-align: middle;\n",
       "    }\n",
       "\n",
       "    .dataframe tbody tr th {\n",
       "        vertical-align: top;\n",
       "    }\n",
       "\n",
       "    .dataframe thead th {\n",
       "        text-align: right;\n",
       "    }\n",
       "</style>\n",
       "<table border=\"1\" class=\"dataframe\">\n",
       "  <thead>\n",
       "    <tr style=\"text-align: right;\">\n",
       "      <th></th>\n",
       "      <th>count</th>\n",
       "      <th>mean</th>\n",
       "      <th>std</th>\n",
       "      <th>min</th>\n",
       "      <th>25%</th>\n",
       "      <th>50%</th>\n",
       "      <th>75%</th>\n",
       "      <th>max</th>\n",
       "    </tr>\n",
       "  </thead>\n",
       "  <tbody>\n",
       "    <tr>\n",
       "      <td>id</td>\n",
       "      <td>15366.00</td>\n",
       "      <td>119720.07</td>\n",
       "      <td>73036.13</td>\n",
       "      <td>838.00</td>\n",
       "      <td>28524.00</td>\n",
       "      <td>144974.50</td>\n",
       "      <td>184262.25</td>\n",
       "      <td>223439.00</td>\n",
       "    </tr>\n",
       "    <tr>\n",
       "      <td>number</td>\n",
       "      <td>15366.00</td>\n",
       "      <td>59.55</td>\n",
       "      <td>74.74</td>\n",
       "      <td>0.00</td>\n",
       "      <td>12.00</td>\n",
       "      <td>40.00</td>\n",
       "      <td>80.00</td>\n",
       "      <td>1700.00</td>\n",
       "    </tr>\n",
       "  </tbody>\n",
       "</table>\n",
       "</div>"
      ],
      "text/plain": [
       "          count      mean      std    min      25%       50%       75%  \\\n",
       "id     15366.00 119720.07 73036.13 838.00 28524.00 144974.50 184262.25   \n",
       "number 15366.00     59.55    74.74   0.00    12.00     40.00     80.00   \n",
       "\n",
       "             max  \n",
       "id     223439.00  \n",
       "number   1700.00  "
      ]
     },
     "metadata": {},
     "output_type": "display_data"
    },
    {
     "data": {
      "text/html": [
       "<div>\n",
       "<style scoped>\n",
       "    .dataframe tbody tr th:only-of-type {\n",
       "        vertical-align: middle;\n",
       "    }\n",
       "\n",
       "    .dataframe tbody tr th {\n",
       "        vertical-align: top;\n",
       "    }\n",
       "\n",
       "    .dataframe thead th {\n",
       "        text-align: right;\n",
       "    }\n",
       "</style>\n",
       "<table border=\"1\" class=\"dataframe\">\n",
       "  <thead>\n",
       "    <tr style=\"text-align: right;\">\n",
       "      <th></th>\n",
       "      <th>count</th>\n",
       "      <th>unique</th>\n",
       "      <th>top</th>\n",
       "      <th>freq</th>\n",
       "    </tr>\n",
       "  </thead>\n",
       "  <tbody>\n",
       "    <tr>\n",
       "      <td>object_name</td>\n",
       "      <td>15366</td>\n",
       "      <td>10393</td>\n",
       "      <td>Столовая</td>\n",
       "      <td>267</td>\n",
       "    </tr>\n",
       "    <tr>\n",
       "      <td>chain</td>\n",
       "      <td>15366</td>\n",
       "      <td>2</td>\n",
       "      <td>нет</td>\n",
       "      <td>12398</td>\n",
       "    </tr>\n",
       "    <tr>\n",
       "      <td>object_type</td>\n",
       "      <td>15366</td>\n",
       "      <td>9</td>\n",
       "      <td>кафе</td>\n",
       "      <td>6099</td>\n",
       "    </tr>\n",
       "    <tr>\n",
       "      <td>address</td>\n",
       "      <td>15366</td>\n",
       "      <td>9108</td>\n",
       "      <td>город Москва, Ходынский бульвар, дом 4</td>\n",
       "      <td>95</td>\n",
       "    </tr>\n",
       "  </tbody>\n",
       "</table>\n",
       "</div>"
      ],
      "text/plain": [
       "             count unique                                     top   freq\n",
       "object_name  15366  10393                                Столовая    267\n",
       "chain        15366      2                                     нет  12398\n",
       "object_type  15366      9                                    кафе   6099\n",
       "address      15366   9108  город Москва, Ходынский бульвар, дом 4     95"
      ]
     },
     "metadata": {},
     "output_type": "display_data"
    },
    {
     "data": {
      "text/plain": [
       "'Общая информация о данных:'"
      ]
     },
     "metadata": {},
     "output_type": "display_data"
    },
    {
     "name": "stdout",
     "output_type": "stream",
     "text": [
      "<class 'pandas.core.frame.DataFrame'>\n",
      "RangeIndex: 15366 entries, 0 to 15365\n",
      "Data columns (total 6 columns):\n",
      "id             15366 non-null int64\n",
      "object_name    15366 non-null object\n",
      "chain          15366 non-null object\n",
      "object_type    15366 non-null object\n",
      "address        15366 non-null object\n",
      "number         15366 non-null int64\n",
      "dtypes: int64(2), object(4)\n",
      "memory usage: 720.4+ KB\n"
     ]
    }
   ],
   "source": [
    "# случайная выборка, статистика и общая информация о датафрейме в одной мини-функции\n",
    "\n",
    "def info_dataframe(dataframe):\n",
    "    display(\"5 рандомных строк таблицы:\")\n",
    "    display(dataframe.head())\n",
    "    display(\"Статистика данных:\")\n",
    "    display(dataframe.describe().T)\n",
    "    display(dataframe.describe(include='object').T)\n",
    "    display(\"Общая информация о данных:\")\n",
    "    dataframe.info()\n",
    "    \n",
    "info_dataframe(data)"
   ]
  },
  {
   "cell_type": "markdown",
   "metadata": {},
   "source": [
    "### Выводы  \n",
    "\n",
    "1. Данные находятся в 1 датасете data и содержат информацию об объектах общественного питания, их типе, принадлежности к сети, адресах, количестве посадочных мест.\n",
    "2. Проблем со стилем в заголовках нет. \n",
    "3. Типы данных соответствуют значениям в колонках.\n",
    "4. Явных пропусков нет.\n",
    "5. Некоторые названия объектов написаны капслоком."
   ]
  },
  {
   "cell_type": "markdown",
   "metadata": {},
   "source": [
    "### Обработка пропусков"
   ]
  },
  {
   "cell_type": "markdown",
   "metadata": {},
   "source": [
    "Посмотрим наличие пропусков."
   ]
  },
  {
   "cell_type": "code",
   "execution_count": 5,
   "metadata": {},
   "outputs": [
    {
     "data": {
      "text/plain": [
       "'Количество пропусков в датафреме data:\\n'"
      ]
     },
     "metadata": {},
     "output_type": "display_data"
    },
    {
     "data": {
      "text/plain": [
       "id             0\n",
       "object_name    0\n",
       "chain          0\n",
       "object_type    0\n",
       "address        0\n",
       "number         0\n",
       "dtype: int64"
      ]
     },
     "metadata": {},
     "output_type": "display_data"
    }
   ],
   "source": [
    "display('Количество пропусков в датафреме data:\\n', data.isna().sum())"
   ]
  },
  {
   "cell_type": "markdown",
   "metadata": {},
   "source": [
    "### Обработка дубликатов"
   ]
  },
  {
   "cell_type": "markdown",
   "metadata": {},
   "source": [
    "#### Обработка дубликатов в колонке \"object_name\""
   ]
  },
  {
   "cell_type": "markdown",
   "metadata": {},
   "source": [
    "Посмотрим на уникальные значения в колонке object_name."
   ]
  },
  {
   "cell_type": "code",
   "execution_count": 6,
   "metadata": {},
   "outputs": [
    {
     "data": {
      "text/plain": [
       "'Уникальные значения в колонке \"object_name\":'"
      ]
     },
     "metadata": {},
     "output_type": "display_data"
    },
    {
     "data": {
      "text/plain": [
       "Столовая                   267\n",
       "Кафе                       236\n",
       "Шаурма                     234\n",
       "KFC                        155\n",
       "Шоколадница                142\n",
       "                          ... \n",
       "ЛИНДЕРХОФ                    1\n",
       "Макс бар                     1\n",
       "СТ.ШК.793 «ШКОЛЬНИК-ЮЗ»      1\n",
       "Луиджи                       1\n",
       "Кафе «Ruma's»                1\n",
       "Name: object_name, Length: 10393, dtype: int64"
      ]
     },
     "execution_count": 6,
     "metadata": {},
     "output_type": "execute_result"
    }
   ],
   "source": [
    "display('Уникальные значения в колонке \"object_name\":')\n",
    "data['object_name'].value_counts()"
   ]
  },
  {
   "cell_type": "markdown",
   "metadata": {},
   "source": [
    "Приведем все значения в колонке object_name к нижнему регистру."
   ]
  },
  {
   "cell_type": "code",
   "execution_count": 7,
   "metadata": {},
   "outputs": [],
   "source": [
    "data['object_name'] = data['object_name'].str.lower()"
   ]
  },
  {
   "cell_type": "markdown",
   "metadata": {},
   "source": [
    "Заменим в колонке object_name \"ё\" на \"е\", уберем кавычки из названий. "
   ]
  },
  {
   "cell_type": "code",
   "execution_count": 8,
   "metadata": {},
   "outputs": [],
   "source": [
    "data['object_name'] = data['object_name'].str.replace('«', '', regex=True)\n",
    "data['object_name'] = data['object_name'].str.replace('»', '', regex=True)\n",
    "data['object_name'] = data['object_name'].str.replace(\"'\", '', regex=True)\n",
    "data['object_name'] = data['object_name'].str.replace('ё', 'е', regex=True)"
   ]
  },
  {
   "cell_type": "markdown",
   "metadata": {},
   "source": [
    "Имеется ряд повторяющихся названий в колонке object_name. Заменим их на единые сетевые названия. "
   ]
  },
  {
   "cell_type": "code",
   "execution_count": 9,
   "metadata": {
    "scrolled": true
   },
   "outputs": [],
   "source": [
    "# список названий сетевых заведений\n",
    "chain_names = ['милти','макдоналдс', 'шоколадница', 'бургер кинг','теремок', 'доминос пицца', \n",
    "        'крошка картошка', 'kfc', 'суши wok','папа джонс','додо пицца', 'subway','starbucks', 'прайм стар', \n",
    "        'иль патио', 'якитория', 'кофе хаус', 'тануки', 'чайхона №1', 'донер кебаб', 'хлеб насущный', \n",
    "        'cofix', 'му-му', 'мята lounge', 'андерсон', 'стардогс', 'пицца хат', 'кулинарная лавка братьев караваевых',\n",
    "        'алло пицца', 'пицца паоло', 'кофемания', 'азбука вкуса', 'штолле', 'волконский', 'баскин роббинс', \n",
    "        'ваби-саби', 'корчма тарас бульба', 'вареничная №1', 'джон джоли', 'грабли']\n",
    "\n",
    "# определим функцию, которая заменит на названия из словаря те значения, частью которых они являются\n",
    "# таким образом мы избавимся от приставок типа \"кафе\", \"ресторан\" и пр.\n",
    "def replace_duplicates(row):\n",
    "    for name in chain_names:\n",
    "        if name in row['object_name']:\n",
    "            return name\n",
    "    return row['object_name']\n",
    "\n",
    "# применим функцию\n",
    "data['object_name'] = data.apply(replace_duplicates, axis=1)"
   ]
  },
  {
   "cell_type": "markdown",
   "metadata": {},
   "source": [
    "Заменим оставшиеся отдельные названия в колонке object_name, которые не получилось заменить функцией replace_duplicates."
   ]
  },
  {
   "cell_type": "code",
   "execution_count": 10,
   "metadata": {
    "scrolled": true
   },
   "outputs": [
    {
     "name": "stdout",
     "output_type": "stream",
     "text": [
      "Уникальные значения в колонке \"object_name\" после обработки неявных дубликатов:\n"
     ]
    },
    {
     "data": {
      "text/plain": [
       "столовая                                                                             321\n",
       "кафе                                                                                 278\n",
       "шаурма                                                                               250\n",
       "kfc                                                                                  190\n",
       "шоколадница                                                                          189\n",
       "                                                                                    ... \n",
       "буфет при гоу сош № 737                                                                1\n",
       "буфет школа 1586                                                                       1\n",
       "столовая при гоу сош № 696                                                             1\n",
       "ok doner                                                                               1\n",
       "государственное бюджетное общеоразовательное учреждение города москвы школа №1528      1\n",
       "Name: object_name, Length: 9622, dtype: int64"
      ]
     },
     "execution_count": 10,
     "metadata": {},
     "output_type": "execute_result"
    }
   ],
   "source": [
    "# словарь дубликатов и названий для их замены\n",
    "duplicates = { \n",
    "            'доминос пицца': ['domino-s pizza',  'dominos pizza'], \n",
    "            'бургер кинг': ['burger king', 'burgerking'], \n",
    "            'black star burger' : 'black star burgers',\n",
    "            'starbucks': ['старбакс кофе', 'старбакс', 'кафе старбакс'],\n",
    "            'иль патио': ['il патиопланета суши','il патио', 'planeta sushi il patio', 'иль-патио'],\n",
    "            'хинкали gали':['хинкали gali', 'хинкали-gали','хинкали-гали', 'хинкали gали'],\n",
    "            'суши wok':['суши вок', 'кафе сушиwok', 'sushiwok', 'сушиwok', 'сушивок', 'кафе суши вок'],\n",
    "            'стардогс': ['стардогs', 'стардогs и шаурма', 'закусочная стардогs'],\n",
    "            'subway': ['сабвей сушивок', 'сабвэй','сабвей', 'кафе сабвей', 'кафе сабвэй'],\n",
    "            'самарканд': ['самарканд-сити', 'кафе я-самарканд', 'кафе самарканд самса горячая лепешка', 'шаурма и кафе самарканд'],\n",
    "            'прайм стар' : ['прайм-кафе', 'праймстар','праймстар ресторантс групп', 'прайм', 'кафе prime прайм стар прайм-кафе'],\n",
    "            'правdа кофе': 'правда кофе',\n",
    "            'крошка картошка': ['кафе крошка-картошка', 'крошка-картошка', 'крошкакартошка'],\n",
    "            'додо пицца':['додопицца', 'до до пицца'],\n",
    "            'пицца хат': 'пице хат'\n",
    "                       }\n",
    "\n",
    "# определим функцию, которая заменит значения из словаря duplicates на ключи из него же\n",
    "def replace_duplicates_2(element):\n",
    "    for name, dup in duplicates.items():\n",
    "        if element in dup:\n",
    "            return name\n",
    "    return element\n",
    "\n",
    "data['object_name'] = data['object_name'].apply(replace_duplicates_2)\n",
    "\n",
    "print('Уникальные значения в колонке \"object_name\" после обработки неявных дубликатов:')\n",
    "data['object_name'].value_counts()"
   ]
  },
  {
   "cell_type": "markdown",
   "metadata": {},
   "source": [
    "#### Обработка дубликатов в колонке \"object_type\" "
   ]
  },
  {
   "cell_type": "markdown",
   "metadata": {},
   "source": [
    "Посмотрим на уникальные значения в колонке object_type."
   ]
  },
  {
   "cell_type": "code",
   "execution_count": 11,
   "metadata": {},
   "outputs": [
    {
     "data": {
      "text/plain": [
       "'Уникальные значения в колонке \"object_type\":'"
      ]
     },
     "metadata": {},
     "output_type": "display_data"
    },
    {
     "data": {
      "text/plain": [
       "кафе                                 6099\n",
       "столовая                             2587\n",
       "ресторан                             2285\n",
       "предприятие быстрого обслуживания    1923\n",
       "бар                                   856\n",
       "буфет                                 585\n",
       "кафетерий                             398\n",
       "закусочная                            360\n",
       "магазин (отдел кулинарии)             273\n",
       "Name: object_type, dtype: int64"
      ]
     },
     "execution_count": 11,
     "metadata": {},
     "output_type": "execute_result"
    }
   ],
   "source": [
    "display('Уникальные значения в колонке \"object_type\":')\n",
    "data['object_type'].value_counts()"
   ]
  },
  {
   "cell_type": "markdown",
   "metadata": {},
   "source": [
    "Дубликатов нет. \n",
    "\n",
    "Заменим \"предприятие быстрого обслуживания\" и \"магазин (отдел кулинарии)\" на более удобные название \"фастфуд\" и \"кулинария\"."
   ]
  },
  {
   "cell_type": "code",
   "execution_count": 12,
   "metadata": {},
   "outputs": [
    {
     "data": {
      "text/plain": [
       "кафе          6099\n",
       "столовая      2587\n",
       "ресторан      2285\n",
       "фастфуд       1923\n",
       "бар            856\n",
       "буфет          585\n",
       "кафетерий      398\n",
       "закусочная     360\n",
       "кулинария      273\n",
       "Name: object_type, dtype: int64"
      ]
     },
     "execution_count": 12,
     "metadata": {},
     "output_type": "execute_result"
    }
   ],
   "source": [
    "data['object_type'] = data['object_type'].str.replace('предприятие быстрого обслуживания', 'фастфуд', regex=True)\n",
    "data.loc[data['object_type'] == 'магазин (отдел кулинарии)', 'object_type'] = 'кулинария'\n",
    "data['object_type'].value_counts()"
   ]
  },
  {
   "cell_type": "markdown",
   "metadata": {},
   "source": [
    "#### Обработка дубликатов в колонке \"address\" "
   ]
  },
  {
   "cell_type": "markdown",
   "metadata": {},
   "source": [
    "Посмотрим на уникальные значения в колонке object_type."
   ]
  },
  {
   "cell_type": "code",
   "execution_count": 13,
   "metadata": {
    "scrolled": true
   },
   "outputs": [
    {
     "data": {
      "text/plain": [
       "'Уникальные значения в колонке \"address\":'"
      ]
     },
     "metadata": {},
     "output_type": "display_data"
    },
    {
     "data": {
      "text/plain": [
       "город Москва, Ходынский бульвар, дом 4               95\n",
       "город Москва, Пресненская набережная, дом 2          63\n",
       "город Москва, проспект Мира, дом 211, корпус 2       60\n",
       "город Москва, Кировоградская улица, дом 13А          53\n",
       "город Москва, площадь Киевского Вокзала, дом 2       48\n",
       "                                                     ..\n",
       "город Москва, шоссе Энтузиастов, дом 96Б              1\n",
       "город Москва, Воронежская улица, дом 46, корпус 3     1\n",
       "город Москва, Верхняя Первомайская улица, дом 43      1\n",
       "город Москва, улица Фомичёвой, дом 8                  1\n",
       "город Москва, улица Пришвина, дом 17                  1\n",
       "Name: address, Length: 9108, dtype: int64"
      ]
     },
     "execution_count": 13,
     "metadata": {},
     "output_type": "execute_result"
    }
   ],
   "source": [
    "display('Уникальные значения в колонке \"address\":')\n",
    "data['address'].value_counts()"
   ]
  },
  {
   "cell_type": "markdown",
   "metadata": {},
   "source": [
    "Дубликатов не обнаружено."
   ]
  },
  {
   "cell_type": "markdown",
   "metadata": {},
   "source": [
    "#### Обработка дубликатов в колонке \"chain\""
   ]
  },
  {
   "cell_type": "markdown",
   "metadata": {},
   "source": [
    "Из обзора данных выше видно, что в колонке chain 2 уникальных значения: \"да\" и \"нет\", значит дубликатов в ней нет."
   ]
  },
  {
   "cell_type": "markdown",
   "metadata": {},
   "source": [
    "#### Обработка явных дубликатов"
   ]
  },
  {
   "cell_type": "markdown",
   "metadata": {},
   "source": [
    "Проверим на явные дубликаты в датафрейме data и удалим их при обнаружении."
   ]
  },
  {
   "cell_type": "code",
   "execution_count": 14,
   "metadata": {},
   "outputs": [
    {
     "name": "stdout",
     "output_type": "stream",
     "text": [
      "Явных дубликатов в датафреме data до: 0\n",
      "Явных дубликатов в датафреме data после обработки: 0\n",
      "Количество явных дубликатов в датафреме data без колонки \"id\": 85\n",
      "Количество явных дубликатов в датафреме data без колонки \"id\" после обработки: 0\n"
     ]
    }
   ],
   "source": [
    "print('Явных дубликатов в датафреме data до:', data.duplicated().sum())\n",
    "\n",
    "# удаляем дубликаты, для сохранения порядка индексации применим функцию reset_index()\n",
    "data = data.drop_duplicates().reset_index(drop=True)\n",
    "\n",
    "print('Явных дубликатов в датафреме data после обработки:', data.duplicated().sum())\n",
    "\n",
    "print('Количество явных дубликатов в датафреме data без колонки \"id\":', data.duplicated(subset=['object_name', 'chain', 'object_type', 'address', 'number']).sum())\n",
    "\n",
    "data = data.drop_duplicates(subset=['object_name', 'chain', 'object_type', 'address', 'number']).reset_index(drop=True)\n",
    "\n",
    "print('Количество явных дубликатов в датафреме data без колонки \"id\" после обработки:', data.duplicated(subset=['object_name', 'chain', 'object_type', 'address', 'number']).sum())\n"
   ]
  },
  {
   "cell_type": "markdown",
   "metadata": {},
   "source": [
    "### Выводы  \n",
    "\n",
    "1. Пропусков и не обнаружено.\n",
    "2. Обработаны неявные дубликаты в колонке object_name. В остальных колонках дубликатов не обнаружено.\n",
    "3. В колонке object_type виды объектов питания \"предприятие быстрого обслуживания\" и \"магазин (отдел кулинарии)\" заменены на \"фастфуд\" и \"кулинария\".\n",
    "4. Удалено 85 явных дубликатов.\n",
    "5. Данные готовы для анализа."
   ]
  },
  {
   "cell_type": "markdown",
   "metadata": {},
   "source": [
    "## Исследовательский анализ данных"
   ]
  },
  {
   "cell_type": "markdown",
   "metadata": {},
   "source": [
    "### Количественное соотношение видов объектов общественного питания\n",
    "\n",
    "Исследуем соотношение видов объектов общественного питания по количеству."
   ]
  },
  {
   "cell_type": "code",
   "execution_count": 15,
   "metadata": {},
   "outputs": [
    {
     "data": {
      "image/png": "[encoded data removed]",
      "text/plain": [
       "<Figure size 864x504 with 1 Axes>"
      ]
     },
     "metadata": {},
     "output_type": "display_data"
    }
   ],
   "source": [
    "# сгруппируем по виду объекта и посчитаем для каждого количество заведений\n",
    "object_type = ( \n",
    "    data\n",
    "    .groupby('object_type')['id'].count()\n",
    "    .sort_values(ascending=False)\n",
    "    .reset_index()\n",
    ")\n",
    "\n",
    "sns.set(style='white', font_scale = 1.5) # псевдоним для sns.set_theme()\n",
    "plt.figure (figsize=(12, 7))\n",
    "ax = sns.barplot(x='id', y='object_type', data=object_type)\n",
    "plt.title('Количественное соотношение видов объектов общественного питания', size=16)\n",
    "plt.xlabel('Количество заведений', size=14)\n",
    "plt.ylabel('Вид объекта', size=14)\n",
    "plt.show()"
   ]
  },
  {
   "cell_type": "markdown",
   "metadata": {},
   "source": [
    "#### Вывод\n",
    "  \n",
    "Большая часть заведений относится к типу \"кафе\" - 6071. Следующие лидирующие типы отстают более, чем в 2 раза - \"столовая\" (2584), \"ресторан\" (2282) и \"фастфуд\" (1897)."
   ]
  },
  {
   "cell_type": "markdown",
   "metadata": {},
   "source": [
    "### Количественное соотношение сетевых и несетевых заведений\n",
    "\n",
    "Исследуем соотношение сетевых и несетевых заведений по количеству."
   ]
  },
  {
   "cell_type": "code",
   "execution_count": 16,
   "metadata": {},
   "outputs": [
    {
     "data": {
      "image/png": "[encoded data removed]",
      "text/plain": [
       "<Figure size 720x432 with 1 Axes>"
      ]
     },
     "metadata": {},
     "output_type": "display_data"
    }
   ],
   "source": [
    "chain = ( \n",
    "    data\n",
    "    .groupby('chain')\n",
    "    ['id'].count()\n",
    "    .sort_values(ascending=False)\n",
    "    .reset_index()\n",
    ")\n",
    "\n",
    "sns.set(style='white', font_scale = 1.3) \n",
    "plt.figure (figsize=(10, 6))\n",
    "ax = sns.barplot(x='chain', y='id', data=chain)\n",
    "plt.title('Количественное соотношение сетевых и несетевых заведений', size=16)\n",
    "plt.xlabel('Принадлежность к сети', size=14)\n",
    "plt.ylabel('Количество заведений', size=14)\n",
    "plt.show()"
   ]
  },
  {
   "cell_type": "markdown",
   "metadata": {},
   "source": [
    "#### Вывод\n",
    "  \n",
    "4/5 всех заведений не входит в какую-либо сеть."
   ]
  },
  {
   "cell_type": "markdown",
   "metadata": {},
   "source": [
    "### Доли сетевых заведений среди видов объектов общественного питания\n",
    "\n",
    "Определим для какого типа объекта общественного питания характерно сетевое распространение.\n",
    "\n",
    "Для начала посмотрим на количественное соотношение сетевых и не сетевых заведений для каждого вида."
   ]
  },
  {
   "cell_type": "code",
   "execution_count": 17,
   "metadata": {
    "scrolled": false
   },
   "outputs": [
    {
     "data": {
      "image/png": "[encoded data removed]",
      "text/plain": [
       "<Figure size 864x504 with 1 Axes>"
      ]
     },
     "metadata": {},
     "output_type": "display_data"
    }
   ],
   "source": [
    "object_type_chain = ( \n",
    "    data\n",
    "    .groupby(['object_type', 'chain'])\n",
    "    ['id'].count()\n",
    "    .sort_values(ascending=False)\n",
    "    .reset_index()\n",
    ")\n",
    "\n",
    "sns.set(style='white', font_scale = 1.5) \n",
    "plt.figure (figsize=(12, 7))\n",
    "ax = sns.barplot(x='id', y='object_type', data=object_type_chain, hue='chain')\n",
    "plt.title('Количество сетевых и несетевых заведений среди видов объектов общественного питания', size=16)\n",
    "plt.xlabel('Количество заведений', size=14)\n",
    "plt.ylabel('Вид объекта', size=14)\n",
    "plt.show()"
   ]
  },
  {
   "cell_type": "markdown",
   "metadata": {},
   "source": [
    "Самый популярный среди сетевых заведений вид объекта – «кафе»."
   ]
  },
  {
   "cell_type": "markdown",
   "metadata": {},
   "source": [
    "Далее посмотрим соотношения по долям."
   ]
  },
  {
   "cell_type": "code",
   "execution_count": 18,
   "metadata": {},
   "outputs": [
    {
     "data": {
      "text/html": [
       "<div>\n",
       "<style scoped>\n",
       "    .dataframe tbody tr th:only-of-type {\n",
       "        vertical-align: middle;\n",
       "    }\n",
       "\n",
       "    .dataframe tbody tr th {\n",
       "        vertical-align: top;\n",
       "    }\n",
       "\n",
       "    .dataframe thead th {\n",
       "        text-align: right;\n",
       "    }\n",
       "</style>\n",
       "<table border=\"1\" class=\"dataframe\">\n",
       "  <thead>\n",
       "    <tr style=\"text-align: right;\">\n",
       "      <th></th>\n",
       "      <th>object_type</th>\n",
       "      <th>ratio</th>\n",
       "    </tr>\n",
       "  </thead>\n",
       "  <tbody>\n",
       "    <tr>\n",
       "      <td>8</td>\n",
       "      <td>фастфуд</td>\n",
       "      <td>41.54</td>\n",
       "    </tr>\n",
       "    <tr>\n",
       "      <td>5</td>\n",
       "      <td>кулинария</td>\n",
       "      <td>28.57</td>\n",
       "    </tr>\n",
       "    <tr>\n",
       "      <td>6</td>\n",
       "      <td>ресторан</td>\n",
       "      <td>23.79</td>\n",
       "    </tr>\n",
       "    <tr>\n",
       "      <td>3</td>\n",
       "      <td>кафе</td>\n",
       "      <td>22.99</td>\n",
       "    </tr>\n",
       "    <tr>\n",
       "      <td>2</td>\n",
       "      <td>закусочная</td>\n",
       "      <td>16.09</td>\n",
       "    </tr>\n",
       "    <tr>\n",
       "      <td>4</td>\n",
       "      <td>кафетерий</td>\n",
       "      <td>13.16</td>\n",
       "    </tr>\n",
       "    <tr>\n",
       "      <td>0</td>\n",
       "      <td>бар</td>\n",
       "      <td>4.33</td>\n",
       "    </tr>\n",
       "    <tr>\n",
       "      <td>1</td>\n",
       "      <td>буфет</td>\n",
       "      <td>1.91</td>\n",
       "    </tr>\n",
       "    <tr>\n",
       "      <td>7</td>\n",
       "      <td>столовая</td>\n",
       "      <td>0.12</td>\n",
       "    </tr>\n",
       "  </tbody>\n",
       "</table>\n",
       "</div>"
      ],
      "text/plain": [
       "  object_type  ratio\n",
       "8     фастфуд  41.54\n",
       "5   кулинария  28.57\n",
       "6    ресторан  23.79\n",
       "3        кафе  22.99\n",
       "2  закусочная  16.09\n",
       "4   кафетерий  13.16\n",
       "0         бар   4.33\n",
       "1       буфет   1.91\n",
       "7    столовая   0.12"
      ]
     },
     "execution_count": 18,
     "metadata": {},
     "output_type": "execute_result"
    }
   ],
   "source": [
    "chains = data.pivot_table(index='object_type', values='id', columns='chain', aggfunc='count')\n",
    "\n",
    "# рассчитаем долю сетевых заведений для каждого вида объекта питания\n",
    "chains_share = (\n",
    "    ((chains['да'] / (chains['да'] \n",
    "                     + chains['нет'])) * 100)\n",
    "                     .reset_index()\n",
    ")\n",
    "chains_share.columns=['object_type','ratio']\n",
    "chains_share.sort_values(by='ratio', inplace=True, ascending=False)\n",
    "chains_share "
   ]
  },
  {
   "cell_type": "code",
   "execution_count": 19,
   "metadata": {},
   "outputs": [
    {
     "data": {
      "image/png": "[encoded data removed]",
      "text/plain": [
       "<Figure size 864x504 with 1 Axes>"
      ]
     },
     "metadata": {},
     "output_type": "display_data"
    }
   ],
   "source": [
    "sns.set(style='white', palette=\"GnBu_d\", font_scale = 1.5) # также sns.set_theme()\n",
    "plt.figure (figsize=(12, 7))\n",
    "ax = sns.barplot(x='ratio', y='object_type', data=chains_share)\n",
    "plt.title('Доли сетевых заведений среди видов объектов общественного питания', size=16)\n",
    "plt.xlabel('Проценты', size=14)\n",
    "plt.ylabel('Вид объекта', size=14)\n",
    "plt.show()"
   ]
  },
  {
   "cell_type": "markdown",
   "metadata": {},
   "source": [
    "#### Выводы \n",
    "\n",
    "1. Больше всего сетевых заведений относятся к виду \"кафе\" (1396 заведений), следом идут \"фастфуд\" (788) и \"ресторан\" (543).\n",
    "2. Наиболее характерно сетевое распространение для объектов вида \"фастфуд\" (41,5% от общего количества заведений этого вида). Также существенный процент имеют виды \"кулинария\" (28,5%), \"ресторан\" (23.7%) и \"кафе\" (23%)."
   ]
  },
  {
   "cell_type": "markdown",
   "metadata": {},
   "source": [
    "### Соотношение количества посадочных мест с количеством  сетевых заведений\n",
    "\n",
    "Выясним, что характерно для сетевых заведений: много заведений с небольшим числом посадочных мест в каждом или мало заведений с большим количеством посадочных мест?"
   ]
  },
  {
   "cell_type": "code",
   "execution_count": 20,
   "metadata": {},
   "outputs": [],
   "source": [
    "# срез по сететвым заведениям\n",
    "chain_yes = data.query('chain == \"да\"')\n",
    "# сгруппируем сетевые заведения и подсчитаем их количество и среднеее число посадочных мест\n",
    "chains = chain_yes.groupby('object_name').agg({'id': 'count', 'number': 'mean'})\n",
    "# оставим только сети с количеством заведений больше 1\n",
    "chains = chains.query('id > 1')\n",
    "\n",
    "# разделим заведения и количество мест по категоряим \"много\" и \"мало\"  \n",
    "# используем для деления посадочных мест медиану\n",
    "chains['rest_group'] = pd.qcut(chains['id'], q = [0, 0.5, 1], labels =['Мало заведений', 'Много заведений'])\n",
    "chains['num_group'] = pd.qcut(chains['number'], q = [0, 0.5, 1], labels = ['Мало мест','Много мест'])\n",
    "\n",
    "# добавим столбец с классификацией в исходный датафрейм\n",
    "chains['group'] = chains['rest_group'].astype(str) + ' - ' + chains['num_group'].astype(str)"
   ]
  },
  {
   "cell_type": "code",
   "execution_count": 21,
   "metadata": {},
   "outputs": [
    {
     "data": {
      "image/png": "[encoded data removed]",
      "text/plain": [
       "<Figure size 864x504 with 1 Axes>"
      ]
     },
     "metadata": {},
     "output_type": "display_data"
    }
   ],
   "source": [
    "# построим график\n",
    "sns.set(style='white', palette=\"bright\", font_scale = 1.5)\n",
    "plt.figure(figsize=(12, 7))\n",
    "ax = sns.scatterplot(x='id', y='number', hue='group', data=chains)\n",
    "plt.title('Соотношение количества посадочных мест с количеством сетевых заведений', size=16)\n",
    "plt.xlabel('Количество заведений', size=14)\n",
    "plt.ylabel('Среднее количество посадочных мест', size=14)\n",
    "plt.ylim(0, 150)\n",
    "plt.xlim(0, 100)\n",
    "plt.show()"
   ]
  },
  {
   "cell_type": "markdown",
   "metadata": {},
   "source": [
    "#### Вывод \n",
    "  \n",
    "Для сетевых заведений характерно сочетание \"мало заведений - мало мест\" и \"много заведений - мало мест\"."
   ]
  },
  {
   "cell_type": "markdown",
   "metadata": {},
   "source": [
    "### Среднее количество посадочных мест по типам объектов\n",
    "\n",
    "Опишем для каждого типа объекта общественного питания среднее количество посадочных мест. Какой вид предоставляет в среднем самое большое количество посадочных мест?"
   ]
  },
  {
   "cell_type": "code",
   "execution_count": 22,
   "metadata": {},
   "outputs": [
    {
     "data": {
      "image/png": "[encoded data removed]",
      "text/plain": [
       "<Figure size 864x504 with 1 Axes>"
      ]
     },
     "metadata": {},
     "output_type": "display_data"
    }
   ],
   "source": [
    "# сгруппируем по типу и посчитаем среднее значение посадочных мест\n",
    "object_type_number = ( data\n",
    "                      .groupby('object_type')\n",
    "                      ['number'].mean()\n",
    "                      .sort_values(ascending=False)\n",
    "                      .reset_index()\n",
    "                     )\n",
    "\n",
    "# построим барплот\n",
    "sns.set(style='white', palette='muted', font_scale=1.5)\n",
    "plt.figure(figsize=(12,7))\n",
    "ax = sns.barplot(x='number', y='object_type', data=object_type_number)\n",
    "plt.title('Среднее количество посадочных мест по типам объектов', size=16)\n",
    "plt.xlabel('Виды объектов питания', size=14)\n",
    "plt.ylabel('Количество посадочных мест', size=14)\n",
    "plt.show()"
   ]
  },
  {
   "cell_type": "code",
   "execution_count": 23,
   "metadata": {},
   "outputs": [
    {
     "data": {
      "text/html": [
       "<div>\n",
       "<style scoped>\n",
       "    .dataframe tbody tr th:only-of-type {\n",
       "        vertical-align: middle;\n",
       "    }\n",
       "\n",
       "    .dataframe tbody tr th {\n",
       "        vertical-align: top;\n",
       "    }\n",
       "\n",
       "    .dataframe thead th {\n",
       "        text-align: right;\n",
       "    }\n",
       "</style>\n",
       "<table border=\"1\" class=\"dataframe\">\n",
       "  <thead>\n",
       "    <tr style=\"text-align: right;\">\n",
       "      <th></th>\n",
       "      <th>object_type</th>\n",
       "      <th>number</th>\n",
       "    </tr>\n",
       "  </thead>\n",
       "  <tbody>\n",
       "    <tr>\n",
       "      <td>0</td>\n",
       "      <td>столовая</td>\n",
       "      <td>130.34</td>\n",
       "    </tr>\n",
       "    <tr>\n",
       "      <td>1</td>\n",
       "      <td>ресторан</td>\n",
       "      <td>96.88</td>\n",
       "    </tr>\n",
       "    <tr>\n",
       "      <td>2</td>\n",
       "      <td>буфет</td>\n",
       "      <td>51.43</td>\n",
       "    </tr>\n",
       "    <tr>\n",
       "      <td>3</td>\n",
       "      <td>бар</td>\n",
       "      <td>43.53</td>\n",
       "    </tr>\n",
       "    <tr>\n",
       "      <td>4</td>\n",
       "      <td>кафе</td>\n",
       "      <td>39.79</td>\n",
       "    </tr>\n",
       "    <tr>\n",
       "      <td>5</td>\n",
       "      <td>фастфуд</td>\n",
       "      <td>20.81</td>\n",
       "    </tr>\n",
       "    <tr>\n",
       "      <td>6</td>\n",
       "      <td>кафетерий</td>\n",
       "      <td>9.18</td>\n",
       "    </tr>\n",
       "    <tr>\n",
       "      <td>7</td>\n",
       "      <td>закусочная</td>\n",
       "      <td>7.85</td>\n",
       "    </tr>\n",
       "    <tr>\n",
       "      <td>8</td>\n",
       "      <td>кулинария</td>\n",
       "      <td>5.59</td>\n",
       "    </tr>\n",
       "  </tbody>\n",
       "</table>\n",
       "</div>"
      ],
      "text/plain": [
       "  object_type  number\n",
       "0    столовая  130.34\n",
       "1    ресторан   96.88\n",
       "2       буфет   51.43\n",
       "3         бар   43.53\n",
       "4        кафе   39.79\n",
       "5     фастфуд   20.81\n",
       "6   кафетерий    9.18\n",
       "7  закусочная    7.85\n",
       "8   кулинария    5.59"
      ]
     },
     "execution_count": 23,
     "metadata": {},
     "output_type": "execute_result"
    }
   ],
   "source": [
    "object_type_number"
   ]
  },
  {
   "cell_type": "markdown",
   "metadata": {},
   "source": [
    "#### Вывод \n",
    "  \n",
    "В среднем больше всего посадочных мест в столовых - 130. Следом идут рестораны - 96. "
   ]
  },
  {
   "cell_type": "markdown",
   "metadata": {},
   "source": [
    "### Создание колонки \"street\"\n",
    "\n",
    "Выделим в отдельный столбец информацию об улице из столбца address. "
   ]
  },
  {
   "cell_type": "code",
   "execution_count": 24,
   "metadata": {},
   "outputs": [],
   "source": [
    "# список для со проверочными словами для определения улицы в строке\n",
    "list_for_street = ['проспект', \"площадь\", \"улица\", \"шоссе\", \n",
    "                   \"бульвар\", 'переулок','набережная','проезд','Зеленоград',\n",
    "                   'тупик','микрорайон','территория','километр','посёлок','деревня'\n",
    "                   ,'аллея','просек','линия','квартал','село','вблизи' ]\n",
    "\n",
    "'''\n",
    "Функция get_street(row) принимает строку, возвращает ее часть с улицей из списка list_for_street.\n",
    "'''\n",
    "\n",
    "def get_street(row):\n",
    "    address = row['address'].split(', ') # разделяем строку с адресом на части методом split()\n",
    "    parts = len(address) # считаем количество получившихся частей разделенного адреса    \n",
    "    try:\n",
    "        for item in list_for_street: \n",
    "            for i in range(parts):\n",
    "                if item in address[i]:  \n",
    "                    return address[i]\n",
    "    except:\n",
    "        return 'Error'\n",
    "\n",
    "# создаем столбец 'street' \n",
    "data['street'] = data.apply(get_street, axis=1)\n",
    "#data.sample(10)"
   ]
  },
  {
   "cell_type": "markdown",
   "metadata": {},
   "source": [
    "### Топ-10 улиц по количеству объектов общественного питания\n",
    "\n",
    "Построим график топ-10 улиц по количеству объектов общественного питания."
   ]
  },
  {
   "cell_type": "code",
   "execution_count": 25,
   "metadata": {},
   "outputs": [
    {
     "data": {
      "image/png": "[encoded data removed]",
      "text/plain": [
       "<Figure size 864x504 with 1 Axes>"
      ]
     },
     "metadata": {},
     "output_type": "display_data"
    },
    {
     "data": {
      "text/html": [
       "<div>\n",
       "<style scoped>\n",
       "    .dataframe tbody tr th:only-of-type {\n",
       "        vertical-align: middle;\n",
       "    }\n",
       "\n",
       "    .dataframe tbody tr th {\n",
       "        vertical-align: top;\n",
       "    }\n",
       "\n",
       "    .dataframe thead th {\n",
       "        text-align: right;\n",
       "    }\n",
       "</style>\n",
       "<table border=\"1\" class=\"dataframe\">\n",
       "  <thead>\n",
       "    <tr style=\"text-align: right;\">\n",
       "      <th></th>\n",
       "      <th>street</th>\n",
       "      <th>object_name</th>\n",
       "    </tr>\n",
       "  </thead>\n",
       "  <tbody>\n",
       "    <tr>\n",
       "      <td>0</td>\n",
       "      <td>проспект Мира</td>\n",
       "      <td>203</td>\n",
       "    </tr>\n",
       "    <tr>\n",
       "      <td>1</td>\n",
       "      <td>Профсоюзная улица</td>\n",
       "      <td>182</td>\n",
       "    </tr>\n",
       "    <tr>\n",
       "      <td>2</td>\n",
       "      <td>Ленинградский проспект</td>\n",
       "      <td>172</td>\n",
       "    </tr>\n",
       "    <tr>\n",
       "      <td>3</td>\n",
       "      <td>Пресненская набережная</td>\n",
       "      <td>167</td>\n",
       "    </tr>\n",
       "    <tr>\n",
       "      <td>4</td>\n",
       "      <td>Варшавское шоссе</td>\n",
       "      <td>165</td>\n",
       "    </tr>\n",
       "    <tr>\n",
       "      <td>5</td>\n",
       "      <td>Ленинский проспект</td>\n",
       "      <td>148</td>\n",
       "    </tr>\n",
       "    <tr>\n",
       "      <td>6</td>\n",
       "      <td>проспект Вернадского</td>\n",
       "      <td>128</td>\n",
       "    </tr>\n",
       "    <tr>\n",
       "      <td>7</td>\n",
       "      <td>Кутузовский проспект</td>\n",
       "      <td>114</td>\n",
       "    </tr>\n",
       "    <tr>\n",
       "      <td>8</td>\n",
       "      <td>Каширское шоссе</td>\n",
       "      <td>111</td>\n",
       "    </tr>\n",
       "    <tr>\n",
       "      <td>9</td>\n",
       "      <td>Кировоградская улица</td>\n",
       "      <td>108</td>\n",
       "    </tr>\n",
       "  </tbody>\n",
       "</table>\n",
       "</div>"
      ],
      "text/plain": [
       "                   street  object_name\n",
       "0           проспект Мира          203\n",
       "1       Профсоюзная улица          182\n",
       "2  Ленинградский проспект          172\n",
       "3  Пресненская набережная          167\n",
       "4        Варшавское шоссе          165\n",
       "5      Ленинский проспект          148\n",
       "6    проспект Вернадского          128\n",
       "7    Кутузовский проспект          114\n",
       "8         Каширское шоссе          111\n",
       "9    Кировоградская улица          108"
      ]
     },
     "execution_count": 25,
     "metadata": {},
     "output_type": "execute_result"
    }
   ],
   "source": [
    "# сгруппируем по улице с подсчетом уникальных значений и сортировкой \n",
    "# оставим 10 строк без города Зеленограда\n",
    "top_10_streets = ( data\n",
    "                  .query('street not in \"город Зеленоград\"')\n",
    "                  .groupby('street')\n",
    "                  ['object_name'].count()\n",
    "                  .sort_values(ascending=False)\n",
    "                  .reset_index()\n",
    "                  .head(10)\n",
    "                 )\n",
    "\n",
    "# построим барплот\n",
    "sns.set(style='white', palette='Paired', font_scale=1.5)\n",
    "plt.figure(figsize=(12,7))\n",
    "ax = sns.barplot(x='object_name', y='street', data=top_10_streets)\n",
    "plt.title('Топ-10 улиц по количеству объектов общественного питания', size=16)\n",
    "plt.xlabel('количество объектов общественного питания', size=14)\n",
    "plt.ylabel('названия улиц', size=14)\n",
    "plt.show()\n",
    "\n",
    "top_10_streets"
   ]
  },
  {
   "cell_type": "markdown",
   "metadata": {},
   "source": [
    "#### Вывод \n",
    "  \n",
    "Больше всего заведений на проспекте Мира - 203. Следующая улица по количеству объектов - Профсоюзная, на ней расположено 182 заведения."
   ]
  },
  {
   "cell_type": "markdown",
   "metadata": {},
   "source": [
    "### Датафрейм rest_data с районами Москвы \n",
    "\n",
    "Выясним в каких районах Москвы находятся эти улицы. Для этого воспользуемся порталом открытых данных правительства Москвы https://data.mos.ru/opendata/7710881420-obshchestvennoe-pitanie-v-moskve/row/637376221?versionNumber=1&releaseNumber=86"
   ]
  },
  {
   "cell_type": "code",
   "execution_count": 26,
   "metadata": {},
   "outputs": [
    {
     "data": {
      "text/html": [
       "<div>\n",
       "<style scoped>\n",
       "    .dataframe tbody tr th:only-of-type {\n",
       "        vertical-align: middle;\n",
       "    }\n",
       "\n",
       "    .dataframe tbody tr th {\n",
       "        vertical-align: top;\n",
       "    }\n",
       "\n",
       "    .dataframe thead th {\n",
       "        text-align: right;\n",
       "    }\n",
       "</style>\n",
       "<table border=\"1\" class=\"dataframe\">\n",
       "  <thead>\n",
       "    <tr style=\"text-align: right;\">\n",
       "      <th></th>\n",
       "      <th>id</th>\n",
       "      <th>name</th>\n",
       "      <th>global_id</th>\n",
       "      <th>isnetobject</th>\n",
       "      <th>operatingcompany</th>\n",
       "      <th>typeobject</th>\n",
       "      <th>admarea</th>\n",
       "      <th>district</th>\n",
       "      <th>address</th>\n",
       "      <th>publicphone</th>\n",
       "      <th>seatscount</th>\n",
       "      <th>socialprivileges</th>\n",
       "      <th>longitude_wgs84</th>\n",
       "      <th>latitude_wgs84</th>\n",
       "      <th>id_en</th>\n",
       "      <th>name_en</th>\n",
       "      <th>isnetobject_en</th>\n",
       "      <th>operatingcompany_en</th>\n",
       "      <th>typeobject_en</th>\n",
       "      <th>admarea_en</th>\n",
       "      <th>district_en</th>\n",
       "      <th>address_en</th>\n",
       "      <th>publicphone_en</th>\n",
       "      <th>seatscount_en</th>\n",
       "      <th>socialprivileges_en</th>\n",
       "      <th>longitude_wgs84_en</th>\n",
       "      <th>latitude_wgs84_en</th>\n",
       "      <th>geodata_center</th>\n",
       "      <th>geoarea</th>\n",
       "      <th>street</th>\n",
       "    </tr>\n",
       "  </thead>\n",
       "  <tbody>\n",
       "    <tr>\n",
       "      <td>13445</td>\n",
       "      <td>00305703</td>\n",
       "      <td>Остров Кофе</td>\n",
       "      <td>1125492449</td>\n",
       "      <td>нет</td>\n",
       "      <td>NaN</td>\n",
       "      <td>кафетерий</td>\n",
       "      <td>Новомосковский административный округ</td>\n",
       "      <td>поселение Сосенское</td>\n",
       "      <td>город Москва, поселение Сосенское, бульвар Вел...</td>\n",
       "      <td>PublicPhone:(901) 566-39-01\\n\\n</td>\n",
       "      <td>6</td>\n",
       "      <td>нет</td>\n",
       "      <td>37.4625790000000190</td>\n",
       "      <td>55.5928847103972930</td>\n",
       "      <td>NaN</td>\n",
       "      <td>NaN</td>\n",
       "      <td>NaN</td>\n",
       "      <td>NaN</td>\n",
       "      <td>NaN</td>\n",
       "      <td>NaN</td>\n",
       "      <td>NaN</td>\n",
       "      <td>NaN</td>\n",
       "      <td>NaN</td>\n",
       "      <td>NaN</td>\n",
       "      <td>NaN</td>\n",
       "      <td>NaN</td>\n",
       "      <td>NaN</td>\n",
       "      <td>{\"coordinates\":[37.462579,55.5928847103973],\"t...</td>\n",
       "      <td>NaN</td>\n",
       "      <td>бульвар Веласкеса</td>\n",
       "    </tr>\n",
       "  </tbody>\n",
       "</table>\n",
       "</div>"
      ],
      "text/plain": [
       "             id         name   global_id isnetobject operatingcompany  \\\n",
       "13445  00305703  Остров Кофе  1125492449         нет              NaN   \n",
       "\n",
       "      typeobject                                admarea             district  \\\n",
       "13445  кафетерий  Новомосковский административный округ  поселение Сосенское   \n",
       "\n",
       "                                                 address  \\\n",
       "13445  город Москва, поселение Сосенское, бульвар Вел...   \n",
       "\n",
       "                           publicphone seatscount socialprivileges  \\\n",
       "13445  PublicPhone:(901) 566-39-01\\n\\n          6              нет   \n",
       "\n",
       "           longitude_wgs84       latitude_wgs84 id_en name_en isnetobject_en  \\\n",
       "13445  37.4625790000000190  55.5928847103972930   NaN     NaN            NaN   \n",
       "\n",
       "      operatingcompany_en typeobject_en admarea_en district_en address_en  \\\n",
       "13445                 NaN           NaN        NaN         NaN        NaN   \n",
       "\n",
       "      publicphone_en seatscount_en socialprivileges_en longitude_wgs84_en  \\\n",
       "13445            NaN           NaN                 NaN                NaN   \n",
       "\n",
       "      latitude_wgs84_en                                     geodata_center  \\\n",
       "13445               NaN  {\"coordinates\":[37.462579,55.5928847103973],\"t...   \n",
       "\n",
       "      geoarea             street  \n",
       "13445     NaN  бульвар Веласкеса  "
      ]
     },
     "execution_count": 26,
     "metadata": {},
     "output_type": "execute_result"
    }
   ],
   "source": [
    "# id гугл таблицы с базой заведений с портала\n",
    "spreadsheet_id = \"1xU4RtC9b-u7F9yGQ7YipjtY8fQgufHH92rE_aFI2ujM\"\n",
    "# форматированный адрес таблицы\n",
    "file_name = 'https://docs.google.com/spreadsheets/d/{}/export?format=csv'.format(spreadsheet_id)\n",
    "# метод ввода таблицы \n",
    "r = requests.get(file_name)\n",
    "# новый датафрейм с импортированным в csv таблицей\n",
    "df = pd.read_csv(BytesIO(r.content))\n",
    "# приводим названия колонок к нижнему регистру\n",
    "df.columns = df.columns.str.lower()\n",
    "# создаем столбец 'street' \n",
    "df['street'] = df.apply(get_street, axis=1)\n",
    "df.sample()"
   ]
  },
  {
   "cell_type": "markdown",
   "metadata": {},
   "source": [
    "Объединим таблицу с портала правительства Москвы df с нашим датафреймом data в новый датафрейм rest_data."
   ]
  },
  {
   "cell_type": "code",
   "execution_count": 27,
   "metadata": {
    "scrolled": false
   },
   "outputs": [],
   "source": [
    "rest_data = data.merge(df, on='street', how='left')\n",
    "rest_data.sample()\n",
    "# оставим нужные колонки\n",
    "rest_data = rest_data[['id_x', 'object_name', 'chain', 'object_type', 'address_x', 'number', 'street', 'admarea', 'district']]\n",
    "# переименуем колонки\n",
    "rest_data = rest_data.rename(columns={'id_x':'id', 'address_x':'address', 'admarea':'adm_area'})\n",
    "\n",
    "# осмотрим датафрейм\n",
    "# info_dataframe(rest_data)"
   ]
  },
  {
   "cell_type": "code",
   "execution_count": 28,
   "metadata": {},
   "outputs": [
    {
     "data": {
      "text/plain": [
       "'Количество пропусков в датафреме rest_data:'"
      ]
     },
     "metadata": {},
     "output_type": "display_data"
    },
    {
     "data": {
      "text/plain": [
       "id               0\n",
       "object_name      0\n",
       "chain            0\n",
       "object_type      0\n",
       "address          0\n",
       "number           0\n",
       "street           0\n",
       "adm_area       258\n",
       "district       258\n",
       "dtype: int64"
      ]
     },
     "metadata": {},
     "output_type": "display_data"
    }
   ],
   "source": [
    "display('Количество пропусков в датафреме rest_data:', rest_data.isna().sum())"
   ]
  },
  {
   "cell_type": "code",
   "execution_count": 29,
   "metadata": {},
   "outputs": [
    {
     "data": {
      "text/plain": [
       "'Количество пропусков в датафреме rest_data после обработки:'"
      ]
     },
     "metadata": {},
     "output_type": "display_data"
    },
    {
     "data": {
      "text/plain": [
       "id             0\n",
       "object_name    0\n",
       "chain          0\n",
       "object_type    0\n",
       "address        0\n",
       "number         0\n",
       "street         0\n",
       "adm_area       0\n",
       "district       0\n",
       "dtype: int64"
      ]
     },
     "metadata": {},
     "output_type": "display_data"
    }
   ],
   "source": [
    "rest_data = rest_data.dropna()\n",
    "display('Количество пропусков в датафреме rest_data после обработки:', rest_data.isna().sum())"
   ]
  },
  {
   "cell_type": "code",
   "execution_count": 30,
   "metadata": {},
   "outputs": [
    {
     "name": "stdout",
     "output_type": "stream",
     "text": [
      "Явных дубликатов в датафреме rest_data до: 661617\n",
      "Явных дубликатов в датафреме rest_data после обработки: 0\n",
      "Количество явных дубликатов в датафреме rest_data без колонки \"id\": 0\n",
      "Количество явных дубликатов в датафреме rest_data без колонки \"id\" после обработки: 0\n"
     ]
    }
   ],
   "source": [
    "print('Явных дубликатов в датафреме rest_data до:', rest_data.duplicated().sum())\n",
    "\n",
    "# удаляем дубликаты, для сохранения порядка индексации применим функцию reset_index()\n",
    "rest_data = rest_data.drop_duplicates().reset_index(drop=True)\n",
    "\n",
    "print('Явных дубликатов в датафреме rest_data после обработки:', rest_data.duplicated().sum())\n",
    "\n",
    "print('Количество явных дубликатов в датафреме rest_data без колонки \"id\":', rest_data.duplicated(subset=['object_name', 'chain', 'object_type', 'address', 'number', 'street', 'adm_area', 'district']).sum())\n",
    "\n",
    "rest_data = rest_data.drop_duplicates(subset=['object_name', 'chain', 'object_type', 'address', 'number']).reset_index(drop=True)\n",
    "\n",
    "print('Количество явных дубликатов в датафреме rest_data без колонки \"id\" после обработки:', rest_data.duplicated(subset=['object_name', 'chain', 'object_type', 'address', 'number', 'street', 'adm_area', 'district']).sum())\n"
   ]
  },
  {
   "cell_type": "code",
   "execution_count": 31,
   "metadata": {},
   "outputs": [
    {
     "data": {
      "text/plain": [
       "'5 рандомных строк таблицы:'"
      ]
     },
     "metadata": {},
     "output_type": "display_data"
    },
    {
     "data": {
      "text/html": [
       "<div>\n",
       "<style scoped>\n",
       "    .dataframe tbody tr th:only-of-type {\n",
       "        vertical-align: middle;\n",
       "    }\n",
       "\n",
       "    .dataframe tbody tr th {\n",
       "        vertical-align: top;\n",
       "    }\n",
       "\n",
       "    .dataframe thead th {\n",
       "        text-align: right;\n",
       "    }\n",
       "</style>\n",
       "<table border=\"1\" class=\"dataframe\">\n",
       "  <thead>\n",
       "    <tr style=\"text-align: right;\">\n",
       "      <th></th>\n",
       "      <th>id</th>\n",
       "      <th>object_name</th>\n",
       "      <th>chain</th>\n",
       "      <th>object_type</th>\n",
       "      <th>address</th>\n",
       "      <th>number</th>\n",
       "      <th>street</th>\n",
       "      <th>adm_area</th>\n",
       "      <th>district</th>\n",
       "    </tr>\n",
       "  </thead>\n",
       "  <tbody>\n",
       "    <tr>\n",
       "      <td>0</td>\n",
       "      <td>151635</td>\n",
       "      <td>сметана</td>\n",
       "      <td>нет</td>\n",
       "      <td>кафе</td>\n",
       "      <td>город Москва, улица Егора Абакумова, дом 9</td>\n",
       "      <td>48</td>\n",
       "      <td>улица Егора Абакумова</td>\n",
       "      <td>Северо-Восточный административный округ</td>\n",
       "      <td>Ярославский район</td>\n",
       "    </tr>\n",
       "    <tr>\n",
       "      <td>1</td>\n",
       "      <td>77874</td>\n",
       "      <td>родник</td>\n",
       "      <td>нет</td>\n",
       "      <td>кафе</td>\n",
       "      <td>город Москва, улица Талалихина, дом 2/1, корпус 1</td>\n",
       "      <td>35</td>\n",
       "      <td>улица Талалихина</td>\n",
       "      <td>Центральный административный округ</td>\n",
       "      <td>Таганский район</td>\n",
       "    </tr>\n",
       "    <tr>\n",
       "      <td>2</td>\n",
       "      <td>24309</td>\n",
       "      <td>кафе академия</td>\n",
       "      <td>нет</td>\n",
       "      <td>кафе</td>\n",
       "      <td>город Москва, Абельмановская улица, дом 6</td>\n",
       "      <td>95</td>\n",
       "      <td>Абельмановская улица</td>\n",
       "      <td>Центральный административный округ</td>\n",
       "      <td>Таганский район</td>\n",
       "    </tr>\n",
       "    <tr>\n",
       "      <td>3</td>\n",
       "      <td>21894</td>\n",
       "      <td>пиццетория</td>\n",
       "      <td>да</td>\n",
       "      <td>кафе</td>\n",
       "      <td>город Москва, Абрамцевская улица, дом 1</td>\n",
       "      <td>40</td>\n",
       "      <td>Абрамцевская улица</td>\n",
       "      <td>Северо-Восточный административный округ</td>\n",
       "      <td>район Лианозово</td>\n",
       "    </tr>\n",
       "    <tr>\n",
       "      <td>4</td>\n",
       "      <td>119365</td>\n",
       "      <td>кафе вишневая метель</td>\n",
       "      <td>нет</td>\n",
       "      <td>кафе</td>\n",
       "      <td>город Москва, Абрамцевская улица, дом 9, корпус 1</td>\n",
       "      <td>50</td>\n",
       "      <td>Абрамцевская улица</td>\n",
       "      <td>Северо-Восточный административный округ</td>\n",
       "      <td>район Лианозово</td>\n",
       "    </tr>\n",
       "  </tbody>\n",
       "</table>\n",
       "</div>"
      ],
      "text/plain": [
       "       id           object_name chain object_type  \\\n",
       "0  151635               сметана   нет        кафе   \n",
       "1   77874                родник   нет        кафе   \n",
       "2   24309         кафе академия   нет        кафе   \n",
       "3   21894            пиццетория    да        кафе   \n",
       "4  119365  кафе вишневая метель   нет        кафе   \n",
       "\n",
       "                                             address  number  \\\n",
       "0         город Москва, улица Егора Абакумова, дом 9      48   \n",
       "1  город Москва, улица Талалихина, дом 2/1, корпус 1      35   \n",
       "2          город Москва, Абельмановская улица, дом 6      95   \n",
       "3            город Москва, Абрамцевская улица, дом 1      40   \n",
       "4  город Москва, Абрамцевская улица, дом 9, корпус 1      50   \n",
       "\n",
       "                  street                                 adm_area  \\\n",
       "0  улица Егора Абакумова  Северо-Восточный административный округ   \n",
       "1       улица Талалихина       Центральный административный округ   \n",
       "2   Абельмановская улица       Центральный административный округ   \n",
       "3     Абрамцевская улица  Северо-Восточный административный округ   \n",
       "4     Абрамцевская улица  Северо-Восточный административный округ   \n",
       "\n",
       "            district  \n",
       "0  Ярославский район  \n",
       "1    Таганский район  \n",
       "2    Таганский район  \n",
       "3    район Лианозово  \n",
       "4    район Лианозово  "
      ]
     },
     "metadata": {},
     "output_type": "display_data"
    },
    {
     "data": {
      "text/plain": [
       "'Статистика данных:'"
      ]
     },
     "metadata": {},
     "output_type": "display_data"
    },
    {
     "data": {
      "text/html": [
       "<div>\n",
       "<style scoped>\n",
       "    .dataframe tbody tr th:only-of-type {\n",
       "        vertical-align: middle;\n",
       "    }\n",
       "\n",
       "    .dataframe tbody tr th {\n",
       "        vertical-align: top;\n",
       "    }\n",
       "\n",
       "    .dataframe thead th {\n",
       "        text-align: right;\n",
       "    }\n",
       "</style>\n",
       "<table border=\"1\" class=\"dataframe\">\n",
       "  <thead>\n",
       "    <tr style=\"text-align: right;\">\n",
       "      <th></th>\n",
       "      <th>count</th>\n",
       "      <th>mean</th>\n",
       "      <th>std</th>\n",
       "      <th>min</th>\n",
       "      <th>25%</th>\n",
       "      <th>50%</th>\n",
       "      <th>75%</th>\n",
       "      <th>max</th>\n",
       "    </tr>\n",
       "  </thead>\n",
       "  <tbody>\n",
       "    <tr>\n",
       "      <td>id</td>\n",
       "      <td>15023.00</td>\n",
       "      <td>119953.61</td>\n",
       "      <td>72990.28</td>\n",
       "      <td>838.00</td>\n",
       "      <td>28567.50</td>\n",
       "      <td>145354.00</td>\n",
       "      <td>184377.00</td>\n",
       "      <td>223439.00</td>\n",
       "    </tr>\n",
       "    <tr>\n",
       "      <td>number</td>\n",
       "      <td>15023.00</td>\n",
       "      <td>59.84</td>\n",
       "      <td>75.08</td>\n",
       "      <td>0.00</td>\n",
       "      <td>12.50</td>\n",
       "      <td>40.00</td>\n",
       "      <td>80.00</td>\n",
       "      <td>1700.00</td>\n",
       "    </tr>\n",
       "  </tbody>\n",
       "</table>\n",
       "</div>"
      ],
      "text/plain": [
       "          count      mean      std    min      25%       50%       75%  \\\n",
       "id     15023.00 119953.61 72990.28 838.00 28567.50 145354.00 184377.00   \n",
       "number 15023.00     59.84    75.08   0.00    12.50     40.00     80.00   \n",
       "\n",
       "             max  \n",
       "id     223439.00  \n",
       "number   1700.00  "
      ]
     },
     "metadata": {},
     "output_type": "display_data"
    },
    {
     "data": {
      "text/html": [
       "<div>\n",
       "<style scoped>\n",
       "    .dataframe tbody tr th:only-of-type {\n",
       "        vertical-align: middle;\n",
       "    }\n",
       "\n",
       "    .dataframe tbody tr th {\n",
       "        vertical-align: top;\n",
       "    }\n",
       "\n",
       "    .dataframe thead th {\n",
       "        text-align: right;\n",
       "    }\n",
       "</style>\n",
       "<table border=\"1\" class=\"dataframe\">\n",
       "  <thead>\n",
       "    <tr style=\"text-align: right;\">\n",
       "      <th></th>\n",
       "      <th>count</th>\n",
       "      <th>unique</th>\n",
       "      <th>top</th>\n",
       "      <th>freq</th>\n",
       "    </tr>\n",
       "  </thead>\n",
       "  <tbody>\n",
       "    <tr>\n",
       "      <td>object_name</td>\n",
       "      <td>15023</td>\n",
       "      <td>9446</td>\n",
       "      <td>столовая</td>\n",
       "      <td>303</td>\n",
       "    </tr>\n",
       "    <tr>\n",
       "      <td>chain</td>\n",
       "      <td>15023</td>\n",
       "      <td>2</td>\n",
       "      <td>нет</td>\n",
       "      <td>12075</td>\n",
       "    </tr>\n",
       "    <tr>\n",
       "      <td>object_type</td>\n",
       "      <td>15023</td>\n",
       "      <td>9</td>\n",
       "      <td>кафе</td>\n",
       "      <td>5973</td>\n",
       "    </tr>\n",
       "    <tr>\n",
       "      <td>address</td>\n",
       "      <td>15023</td>\n",
       "      <td>8882</td>\n",
       "      <td>город Москва, Ходынский бульвар, дом 4</td>\n",
       "      <td>95</td>\n",
       "    </tr>\n",
       "    <tr>\n",
       "      <td>street</td>\n",
       "      <td>15023</td>\n",
       "      <td>1796</td>\n",
       "      <td>проспект Мира</td>\n",
       "      <td>203</td>\n",
       "    </tr>\n",
       "    <tr>\n",
       "      <td>adm_area</td>\n",
       "      <td>15023</td>\n",
       "      <td>12</td>\n",
       "      <td>Центральный административный округ</td>\n",
       "      <td>4584</td>\n",
       "    </tr>\n",
       "    <tr>\n",
       "      <td>district</td>\n",
       "      <td>15023</td>\n",
       "      <td>145</td>\n",
       "      <td>Тверской район</td>\n",
       "      <td>803</td>\n",
       "    </tr>\n",
       "  </tbody>\n",
       "</table>\n",
       "</div>"
      ],
      "text/plain": [
       "             count unique                                     top   freq\n",
       "object_name  15023   9446                                столовая    303\n",
       "chain        15023      2                                     нет  12075\n",
       "object_type  15023      9                                    кафе   5973\n",
       "address      15023   8882  город Москва, Ходынский бульвар, дом 4     95\n",
       "street       15023   1796                           проспект Мира    203\n",
       "adm_area     15023     12      Центральный административный округ   4584\n",
       "district     15023    145                          Тверской район    803"
      ]
     },
     "metadata": {},
     "output_type": "display_data"
    },
    {
     "data": {
      "text/plain": [
       "'Общая информация о данных:'"
      ]
     },
     "metadata": {},
     "output_type": "display_data"
    },
    {
     "name": "stdout",
     "output_type": "stream",
     "text": [
      "<class 'pandas.core.frame.DataFrame'>\n",
      "RangeIndex: 15023 entries, 0 to 15022\n",
      "Data columns (total 9 columns):\n",
      "id             15023 non-null int64\n",
      "object_name    15023 non-null object\n",
      "chain          15023 non-null object\n",
      "object_type    15023 non-null object\n",
      "address        15023 non-null object\n",
      "number         15023 non-null int64\n",
      "street         15023 non-null object\n",
      "adm_area       15023 non-null object\n",
      "district       15023 non-null object\n",
      "dtypes: int64(2), object(7)\n",
      "memory usage: 1.0+ MB\n"
     ]
    }
   ],
   "source": [
    "# осмотрим датафрейм после обработки\n",
    "info_dataframe(rest_data)"
   ]
  },
  {
   "cell_type": "markdown",
   "metadata": {},
   "source": [
    "**Таблица rest_data**\n",
    "\n",
    "- id — идентификатор объекта;\n",
    "- object_name — название объекта общественного питания;\n",
    "- chain — сетевой ресторан;\n",
    "- object_type — тип объекта общественного питания;\n",
    "- address — адрес;\n",
    "- number — количество посадочных мест;\n",
    "- street - улица из адреса;\n",
    "- adm_area - административный округ;\n",
    "- district - район."
   ]
  },
  {
   "cell_type": "markdown",
   "metadata": {},
   "source": [
    "#### Выводы\n",
    "  \n",
    "1. Был создан новый датафрейм rest_data, объединивший таблицу с портала правительства Москвы df с районами Москвы по улицам и датафрейм data.\n",
    "2. Датафрейм был обработан от пропусков и дубликатов.\n",
    "3. Типы данных соответствуют значениям в колонках."
   ]
  },
  {
   "cell_type": "markdown",
   "metadata": {},
   "source": [
    "### Районы топ-10 улиц по количеству объектов общественного питания"
   ]
  },
  {
   "cell_type": "markdown",
   "metadata": {},
   "source": [
    "Построим барплот по районам топ-10 улиц."
   ]
  },
  {
   "cell_type": "code",
   "execution_count": 32,
   "metadata": {},
   "outputs": [
    {
     "data": {
      "image/png": "[encoded data removed]",
      "text/plain": [
       "<Figure size 864x504 with 1 Axes>"
      ]
     },
     "metadata": {},
     "output_type": "display_data"
    },
    {
     "data": {
      "text/html": [
       "<div>\n",
       "<style scoped>\n",
       "    .dataframe tbody tr th:only-of-type {\n",
       "        vertical-align: middle;\n",
       "    }\n",
       "\n",
       "    .dataframe tbody tr th {\n",
       "        vertical-align: top;\n",
       "    }\n",
       "\n",
       "    .dataframe thead th {\n",
       "        text-align: right;\n",
       "    }\n",
       "</style>\n",
       "<table border=\"1\" class=\"dataframe\">\n",
       "  <thead>\n",
       "    <tr style=\"text-align: right;\">\n",
       "      <th></th>\n",
       "      <th>street</th>\n",
       "      <th>district</th>\n",
       "      <th>id</th>\n",
       "    </tr>\n",
       "  </thead>\n",
       "  <tbody>\n",
       "    <tr>\n",
       "      <td>0</td>\n",
       "      <td>проспект Мира</td>\n",
       "      <td>Мещанский район</td>\n",
       "      <td>203</td>\n",
       "    </tr>\n",
       "    <tr>\n",
       "      <td>1</td>\n",
       "      <td>Профсоюзная улица</td>\n",
       "      <td>Академический район</td>\n",
       "      <td>182</td>\n",
       "    </tr>\n",
       "    <tr>\n",
       "      <td>2</td>\n",
       "      <td>Ленинградский проспект</td>\n",
       "      <td>район Беговой</td>\n",
       "      <td>172</td>\n",
       "    </tr>\n",
       "    <tr>\n",
       "      <td>3</td>\n",
       "      <td>Пресненская набережная</td>\n",
       "      <td>Пресненский район</td>\n",
       "      <td>167</td>\n",
       "    </tr>\n",
       "    <tr>\n",
       "      <td>4</td>\n",
       "      <td>Варшавское шоссе</td>\n",
       "      <td>Донской район</td>\n",
       "      <td>165</td>\n",
       "    </tr>\n",
       "    <tr>\n",
       "      <td>5</td>\n",
       "      <td>Ленинский проспект</td>\n",
       "      <td>район Якиманка</td>\n",
       "      <td>148</td>\n",
       "    </tr>\n",
       "    <tr>\n",
       "      <td>6</td>\n",
       "      <td>проспект Вернадского</td>\n",
       "      <td>Ломоносовский район</td>\n",
       "      <td>128</td>\n",
       "    </tr>\n",
       "    <tr>\n",
       "      <td>7</td>\n",
       "      <td>Кутузовский проспект</td>\n",
       "      <td>район Дорогомилово</td>\n",
       "      <td>114</td>\n",
       "    </tr>\n",
       "    <tr>\n",
       "      <td>8</td>\n",
       "      <td>Каширское шоссе</td>\n",
       "      <td>район Москворечье-Сабурово</td>\n",
       "      <td>111</td>\n",
       "    </tr>\n",
       "    <tr>\n",
       "      <td>9</td>\n",
       "      <td>Кировоградская улица</td>\n",
       "      <td>район Чертаново Южное</td>\n",
       "      <td>108</td>\n",
       "    </tr>\n",
       "  </tbody>\n",
       "</table>\n",
       "</div>"
      ],
      "text/plain": [
       "                   street                    district   id\n",
       "0           проспект Мира             Мещанский район  203\n",
       "1       Профсоюзная улица         Академический район  182\n",
       "2  Ленинградский проспект               район Беговой  172\n",
       "3  Пресненская набережная           Пресненский район  167\n",
       "4        Варшавское шоссе               Донской район  165\n",
       "5      Ленинский проспект              район Якиманка  148\n",
       "6    проспект Вернадского         Ломоносовский район  128\n",
       "7    Кутузовский проспект          район Дорогомилово  114\n",
       "8         Каширское шоссе  район Москворечье-Сабурово  111\n",
       "9    Кировоградская улица       район Чертаново Южное  108"
      ]
     },
     "execution_count": 32,
     "metadata": {},
     "output_type": "execute_result"
    }
   ],
   "source": [
    "# сгруппируем по улице и району с подсчетом уникальных значений и сортировкой \n",
    "# оставим 10 строк без города Зеленограда\n",
    "top_10_districts = ( rest_data\n",
    "                  .query('street not in \"город Зеленоград\"')\n",
    "                  .groupby([ 'street', 'district'])\n",
    "                  ['id'].count()\n",
    "                  .sort_values(ascending=False)\n",
    "                  .reset_index()\n",
    "                  .head(10)\n",
    "                 )\n",
    "\n",
    "# построим барплот\n",
    "sns.set(style='white', palette='Paired', font_scale=1.5)\n",
    "plt.figure(figsize=(12,7))\n",
    "\n",
    "ax = sns.barplot(x='id', y='district', data=top_10_districts)\n",
    "plt.title('Районы Топ-10 улиц по количеству объектов общественного питания', size=16)\n",
    "plt.xlabel('районы', size=14)\n",
    "plt.ylabel('количество заведений', size=14)\n",
    "plt.show()\n",
    "\n",
    "top_10_districts"
   ]
  },
  {
   "cell_type": "markdown",
   "metadata": {},
   "source": [
    "#### Вывод\n",
    "  \n",
    "В лидерах район Мещанский - 203 заведения. "
   ]
  },
  {
   "cell_type": "markdown",
   "metadata": {},
   "source": [
    "### Количество улиц с одним объектом общественного питания\n",
    "\n",
    "Найдем число улиц с одним объектом общественного питания."
   ]
  },
  {
   "cell_type": "code",
   "execution_count": 33,
   "metadata": {},
   "outputs": [
    {
     "data": {
      "text/plain": [
       "'Количество улиц с одним объектом общественного питания:'"
      ]
     },
     "metadata": {},
     "output_type": "display_data"
    },
    {
     "data": {
      "text/plain": [
       "452"
      ]
     },
     "metadata": {},
     "output_type": "display_data"
    }
   ],
   "source": [
    "# сгруппируем без лимита на 10 улиц\n",
    "streets_one_object = ( rest_data\n",
    "                  .query('street not in \"город Зеленоград\"')\n",
    "                  .groupby([ 'street', 'district'])\n",
    "                  ['id'].count()\n",
    "                  .sort_values(ascending=False)\n",
    "                  .reset_index()\n",
    "                 )\n",
    "\n",
    "# срез улиц с одним объектом общественного питания\n",
    "streets_one_object = streets_one_object.query('id == 1')\n",
    "display('Количество улиц с одним объектом общественного питания:', streets_one_object.shape[0]) "
   ]
  },
  {
   "cell_type": "markdown",
   "metadata": {},
   "source": [
    "### Районы улиц с одним объектом общественного питания\n",
    "\n",
    "Посмотрим в каких районах Москвы находятся улицы с одним объектом общественного питания."
   ]
  },
  {
   "cell_type": "code",
   "execution_count": 34,
   "metadata": {},
   "outputs": [
    {
     "data": {
      "image/png": "[encoded data removed]",
      "text/plain": [
       "<Figure size 864x504 with 1 Axes>"
      ]
     },
     "metadata": {},
     "output_type": "display_data"
    },
    {
     "data": {
      "text/html": [
       "<div>\n",
       "<style scoped>\n",
       "    .dataframe tbody tr th:only-of-type {\n",
       "        vertical-align: middle;\n",
       "    }\n",
       "\n",
       "    .dataframe tbody tr th {\n",
       "        vertical-align: top;\n",
       "    }\n",
       "\n",
       "    .dataframe thead th {\n",
       "        text-align: right;\n",
       "    }\n",
       "</style>\n",
       "<table border=\"1\" class=\"dataframe\">\n",
       "  <thead>\n",
       "    <tr style=\"text-align: right;\">\n",
       "      <th></th>\n",
       "      <th>district</th>\n",
       "      <th>street</th>\n",
       "    </tr>\n",
       "  </thead>\n",
       "  <tbody>\n",
       "    <tr>\n",
       "      <td>0</td>\n",
       "      <td>Таганский район</td>\n",
       "      <td>22</td>\n",
       "    </tr>\n",
       "    <tr>\n",
       "      <td>1</td>\n",
       "      <td>район Хамовники</td>\n",
       "      <td>22</td>\n",
       "    </tr>\n",
       "    <tr>\n",
       "      <td>2</td>\n",
       "      <td>Басманный район</td>\n",
       "      <td>20</td>\n",
       "    </tr>\n",
       "    <tr>\n",
       "      <td>3</td>\n",
       "      <td>Пресненский район</td>\n",
       "      <td>18</td>\n",
       "    </tr>\n",
       "    <tr>\n",
       "      <td>4</td>\n",
       "      <td>Тверской район</td>\n",
       "      <td>16</td>\n",
       "    </tr>\n",
       "    <tr>\n",
       "      <td>5</td>\n",
       "      <td>район Сокольники</td>\n",
       "      <td>12</td>\n",
       "    </tr>\n",
       "    <tr>\n",
       "      <td>6</td>\n",
       "      <td>район Соколиная Гора</td>\n",
       "      <td>11</td>\n",
       "    </tr>\n",
       "    <tr>\n",
       "      <td>7</td>\n",
       "      <td>район Арбат</td>\n",
       "      <td>10</td>\n",
       "    </tr>\n",
       "    <tr>\n",
       "      <td>8</td>\n",
       "      <td>Красносельский район</td>\n",
       "      <td>10</td>\n",
       "    </tr>\n",
       "    <tr>\n",
       "      <td>9</td>\n",
       "      <td>район Богородское</td>\n",
       "      <td>9</td>\n",
       "    </tr>\n",
       "  </tbody>\n",
       "</table>\n",
       "</div>"
      ],
      "text/plain": [
       "               district  street\n",
       "0       Таганский район      22\n",
       "1       район Хамовники      22\n",
       "2       Басманный район      20\n",
       "3     Пресненский район      18\n",
       "4        Тверской район      16\n",
       "5      район Сокольники      12\n",
       "6  район Соколиная Гора      11\n",
       "7           район Арбат      10\n",
       "8  Красносельский район      10\n",
       "9     район Богородское       9"
      ]
     },
     "execution_count": 34,
     "metadata": {},
     "output_type": "execute_result"
    }
   ],
   "source": [
    "# сгруппируем по районам и посчитаем количество улиц для каждого\n",
    "disticts_streets_one_object =  ( streets_one_object\n",
    "                                .groupby('district')\n",
    "                                ['street'].count()\n",
    "                                .sort_values(ascending=False)\n",
    "                                .reset_index()\n",
    "                                .head(10)\n",
    "                               )\n",
    "\n",
    "# барплот\n",
    "sns.set(style='white', palette='Set2', font_scale=1.5)\n",
    "plt.figure(figsize=(12,7))\n",
    "\n",
    "ax = sns.barplot(x='street', y='district', data=disticts_streets_one_object)\n",
    "plt.title('Районы улиц с одним объектом общественного питания', size=16)\n",
    "plt.xlabel('количество улиц', size=14)\n",
    "plt.ylabel('районы', size=14)\n",
    "plt.show()\n",
    "\n",
    "\n",
    "disticts_streets_one_object"
   ]
  },
  {
   "cell_type": "markdown",
   "metadata": {},
   "source": [
    "#### Вывод\n",
    "  \n",
    "Первое место по количеству улиц с одним заведением общественного питания делят район Хамовники и Таганский район - по 22 заведения."
   ]
  },
  {
   "cell_type": "markdown",
   "metadata": {},
   "source": [
    "### Распределение количества посадочных мест для топ-10 улиц по количеству объектов общественного питания\n",
    "\n",
    "Посмотрим, какие закономерности можно выявить в распределении количества посадочных мест для топ-10 улиц по количеству объектов общественного питания."
   ]
  },
  {
   "cell_type": "code",
   "execution_count": 35,
   "metadata": {},
   "outputs": [
    {
     "data": {
      "image/png": "[encoded data removed]",
      "text/plain": [
       "<Figure size 864x504 with 1 Axes>"
      ]
     },
     "metadata": {},
     "output_type": "display_data"
    }
   ],
   "source": [
    "# сохраняем топ-10 в список\n",
    "list_top_10_streets = top_10_streets['street'].to_list()\n",
    "# срез улиц из топ-10\n",
    "data_top_10_streets = rest_data.query('street in @list_top_10_streets')\n",
    "\n",
    "# строим гистограмму c линейным графиком\n",
    "sns.set(style='white', font_scale=1.5)\n",
    "plt.figure(figsize=(12,7))\n",
    "\n",
    "ax = sns.distplot(data_top_10_streets['number'], bins=60)\n",
    "plt.title('Распределение количества посадочных мест для топ-10 улиц', size=16)\n",
    "plt.xlabel('посадочные места', size=14)\n",
    "plt.ylabel('плотность распределения', size=14)\n",
    "plt.xlim(0, 300)\n",
    "plt.show()"
   ]
  },
  {
   "cell_type": "code",
   "execution_count": 36,
   "metadata": {},
   "outputs": [
    {
     "data": {
      "image/png": "[encoded data removed]",
      "text/plain": [
       "<Figure size 864x504 with 1 Axes>"
      ]
     },
     "metadata": {},
     "output_type": "display_data"
    }
   ],
   "source": [
    "# потроим боксплот\n",
    "sns.set(style='white', font_scale=1.5)\n",
    "plt.figure(figsize=(12,7))\n",
    "\n",
    "ax = sns.boxplot(data_top_10_streets['number'])\n",
    "plt.title('Распределение количества посадочных мест для топ-10 улиц', size=16)\n",
    "plt.xlabel('количество посадочных мест', size=14)\n",
    "plt.xlim(0, 180)\n",
    "plt.show()"
   ]
  },
  {
   "cell_type": "markdown",
   "metadata": {},
   "source": [
    "#### Вывод  \n",
    "  \n",
    "Распределение количества посадочных мест для топ-10 улиц по количеству объектов общественного питания сильно смещено в левую сторону. Основная часть значений находится от 10 до 80, медиана: 40. Значения больше 170 можно отнести к аномальным."
   ]
  },
  {
   "cell_type": "markdown",
   "metadata": {},
   "source": [
    "## Общие выводы и презентация"
   ]
  },
  {
   "cell_type": "markdown",
   "metadata": {},
   "source": [
    "В результате анализа данных из открытых источников об объектах общественного питания г. Москвы удалось определить  оптимальные параметры для открытия нового заведения:  \n",
    "- относиться оно должно к типу \"кафе\" как к самому успешному на рынке;  \n",
    "- то, что оно не будет относиться ни к одной сети не станет помехой к его популярности - таковых большинство на рынке;  \n",
    "- оптимальное количество посадочных мест: 40 - это медианное значение для заведений на улицах с самым большим количеством объектов и среднее значение для заведений типа \"кафе\";\n",
    "- наиболее привлекательные районы: Хамовники, Таганский, Басманный, Пресненский, Тверской. На них расположено больше всего улиц с одним заведением - меньше всего конкурентов;\n",
    "- наименее привлекательные улицы (в скобках район): проспект Мира (Мещанский), Профсоюзная улица (Академический), Ленинградский проспект (Беговой), Пресненская набережная (Пресненский), Варшавское шоссе (Донской), Ленинский проспект (Якиманка). На этих улицах самое большое количество заведений;\n",
    "- 4/5 всех заведений - не сетевые, поэтому альтернативой развития сети кафе с роботами может быть открытие заведений со своей уникальной концепцией. Но если встанет вопрос развития сети, то наиболее оптимальным будет соотношение малого количества заведений (до 10) с малым количеством мест (среднее - 40). Такое соотношение самое популярное на рынке.\n",
    "\n",
    "\n",
    "### Презентация \n",
    "\n",
    "[Ссылка на презентацию в pdf формате](https://disk.yandex.ru/i/83YkIzTER-yX9A)"
   ]
  }
 ],
 "metadata": {
  "ExecuteTimeLog": [
   {
    "duration": 1840,
    "start_time": "2022-05-03T08:23:17.626Z"
   },
   {
    "duration": 58,
    "start_time": "2022-05-03T08:23:19.468Z"
   },
   {
    "duration": 78,
    "start_time": "2022-05-03T08:23:19.528Z"
   },
   {
    "duration": 9,
    "start_time": "2022-05-03T08:23:19.608Z"
   },
   {
    "duration": 181,
    "start_time": "2022-05-03T08:23:19.619Z"
   },
   {
    "duration": 10,
    "start_time": "2022-05-03T08:23:19.802Z"
   },
   {
    "duration": 218,
    "start_time": "2022-05-03T08:23:19.813Z"
   },
   {
    "duration": 2268,
    "start_time": "2022-05-03T08:23:20.032Z"
   },
   {
    "duration": 216,
    "start_time": "2022-05-03T08:23:22.302Z"
   },
   {
    "duration": 7,
    "start_time": "2022-05-03T08:23:22.521Z"
   },
   {
    "duration": 22,
    "start_time": "2022-05-03T08:23:22.530Z"
   },
   {
    "duration": 149,
    "start_time": "2022-05-03T08:23:22.554Z"
   },
   {
    "duration": 66,
    "start_time": "2022-05-03T08:23:22.704Z"
   },
   {
    "duration": 236,
    "start_time": "2022-05-03T08:23:22.771Z"
   },
   {
    "duration": 205,
    "start_time": "2022-05-03T08:23:23.008Z"
   },
   {
    "duration": 259,
    "start_time": "2022-05-03T08:23:23.214Z"
   },
   {
    "duration": 28,
    "start_time": "2022-05-03T08:23:23.475Z"
   },
   {
    "duration": 306,
    "start_time": "2022-05-03T08:23:23.505Z"
   },
   {
    "duration": 24,
    "start_time": "2022-05-03T08:23:23.813Z"
   },
   {
    "duration": 438,
    "start_time": "2022-05-03T08:23:23.839Z"
   },
   {
    "duration": 194,
    "start_time": "2022-05-03T08:23:24.279Z"
   },
   {
    "duration": 7,
    "start_time": "2022-05-03T08:23:24.475Z"
   },
   {
    "duration": 179,
    "start_time": "2022-05-03T08:23:24.483Z"
   },
   {
    "duration": 452,
    "start_time": "2022-05-03T08:23:24.664Z"
   },
   {
    "duration": 6,
    "start_time": "2022-05-03T08:23:25.118Z"
   },
   {
    "duration": 2330,
    "start_time": "2022-05-03T08:23:25.126Z"
   },
   {
    "duration": 921,
    "start_time": "2022-05-03T08:23:27.457Z"
   },
   {
    "duration": 907,
    "start_time": "2022-05-03T08:23:50.789Z"
   },
   {
    "duration": 909,
    "start_time": "2022-05-03T08:24:37.400Z"
   },
   {
    "duration": 880,
    "start_time": "2022-05-03T08:33:26.699Z"
   },
   {
    "duration": 196,
    "start_time": "2022-05-03T08:55:49.693Z"
   },
   {
    "duration": 1099,
    "start_time": "2022-05-03T08:56:25.487Z"
   },
   {
    "duration": 1094,
    "start_time": "2022-05-03T08:59:02.599Z"
   },
   {
    "duration": 5,
    "start_time": "2022-05-03T09:20:45.209Z"
   },
   {
    "duration": 110,
    "start_time": "2022-05-03T09:27:49.237Z"
   },
   {
    "duration": 281,
    "start_time": "2022-05-03T09:28:05.068Z"
   },
   {
    "duration": 3621,
    "start_time": "2022-05-03T09:32:03.017Z"
   },
   {
    "duration": 174,
    "start_time": "2022-05-03T09:35:43.313Z"
   },
   {
    "duration": 158,
    "start_time": "2022-05-03T09:36:12.727Z"
   },
   {
    "duration": 186,
    "start_time": "2022-05-03T09:38:42.276Z"
   },
   {
    "duration": 217,
    "start_time": "2022-05-03T09:42:25.725Z"
   },
   {
    "duration": 750,
    "start_time": "2022-05-03T09:47:38.117Z"
   },
   {
    "duration": 1012,
    "start_time": "2022-05-03T09:51:20.319Z"
   },
   {
    "duration": 734,
    "start_time": "2022-05-03T09:51:31.072Z"
   },
   {
    "duration": 161,
    "start_time": "2022-05-03T09:52:49.938Z"
   },
   {
    "duration": 854,
    "start_time": "2022-05-03T09:56:57.365Z"
   },
   {
    "duration": 13,
    "start_time": "2022-05-03T09:57:16.198Z"
   },
   {
    "duration": 20,
    "start_time": "2022-05-03T10:00:07.184Z"
   },
   {
    "duration": 62,
    "start_time": "2022-05-03T10:00:51.448Z"
   },
   {
    "duration": 23,
    "start_time": "2022-05-03T10:03:06.545Z"
   },
   {
    "duration": 19,
    "start_time": "2022-05-03T10:03:27.327Z"
   },
   {
    "duration": 76,
    "start_time": "2022-05-03T13:18:03.851Z"
   },
   {
    "duration": 1519,
    "start_time": "2022-05-03T13:18:19.301Z"
   },
   {
    "duration": 58,
    "start_time": "2022-05-03T13:18:20.822Z"
   },
   {
    "duration": 68,
    "start_time": "2022-05-03T13:18:20.882Z"
   },
   {
    "duration": 9,
    "start_time": "2022-05-03T13:18:20.952Z"
   },
   {
    "duration": 186,
    "start_time": "2022-05-03T13:18:20.963Z"
   },
   {
    "duration": 11,
    "start_time": "2022-05-03T13:18:21.150Z"
   },
   {
    "duration": 49,
    "start_time": "2022-05-03T13:18:21.163Z"
   },
   {
    "duration": 1698,
    "start_time": "2022-05-03T13:18:21.214Z"
   },
   {
    "duration": 256,
    "start_time": "2022-05-03T13:18:22.914Z"
   },
   {
    "duration": 24,
    "start_time": "2022-05-03T13:18:23.172Z"
   },
   {
    "duration": 18,
    "start_time": "2022-05-03T13:18:23.198Z"
   },
   {
    "duration": 201,
    "start_time": "2022-05-03T13:18:23.218Z"
   },
   {
    "duration": 122,
    "start_time": "2022-05-03T13:18:23.421Z"
   },
   {
    "duration": 353,
    "start_time": "2022-05-03T13:18:23.547Z"
   },
   {
    "duration": 151,
    "start_time": "2022-05-03T13:18:23.902Z"
   },
   {
    "duration": 282,
    "start_time": "2022-05-03T13:18:24.055Z"
   },
   {
    "duration": 21,
    "start_time": "2022-05-03T13:18:24.338Z"
   },
   {
    "duration": 234,
    "start_time": "2022-05-03T13:18:24.361Z"
   },
   {
    "duration": 19,
    "start_time": "2022-05-03T13:18:24.597Z"
   },
   {
    "duration": 310,
    "start_time": "2022-05-03T13:18:24.617Z"
   },
   {
    "duration": 318,
    "start_time": "2022-05-03T13:18:24.929Z"
   },
   {
    "duration": 8,
    "start_time": "2022-05-03T13:18:25.249Z"
   },
   {
    "duration": 146,
    "start_time": "2022-05-03T13:18:25.259Z"
   },
   {
    "duration": 347,
    "start_time": "2022-05-03T13:18:25.408Z"
   },
   {
    "duration": 7,
    "start_time": "2022-05-03T13:18:25.757Z"
   },
   {
    "duration": 2458,
    "start_time": "2022-05-03T13:18:25.766Z"
   },
   {
    "duration": 1195,
    "start_time": "2022-05-03T13:18:28.225Z"
   },
   {
    "duration": 971,
    "start_time": "2022-05-03T13:18:29.422Z"
   },
   {
    "duration": 198,
    "start_time": "2022-05-03T13:18:30.395Z"
   },
   {
    "duration": 545,
    "start_time": "2022-05-03T13:18:30.595Z"
   },
   {
    "duration": 1073,
    "start_time": "2022-05-03T13:18:31.142Z"
   },
   {
    "duration": 91,
    "start_time": "2022-05-03T13:18:32.217Z"
   },
   {
    "duration": 22,
    "start_time": "2022-05-03T13:18:32.310Z"
   },
   {
    "duration": 260,
    "start_time": "2022-05-03T13:26:59.152Z"
   },
   {
    "duration": 22,
    "start_time": "2022-05-03T13:39:41.277Z"
   },
   {
    "duration": 23,
    "start_time": "2022-05-03T13:40:48.861Z"
   },
   {
    "duration": 22,
    "start_time": "2022-05-03T13:41:27.521Z"
   },
   {
    "duration": 19,
    "start_time": "2022-05-03T13:44:28.292Z"
   },
   {
    "duration": 25,
    "start_time": "2022-05-03T13:45:15.710Z"
   },
   {
    "duration": 25,
    "start_time": "2022-05-03T13:45:29.123Z"
   },
   {
    "duration": 23,
    "start_time": "2022-05-03T13:45:56.162Z"
   },
   {
    "duration": 25,
    "start_time": "2022-05-03T13:46:08.842Z"
   },
   {
    "duration": 25,
    "start_time": "2022-05-03T13:47:14.852Z"
   },
   {
    "duration": 24,
    "start_time": "2022-05-03T13:54:06.642Z"
   },
   {
    "duration": 9,
    "start_time": "2022-05-03T13:54:42.051Z"
   },
   {
    "duration": 160,
    "start_time": "2022-05-03T13:57:45.759Z"
   },
   {
    "duration": 87,
    "start_time": "2022-05-03T13:57:53.121Z"
   },
   {
    "duration": 18,
    "start_time": "2022-05-03T13:58:03.841Z"
   },
   {
    "duration": 363,
    "start_time": "2022-05-03T14:06:06.271Z"
   },
   {
    "duration": 23,
    "start_time": "2022-05-03T14:46:00.589Z"
   },
   {
    "duration": 25,
    "start_time": "2022-05-03T14:54:11.788Z"
   },
   {
    "duration": 22,
    "start_time": "2022-05-03T14:54:52.169Z"
   },
   {
    "duration": 24,
    "start_time": "2022-05-03T14:55:09.990Z"
   },
   {
    "duration": 11,
    "start_time": "2022-05-03T14:56:04.181Z"
   },
   {
    "duration": 28,
    "start_time": "2022-05-03T14:56:58.901Z"
   },
   {
    "duration": 32,
    "start_time": "2022-05-03T14:57:24.234Z"
   },
   {
    "duration": 12,
    "start_time": "2022-05-03T15:07:50.501Z"
   },
   {
    "duration": 218,
    "start_time": "2022-05-03T15:10:54.041Z"
   },
   {
    "duration": 257,
    "start_time": "2022-05-03T15:17:03.911Z"
   },
   {
    "duration": 301,
    "start_time": "2022-05-03T15:17:46.745Z"
   },
   {
    "duration": 314,
    "start_time": "2022-05-03T15:18:39.533Z"
   },
   {
    "duration": 398,
    "start_time": "2022-05-03T15:19:11.424Z"
   },
   {
    "duration": 267,
    "start_time": "2022-05-03T15:21:43.642Z"
   },
   {
    "duration": 507,
    "start_time": "2022-05-03T15:22:12.925Z"
   },
   {
    "duration": 274,
    "start_time": "2022-05-03T15:24:07.391Z"
   },
   {
    "duration": 422,
    "start_time": "2022-05-03T15:28:09.896Z"
   },
   {
    "duration": 15,
    "start_time": "2022-05-03T15:39:48.361Z"
   },
   {
    "duration": 268,
    "start_time": "2022-05-03T15:40:03.711Z"
   },
   {
    "duration": 124,
    "start_time": "2022-05-03T15:40:46.031Z"
   },
   {
    "duration": 158,
    "start_time": "2022-05-03T15:42:38.082Z"
   },
   {
    "duration": 223,
    "start_time": "2022-05-03T15:43:13.352Z"
   },
   {
    "duration": 230,
    "start_time": "2022-05-03T15:43:25.782Z"
   },
   {
    "duration": 9804,
    "start_time": "2022-05-03T16:00:14.211Z"
   },
   {
    "duration": 180,
    "start_time": "2022-05-03T16:00:54.878Z"
   },
   {
    "duration": 1342,
    "start_time": "2022-05-04T07:19:25.644Z"
   },
   {
    "duration": 55,
    "start_time": "2022-05-04T07:19:26.988Z"
   },
   {
    "duration": 85,
    "start_time": "2022-05-04T07:19:27.045Z"
   },
   {
    "duration": 10,
    "start_time": "2022-05-04T07:19:27.132Z"
   },
   {
    "duration": 163,
    "start_time": "2022-05-04T07:19:27.145Z"
   },
   {
    "duration": 10,
    "start_time": "2022-05-04T07:19:27.310Z"
   },
   {
    "duration": 29,
    "start_time": "2022-05-04T07:19:27.321Z"
   },
   {
    "duration": 1458,
    "start_time": "2022-05-04T07:19:27.352Z"
   },
   {
    "duration": 148,
    "start_time": "2022-05-04T07:19:28.811Z"
   },
   {
    "duration": 7,
    "start_time": "2022-05-04T07:19:28.960Z"
   },
   {
    "duration": 17,
    "start_time": "2022-05-04T07:19:28.968Z"
   },
   {
    "duration": 169,
    "start_time": "2022-05-04T07:19:28.986Z"
   },
   {
    "duration": 96,
    "start_time": "2022-05-04T07:19:29.157Z"
   },
   {
    "duration": 207,
    "start_time": "2022-05-04T07:19:29.255Z"
   },
   {
    "duration": 122,
    "start_time": "2022-05-04T07:19:29.463Z"
   },
   {
    "duration": 254,
    "start_time": "2022-05-04T07:19:29.586Z"
   },
   {
    "duration": 19,
    "start_time": "2022-05-04T07:19:29.842Z"
   },
   {
    "duration": 223,
    "start_time": "2022-05-04T07:19:29.863Z"
   },
   {
    "duration": 17,
    "start_time": "2022-05-04T07:19:30.088Z"
   },
   {
    "duration": 282,
    "start_time": "2022-05-04T07:19:30.106Z"
   },
   {
    "duration": 201,
    "start_time": "2022-05-04T07:19:30.390Z"
   },
   {
    "duration": 7,
    "start_time": "2022-05-04T07:19:30.592Z"
   },
   {
    "duration": 125,
    "start_time": "2022-05-04T07:19:30.601Z"
   },
   {
    "duration": 314,
    "start_time": "2022-05-04T07:19:30.728Z"
   },
   {
    "duration": 2346,
    "start_time": "2022-05-04T07:19:31.044Z"
   },
   {
    "duration": 1703,
    "start_time": "2022-05-04T07:19:33.392Z"
   },
   {
    "duration": 144,
    "start_time": "2022-05-04T07:19:35.096Z"
   },
   {
    "duration": 325,
    "start_time": "2022-05-04T07:19:35.241Z"
   },
   {
    "duration": 966,
    "start_time": "2022-05-04T07:19:35.567Z"
   },
   {
    "duration": 3,
    "start_time": "2022-05-04T07:19:36.534Z"
   },
   {
    "duration": 257,
    "start_time": "2022-05-04T07:19:36.539Z"
   },
   {
    "duration": 27,
    "start_time": "2022-05-04T07:19:36.797Z"
   },
   {
    "duration": 209,
    "start_time": "2022-05-04T07:19:36.825Z"
   },
   {
    "duration": 255,
    "start_time": "2022-05-04T07:19:37.035Z"
   },
   {
    "duration": 159,
    "start_time": "2022-05-04T07:19:37.291Z"
   },
   {
    "duration": 264,
    "start_time": "2022-05-04T08:21:29.801Z"
   },
   {
    "duration": 294,
    "start_time": "2022-05-04T08:21:45.690Z"
   },
   {
    "duration": 143,
    "start_time": "2022-05-04T08:21:53.656Z"
   },
   {
    "duration": 289,
    "start_time": "2022-05-04T08:22:03.679Z"
   },
   {
    "duration": 428,
    "start_time": "2022-05-04T08:22:11.642Z"
   },
   {
    "duration": 411,
    "start_time": "2022-05-04T08:22:22.089Z"
   },
   {
    "duration": 251,
    "start_time": "2022-05-04T08:51:07.497Z"
   },
   {
    "duration": 245,
    "start_time": "2022-05-04T08:51:16.089Z"
   },
   {
    "duration": 222,
    "start_time": "2022-05-04T08:51:23.522Z"
   },
   {
    "duration": 245,
    "start_time": "2022-05-04T08:51:28.042Z"
   },
   {
    "duration": 148,
    "start_time": "2022-05-04T08:51:35.224Z"
   }
  ],
  "kernelspec": {
   "display_name": "Python 3",
   "language": "python",
   "name": "python3"
  },
  "language_info": {
   "codemirror_mode": {
    "name": "ipython",
    "version": 3
   },
   "file_extension": ".py",
   "mimetype": "text/x-python",
   "name": "python",
   "nbconvert_exporter": "python",
   "pygments_lexer": "ipython3",
   "version": "3.7.12"
  },
  "toc": {
   "base_numbering": 1,
   "nav_menu": {},
   "number_sections": true,
   "sideBar": true,
   "skip_h1_title": true,
   "title_cell": "Содержание",
   "title_sidebar": "Contents",
   "toc_cell": true,
   "toc_position": {
    "height": "calc(100% - 180px)",
    "left": "10px",
    "top": "150px",
    "width": "165px"
   },
   "toc_section_display": true,
   "toc_window_display": true
  }
 },
 "nbformat": 4,
 "nbformat_minor": 2
}
