{
 "cells": [
  {
   "cell_type": "markdown",
   "id": "4c58f9ed",
   "metadata": {
    "toc": true
   },
   "source": [
    "<h1>Содержание<span class=\"tocSkip\"></span></h1>\n",
    "<div class=\"toc\"><ul class=\"toc-item\"><li><span><a href=\"#Подготовка-данных\" data-toc-modified-id=\"Подготовка-данных-1\"><span class=\"toc-item-num\">1&nbsp;&nbsp;</span>Подготовка данных</a></span><ul class=\"toc-item\"><li><span><a href=\"#Импорт-библиотек-и-загрузка-данных\" data-toc-modified-id=\"Импорт-библиотек-и-загрузка-данных-1.1\"><span class=\"toc-item-num\">1.1&nbsp;&nbsp;</span>Импорт библиотек и загрузка данных</a></span></li></ul></li><li><span><a href=\"#Обзор-и-предобработка-данных\" data-toc-modified-id=\"Обзор-и-предобработка-данных-2\"><span class=\"toc-item-num\">2&nbsp;&nbsp;</span>Обзор и предобработка данных</a></span><ul class=\"toc-item\"><li><span><a href=\"#Таблица-ab_project_marketing_events\" data-toc-modified-id=\"Таблица-ab_project_marketing_events-2.1\"><span class=\"toc-item-num\">2.1&nbsp;&nbsp;</span>Таблица ab_project_marketing_events</a></span></li><li><span><a href=\"#Таблица-final_ab_new_users\" data-toc-modified-id=\"Таблица-final_ab_new_users-2.2\"><span class=\"toc-item-num\">2.2&nbsp;&nbsp;</span>Таблица final_ab_new_users</a></span></li><li><span><a href=\"#Таблица-final_ab_events\" data-toc-modified-id=\"Таблица-final_ab_events-2.3\"><span class=\"toc-item-num\">2.3&nbsp;&nbsp;</span>Таблица final_ab_events</a></span></li><li><span><a href=\"#Таблица-final_ab_participants\" data-toc-modified-id=\"Таблица-final_ab_participants-2.4\"><span class=\"toc-item-num\">2.4&nbsp;&nbsp;</span>Таблица final_ab_participants</a></span></li><li><span><a href=\"#Вывод\" data-toc-modified-id=\"Вывод-2.5\"><span class=\"toc-item-num\">2.5&nbsp;&nbsp;</span>Вывод</a></span></li></ul></li><li><span><a href=\"#Оценка-корректности-проведения-теста\" data-toc-modified-id=\"Оценка-корректности-проведения-теста-3\"><span class=\"toc-item-num\">3&nbsp;&nbsp;</span>Оценка корректности проведения теста</a></span><ul class=\"toc-item\"><li><span><a href=\"#Изучение-групп-на-пересечение-пользователей\" data-toc-modified-id=\"Изучение-групп-на-пересечение-пользователей-3.1\"><span class=\"toc-item-num\">3.1&nbsp;&nbsp;</span>Изучение групп на пересечение пользователей</a></span></li><li><span><a href=\"#Изучение-равномерности-распределения-пользователей-по-группам\" data-toc-modified-id=\"Изучение-равномерности-распределения-пользователей-по-группам-3.2\"><span class=\"toc-item-num\">3.2&nbsp;&nbsp;</span>Изучение равномерности распределения пользователей по группам</a></span></li><li><span><a href=\"#Изучение-временных-границ-теста\" data-toc-modified-id=\"Изучение-временных-границ-теста-3.3\"><span class=\"toc-item-num\">3.3&nbsp;&nbsp;</span>Изучение временных границ теста</a></span></li><li><span><a href=\"#Вывод\" data-toc-modified-id=\"Вывод-3.4\"><span class=\"toc-item-num\">3.4&nbsp;&nbsp;</span>Вывод</a></span></li></ul></li><li><span><a href=\"#Исследовательский-анализ-данных\" data-toc-modified-id=\"Исследовательский-анализ-данных-4\"><span class=\"toc-item-num\">4&nbsp;&nbsp;</span>Исследовательский анализ данных</a></span><ul class=\"toc-item\"><li><span><a href=\"#Cреднее-количество-событий-для-каждого-пользователя\" data-toc-modified-id=\"Cреднее-количество-событий-для-каждого-пользователя-4.1\"><span class=\"toc-item-num\">4.1&nbsp;&nbsp;</span>Cреднее количество событий для каждого пользователя</a></span></li><li><span><a href=\"#Распределение-действий-пользователей-по-дате-их-совершения\" data-toc-modified-id=\"Распределение-действий-пользователей-по-дате-их-совершения-4.2\"><span class=\"toc-item-num\">4.2&nbsp;&nbsp;</span>Распределение действий пользователей по дате их совершения</a></span></li><li><span><a href=\"#Распределение-событий-по-группам-А-и-В\" data-toc-modified-id=\"Распределение-событий-по-группам-А-и-В-4.3\"><span class=\"toc-item-num\">4.3&nbsp;&nbsp;</span>Распределение событий по группам А и В</a></span></li><li><span><a href=\"#Действие-пользователей-по-дате-совершения\" data-toc-modified-id=\"Действие-пользователей-по-дате-совершения-4.4\"><span class=\"toc-item-num\">4.4&nbsp;&nbsp;</span>Действие пользователей по дате совершения</a></span></li><li><span><a href=\"#События-по-количеству-и-доле-пользователей\" data-toc-modified-id=\"События-по-количеству-и-доле-пользователей-4.5\"><span class=\"toc-item-num\">4.5&nbsp;&nbsp;</span>События по количеству и доле пользователей</a></span></li><li><span><a href=\"#Воронка-событий\" data-toc-modified-id=\"Воронка-событий-4.6\"><span class=\"toc-item-num\">4.6&nbsp;&nbsp;</span>Воронка событий</a></span></li><li><span><a href=\"#Кумулятивный-средний-чек-группы-&quot;B&quot;-к-группе-&quot;A&quot;\" data-toc-modified-id=\"Кумулятивный-средний-чек-группы-&quot;B&quot;-к-группе-&quot;A&quot;-4.7\"><span class=\"toc-item-num\">4.7&nbsp;&nbsp;</span>Кумулятивный средний чек группы \"B\" к группе \"A\"</a></span></li><li><span><a href=\"#Кумулятивная-конверсия-авторизованных-пользователей-в-пользователей-совершивших-покупку-группы-&quot;B&quot;-к-группе-&quot;A&quot;\" data-toc-modified-id=\"Кумулятивная-конверсия-авторизованных-пользователей-в-пользователей-совершивших-покупку-группы-&quot;B&quot;-к-группе-&quot;A&quot;-4.8\"><span class=\"toc-item-num\">4.8&nbsp;&nbsp;</span>Кумулятивная конверсия авторизованных пользователей в пользователей совершивших покупку группы \"B\" к группе \"A\"</a></span></li><li><span><a href=\"#Вывод\" data-toc-modified-id=\"Вывод-4.9\"><span class=\"toc-item-num\">4.9&nbsp;&nbsp;</span>Вывод</a></span></li></ul></li><li><span><a href=\"#Статистический-анализ-A/B-теста\" data-toc-modified-id=\"Статистический-анализ-A/B-теста-5\"><span class=\"toc-item-num\">5&nbsp;&nbsp;</span>Статистический анализ A/B-теста</a></span><ul class=\"toc-item\"><li><span><a href=\"#Вывод\" data-toc-modified-id=\"Вывод-5.1\"><span class=\"toc-item-num\">5.1&nbsp;&nbsp;</span>Вывод</a></span></li></ul></li><li><span><a href=\"#Общие-выводы-и-рекомендации\" data-toc-modified-id=\"Общие-выводы-и-рекомендации-6\"><span class=\"toc-item-num\">6&nbsp;&nbsp;</span>Общие выводы и рекомендации</a></span><ul class=\"toc-item\"><li><span><a href=\"#Результаты-исследования\" data-toc-modified-id=\"Результаты-исследования-6.1\"><span class=\"toc-item-num\">6.1&nbsp;&nbsp;</span>Результаты исследования</a></span></li><li><span><a href=\"#Рекомендация\" data-toc-modified-id=\"Рекомендация-6.2\"><span class=\"toc-item-num\">6.2&nbsp;&nbsp;</span>Рекомендация</a></span></li></ul></li></ul></div>"
   ]
  },
  {
   "cell_type": "markdown",
   "id": "2a8e5d39",
   "metadata": {},
   "source": [
    "# Проект \"Анализ результатов A/B-теста на сайте\"\n",
    "\n",
    "**Проблема:**\n",
    "\n",
    "На сайте была внедрена улучшенная рекомендательная система. Чтобы проверить изменения в основных метриках, был проведен A/B-тест. Ожидается, что за 14 дней с момента регистрации пользователи покажут улучшение основных метрик (конверсии в просмотр карточек товаров, просмотров корзины и покупок) не менее, чем на 10%.\n",
    "\n",
    "**Цель:**\n",
    "\n",
    "Оценить корректность проведения и проанализировать результаты A/B-теста, чтобы проверить гипотезу об улучшении основных метрик сайта на 10% после внедрения апгрейденной рекомендательной системы.\n",
    "\n",
    "**Технические параметры:**\n",
    "\n",
    "- Название теста: recommender_system_test;\n",
    "- Группы: А (контрольная), B (новая платёжная воронка);\n",
    "- Дата запуска: 2020-12-07;\n",
    "- Дата остановки набора новых пользователей: 2020-12-21;\n",
    "- Дата остановки: 2021-01-04;\n",
    "- Аудитория: 15% новых пользователей из региона EU;\n",
    "- Назначение теста: тестирование изменений, связанных с внедрением улучшенной рекомендательной системы;\n",
    "- Ожидаемое количество участников теста: 6000.\n",
    "- Ожидаемый эффект: за 14 дней с момента регистрации в системе пользователи покажут улучшение каждой метрики не менее, чем на 10%:\n",
    "  - конверсии в просмотр карточек товаров — событие product_page\n",
    "  - просмотры корзины — product_cart\n",
    "  - покупки — purchase.\n",
    "\n",
    "**План**\n",
    "\n",
    "1. Подготовить данные для анализа, обработав пропуски и дубликаты.\n",
    "\n",
    "\n",
    "2. Оценить корректность проведения теста:\n",
    "   - Изучить группы на пересечение пользователей\n",
    "   - Изучить равномерность распределения пользователей по группам\n",
    "   - Изучить временные границы теста.\n",
    "\n",
    "\n",
    "3. Исследовательский анализ данных:\n",
    "   - Cреднее количество событий для каждого пользователя\n",
    "   - Распределение действий пользователей по дате их совершения\n",
    "   - Распределение событий по группам А и В\n",
    "   - Действие пользователей по дате совершения\n",
    "   - События по количеству и доле пользователей\n",
    "   - Воронка событий\n",
    "   - Кумулятивный средний чека группы \"B\" к группе \"A\"\n",
    "   - Кумулятивная конверсия авторизованных пользователей в пользователей совершивших покупку группы \"B\" к группе \"A\"\n",
    "\n",
    "\n",
    "4. Статистический анализ A/B-теста:\n",
    "   -  Статистические гипотезы:\n",
    "      - H0 — отношение пользователей совершивших действие к общему числу пользователей контрольной группы \"А\" и группы сравнения \"В\" статистически значимо не различаются.\n",
    "      - H1 — отношение пользователей совершивших действие к общему числу пользователей контрольной группы \"А\" и группы сравнения \"В\" статистически значимо различаются.\n",
    "\n",
    "\n",
    "5. Общие выводы и рекомендации."
   ]
  },
  {
   "cell_type": "markdown",
   "id": "d6937bd1",
   "metadata": {},
   "source": [
    "<a id=\"preprocessing\"></a> \n",
    "## Подготовка данных "
   ]
  },
  {
   "cell_type": "markdown",
   "id": "f115dcc7",
   "metadata": {},
   "source": [
    "### Импорт библиотек и загрузка данных"
   ]
  },
  {
   "cell_type": "code",
   "execution_count": 30,
   "id": "5b2849ff",
   "metadata": {},
   "outputs": [],
   "source": [
    "# импорт библиотек\n",
    "import pandas as pd                             # для анализа данных\n",
    "import numpy as np                              # для математических вычислений\n",
    "\n",
    "import seaborn as sns                           # для визуализации данных\n",
    "from matplotlib import pyplot as plt            # для визуализации данных\n",
    "%matplotlib inline\n",
    "from plotly import graph_objects as go          # для интерактивных графиков\n",
    "import plotly.express as px                     # для интерактивных графиков\n",
    "from plotly.subplots import make_subplots       # для интерактивных графиков\n",
    "\n",
    "import datetime as dt                           # для преобразования к типу данных\n",
    "from datetime import datetime      \n",
    "\n",
    "from scipy import stats as st                   # для статистического анализа                  \n",
    "import math as mt                               # для математических, тригонометрических и логарифмических операций\n",
    "\n",
    "import os                                       # работать с файловой системой, с окружением, управлять процессами\n",
    "\n",
    "# модуль, предоставляющий классы и функции для оценки множества различных статистических моделей\n",
    "import statsmodels.api as sm\n",
    "from statsmodels.stats.proportion import proportions_ztest   # z-тест\n",
    "from statsmodels.stats.power import zt_ind_solve_power  # оценка мощности z-теста\n",
    "\n",
    "import itertools                                # сборник полезных итераторов\n",
    "\n",
    "import warnings                                 # для предупреждений в программе \n",
    "warnings.filterwarnings('ignore')               # игнорировать предупреждения"
   ]
  },
  {
   "cell_type": "code",
   "execution_count": 31,
   "id": "3f552d92",
   "metadata": {},
   "outputs": [],
   "source": [
    "# создание переменных с датафреймами  \n",
    "\n",
    "#ab_project_marketing_events = pd.read_csv(r'C:\\Users\\Dao\\YandexDisk\\IT\\Datasets\\ab_project_marketing_events.csv', parse_dates=['start_dt', 'finish_dt']) \n",
    "#final_ab_new_users = pd.read_csv(r'C:\\Users\\Dao\\YandexDisk\\IT\\Datasets\\final_ab_new_users.csv', parse_dates=['first_date'])\n",
    "#final_ab_events = pd.read_csv(r'C:\\Users\\Dao\\YandexDisk\\IT\\Datasets\\final_ab_events.csv', parse_dates=['event_dt'])\n",
    "#final_ab_participants = pd.read_csv(r'C:\\Users\\Dao\\YandexDisk\\IT\\Datasets\\final_ab_participants.csv')\n",
    "\n",
    "path = '/datasets/'\n",
    "ab_project_marketing_events = pd.read_csv(path + 'ab_project_marketing_events.csv', parse_dates=['start_dt', 'finish_dt']) \n",
    "final_ab_new_users = pd.read_csv(path + 'final_ab_new_users.csv', parse_dates=['first_date'])\n",
    "final_ab_events = pd.read_csv(path + 'final_ab_events.csv', parse_dates=['event_dt'])\n",
    "final_ab_participants = pd.read_csv(path + 'final_ab_participants.csv')\n",
    "\n",
    "# С помощью pd.option настроим вывод так чтобы\n",
    "pd.options.display.max_columns = None               # чтобы не обрезались колонки\n",
    "pd.options.display.max_rows = None                  # чтобы видеть все содержимое вывода\n",
    "pd.options.display.max_colwidth = -1                # текст в ячейке отражался полностью вне зависимости от длины;\n",
    "pd.options.display.float_format = '{:.2f}'.format   # все числа отражались с двумя знаками после запятой."
   ]
  },
  {
   "cell_type": "markdown",
   "id": "93fd56a2",
   "metadata": {},
   "source": [
    "## Обзор и предобработка данных"
   ]
  },
  {
   "cell_type": "code",
   "execution_count": 32,
   "id": "7e64066e",
   "metadata": {},
   "outputs": [],
   "source": [
    "# случайная выборка, общая информация о датафрейме, о дубликатах, статистика без пропусков в одной мини-функции\n",
    "\n",
    "def info_df(dataframe):\n",
    "    display(\"5 рандомных строк таблицы:\")\n",
    "    display(dataframe.head())\n",
    "    dataframe.info()\n",
    "    display(dataframe.describe(include='all').fillna(''))\n",
    "    print('\\nКоличество дубликатов записей:', dataframe.duplicated().sum())"
   ]
  },
  {
   "cell_type": "markdown",
   "id": "1dc07170",
   "metadata": {},
   "source": [
    "### Таблица ab_project_marketing_events"
   ]
  },
  {
   "cell_type": "markdown",
   "id": "01d41dbe",
   "metadata": {},
   "source": [
    "`ab_project_marketing_events.csv`- календарь маркетинговых событий на 2020 год. \n",
    "\n",
    "Описание данных:\n",
    "\n",
    "- `name` - название маркетингового события;\n",
    "- `regions` - регионы, в которых будет проводиться рекламная кампания;\n",
    "- `start_dt` - дата начала кампании;\n",
    "- `finish_dt` - дата завершения кампании."
   ]
  },
  {
   "cell_type": "markdown",
   "id": "2595eae6",
   "metadata": {},
   "source": [
    "Изучим таблицу ab_project_marketing_events."
   ]
  },
  {
   "cell_type": "code",
   "execution_count": 33,
   "id": "5e79d4ea",
   "metadata": {},
   "outputs": [
    {
     "data": {
      "text/html": [
       "<div>\n",
       "<style scoped>\n",
       "    .dataframe tbody tr th:only-of-type {\n",
       "        vertical-align: middle;\n",
       "    }\n",
       "\n",
       "    .dataframe tbody tr th {\n",
       "        vertical-align: top;\n",
       "    }\n",
       "\n",
       "    .dataframe thead th {\n",
       "        text-align: right;\n",
       "    }\n",
       "</style>\n",
       "<table border=\"1\" class=\"dataframe\">\n",
       "  <thead>\n",
       "    <tr style=\"text-align: right;\">\n",
       "      <th></th>\n",
       "      <th>name</th>\n",
       "      <th>regions</th>\n",
       "      <th>start_dt</th>\n",
       "      <th>finish_dt</th>\n",
       "    </tr>\n",
       "  </thead>\n",
       "  <tbody>\n",
       "    <tr>\n",
       "      <th>0</th>\n",
       "      <td>Christmas&amp;New Year Promo</td>\n",
       "      <td>EU, N.America</td>\n",
       "      <td>2020-12-25</td>\n",
       "      <td>2021-01-03</td>\n",
       "    </tr>\n",
       "    <tr>\n",
       "      <th>1</th>\n",
       "      <td>St. Valentine's Day Giveaway</td>\n",
       "      <td>EU, CIS, APAC, N.America</td>\n",
       "      <td>2020-02-14</td>\n",
       "      <td>2020-02-16</td>\n",
       "    </tr>\n",
       "    <tr>\n",
       "      <th>2</th>\n",
       "      <td>St. Patric's Day Promo</td>\n",
       "      <td>EU, N.America</td>\n",
       "      <td>2020-03-17</td>\n",
       "      <td>2020-03-19</td>\n",
       "    </tr>\n",
       "    <tr>\n",
       "      <th>3</th>\n",
       "      <td>Easter Promo</td>\n",
       "      <td>EU, CIS, APAC, N.America</td>\n",
       "      <td>2020-04-12</td>\n",
       "      <td>2020-04-19</td>\n",
       "    </tr>\n",
       "    <tr>\n",
       "      <th>4</th>\n",
       "      <td>4th of July Promo</td>\n",
       "      <td>N.America</td>\n",
       "      <td>2020-07-04</td>\n",
       "      <td>2020-07-11</td>\n",
       "    </tr>\n",
       "    <tr>\n",
       "      <th>5</th>\n",
       "      <td>Black Friday Ads Campaign</td>\n",
       "      <td>EU, CIS, APAC, N.America</td>\n",
       "      <td>2020-11-26</td>\n",
       "      <td>2020-12-01</td>\n",
       "    </tr>\n",
       "    <tr>\n",
       "      <th>6</th>\n",
       "      <td>Chinese New Year Promo</td>\n",
       "      <td>APAC</td>\n",
       "      <td>2020-01-25</td>\n",
       "      <td>2020-02-07</td>\n",
       "    </tr>\n",
       "    <tr>\n",
       "      <th>7</th>\n",
       "      <td>Labor day (May 1st) Ads Campaign</td>\n",
       "      <td>EU, CIS, APAC</td>\n",
       "      <td>2020-05-01</td>\n",
       "      <td>2020-05-03</td>\n",
       "    </tr>\n",
       "    <tr>\n",
       "      <th>8</th>\n",
       "      <td>International Women's Day Promo</td>\n",
       "      <td>EU, CIS, APAC</td>\n",
       "      <td>2020-03-08</td>\n",
       "      <td>2020-03-10</td>\n",
       "    </tr>\n",
       "    <tr>\n",
       "      <th>9</th>\n",
       "      <td>Victory Day CIS (May 9th) Event</td>\n",
       "      <td>CIS</td>\n",
       "      <td>2020-05-09</td>\n",
       "      <td>2020-05-11</td>\n",
       "    </tr>\n",
       "    <tr>\n",
       "      <th>10</th>\n",
       "      <td>CIS New Year Gift Lottery</td>\n",
       "      <td>CIS</td>\n",
       "      <td>2020-12-30</td>\n",
       "      <td>2021-01-07</td>\n",
       "    </tr>\n",
       "    <tr>\n",
       "      <th>11</th>\n",
       "      <td>Dragon Boat Festival Giveaway</td>\n",
       "      <td>APAC</td>\n",
       "      <td>2020-06-25</td>\n",
       "      <td>2020-07-01</td>\n",
       "    </tr>\n",
       "    <tr>\n",
       "      <th>12</th>\n",
       "      <td>Single's Day Gift Promo</td>\n",
       "      <td>APAC</td>\n",
       "      <td>2020-11-11</td>\n",
       "      <td>2020-11-12</td>\n",
       "    </tr>\n",
       "    <tr>\n",
       "      <th>13</th>\n",
       "      <td>Chinese Moon Festival</td>\n",
       "      <td>APAC</td>\n",
       "      <td>2020-10-01</td>\n",
       "      <td>2020-10-07</td>\n",
       "    </tr>\n",
       "  </tbody>\n",
       "</table>\n",
       "</div>"
      ],
      "text/plain": [
       "                                name                   regions   start_dt  \\\n",
       "0   Christmas&New Year Promo          EU, N.America            2020-12-25   \n",
       "1   St. Valentine's Day Giveaway      EU, CIS, APAC, N.America 2020-02-14   \n",
       "2   St. Patric's Day Promo            EU, N.America            2020-03-17   \n",
       "3   Easter Promo                      EU, CIS, APAC, N.America 2020-04-12   \n",
       "4   4th of July Promo                 N.America                2020-07-04   \n",
       "5   Black Friday Ads Campaign         EU, CIS, APAC, N.America 2020-11-26   \n",
       "6   Chinese New Year Promo            APAC                     2020-01-25   \n",
       "7   Labor day (May 1st) Ads Campaign  EU, CIS, APAC            2020-05-01   \n",
       "8   International Women's Day Promo   EU, CIS, APAC            2020-03-08   \n",
       "9   Victory Day CIS (May 9th) Event   CIS                      2020-05-09   \n",
       "10  CIS New Year Gift Lottery         CIS                      2020-12-30   \n",
       "11  Dragon Boat Festival Giveaway     APAC                     2020-06-25   \n",
       "12  Single's Day Gift Promo           APAC                     2020-11-11   \n",
       "13  Chinese Moon Festival             APAC                     2020-10-01   \n",
       "\n",
       "    finish_dt  \n",
       "0  2021-01-03  \n",
       "1  2020-02-16  \n",
       "2  2020-03-19  \n",
       "3  2020-04-19  \n",
       "4  2020-07-11  \n",
       "5  2020-12-01  \n",
       "6  2020-02-07  \n",
       "7  2020-05-03  \n",
       "8  2020-03-10  \n",
       "9  2020-05-11  \n",
       "10 2021-01-07  \n",
       "11 2020-07-01  \n",
       "12 2020-11-12  \n",
       "13 2020-10-07  "
      ]
     },
     "metadata": {},
     "output_type": "display_data"
    },
    {
     "name": "stdout",
     "output_type": "stream",
     "text": [
      "<class 'pandas.core.frame.DataFrame'>\n",
      "RangeIndex: 14 entries, 0 to 13\n",
      "Data columns (total 4 columns):\n",
      " #   Column     Non-Null Count  Dtype         \n",
      "---  ------     --------------  -----         \n",
      " 0   name       14 non-null     object        \n",
      " 1   regions    14 non-null     object        \n",
      " 2   start_dt   14 non-null     datetime64[ns]\n",
      " 3   finish_dt  14 non-null     datetime64[ns]\n",
      "dtypes: datetime64[ns](2), object(2)\n",
      "memory usage: 576.0+ bytes\n"
     ]
    }
   ],
   "source": [
    "display(ab_project_marketing_events)\n",
    "ab_project_marketing_events.info()"
   ]
  },
  {
   "cell_type": "markdown",
   "id": "3264cb99",
   "metadata": {},
   "source": [
    "Таблица **ab_project_marketing_events** (календарь маркетинговых событий на 2020 год) содержит сведения о 13 маркетинговых событиях на 2020 год, регионы и даты их проведения. Предобработка не нужна."
   ]
  },
  {
   "cell_type": "markdown",
   "id": "82f292d4",
   "metadata": {},
   "source": [
    "### Таблица final_ab_new_users"
   ]
  },
  {
   "cell_type": "markdown",
   "id": "096e7a46",
   "metadata": {},
   "source": [
    "`final_ab_new_users.csv` - пользователи, зарегистрировавшиеся с 7 по 21 декабря 2020 года.\n",
    "\n",
    "Описание данных:\n",
    "\n",
    "- `user_id` - идентификатор пользователя;\n",
    "- `first_date` - дата регистрации;\n",
    "- `region` - регион пользователя;\n",
    "- `device` - устройство, с которого происходила регистрация."
   ]
  },
  {
   "cell_type": "markdown",
   "id": "4d2e7ff3",
   "metadata": {},
   "source": [
    "Изучим таблицу final_ab_new_users."
   ]
  },
  {
   "cell_type": "code",
   "execution_count": 34,
   "id": "23bf1957",
   "metadata": {},
   "outputs": [
    {
     "data": {
      "text/plain": [
       "'5 рандомных строк таблицы:'"
      ]
     },
     "metadata": {},
     "output_type": "display_data"
    },
    {
     "data": {
      "text/html": [
       "<div>\n",
       "<style scoped>\n",
       "    .dataframe tbody tr th:only-of-type {\n",
       "        vertical-align: middle;\n",
       "    }\n",
       "\n",
       "    .dataframe tbody tr th {\n",
       "        vertical-align: top;\n",
       "    }\n",
       "\n",
       "    .dataframe thead th {\n",
       "        text-align: right;\n",
       "    }\n",
       "</style>\n",
       "<table border=\"1\" class=\"dataframe\">\n",
       "  <thead>\n",
       "    <tr style=\"text-align: right;\">\n",
       "      <th></th>\n",
       "      <th>user_id</th>\n",
       "      <th>first_date</th>\n",
       "      <th>region</th>\n",
       "      <th>device</th>\n",
       "    </tr>\n",
       "  </thead>\n",
       "  <tbody>\n",
       "    <tr>\n",
       "      <th>0</th>\n",
       "      <td>D72A72121175D8BE</td>\n",
       "      <td>2020-12-07</td>\n",
       "      <td>EU</td>\n",
       "      <td>PC</td>\n",
       "    </tr>\n",
       "    <tr>\n",
       "      <th>1</th>\n",
       "      <td>F1C668619DFE6E65</td>\n",
       "      <td>2020-12-07</td>\n",
       "      <td>N.America</td>\n",
       "      <td>Android</td>\n",
       "    </tr>\n",
       "    <tr>\n",
       "      <th>2</th>\n",
       "      <td>2E1BF1D4C37EA01F</td>\n",
       "      <td>2020-12-07</td>\n",
       "      <td>EU</td>\n",
       "      <td>PC</td>\n",
       "    </tr>\n",
       "    <tr>\n",
       "      <th>3</th>\n",
       "      <td>50734A22C0C63768</td>\n",
       "      <td>2020-12-07</td>\n",
       "      <td>EU</td>\n",
       "      <td>iPhone</td>\n",
       "    </tr>\n",
       "    <tr>\n",
       "      <th>4</th>\n",
       "      <td>E1BDDCE0DAFA2679</td>\n",
       "      <td>2020-12-07</td>\n",
       "      <td>N.America</td>\n",
       "      <td>iPhone</td>\n",
       "    </tr>\n",
       "  </tbody>\n",
       "</table>\n",
       "</div>"
      ],
      "text/plain": [
       "            user_id first_date     region   device\n",
       "0  D72A72121175D8BE 2020-12-07  EU         PC     \n",
       "1  F1C668619DFE6E65 2020-12-07  N.America  Android\n",
       "2  2E1BF1D4C37EA01F 2020-12-07  EU         PC     \n",
       "3  50734A22C0C63768 2020-12-07  EU         iPhone \n",
       "4  E1BDDCE0DAFA2679 2020-12-07  N.America  iPhone "
      ]
     },
     "metadata": {},
     "output_type": "display_data"
    },
    {
     "name": "stdout",
     "output_type": "stream",
     "text": [
      "<class 'pandas.core.frame.DataFrame'>\n",
      "RangeIndex: 61733 entries, 0 to 61732\n",
      "Data columns (total 4 columns):\n",
      " #   Column      Non-Null Count  Dtype         \n",
      "---  ------      --------------  -----         \n",
      " 0   user_id     61733 non-null  object        \n",
      " 1   first_date  61733 non-null  datetime64[ns]\n",
      " 2   region      61733 non-null  object        \n",
      " 3   device      61733 non-null  object        \n",
      "dtypes: datetime64[ns](1), object(3)\n",
      "memory usage: 1.9+ MB\n"
     ]
    },
    {
     "data": {
      "text/html": [
       "<div>\n",
       "<style scoped>\n",
       "    .dataframe tbody tr th:only-of-type {\n",
       "        vertical-align: middle;\n",
       "    }\n",
       "\n",
       "    .dataframe tbody tr th {\n",
       "        vertical-align: top;\n",
       "    }\n",
       "\n",
       "    .dataframe thead th {\n",
       "        text-align: right;\n",
       "    }\n",
       "</style>\n",
       "<table border=\"1\" class=\"dataframe\">\n",
       "  <thead>\n",
       "    <tr style=\"text-align: right;\">\n",
       "      <th></th>\n",
       "      <th>user_id</th>\n",
       "      <th>first_date</th>\n",
       "      <th>region</th>\n",
       "      <th>device</th>\n",
       "    </tr>\n",
       "  </thead>\n",
       "  <tbody>\n",
       "    <tr>\n",
       "      <th>count</th>\n",
       "      <td>61733</td>\n",
       "      <td>61733</td>\n",
       "      <td>61733</td>\n",
       "      <td>61733</td>\n",
       "    </tr>\n",
       "    <tr>\n",
       "      <th>unique</th>\n",
       "      <td>61733</td>\n",
       "      <td>17</td>\n",
       "      <td>4</td>\n",
       "      <td>4</td>\n",
       "    </tr>\n",
       "    <tr>\n",
       "      <th>top</th>\n",
       "      <td>FCC5E4DA1A452FE6</td>\n",
       "      <td>2020-12-21 00:00:00</td>\n",
       "      <td>EU</td>\n",
       "      <td>Android</td>\n",
       "    </tr>\n",
       "    <tr>\n",
       "      <th>freq</th>\n",
       "      <td>1</td>\n",
       "      <td>6290</td>\n",
       "      <td>46270</td>\n",
       "      <td>27520</td>\n",
       "    </tr>\n",
       "    <tr>\n",
       "      <th>first</th>\n",
       "      <td></td>\n",
       "      <td>2020-12-07 00:00:00</td>\n",
       "      <td></td>\n",
       "      <td></td>\n",
       "    </tr>\n",
       "    <tr>\n",
       "      <th>last</th>\n",
       "      <td></td>\n",
       "      <td>2020-12-23 00:00:00</td>\n",
       "      <td></td>\n",
       "      <td></td>\n",
       "    </tr>\n",
       "  </tbody>\n",
       "</table>\n",
       "</div>"
      ],
      "text/plain": [
       "                 user_id           first_date region   device\n",
       "count   61733             61733                61733  61733  \n",
       "unique  61733             17                   4      4      \n",
       "top     FCC5E4DA1A452FE6  2020-12-21 00:00:00  EU     Android\n",
       "freq    1                 6290                 46270  27520  \n",
       "first                     2020-12-07 00:00:00                \n",
       "last                      2020-12-23 00:00:00                "
      ]
     },
     "metadata": {},
     "output_type": "display_data"
    },
    {
     "name": "stdout",
     "output_type": "stream",
     "text": [
      "\n",
      "Количество дубликатов записей: 0\n"
     ]
    }
   ],
   "source": [
    "info_df(final_ab_new_users)"
   ]
  },
  {
   "cell_type": "markdown",
   "id": "a49873b9",
   "metadata": {},
   "source": [
    "Таблица **final_ab_new_users** содержит сведения о 61733 уникальных пользователях зарегистрировавшихся с 7 по 23 декабря 2020 года. Пропуски и дубликаты таблица не содержит. Предобработки не требует. \n",
    "\n",
    "Посмотрим на регионы пользователей."
   ]
  },
  {
   "cell_type": "code",
   "execution_count": 35,
   "id": "44aa9bb4",
   "metadata": {},
   "outputs": [
    {
     "name": "stdout",
     "output_type": "stream",
     "text": [
      "Регионы новых пользователей: EU, N.America, APAC, CIS\n"
     ]
    }
   ],
   "source": [
    "print('Регионы новых пользователей: ', ', '.join(final_ab_new_users['region'].unique()), sep='')"
   ]
  },
  {
   "cell_type": "markdown",
   "id": "c9b4b1a4",
   "metadata": {},
   "source": [
    "Посмотрим на список устройств, с которых происходила регистрация."
   ]
  },
  {
   "cell_type": "code",
   "execution_count": 36,
   "id": "443b9190",
   "metadata": {},
   "outputs": [
    {
     "name": "stdout",
     "output_type": "stream",
     "text": [
      "Список устройств, с которых происходила регистрация: PC, Android, iPhone, Mac\n"
     ]
    }
   ],
   "source": [
    "print('Список устройств, с которых происходила регистрация: ', \n",
    "      ', '.join(final_ab_new_users['device'].unique()), sep='')"
   ]
  },
  {
   "cell_type": "markdown",
   "id": "f77c1cf5",
   "metadata": {},
   "source": [
    "### Таблица final_ab_events"
   ]
  },
  {
   "cell_type": "markdown",
   "id": "d649910a",
   "metadata": {},
   "source": [
    "`final_ab_events.csv` - действия новых пользователей в период с 7 декабря 2020 по 4 января 2021 года.\n",
    "\n",
    "Описание данных:\n",
    "\n",
    "- `user_id` - идентификатор пользователя;\n",
    "- `event_dt` - дата и время покупки;\n",
    "- `event_name` - тип события;\n",
    "- `details` - дополнительные данные о событии. Например, для покупок, `purchase,` в этом поле хранится стоимость покупки в долларах."
   ]
  },
  {
   "cell_type": "markdown",
   "id": "8325ea4f",
   "metadata": {},
   "source": [
    "Изучим таблицу final_ab_events."
   ]
  },
  {
   "cell_type": "code",
   "execution_count": 37,
   "id": "c03135c7",
   "metadata": {},
   "outputs": [
    {
     "data": {
      "text/plain": [
       "'5 рандомных строк таблицы:'"
      ]
     },
     "metadata": {},
     "output_type": "display_data"
    },
    {
     "data": {
      "text/html": [
       "<div>\n",
       "<style scoped>\n",
       "    .dataframe tbody tr th:only-of-type {\n",
       "        vertical-align: middle;\n",
       "    }\n",
       "\n",
       "    .dataframe tbody tr th {\n",
       "        vertical-align: top;\n",
       "    }\n",
       "\n",
       "    .dataframe thead th {\n",
       "        text-align: right;\n",
       "    }\n",
       "</style>\n",
       "<table border=\"1\" class=\"dataframe\">\n",
       "  <thead>\n",
       "    <tr style=\"text-align: right;\">\n",
       "      <th></th>\n",
       "      <th>user_id</th>\n",
       "      <th>event_dt</th>\n",
       "      <th>event_name</th>\n",
       "      <th>details</th>\n",
       "    </tr>\n",
       "  </thead>\n",
       "  <tbody>\n",
       "    <tr>\n",
       "      <th>0</th>\n",
       "      <td>E1BDDCE0DAFA2679</td>\n",
       "      <td>2020-12-07 20:22:03</td>\n",
       "      <td>purchase</td>\n",
       "      <td>99.99</td>\n",
       "    </tr>\n",
       "    <tr>\n",
       "      <th>1</th>\n",
       "      <td>7B6452F081F49504</td>\n",
       "      <td>2020-12-07 09:22:53</td>\n",
       "      <td>purchase</td>\n",
       "      <td>9.99</td>\n",
       "    </tr>\n",
       "    <tr>\n",
       "      <th>2</th>\n",
       "      <td>9CD9F34546DF254C</td>\n",
       "      <td>2020-12-07 12:59:29</td>\n",
       "      <td>purchase</td>\n",
       "      <td>4.99</td>\n",
       "    </tr>\n",
       "    <tr>\n",
       "      <th>3</th>\n",
       "      <td>96F27A054B191457</td>\n",
       "      <td>2020-12-07 04:02:40</td>\n",
       "      <td>purchase</td>\n",
       "      <td>4.99</td>\n",
       "    </tr>\n",
       "    <tr>\n",
       "      <th>4</th>\n",
       "      <td>1FD7660FDF94CA1F</td>\n",
       "      <td>2020-12-07 10:15:09</td>\n",
       "      <td>purchase</td>\n",
       "      <td>4.99</td>\n",
       "    </tr>\n",
       "  </tbody>\n",
       "</table>\n",
       "</div>"
      ],
      "text/plain": [
       "            user_id            event_dt event_name  details\n",
       "0  E1BDDCE0DAFA2679 2020-12-07 20:22:03  purchase  99.99   \n",
       "1  7B6452F081F49504 2020-12-07 09:22:53  purchase  9.99    \n",
       "2  9CD9F34546DF254C 2020-12-07 12:59:29  purchase  4.99    \n",
       "3  96F27A054B191457 2020-12-07 04:02:40  purchase  4.99    \n",
       "4  1FD7660FDF94CA1F 2020-12-07 10:15:09  purchase  4.99    "
      ]
     },
     "metadata": {},
     "output_type": "display_data"
    },
    {
     "name": "stdout",
     "output_type": "stream",
     "text": [
      "<class 'pandas.core.frame.DataFrame'>\n",
      "RangeIndex: 440317 entries, 0 to 440316\n",
      "Data columns (total 4 columns):\n",
      " #   Column      Non-Null Count   Dtype         \n",
      "---  ------      --------------   -----         \n",
      " 0   user_id     440317 non-null  object        \n",
      " 1   event_dt    440317 non-null  datetime64[ns]\n",
      " 2   event_name  440317 non-null  object        \n",
      " 3   details     62740 non-null   float64       \n",
      "dtypes: datetime64[ns](1), float64(1), object(2)\n",
      "memory usage: 13.4+ MB\n"
     ]
    },
    {
     "data": {
      "text/html": [
       "<div>\n",
       "<style scoped>\n",
       "    .dataframe tbody tr th:only-of-type {\n",
       "        vertical-align: middle;\n",
       "    }\n",
       "\n",
       "    .dataframe tbody tr th {\n",
       "        vertical-align: top;\n",
       "    }\n",
       "\n",
       "    .dataframe thead th {\n",
       "        text-align: right;\n",
       "    }\n",
       "</style>\n",
       "<table border=\"1\" class=\"dataframe\">\n",
       "  <thead>\n",
       "    <tr style=\"text-align: right;\">\n",
       "      <th></th>\n",
       "      <th>user_id</th>\n",
       "      <th>event_dt</th>\n",
       "      <th>event_name</th>\n",
       "      <th>details</th>\n",
       "    </tr>\n",
       "  </thead>\n",
       "  <tbody>\n",
       "    <tr>\n",
       "      <th>count</th>\n",
       "      <td>440317</td>\n",
       "      <td>440317</td>\n",
       "      <td>440317</td>\n",
       "      <td>62740.00</td>\n",
       "    </tr>\n",
       "    <tr>\n",
       "      <th>unique</th>\n",
       "      <td>58703</td>\n",
       "      <td>267268</td>\n",
       "      <td>4</td>\n",
       "      <td></td>\n",
       "    </tr>\n",
       "    <tr>\n",
       "      <th>top</th>\n",
       "      <td>A3917F81482141F2</td>\n",
       "      <td>2020-12-14 18:54:55</td>\n",
       "      <td>login</td>\n",
       "      <td></td>\n",
       "    </tr>\n",
       "    <tr>\n",
       "      <th>freq</th>\n",
       "      <td>36</td>\n",
       "      <td>10</td>\n",
       "      <td>189552</td>\n",
       "      <td></td>\n",
       "    </tr>\n",
       "    <tr>\n",
       "      <th>first</th>\n",
       "      <td></td>\n",
       "      <td>2020-12-07 00:00:33</td>\n",
       "      <td></td>\n",
       "      <td></td>\n",
       "    </tr>\n",
       "    <tr>\n",
       "      <th>last</th>\n",
       "      <td></td>\n",
       "      <td>2020-12-30 23:36:33</td>\n",
       "      <td></td>\n",
       "      <td></td>\n",
       "    </tr>\n",
       "    <tr>\n",
       "      <th>mean</th>\n",
       "      <td></td>\n",
       "      <td></td>\n",
       "      <td></td>\n",
       "      <td>23.88</td>\n",
       "    </tr>\n",
       "    <tr>\n",
       "      <th>std</th>\n",
       "      <td></td>\n",
       "      <td></td>\n",
       "      <td></td>\n",
       "      <td>72.18</td>\n",
       "    </tr>\n",
       "    <tr>\n",
       "      <th>min</th>\n",
       "      <td></td>\n",
       "      <td></td>\n",
       "      <td></td>\n",
       "      <td>4.99</td>\n",
       "    </tr>\n",
       "    <tr>\n",
       "      <th>25%</th>\n",
       "      <td></td>\n",
       "      <td></td>\n",
       "      <td></td>\n",
       "      <td>4.99</td>\n",
       "    </tr>\n",
       "    <tr>\n",
       "      <th>50%</th>\n",
       "      <td></td>\n",
       "      <td></td>\n",
       "      <td></td>\n",
       "      <td>4.99</td>\n",
       "    </tr>\n",
       "    <tr>\n",
       "      <th>75%</th>\n",
       "      <td></td>\n",
       "      <td></td>\n",
       "      <td></td>\n",
       "      <td>9.99</td>\n",
       "    </tr>\n",
       "    <tr>\n",
       "      <th>max</th>\n",
       "      <td></td>\n",
       "      <td></td>\n",
       "      <td></td>\n",
       "      <td>499.99</td>\n",
       "    </tr>\n",
       "  </tbody>\n",
       "</table>\n",
       "</div>"
      ],
      "text/plain": [
       "                 user_id             event_dt event_name  details\n",
       "count   440317            440317               440317    62740.00\n",
       "unique  58703             267268               4                 \n",
       "top     A3917F81482141F2  2020-12-14 18:54:55  login             \n",
       "freq    36                10                   189552            \n",
       "first                     2020-12-07 00:00:33                    \n",
       "last                      2020-12-30 23:36:33                    \n",
       "mean                                                     23.88   \n",
       "std                                                      72.18   \n",
       "min                                                      4.99    \n",
       "25%                                                      4.99    \n",
       "50%                                                      4.99    \n",
       "75%                                                      9.99    \n",
       "max                                                      499.99  "
      ]
     },
     "metadata": {},
     "output_type": "display_data"
    },
    {
     "name": "stdout",
     "output_type": "stream",
     "text": [
      "\n",
      "Количество дубликатов записей: 0\n"
     ]
    }
   ],
   "source": [
    "info_df(final_ab_events)"
   ]
  },
  {
   "cell_type": "markdown",
   "id": "0f2ef094",
   "metadata": {},
   "source": [
    "Таблица **final_ab_events** состоит из 4 столбцов и содержит 440317 строк. Данные содержат информацию о действиях 58703 пользователях в период с 7 декабря 00:00:33 по 30 декабря 23:36:33 2020 года, а также дополнительные сведения об этих событиях. \n",
    "\n",
    "Столбец `details` содержит пропуски. \n",
    "\n",
    "Преобразуем дату в формат дата с указанием часа события."
   ]
  },
  {
   "cell_type": "code",
   "execution_count": 38,
   "id": "159babba",
   "metadata": {},
   "outputs": [],
   "source": [
    "final_ab_events['event_dt'] = final_ab_events['event_dt'].astype('datetime64[h]')"
   ]
  },
  {
   "cell_type": "markdown",
   "id": "da19c78c",
   "metadata": {},
   "source": [
    "Исследуем количественное распределение событий: "
   ]
  },
  {
   "cell_type": "code",
   "execution_count": 39,
   "id": "11d742f3",
   "metadata": {},
   "outputs": [
    {
     "data": {
      "text/html": [
       "<div>\n",
       "<style scoped>\n",
       "    .dataframe tbody tr th:only-of-type {\n",
       "        vertical-align: middle;\n",
       "    }\n",
       "\n",
       "    .dataframe tbody tr th {\n",
       "        vertical-align: top;\n",
       "    }\n",
       "\n",
       "    .dataframe thead th {\n",
       "        text-align: right;\n",
       "    }\n",
       "</style>\n",
       "<table border=\"1\" class=\"dataframe\">\n",
       "  <thead>\n",
       "    <tr style=\"text-align: right;\">\n",
       "      <th></th>\n",
       "      <th>event_name</th>\n",
       "    </tr>\n",
       "  </thead>\n",
       "  <tbody>\n",
       "    <tr>\n",
       "      <th>login</th>\n",
       "      <td>189552</td>\n",
       "    </tr>\n",
       "    <tr>\n",
       "      <th>product_page</th>\n",
       "      <td>125563</td>\n",
       "    </tr>\n",
       "    <tr>\n",
       "      <th>purchase</th>\n",
       "      <td>62740</td>\n",
       "    </tr>\n",
       "    <tr>\n",
       "      <th>product_cart</th>\n",
       "      <td>62462</td>\n",
       "    </tr>\n",
       "  </tbody>\n",
       "</table>\n",
       "</div>"
      ],
      "text/plain": [
       "              event_name\n",
       "login         189552    \n",
       "product_page  125563    \n",
       "purchase      62740     \n",
       "product_cart  62462     "
      ]
     },
     "execution_count": 39,
     "metadata": {},
     "output_type": "execute_result"
    }
   ],
   "source": [
    "pd.DataFrame(final_ab_events['event_name'].value_counts())"
   ]
  },
  {
   "cell_type": "markdown",
   "id": "cf9e73c5",
   "metadata": {},
   "source": [
    "Вычислим количество пропущенных значений в столбце с дополнительной информацией для каждого события:"
   ]
  },
  {
   "cell_type": "code",
   "execution_count": 40,
   "id": "c80fbc23",
   "metadata": {},
   "outputs": [
    {
     "data": {
      "text/html": [
       "<div>\n",
       "<style scoped>\n",
       "    .dataframe tbody tr th:only-of-type {\n",
       "        vertical-align: middle;\n",
       "    }\n",
       "\n",
       "    .dataframe tbody tr th {\n",
       "        vertical-align: top;\n",
       "    }\n",
       "\n",
       "    .dataframe thead th {\n",
       "        text-align: right;\n",
       "    }\n",
       "</style>\n",
       "<table border=\"1\" class=\"dataframe\">\n",
       "  <thead>\n",
       "    <tr style=\"text-align: right;\">\n",
       "      <th></th>\n",
       "      <th>event_name</th>\n",
       "    </tr>\n",
       "  </thead>\n",
       "  <tbody>\n",
       "    <tr>\n",
       "      <th>login</th>\n",
       "      <td>189552</td>\n",
       "    </tr>\n",
       "    <tr>\n",
       "      <th>product_page</th>\n",
       "      <td>125563</td>\n",
       "    </tr>\n",
       "    <tr>\n",
       "      <th>product_cart</th>\n",
       "      <td>62462</td>\n",
       "    </tr>\n",
       "  </tbody>\n",
       "</table>\n",
       "</div>"
      ],
      "text/plain": [
       "              event_name\n",
       "login         189552    \n",
       "product_page  125563    \n",
       "product_cart  62462     "
      ]
     },
     "execution_count": 40,
     "metadata": {},
     "output_type": "execute_result"
    }
   ],
   "source": [
    "pd.DataFrame(final_ab_events[final_ab_events['details'].isna()]['event_name'].value_counts())"
   ]
  },
  {
   "cell_type": "markdown",
   "id": "552d4cbb",
   "metadata": {},
   "source": [
    "Без пропусков только данные для покупок - purchase (стоимость покупки в долларах)). Все остальные события - login, product_page, product_cart без дополнительной информации, что вполне закономерно, учитывая то, что эти события содержат конкретные идентификационные данные."
   ]
  },
  {
   "cell_type": "markdown",
   "id": "572d5d30",
   "metadata": {},
   "source": [
    "### Таблица final_ab_participants"
   ]
  },
  {
   "cell_type": "markdown",
   "id": "231a3c76",
   "metadata": {},
   "source": [
    "`final_ab_participants.csv` - таблица участников тестов.\n",
    "\n",
    "Описание данных:\n",
    "\n",
    "- `user_id` - идентификатор пользователя;\n",
    "- `ab_test` - название теста;\n",
    "- `group` - группа пользователя."
   ]
  },
  {
   "cell_type": "markdown",
   "id": "d2b23464",
   "metadata": {},
   "source": [
    "Изучим таблицу final_ab_participants."
   ]
  },
  {
   "cell_type": "code",
   "execution_count": 41,
   "id": "69543654",
   "metadata": {},
   "outputs": [
    {
     "data": {
      "text/plain": [
       "'5 рандомных строк таблицы:'"
      ]
     },
     "metadata": {},
     "output_type": "display_data"
    },
    {
     "data": {
      "text/html": [
       "<div>\n",
       "<style scoped>\n",
       "    .dataframe tbody tr th:only-of-type {\n",
       "        vertical-align: middle;\n",
       "    }\n",
       "\n",
       "    .dataframe tbody tr th {\n",
       "        vertical-align: top;\n",
       "    }\n",
       "\n",
       "    .dataframe thead th {\n",
       "        text-align: right;\n",
       "    }\n",
       "</style>\n",
       "<table border=\"1\" class=\"dataframe\">\n",
       "  <thead>\n",
       "    <tr style=\"text-align: right;\">\n",
       "      <th></th>\n",
       "      <th>user_id</th>\n",
       "      <th>group</th>\n",
       "      <th>ab_test</th>\n",
       "    </tr>\n",
       "  </thead>\n",
       "  <tbody>\n",
       "    <tr>\n",
       "      <th>0</th>\n",
       "      <td>D1ABA3E2887B6A73</td>\n",
       "      <td>A</td>\n",
       "      <td>recommender_system_test</td>\n",
       "    </tr>\n",
       "    <tr>\n",
       "      <th>1</th>\n",
       "      <td>A7A3664BD6242119</td>\n",
       "      <td>A</td>\n",
       "      <td>recommender_system_test</td>\n",
       "    </tr>\n",
       "    <tr>\n",
       "      <th>2</th>\n",
       "      <td>DABC14FDDFADD29E</td>\n",
       "      <td>A</td>\n",
       "      <td>recommender_system_test</td>\n",
       "    </tr>\n",
       "    <tr>\n",
       "      <th>3</th>\n",
       "      <td>04988C5DF189632E</td>\n",
       "      <td>A</td>\n",
       "      <td>recommender_system_test</td>\n",
       "    </tr>\n",
       "    <tr>\n",
       "      <th>4</th>\n",
       "      <td>482F14783456D21B</td>\n",
       "      <td>B</td>\n",
       "      <td>recommender_system_test</td>\n",
       "    </tr>\n",
       "  </tbody>\n",
       "</table>\n",
       "</div>"
      ],
      "text/plain": [
       "            user_id group                  ab_test\n",
       "0  D1ABA3E2887B6A73  A     recommender_system_test\n",
       "1  A7A3664BD6242119  A     recommender_system_test\n",
       "2  DABC14FDDFADD29E  A     recommender_system_test\n",
       "3  04988C5DF189632E  A     recommender_system_test\n",
       "4  482F14783456D21B  B     recommender_system_test"
      ]
     },
     "metadata": {},
     "output_type": "display_data"
    },
    {
     "name": "stdout",
     "output_type": "stream",
     "text": [
      "<class 'pandas.core.frame.DataFrame'>\n",
      "RangeIndex: 18268 entries, 0 to 18267\n",
      "Data columns (total 3 columns):\n",
      " #   Column   Non-Null Count  Dtype \n",
      "---  ------   --------------  ----- \n",
      " 0   user_id  18268 non-null  object\n",
      " 1   group    18268 non-null  object\n",
      " 2   ab_test  18268 non-null  object\n",
      "dtypes: object(3)\n",
      "memory usage: 428.3+ KB\n"
     ]
    },
    {
     "data": {
      "text/html": [
       "<div>\n",
       "<style scoped>\n",
       "    .dataframe tbody tr th:only-of-type {\n",
       "        vertical-align: middle;\n",
       "    }\n",
       "\n",
       "    .dataframe tbody tr th {\n",
       "        vertical-align: top;\n",
       "    }\n",
       "\n",
       "    .dataframe thead th {\n",
       "        text-align: right;\n",
       "    }\n",
       "</style>\n",
       "<table border=\"1\" class=\"dataframe\">\n",
       "  <thead>\n",
       "    <tr style=\"text-align: right;\">\n",
       "      <th></th>\n",
       "      <th>user_id</th>\n",
       "      <th>group</th>\n",
       "      <th>ab_test</th>\n",
       "    </tr>\n",
       "  </thead>\n",
       "  <tbody>\n",
       "    <tr>\n",
       "      <th>count</th>\n",
       "      <td>18268</td>\n",
       "      <td>18268</td>\n",
       "      <td>18268</td>\n",
       "    </tr>\n",
       "    <tr>\n",
       "      <th>unique</th>\n",
       "      <td>16666</td>\n",
       "      <td>2</td>\n",
       "      <td>2</td>\n",
       "    </tr>\n",
       "    <tr>\n",
       "      <th>top</th>\n",
       "      <td>207E61D6D4F44D97</td>\n",
       "      <td>A</td>\n",
       "      <td>interface_eu_test</td>\n",
       "    </tr>\n",
       "    <tr>\n",
       "      <th>freq</th>\n",
       "      <td>2</td>\n",
       "      <td>9655</td>\n",
       "      <td>11567</td>\n",
       "    </tr>\n",
       "  </tbody>\n",
       "</table>\n",
       "</div>"
      ],
      "text/plain": [
       "                 user_id  group            ab_test\n",
       "count   18268             18268  18268            \n",
       "unique  16666             2      2                \n",
       "top     207E61D6D4F44D97  A      interface_eu_test\n",
       "freq    2                 9655   11567            "
      ]
     },
     "metadata": {},
     "output_type": "display_data"
    },
    {
     "name": "stdout",
     "output_type": "stream",
     "text": [
      "\n",
      "Количество дубликатов записей: 0\n"
     ]
    }
   ],
   "source": [
    "info_df(final_ab_participants)"
   ]
  },
  {
   "cell_type": "markdown",
   "id": "48f1c910",
   "metadata": {},
   "source": [
    "Таблица **final_ab_participants** состоит из 3 столбцов и 18268 строк и содержит сведения о 16666 участниках тестов.  \n",
    "Посмотрим на список групп и список тестов:"
   ]
  },
  {
   "cell_type": "code",
   "execution_count": 42,
   "id": "13f345da",
   "metadata": {},
   "outputs": [
    {
     "name": "stdout",
     "output_type": "stream",
     "text": [
      "Список групп: A, B\n"
     ]
    }
   ],
   "source": [
    "print('Список групп: ', ', '.join(final_ab_participants['group'].unique()), sep='')"
   ]
  },
  {
   "cell_type": "code",
   "execution_count": 43,
   "id": "844a94f2",
   "metadata": {},
   "outputs": [
    {
     "name": "stdout",
     "output_type": "stream",
     "text": [
      "Названия тестов: recommender_system_test, interface_eu_test\n"
     ]
    }
   ],
   "source": [
    "print('Названия тестов: ', ', '.join(final_ab_participants['ab_test'].unique()), sep='')"
   ]
  },
  {
   "cell_type": "markdown",
   "id": "f3f42c28",
   "metadata": {},
   "source": [
    "### Вывод"
   ]
  },
  {
   "cell_type": "markdown",
   "id": "c7305e0e",
   "metadata": {},
   "source": [
    "1. Были изучены 4 датафрейма: ab_project_marketing_events, final_ab_new_users, final_ab_events, final_ab_participants. \n",
    "2. Были изменены типы данных в колонках с датами при загрузке данных. \n",
    "3. Дубликатов не обнаружено.\n",
    "4. Пропуски в таблице `final_ab_events` в колонке `details` (дополнительная инцормация о событии). Без пропусков только данные для покупок - purchase (стоимость покупки в долларах)). Все остальные события - login, product_page, product_cart без дополнительной информации, что вполне закономерно, учитывая то, что эти события содержат конкретные идентификационные данные."
   ]
  },
  {
   "cell_type": "markdown",
   "id": "c69e0fb2",
   "metadata": {},
   "source": [
    "## Оценка корректности проведения теста"
   ]
  },
  {
   "cell_type": "markdown",
   "id": "fea6cbed",
   "metadata": {},
   "source": [
    "### Изучение групп на пересечение пользователей"
   ]
  },
  {
   "cell_type": "markdown",
   "id": "3732c175",
   "metadata": {},
   "source": [
    "В выборке **final_ab_participants** содержатся сведения о двух параллельных А/В-тестах. Выполним проверку на пересечение тестовой аудитории с конкурирующим тестом.  \n",
    "\n",
    "Посмотрим на распределение пользователей по тестам."
   ]
  },
  {
   "cell_type": "code",
   "execution_count": 44,
   "id": "7f1cb469",
   "metadata": {},
   "outputs": [
    {
     "data": {
      "text/html": [
       "<div>\n",
       "<style scoped>\n",
       "    .dataframe tbody tr th:only-of-type {\n",
       "        vertical-align: middle;\n",
       "    }\n",
       "\n",
       "    .dataframe tbody tr th {\n",
       "        vertical-align: top;\n",
       "    }\n",
       "\n",
       "    .dataframe thead th {\n",
       "        text-align: right;\n",
       "    }\n",
       "</style>\n",
       "<table border=\"1\" class=\"dataframe\">\n",
       "  <thead>\n",
       "    <tr style=\"text-align: right;\">\n",
       "      <th></th>\n",
       "      <th>user_id</th>\n",
       "    </tr>\n",
       "    <tr>\n",
       "      <th>ab_test</th>\n",
       "      <th></th>\n",
       "    </tr>\n",
       "  </thead>\n",
       "  <tbody>\n",
       "    <tr>\n",
       "      <th>interface_eu_test</th>\n",
       "      <td>11567</td>\n",
       "    </tr>\n",
       "    <tr>\n",
       "      <th>recommender_system_test</th>\n",
       "      <td>6701</td>\n",
       "    </tr>\n",
       "  </tbody>\n",
       "</table>\n",
       "</div>"
      ],
      "text/plain": [
       "                         user_id\n",
       "ab_test                         \n",
       "interface_eu_test        11567  \n",
       "recommender_system_test  6701   "
      ]
     },
     "execution_count": 44,
     "metadata": {},
     "output_type": "execute_result"
    }
   ],
   "source": [
    "final_ab_participants.pivot_table(values='user_id', index='ab_test', aggfunc='count')"
   ]
  },
  {
   "cell_type": "markdown",
   "id": "13ec3670",
   "metadata": {},
   "source": [
    "Определим количество уникальных пользователей в таблице **final_ab_participants** (таблица участников тестов):"
   ]
  },
  {
   "cell_type": "code",
   "execution_count": 45,
   "id": "df8f8b3e",
   "metadata": {},
   "outputs": [
    {
     "name": "stdout",
     "output_type": "stream",
     "text": [
      "Количество уникальных пользователей в таблице final_ab_participants: 16666\n"
     ]
    }
   ],
   "source": [
    "print('Количество уникальных пользователей в таблице final_ab_participants:', \n",
    "      final_ab_participants['user_id'].nunique())"
   ]
  },
  {
   "cell_type": "markdown",
   "id": "77cde8ff",
   "metadata": {},
   "source": [
    "Выборка содержит 18268 записей, при этом уникальны только 16666, что свидетельствует о возможном наличии пересекающихся значений. Выявим пользователей участвующих в обоих тестах:"
   ]
  },
  {
   "cell_type": "code",
   "execution_count": 46,
   "id": "8c643fa6",
   "metadata": {},
   "outputs": [
    {
     "name": "stdout",
     "output_type": "stream",
     "text": [
      "Количество пользователей участвующих в обоих тестах: 1602\n"
     ]
    }
   ],
   "source": [
    "users_in_test = final_ab_participants.groupby('user_id').agg({'ab_test': 'nunique'}).reset_index()\n",
    "n_users_in_test = users_in_test[users_in_test['ab_test'] > 1]['user_id']\n",
    "print('Количество пользователей участвующих в обоих тестах:', n_users_in_test.count())"
   ]
  },
  {
   "cell_type": "markdown",
   "id": "a205005a",
   "metadata": {},
   "source": [
    "Сформируем таблицу **df_participants** исключив пересекающиеся значения и оставив в таблице только участников `recommender_system_test`:"
   ]
  },
  {
   "cell_type": "code",
   "execution_count": 47,
   "id": "699aba2b",
   "metadata": {},
   "outputs": [],
   "source": [
    "df_participants = final_ab_participants[~final_ab_participants['user_id'].isin(n_users_in_test.values)]\n",
    "df_participants = df_participants[df_participants['ab_test'] == 'recommender_system_test'].reset_index(drop=True)"
   ]
  },
  {
   "cell_type": "code",
   "execution_count": 48,
   "id": "a80940e5",
   "metadata": {},
   "outputs": [
    {
     "data": {
      "text/html": [
       "<div>\n",
       "<style scoped>\n",
       "    .dataframe tbody tr th:only-of-type {\n",
       "        vertical-align: middle;\n",
       "    }\n",
       "\n",
       "    .dataframe tbody tr th {\n",
       "        vertical-align: top;\n",
       "    }\n",
       "\n",
       "    .dataframe thead th {\n",
       "        text-align: right;\n",
       "    }\n",
       "</style>\n",
       "<table border=\"1\" class=\"dataframe\">\n",
       "  <thead>\n",
       "    <tr style=\"text-align: right;\">\n",
       "      <th></th>\n",
       "      <th>user_id</th>\n",
       "      <th>group</th>\n",
       "      <th>ab_test</th>\n",
       "    </tr>\n",
       "  </thead>\n",
       "  <tbody>\n",
       "    <tr>\n",
       "      <th>0</th>\n",
       "      <td>D1ABA3E2887B6A73</td>\n",
       "      <td>A</td>\n",
       "      <td>recommender_system_test</td>\n",
       "    </tr>\n",
       "    <tr>\n",
       "      <th>1</th>\n",
       "      <td>A7A3664BD6242119</td>\n",
       "      <td>A</td>\n",
       "      <td>recommender_system_test</td>\n",
       "    </tr>\n",
       "    <tr>\n",
       "      <th>2</th>\n",
       "      <td>482F14783456D21B</td>\n",
       "      <td>B</td>\n",
       "      <td>recommender_system_test</td>\n",
       "    </tr>\n",
       "  </tbody>\n",
       "</table>\n",
       "</div>"
      ],
      "text/plain": [
       "            user_id group                  ab_test\n",
       "0  D1ABA3E2887B6A73  A     recommender_system_test\n",
       "1  A7A3664BD6242119  A     recommender_system_test\n",
       "2  482F14783456D21B  B     recommender_system_test"
      ]
     },
     "execution_count": 48,
     "metadata": {},
     "output_type": "execute_result"
    }
   ],
   "source": [
    "df_participants.head(3)"
   ]
  },
  {
   "cell_type": "markdown",
   "id": "82f1b210",
   "metadata": {},
   "source": [
    "### Изучение равномерности распределения пользователей по группам"
   ]
  },
  {
   "cell_type": "markdown",
   "id": "677a5373",
   "metadata": {},
   "source": [
    "Объеденим таблицу **final_ab_participants** с участниками теста и таблицу **final_ab_new_users** с новыми пользователями, зарегистрировавшимися с 7 по 21 декабря 2020 года:"
   ]
  },
  {
   "cell_type": "code",
   "execution_count": 49,
   "id": "f352dd9f",
   "metadata": {},
   "outputs": [],
   "source": [
    "df_new_users = df_participants.merge(final_ab_new_users, on='user_id', how='left')"
   ]
  },
  {
   "cell_type": "markdown",
   "id": "75d51486",
   "metadata": {},
   "source": [
    "Изучим информацию о полученной таблице **df_new_users**:"
   ]
  },
  {
   "cell_type": "code",
   "execution_count": 50,
   "id": "d9b352fa",
   "metadata": {},
   "outputs": [
    {
     "data": {
      "text/plain": [
       "'5 рандомных строк таблицы:'"
      ]
     },
     "metadata": {},
     "output_type": "display_data"
    },
    {
     "data": {
      "text/html": [
       "<div>\n",
       "<style scoped>\n",
       "    .dataframe tbody tr th:only-of-type {\n",
       "        vertical-align: middle;\n",
       "    }\n",
       "\n",
       "    .dataframe tbody tr th {\n",
       "        vertical-align: top;\n",
       "    }\n",
       "\n",
       "    .dataframe thead th {\n",
       "        text-align: right;\n",
       "    }\n",
       "</style>\n",
       "<table border=\"1\" class=\"dataframe\">\n",
       "  <thead>\n",
       "    <tr style=\"text-align: right;\">\n",
       "      <th></th>\n",
       "      <th>user_id</th>\n",
       "      <th>group</th>\n",
       "      <th>ab_test</th>\n",
       "      <th>first_date</th>\n",
       "      <th>region</th>\n",
       "      <th>device</th>\n",
       "    </tr>\n",
       "  </thead>\n",
       "  <tbody>\n",
       "    <tr>\n",
       "      <th>0</th>\n",
       "      <td>D1ABA3E2887B6A73</td>\n",
       "      <td>A</td>\n",
       "      <td>recommender_system_test</td>\n",
       "      <td>2020-12-07</td>\n",
       "      <td>EU</td>\n",
       "      <td>PC</td>\n",
       "    </tr>\n",
       "    <tr>\n",
       "      <th>1</th>\n",
       "      <td>A7A3664BD6242119</td>\n",
       "      <td>A</td>\n",
       "      <td>recommender_system_test</td>\n",
       "      <td>2020-12-20</td>\n",
       "      <td>EU</td>\n",
       "      <td>iPhone</td>\n",
       "    </tr>\n",
       "    <tr>\n",
       "      <th>2</th>\n",
       "      <td>482F14783456D21B</td>\n",
       "      <td>B</td>\n",
       "      <td>recommender_system_test</td>\n",
       "      <td>2020-12-14</td>\n",
       "      <td>EU</td>\n",
       "      <td>PC</td>\n",
       "    </tr>\n",
       "    <tr>\n",
       "      <th>3</th>\n",
       "      <td>4FF2998A348C484F</td>\n",
       "      <td>A</td>\n",
       "      <td>recommender_system_test</td>\n",
       "      <td>2020-12-20</td>\n",
       "      <td>EU</td>\n",
       "      <td>Mac</td>\n",
       "    </tr>\n",
       "    <tr>\n",
       "      <th>4</th>\n",
       "      <td>7473E0943673C09E</td>\n",
       "      <td>A</td>\n",
       "      <td>recommender_system_test</td>\n",
       "      <td>2020-12-16</td>\n",
       "      <td>EU</td>\n",
       "      <td>iPhone</td>\n",
       "    </tr>\n",
       "  </tbody>\n",
       "</table>\n",
       "</div>"
      ],
      "text/plain": [
       "            user_id group                  ab_test first_date region  device\n",
       "0  D1ABA3E2887B6A73  A     recommender_system_test 2020-12-07  EU     PC    \n",
       "1  A7A3664BD6242119  A     recommender_system_test 2020-12-20  EU     iPhone\n",
       "2  482F14783456D21B  B     recommender_system_test 2020-12-14  EU     PC    \n",
       "3  4FF2998A348C484F  A     recommender_system_test 2020-12-20  EU     Mac   \n",
       "4  7473E0943673C09E  A     recommender_system_test 2020-12-16  EU     iPhone"
      ]
     },
     "metadata": {},
     "output_type": "display_data"
    },
    {
     "name": "stdout",
     "output_type": "stream",
     "text": [
      "<class 'pandas.core.frame.DataFrame'>\n",
      "Int64Index: 5099 entries, 0 to 5098\n",
      "Data columns (total 6 columns):\n",
      " #   Column      Non-Null Count  Dtype         \n",
      "---  ------      --------------  -----         \n",
      " 0   user_id     5099 non-null   object        \n",
      " 1   group       5099 non-null   object        \n",
      " 2   ab_test     5099 non-null   object        \n",
      " 3   first_date  5099 non-null   datetime64[ns]\n",
      " 4   region      5099 non-null   object        \n",
      " 5   device      5099 non-null   object        \n",
      "dtypes: datetime64[ns](1), object(5)\n",
      "memory usage: 278.9+ KB\n"
     ]
    },
    {
     "data": {
      "text/html": [
       "<div>\n",
       "<style scoped>\n",
       "    .dataframe tbody tr th:only-of-type {\n",
       "        vertical-align: middle;\n",
       "    }\n",
       "\n",
       "    .dataframe tbody tr th {\n",
       "        vertical-align: top;\n",
       "    }\n",
       "\n",
       "    .dataframe thead th {\n",
       "        text-align: right;\n",
       "    }\n",
       "</style>\n",
       "<table border=\"1\" class=\"dataframe\">\n",
       "  <thead>\n",
       "    <tr style=\"text-align: right;\">\n",
       "      <th></th>\n",
       "      <th>user_id</th>\n",
       "      <th>group</th>\n",
       "      <th>ab_test</th>\n",
       "      <th>first_date</th>\n",
       "      <th>region</th>\n",
       "      <th>device</th>\n",
       "    </tr>\n",
       "  </thead>\n",
       "  <tbody>\n",
       "    <tr>\n",
       "      <th>count</th>\n",
       "      <td>5099</td>\n",
       "      <td>5099</td>\n",
       "      <td>5099</td>\n",
       "      <td>5099</td>\n",
       "      <td>5099</td>\n",
       "      <td>5099</td>\n",
       "    </tr>\n",
       "    <tr>\n",
       "      <th>unique</th>\n",
       "      <td>5099</td>\n",
       "      <td>2</td>\n",
       "      <td>1</td>\n",
       "      <td>15</td>\n",
       "      <td>4</td>\n",
       "      <td>4</td>\n",
       "    </tr>\n",
       "    <tr>\n",
       "      <th>top</th>\n",
       "      <td>4DE9D524EB5F4659</td>\n",
       "      <td>A</td>\n",
       "      <td>recommender_system_test</td>\n",
       "      <td>2020-12-21 00:00:00</td>\n",
       "      <td>EU</td>\n",
       "      <td>Android</td>\n",
       "    </tr>\n",
       "    <tr>\n",
       "      <th>freq</th>\n",
       "      <td>1</td>\n",
       "      <td>2903</td>\n",
       "      <td>5099</td>\n",
       "      <td>544</td>\n",
       "      <td>4749</td>\n",
       "      <td>2294</td>\n",
       "    </tr>\n",
       "    <tr>\n",
       "      <th>first</th>\n",
       "      <td></td>\n",
       "      <td></td>\n",
       "      <td></td>\n",
       "      <td>2020-12-07 00:00:00</td>\n",
       "      <td></td>\n",
       "      <td></td>\n",
       "    </tr>\n",
       "    <tr>\n",
       "      <th>last</th>\n",
       "      <td></td>\n",
       "      <td></td>\n",
       "      <td></td>\n",
       "      <td>2020-12-21 00:00:00</td>\n",
       "      <td></td>\n",
       "      <td></td>\n",
       "    </tr>\n",
       "  </tbody>\n",
       "</table>\n",
       "</div>"
      ],
      "text/plain": [
       "                 user_id group                  ab_test           first_date  \\\n",
       "count   5099              5099  5099                     5099                  \n",
       "unique  5099              2     1                        15                    \n",
       "top     4DE9D524EB5F4659  A     recommender_system_test  2020-12-21 00:00:00   \n",
       "freq    1                 2903  5099                     544                   \n",
       "first                                                    2020-12-07 00:00:00   \n",
       "last                                                     2020-12-21 00:00:00   \n",
       "\n",
       "       region   device  \n",
       "count   5099   5099     \n",
       "unique  4      4        \n",
       "top     EU     Android  \n",
       "freq    4749   2294     \n",
       "first                   \n",
       "last                    "
      ]
     },
     "metadata": {},
     "output_type": "display_data"
    },
    {
     "name": "stdout",
     "output_type": "stream",
     "text": [
      "\n",
      "Количество дубликатов записей: 0\n"
     ]
    }
   ],
   "source": [
    "info_df(df_new_users)"
   ]
  },
  {
   "cell_type": "markdown",
   "id": "abe96fb1",
   "metadata": {},
   "source": [
    "Таблица **df_new_users** содержит сведения о 5099 уникальных новых пользователях - участниках теста, за период с 7 по 21 декабря 2020 года. Пропущенных значений таблица **df_new_users** не содержит. Целевое значение технического задания - ожидаемое количество участников теста 6000, не было достигнуто.  \n",
    "\n",
    "Определим количество пользователей в тесте из европейского региона:"
   ]
  },
  {
   "cell_type": "code",
   "execution_count": 104,
   "id": "9fbdae3a",
   "metadata": {},
   "outputs": [
    {
     "data": {
      "image/png": "[encoded data removed]",
      "text/plain": [
       "<Figure size 720x360 with 1 Axes>"
      ]
     },
     "metadata": {
      "needs_background": "light"
     },
     "output_type": "display_data"
    }
   ],
   "source": [
    "# График распределения пользователей по регионам\n",
    "plt.figure(figsize=(10, 5))\n",
    "ax_users_reg = sns.countplot(x=df_new_users['region'])\n",
    "ax_users_reg.margins(0.03, 0.2)\n",
    "ax_users_reg.set_title('Распределение пользователей по регионам', pad=14)\n",
    "ax_users_reg.set_xlabel('Регион', size=12)\n",
    "ax_users_reg.set_ylabel('Количество пользователей', size=11)\n",
    "plt.show()"
   ]
  },
  {
   "cell_type": "markdown",
   "id": "f54e3ddc",
   "metadata": {},
   "source": [
    "Большинство пользователей в тесте из европейского региона. Вычислим долю пользователей из европейского региона в тесте от общего количества новых пользователей из европейского региона:"
   ]
  },
  {
   "cell_type": "code",
   "execution_count": 52,
   "id": "93d835d9",
   "metadata": {},
   "outputs": [
    {
     "name": "stdout",
     "output_type": "stream",
     "text": [
      "Доля новых пользователей из региона EU в тесте: 11.2%\n"
     ]
    }
   ],
   "source": [
    "ab_users_EU = df_new_users[df_new_users['region'] == 'EU']['user_id'].count()\n",
    "all_users_EU = final_ab_new_users[(final_ab_new_users['region'] == 'EU') &\n",
    "                                  (final_ab_new_users['first_date'] <= '2020-12-21')]['user_id'].count()\n",
    "print('Доля новых пользователей из региона EU в тесте:', '{:.1%}'.format(ab_users_EU / all_users_EU))"
   ]
  },
  {
   "cell_type": "markdown",
   "id": "4e131c1f",
   "metadata": {},
   "source": [
    "Целевое значение по техническому заданию - 15% новых пользователей из европейского региона, не было достигнуто.\n",
    "\n",
    "Изучим распределение пользователей по группам А/В-теста:"
   ]
  },
  {
   "cell_type": "code",
   "execution_count": 53,
   "id": "59f41413",
   "metadata": {},
   "outputs": [
    {
     "data": {
      "text/html": [
       "<div>\n",
       "<style scoped>\n",
       "    .dataframe tbody tr th:only-of-type {\n",
       "        vertical-align: middle;\n",
       "    }\n",
       "\n",
       "    .dataframe tbody tr th {\n",
       "        vertical-align: top;\n",
       "    }\n",
       "\n",
       "    .dataframe thead th {\n",
       "        text-align: right;\n",
       "    }\n",
       "</style>\n",
       "<table border=\"1\" class=\"dataframe\">\n",
       "  <thead>\n",
       "    <tr style=\"text-align: right;\">\n",
       "      <th></th>\n",
       "      <th>count</th>\n",
       "      <th>percents</th>\n",
       "    </tr>\n",
       "    <tr>\n",
       "      <th>group</th>\n",
       "      <th></th>\n",
       "      <th></th>\n",
       "    </tr>\n",
       "  </thead>\n",
       "  <tbody>\n",
       "    <tr>\n",
       "      <th>A</th>\n",
       "      <td>2903</td>\n",
       "      <td>56.93</td>\n",
       "    </tr>\n",
       "    <tr>\n",
       "      <th>B</th>\n",
       "      <td>2196</td>\n",
       "      <td>43.07</td>\n",
       "    </tr>\n",
       "  </tbody>\n",
       "</table>\n",
       "</div>"
      ],
      "text/plain": [
       "       count  percents\n",
       "group                 \n",
       "A      2903  56.93    \n",
       "B      2196  43.07    "
      ]
     },
     "execution_count": 53,
     "metadata": {},
     "output_type": "execute_result"
    }
   ],
   "source": [
    "total = df_new_users['user_id'].count()\n",
    "size_groups = pd.pivot_table(df_new_users, index='group', values='user_id', \n",
    "                             aggfunc=['count', (lambda x: x.count()*100/total)])\\\n",
    ".xs('user_id', level=1, axis=1, drop_level=True).rename(columns={'<lambda>': 'percents'})\n",
    "size_groups"
   ]
  },
  {
   "cell_type": "markdown",
   "id": "026091f8",
   "metadata": {},
   "source": [
    "Целевое количество пользователей в 6000 не было достигнуто, а выборки контрольной группы и группы сравнения отличаются по размеру. В дальнейшем исследовании перед проведением A/B-теста будем проверять его мощность, чтобы исключить возможность статистических ошибок."
   ]
  },
  {
   "cell_type": "markdown",
   "id": "f6ec5f6f",
   "metadata": {},
   "source": [
    "### Изучение временных границ теста"
   ]
  },
  {
   "cell_type": "markdown",
   "id": "80dab40b",
   "metadata": {},
   "source": [
    "Выполним проверку на совпадение времени проведения теста с маркетинговыми и другими активностями.  \n",
    "\n",
    "Присоеденим таблицу **final_ab_events** (действия новых пользователей) к ранее полученной таблице **df_new_users**: "
   ]
  },
  {
   "cell_type": "code",
   "execution_count": 54,
   "id": "d271ef3c",
   "metadata": {},
   "outputs": [],
   "source": [
    "df_events = df_new_users.merge(final_ab_events, on='user_id', how='left')"
   ]
  },
  {
   "cell_type": "markdown",
   "id": "ca1bb3cd",
   "metadata": {},
   "source": [
    "Изучим информацию о полученной таблице **df_events**:"
   ]
  },
  {
   "cell_type": "code",
   "execution_count": 55,
   "id": "c2561428",
   "metadata": {},
   "outputs": [
    {
     "data": {
      "text/plain": [
       "'5 рандомных строк таблицы:'"
      ]
     },
     "metadata": {},
     "output_type": "display_data"
    },
    {
     "data": {
      "text/html": [
       "<div>\n",
       "<style scoped>\n",
       "    .dataframe tbody tr th:only-of-type {\n",
       "        vertical-align: middle;\n",
       "    }\n",
       "\n",
       "    .dataframe tbody tr th {\n",
       "        vertical-align: top;\n",
       "    }\n",
       "\n",
       "    .dataframe thead th {\n",
       "        text-align: right;\n",
       "    }\n",
       "</style>\n",
       "<table border=\"1\" class=\"dataframe\">\n",
       "  <thead>\n",
       "    <tr style=\"text-align: right;\">\n",
       "      <th></th>\n",
       "      <th>user_id</th>\n",
       "      <th>group</th>\n",
       "      <th>ab_test</th>\n",
       "      <th>first_date</th>\n",
       "      <th>region</th>\n",
       "      <th>device</th>\n",
       "      <th>event_dt</th>\n",
       "      <th>event_name</th>\n",
       "      <th>details</th>\n",
       "    </tr>\n",
       "  </thead>\n",
       "  <tbody>\n",
       "    <tr>\n",
       "      <th>0</th>\n",
       "      <td>D1ABA3E2887B6A73</td>\n",
       "      <td>A</td>\n",
       "      <td>recommender_system_test</td>\n",
       "      <td>2020-12-07</td>\n",
       "      <td>EU</td>\n",
       "      <td>PC</td>\n",
       "      <td>2020-12-07 14:00:00</td>\n",
       "      <td>purchase</td>\n",
       "      <td>99.99</td>\n",
       "    </tr>\n",
       "    <tr>\n",
       "      <th>1</th>\n",
       "      <td>D1ABA3E2887B6A73</td>\n",
       "      <td>A</td>\n",
       "      <td>recommender_system_test</td>\n",
       "      <td>2020-12-07</td>\n",
       "      <td>EU</td>\n",
       "      <td>PC</td>\n",
       "      <td>2020-12-25 00:00:00</td>\n",
       "      <td>purchase</td>\n",
       "      <td>4.99</td>\n",
       "    </tr>\n",
       "    <tr>\n",
       "      <th>2</th>\n",
       "      <td>D1ABA3E2887B6A73</td>\n",
       "      <td>A</td>\n",
       "      <td>recommender_system_test</td>\n",
       "      <td>2020-12-07</td>\n",
       "      <td>EU</td>\n",
       "      <td>PC</td>\n",
       "      <td>2020-12-07 14:00:00</td>\n",
       "      <td>product_cart</td>\n",
       "      <td>NaN</td>\n",
       "    </tr>\n",
       "    <tr>\n",
       "      <th>3</th>\n",
       "      <td>D1ABA3E2887B6A73</td>\n",
       "      <td>A</td>\n",
       "      <td>recommender_system_test</td>\n",
       "      <td>2020-12-07</td>\n",
       "      <td>EU</td>\n",
       "      <td>PC</td>\n",
       "      <td>2020-12-25 00:00:00</td>\n",
       "      <td>product_cart</td>\n",
       "      <td>NaN</td>\n",
       "    </tr>\n",
       "    <tr>\n",
       "      <th>4</th>\n",
       "      <td>D1ABA3E2887B6A73</td>\n",
       "      <td>A</td>\n",
       "      <td>recommender_system_test</td>\n",
       "      <td>2020-12-07</td>\n",
       "      <td>EU</td>\n",
       "      <td>PC</td>\n",
       "      <td>2020-12-07 14:00:00</td>\n",
       "      <td>product_page</td>\n",
       "      <td>NaN</td>\n",
       "    </tr>\n",
       "  </tbody>\n",
       "</table>\n",
       "</div>"
      ],
      "text/plain": [
       "            user_id group                  ab_test first_date region device  \\\n",
       "0  D1ABA3E2887B6A73  A     recommender_system_test 2020-12-07  EU     PC      \n",
       "1  D1ABA3E2887B6A73  A     recommender_system_test 2020-12-07  EU     PC      \n",
       "2  D1ABA3E2887B6A73  A     recommender_system_test 2020-12-07  EU     PC      \n",
       "3  D1ABA3E2887B6A73  A     recommender_system_test 2020-12-07  EU     PC      \n",
       "4  D1ABA3E2887B6A73  A     recommender_system_test 2020-12-07  EU     PC      \n",
       "\n",
       "             event_dt    event_name  details  \n",
       "0 2020-12-07 14:00:00  purchase     99.99     \n",
       "1 2020-12-25 00:00:00  purchase     4.99      \n",
       "2 2020-12-07 14:00:00  product_cart NaN       \n",
       "3 2020-12-25 00:00:00  product_cart NaN       \n",
       "4 2020-12-07 14:00:00  product_page NaN       "
      ]
     },
     "metadata": {},
     "output_type": "display_data"
    },
    {
     "name": "stdout",
     "output_type": "stream",
     "text": [
      "<class 'pandas.core.frame.DataFrame'>\n",
      "Int64Index: 21115 entries, 0 to 21114\n",
      "Data columns (total 9 columns):\n",
      " #   Column      Non-Null Count  Dtype         \n",
      "---  ------      --------------  -----         \n",
      " 0   user_id     21115 non-null  object        \n",
      " 1   group       21115 non-null  object        \n",
      " 2   ab_test     21115 non-null  object        \n",
      " 3   first_date  21115 non-null  datetime64[ns]\n",
      " 4   region      21115 non-null  object        \n",
      " 5   device      21115 non-null  object        \n",
      " 6   event_dt    18804 non-null  datetime64[ns]\n",
      " 7   event_name  18804 non-null  object        \n",
      " 8   details     2483 non-null   float64       \n",
      "dtypes: datetime64[ns](2), float64(1), object(6)\n",
      "memory usage: 1.6+ MB\n"
     ]
    },
    {
     "data": {
      "text/html": [
       "<div>\n",
       "<style scoped>\n",
       "    .dataframe tbody tr th:only-of-type {\n",
       "        vertical-align: middle;\n",
       "    }\n",
       "\n",
       "    .dataframe tbody tr th {\n",
       "        vertical-align: top;\n",
       "    }\n",
       "\n",
       "    .dataframe thead th {\n",
       "        text-align: right;\n",
       "    }\n",
       "</style>\n",
       "<table border=\"1\" class=\"dataframe\">\n",
       "  <thead>\n",
       "    <tr style=\"text-align: right;\">\n",
       "      <th></th>\n",
       "      <th>user_id</th>\n",
       "      <th>group</th>\n",
       "      <th>ab_test</th>\n",
       "      <th>first_date</th>\n",
       "      <th>region</th>\n",
       "      <th>device</th>\n",
       "      <th>event_dt</th>\n",
       "      <th>event_name</th>\n",
       "      <th>details</th>\n",
       "    </tr>\n",
       "  </thead>\n",
       "  <tbody>\n",
       "    <tr>\n",
       "      <th>count</th>\n",
       "      <td>21115</td>\n",
       "      <td>21115</td>\n",
       "      <td>21115</td>\n",
       "      <td>21115</td>\n",
       "      <td>21115</td>\n",
       "      <td>21115</td>\n",
       "      <td>18804</td>\n",
       "      <td>18804</td>\n",
       "      <td>2483.00</td>\n",
       "    </tr>\n",
       "    <tr>\n",
       "      <th>unique</th>\n",
       "      <td>5099</td>\n",
       "      <td>2</td>\n",
       "      <td>1</td>\n",
       "      <td>15</td>\n",
       "      <td>4</td>\n",
       "      <td>4</td>\n",
       "      <td>553</td>\n",
       "      <td>4</td>\n",
       "      <td></td>\n",
       "    </tr>\n",
       "    <tr>\n",
       "      <th>top</th>\n",
       "      <td>1198061F6AF34B7B</td>\n",
       "      <td>A</td>\n",
       "      <td>recommender_system_test</td>\n",
       "      <td>2020-12-14 00:00:00</td>\n",
       "      <td>EU</td>\n",
       "      <td>Android</td>\n",
       "      <td>2020-12-21 04:00:00</td>\n",
       "      <td>login</td>\n",
       "      <td></td>\n",
       "    </tr>\n",
       "    <tr>\n",
       "      <th>freq</th>\n",
       "      <td>28</td>\n",
       "      <td>15558</td>\n",
       "      <td>21115</td>\n",
       "      <td>2796</td>\n",
       "      <td>19681</td>\n",
       "      <td>9371</td>\n",
       "      <td>102</td>\n",
       "      <td>8501</td>\n",
       "      <td></td>\n",
       "    </tr>\n",
       "    <tr>\n",
       "      <th>first</th>\n",
       "      <td></td>\n",
       "      <td></td>\n",
       "      <td></td>\n",
       "      <td>2020-12-07 00:00:00</td>\n",
       "      <td></td>\n",
       "      <td></td>\n",
       "      <td>2020-12-07 00:00:00</td>\n",
       "      <td></td>\n",
       "      <td></td>\n",
       "    </tr>\n",
       "    <tr>\n",
       "      <th>last</th>\n",
       "      <td></td>\n",
       "      <td></td>\n",
       "      <td></td>\n",
       "      <td>2020-12-21 00:00:00</td>\n",
       "      <td></td>\n",
       "      <td></td>\n",
       "      <td>2020-12-30 06:00:00</td>\n",
       "      <td></td>\n",
       "      <td></td>\n",
       "    </tr>\n",
       "    <tr>\n",
       "      <th>mean</th>\n",
       "      <td></td>\n",
       "      <td></td>\n",
       "      <td></td>\n",
       "      <td></td>\n",
       "      <td></td>\n",
       "      <td></td>\n",
       "      <td></td>\n",
       "      <td></td>\n",
       "      <td>22.90</td>\n",
       "    </tr>\n",
       "    <tr>\n",
       "      <th>std</th>\n",
       "      <td></td>\n",
       "      <td></td>\n",
       "      <td></td>\n",
       "      <td></td>\n",
       "      <td></td>\n",
       "      <td></td>\n",
       "      <td></td>\n",
       "      <td></td>\n",
       "      <td>69.45</td>\n",
       "    </tr>\n",
       "    <tr>\n",
       "      <th>min</th>\n",
       "      <td></td>\n",
       "      <td></td>\n",
       "      <td></td>\n",
       "      <td></td>\n",
       "      <td></td>\n",
       "      <td></td>\n",
       "      <td></td>\n",
       "      <td></td>\n",
       "      <td>4.99</td>\n",
       "    </tr>\n",
       "    <tr>\n",
       "      <th>25%</th>\n",
       "      <td></td>\n",
       "      <td></td>\n",
       "      <td></td>\n",
       "      <td></td>\n",
       "      <td></td>\n",
       "      <td></td>\n",
       "      <td></td>\n",
       "      <td></td>\n",
       "      <td>4.99</td>\n",
       "    </tr>\n",
       "    <tr>\n",
       "      <th>50%</th>\n",
       "      <td></td>\n",
       "      <td></td>\n",
       "      <td></td>\n",
       "      <td></td>\n",
       "      <td></td>\n",
       "      <td></td>\n",
       "      <td></td>\n",
       "      <td></td>\n",
       "      <td>4.99</td>\n",
       "    </tr>\n",
       "    <tr>\n",
       "      <th>75%</th>\n",
       "      <td></td>\n",
       "      <td></td>\n",
       "      <td></td>\n",
       "      <td></td>\n",
       "      <td></td>\n",
       "      <td></td>\n",
       "      <td></td>\n",
       "      <td></td>\n",
       "      <td>9.99</td>\n",
       "    </tr>\n",
       "    <tr>\n",
       "      <th>max</th>\n",
       "      <td></td>\n",
       "      <td></td>\n",
       "      <td></td>\n",
       "      <td></td>\n",
       "      <td></td>\n",
       "      <td></td>\n",
       "      <td></td>\n",
       "      <td></td>\n",
       "      <td>499.99</td>\n",
       "    </tr>\n",
       "  </tbody>\n",
       "</table>\n",
       "</div>"
      ],
      "text/plain": [
       "                 user_id  group                  ab_test           first_date  \\\n",
       "count   21115             21115  21115                    21115                 \n",
       "unique  5099              2      1                        15                    \n",
       "top     1198061F6AF34B7B  A      recommender_system_test  2020-12-14 00:00:00   \n",
       "freq    28                15558  21115                    2796                  \n",
       "first                                                     2020-12-07 00:00:00   \n",
       "last                                                      2020-12-21 00:00:00   \n",
       "mean                                                                            \n",
       "std                                                                             \n",
       "min                                                                             \n",
       "25%                                                                             \n",
       "50%                                                                             \n",
       "75%                                                                             \n",
       "max                                                                             \n",
       "\n",
       "       region   device             event_dt event_name details  \n",
       "count   21115  21115    18804                18804     2483.00  \n",
       "unique  4      4        553                  4                  \n",
       "top     EU     Android  2020-12-21 04:00:00  login              \n",
       "freq    19681  9371     102                  8501               \n",
       "first                   2020-12-07 00:00:00                     \n",
       "last                    2020-12-30 06:00:00                     \n",
       "mean                                                   22.90    \n",
       "std                                                    69.45    \n",
       "min                                                    4.99     \n",
       "25%                                                    4.99     \n",
       "50%                                                    4.99     \n",
       "75%                                                    9.99     \n",
       "max                                                    499.99   "
      ]
     },
     "metadata": {},
     "output_type": "display_data"
    },
    {
     "name": "stdout",
     "output_type": "stream",
     "text": [
      "\n",
      "Количество дубликатов записей: 0\n"
     ]
    }
   ],
   "source": [
    "info_df(df_events)"
   ]
  },
  {
   "cell_type": "markdown",
   "id": "5b14927b",
   "metadata": {},
   "source": [
    "После объединения таблиц видно, что часть данных об активности пользователей отсутствует. По условиям технического задания остановка теста должна произойти 4 января 2021 года. Таблица **df_events** содержит данные с 7 по 30 декабря 2020 года. Причинами отсутствия данных могуть быть техническая ошибка, человеческий фактор или преждевременная остановка теста. Произведем расчет процента пользователей, у которых отсутствует информация об активности:"
   ]
  },
  {
   "cell_type": "code",
   "execution_count": 56,
   "id": "215c298d",
   "metadata": {},
   "outputs": [
    {
     "name": "stdout",
     "output_type": "stream",
     "text": [
      "Количество пользователей, у которых нет информации об активности: 45.3%\n"
     ]
    }
   ],
   "source": [
    "print('Количество пользователей, у которых нет информации об активности:', \n",
    "      '{:.1%}'.format(df_events[df_events['event_dt'].isna() == True]['user_id'].nunique()/total))"
   ]
  },
  {
   "cell_type": "markdown",
   "id": "5884f931",
   "metadata": {},
   "source": [
    "Сформируем новую таблицу **df_users_events** содержащую записи пользователей, которые осуществляли действия:"
   ]
  },
  {
   "cell_type": "code",
   "execution_count": 57,
   "id": "6003569d",
   "metadata": {
    "code_folding": []
   },
   "outputs": [],
   "source": [
    "df_users_events = df_events[df_events['event_dt'].isna() == False].reset_index(drop=True)"
   ]
  },
  {
   "cell_type": "markdown",
   "id": "0cacc79b",
   "metadata": {},
   "source": [
    "Выполним проверку на наличие действий позже 14 дней после регистрации:"
   ]
  },
  {
   "cell_type": "code",
   "execution_count": 58,
   "id": "d190b73b",
   "metadata": {},
   "outputs": [
    {
     "name": "stdout",
     "output_type": "stream",
     "text": [
      "Количество событий, совершенных пользователями позже, чем через 2 недели от момента регистрации: 475\n"
     ]
    }
   ],
   "source": [
    "df_users_events['event_dt_D'] = df_users_events['event_dt'].astype('datetime64[D]')\n",
    "df_users_events['two_week'] = (df_users_events['event_dt_D'] - df_users_events['first_date']).dt.days\n",
    "print('Количество событий, совершенных пользователями позже, чем через 2 недели от момента регистрации:',\n",
    "      df_users_events[df_users_events['two_week'] > 14]['two_week'].count())"
   ]
  },
  {
   "cell_type": "markdown",
   "id": "33325706",
   "metadata": {},
   "source": [
    "Чтобы соблюсти условия технического задания эти записи необходимо исключить из анализа:"
   ]
  },
  {
   "cell_type": "code",
   "execution_count": 59,
   "id": "75279454",
   "metadata": {},
   "outputs": [],
   "source": [
    "df_users_events = df_users_events[df_users_events['two_week'] <= 14].reset_index(drop=True)"
   ]
  },
  {
   "cell_type": "code",
   "execution_count": 60,
   "id": "89814cbf",
   "metadata": {},
   "outputs": [
    {
     "data": {
      "text/html": [
       "<div>\n",
       "<style scoped>\n",
       "    .dataframe tbody tr th:only-of-type {\n",
       "        vertical-align: middle;\n",
       "    }\n",
       "\n",
       "    .dataframe tbody tr th {\n",
       "        vertical-align: top;\n",
       "    }\n",
       "\n",
       "    .dataframe thead th {\n",
       "        text-align: right;\n",
       "    }\n",
       "</style>\n",
       "<table border=\"1\" class=\"dataframe\">\n",
       "  <thead>\n",
       "    <tr style=\"text-align: right;\">\n",
       "      <th></th>\n",
       "      <th>user_id</th>\n",
       "      <th>group</th>\n",
       "      <th>ab_test</th>\n",
       "      <th>first_date</th>\n",
       "      <th>region</th>\n",
       "      <th>device</th>\n",
       "      <th>event_dt</th>\n",
       "      <th>event_name</th>\n",
       "      <th>details</th>\n",
       "      <th>event_dt_D</th>\n",
       "      <th>two_week</th>\n",
       "    </tr>\n",
       "  </thead>\n",
       "  <tbody>\n",
       "    <tr>\n",
       "      <th>0</th>\n",
       "      <td>D1ABA3E2887B6A73</td>\n",
       "      <td>A</td>\n",
       "      <td>recommender_system_test</td>\n",
       "      <td>2020-12-07</td>\n",
       "      <td>EU</td>\n",
       "      <td>PC</td>\n",
       "      <td>2020-12-07 14:00:00</td>\n",
       "      <td>purchase</td>\n",
       "      <td>99.99</td>\n",
       "      <td>2020-12-07</td>\n",
       "      <td>0</td>\n",
       "    </tr>\n",
       "    <tr>\n",
       "      <th>1</th>\n",
       "      <td>D1ABA3E2887B6A73</td>\n",
       "      <td>A</td>\n",
       "      <td>recommender_system_test</td>\n",
       "      <td>2020-12-07</td>\n",
       "      <td>EU</td>\n",
       "      <td>PC</td>\n",
       "      <td>2020-12-07 14:00:00</td>\n",
       "      <td>product_cart</td>\n",
       "      <td>NaN</td>\n",
       "      <td>2020-12-07</td>\n",
       "      <td>0</td>\n",
       "    </tr>\n",
       "    <tr>\n",
       "      <th>2</th>\n",
       "      <td>D1ABA3E2887B6A73</td>\n",
       "      <td>A</td>\n",
       "      <td>recommender_system_test</td>\n",
       "      <td>2020-12-07</td>\n",
       "      <td>EU</td>\n",
       "      <td>PC</td>\n",
       "      <td>2020-12-07 14:00:00</td>\n",
       "      <td>product_page</td>\n",
       "      <td>NaN</td>\n",
       "      <td>2020-12-07</td>\n",
       "      <td>0</td>\n",
       "    </tr>\n",
       "  </tbody>\n",
       "</table>\n",
       "</div>"
      ],
      "text/plain": [
       "            user_id group                  ab_test first_date region device  \\\n",
       "0  D1ABA3E2887B6A73  A     recommender_system_test 2020-12-07  EU     PC      \n",
       "1  D1ABA3E2887B6A73  A     recommender_system_test 2020-12-07  EU     PC      \n",
       "2  D1ABA3E2887B6A73  A     recommender_system_test 2020-12-07  EU     PC      \n",
       "\n",
       "             event_dt    event_name  details event_dt_D  two_week  \n",
       "0 2020-12-07 14:00:00  purchase     99.99    2020-12-07  0         \n",
       "1 2020-12-07 14:00:00  product_cart NaN      2020-12-07  0         \n",
       "2 2020-12-07 14:00:00  product_page NaN      2020-12-07  0         "
      ]
     },
     "execution_count": 60,
     "metadata": {},
     "output_type": "execute_result"
    }
   ],
   "source": [
    "df_users_events.head(3)"
   ]
  },
  {
   "cell_type": "markdown",
   "id": "36b32680",
   "metadata": {},
   "source": [
    "Изучим таблицу **df_users_events**:"
   ]
  },
  {
   "cell_type": "code",
   "execution_count": 61,
   "id": "fb920aa8",
   "metadata": {},
   "outputs": [
    {
     "data": {
      "text/plain": [
       "'5 рандомных строк таблицы:'"
      ]
     },
     "metadata": {},
     "output_type": "display_data"
    },
    {
     "data": {
      "text/html": [
       "<div>\n",
       "<style scoped>\n",
       "    .dataframe tbody tr th:only-of-type {\n",
       "        vertical-align: middle;\n",
       "    }\n",
       "\n",
       "    .dataframe tbody tr th {\n",
       "        vertical-align: top;\n",
       "    }\n",
       "\n",
       "    .dataframe thead th {\n",
       "        text-align: right;\n",
       "    }\n",
       "</style>\n",
       "<table border=\"1\" class=\"dataframe\">\n",
       "  <thead>\n",
       "    <tr style=\"text-align: right;\">\n",
       "      <th></th>\n",
       "      <th>user_id</th>\n",
       "      <th>group</th>\n",
       "      <th>ab_test</th>\n",
       "      <th>first_date</th>\n",
       "      <th>region</th>\n",
       "      <th>device</th>\n",
       "      <th>event_dt</th>\n",
       "      <th>event_name</th>\n",
       "      <th>details</th>\n",
       "      <th>event_dt_D</th>\n",
       "      <th>two_week</th>\n",
       "    </tr>\n",
       "  </thead>\n",
       "  <tbody>\n",
       "    <tr>\n",
       "      <th>0</th>\n",
       "      <td>D1ABA3E2887B6A73</td>\n",
       "      <td>A</td>\n",
       "      <td>recommender_system_test</td>\n",
       "      <td>2020-12-07</td>\n",
       "      <td>EU</td>\n",
       "      <td>PC</td>\n",
       "      <td>2020-12-07 14:00:00</td>\n",
       "      <td>purchase</td>\n",
       "      <td>99.99</td>\n",
       "      <td>2020-12-07</td>\n",
       "      <td>0</td>\n",
       "    </tr>\n",
       "    <tr>\n",
       "      <th>1</th>\n",
       "      <td>D1ABA3E2887B6A73</td>\n",
       "      <td>A</td>\n",
       "      <td>recommender_system_test</td>\n",
       "      <td>2020-12-07</td>\n",
       "      <td>EU</td>\n",
       "      <td>PC</td>\n",
       "      <td>2020-12-07 14:00:00</td>\n",
       "      <td>product_cart</td>\n",
       "      <td>NaN</td>\n",
       "      <td>2020-12-07</td>\n",
       "      <td>0</td>\n",
       "    </tr>\n",
       "    <tr>\n",
       "      <th>2</th>\n",
       "      <td>D1ABA3E2887B6A73</td>\n",
       "      <td>A</td>\n",
       "      <td>recommender_system_test</td>\n",
       "      <td>2020-12-07</td>\n",
       "      <td>EU</td>\n",
       "      <td>PC</td>\n",
       "      <td>2020-12-07 14:00:00</td>\n",
       "      <td>product_page</td>\n",
       "      <td>NaN</td>\n",
       "      <td>2020-12-07</td>\n",
       "      <td>0</td>\n",
       "    </tr>\n",
       "    <tr>\n",
       "      <th>3</th>\n",
       "      <td>D1ABA3E2887B6A73</td>\n",
       "      <td>A</td>\n",
       "      <td>recommender_system_test</td>\n",
       "      <td>2020-12-07</td>\n",
       "      <td>EU</td>\n",
       "      <td>PC</td>\n",
       "      <td>2020-12-07 14:00:00</td>\n",
       "      <td>login</td>\n",
       "      <td>NaN</td>\n",
       "      <td>2020-12-07</td>\n",
       "      <td>0</td>\n",
       "    </tr>\n",
       "    <tr>\n",
       "      <th>4</th>\n",
       "      <td>A7A3664BD6242119</td>\n",
       "      <td>A</td>\n",
       "      <td>recommender_system_test</td>\n",
       "      <td>2020-12-20</td>\n",
       "      <td>EU</td>\n",
       "      <td>iPhone</td>\n",
       "      <td>2020-12-20 15:00:00</td>\n",
       "      <td>product_page</td>\n",
       "      <td>NaN</td>\n",
       "      <td>2020-12-20</td>\n",
       "      <td>0</td>\n",
       "    </tr>\n",
       "  </tbody>\n",
       "</table>\n",
       "</div>"
      ],
      "text/plain": [
       "            user_id group                  ab_test first_date region  device  \\\n",
       "0  D1ABA3E2887B6A73  A     recommender_system_test 2020-12-07  EU     PC       \n",
       "1  D1ABA3E2887B6A73  A     recommender_system_test 2020-12-07  EU     PC       \n",
       "2  D1ABA3E2887B6A73  A     recommender_system_test 2020-12-07  EU     PC       \n",
       "3  D1ABA3E2887B6A73  A     recommender_system_test 2020-12-07  EU     PC       \n",
       "4  A7A3664BD6242119  A     recommender_system_test 2020-12-20  EU     iPhone   \n",
       "\n",
       "             event_dt    event_name  details event_dt_D  two_week  \n",
       "0 2020-12-07 14:00:00  purchase     99.99    2020-12-07  0         \n",
       "1 2020-12-07 14:00:00  product_cart NaN      2020-12-07  0         \n",
       "2 2020-12-07 14:00:00  product_page NaN      2020-12-07  0         \n",
       "3 2020-12-07 14:00:00  login        NaN      2020-12-07  0         \n",
       "4 2020-12-20 15:00:00  product_page NaN      2020-12-20  0         "
      ]
     },
     "metadata": {},
     "output_type": "display_data"
    },
    {
     "name": "stdout",
     "output_type": "stream",
     "text": [
      "<class 'pandas.core.frame.DataFrame'>\n",
      "RangeIndex: 18329 entries, 0 to 18328\n",
      "Data columns (total 11 columns):\n",
      " #   Column      Non-Null Count  Dtype         \n",
      "---  ------      --------------  -----         \n",
      " 0   user_id     18329 non-null  object        \n",
      " 1   group       18329 non-null  object        \n",
      " 2   ab_test     18329 non-null  object        \n",
      " 3   first_date  18329 non-null  datetime64[ns]\n",
      " 4   region      18329 non-null  object        \n",
      " 5   device      18329 non-null  object        \n",
      " 6   event_dt    18329 non-null  datetime64[ns]\n",
      " 7   event_name  18329 non-null  object        \n",
      " 8   details     2424 non-null   float64       \n",
      " 9   event_dt_D  18329 non-null  datetime64[ns]\n",
      " 10  two_week    18329 non-null  int64         \n",
      "dtypes: datetime64[ns](3), float64(1), int64(1), object(6)\n",
      "memory usage: 1.5+ MB\n"
     ]
    },
    {
     "data": {
      "text/html": [
       "<div>\n",
       "<style scoped>\n",
       "    .dataframe tbody tr th:only-of-type {\n",
       "        vertical-align: middle;\n",
       "    }\n",
       "\n",
       "    .dataframe tbody tr th {\n",
       "        vertical-align: top;\n",
       "    }\n",
       "\n",
       "    .dataframe thead th {\n",
       "        text-align: right;\n",
       "    }\n",
       "</style>\n",
       "<table border=\"1\" class=\"dataframe\">\n",
       "  <thead>\n",
       "    <tr style=\"text-align: right;\">\n",
       "      <th></th>\n",
       "      <th>user_id</th>\n",
       "      <th>group</th>\n",
       "      <th>ab_test</th>\n",
       "      <th>first_date</th>\n",
       "      <th>region</th>\n",
       "      <th>device</th>\n",
       "      <th>event_dt</th>\n",
       "      <th>event_name</th>\n",
       "      <th>details</th>\n",
       "      <th>event_dt_D</th>\n",
       "      <th>two_week</th>\n",
       "    </tr>\n",
       "  </thead>\n",
       "  <tbody>\n",
       "    <tr>\n",
       "      <th>count</th>\n",
       "      <td>18329</td>\n",
       "      <td>18329</td>\n",
       "      <td>18329</td>\n",
       "      <td>18329</td>\n",
       "      <td>18329</td>\n",
       "      <td>18329</td>\n",
       "      <td>18329</td>\n",
       "      <td>18329</td>\n",
       "      <td>2424.00</td>\n",
       "      <td>18329</td>\n",
       "      <td>18329.00</td>\n",
       "    </tr>\n",
       "    <tr>\n",
       "      <th>unique</th>\n",
       "      <td>2788</td>\n",
       "      <td>2</td>\n",
       "      <td>1</td>\n",
       "      <td>15</td>\n",
       "      <td>4</td>\n",
       "      <td>4</td>\n",
       "      <td>552</td>\n",
       "      <td>4</td>\n",
       "      <td></td>\n",
       "      <td>23</td>\n",
       "      <td></td>\n",
       "    </tr>\n",
       "    <tr>\n",
       "      <th>top</th>\n",
       "      <td>1BFEE479308EFF44</td>\n",
       "      <td>A</td>\n",
       "      <td>recommender_system_test</td>\n",
       "      <td>2020-12-14 00:00:00</td>\n",
       "      <td>EU</td>\n",
       "      <td>Android</td>\n",
       "      <td>2020-12-21 04:00:00</td>\n",
       "      <td>login</td>\n",
       "      <td></td>\n",
       "      <td>2020-12-21 00:00:00</td>\n",
       "      <td></td>\n",
       "    </tr>\n",
       "    <tr>\n",
       "      <th>freq</th>\n",
       "      <td>24</td>\n",
       "      <td>14459</td>\n",
       "      <td>18329</td>\n",
       "      <td>2580</td>\n",
       "      <td>17087</td>\n",
       "      <td>8117</td>\n",
       "      <td>102</td>\n",
       "      <td>8274</td>\n",
       "      <td></td>\n",
       "      <td>1887</td>\n",
       "      <td></td>\n",
       "    </tr>\n",
       "    <tr>\n",
       "      <th>first</th>\n",
       "      <td></td>\n",
       "      <td></td>\n",
       "      <td></td>\n",
       "      <td>2020-12-07 00:00:00</td>\n",
       "      <td></td>\n",
       "      <td></td>\n",
       "      <td>2020-12-07 00:00:00</td>\n",
       "      <td></td>\n",
       "      <td></td>\n",
       "      <td>2020-12-07 00:00:00</td>\n",
       "      <td></td>\n",
       "    </tr>\n",
       "    <tr>\n",
       "      <th>last</th>\n",
       "      <td></td>\n",
       "      <td></td>\n",
       "      <td></td>\n",
       "      <td>2020-12-21 00:00:00</td>\n",
       "      <td></td>\n",
       "      <td></td>\n",
       "      <td>2020-12-29 23:00:00</td>\n",
       "      <td></td>\n",
       "      <td></td>\n",
       "      <td>2020-12-29 00:00:00</td>\n",
       "      <td></td>\n",
       "    </tr>\n",
       "    <tr>\n",
       "      <th>mean</th>\n",
       "      <td></td>\n",
       "      <td></td>\n",
       "      <td></td>\n",
       "      <td></td>\n",
       "      <td></td>\n",
       "      <td></td>\n",
       "      <td></td>\n",
       "      <td></td>\n",
       "      <td>22.89</td>\n",
       "      <td></td>\n",
       "      <td>2.92</td>\n",
       "    </tr>\n",
       "    <tr>\n",
       "      <th>std</th>\n",
       "      <td></td>\n",
       "      <td></td>\n",
       "      <td></td>\n",
       "      <td></td>\n",
       "      <td></td>\n",
       "      <td></td>\n",
       "      <td></td>\n",
       "      <td></td>\n",
       "      <td>69.46</td>\n",
       "      <td></td>\n",
       "      <td>3.46</td>\n",
       "    </tr>\n",
       "    <tr>\n",
       "      <th>min</th>\n",
       "      <td></td>\n",
       "      <td></td>\n",
       "      <td></td>\n",
       "      <td></td>\n",
       "      <td></td>\n",
       "      <td></td>\n",
       "      <td></td>\n",
       "      <td></td>\n",
       "      <td>4.99</td>\n",
       "      <td></td>\n",
       "      <td>0.00</td>\n",
       "    </tr>\n",
       "    <tr>\n",
       "      <th>25%</th>\n",
       "      <td></td>\n",
       "      <td></td>\n",
       "      <td></td>\n",
       "      <td></td>\n",
       "      <td></td>\n",
       "      <td></td>\n",
       "      <td></td>\n",
       "      <td></td>\n",
       "      <td>4.99</td>\n",
       "      <td></td>\n",
       "      <td>0.00</td>\n",
       "    </tr>\n",
       "    <tr>\n",
       "      <th>50%</th>\n",
       "      <td></td>\n",
       "      <td></td>\n",
       "      <td></td>\n",
       "      <td></td>\n",
       "      <td></td>\n",
       "      <td></td>\n",
       "      <td></td>\n",
       "      <td></td>\n",
       "      <td>4.99</td>\n",
       "      <td></td>\n",
       "      <td>2.00</td>\n",
       "    </tr>\n",
       "    <tr>\n",
       "      <th>75%</th>\n",
       "      <td></td>\n",
       "      <td></td>\n",
       "      <td></td>\n",
       "      <td></td>\n",
       "      <td></td>\n",
       "      <td></td>\n",
       "      <td></td>\n",
       "      <td></td>\n",
       "      <td>9.99</td>\n",
       "      <td></td>\n",
       "      <td>5.00</td>\n",
       "    </tr>\n",
       "    <tr>\n",
       "      <th>max</th>\n",
       "      <td></td>\n",
       "      <td></td>\n",
       "      <td></td>\n",
       "      <td></td>\n",
       "      <td></td>\n",
       "      <td></td>\n",
       "      <td></td>\n",
       "      <td></td>\n",
       "      <td>499.99</td>\n",
       "      <td></td>\n",
       "      <td>14.00</td>\n",
       "    </tr>\n",
       "  </tbody>\n",
       "</table>\n",
       "</div>"
      ],
      "text/plain": [
       "                 user_id  group                  ab_test           first_date  \\\n",
       "count   18329             18329  18329                    18329                 \n",
       "unique  2788              2      1                        15                    \n",
       "top     1BFEE479308EFF44  A      recommender_system_test  2020-12-14 00:00:00   \n",
       "freq    24                14459  18329                    2580                  \n",
       "first                                                     2020-12-07 00:00:00   \n",
       "last                                                      2020-12-21 00:00:00   \n",
       "mean                                                                            \n",
       "std                                                                             \n",
       "min                                                                             \n",
       "25%                                                                             \n",
       "50%                                                                             \n",
       "75%                                                                             \n",
       "max                                                                             \n",
       "\n",
       "       region   device             event_dt event_name details  \\\n",
       "count   18329  18329    18329                18329     2424.00   \n",
       "unique  4      4        552                  4                   \n",
       "top     EU     Android  2020-12-21 04:00:00  login               \n",
       "freq    17087  8117     102                  8274                \n",
       "first                   2020-12-07 00:00:00                      \n",
       "last                    2020-12-29 23:00:00                      \n",
       "mean                                                   22.89     \n",
       "std                                                    69.46     \n",
       "min                                                    4.99      \n",
       "25%                                                    4.99      \n",
       "50%                                                    4.99      \n",
       "75%                                                    9.99      \n",
       "max                                                    499.99    \n",
       "\n",
       "                 event_dt_D two_week  \n",
       "count   18329               18329.00  \n",
       "unique  23                            \n",
       "top     2020-12-21 00:00:00           \n",
       "freq    1887                          \n",
       "first   2020-12-07 00:00:00           \n",
       "last    2020-12-29 00:00:00           \n",
       "mean                        2.92      \n",
       "std                         3.46      \n",
       "min                         0.00      \n",
       "25%                         0.00      \n",
       "50%                         2.00      \n",
       "75%                         5.00      \n",
       "max                         14.00     "
      ]
     },
     "metadata": {},
     "output_type": "display_data"
    },
    {
     "name": "stdout",
     "output_type": "stream",
     "text": [
      "\n",
      "Количество дубликатов записей: 0\n"
     ]
    }
   ],
   "source": [
    "info_df(df_users_events)"
   ]
  },
  {
   "cell_type": "markdown",
   "id": "0898b9b0",
   "metadata": {},
   "source": [
    "Таблица **df_users_events** содержит 18329 записей с действиями 2788 пользователей, которые зарегистрировались в период с 7 по 21 декабря, за промежуток времени проведения теста с 7 по 30 декабря 2020 года.  \n",
    "\n",
    "Исследуем распределение пользователей между конрольной группой \"А\" и группой сравнения \"В\":"
   ]
  },
  {
   "cell_type": "code",
   "execution_count": 62,
   "id": "965330f8",
   "metadata": {},
   "outputs": [
    {
     "data": {
      "text/html": [
       "<div>\n",
       "<style scoped>\n",
       "    .dataframe tbody tr th:only-of-type {\n",
       "        vertical-align: middle;\n",
       "    }\n",
       "\n",
       "    .dataframe tbody tr th {\n",
       "        vertical-align: top;\n",
       "    }\n",
       "\n",
       "    .dataframe thead th {\n",
       "        text-align: right;\n",
       "    }\n",
       "</style>\n",
       "<table border=\"1\" class=\"dataframe\">\n",
       "  <thead>\n",
       "    <tr style=\"text-align: right;\">\n",
       "      <th></th>\n",
       "      <th>nunique</th>\n",
       "      <th>percents</th>\n",
       "    </tr>\n",
       "    <tr>\n",
       "      <th>group</th>\n",
       "      <th></th>\n",
       "      <th></th>\n",
       "    </tr>\n",
       "  </thead>\n",
       "  <tbody>\n",
       "    <tr>\n",
       "      <th>A</th>\n",
       "      <td>2082</td>\n",
       "      <td>74.68</td>\n",
       "    </tr>\n",
       "    <tr>\n",
       "      <th>B</th>\n",
       "      <td>706</td>\n",
       "      <td>25.32</td>\n",
       "    </tr>\n",
       "  </tbody>\n",
       "</table>\n",
       "</div>"
      ],
      "text/plain": [
       "       nunique  percents\n",
       "group                   \n",
       "A      2082    74.68    \n",
       "B      706     25.32    "
      ]
     },
     "execution_count": 62,
     "metadata": {},
     "output_type": "execute_result"
    }
   ],
   "source": [
    "total_users_events = df_users_events['user_id'].nunique()\n",
    "size_df_users_events = pd.pivot_table(df_users_events, index='group', values='user_id',\n",
    "                                aggfunc=['nunique', (lambda x: x.nunique()*100/total_users_events)])\\\n",
    ".xs('user_id', level=1, axis=1, drop_level=True).rename(columns={'<lambda>': 'percents'})\n",
    "size_df_users_events"
   ]
  },
  {
   "cell_type": "markdown",
   "id": "c14d9b38",
   "metadata": {},
   "source": [
    "Выборка уменьшилась, что скажется на дальнейшем статистическом анализе.  \n",
    "\n",
    "Выполним расчет отношения клиентов из европейского региона из новой талице **df_users_events** к общему числу новых пользователей:"
   ]
  },
  {
   "cell_type": "code",
   "execution_count": 63,
   "id": "7df8593d",
   "metadata": {},
   "outputs": [
    {
     "name": "stdout",
     "output_type": "stream",
     "text": [
      "Доля новых пользователей из региона EU в тесте: 6.1%\n"
     ]
    }
   ],
   "source": [
    "ab_users_events_EU = df_users_events[df_users_events['region'] == 'EU']['user_id'].nunique()\n",
    "print('Доля новых пользователей из региона EU в тесте:', '{:.1%}'.format(ab_users_events_EU / all_users_EU))"
   ]
  },
  {
   "cell_type": "markdown",
   "id": "3457792b",
   "metadata": {},
   "source": [
    "Доля новых пользователей из европейского региона со сведениями об активности на сайте составила 6,1% от общего количества новых пользователей из европейского региона. Исследуем распределение пользователей из таблицы **df_users_events** по регионам:"
   ]
  },
  {
   "cell_type": "code",
   "execution_count": 64,
   "id": "8891ac9f",
   "metadata": {},
   "outputs": [],
   "source": [
    "region_distr = df_users_events.groupby(['region', 'group']).agg({'user_id': 'nunique'}).reset_index()"
   ]
  },
  {
   "cell_type": "code",
   "execution_count": 105,
   "id": "dd1c33ff",
   "metadata": {},
   "outputs": [
    {
     "data": {
      "image/png": "[encoded data removed]",
      "text/plain": [
       "<Figure size 720x360 with 1 Axes>"
      ]
     },
     "metadata": {
      "needs_background": "light"
     },
     "output_type": "display_data"
    }
   ],
   "source": [
    "# График распределения пользователей по регионам\n",
    "plt.figure(figsize=(10, 5))\n",
    "ax_us_reg = sns.barplot(x='region', y='user_id', hue='group', data=region_distr)\n",
    "ax_us_reg.margins(0.03, 0.2)\n",
    "ax_us_reg.set_title('Распределение пользователей по регионам', pad=14)\n",
    "ax_us_reg.set_xlabel('Регион', size=12)\n",
    "ax_us_reg.set_ylabel('Количество пользователей', size=12)\n",
    "totals = region_distr.groupby('region')['user_id'].sum()\n",
    "n_hues = region_distr['user_id'].unique().size   \n",
    "temp_totals = totals.values.tolist() * n_hues   \n",
    "plt.show()"
   ]
  },
  {
   "cell_type": "markdown",
   "id": "a050a245",
   "metadata": {},
   "source": [
    "В контрольную группу \"А\" и группу сравнения \"В\" пропорционально входят пользователи из разных регионов. При этом значительно преобладают пользователи из европейского региона.  \n",
    "\n",
    "Во время регистрации на сайте сохранились сведения об устройстве. Исследуем эту информацию:"
   ]
  },
  {
   "cell_type": "code",
   "execution_count": 108,
   "id": "c4c72527",
   "metadata": {
    "scrolled": false
   },
   "outputs": [
    {
     "data": {
      "application/vnd.plotly.v1+json": {
       "config": {
        "displayModeBar": false,
        "plotlyServerURL": "https://plot.ly"
       },
       "data": [
        {
         "domain": {
          "x": [
           0,
           0.45
          ],
          "y": [
           0,
           1
          ]
         },
         "hoverinfo": "none",
         "labels": [
          "Android",
          "Mac",
          "PC",
          "iPhone",
          "Android",
          "Mac",
          "PC",
          "iPhone"
         ],
         "marker": {
          "line": {
           "color": "black",
           "width": 0.5
          }
         },
         "textinfo": "label+value+percent",
         "textposition": "inside",
         "type": "pie",
         "values": [
          916,
          192,
          541,
          433
         ]
        },
        {
         "domain": {
          "x": [
           0.55,
           1
          ],
          "y": [
           0,
           1
          ]
         },
         "hoverinfo": "none",
         "labels": [
          "Android",
          "Mac",
          "PC",
          "iPhone",
          "Android",
          "Mac",
          "PC",
          "iPhone"
         ],
         "marker": {
          "line": {
           "color": "black",
           "width": 0.5
          }
         },
         "textinfo": "label+value+percent",
         "textposition": "inside",
         "type": "pie",
         "values": [
          332,
          60,
          173,
          141
         ]
        }
       ],
       "layout": {
        "annotations": [
         {
          "font": {
           "size": 16
          },
          "showarrow": false,
          "text": "Группа \"A\"",
          "x": 0.225,
          "xanchor": "center",
          "xref": "paper",
          "y": 1,
          "yanchor": "bottom",
          "yref": "paper"
         },
         {
          "font": {
           "size": 16
          },
          "showarrow": false,
          "text": "Группа \"B\"",
          "x": 0.775,
          "xanchor": "center",
          "xref": "paper",
          "y": 1,
          "yanchor": "bottom",
          "yref": "paper"
         }
        ],
        "font": {
         "color": "black",
         "size": 10
        },
        "height": 300,
        "margin": {
         "b": 1,
         "t": 45
        },
        "showlegend": true,
        "template": {
         "data": {
          "bar": [
           {
            "error_x": {
             "color": "#2a3f5f"
            },
            "error_y": {
             "color": "#2a3f5f"
            },
            "marker": {
             "line": {
              "color": "#E5ECF6",
              "width": 0.5
             },
             "pattern": {
              "fillmode": "overlay",
              "size": 10,
              "solidity": 0.2
             }
            },
            "type": "bar"
           }
          ],
          "barpolar": [
           {
            "marker": {
             "line": {
              "color": "#E5ECF6",
              "width": 0.5
             },
             "pattern": {
              "fillmode": "overlay",
              "size": 10,
              "solidity": 0.2
             }
            },
            "type": "barpolar"
           }
          ],
          "carpet": [
           {
            "aaxis": {
             "endlinecolor": "#2a3f5f",
             "gridcolor": "white",
             "linecolor": "white",
             "minorgridcolor": "white",
             "startlinecolor": "#2a3f5f"
            },
            "baxis": {
             "endlinecolor": "#2a3f5f",
             "gridcolor": "white",
             "linecolor": "white",
             "minorgridcolor": "white",
             "startlinecolor": "#2a3f5f"
            },
            "type": "carpet"
           }
          ],
          "choropleth": [
           {
            "colorbar": {
             "outlinewidth": 0,
             "ticks": ""
            },
            "type": "choropleth"
           }
          ],
          "contour": [
           {
            "colorbar": {
             "outlinewidth": 0,
             "ticks": ""
            },
            "colorscale": [
             [
              0,
              "#0d0887"
             ],
             [
              0.1111111111111111,
              "#46039f"
             ],
             [
              0.2222222222222222,
              "#7201a8"
             ],
             [
              0.3333333333333333,
              "#9c179e"
             ],
             [
              0.4444444444444444,
              "#bd3786"
             ],
             [
              0.5555555555555556,
              "#d8576b"
             ],
             [
              0.6666666666666666,
              "#ed7953"
             ],
             [
              0.7777777777777778,
              "#fb9f3a"
             ],
             [
              0.8888888888888888,
              "#fdca26"
             ],
             [
              1,
              "#f0f921"
             ]
            ],
            "type": "contour"
           }
          ],
          "contourcarpet": [
           {
            "colorbar": {
             "outlinewidth": 0,
             "ticks": ""
            },
            "type": "contourcarpet"
           }
          ],
          "heatmap": [
           {
            "colorbar": {
             "outlinewidth": 0,
             "ticks": ""
            },
            "colorscale": [
             [
              0,
              "#0d0887"
             ],
             [
              0.1111111111111111,
              "#46039f"
             ],
             [
              0.2222222222222222,
              "#7201a8"
             ],
             [
              0.3333333333333333,
              "#9c179e"
             ],
             [
              0.4444444444444444,
              "#bd3786"
             ],
             [
              0.5555555555555556,
              "#d8576b"
             ],
             [
              0.6666666666666666,
              "#ed7953"
             ],
             [
              0.7777777777777778,
              "#fb9f3a"
             ],
             [
              0.8888888888888888,
              "#fdca26"
             ],
             [
              1,
              "#f0f921"
             ]
            ],
            "type": "heatmap"
           }
          ],
          "heatmapgl": [
           {
            "colorbar": {
             "outlinewidth": 0,
             "ticks": ""
            },
            "colorscale": [
             [
              0,
              "#0d0887"
             ],
             [
              0.1111111111111111,
              "#46039f"
             ],
             [
              0.2222222222222222,
              "#7201a8"
             ],
             [
              0.3333333333333333,
              "#9c179e"
             ],
             [
              0.4444444444444444,
              "#bd3786"
             ],
             [
              0.5555555555555556,
              "#d8576b"
             ],
             [
              0.6666666666666666,
              "#ed7953"
             ],
             [
              0.7777777777777778,
              "#fb9f3a"
             ],
             [
              0.8888888888888888,
              "#fdca26"
             ],
             [
              1,
              "#f0f921"
             ]
            ],
            "type": "heatmapgl"
           }
          ],
          "histogram": [
           {
            "marker": {
             "pattern": {
              "fillmode": "overlay",
              "size": 10,
              "solidity": 0.2
             }
            },
            "type": "histogram"
           }
          ],
          "histogram2d": [
           {
            "colorbar": {
             "outlinewidth": 0,
             "ticks": ""
            },
            "colorscale": [
             [
              0,
              "#0d0887"
             ],
             [
              0.1111111111111111,
              "#46039f"
             ],
             [
              0.2222222222222222,
              "#7201a8"
             ],
             [
              0.3333333333333333,
              "#9c179e"
             ],
             [
              0.4444444444444444,
              "#bd3786"
             ],
             [
              0.5555555555555556,
              "#d8576b"
             ],
             [
              0.6666666666666666,
              "#ed7953"
             ],
             [
              0.7777777777777778,
              "#fb9f3a"
             ],
             [
              0.8888888888888888,
              "#fdca26"
             ],
             [
              1,
              "#f0f921"
             ]
            ],
            "type": "histogram2d"
           }
          ],
          "histogram2dcontour": [
           {
            "colorbar": {
             "outlinewidth": 0,
             "ticks": ""
            },
            "colorscale": [
             [
              0,
              "#0d0887"
             ],
             [
              0.1111111111111111,
              "#46039f"
             ],
             [
              0.2222222222222222,
              "#7201a8"
             ],
             [
              0.3333333333333333,
              "#9c179e"
             ],
             [
              0.4444444444444444,
              "#bd3786"
             ],
             [
              0.5555555555555556,
              "#d8576b"
             ],
             [
              0.6666666666666666,
              "#ed7953"
             ],
             [
              0.7777777777777778,
              "#fb9f3a"
             ],
             [
              0.8888888888888888,
              "#fdca26"
             ],
             [
              1,
              "#f0f921"
             ]
            ],
            "type": "histogram2dcontour"
           }
          ],
          "mesh3d": [
           {
            "colorbar": {
             "outlinewidth": 0,
             "ticks": ""
            },
            "type": "mesh3d"
           }
          ],
          "parcoords": [
           {
            "line": {
             "colorbar": {
              "outlinewidth": 0,
              "ticks": ""
             }
            },
            "type": "parcoords"
           }
          ],
          "pie": [
           {
            "automargin": true,
            "type": "pie"
           }
          ],
          "scatter": [
           {
            "marker": {
             "colorbar": {
              "outlinewidth": 0,
              "ticks": ""
             }
            },
            "type": "scatter"
           }
          ],
          "scatter3d": [
           {
            "line": {
             "colorbar": {
              "outlinewidth": 0,
              "ticks": ""
             }
            },
            "marker": {
             "colorbar": {
              "outlinewidth": 0,
              "ticks": ""
             }
            },
            "type": "scatter3d"
           }
          ],
          "scattercarpet": [
           {
            "marker": {
             "colorbar": {
              "outlinewidth": 0,
              "ticks": ""
             }
            },
            "type": "scattercarpet"
           }
          ],
          "scattergeo": [
           {
            "marker": {
             "colorbar": {
              "outlinewidth": 0,
              "ticks": ""
             }
            },
            "type": "scattergeo"
           }
          ],
          "scattergl": [
           {
            "marker": {
             "colorbar": {
              "outlinewidth": 0,
              "ticks": ""
             }
            },
            "type": "scattergl"
           }
          ],
          "scattermapbox": [
           {
            "marker": {
             "colorbar": {
              "outlinewidth": 0,
              "ticks": ""
             }
            },
            "type": "scattermapbox"
           }
          ],
          "scatterpolar": [
           {
            "marker": {
             "colorbar": {
              "outlinewidth": 0,
              "ticks": ""
             }
            },
            "type": "scatterpolar"
           }
          ],
          "scatterpolargl": [
           {
            "marker": {
             "colorbar": {
              "outlinewidth": 0,
              "ticks": ""
             }
            },
            "type": "scatterpolargl"
           }
          ],
          "scatterternary": [
           {
            "marker": {
             "colorbar": {
              "outlinewidth": 0,
              "ticks": ""
             }
            },
            "type": "scatterternary"
           }
          ],
          "surface": [
           {
            "colorbar": {
             "outlinewidth": 0,
             "ticks": ""
            },
            "colorscale": [
             [
              0,
              "#0d0887"
             ],
             [
              0.1111111111111111,
              "#46039f"
             ],
             [
              0.2222222222222222,
              "#7201a8"
             ],
             [
              0.3333333333333333,
              "#9c179e"
             ],
             [
              0.4444444444444444,
              "#bd3786"
             ],
             [
              0.5555555555555556,
              "#d8576b"
             ],
             [
              0.6666666666666666,
              "#ed7953"
             ],
             [
              0.7777777777777778,
              "#fb9f3a"
             ],
             [
              0.8888888888888888,
              "#fdca26"
             ],
             [
              1,
              "#f0f921"
             ]
            ],
            "type": "surface"
           }
          ],
          "table": [
           {
            "cells": {
             "fill": {
              "color": "#EBF0F8"
             },
             "line": {
              "color": "white"
             }
            },
            "header": {
             "fill": {
              "color": "#C8D4E3"
             },
             "line": {
              "color": "white"
             }
            },
            "type": "table"
           }
          ]
         },
         "layout": {
          "annotationdefaults": {
           "arrowcolor": "#2a3f5f",
           "arrowhead": 0,
           "arrowwidth": 1
          },
          "autotypenumbers": "strict",
          "coloraxis": {
           "colorbar": {
            "outlinewidth": 0,
            "ticks": ""
           }
          },
          "colorscale": {
           "diverging": [
            [
             0,
             "#8e0152"
            ],
            [
             0.1,
             "#c51b7d"
            ],
            [
             0.2,
             "#de77ae"
            ],
            [
             0.3,
             "#f1b6da"
            ],
            [
             0.4,
             "#fde0ef"
            ],
            [
             0.5,
             "#f7f7f7"
            ],
            [
             0.6,
             "#e6f5d0"
            ],
            [
             0.7,
             "#b8e186"
            ],
            [
             0.8,
             "#7fbc41"
            ],
            [
             0.9,
             "#4d9221"
            ],
            [
             1,
             "#276419"
            ]
           ],
           "sequential": [
            [
             0,
             "#0d0887"
            ],
            [
             0.1111111111111111,
             "#46039f"
            ],
            [
             0.2222222222222222,
             "#7201a8"
            ],
            [
             0.3333333333333333,
             "#9c179e"
            ],
            [
             0.4444444444444444,
             "#bd3786"
            ],
            [
             0.5555555555555556,
             "#d8576b"
            ],
            [
             0.6666666666666666,
             "#ed7953"
            ],
            [
             0.7777777777777778,
             "#fb9f3a"
            ],
            [
             0.8888888888888888,
             "#fdca26"
            ],
            [
             1,
             "#f0f921"
            ]
           ],
           "sequentialminus": [
            [
             0,
             "#0d0887"
            ],
            [
             0.1111111111111111,
             "#46039f"
            ],
            [
             0.2222222222222222,
             "#7201a8"
            ],
            [
             0.3333333333333333,
             "#9c179e"
            ],
            [
             0.4444444444444444,
             "#bd3786"
            ],
            [
             0.5555555555555556,
             "#d8576b"
            ],
            [
             0.6666666666666666,
             "#ed7953"
            ],
            [
             0.7777777777777778,
             "#fb9f3a"
            ],
            [
             0.8888888888888888,
             "#fdca26"
            ],
            [
             1,
             "#f0f921"
            ]
           ]
          },
          "colorway": [
           "#636efa",
           "#EF553B",
           "#00cc96",
           "#ab63fa",
           "#FFA15A",
           "#19d3f3",
           "#FF6692",
           "#B6E880",
           "#FF97FF",
           "#FECB52"
          ],
          "font": {
           "color": "#2a3f5f"
          },
          "geo": {
           "bgcolor": "white",
           "lakecolor": "white",
           "landcolor": "#E5ECF6",
           "showlakes": true,
           "showland": true,
           "subunitcolor": "white"
          },
          "hoverlabel": {
           "align": "left"
          },
          "hovermode": "closest",
          "mapbox": {
           "style": "light"
          },
          "paper_bgcolor": "white",
          "plot_bgcolor": "#E5ECF6",
          "polar": {
           "angularaxis": {
            "gridcolor": "white",
            "linecolor": "white",
            "ticks": ""
           },
           "bgcolor": "#E5ECF6",
           "radialaxis": {
            "gridcolor": "white",
            "linecolor": "white",
            "ticks": ""
           }
          },
          "scene": {
           "xaxis": {
            "backgroundcolor": "#E5ECF6",
            "gridcolor": "white",
            "gridwidth": 2,
            "linecolor": "white",
            "showbackground": true,
            "ticks": "",
            "zerolinecolor": "white"
           },
           "yaxis": {
            "backgroundcolor": "#E5ECF6",
            "gridcolor": "white",
            "gridwidth": 2,
            "linecolor": "white",
            "showbackground": true,
            "ticks": "",
            "zerolinecolor": "white"
           },
           "zaxis": {
            "backgroundcolor": "#E5ECF6",
            "gridcolor": "white",
            "gridwidth": 2,
            "linecolor": "white",
            "showbackground": true,
            "ticks": "",
            "zerolinecolor": "white"
           }
          },
          "shapedefaults": {
           "line": {
            "color": "#2a3f5f"
           }
          },
          "ternary": {
           "aaxis": {
            "gridcolor": "white",
            "linecolor": "white",
            "ticks": ""
           },
           "baxis": {
            "gridcolor": "white",
            "linecolor": "white",
            "ticks": ""
           },
           "bgcolor": "#E5ECF6",
           "caxis": {
            "gridcolor": "white",
            "linecolor": "white",
            "ticks": ""
           }
          },
          "title": {
           "x": 0.05
          },
          "xaxis": {
           "automargin": true,
           "gridcolor": "white",
           "linecolor": "white",
           "ticks": "",
           "title": {
            "standoff": 15
           },
           "zerolinecolor": "white",
           "zerolinewidth": 2
          },
          "yaxis": {
           "automargin": true,
           "gridcolor": "white",
           "linecolor": "white",
           "ticks": "",
           "title": {
            "standoff": 15
           },
           "zerolinecolor": "white",
           "zerolinewidth": 2
          }
         }
        },
        "title": {
         "text": "<b>Устройства, с которых зарегистрировались пользователи</b>",
         "x": 0.5,
         "xanchor": "center",
         "y": 0.95,
         "yanchor": "top"
        },
        "width": 650
       }
      },
      "text/html": [
       "<div>                            <div id=\"09012a12-d796-45aa-8085-8d801202654b\" class=\"plotly-graph-div\" style=\"height:300px; width:650px;\"></div>            <script type=\"text/javascript\">                require([\"plotly\"], function(Plotly) {                    window.PLOTLYENV=window.PLOTLYENV || {};                                    if (document.getElementById(\"09012a12-d796-45aa-8085-8d801202654b\")) {                    Plotly.newPlot(                        \"09012a12-d796-45aa-8085-8d801202654b\",                        [{\"hoverinfo\":\"none\",\"labels\":[\"Android\",\"Mac\",\"PC\",\"iPhone\",\"Android\",\"Mac\",\"PC\",\"iPhone\"],\"marker\":{\"line\":{\"color\":\"black\",\"width\":0.5}},\"textinfo\":\"label+value+percent\",\"textposition\":\"inside\",\"values\":[916,192,541,433],\"type\":\"pie\",\"domain\":{\"x\":[0.0,0.45],\"y\":[0.0,1.0]}},{\"hoverinfo\":\"none\",\"labels\":[\"Android\",\"Mac\",\"PC\",\"iPhone\",\"Android\",\"Mac\",\"PC\",\"iPhone\"],\"marker\":{\"line\":{\"color\":\"black\",\"width\":0.5}},\"textinfo\":\"label+value+percent\",\"textposition\":\"inside\",\"values\":[332,60,173,141],\"type\":\"pie\",\"domain\":{\"x\":[0.55,1.0],\"y\":[0.0,1.0]}}],                        {\"template\":{\"data\":{\"bar\":[{\"error_x\":{\"color\":\"#2a3f5f\"},\"error_y\":{\"color\":\"#2a3f5f\"},\"marker\":{\"line\":{\"color\":\"#E5ECF6\",\"width\":0.5},\"pattern\":{\"fillmode\":\"overlay\",\"size\":10,\"solidity\":0.2}},\"type\":\"bar\"}],\"barpolar\":[{\"marker\":{\"line\":{\"color\":\"#E5ECF6\",\"width\":0.5},\"pattern\":{\"fillmode\":\"overlay\",\"size\":10,\"solidity\":0.2}},\"type\":\"barpolar\"}],\"carpet\":[{\"aaxis\":{\"endlinecolor\":\"#2a3f5f\",\"gridcolor\":\"white\",\"linecolor\":\"white\",\"minorgridcolor\":\"white\",\"startlinecolor\":\"#2a3f5f\"},\"baxis\":{\"endlinecolor\":\"#2a3f5f\",\"gridcolor\":\"white\",\"linecolor\":\"white\",\"minorgridcolor\":\"white\",\"startlinecolor\":\"#2a3f5f\"},\"type\":\"carpet\"}],\"choropleth\":[{\"colorbar\":{\"outlinewidth\":0,\"ticks\":\"\"},\"type\":\"choropleth\"}],\"contour\":[{\"colorbar\":{\"outlinewidth\":0,\"ticks\":\"\"},\"colorscale\":[[0.0,\"#0d0887\"],[0.1111111111111111,\"#46039f\"],[0.2222222222222222,\"#7201a8\"],[0.3333333333333333,\"#9c179e\"],[0.4444444444444444,\"#bd3786\"],[0.5555555555555556,\"#d8576b\"],[0.6666666666666666,\"#ed7953\"],[0.7777777777777778,\"#fb9f3a\"],[0.8888888888888888,\"#fdca26\"],[1.0,\"#f0f921\"]],\"type\":\"contour\"}],\"contourcarpet\":[{\"colorbar\":{\"outlinewidth\":0,\"ticks\":\"\"},\"type\":\"contourcarpet\"}],\"heatmap\":[{\"colorbar\":{\"outlinewidth\":0,\"ticks\":\"\"},\"colorscale\":[[0.0,\"#0d0887\"],[0.1111111111111111,\"#46039f\"],[0.2222222222222222,\"#7201a8\"],[0.3333333333333333,\"#9c179e\"],[0.4444444444444444,\"#bd3786\"],[0.5555555555555556,\"#d8576b\"],[0.6666666666666666,\"#ed7953\"],[0.7777777777777778,\"#fb9f3a\"],[0.8888888888888888,\"#fdca26\"],[1.0,\"#f0f921\"]],\"type\":\"heatmap\"}],\"heatmapgl\":[{\"colorbar\":{\"outlinewidth\":0,\"ticks\":\"\"},\"colorscale\":[[0.0,\"#0d0887\"],[0.1111111111111111,\"#46039f\"],[0.2222222222222222,\"#7201a8\"],[0.3333333333333333,\"#9c179e\"],[0.4444444444444444,\"#bd3786\"],[0.5555555555555556,\"#d8576b\"],[0.6666666666666666,\"#ed7953\"],[0.7777777777777778,\"#fb9f3a\"],[0.8888888888888888,\"#fdca26\"],[1.0,\"#f0f921\"]],\"type\":\"heatmapgl\"}],\"histogram\":[{\"marker\":{\"pattern\":{\"fillmode\":\"overlay\",\"size\":10,\"solidity\":0.2}},\"type\":\"histogram\"}],\"histogram2d\":[{\"colorbar\":{\"outlinewidth\":0,\"ticks\":\"\"},\"colorscale\":[[0.0,\"#0d0887\"],[0.1111111111111111,\"#46039f\"],[0.2222222222222222,\"#7201a8\"],[0.3333333333333333,\"#9c179e\"],[0.4444444444444444,\"#bd3786\"],[0.5555555555555556,\"#d8576b\"],[0.6666666666666666,\"#ed7953\"],[0.7777777777777778,\"#fb9f3a\"],[0.8888888888888888,\"#fdca26\"],[1.0,\"#f0f921\"]],\"type\":\"histogram2d\"}],\"histogram2dcontour\":[{\"colorbar\":{\"outlinewidth\":0,\"ticks\":\"\"},\"colorscale\":[[0.0,\"#0d0887\"],[0.1111111111111111,\"#46039f\"],[0.2222222222222222,\"#7201a8\"],[0.3333333333333333,\"#9c179e\"],[0.4444444444444444,\"#bd3786\"],[0.5555555555555556,\"#d8576b\"],[0.6666666666666666,\"#ed7953\"],[0.7777777777777778,\"#fb9f3a\"],[0.8888888888888888,\"#fdca26\"],[1.0,\"#f0f921\"]],\"type\":\"histogram2dcontour\"}],\"mesh3d\":[{\"colorbar\":{\"outlinewidth\":0,\"ticks\":\"\"},\"type\":\"mesh3d\"}],\"parcoords\":[{\"line\":{\"colorbar\":{\"outlinewidth\":0,\"ticks\":\"\"}},\"type\":\"parcoords\"}],\"pie\":[{\"automargin\":true,\"type\":\"pie\"}],\"scatter\":[{\"marker\":{\"colorbar\":{\"outlinewidth\":0,\"ticks\":\"\"}},\"type\":\"scatter\"}],\"scatter3d\":[{\"line\":{\"colorbar\":{\"outlinewidth\":0,\"ticks\":\"\"}},\"marker\":{\"colorbar\":{\"outlinewidth\":0,\"ticks\":\"\"}},\"type\":\"scatter3d\"}],\"scattercarpet\":[{\"marker\":{\"colorbar\":{\"outlinewidth\":0,\"ticks\":\"\"}},\"type\":\"scattercarpet\"}],\"scattergeo\":[{\"marker\":{\"colorbar\":{\"outlinewidth\":0,\"ticks\":\"\"}},\"type\":\"scattergeo\"}],\"scattergl\":[{\"marker\":{\"colorbar\":{\"outlinewidth\":0,\"ticks\":\"\"}},\"type\":\"scattergl\"}],\"scattermapbox\":[{\"marker\":{\"colorbar\":{\"outlinewidth\":0,\"ticks\":\"\"}},\"type\":\"scattermapbox\"}],\"scatterpolar\":[{\"marker\":{\"colorbar\":{\"outlinewidth\":0,\"ticks\":\"\"}},\"type\":\"scatterpolar\"}],\"scatterpolargl\":[{\"marker\":{\"colorbar\":{\"outlinewidth\":0,\"ticks\":\"\"}},\"type\":\"scatterpolargl\"}],\"scatterternary\":[{\"marker\":{\"colorbar\":{\"outlinewidth\":0,\"ticks\":\"\"}},\"type\":\"scatterternary\"}],\"surface\":[{\"colorbar\":{\"outlinewidth\":0,\"ticks\":\"\"},\"colorscale\":[[0.0,\"#0d0887\"],[0.1111111111111111,\"#46039f\"],[0.2222222222222222,\"#7201a8\"],[0.3333333333333333,\"#9c179e\"],[0.4444444444444444,\"#bd3786\"],[0.5555555555555556,\"#d8576b\"],[0.6666666666666666,\"#ed7953\"],[0.7777777777777778,\"#fb9f3a\"],[0.8888888888888888,\"#fdca26\"],[1.0,\"#f0f921\"]],\"type\":\"surface\"}],\"table\":[{\"cells\":{\"fill\":{\"color\":\"#EBF0F8\"},\"line\":{\"color\":\"white\"}},\"header\":{\"fill\":{\"color\":\"#C8D4E3\"},\"line\":{\"color\":\"white\"}},\"type\":\"table\"}]},\"layout\":{\"annotationdefaults\":{\"arrowcolor\":\"#2a3f5f\",\"arrowhead\":0,\"arrowwidth\":1},\"autotypenumbers\":\"strict\",\"coloraxis\":{\"colorbar\":{\"outlinewidth\":0,\"ticks\":\"\"}},\"colorscale\":{\"diverging\":[[0,\"#8e0152\"],[0.1,\"#c51b7d\"],[0.2,\"#de77ae\"],[0.3,\"#f1b6da\"],[0.4,\"#fde0ef\"],[0.5,\"#f7f7f7\"],[0.6,\"#e6f5d0\"],[0.7,\"#b8e186\"],[0.8,\"#7fbc41\"],[0.9,\"#4d9221\"],[1,\"#276419\"]],\"sequential\":[[0.0,\"#0d0887\"],[0.1111111111111111,\"#46039f\"],[0.2222222222222222,\"#7201a8\"],[0.3333333333333333,\"#9c179e\"],[0.4444444444444444,\"#bd3786\"],[0.5555555555555556,\"#d8576b\"],[0.6666666666666666,\"#ed7953\"],[0.7777777777777778,\"#fb9f3a\"],[0.8888888888888888,\"#fdca26\"],[1.0,\"#f0f921\"]],\"sequentialminus\":[[0.0,\"#0d0887\"],[0.1111111111111111,\"#46039f\"],[0.2222222222222222,\"#7201a8\"],[0.3333333333333333,\"#9c179e\"],[0.4444444444444444,\"#bd3786\"],[0.5555555555555556,\"#d8576b\"],[0.6666666666666666,\"#ed7953\"],[0.7777777777777778,\"#fb9f3a\"],[0.8888888888888888,\"#fdca26\"],[1.0,\"#f0f921\"]]},\"colorway\":[\"#636efa\",\"#EF553B\",\"#00cc96\",\"#ab63fa\",\"#FFA15A\",\"#19d3f3\",\"#FF6692\",\"#B6E880\",\"#FF97FF\",\"#FECB52\"],\"font\":{\"color\":\"#2a3f5f\"},\"geo\":{\"bgcolor\":\"white\",\"lakecolor\":\"white\",\"landcolor\":\"#E5ECF6\",\"showlakes\":true,\"showland\":true,\"subunitcolor\":\"white\"},\"hoverlabel\":{\"align\":\"left\"},\"hovermode\":\"closest\",\"mapbox\":{\"style\":\"light\"},\"paper_bgcolor\":\"white\",\"plot_bgcolor\":\"#E5ECF6\",\"polar\":{\"angularaxis\":{\"gridcolor\":\"white\",\"linecolor\":\"white\",\"ticks\":\"\"},\"bgcolor\":\"#E5ECF6\",\"radialaxis\":{\"gridcolor\":\"white\",\"linecolor\":\"white\",\"ticks\":\"\"}},\"scene\":{\"xaxis\":{\"backgroundcolor\":\"#E5ECF6\",\"gridcolor\":\"white\",\"gridwidth\":2,\"linecolor\":\"white\",\"showbackground\":true,\"ticks\":\"\",\"zerolinecolor\":\"white\"},\"yaxis\":{\"backgroundcolor\":\"#E5ECF6\",\"gridcolor\":\"white\",\"gridwidth\":2,\"linecolor\":\"white\",\"showbackground\":true,\"ticks\":\"\",\"zerolinecolor\":\"white\"},\"zaxis\":{\"backgroundcolor\":\"#E5ECF6\",\"gridcolor\":\"white\",\"gridwidth\":2,\"linecolor\":\"white\",\"showbackground\":true,\"ticks\":\"\",\"zerolinecolor\":\"white\"}},\"shapedefaults\":{\"line\":{\"color\":\"#2a3f5f\"}},\"ternary\":{\"aaxis\":{\"gridcolor\":\"white\",\"linecolor\":\"white\",\"ticks\":\"\"},\"baxis\":{\"gridcolor\":\"white\",\"linecolor\":\"white\",\"ticks\":\"\"},\"bgcolor\":\"#E5ECF6\",\"caxis\":{\"gridcolor\":\"white\",\"linecolor\":\"white\",\"ticks\":\"\"}},\"title\":{\"x\":0.05},\"xaxis\":{\"automargin\":true,\"gridcolor\":\"white\",\"linecolor\":\"white\",\"ticks\":\"\",\"title\":{\"standoff\":15},\"zerolinecolor\":\"white\",\"zerolinewidth\":2},\"yaxis\":{\"automargin\":true,\"gridcolor\":\"white\",\"linecolor\":\"white\",\"ticks\":\"\",\"title\":{\"standoff\":15},\"zerolinecolor\":\"white\",\"zerolinewidth\":2}}},\"annotations\":[{\"font\":{\"size\":16},\"showarrow\":false,\"text\":\"\\u0413\\u0440\\u0443\\u043f\\u043f\\u0430 \\\"A\\\"\",\"x\":0.225,\"xanchor\":\"center\",\"xref\":\"paper\",\"y\":1.0,\"yanchor\":\"bottom\",\"yref\":\"paper\"},{\"font\":{\"size\":16},\"showarrow\":false,\"text\":\"\\u0413\\u0440\\u0443\\u043f\\u043f\\u0430 \\\"B\\\"\",\"x\":0.775,\"xanchor\":\"center\",\"xref\":\"paper\",\"y\":1.0,\"yanchor\":\"bottom\",\"yref\":\"paper\"}],\"margin\":{\"b\":1,\"t\":45},\"title\":{\"text\":\"<b>\\u0423\\u0441\\u0442\\u0440\\u043e\\u0439\\u0441\\u0442\\u0432\\u0430, \\u0441 \\u043a\\u043e\\u0442\\u043e\\u0440\\u044b\\u0445 \\u0437\\u0430\\u0440\\u0435\\u0433\\u0438\\u0441\\u0442\\u0440\\u0438\\u0440\\u043e\\u0432\\u0430\\u043b\\u0438\\u0441\\u044c \\u043f\\u043e\\u043b\\u044c\\u0437\\u043e\\u0432\\u0430\\u0442\\u0435\\u043b\\u0438</b>\",\"x\":0.5,\"y\":0.95,\"xanchor\":\"center\",\"yanchor\":\"top\"},\"font\":{\"size\":10,\"color\":\"black\"},\"height\":300,\"width\":650,\"showlegend\":true},                        {\"displayModeBar\": false, \"responsive\": true}                    ).then(function(){\n",
       "                            \n",
       "var gd = document.getElementById('09012a12-d796-45aa-8085-8d801202654b');\n",
       "var x = new MutationObserver(function (mutations, observer) {{\n",
       "        var display = window.getComputedStyle(gd).display;\n",
       "        if (!display || display === 'none') {{\n",
       "            console.log([gd, 'removed!']);\n",
       "            Plotly.purge(gd);\n",
       "            observer.disconnect();\n",
       "        }}\n",
       "}});\n",
       "\n",
       "// Listen for the removal of the full notebook cells\n",
       "var notebookContainer = gd.closest('#notebook-container');\n",
       "if (notebookContainer) {{\n",
       "    x.observe(notebookContainer, {childList: true});\n",
       "}}\n",
       "\n",
       "// Listen for the clearing of the current output cell\n",
       "var outputEl = gd.closest('.output');\n",
       "if (outputEl) {{\n",
       "    x.observe(outputEl, {childList: true});\n",
       "}}\n",
       "\n",
       "                        })                };                });            </script>        </div>"
      ]
     },
     "metadata": {},
     "output_type": "display_data"
    }
   ],
   "source": [
    "df_devices = df_users_events.groupby(['group', 'device']).agg({'user_id': 'nunique'}).reset_index()\n",
    "fig_pie = make_subplots(rows=1, cols=2, specs=[[{\"type\": \"pie\"}, {\"type\": \"pie\"}]],\n",
    "                        subplot_titles=['Группа \"A\"', 'Группа \"B\"'])\n",
    "fig_pie.add_trace(go.Pie(labels=df_devices['device'], \n",
    "                         values=df_devices[df_devices['group'] == 'A']['user_id'],\n",
    "                         textinfo='label+value+percent', hoverinfo='none', textposition='inside',\n",
    "                         marker=dict(line=dict(color='black', width=0.5))), row=1, col=1)\n",
    "fig_pie.add_trace(go.Pie(labels=df_devices['device'], \n",
    "                         values=df_devices[df_devices['group'] == 'B']['user_id'], \n",
    "                         textinfo='label+value+percent', hoverinfo='none', textposition='inside',\n",
    "                         marker=dict(line=dict(color='black', width=0.5))), row=1, col=2)\n",
    "fig_pie.update_layout(height=300, width=650, showlegend=True, margin=dict(b=1, t=45),\n",
    "                      title=dict(text='<b>Устройства, с которых зарегистрировались пользователи</b>', \n",
    "                                 x=0.5, y=0.95, xanchor='center', yanchor='top'),\n",
    "                       font_size=10, font_color='black')              \n",
    "fig_pie.show(config={'displayModeBar': False} )"
   ]
  },
  {
   "cell_type": "markdown",
   "id": "5314d5e5",
   "metadata": {},
   "source": [
    "Часто пользователи продолжают использовать те же устройства, на которых проходили регистрацию. Распределение по устройствам в группе контроля \"А\" и группе сравнения \"В\" сопоставимо. Около 65% пользователей в каждой группе прошли ресгистрацию с мобильных устройств (приложение) и 35% - с помощью ПК (браузер). Таким образом, фактор используемого устройства не должен оказать влияние на результаты исследования.\n",
    "\n",
    "Выполним проверку на совпадение теста и маркетинговых событий. Отфильтруем маркетинговые события запланированные на период с 7 декабря 2020 года по 4 января 2021 года:"
   ]
  },
  {
   "cell_type": "code",
   "execution_count": 67,
   "id": "a3f073c1",
   "metadata": {},
   "outputs": [
    {
     "data": {
      "text/html": [
       "<div>\n",
       "<style scoped>\n",
       "    .dataframe tbody tr th:only-of-type {\n",
       "        vertical-align: middle;\n",
       "    }\n",
       "\n",
       "    .dataframe tbody tr th {\n",
       "        vertical-align: top;\n",
       "    }\n",
       "\n",
       "    .dataframe thead th {\n",
       "        text-align: right;\n",
       "    }\n",
       "</style>\n",
       "<table border=\"1\" class=\"dataframe\">\n",
       "  <thead>\n",
       "    <tr style=\"text-align: right;\">\n",
       "      <th></th>\n",
       "      <th>name</th>\n",
       "      <th>regions</th>\n",
       "      <th>start_dt</th>\n",
       "      <th>finish_dt</th>\n",
       "    </tr>\n",
       "  </thead>\n",
       "  <tbody>\n",
       "    <tr>\n",
       "      <th>0</th>\n",
       "      <td>Christmas&amp;New Year Promo</td>\n",
       "      <td>EU, N.America</td>\n",
       "      <td>2020-12-25</td>\n",
       "      <td>2021-01-03</td>\n",
       "    </tr>\n",
       "    <tr>\n",
       "      <th>10</th>\n",
       "      <td>CIS New Year Gift Lottery</td>\n",
       "      <td>CIS</td>\n",
       "      <td>2020-12-30</td>\n",
       "      <td>2021-01-07</td>\n",
       "    </tr>\n",
       "  </tbody>\n",
       "</table>\n",
       "</div>"
      ],
      "text/plain": [
       "                         name        regions   start_dt  finish_dt\n",
       "0   Christmas&New Year Promo   EU, N.America 2020-12-25 2021-01-03\n",
       "10  CIS New Year Gift Lottery  CIS           2020-12-30 2021-01-07"
      ]
     },
     "execution_count": 67,
     "metadata": {},
     "output_type": "execute_result"
    }
   ],
   "source": [
    "ab_project_marketing_events.query('start_dt >= \"2020-12-07\"')"
   ]
  },
  {
   "cell_type": "markdown",
   "id": "0da25925",
   "metadata": {},
   "source": [
    "В Северной Америке и Европе запланирована промо-акция приуроченная к Рождеству и Новому году, в странах СНГ запланирована новогодняя лотерея с подарками. Проведение А/В-тестов перед и во время праздников, особенно таких продолжительных и захватывающих большую часть пользователей не рекомедуется, т.к. распродажи и различные маркетинговые акции, изменение покупательского спроса выраженно меняют поведение пользователей."
   ]
  },
  {
   "cell_type": "markdown",
   "id": "43fd5992",
   "metadata": {},
   "source": [
    "### Вывод"
   ]
  },
  {
   "cell_type": "markdown",
   "id": "838850d8",
   "metadata": {},
   "source": [
    "Оценка корректности проведения теста вывила существенные факты, которые могли исказить результаты A/B-теста и значительно понизить их достоверность:\n",
    " - отсутствие 45% данных за период с 30 декабря 2020 года по 4 января 2021 года;\n",
    " - неравномерное разделение пользователей, которые зарегистрировались с 7 декабря по 21 декабря между группой \"А\" и группой \"B\";\n",
    " - количество пользователей составило 2788 (а не ожидаемых 6000) и 6% из региона EU вместо 15%;\n",
    " - совпадение периода проведения теста с новогодними праздниками в Европе, Северной Америке и СНГ."
   ]
  },
  {
   "cell_type": "markdown",
   "id": "d62446ba",
   "metadata": {},
   "source": [
    "## Исследовательский анализ данных"
   ]
  },
  {
   "cell_type": "markdown",
   "id": "2f353bde",
   "metadata": {},
   "source": [
    "### Cреднее количество событий для каждого пользователя"
   ]
  },
  {
   "cell_type": "markdown",
   "id": "1b7883c2",
   "metadata": {},
   "source": [
    "Учитывая ранее проведенный анализ данных, дальнейшее исследование будем проводить только для тех пользователей, у которых есть сведения об активности. Определим среднее количество событий для каждого пользователя:"
   ]
  },
  {
   "cell_type": "code",
   "execution_count": 68,
   "id": "b09b6a23",
   "metadata": {},
   "outputs": [
    {
     "name": "stdout",
     "output_type": "stream",
     "text": [
      "Общее количество событий: 18329 \n",
      "Общее количество пользователей: 2788 \n",
      "Медианное количество событий на пользователя: 6\n"
     ]
    }
   ],
   "source": [
    "print('Общее количество событий:', df_users_events['event_dt'].count(), \n",
    "      '\\nОбщее количество пользователей:', df_users_events['user_id'].nunique(),\n",
    "      '\\nМедианное количество событий на пользователя:', \n",
    "      int(df_users_events.groupby('user_id')['event_dt'].count().median()))"
   ]
  },
  {
   "cell_type": "markdown",
   "id": "274b40f1",
   "metadata": {},
   "source": [
    "### Распределение действий пользователей по дате их совершения"
   ]
  },
  {
   "cell_type": "markdown",
   "id": "dab923f5",
   "metadata": {},
   "source": [
    "Изучим распределение действий пользователей по дате их совершения, для чего построим построим гистограмму:"
   ]
  },
  {
   "cell_type": "code",
   "execution_count": 109,
   "id": "20951530",
   "metadata": {},
   "outputs": [],
   "source": [
    "# Гистограмма\n",
    "def histplot_def(hue, title, legend_title, legend_label, multiple):\n",
    "    fig_event = plt.figure(figsize=(10, 5))\n",
    "    ax_event = sns.histplot(df_users_events, x='event_dt', hue=hue, kde=True, multiple=multiple, label=legend_label)\n",
    "    ax_event.set_title(f'{title}', pad=14)\n",
    "    ax_event.set_xlabel('Дата', size=12)\n",
    "    ax_event.set_ylabel('Частота', size=12)\n",
    "    if legend_label != None:\n",
    "        plt.legend(title=f'{legend_title}')\n",
    "        n = 0\n",
    "        for i in legend_label:\n",
    "            ax_event.legend_.texts[n].set_text(i)\n",
    "            n += 1\n",
    "    else:\n",
    "        pass    \n",
    "    plt.setp(ax_event.get_xticklabels(), rotation=45)\n",
    "    plt.show()"
   ]
  },
  {
   "cell_type": "code",
   "execution_count": 110,
   "id": "1b6f4651",
   "metadata": {},
   "outputs": [
    {
     "data": {
      "image/png": "[encoded data removed]",
      "text/plain": [
       "<Figure size 720x360 with 1 Axes>"
      ]
     },
     "metadata": {
      "needs_background": "light"
     },
     "output_type": "display_data"
    }
   ],
   "source": [
    "histplot_def(None, 'Распределение событий по дате', None, None, 'layer')"
   ]
  },
  {
   "cell_type": "markdown",
   "id": "86bfb6ab",
   "metadata": {},
   "source": [
    "На гистограмме отмечается рост активности пользователей перед Рождеством и ее спад к Новому году, что объясняется поиском и покупкой подарков к этим событиям.  "
   ]
  },
  {
   "cell_type": "markdown",
   "id": "f1d9d104",
   "metadata": {},
   "source": [
    "### Распределение событий по группам А и В"
   ]
  },
  {
   "cell_type": "markdown",
   "id": "f6010350",
   "metadata": {},
   "source": [
    "Исследуем распределение событий по группам - группе контроля \"А\" и группе сравнения \"В\"."
   ]
  },
  {
   "cell_type": "code",
   "execution_count": 111,
   "id": "dd800563",
   "metadata": {},
   "outputs": [
    {
     "data": {
      "image/png": "[encoded data removed]",
      "text/plain": [
       "<Figure size 720x360 with 1 Axes>"
      ]
     },
     "metadata": {
      "needs_background": "light"
     },
     "output_type": "display_data"
    }
   ],
   "source": [
    "histplot_def('group', 'Распределение событий по дате для групп', 'Группы', ['B', 'A'], 'stack')"
   ]
  },
  {
   "cell_type": "markdown",
   "id": "94fab3e2",
   "metadata": {},
   "source": [
    "Частотное распределение в группе сравнения \"В\" обладает менее выраженными всплесками за счет меньшего количества пользователей в группе."
   ]
  },
  {
   "cell_type": "markdown",
   "id": "1b19e05b",
   "metadata": {},
   "source": [
    "Построим боксплоты."
   ]
  },
  {
   "cell_type": "code",
   "execution_count": 75,
   "id": "c46610b8",
   "metadata": {},
   "outputs": [],
   "source": [
    "df_users_events_gr = df_users_events.groupby(['user_id', 'group'])['event_dt'].count().reset_index()\n",
    "df_users_events_gr.columns = ['user_id', 'group', 'count']"
   ]
  },
  {
   "cell_type": "code",
   "execution_count": 114,
   "id": "b12f0b81",
   "metadata": {},
   "outputs": [],
   "source": [
    "# Функция аннотирования медианы\n",
    "def add_median_labels(ax, precision='.1f'):\n",
    "    lines = ax.get_lines()\n",
    "    boxes = [c for c in ax.get_children() if type(c).__name__ == 'PathPatch']\n",
    "    lines_per_box = int(len(lines) / len(boxes))\n",
    "    for median in lines[4:len(lines):lines_per_box]:\n",
    "        x, y = (data.mean() for data in median.get_data())\n",
    "        value = x if (median.get_xdata()[1] - median.get_xdata()[0]) == 0 else y\n",
    "        text = ax.text(x, y, f'{value:{precision}}', ha='center', va='center',\n",
    "                       color='white', fontweight='bold', size=12, bbox=dict(facecolor='#445A64'))"
   ]
  },
  {
   "cell_type": "code",
   "execution_count": 117,
   "id": "dafe874b",
   "metadata": {},
   "outputs": [
    {
     "data": {
      "image/png": "[encoded data removed]",
      "text/plain": [
       "<Figure size 720x360 with 1 Axes>"
      ]
     },
     "metadata": {
      "needs_background": "light"
     },
     "output_type": "display_data"
    }
   ],
   "source": [
    "fig_over = plt.figure(figsize=(10,5))\n",
    "ax_events_gr = sns.boxplot(x='group', y='count', data=df_users_events_gr, showfliers=True)  \n",
    "ax_events_gr.margins(0.03, 0.15)\n",
    "plt.title('Диаграммы размаха событий по группам', pad=14) \n",
    "plt.xlabel('Группы')   \n",
    "plt.ylabel('Пользователи')\n",
    "add_median_labels(ax_events_gr)\n",
    "plt.show()"
   ]
  },
  {
   "cell_type": "markdown",
   "id": "ab6c81a2",
   "metadata": {},
   "source": [
    "В контрольной группе \"А\" пользователи в среднем совершали на 2 действия больше, чем в группе \"В\". В обеих группах присутствует небольшое количество пользователей с большим количеством действий. Данные выбросы не будут оказывать влияние на исследование, потому что оно проводится в разрезе по количеству пользователей, а не частоте событий.  \n",
    "\n",
    "Известно, что пользователи совершали 4 действия:\n",
    "* `login` - авторизация\n",
    "* `product_page` - просмотр товаров\n",
    "* `product_cart` - просмотры корзины\n",
    "* `purchase` - покупки"
   ]
  },
  {
   "cell_type": "markdown",
   "id": "2f5da6cc",
   "metadata": {},
   "source": [
    "### Действие пользователей по дате совершения"
   ]
  },
  {
   "cell_type": "markdown",
   "id": "1e57f766",
   "metadata": {},
   "source": [
    "Рассчитаем общее количество действий пользователей и построим гистограмму с частотой совершения этих действия по дате."
   ]
  },
  {
   "cell_type": "code",
   "execution_count": 78,
   "id": "a386a144",
   "metadata": {},
   "outputs": [
    {
     "data": {
      "text/html": [
       "<div>\n",
       "<style scoped>\n",
       "    .dataframe tbody tr th:only-of-type {\n",
       "        vertical-align: middle;\n",
       "    }\n",
       "\n",
       "    .dataframe tbody tr th {\n",
       "        vertical-align: top;\n",
       "    }\n",
       "\n",
       "    .dataframe thead th {\n",
       "        text-align: right;\n",
       "    }\n",
       "</style>\n",
       "<table border=\"1\" class=\"dataframe\">\n",
       "  <thead>\n",
       "    <tr style=\"text-align: right;\">\n",
       "      <th></th>\n",
       "      <th>event_name</th>\n",
       "      <th>n_events</th>\n",
       "    </tr>\n",
       "  </thead>\n",
       "  <tbody>\n",
       "    <tr>\n",
       "      <th>0</th>\n",
       "      <td>login</td>\n",
       "      <td>8274</td>\n",
       "    </tr>\n",
       "    <tr>\n",
       "      <th>1</th>\n",
       "      <td>product_page</td>\n",
       "      <td>5158</td>\n",
       "    </tr>\n",
       "    <tr>\n",
       "      <th>2</th>\n",
       "      <td>product_cart</td>\n",
       "      <td>2473</td>\n",
       "    </tr>\n",
       "    <tr>\n",
       "      <th>3</th>\n",
       "      <td>purchase</td>\n",
       "      <td>2424</td>\n",
       "    </tr>\n",
       "  </tbody>\n",
       "</table>\n",
       "</div>"
      ],
      "text/plain": [
       "     event_name  n_events\n",
       "0  login         8274    \n",
       "1  product_page  5158    \n",
       "2  product_cart  2473    \n",
       "3  purchase      2424    "
      ]
     },
     "execution_count": 78,
     "metadata": {},
     "output_type": "execute_result"
    }
   ],
   "source": [
    "df_funnel = df_users_events['event_name'].value_counts().rename_axis('event_name').reset_index(name='n_events')\n",
    "df_funnel"
   ]
  },
  {
   "cell_type": "code",
   "execution_count": 116,
   "id": "ad88da02",
   "metadata": {},
   "outputs": [
    {
     "data": {
      "image/png": "[encoded data removed]",
      "text/plain": [
       "<Figure size 720x360 with 1 Axes>"
      ]
     },
     "metadata": {
      "needs_background": "light"
     },
     "output_type": "display_data"
    }
   ],
   "source": [
    "histplot_def('event_name', 'Распределение действий по дате', 'Действия',\n",
    "             ['Авторизация', 'Просмотр товара', 'Просмотр корзины', 'Покупка'], 'stack')"
   ]
  },
  {
   "cell_type": "markdown",
   "id": "0e8b4826",
   "metadata": {},
   "source": [
    "На гистограмме прослеживается логичная последовательность - пользователь заходит в личный кабинет, посещает страницу с товаром и добавляет его в корзину, затем заходит в корзину и осуществляет покупку.  "
   ]
  },
  {
   "cell_type": "markdown",
   "id": "377fb264",
   "metadata": {},
   "source": [
    "### События по количеству и доле пользователей"
   ]
  },
  {
   "cell_type": "markdown",
   "id": "0b733aee",
   "metadata": {},
   "source": [
    "Вычислим количество пользователей, которые совершали то или иное действие, отсортируем события по количеству пользователей и посчитаем долю пользователей."
   ]
  },
  {
   "cell_type": "code",
   "execution_count": 80,
   "id": "65f88a4c",
   "metadata": {},
   "outputs": [
    {
     "data": {
      "text/html": [
       "<div>\n",
       "<style scoped>\n",
       "    .dataframe tbody tr th:only-of-type {\n",
       "        vertical-align: middle;\n",
       "    }\n",
       "\n",
       "    .dataframe tbody tr th {\n",
       "        vertical-align: top;\n",
       "    }\n",
       "\n",
       "    .dataframe thead th {\n",
       "        text-align: right;\n",
       "    }\n",
       "</style>\n",
       "<table border=\"1\" class=\"dataframe\">\n",
       "  <thead>\n",
       "    <tr style=\"text-align: right;\">\n",
       "      <th></th>\n",
       "      <th>user_id</th>\n",
       "      <th>percents</th>\n",
       "    </tr>\n",
       "    <tr>\n",
       "      <th>event_name</th>\n",
       "      <th></th>\n",
       "      <th></th>\n",
       "    </tr>\n",
       "  </thead>\n",
       "  <tbody>\n",
       "    <tr>\n",
       "      <th>login</th>\n",
       "      <td>2787</td>\n",
       "      <td>100.0%</td>\n",
       "    </tr>\n",
       "    <tr>\n",
       "      <th>product_page</th>\n",
       "      <td>1757</td>\n",
       "      <td>63.0%</td>\n",
       "    </tr>\n",
       "    <tr>\n",
       "      <th>purchase</th>\n",
       "      <td>850</td>\n",
       "      <td>30.5%</td>\n",
       "    </tr>\n",
       "    <tr>\n",
       "      <th>product_cart</th>\n",
       "      <td>826</td>\n",
       "      <td>29.6%</td>\n",
       "    </tr>\n",
       "  </tbody>\n",
       "</table>\n",
       "</div>"
      ],
      "text/plain": [
       "              user_id percents\n",
       "event_name                    \n",
       "login         2787     100.0% \n",
       "product_page  1757     63.0%  \n",
       "purchase      850      30.5%  \n",
       "product_cart  826      29.6%  "
      ]
     },
     "execution_count": 80,
     "metadata": {},
     "output_type": "execute_result"
    }
   ],
   "source": [
    "df_funnel_users = df_users_events.pivot_table(index='event_name', values='user_id', aggfunc='nunique')\\\n",
    "                                 .sort_values(by='user_id', ascending=False)\n",
    "funnel_users_nunique = df_users_events['user_id'].nunique() #Общее количество пользователей в логе\n",
    "df_funnel_users['percents'] = (df_funnel_users['user_id'] / funnel_users_nunique).map(lambda x: '{:.1%}'.format(x))\n",
    "df_funnel_users"
   ]
  },
  {
   "cell_type": "markdown",
   "id": "6e9a85a3",
   "metadata": {},
   "source": [
    "Все пользователи прошли авторизацию. После авторизации 63% пользователей зашли на страницу с каким-либо товаром, 29,6% заходили в корзину и 30,5% совершали покупку. Отмечен дисбаланс в пропорции между посещение корзины и покупкой. Вероятно приобрести товар можно напрямую - без входа в корзину. Вычислим возможные варианты последовательности событий:"
   ]
  },
  {
   "cell_type": "code",
   "execution_count": 81,
   "id": "b625ba90",
   "metadata": {},
   "outputs": [
    {
     "data": {
      "text/html": [
       "<div>\n",
       "<style scoped>\n",
       "    .dataframe tbody tr th:only-of-type {\n",
       "        vertical-align: middle;\n",
       "    }\n",
       "\n",
       "    .dataframe tbody tr th {\n",
       "        vertical-align: top;\n",
       "    }\n",
       "\n",
       "    .dataframe thead th {\n",
       "        text-align: right;\n",
       "    }\n",
       "</style>\n",
       "<table border=\"1\" class=\"dataframe\">\n",
       "  <thead>\n",
       "    <tr style=\"text-align: right;\">\n",
       "      <th></th>\n",
       "      <th>n_users</th>\n",
       "      <th>n_events</th>\n",
       "    </tr>\n",
       "    <tr>\n",
       "      <th>event_name</th>\n",
       "      <th></th>\n",
       "      <th></th>\n",
       "    </tr>\n",
       "  </thead>\n",
       "  <tbody>\n",
       "    <tr>\n",
       "      <th>login</th>\n",
       "      <td>556</td>\n",
       "      <td>1707</td>\n",
       "    </tr>\n",
       "    <tr>\n",
       "      <th>login-product_cart</th>\n",
       "      <td>210</td>\n",
       "      <td>626</td>\n",
       "    </tr>\n",
       "    <tr>\n",
       "      <th>login-product_cart-purchase</th>\n",
       "      <td>96</td>\n",
       "      <td>263</td>\n",
       "    </tr>\n",
       "    <tr>\n",
       "      <th>login-product_page</th>\n",
       "      <td>836</td>\n",
       "      <td>2457</td>\n",
       "    </tr>\n",
       "    <tr>\n",
       "      <th>login-product_page-product_cart</th>\n",
       "      <td>350</td>\n",
       "      <td>1066</td>\n",
       "    </tr>\n",
       "    <tr>\n",
       "      <th>login-product_page-product_cart-purchase</th>\n",
       "      <td>176</td>\n",
       "      <td>518</td>\n",
       "    </tr>\n",
       "    <tr>\n",
       "      <th>login-product_page-purchase</th>\n",
       "      <td>400</td>\n",
       "      <td>1116</td>\n",
       "    </tr>\n",
       "    <tr>\n",
       "      <th>login-purchase</th>\n",
       "      <td>177</td>\n",
       "      <td>521</td>\n",
       "    </tr>\n",
       "    <tr>\n",
       "      <th>product_page</th>\n",
       "      <td>1</td>\n",
       "      <td>1</td>\n",
       "    </tr>\n",
       "    <tr>\n",
       "      <th>purchase</th>\n",
       "      <td>6</td>\n",
       "      <td>6</td>\n",
       "    </tr>\n",
       "  </tbody>\n",
       "</table>\n",
       "</div>"
      ],
      "text/plain": [
       "                                          n_users  n_events\n",
       "event_name                                                 \n",
       "login                                     556      1707    \n",
       "login-product_cart                        210      626     \n",
       "login-product_cart-purchase               96       263     \n",
       "login-product_page                        836      2457    \n",
       "login-product_page-product_cart           350      1066    \n",
       "login-product_page-product_cart-purchase  176      518     \n",
       "login-product_page-purchase               400      1116    \n",
       "login-purchase                            177      521     \n",
       "product_page                              1        1       \n",
       "purchase                                  6        6       "
      ]
     },
     "execution_count": 81,
     "metadata": {},
     "output_type": "execute_result"
    }
   ],
   "source": [
    "df_funnel_events = df_users_events.groupby(['user_id', 'event_dt'])\\\n",
    ".event_name.apply(lambda x: x.unique()[::-1]).reset_index()\n",
    "df_funnel_events['event_name'] = df_funnel_events['event_name'].astype('str')\n",
    "df_funnel_events['event_name'] = df_funnel_events['event_name'].str.replace(r\"[][']\",'', regex = True)\n",
    "df_funnel_events['event_name'] = df_funnel_events['event_name'].str.replace(r\" \",'-', regex = True)\n",
    "df_funnel_events.columns = ['n_users', 'n_events', 'event_name']\n",
    "df_funnel_events.groupby('event_name').agg({'n_users': 'nunique', 'n_events': 'count'})"
   ]
  },
  {
   "cell_type": "markdown",
   "id": "cade568f",
   "metadata": {},
   "source": [
    "Из таблицы **df_funnel_events** видно, что 400 пользователей приобрели товар после посещения карточки с товаром. 177 пользователей оплатили товар после авторизации, вероятно перешли по прямой ссылке. 96 пользователей после авторизации прешли в корзину и затем оплатили товар. И только 176 пользователей прошли все 4 шага.  \n",
    "\n",
    "Единственным обязательным событием является авторизация пользователей. Магазин имеет непоследовательную систему перехода к оплате товара. Учитывая, что авторизация является обязательным действием, конверсии будем считать по отношению к нему."
   ]
  },
  {
   "cell_type": "markdown",
   "id": "a76cd815",
   "metadata": {},
   "source": [
    "### Воронка событий"
   ]
  },
  {
   "cell_type": "markdown",
   "id": "f42cdf4d",
   "metadata": {},
   "source": [
    "Построим воронку с конверсиями событий по отношению ко входу в личный кабинет с разделением на группу контроля и группу сравнения."
   ]
  },
  {
   "cell_type": "code",
   "execution_count": 82,
   "id": "cd7ccef2",
   "metadata": {},
   "outputs": [],
   "source": [
    "# Таблица для воронки событий\n",
    "df_funnel_ab = df_users_events.pivot_table(index=['event_name', 'group'], values='user_id', \n",
    "                                           aggfunc=['count', 'nunique'])\n",
    "df_funnel_ab.columns= ['n_events', 'n_users']\n",
    "funnel_order = ['login', 'product_page', 'product_cart', 'purchase']\n",
    "df_funnel_ab = df_funnel_ab.loc[funnel_order, :]\n",
    "df_funnel_ab = df_funnel_ab.reset_index()"
   ]
  },
  {
   "cell_type": "code",
   "execution_count": 98,
   "id": "dd2e91ec",
   "metadata": {},
   "outputs": [
    {
     "data": {
      "application/vnd.plotly.v1+json": {
       "config": {
        "displayModeBar": false,
        "plotlyServerURL": "https://plot.ly"
       },
       "data": [
        {
         "hoverinfo": "none",
         "name": "A",
         "textinfo": "value+percent initial",
         "textposition": "inside",
         "type": "funnel",
         "x": [
          2082,
          1360,
          631,
          652
         ],
         "y": [
          "Авторизация",
          "Просмотр товара",
          "Просмотр корзины",
          "Покупка"
         ]
        },
        {
         "hoverinfo": "none",
         "name": "B",
         "textinfo": "value+percent initial",
         "textposition": "inside",
         "type": "funnel",
         "x": [
          705,
          397,
          195,
          198
         ],
         "y": [
          "Авторизация",
          "Просмотр товара",
          "Просмотр корзины",
          "Покупка"
         ]
        }
       ],
       "layout": {
        "font": {
         "color": "black",
         "family": "Arial",
         "size": 12
        },
        "height": 450,
        "margin": {
         "b": 15,
         "t": 50
        },
        "plot_bgcolor": "rgba(0,0,0,0)",
        "template": {
         "data": {
          "bar": [
           {
            "error_x": {
             "color": "#2a3f5f"
            },
            "error_y": {
             "color": "#2a3f5f"
            },
            "marker": {
             "line": {
              "color": "#E5ECF6",
              "width": 0.5
             },
             "pattern": {
              "fillmode": "overlay",
              "size": 10,
              "solidity": 0.2
             }
            },
            "type": "bar"
           }
          ],
          "barpolar": [
           {
            "marker": {
             "line": {
              "color": "#E5ECF6",
              "width": 0.5
             },
             "pattern": {
              "fillmode": "overlay",
              "size": 10,
              "solidity": 0.2
             }
            },
            "type": "barpolar"
           }
          ],
          "carpet": [
           {
            "aaxis": {
             "endlinecolor": "#2a3f5f",
             "gridcolor": "white",
             "linecolor": "white",
             "minorgridcolor": "white",
             "startlinecolor": "#2a3f5f"
            },
            "baxis": {
             "endlinecolor": "#2a3f5f",
             "gridcolor": "white",
             "linecolor": "white",
             "minorgridcolor": "white",
             "startlinecolor": "#2a3f5f"
            },
            "type": "carpet"
           }
          ],
          "choropleth": [
           {
            "colorbar": {
             "outlinewidth": 0,
             "ticks": ""
            },
            "type": "choropleth"
           }
          ],
          "contour": [
           {
            "colorbar": {
             "outlinewidth": 0,
             "ticks": ""
            },
            "colorscale": [
             [
              0,
              "#0d0887"
             ],
             [
              0.1111111111111111,
              "#46039f"
             ],
             [
              0.2222222222222222,
              "#7201a8"
             ],
             [
              0.3333333333333333,
              "#9c179e"
             ],
             [
              0.4444444444444444,
              "#bd3786"
             ],
             [
              0.5555555555555556,
              "#d8576b"
             ],
             [
              0.6666666666666666,
              "#ed7953"
             ],
             [
              0.7777777777777778,
              "#fb9f3a"
             ],
             [
              0.8888888888888888,
              "#fdca26"
             ],
             [
              1,
              "#f0f921"
             ]
            ],
            "type": "contour"
           }
          ],
          "contourcarpet": [
           {
            "colorbar": {
             "outlinewidth": 0,
             "ticks": ""
            },
            "type": "contourcarpet"
           }
          ],
          "heatmap": [
           {
            "colorbar": {
             "outlinewidth": 0,
             "ticks": ""
            },
            "colorscale": [
             [
              0,
              "#0d0887"
             ],
             [
              0.1111111111111111,
              "#46039f"
             ],
             [
              0.2222222222222222,
              "#7201a8"
             ],
             [
              0.3333333333333333,
              "#9c179e"
             ],
             [
              0.4444444444444444,
              "#bd3786"
             ],
             [
              0.5555555555555556,
              "#d8576b"
             ],
             [
              0.6666666666666666,
              "#ed7953"
             ],
             [
              0.7777777777777778,
              "#fb9f3a"
             ],
             [
              0.8888888888888888,
              "#fdca26"
             ],
             [
              1,
              "#f0f921"
             ]
            ],
            "type": "heatmap"
           }
          ],
          "heatmapgl": [
           {
            "colorbar": {
             "outlinewidth": 0,
             "ticks": ""
            },
            "colorscale": [
             [
              0,
              "#0d0887"
             ],
             [
              0.1111111111111111,
              "#46039f"
             ],
             [
              0.2222222222222222,
              "#7201a8"
             ],
             [
              0.3333333333333333,
              "#9c179e"
             ],
             [
              0.4444444444444444,
              "#bd3786"
             ],
             [
              0.5555555555555556,
              "#d8576b"
             ],
             [
              0.6666666666666666,
              "#ed7953"
             ],
             [
              0.7777777777777778,
              "#fb9f3a"
             ],
             [
              0.8888888888888888,
              "#fdca26"
             ],
             [
              1,
              "#f0f921"
             ]
            ],
            "type": "heatmapgl"
           }
          ],
          "histogram": [
           {
            "marker": {
             "pattern": {
              "fillmode": "overlay",
              "size": 10,
              "solidity": 0.2
             }
            },
            "type": "histogram"
           }
          ],
          "histogram2d": [
           {
            "colorbar": {
             "outlinewidth": 0,
             "ticks": ""
            },
            "colorscale": [
             [
              0,
              "#0d0887"
             ],
             [
              0.1111111111111111,
              "#46039f"
             ],
             [
              0.2222222222222222,
              "#7201a8"
             ],
             [
              0.3333333333333333,
              "#9c179e"
             ],
             [
              0.4444444444444444,
              "#bd3786"
             ],
             [
              0.5555555555555556,
              "#d8576b"
             ],
             [
              0.6666666666666666,
              "#ed7953"
             ],
             [
              0.7777777777777778,
              "#fb9f3a"
             ],
             [
              0.8888888888888888,
              "#fdca26"
             ],
             [
              1,
              "#f0f921"
             ]
            ],
            "type": "histogram2d"
           }
          ],
          "histogram2dcontour": [
           {
            "colorbar": {
             "outlinewidth": 0,
             "ticks": ""
            },
            "colorscale": [
             [
              0,
              "#0d0887"
             ],
             [
              0.1111111111111111,
              "#46039f"
             ],
             [
              0.2222222222222222,
              "#7201a8"
             ],
             [
              0.3333333333333333,
              "#9c179e"
             ],
             [
              0.4444444444444444,
              "#bd3786"
             ],
             [
              0.5555555555555556,
              "#d8576b"
             ],
             [
              0.6666666666666666,
              "#ed7953"
             ],
             [
              0.7777777777777778,
              "#fb9f3a"
             ],
             [
              0.8888888888888888,
              "#fdca26"
             ],
             [
              1,
              "#f0f921"
             ]
            ],
            "type": "histogram2dcontour"
           }
          ],
          "mesh3d": [
           {
            "colorbar": {
             "outlinewidth": 0,
             "ticks": ""
            },
            "type": "mesh3d"
           }
          ],
          "parcoords": [
           {
            "line": {
             "colorbar": {
              "outlinewidth": 0,
              "ticks": ""
             }
            },
            "type": "parcoords"
           }
          ],
          "pie": [
           {
            "automargin": true,
            "type": "pie"
           }
          ],
          "scatter": [
           {
            "marker": {
             "colorbar": {
              "outlinewidth": 0,
              "ticks": ""
             }
            },
            "type": "scatter"
           }
          ],
          "scatter3d": [
           {
            "line": {
             "colorbar": {
              "outlinewidth": 0,
              "ticks": ""
             }
            },
            "marker": {
             "colorbar": {
              "outlinewidth": 0,
              "ticks": ""
             }
            },
            "type": "scatter3d"
           }
          ],
          "scattercarpet": [
           {
            "marker": {
             "colorbar": {
              "outlinewidth": 0,
              "ticks": ""
             }
            },
            "type": "scattercarpet"
           }
          ],
          "scattergeo": [
           {
            "marker": {
             "colorbar": {
              "outlinewidth": 0,
              "ticks": ""
             }
            },
            "type": "scattergeo"
           }
          ],
          "scattergl": [
           {
            "marker": {
             "colorbar": {
              "outlinewidth": 0,
              "ticks": ""
             }
            },
            "type": "scattergl"
           }
          ],
          "scattermapbox": [
           {
            "marker": {
             "colorbar": {
              "outlinewidth": 0,
              "ticks": ""
             }
            },
            "type": "scattermapbox"
           }
          ],
          "scatterpolar": [
           {
            "marker": {
             "colorbar": {
              "outlinewidth": 0,
              "ticks": ""
             }
            },
            "type": "scatterpolar"
           }
          ],
          "scatterpolargl": [
           {
            "marker": {
             "colorbar": {
              "outlinewidth": 0,
              "ticks": ""
             }
            },
            "type": "scatterpolargl"
           }
          ],
          "scatterternary": [
           {
            "marker": {
             "colorbar": {
              "outlinewidth": 0,
              "ticks": ""
             }
            },
            "type": "scatterternary"
           }
          ],
          "surface": [
           {
            "colorbar": {
             "outlinewidth": 0,
             "ticks": ""
            },
            "colorscale": [
             [
              0,
              "#0d0887"
             ],
             [
              0.1111111111111111,
              "#46039f"
             ],
             [
              0.2222222222222222,
              "#7201a8"
             ],
             [
              0.3333333333333333,
              "#9c179e"
             ],
             [
              0.4444444444444444,
              "#bd3786"
             ],
             [
              0.5555555555555556,
              "#d8576b"
             ],
             [
              0.6666666666666666,
              "#ed7953"
             ],
             [
              0.7777777777777778,
              "#fb9f3a"
             ],
             [
              0.8888888888888888,
              "#fdca26"
             ],
             [
              1,
              "#f0f921"
             ]
            ],
            "type": "surface"
           }
          ],
          "table": [
           {
            "cells": {
             "fill": {
              "color": "#EBF0F8"
             },
             "line": {
              "color": "white"
             }
            },
            "header": {
             "fill": {
              "color": "#C8D4E3"
             },
             "line": {
              "color": "white"
             }
            },
            "type": "table"
           }
          ]
         },
         "layout": {
          "annotationdefaults": {
           "arrowcolor": "#2a3f5f",
           "arrowhead": 0,
           "arrowwidth": 1
          },
          "autotypenumbers": "strict",
          "coloraxis": {
           "colorbar": {
            "outlinewidth": 0,
            "ticks": ""
           }
          },
          "colorscale": {
           "diverging": [
            [
             0,
             "#8e0152"
            ],
            [
             0.1,
             "#c51b7d"
            ],
            [
             0.2,
             "#de77ae"
            ],
            [
             0.3,
             "#f1b6da"
            ],
            [
             0.4,
             "#fde0ef"
            ],
            [
             0.5,
             "#f7f7f7"
            ],
            [
             0.6,
             "#e6f5d0"
            ],
            [
             0.7,
             "#b8e186"
            ],
            [
             0.8,
             "#7fbc41"
            ],
            [
             0.9,
             "#4d9221"
            ],
            [
             1,
             "#276419"
            ]
           ],
           "sequential": [
            [
             0,
             "#0d0887"
            ],
            [
             0.1111111111111111,
             "#46039f"
            ],
            [
             0.2222222222222222,
             "#7201a8"
            ],
            [
             0.3333333333333333,
             "#9c179e"
            ],
            [
             0.4444444444444444,
             "#bd3786"
            ],
            [
             0.5555555555555556,
             "#d8576b"
            ],
            [
             0.6666666666666666,
             "#ed7953"
            ],
            [
             0.7777777777777778,
             "#fb9f3a"
            ],
            [
             0.8888888888888888,
             "#fdca26"
            ],
            [
             1,
             "#f0f921"
            ]
           ],
           "sequentialminus": [
            [
             0,
             "#0d0887"
            ],
            [
             0.1111111111111111,
             "#46039f"
            ],
            [
             0.2222222222222222,
             "#7201a8"
            ],
            [
             0.3333333333333333,
             "#9c179e"
            ],
            [
             0.4444444444444444,
             "#bd3786"
            ],
            [
             0.5555555555555556,
             "#d8576b"
            ],
            [
             0.6666666666666666,
             "#ed7953"
            ],
            [
             0.7777777777777778,
             "#fb9f3a"
            ],
            [
             0.8888888888888888,
             "#fdca26"
            ],
            [
             1,
             "#f0f921"
            ]
           ]
          },
          "colorway": [
           "#636efa",
           "#EF553B",
           "#00cc96",
           "#ab63fa",
           "#FFA15A",
           "#19d3f3",
           "#FF6692",
           "#B6E880",
           "#FF97FF",
           "#FECB52"
          ],
          "font": {
           "color": "#2a3f5f"
          },
          "geo": {
           "bgcolor": "white",
           "lakecolor": "white",
           "landcolor": "#E5ECF6",
           "showlakes": true,
           "showland": true,
           "subunitcolor": "white"
          },
          "hoverlabel": {
           "align": "left"
          },
          "hovermode": "closest",
          "mapbox": {
           "style": "light"
          },
          "paper_bgcolor": "white",
          "plot_bgcolor": "#E5ECF6",
          "polar": {
           "angularaxis": {
            "gridcolor": "white",
            "linecolor": "white",
            "ticks": ""
           },
           "bgcolor": "#E5ECF6",
           "radialaxis": {
            "gridcolor": "white",
            "linecolor": "white",
            "ticks": ""
           }
          },
          "scene": {
           "xaxis": {
            "backgroundcolor": "#E5ECF6",
            "gridcolor": "white",
            "gridwidth": 2,
            "linecolor": "white",
            "showbackground": true,
            "ticks": "",
            "zerolinecolor": "white"
           },
           "yaxis": {
            "backgroundcolor": "#E5ECF6",
            "gridcolor": "white",
            "gridwidth": 2,
            "linecolor": "white",
            "showbackground": true,
            "ticks": "",
            "zerolinecolor": "white"
           },
           "zaxis": {
            "backgroundcolor": "#E5ECF6",
            "gridcolor": "white",
            "gridwidth": 2,
            "linecolor": "white",
            "showbackground": true,
            "ticks": "",
            "zerolinecolor": "white"
           }
          },
          "shapedefaults": {
           "line": {
            "color": "#2a3f5f"
           }
          },
          "ternary": {
           "aaxis": {
            "gridcolor": "white",
            "linecolor": "white",
            "ticks": ""
           },
           "baxis": {
            "gridcolor": "white",
            "linecolor": "white",
            "ticks": ""
           },
           "bgcolor": "#E5ECF6",
           "caxis": {
            "gridcolor": "white",
            "linecolor": "white",
            "ticks": ""
           }
          },
          "title": {
           "x": 0.05
          },
          "xaxis": {
           "automargin": true,
           "gridcolor": "white",
           "linecolor": "white",
           "ticks": "",
           "title": {
            "standoff": 15
           },
           "zerolinecolor": "white",
           "zerolinewidth": 2
          },
          "yaxis": {
           "automargin": true,
           "gridcolor": "white",
           "linecolor": "white",
           "ticks": "",
           "title": {
            "standoff": 15
           },
           "zerolinecolor": "white",
           "zerolinewidth": 2
          }
         }
        },
        "title": {
         "text": "<b>Воронка событий</b>",
         "x": 0.5,
         "xanchor": "center",
         "y": 0.95,
         "yanchor": "top"
        },
        "width": 800
       }
      },
      "text/html": [
       "<div>                            <div id=\"9e8f8a1d-2482-4f6f-90d9-ab85079893c2\" class=\"plotly-graph-div\" style=\"height:450px; width:800px;\"></div>            <script type=\"text/javascript\">                require([\"plotly\"], function(Plotly) {                    window.PLOTLYENV=window.PLOTLYENV || {};                                    if (document.getElementById(\"9e8f8a1d-2482-4f6f-90d9-ab85079893c2\")) {                    Plotly.newPlot(                        \"9e8f8a1d-2482-4f6f-90d9-ab85079893c2\",                        [{\"hoverinfo\":\"none\",\"name\":\"A\",\"textinfo\":\"value+percent initial\",\"textposition\":\"inside\",\"x\":[2082,1360,631,652],\"y\":[\"\\u0410\\u0432\\u0442\\u043e\\u0440\\u0438\\u0437\\u0430\\u0446\\u0438\\u044f\",\"\\u041f\\u0440\\u043e\\u0441\\u043c\\u043e\\u0442\\u0440 \\u0442\\u043e\\u0432\\u0430\\u0440\\u0430\",\"\\u041f\\u0440\\u043e\\u0441\\u043c\\u043e\\u0442\\u0440 \\u043a\\u043e\\u0440\\u0437\\u0438\\u043d\\u044b\",\"\\u041f\\u043e\\u043a\\u0443\\u043f\\u043a\\u0430\"],\"type\":\"funnel\"},{\"hoverinfo\":\"none\",\"name\":\"B\",\"textinfo\":\"value+percent initial\",\"textposition\":\"inside\",\"x\":[705,397,195,198],\"y\":[\"\\u0410\\u0432\\u0442\\u043e\\u0440\\u0438\\u0437\\u0430\\u0446\\u0438\\u044f\",\"\\u041f\\u0440\\u043e\\u0441\\u043c\\u043e\\u0442\\u0440 \\u0442\\u043e\\u0432\\u0430\\u0440\\u0430\",\"\\u041f\\u0440\\u043e\\u0441\\u043c\\u043e\\u0442\\u0440 \\u043a\\u043e\\u0440\\u0437\\u0438\\u043d\\u044b\",\"\\u041f\\u043e\\u043a\\u0443\\u043f\\u043a\\u0430\"],\"type\":\"funnel\"}],                        {\"template\":{\"data\":{\"bar\":[{\"error_x\":{\"color\":\"#2a3f5f\"},\"error_y\":{\"color\":\"#2a3f5f\"},\"marker\":{\"line\":{\"color\":\"#E5ECF6\",\"width\":0.5},\"pattern\":{\"fillmode\":\"overlay\",\"size\":10,\"solidity\":0.2}},\"type\":\"bar\"}],\"barpolar\":[{\"marker\":{\"line\":{\"color\":\"#E5ECF6\",\"width\":0.5},\"pattern\":{\"fillmode\":\"overlay\",\"size\":10,\"solidity\":0.2}},\"type\":\"barpolar\"}],\"carpet\":[{\"aaxis\":{\"endlinecolor\":\"#2a3f5f\",\"gridcolor\":\"white\",\"linecolor\":\"white\",\"minorgridcolor\":\"white\",\"startlinecolor\":\"#2a3f5f\"},\"baxis\":{\"endlinecolor\":\"#2a3f5f\",\"gridcolor\":\"white\",\"linecolor\":\"white\",\"minorgridcolor\":\"white\",\"startlinecolor\":\"#2a3f5f\"},\"type\":\"carpet\"}],\"choropleth\":[{\"colorbar\":{\"outlinewidth\":0,\"ticks\":\"\"},\"type\":\"choropleth\"}],\"contour\":[{\"colorbar\":{\"outlinewidth\":0,\"ticks\":\"\"},\"colorscale\":[[0.0,\"#0d0887\"],[0.1111111111111111,\"#46039f\"],[0.2222222222222222,\"#7201a8\"],[0.3333333333333333,\"#9c179e\"],[0.4444444444444444,\"#bd3786\"],[0.5555555555555556,\"#d8576b\"],[0.6666666666666666,\"#ed7953\"],[0.7777777777777778,\"#fb9f3a\"],[0.8888888888888888,\"#fdca26\"],[1.0,\"#f0f921\"]],\"type\":\"contour\"}],\"contourcarpet\":[{\"colorbar\":{\"outlinewidth\":0,\"ticks\":\"\"},\"type\":\"contourcarpet\"}],\"heatmap\":[{\"colorbar\":{\"outlinewidth\":0,\"ticks\":\"\"},\"colorscale\":[[0.0,\"#0d0887\"],[0.1111111111111111,\"#46039f\"],[0.2222222222222222,\"#7201a8\"],[0.3333333333333333,\"#9c179e\"],[0.4444444444444444,\"#bd3786\"],[0.5555555555555556,\"#d8576b\"],[0.6666666666666666,\"#ed7953\"],[0.7777777777777778,\"#fb9f3a\"],[0.8888888888888888,\"#fdca26\"],[1.0,\"#f0f921\"]],\"type\":\"heatmap\"}],\"heatmapgl\":[{\"colorbar\":{\"outlinewidth\":0,\"ticks\":\"\"},\"colorscale\":[[0.0,\"#0d0887\"],[0.1111111111111111,\"#46039f\"],[0.2222222222222222,\"#7201a8\"],[0.3333333333333333,\"#9c179e\"],[0.4444444444444444,\"#bd3786\"],[0.5555555555555556,\"#d8576b\"],[0.6666666666666666,\"#ed7953\"],[0.7777777777777778,\"#fb9f3a\"],[0.8888888888888888,\"#fdca26\"],[1.0,\"#f0f921\"]],\"type\":\"heatmapgl\"}],\"histogram\":[{\"marker\":{\"pattern\":{\"fillmode\":\"overlay\",\"size\":10,\"solidity\":0.2}},\"type\":\"histogram\"}],\"histogram2d\":[{\"colorbar\":{\"outlinewidth\":0,\"ticks\":\"\"},\"colorscale\":[[0.0,\"#0d0887\"],[0.1111111111111111,\"#46039f\"],[0.2222222222222222,\"#7201a8\"],[0.3333333333333333,\"#9c179e\"],[0.4444444444444444,\"#bd3786\"],[0.5555555555555556,\"#d8576b\"],[0.6666666666666666,\"#ed7953\"],[0.7777777777777778,\"#fb9f3a\"],[0.8888888888888888,\"#fdca26\"],[1.0,\"#f0f921\"]],\"type\":\"histogram2d\"}],\"histogram2dcontour\":[{\"colorbar\":{\"outlinewidth\":0,\"ticks\":\"\"},\"colorscale\":[[0.0,\"#0d0887\"],[0.1111111111111111,\"#46039f\"],[0.2222222222222222,\"#7201a8\"],[0.3333333333333333,\"#9c179e\"],[0.4444444444444444,\"#bd3786\"],[0.5555555555555556,\"#d8576b\"],[0.6666666666666666,\"#ed7953\"],[0.7777777777777778,\"#fb9f3a\"],[0.8888888888888888,\"#fdca26\"],[1.0,\"#f0f921\"]],\"type\":\"histogram2dcontour\"}],\"mesh3d\":[{\"colorbar\":{\"outlinewidth\":0,\"ticks\":\"\"},\"type\":\"mesh3d\"}],\"parcoords\":[{\"line\":{\"colorbar\":{\"outlinewidth\":0,\"ticks\":\"\"}},\"type\":\"parcoords\"}],\"pie\":[{\"automargin\":true,\"type\":\"pie\"}],\"scatter\":[{\"marker\":{\"colorbar\":{\"outlinewidth\":0,\"ticks\":\"\"}},\"type\":\"scatter\"}],\"scatter3d\":[{\"line\":{\"colorbar\":{\"outlinewidth\":0,\"ticks\":\"\"}},\"marker\":{\"colorbar\":{\"outlinewidth\":0,\"ticks\":\"\"}},\"type\":\"scatter3d\"}],\"scattercarpet\":[{\"marker\":{\"colorbar\":{\"outlinewidth\":0,\"ticks\":\"\"}},\"type\":\"scattercarpet\"}],\"scattergeo\":[{\"marker\":{\"colorbar\":{\"outlinewidth\":0,\"ticks\":\"\"}},\"type\":\"scattergeo\"}],\"scattergl\":[{\"marker\":{\"colorbar\":{\"outlinewidth\":0,\"ticks\":\"\"}},\"type\":\"scattergl\"}],\"scattermapbox\":[{\"marker\":{\"colorbar\":{\"outlinewidth\":0,\"ticks\":\"\"}},\"type\":\"scattermapbox\"}],\"scatterpolar\":[{\"marker\":{\"colorbar\":{\"outlinewidth\":0,\"ticks\":\"\"}},\"type\":\"scatterpolar\"}],\"scatterpolargl\":[{\"marker\":{\"colorbar\":{\"outlinewidth\":0,\"ticks\":\"\"}},\"type\":\"scatterpolargl\"}],\"scatterternary\":[{\"marker\":{\"colorbar\":{\"outlinewidth\":0,\"ticks\":\"\"}},\"type\":\"scatterternary\"}],\"surface\":[{\"colorbar\":{\"outlinewidth\":0,\"ticks\":\"\"},\"colorscale\":[[0.0,\"#0d0887\"],[0.1111111111111111,\"#46039f\"],[0.2222222222222222,\"#7201a8\"],[0.3333333333333333,\"#9c179e\"],[0.4444444444444444,\"#bd3786\"],[0.5555555555555556,\"#d8576b\"],[0.6666666666666666,\"#ed7953\"],[0.7777777777777778,\"#fb9f3a\"],[0.8888888888888888,\"#fdca26\"],[1.0,\"#f0f921\"]],\"type\":\"surface\"}],\"table\":[{\"cells\":{\"fill\":{\"color\":\"#EBF0F8\"},\"line\":{\"color\":\"white\"}},\"header\":{\"fill\":{\"color\":\"#C8D4E3\"},\"line\":{\"color\":\"white\"}},\"type\":\"table\"}]},\"layout\":{\"annotationdefaults\":{\"arrowcolor\":\"#2a3f5f\",\"arrowhead\":0,\"arrowwidth\":1},\"autotypenumbers\":\"strict\",\"coloraxis\":{\"colorbar\":{\"outlinewidth\":0,\"ticks\":\"\"}},\"colorscale\":{\"diverging\":[[0,\"#8e0152\"],[0.1,\"#c51b7d\"],[0.2,\"#de77ae\"],[0.3,\"#f1b6da\"],[0.4,\"#fde0ef\"],[0.5,\"#f7f7f7\"],[0.6,\"#e6f5d0\"],[0.7,\"#b8e186\"],[0.8,\"#7fbc41\"],[0.9,\"#4d9221\"],[1,\"#276419\"]],\"sequential\":[[0.0,\"#0d0887\"],[0.1111111111111111,\"#46039f\"],[0.2222222222222222,\"#7201a8\"],[0.3333333333333333,\"#9c179e\"],[0.4444444444444444,\"#bd3786\"],[0.5555555555555556,\"#d8576b\"],[0.6666666666666666,\"#ed7953\"],[0.7777777777777778,\"#fb9f3a\"],[0.8888888888888888,\"#fdca26\"],[1.0,\"#f0f921\"]],\"sequentialminus\":[[0.0,\"#0d0887\"],[0.1111111111111111,\"#46039f\"],[0.2222222222222222,\"#7201a8\"],[0.3333333333333333,\"#9c179e\"],[0.4444444444444444,\"#bd3786\"],[0.5555555555555556,\"#d8576b\"],[0.6666666666666666,\"#ed7953\"],[0.7777777777777778,\"#fb9f3a\"],[0.8888888888888888,\"#fdca26\"],[1.0,\"#f0f921\"]]},\"colorway\":[\"#636efa\",\"#EF553B\",\"#00cc96\",\"#ab63fa\",\"#FFA15A\",\"#19d3f3\",\"#FF6692\",\"#B6E880\",\"#FF97FF\",\"#FECB52\"],\"font\":{\"color\":\"#2a3f5f\"},\"geo\":{\"bgcolor\":\"white\",\"lakecolor\":\"white\",\"landcolor\":\"#E5ECF6\",\"showlakes\":true,\"showland\":true,\"subunitcolor\":\"white\"},\"hoverlabel\":{\"align\":\"left\"},\"hovermode\":\"closest\",\"mapbox\":{\"style\":\"light\"},\"paper_bgcolor\":\"white\",\"plot_bgcolor\":\"#E5ECF6\",\"polar\":{\"angularaxis\":{\"gridcolor\":\"white\",\"linecolor\":\"white\",\"ticks\":\"\"},\"bgcolor\":\"#E5ECF6\",\"radialaxis\":{\"gridcolor\":\"white\",\"linecolor\":\"white\",\"ticks\":\"\"}},\"scene\":{\"xaxis\":{\"backgroundcolor\":\"#E5ECF6\",\"gridcolor\":\"white\",\"gridwidth\":2,\"linecolor\":\"white\",\"showbackground\":true,\"ticks\":\"\",\"zerolinecolor\":\"white\"},\"yaxis\":{\"backgroundcolor\":\"#E5ECF6\",\"gridcolor\":\"white\",\"gridwidth\":2,\"linecolor\":\"white\",\"showbackground\":true,\"ticks\":\"\",\"zerolinecolor\":\"white\"},\"zaxis\":{\"backgroundcolor\":\"#E5ECF6\",\"gridcolor\":\"white\",\"gridwidth\":2,\"linecolor\":\"white\",\"showbackground\":true,\"ticks\":\"\",\"zerolinecolor\":\"white\"}},\"shapedefaults\":{\"line\":{\"color\":\"#2a3f5f\"}},\"ternary\":{\"aaxis\":{\"gridcolor\":\"white\",\"linecolor\":\"white\",\"ticks\":\"\"},\"baxis\":{\"gridcolor\":\"white\",\"linecolor\":\"white\",\"ticks\":\"\"},\"bgcolor\":\"#E5ECF6\",\"caxis\":{\"gridcolor\":\"white\",\"linecolor\":\"white\",\"ticks\":\"\"}},\"title\":{\"x\":0.05},\"xaxis\":{\"automargin\":true,\"gridcolor\":\"white\",\"linecolor\":\"white\",\"ticks\":\"\",\"title\":{\"standoff\":15},\"zerolinecolor\":\"white\",\"zerolinewidth\":2},\"yaxis\":{\"automargin\":true,\"gridcolor\":\"white\",\"linecolor\":\"white\",\"ticks\":\"\",\"title\":{\"standoff\":15},\"zerolinecolor\":\"white\",\"zerolinewidth\":2}}},\"title\":{\"text\":\"<b>\\u0412\\u043e\\u0440\\u043e\\u043d\\u043a\\u0430 \\u0441\\u043e\\u0431\\u044b\\u0442\\u0438\\u0439</b>\",\"y\":0.95,\"x\":0.5,\"xanchor\":\"center\",\"yanchor\":\"top\"},\"margin\":{\"t\":50,\"b\":15},\"font\":{\"family\":\"Arial\",\"size\":12,\"color\":\"black\"},\"width\":800,\"height\":450,\"plot_bgcolor\":\"rgba(0,0,0,0)\"},                        {\"displayModeBar\": false, \"responsive\": true}                    ).then(function(){\n",
       "                            \n",
       "var gd = document.getElementById('9e8f8a1d-2482-4f6f-90d9-ab85079893c2');\n",
       "var x = new MutationObserver(function (mutations, observer) {{\n",
       "        var display = window.getComputedStyle(gd).display;\n",
       "        if (!display || display === 'none') {{\n",
       "            console.log([gd, 'removed!']);\n",
       "            Plotly.purge(gd);\n",
       "            observer.disconnect();\n",
       "        }}\n",
       "}});\n",
       "\n",
       "// Listen for the removal of the full notebook cells\n",
       "var notebookContainer = gd.closest('#notebook-container');\n",
       "if (notebookContainer) {{\n",
       "    x.observe(notebookContainer, {childList: true});\n",
       "}}\n",
       "\n",
       "// Listen for the clearing of the current output cell\n",
       "var outputEl = gd.closest('.output');\n",
       "if (outputEl) {{\n",
       "    x.observe(outputEl, {childList: true});\n",
       "}}\n",
       "\n",
       "                        })                };                });            </script>        </div>"
      ]
     },
     "metadata": {},
     "output_type": "display_data"
    }
   ],
   "source": [
    "# Построение воронки событий\n",
    "list_groups = ['A', 'B']\n",
    "fig_funnel = go.Figure()\n",
    "for i, group in enumerate(list_groups):\n",
    "    fig_funnel.add_trace(go.Funnel(\n",
    "        name = str(group),\n",
    "        x = df_funnel_ab[(df_funnel_ab['group'] == group)]['n_users'],\n",
    "        y = ['Авторизация', 'Просмотр товара', 'Просмотр корзины', 'Покупка'],\n",
    "        textinfo = 'value+percent initial', hoverinfo='none', textposition='inside'))\n",
    "    fig_funnel.update_layout(title=dict(text='<b>Воронка событий</b>', \n",
    "                                        y=0.95, x=0.5, xanchor='center', yanchor='top'),\n",
    "                             margin=dict(t=50, b=15), width=800, height=450, plot_bgcolor='rgba(0,0,0,0)',                      \n",
    "                             font_family='Arial', font_size=12, font_color='black')              \n",
    "fig_funnel.show(config={'displayModeBar': False})"
   ]
  },
  {
   "cell_type": "markdown",
   "id": "d01d3f8f",
   "metadata": {},
   "source": [
    "На страницу с товаром заходили 65% пользователей в группе контроля \"А\" и 56% в группе сравнения \"В\". В корзину зашли 30% пользователей из группы конроля \"А\" и 28% из группы сравнения \"В\". Совершают покупку в группе контроля \"А\" 31% пользователей, в группе сравнения \"В\" 28% пользователей.  \n",
    "\n",
    "Пользователи из группы сравнения \"В\" совершали на 9% меньше переходов на карточку с товаром, при этом процент переходов в корзину и совершения покупок не намного ниже - разница 2 и 3% соответственно, чем в контрольной группе \"А\". \n",
    "\n",
    "Около 30% авторизованных пользователей совершили покупки. "
   ]
  },
  {
   "cell_type": "markdown",
   "id": "3fa33f3f",
   "metadata": {},
   "source": [
    "### Кумулятивный средний чек группы \"B\" к группе \"A\""
   ]
  },
  {
   "cell_type": "markdown",
   "id": "6a0ac3db",
   "metadata": {},
   "source": [
    "Проанализируем повлияли ли изменения в рекомендательной системе на выручку. Для этого произведем расчеты относительного изменения кумулятивного среднего чека группы \"B\" к группе \"A\" и относительного изменения кумулятивной конверсии авторизованных пользователей в пользователей совершивших покупку группы \"B\" к группе \"A\".\n",
    "\n",
    "Добавим в таблицу **df_users_events** сведения о транзакции пользователей - \"1\" - покупка, \"0\" - другое действие."
   ]
  },
  {
   "cell_type": "code",
   "execution_count": 84,
   "id": "c01bc3cb",
   "metadata": {},
   "outputs": [],
   "source": [
    "df_users_events.loc[(df_users_events.event_name == 'purchase'), 'transaction'] = 1\n",
    "df_users_events.fillna(0, inplace=True)\n",
    "df_users_events['transaction'] = df_users_events['transaction'].astype(int)"
   ]
  },
  {
   "cell_type": "markdown",
   "id": "3a8bbf28",
   "metadata": {},
   "source": [
    "Присвоим пропущенным значениям выручки - 0."
   ]
  },
  {
   "cell_type": "code",
   "execution_count": 85,
   "id": "26fc05b1",
   "metadata": {},
   "outputs": [],
   "source": [
    "df_users_events['details'] = df_users_events['details'].fillna(0)"
   ]
  },
  {
   "cell_type": "markdown",
   "id": "0920a31b",
   "metadata": {},
   "source": [
    "Выполним группировку по статистической группе и дате, при этом рассчитаем количество уникальных пользователей, которые совершили каки-либо действия в магазине за день, общее количество покупок и общую сумму выручки:"
   ]
  },
  {
   "cell_type": "code",
   "execution_count": 86,
   "id": "3e9415fd",
   "metadata": {},
   "outputs": [
    {
     "data": {
      "text/html": [
       "<div>\n",
       "<style scoped>\n",
       "    .dataframe tbody tr th:only-of-type {\n",
       "        vertical-align: middle;\n",
       "    }\n",
       "\n",
       "    .dataframe tbody tr th {\n",
       "        vertical-align: top;\n",
       "    }\n",
       "\n",
       "    .dataframe thead th {\n",
       "        text-align: right;\n",
       "    }\n",
       "</style>\n",
       "<table border=\"1\" class=\"dataframe\">\n",
       "  <thead>\n",
       "    <tr style=\"text-align: right;\">\n",
       "      <th></th>\n",
       "      <th>group</th>\n",
       "      <th>date</th>\n",
       "      <th>visitors</th>\n",
       "      <th>transactions</th>\n",
       "      <th>revenue</th>\n",
       "    </tr>\n",
       "  </thead>\n",
       "  <tbody>\n",
       "    <tr>\n",
       "      <th>0</th>\n",
       "      <td>A</td>\n",
       "      <td>2020-12-07</td>\n",
       "      <td>109</td>\n",
       "      <td>30</td>\n",
       "      <td>744.70</td>\n",
       "    </tr>\n",
       "    <tr>\n",
       "      <th>1</th>\n",
       "      <td>A</td>\n",
       "      <td>2020-12-08</td>\n",
       "      <td>121</td>\n",
       "      <td>30</td>\n",
       "      <td>734.70</td>\n",
       "    </tr>\n",
       "    <tr>\n",
       "      <th>2</th>\n",
       "      <td>A</td>\n",
       "      <td>2020-12-09</td>\n",
       "      <td>135</td>\n",
       "      <td>43</td>\n",
       "      <td>1324.57</td>\n",
       "    </tr>\n",
       "  </tbody>\n",
       "</table>\n",
       "</div>"
      ],
      "text/plain": [
       "  group       date  visitors  transactions  revenue\n",
       "0  A    2020-12-07  109       30           744.70  \n",
       "1  A    2020-12-08  121       30           734.70  \n",
       "2  A    2020-12-09  135       43           1324.57 "
      ]
     },
     "execution_count": 86,
     "metadata": {},
     "output_type": "execute_result"
    }
   ],
   "source": [
    "df_revenue = df_users_events.groupby(['group', 'event_dt_D'])\\\n",
    "                            .agg({'user_id': 'nunique', 'transaction': 'sum', 'details': 'sum'}).reset_index()\n",
    "df_revenue.columns = ['group', 'date', 'visitors', 'transactions', 'revenue']\n",
    "df_revenue.head(3)"
   ]
  },
  {
   "cell_type": "markdown",
   "id": "80240677",
   "metadata": {},
   "source": [
    "Подготовим сводную таблицу **df_revenue_merge**, к которой будем обращаться при проведении расчетов и построении графиков:"
   ]
  },
  {
   "cell_type": "code",
   "execution_count": 87,
   "id": "54f70ce1",
   "metadata": {},
   "outputs": [
    {
     "data": {
      "text/html": [
       "<div>\n",
       "<style scoped>\n",
       "    .dataframe tbody tr th:only-of-type {\n",
       "        vertical-align: middle;\n",
       "    }\n",
       "\n",
       "    .dataframe tbody tr th {\n",
       "        vertical-align: top;\n",
       "    }\n",
       "\n",
       "    .dataframe thead th {\n",
       "        text-align: right;\n",
       "    }\n",
       "</style>\n",
       "<table border=\"1\" class=\"dataframe\">\n",
       "  <thead>\n",
       "    <tr style=\"text-align: right;\">\n",
       "      <th></th>\n",
       "      <th>date</th>\n",
       "      <th>visA</th>\n",
       "      <th>ordA</th>\n",
       "      <th>revA</th>\n",
       "      <th>visB</th>\n",
       "      <th>ordB</th>\n",
       "      <th>revB</th>\n",
       "      <th>visCumA</th>\n",
       "      <th>ordCumA</th>\n",
       "      <th>revCumA</th>\n",
       "      <th>visCumB</th>\n",
       "      <th>ordCumB</th>\n",
       "      <th>revCumB</th>\n",
       "      <th>avgchCumA</th>\n",
       "      <th>avgchCumB</th>\n",
       "      <th>convA</th>\n",
       "      <th>convB</th>\n",
       "      <th>relCheck</th>\n",
       "      <th>relConv</th>\n",
       "    </tr>\n",
       "  </thead>\n",
       "  <tbody>\n",
       "    <tr>\n",
       "      <th>0</th>\n",
       "      <td>2020-12-07</td>\n",
       "      <td>109</td>\n",
       "      <td>30</td>\n",
       "      <td>744.70</td>\n",
       "      <td>129</td>\n",
       "      <td>47</td>\n",
       "      <td>639.53</td>\n",
       "      <td>109</td>\n",
       "      <td>30</td>\n",
       "      <td>744.70</td>\n",
       "      <td>129</td>\n",
       "      <td>47</td>\n",
       "      <td>639.53</td>\n",
       "      <td>24.82</td>\n",
       "      <td>13.61</td>\n",
       "      <td>0.28</td>\n",
       "      <td>0.36</td>\n",
       "      <td>-0.45</td>\n",
       "      <td>0.32</td>\n",
       "    </tr>\n",
       "    <tr>\n",
       "      <th>1</th>\n",
       "      <td>2020-12-08</td>\n",
       "      <td>121</td>\n",
       "      <td>30</td>\n",
       "      <td>734.70</td>\n",
       "      <td>88</td>\n",
       "      <td>26</td>\n",
       "      <td>344.74</td>\n",
       "      <td>230</td>\n",
       "      <td>60</td>\n",
       "      <td>1479.40</td>\n",
       "      <td>217</td>\n",
       "      <td>73</td>\n",
       "      <td>984.27</td>\n",
       "      <td>24.66</td>\n",
       "      <td>13.48</td>\n",
       "      <td>0.26</td>\n",
       "      <td>0.34</td>\n",
       "      <td>-0.45</td>\n",
       "      <td>0.29</td>\n",
       "    </tr>\n",
       "    <tr>\n",
       "      <th>2</th>\n",
       "      <td>2020-12-09</td>\n",
       "      <td>135</td>\n",
       "      <td>43</td>\n",
       "      <td>1324.57</td>\n",
       "      <td>128</td>\n",
       "      <td>28</td>\n",
       "      <td>354.72</td>\n",
       "      <td>365</td>\n",
       "      <td>103</td>\n",
       "      <td>2803.97</td>\n",
       "      <td>345</td>\n",
       "      <td>101</td>\n",
       "      <td>1338.99</td>\n",
       "      <td>27.22</td>\n",
       "      <td>13.26</td>\n",
       "      <td>0.28</td>\n",
       "      <td>0.29</td>\n",
       "      <td>-0.51</td>\n",
       "      <td>0.04</td>\n",
       "    </tr>\n",
       "  </tbody>\n",
       "</table>\n",
       "</div>"
      ],
      "text/plain": [
       "        date  visA  ordA    revA  visB  ordB   revB  visCumA  ordCumA  \\\n",
       "0 2020-12-07  109   30   744.70   129   47   639.53  109      30        \n",
       "1 2020-12-08  121   30   734.70   88    26   344.74  230      60        \n",
       "2 2020-12-09  135   43   1324.57  128   28   354.72  365      103       \n",
       "\n",
       "   revCumA  visCumB  ordCumB  revCumB  avgchCumA  avgchCumB  convA  convB  \\\n",
       "0 744.70    129      47      639.53   24.82      13.61      0.28   0.36     \n",
       "1 1479.40   217      73      984.27   24.66      13.48      0.26   0.34     \n",
       "2 2803.97   345      101     1338.99  27.22      13.26      0.28   0.29     \n",
       "\n",
       "   relCheck  relConv  \n",
       "0 -0.45     0.32      \n",
       "1 -0.45     0.29      \n",
       "2 -0.51     0.04      "
      ]
     },
     "execution_count": 87,
     "metadata": {},
     "output_type": "execute_result"
    }
   ],
   "source": [
    "# Расчет количества пользователей на каждую дату в группе \"А\"\n",
    "ADaily = df_revenue[df_revenue['group'] == 'A'][['date', 'visitors', 'transactions', 'revenue']]\n",
    "ADaily.columns = ['date', 'visA', 'ordA', 'revA']\n",
    "\n",
    "# Расчет кумклятивных значений пользователей, покупок и выручки в группе \"А\"\n",
    "ACummulative = ADaily.apply(lambda x: ADaily[ADaily['date'] <= x['date']]\\\n",
    "                     .agg({'date': 'max', 'visA': 'sum', 'ordA': 'sum', 'revA': 'sum'}), axis=1)\n",
    "ACummulative.columns = ['date', 'visCumA', 'ordCumA', 'revCumA']\n",
    "\n",
    "# Расчет количества пользователей на каждую дату в группе \"B\"\n",
    "BDaily = df_revenue[df_revenue['group'] == 'B'][['date', 'visitors', 'transactions', 'revenue']]\n",
    "BDaily.columns = ['date', 'visB', 'ordB', 'revB']\n",
    "\n",
    "# Расчет кумулятивных значений пользователей, покупок и выручки в группе \"B\"\n",
    "BCummulative = BDaily.apply(lambda x: BDaily[BDaily['date'] <= x['date']]\\\n",
    "                     .agg({'date': 'max', 'visB': 'sum', 'ordB': 'sum', 'revB': 'sum'}), axis=1)\n",
    "BCummulative.columns = ['date', 'visCumB', 'ordCumB', 'revCumB']\n",
    "\n",
    "# Сводная таблица\n",
    "df_revenue_merge = ADaily.merge(BDaily, on='date', how='left')\\\n",
    "                         .merge(ACummulative, on='date', how='left')\\\n",
    "                         .merge(BCummulative, on='date', how='left')\n",
    "\n",
    "# Расчет кумулятивного среднего чека по группам\n",
    "df_revenue_merge['avgchCumA'] = (df_revenue_merge['revCumA'] / df_revenue_merge['ordCumA']).round(2)\n",
    "df_revenue_merge['avgchCumB'] = (df_revenue_merge['revCumB'] / df_revenue_merge['ordCumB']).round(2)\n",
    "\n",
    "# Расчет кумулятивной конверсии по группам\n",
    "df_revenue_merge['convA'] = (df_revenue_merge['ordCumA'] / df_revenue_merge['visCumA']).round(3)\n",
    "df_revenue_merge['convB'] = (df_revenue_merge['ordCumB'] / df_revenue_merge['visCumB']).round(3)\n",
    "\n",
    "# Расчет относительного изменения кумулятивного среднего чека группы \"B\" к группе \"A\"\n",
    "df_revenue_merge['relCheck'] = (df_revenue_merge['avgchCumB'] / df_revenue_merge['avgchCumA'] - 1).round(2)\n",
    "\n",
    "# Расчет относительного изменения кумулятивной конверсии группы \"B\" к группе \"A\"\n",
    "df_revenue_merge['relConv'] = (df_revenue_merge['convB'] / df_revenue_merge['convA'] - 1).round(2)\n",
    "\n",
    "# Финальная таблица\n",
    "df_revenue_merge.head(3)"
   ]
  },
  {
   "cell_type": "markdown",
   "id": "132dc8d8",
   "metadata": {},
   "source": [
    "Построим график отражающий относительное изменение кумулятивного среднего чека группы \"B\" к группе \"A\":"
   ]
  },
  {
   "cell_type": "code",
   "execution_count": 118,
   "id": "fc0cf768",
   "metadata": {},
   "outputs": [
    {
     "data": {
      "image/png": "[encoded data removed]",
      "text/plain": [
       "<Figure size 720x360 with 1 Axes>"
      ]
     },
     "metadata": {
      "needs_background": "light"
     },
     "output_type": "display_data"
    }
   ],
   "source": [
    "fig_relCheck=plt.figure(figsize=(10,5))\n",
    "ax_relCheck = sns.lineplot(data=df_revenue_merge, x='date', y='relCheck', marker='o', color='darkorange') \n",
    "plt.title('Относительное изменение кумулятивного среднего чека группы B к группе A', pad=14) \n",
    "plt.xlabel('Дата', visible=True)\n",
    "plt.ylabel('Средний чек (отношение)')    \n",
    "ax_relCheck.axhline(0, color='grey')\n",
    "fig_relCheck.show()"
   ]
  },
  {
   "cell_type": "markdown",
   "id": "73659303",
   "metadata": {},
   "source": [
    "В начале исследования средний чек в группе контроля \"А\" был значительно выше, чем в группе сравнения \"В\". C 14 декабря 2020 года отмечено резкое увеличение кумулятивного среднего чека в группе сравнения \"B\", однако до конца исследования он оставался меньше, чем в контрольной группе \"А\". На 29 декабря 2020 года средний чек в контрольной группе \"А\" был выше среднего чека, чем в группе сравнения \"В\" на 0,01."
   ]
  },
  {
   "cell_type": "markdown",
   "id": "5d168378",
   "metadata": {},
   "source": [
    "### Кумулятивная конверсия авторизованных пользователей в пользователей совершивших покупку группы \"B\" к группе \"A\""
   ]
  },
  {
   "cell_type": "markdown",
   "id": "5d5ee0d8",
   "metadata": {},
   "source": [
    "Построим график отражающий относительное изменение кумулятивной конверсии авторизованных пользователей в пользователей совершивших покупку группы \"B\" к группе \"A\"."
   ]
  },
  {
   "cell_type": "code",
   "execution_count": 119,
   "id": "fe40e332",
   "metadata": {},
   "outputs": [
    {
     "data": {
      "image/png": "[encoded data removed]",
      "text/plain": [
       "<Figure size 720x360 with 1 Axes>"
      ]
     },
     "metadata": {
      "needs_background": "light"
     },
     "output_type": "display_data"
    }
   ],
   "source": [
    "fig_relConv=plt.figure(figsize=(10,5))\n",
    "ax_relConv = sns.lineplot(data=df_revenue_merge, x='date', y='relConv', marker='o', color='green')\n",
    "plt.title('Относительное изменение кумулятивной конверсии группы B к группе A', pad=14) \n",
    "plt.xlabel('Дата', visible=True)\n",
    "plt.ylabel('Конверсия (отношение)')     \n",
    "ax_relConv.axhline(0, color='grey')\n",
    "fig_relConv.show()"
   ]
  },
  {
   "cell_type": "markdown",
   "id": "e4c69dee",
   "metadata": {},
   "source": [
    "На графике видно, что конверсия пользователей из группы сравнения \"В\" с самого начала исследования ниже, чем в контрольной группе \"А\". Незначительное увеличение 13 декабря 2020 года скорее связано с притоком пользователей в поисках подарков и не отражает общую картину. С 14 декабря 2020 года отмечено стабильное снижение конверсии для группы сравнения \"В\" относительно контрольной группы \"А\". На 29 декабря 2020 года конверсия авторизованных пользователей в пользователей совершивших покупку в группе сравнения \"B\" на 1,6% ниже, чем в контрольной группе \"А\"."
   ]
  },
  {
   "cell_type": "markdown",
   "id": "985e96eb",
   "metadata": {},
   "source": [
    "### Вывод"
   ]
  },
  {
   "cell_type": "markdown",
   "id": "5f1f82d3",
   "metadata": {},
   "source": [
    "1. Изучение воронки событий показало, что магазин имеет непоследовательную систему оплаты покупки. После авторизации на страницу с товаром заходили 65% пользователей в группе контроля \"А\" и 56% в группе сравнения \"В\". В корзину зашли 30% пользователей из группы контроля \"А\" и 27% из группы сравнения \"В\". Совершили покупку в группе контроля \"А\" 31% пользователей, в группе сравнения \"В\" 28% пользователей. Таким образом, покупку можно совершить после авторизации, минуя корзину. В контрольной группе \"А\" пользователи в среднем совершали на 2 действия больше, чем в группе \"В\".\n",
    "2. Было выявлено повышение активности пользователей перед Рождеством и уменьшение к Новому году, что можно объяснить изменением покупательского спроса в связи с покупкой подарков. \n",
    "3. Кумулятивный средний чек в группе А на протяжении всего исследования был выше, чем в группе В. На 29 декабря 2020 года средний чек в контрольной группе \"А\" был выше среднего чека в группе сравнения \"В\" на 0,01 у.е.\n",
    "4. Конверсия авторизованных пользователей в пользователей совершивших покупку с самого начала исследования в группе В уменьшалась относительно контрольной группы А. На 29 декабря 2020 года конверсия авторизованных пользователей в пользователей совершивших покупку в группе B на 1,6% была ниже, чем в контрольной группе \"А\"."
   ]
  },
  {
   "cell_type": "markdown",
   "id": "604d6428",
   "metadata": {},
   "source": [
    "## Статистический анализ A/B-теста"
   ]
  },
  {
   "cell_type": "markdown",
   "id": "8575587b",
   "metadata": {},
   "source": [
    "Определим существует ли статистическая разница между отношением пользователей совершивших действие к общему числу пользователей контрольной группы \"А\" и группы сравнения \"В\".  \n",
    "\n",
    "Сформулируем статистические гипотезы из положения о том, что нулевая гипотеза всегда формулируется так, чтобы использовать знак равенства:\n",
    "- H0 — отношение пользователей совершивших действие к общему числу пользователей контрольной группы \"А\" и группы сравнения \"В\" статистически значимо не различаются.\n",
    "- H1 — отношение пользователей совершивших действие к общему числу пользователей контрольной группы \"А\" и группы сравнения \"В\" статистически значимо различаются.\n",
    "\n",
    "Проверку гипотез выполним методом двустороннего z-теста. Уровень значимости alpha=0,05."
   ]
  },
  {
   "cell_type": "code",
   "execution_count": 90,
   "id": "99f8cf18",
   "metadata": {},
   "outputs": [],
   "source": [
    "def zfunc(): \n",
    "    data_1 = df_funnel_ab[df_funnel_ab['group'] == 'A']\n",
    "    data_2 = df_funnel_ab[df_funnel_ab['group'] == 'B']\n",
    "    group_data = pd.merge(data_1, data_2, how='left', on='event_name')\n",
    "    alpha = 0.01\n",
    "    for i, event in enumerate(group_data['event_name']):\n",
    "        if event == 'login':\n",
    "            pass\n",
    "        else:\n",
    "            total_x = group_data[group_data['event_name'] == 'login']['n_users_x'].max()\n",
    "            total_y = group_data[group_data['event_name'] == 'login']['n_users_y'].max()\n",
    "            count = [group_data['n_users_x'][i], group_data['n_users_y'][i]]\n",
    "            nobs = [total_x, total_y]\n",
    "            ratio_1 = group_data['n_users_x'][i] / total_x \n",
    "            ratio_2 = group_data['n_users_y'][i] / total_y\n",
    "            stat, p_value = proportions_ztest(count, nobs,  alternative='two-sided')\n",
    "            print('Для события ', group_data['event_name'][i], '\\nколичество пользователей в группе \"A\" составляет ', \n",
    "                  group_data['n_users_x'][i], '({:.1%})'.format(ratio_1),\n",
    "                  '\\nколичество пользователей в группе \"B\" составляет ', \n",
    "                  group_data['n_users_y'][i], '({:.1%})'.format(ratio_2),\n",
    "                  '\\nz_stat: %0.3f, p_value: %0.3f' % (stat, p_value), sep='')\n",
    "            if p_value > alpha:\n",
    "                print('Нулевая гипотеза H0 не отвергнута: группы статистически значимо не различаются\\n')\n",
    "            if p_value < alpha:\n",
    "                print('Нулевая гипотеза H0 отвергнута: группы статистически значимо различаются\\n')   \n",
    "            # Расчет размера эффекта\n",
    "            effect_size = sm.stats.proportion_effectsize(ratio_1, ratio_2)\n",
    "            print('Размер эффекта:', effect_size)\n",
    "            # Расчет мощности z-test\n",
    "            result = zt_ind_solve_power(effect_size=effect_size, nobs1=group_data['n_users_x'][i], alpha=0.05,\n",
    "                                        power=None, ratio=group_data['n_users_y'][i]/group_data['n_users_x'][i], \n",
    "                                        alternative='two-sided')\n",
    "            print('Мощность z-test:', '{:.1%}'.format(result), '\\n')"
   ]
  },
  {
   "cell_type": "code",
   "execution_count": 91,
   "id": "1127e467",
   "metadata": {},
   "outputs": [
    {
     "name": "stdout",
     "output_type": "stream",
     "text": [
      "Для события product_page\n",
      "количество пользователей в группе \"A\" составляет 1360(65.3%)\n",
      "количество пользователей в группе \"B\" составляет 397(56.3%)\n",
      "z_stat: 4.284, p_value: 0.000\n",
      "Нулевая гипотеза H0 отвергнута: группы статистически значимо различаются\n",
      "\n",
      "Размер эффекта: 0.18486788818275013\n",
      "Мощность z-test: 90.0% \n",
      "\n",
      "Для события product_cart\n",
      "количество пользователей в группе \"A\" составляет 631(30.3%)\n",
      "количество пользователей в группе \"B\" составляет 195(27.7%)\n",
      "z_stat: 1.331, p_value: 0.183\n",
      "Нулевая гипотеза H0 не отвергнута: группы статистически значимо не различаются\n",
      "\n",
      "Размер эффекта: 0.05837612178256801\n",
      "Мощность z-test: 11.0% \n",
      "\n",
      "Для события purchase\n",
      "количество пользователей в группе \"A\" составляет 652(31.3%)\n",
      "количество пользователей в группе \"B\" составляет 198(28.1%)\n",
      "z_stat: 1.610, p_value: 0.107\n",
      "Нулевая гипотеза H0 не отвергнута: группы статистически значимо не различаются\n",
      "\n",
      "Размер эффекта: 0.07073171945183665\n",
      "Мощность z-test: 14.1% \n",
      "\n"
     ]
    }
   ],
   "source": [
    "zfunc()"
   ]
  },
  {
   "cell_type": "markdown",
   "id": "46c6ffb1",
   "metadata": {},
   "source": [
    "### Вывод"
   ]
  },
  {
   "cell_type": "markdown",
   "id": "4d38332d",
   "metadata": {},
   "source": [
    "Статистический анализ показал, что статистически значимое различие между группой B и группой А есть только для события перехода на страницу с товаром (событие product_page)."
   ]
  },
  {
   "cell_type": "markdown",
   "id": "297c2196",
   "metadata": {},
   "source": [
    "## Общие выводы и рекомендации"
   ]
  },
  {
   "cell_type": "markdown",
   "id": "08c2087b",
   "metadata": {},
   "source": [
    "### Результаты исследования\n",
    "\n",
    "1. Были исследованы данные с информацией по календарю маркетинговых событий на 2020 год, пользователям, зарегистрировавшимся в интернет-магазине в период с 7 по 21 декабря 2020 года, по событиям новых пользователей в период с 7 декабря 2020 по 4 января 2021 года, по участникам тестов. Был проведен анализ А/В-теста, где группы А - контрольная, группа B - группа сравнения (новая платёжная воронка после внедрения новой рекомендательной системы).\n",
    "2. Оценка корректности проведения теста выявила существенные факты, которые могли исказить результаты A/B-теста и значительно понизить их достоверность:\n",
    " - отсутствие 45% данных за период с 30 декабря 2020 года по 4 января 2021 года;\n",
    " - неравномерное разделение пользователей, которые зарегистрировались с 7 декабря по 21 декабря между группой \"А\" и группой \"B\";\n",
    " - количество пользователей составило 2788 (а не ожидаемых 6000) и 6% из региона EU вместо 15%;\n",
    " - совпадение периода проведения теста с новогодними праздниками в Европе, Северной Америке и СНГ.\n",
    "3. Изучение воронки событий показало, что магазин имеет непоследовательную систему оплаты покупки. После авторизации на страницу с товаром заходили 65% пользователей в группе контроля \"А\" и 56% в группе сравнения \"В\". В корзину зашли 30% пользователей из группы \"А\" и 27% из группы \"В\". Совершили покупку в группе \"А\" 31% пользователей, в группе \"В\" 28% пользователей. Таким образом, покупку можно совершить после авторизации, минуя корзину. \n",
    "4. Статистический анализ показал, что статистически значимое различие между группой B и группой А есть только для события перехода на страницу с товаром. \n",
    "5. Кумулятивный средний чек в группе А на протяжении всего исследования был выше, чем в группе В. На 29 декабря 2020 года средний чек в контрольной группе \"А\" был выше среднего чека в группе сравнения \"В\" на 0,01 у.е.\n",
    "6. Конверсия авторизованных пользователей в пользователей совершивших покупку с самого начала исследования в группе В уменьшалась относительно контрольной группы А. На 29 декабря 2020 года конверсия авторизованных пользователей в пользователей совершивших покупку в группе B на 1,6% была ниже, чем в контрольной группе \"А\".\n",
    "7. Таким образом, с улучшенной рекомендательной системой не только не произошло улучшение, а напротив было выявлено ухудшение основных метрик. Но главный вывод - это то, что тест был проведен недостаточно корректно и его данные имеют высокую степень недостоверности.\n",
    "\n",
    "### Рекомендация\n",
    "\n",
    "\n",
    " - заново провести тест вне периода праздников, особенно новогодних, учтя ошибки сбора данных, которые были описаны в выводах."
   ]
  }
 ],
 "metadata": {
  "ExecuteTimeLog": [
   {
    "duration": 3,
    "start_time": "2022-02-08T08:32:12.834Z"
   },
   {
    "duration": 1909,
    "start_time": "2022-02-08T08:32:12.839Z"
   },
   {
    "duration": -59,
    "start_time": "2022-02-08T08:32:14.810Z"
   },
   {
    "duration": -69,
    "start_time": "2022-02-08T08:32:14.821Z"
   },
   {
    "duration": -73,
    "start_time": "2022-02-08T08:32:14.826Z"
   },
   {
    "duration": -81,
    "start_time": "2022-02-08T08:32:14.835Z"
   },
   {
    "duration": -86,
    "start_time": "2022-02-08T08:32:14.841Z"
   },
   {
    "duration": -87,
    "start_time": "2022-02-08T08:32:14.843Z"
   },
   {
    "duration": -88,
    "start_time": "2022-02-08T08:32:14.845Z"
   },
   {
    "duration": -90,
    "start_time": "2022-02-08T08:32:14.848Z"
   },
   {
    "duration": -93,
    "start_time": "2022-02-08T08:32:14.852Z"
   },
   {
    "duration": -94,
    "start_time": "2022-02-08T08:32:14.854Z"
   },
   {
    "duration": -95,
    "start_time": "2022-02-08T08:32:14.856Z"
   },
   {
    "duration": -96,
    "start_time": "2022-02-08T08:32:14.858Z"
   },
   {
    "duration": -98,
    "start_time": "2022-02-08T08:32:14.861Z"
   },
   {
    "duration": -99,
    "start_time": "2022-02-08T08:32:14.863Z"
   },
   {
    "duration": -102,
    "start_time": "2022-02-08T08:32:14.867Z"
   },
   {
    "duration": -103,
    "start_time": "2022-02-08T08:32:14.869Z"
   },
   {
    "duration": -105,
    "start_time": "2022-02-08T08:32:14.872Z"
   },
   {
    "duration": -106,
    "start_time": "2022-02-08T08:32:14.874Z"
   },
   {
    "duration": -108,
    "start_time": "2022-02-08T08:32:14.877Z"
   },
   {
    "duration": 4,
    "start_time": "2022-02-08T08:32:35.396Z"
   },
   {
    "duration": 3,
    "start_time": "2022-02-08T08:32:41.620Z"
   },
   {
    "duration": 1944,
    "start_time": "2022-02-08T08:32:41.625Z"
   },
   {
    "duration": 987,
    "start_time": "2022-02-08T08:32:43.572Z"
   },
   {
    "duration": 10,
    "start_time": "2022-02-08T08:32:44.561Z"
   },
   {
    "duration": 6,
    "start_time": "2022-02-08T08:32:44.573Z"
   },
   {
    "duration": 7,
    "start_time": "2022-02-08T08:32:44.580Z"
   },
   {
    "duration": 97,
    "start_time": "2022-02-08T08:32:44.589Z"
   },
   {
    "duration": -52,
    "start_time": "2022-02-08T08:32:44.741Z"
   },
   {
    "duration": -54,
    "start_time": "2022-02-08T08:32:44.744Z"
   },
   {
    "duration": -55,
    "start_time": "2022-02-08T08:32:44.746Z"
   },
   {
    "duration": -55,
    "start_time": "2022-02-08T08:32:44.748Z"
   },
   {
    "duration": -57,
    "start_time": "2022-02-08T08:32:44.751Z"
   },
   {
    "duration": -58,
    "start_time": "2022-02-08T08:32:44.754Z"
   },
   {
    "duration": -59,
    "start_time": "2022-02-08T08:32:44.756Z"
   },
   {
    "duration": -67,
    "start_time": "2022-02-08T08:32:44.766Z"
   },
   {
    "duration": -73,
    "start_time": "2022-02-08T08:32:44.773Z"
   },
   {
    "duration": -75,
    "start_time": "2022-02-08T08:32:44.776Z"
   },
   {
    "duration": -76,
    "start_time": "2022-02-08T08:32:44.779Z"
   },
   {
    "duration": -77,
    "start_time": "2022-02-08T08:32:44.781Z"
   },
   {
    "duration": -80,
    "start_time": "2022-02-08T08:32:44.785Z"
   },
   {
    "duration": -81,
    "start_time": "2022-02-08T08:32:44.788Z"
   },
   {
    "duration": 3,
    "start_time": "2022-02-08T08:33:04.534Z"
   },
   {
    "duration": 1552,
    "start_time": "2022-02-08T08:33:04.539Z"
   },
   {
    "duration": 815,
    "start_time": "2022-02-08T08:33:06.093Z"
   },
   {
    "duration": 11,
    "start_time": "2022-02-08T08:33:06.910Z"
   },
   {
    "duration": 8,
    "start_time": "2022-02-08T08:33:06.924Z"
   },
   {
    "duration": 8,
    "start_time": "2022-02-08T08:33:06.934Z"
   },
   {
    "duration": 8,
    "start_time": "2022-02-08T08:33:06.944Z"
   },
   {
    "duration": 978,
    "start_time": "2022-02-08T08:33:06.954Z"
   },
   {
    "duration": 16,
    "start_time": "2022-02-08T08:33:07.934Z"
   },
   {
    "duration": 22,
    "start_time": "2022-02-08T08:33:07.952Z"
   },
   {
    "duration": 83,
    "start_time": "2022-02-08T08:33:07.976Z"
   },
   {
    "duration": 6,
    "start_time": "2022-02-08T08:33:08.061Z"
   },
   {
    "duration": 9,
    "start_time": "2022-02-08T08:33:08.070Z"
   },
   {
    "duration": 64,
    "start_time": "2022-02-08T08:33:08.081Z"
   },
   {
    "duration": 243,
    "start_time": "2022-02-08T08:33:08.147Z"
   },
   {
    "duration": 27,
    "start_time": "2022-02-08T08:33:08.392Z"
   },
   {
    "duration": 35,
    "start_time": "2022-02-08T08:33:08.421Z"
   },
   {
    "duration": 15,
    "start_time": "2022-02-08T08:33:08.458Z"
   },
   {
    "duration": 70,
    "start_time": "2022-02-08T08:33:08.476Z"
   },
   {
    "duration": 5,
    "start_time": "2022-02-08T08:33:08.548Z"
   },
   {
    "duration": 7,
    "start_time": "2022-02-08T08:33:08.556Z"
   },
   {
    "duration": 376,
    "start_time": "2022-02-08T08:47:54.095Z"
   },
   {
    "duration": 439,
    "start_time": "2022-02-08T08:49:40.887Z"
   },
   {
    "duration": 4,
    "start_time": "2022-02-08T08:50:26.593Z"
   },
   {
    "duration": 72,
    "start_time": "2022-02-08T08:50:47.858Z"
   },
   {
    "duration": 4,
    "start_time": "2022-02-08T08:53:45.653Z"
   },
   {
    "duration": 1796,
    "start_time": "2022-02-08T08:53:45.661Z"
   },
   {
    "duration": 886,
    "start_time": "2022-02-08T08:53:47.459Z"
   },
   {
    "duration": 9,
    "start_time": "2022-02-08T08:53:48.347Z"
   },
   {
    "duration": 5,
    "start_time": "2022-02-08T08:53:48.358Z"
   },
   {
    "duration": 372,
    "start_time": "2022-02-08T08:53:48.365Z"
   },
   {
    "duration": -42,
    "start_time": "2022-02-08T08:53:48.781Z"
   },
   {
    "duration": -49,
    "start_time": "2022-02-08T08:53:48.789Z"
   },
   {
    "duration": -52,
    "start_time": "2022-02-08T08:53:48.793Z"
   },
   {
    "duration": -54,
    "start_time": "2022-02-08T08:53:48.797Z"
   },
   {
    "duration": -57,
    "start_time": "2022-02-08T08:53:48.801Z"
   },
   {
    "duration": -60,
    "start_time": "2022-02-08T08:53:48.805Z"
   },
   {
    "duration": -61,
    "start_time": "2022-02-08T08:53:48.807Z"
   },
   {
    "duration": -64,
    "start_time": "2022-02-08T08:53:48.810Z"
   },
   {
    "duration": -66,
    "start_time": "2022-02-08T08:53:48.814Z"
   },
   {
    "duration": -69,
    "start_time": "2022-02-08T08:53:48.817Z"
   },
   {
    "duration": -76,
    "start_time": "2022-02-08T08:53:48.825Z"
   },
   {
    "duration": -78,
    "start_time": "2022-02-08T08:53:48.828Z"
   },
   {
    "duration": -80,
    "start_time": "2022-02-08T08:53:48.831Z"
   },
   {
    "duration": -81,
    "start_time": "2022-02-08T08:53:48.833Z"
   },
   {
    "duration": -82,
    "start_time": "2022-02-08T08:53:48.835Z"
   },
   {
    "duration": -84,
    "start_time": "2022-02-08T08:53:48.838Z"
   },
   {
    "duration": -86,
    "start_time": "2022-02-08T08:53:48.841Z"
   },
   {
    "duration": 2,
    "start_time": "2022-02-08T08:55:07.724Z"
   },
   {
    "duration": 1544,
    "start_time": "2022-02-08T08:55:07.729Z"
   },
   {
    "duration": 824,
    "start_time": "2022-02-08T08:55:09.276Z"
   },
   {
    "duration": 13,
    "start_time": "2022-02-08T08:55:10.103Z"
   },
   {
    "duration": 14,
    "start_time": "2022-02-08T08:55:10.119Z"
   },
   {
    "duration": 12,
    "start_time": "2022-02-08T08:55:10.136Z"
   },
   {
    "duration": 11,
    "start_time": "2022-02-08T08:55:10.150Z"
   },
   {
    "duration": 12,
    "start_time": "2022-02-08T08:55:10.163Z"
   },
   {
    "duration": 9,
    "start_time": "2022-02-08T08:55:10.178Z"
   },
   {
    "duration": 1244,
    "start_time": "2022-02-08T08:55:10.190Z"
   },
   {
    "duration": 16,
    "start_time": "2022-02-08T08:55:11.436Z"
   },
   {
    "duration": 18,
    "start_time": "2022-02-08T08:55:11.455Z"
   },
   {
    "duration": 89,
    "start_time": "2022-02-08T08:55:11.474Z"
   },
   {
    "duration": 5,
    "start_time": "2022-02-08T08:55:11.565Z"
   },
   {
    "duration": 19,
    "start_time": "2022-02-08T08:55:11.572Z"
   },
   {
    "duration": 53,
    "start_time": "2022-02-08T08:55:11.593Z"
   },
   {
    "duration": 261,
    "start_time": "2022-02-08T08:55:11.648Z"
   },
   {
    "duration": 20,
    "start_time": "2022-02-08T08:55:11.919Z"
   },
   {
    "duration": 39,
    "start_time": "2022-02-08T08:55:11.941Z"
   },
   {
    "duration": 11,
    "start_time": "2022-02-08T08:55:11.982Z"
   },
   {
    "duration": 29,
    "start_time": "2022-02-08T08:55:12.019Z"
   },
   {
    "duration": 5,
    "start_time": "2022-02-08T08:55:12.049Z"
   },
   {
    "duration": 6,
    "start_time": "2022-02-08T08:55:12.056Z"
   },
   {
    "duration": 2,
    "start_time": "2022-02-08T09:04:42.901Z"
   },
   {
    "duration": 37,
    "start_time": "2022-02-08T09:04:52.043Z"
   },
   {
    "duration": 3,
    "start_time": "2022-02-08T09:05:10.453Z"
   },
   {
    "duration": 35,
    "start_time": "2022-02-08T09:05:14.642Z"
   },
   {
    "duration": 3,
    "start_time": "2022-02-08T09:06:10.347Z"
   },
   {
    "duration": 34,
    "start_time": "2022-02-08T09:06:15.759Z"
   },
   {
    "duration": 3,
    "start_time": "2022-02-08T09:08:24.188Z"
   },
   {
    "duration": 75,
    "start_time": "2022-02-08T09:08:30.212Z"
   },
   {
    "duration": 33,
    "start_time": "2022-02-08T09:08:38.117Z"
   },
   {
    "duration": 420,
    "start_time": "2022-02-08T09:20:26.336Z"
   },
   {
    "duration": 666,
    "start_time": "2022-02-08T09:21:41.409Z"
   },
   {
    "duration": 4,
    "start_time": "2022-02-08T09:22:10.306Z"
   },
   {
    "duration": 256,
    "start_time": "2022-02-08T09:29:54.804Z"
   },
   {
    "duration": 3,
    "start_time": "2022-02-08T09:30:48.455Z"
   },
   {
    "duration": 3,
    "start_time": "2022-02-08T09:30:56.554Z"
   },
   {
    "duration": 1479,
    "start_time": "2022-02-08T09:30:56.559Z"
   },
   {
    "duration": 1046,
    "start_time": "2022-02-08T09:30:58.041Z"
   },
   {
    "duration": 10,
    "start_time": "2022-02-08T09:30:59.091Z"
   },
   {
    "duration": 6,
    "start_time": "2022-02-08T09:30:59.102Z"
   },
   {
    "duration": 12,
    "start_time": "2022-02-08T09:30:59.111Z"
   },
   {
    "duration": 8,
    "start_time": "2022-02-08T09:30:59.125Z"
   },
   {
    "duration": 6,
    "start_time": "2022-02-08T09:30:59.134Z"
   },
   {
    "duration": 6,
    "start_time": "2022-02-08T09:30:59.141Z"
   },
   {
    "duration": 1029,
    "start_time": "2022-02-08T09:30:59.149Z"
   },
   {
    "duration": 17,
    "start_time": "2022-02-08T09:31:00.180Z"
   },
   {
    "duration": 33,
    "start_time": "2022-02-08T09:31:00.198Z"
   },
   {
    "duration": 94,
    "start_time": "2022-02-08T09:31:00.233Z"
   },
   {
    "duration": 6,
    "start_time": "2022-02-08T09:31:00.328Z"
   },
   {
    "duration": 47,
    "start_time": "2022-02-08T09:31:00.336Z"
   },
   {
    "duration": 62,
    "start_time": "2022-02-08T09:31:00.384Z"
   },
   {
    "duration": 276,
    "start_time": "2022-02-08T09:31:00.448Z"
   },
   {
    "duration": 20,
    "start_time": "2022-02-08T09:31:00.727Z"
   },
   {
    "duration": 37,
    "start_time": "2022-02-08T09:31:00.749Z"
   },
   {
    "duration": 37,
    "start_time": "2022-02-08T09:31:00.787Z"
   },
   {
    "duration": 29,
    "start_time": "2022-02-08T09:31:00.825Z"
   },
   {
    "duration": 4,
    "start_time": "2022-02-08T09:31:00.856Z"
   },
   {
    "duration": 15,
    "start_time": "2022-02-08T09:31:00.861Z"
   },
   {
    "duration": 91,
    "start_time": "2022-02-08T11:36:50.400Z"
   },
   {
    "duration": 27,
    "start_time": "2022-02-08T11:37:00.357Z"
   },
   {
    "duration": 167,
    "start_time": "2022-02-08T11:43:03.066Z"
   },
   {
    "duration": 10,
    "start_time": "2022-02-08T11:46:00.588Z"
   },
   {
    "duration": 10,
    "start_time": "2022-02-08T13:08:57.930Z"
   },
   {
    "duration": 5,
    "start_time": "2022-02-08T13:09:28.697Z"
   },
   {
    "duration": 10,
    "start_time": "2022-02-08T13:09:46.524Z"
   },
   {
    "duration": 28,
    "start_time": "2022-02-08T13:09:51.609Z"
   },
   {
    "duration": 24,
    "start_time": "2022-02-08T13:10:11.146Z"
   },
   {
    "duration": 3,
    "start_time": "2022-02-10T09:52:19.758Z"
   },
   {
    "duration": 1568,
    "start_time": "2022-02-10T09:52:19.763Z"
   },
   {
    "duration": 960,
    "start_time": "2022-02-10T09:52:21.333Z"
   },
   {
    "duration": 10,
    "start_time": "2022-02-10T09:52:22.295Z"
   },
   {
    "duration": 12,
    "start_time": "2022-02-10T09:52:22.307Z"
   },
   {
    "duration": 8,
    "start_time": "2022-02-10T09:52:22.320Z"
   },
   {
    "duration": 10,
    "start_time": "2022-02-10T09:52:22.330Z"
   },
   {
    "duration": 1155,
    "start_time": "2022-02-10T09:52:22.342Z"
   },
   {
    "duration": 16,
    "start_time": "2022-02-10T09:52:23.500Z"
   },
   {
    "duration": 31,
    "start_time": "2022-02-10T09:52:23.519Z"
   },
   {
    "duration": 86,
    "start_time": "2022-02-10T09:52:23.552Z"
   },
   {
    "duration": 6,
    "start_time": "2022-02-10T09:52:23.640Z"
   },
   {
    "duration": 34,
    "start_time": "2022-02-10T09:52:23.648Z"
   },
   {
    "duration": 44,
    "start_time": "2022-02-10T09:52:23.684Z"
   },
   {
    "duration": 52,
    "start_time": "2022-02-10T09:52:23.731Z"
   },
   {
    "duration": 291,
    "start_time": "2022-02-10T09:52:23.785Z"
   },
   {
    "duration": 49,
    "start_time": "2022-02-10T09:52:24.078Z"
   },
   {
    "duration": 70,
    "start_time": "2022-02-10T09:52:24.129Z"
   },
   {
    "duration": 178,
    "start_time": "2022-02-10T09:52:24.201Z"
   },
   {
    "duration": 13,
    "start_time": "2022-02-10T09:52:24.381Z"
   },
   {
    "duration": 44,
    "start_time": "2022-02-10T09:52:24.396Z"
   },
   {
    "duration": 4,
    "start_time": "2022-02-10T09:52:24.442Z"
   },
   {
    "duration": 23,
    "start_time": "2022-02-10T09:52:24.448Z"
   },
   {
    "duration": 15,
    "start_time": "2022-02-10T09:52:24.475Z"
   },
   {
    "duration": 432,
    "start_time": "2022-02-10T09:52:24.492Z"
   },
   {
    "duration": -55,
    "start_time": "2022-02-10T09:52:24.982Z"
   },
   {
    "duration": -59,
    "start_time": "2022-02-10T09:52:24.987Z"
   },
   {
    "duration": -61,
    "start_time": "2022-02-10T09:52:24.991Z"
   },
   {
    "duration": -64,
    "start_time": "2022-02-10T09:52:24.995Z"
   },
   {
    "duration": -66,
    "start_time": "2022-02-10T09:52:24.999Z"
   },
   {
    "duration": -69,
    "start_time": "2022-02-10T09:52:25.003Z"
   },
   {
    "duration": -72,
    "start_time": "2022-02-10T09:52:25.007Z"
   },
   {
    "duration": -74,
    "start_time": "2022-02-10T09:52:25.011Z"
   },
   {
    "duration": -77,
    "start_time": "2022-02-10T09:52:25.015Z"
   },
   {
    "duration": -79,
    "start_time": "2022-02-10T09:52:25.019Z"
   },
   {
    "duration": -82,
    "start_time": "2022-02-10T09:52:25.023Z"
   },
   {
    "duration": -85,
    "start_time": "2022-02-10T09:52:25.027Z"
   },
   {
    "duration": -87,
    "start_time": "2022-02-10T09:52:25.031Z"
   },
   {
    "duration": -89,
    "start_time": "2022-02-10T09:52:25.034Z"
   },
   {
    "duration": -91,
    "start_time": "2022-02-10T09:52:25.038Z"
   },
   {
    "duration": -92,
    "start_time": "2022-02-10T09:52:25.041Z"
   },
   {
    "duration": -95,
    "start_time": "2022-02-10T09:52:25.045Z"
   },
   {
    "duration": -97,
    "start_time": "2022-02-10T09:52:25.048Z"
   },
   {
    "duration": -99,
    "start_time": "2022-02-10T09:52:25.052Z"
   },
   {
    "duration": -101,
    "start_time": "2022-02-10T09:52:25.056Z"
   },
   {
    "duration": -108,
    "start_time": "2022-02-10T09:52:25.064Z"
   },
   {
    "duration": -110,
    "start_time": "2022-02-10T09:52:25.068Z"
   },
   {
    "duration": -113,
    "start_time": "2022-02-10T09:52:25.072Z"
   },
   {
    "duration": -117,
    "start_time": "2022-02-10T09:52:25.078Z"
   },
   {
    "duration": -120,
    "start_time": "2022-02-10T09:52:25.082Z"
   },
   {
    "duration": 14,
    "start_time": "2022-02-10T09:56:10.913Z"
   },
   {
    "duration": 3,
    "start_time": "2022-02-10T09:56:16.894Z"
   },
   {
    "duration": 1641,
    "start_time": "2022-02-10T09:56:16.899Z"
   },
   {
    "duration": 1223,
    "start_time": "2022-02-10T09:56:18.542Z"
   },
   {
    "duration": 12,
    "start_time": "2022-02-10T09:56:19.768Z"
   },
   {
    "duration": 9,
    "start_time": "2022-02-10T09:56:19.782Z"
   },
   {
    "duration": 5,
    "start_time": "2022-02-10T09:56:19.793Z"
   },
   {
    "duration": 6,
    "start_time": "2022-02-10T09:56:19.801Z"
   },
   {
    "duration": 1133,
    "start_time": "2022-02-10T09:56:19.810Z"
   },
   {
    "duration": 18,
    "start_time": "2022-02-10T09:56:20.944Z"
   },
   {
    "duration": 25,
    "start_time": "2022-02-10T09:56:20.964Z"
   },
   {
    "duration": 84,
    "start_time": "2022-02-10T09:56:20.991Z"
   },
   {
    "duration": 6,
    "start_time": "2022-02-10T09:56:21.077Z"
   },
   {
    "duration": 18,
    "start_time": "2022-02-10T09:56:21.085Z"
   },
   {
    "duration": 36,
    "start_time": "2022-02-10T09:56:21.105Z"
   },
   {
    "duration": 47,
    "start_time": "2022-02-10T09:56:21.142Z"
   },
   {
    "duration": 272,
    "start_time": "2022-02-10T09:56:21.191Z"
   },
   {
    "duration": 54,
    "start_time": "2022-02-10T09:56:21.465Z"
   },
   {
    "duration": 61,
    "start_time": "2022-02-10T09:56:21.522Z"
   },
   {
    "duration": 180,
    "start_time": "2022-02-10T09:56:21.588Z"
   },
   {
    "duration": 14,
    "start_time": "2022-02-10T09:56:21.771Z"
   },
   {
    "duration": 46,
    "start_time": "2022-02-10T09:56:21.787Z"
   },
   {
    "duration": 5,
    "start_time": "2022-02-10T09:56:21.835Z"
   },
   {
    "duration": 8,
    "start_time": "2022-02-10T09:56:21.842Z"
   },
   {
    "duration": 11,
    "start_time": "2022-02-10T09:56:21.852Z"
   },
   {
    "duration": 17,
    "start_time": "2022-02-10T09:56:21.865Z"
   },
   {
    "duration": 42,
    "start_time": "2022-02-10T09:56:21.883Z"
   },
   {
    "duration": 28,
    "start_time": "2022-02-10T09:56:21.927Z"
   },
   {
    "duration": 9,
    "start_time": "2022-02-10T09:56:21.957Z"
   },
   {
    "duration": 59,
    "start_time": "2022-02-10T09:56:21.968Z"
   },
   {
    "duration": 43,
    "start_time": "2022-02-10T09:56:22.029Z"
   },
   {
    "duration": 4,
    "start_time": "2022-02-10T09:56:22.074Z"
   },
   {
    "duration": 665,
    "start_time": "2022-02-10T09:56:22.080Z"
   },
   {
    "duration": -135,
    "start_time": "2022-02-10T09:56:22.882Z"
   },
   {
    "duration": -140,
    "start_time": "2022-02-10T09:56:22.888Z"
   },
   {
    "duration": -142,
    "start_time": "2022-02-10T09:56:22.891Z"
   },
   {
    "duration": -146,
    "start_time": "2022-02-10T09:56:22.896Z"
   },
   {
    "duration": -149,
    "start_time": "2022-02-10T09:56:22.900Z"
   },
   {
    "duration": -152,
    "start_time": "2022-02-10T09:56:22.904Z"
   },
   {
    "duration": -155,
    "start_time": "2022-02-10T09:56:22.908Z"
   },
   {
    "duration": -159,
    "start_time": "2022-02-10T09:56:22.912Z"
   },
   {
    "duration": -162,
    "start_time": "2022-02-10T09:56:22.916Z"
   },
   {
    "duration": -172,
    "start_time": "2022-02-10T09:56:22.927Z"
   },
   {
    "duration": -180,
    "start_time": "2022-02-10T09:56:22.936Z"
   },
   {
    "duration": -183,
    "start_time": "2022-02-10T09:56:22.940Z"
   },
   {
    "duration": -185,
    "start_time": "2022-02-10T09:56:22.943Z"
   },
   {
    "duration": -190,
    "start_time": "2022-02-10T09:56:22.948Z"
   },
   {
    "duration": -198,
    "start_time": "2022-02-10T09:56:22.957Z"
   },
   {
    "duration": -201,
    "start_time": "2022-02-10T09:56:22.961Z"
   },
   {
    "duration": -209,
    "start_time": "2022-02-10T09:56:22.970Z"
   },
   {
    "duration": -212,
    "start_time": "2022-02-10T09:56:22.974Z"
   },
   {
    "duration": 271,
    "start_time": "2022-02-10T10:55:26.941Z"
   },
   {
    "duration": 278,
    "start_time": "2022-02-10T10:56:01.838Z"
   },
   {
    "duration": 92,
    "start_time": "2022-02-10T10:56:33.422Z"
   },
   {
    "duration": 7,
    "start_time": "2022-02-10T10:56:38.541Z"
   },
   {
    "duration": 277,
    "start_time": "2022-02-10T10:58:33.406Z"
   },
   {
    "duration": 275,
    "start_time": "2022-02-10T11:00:49.219Z"
   },
   {
    "duration": 282,
    "start_time": "2022-02-10T11:00:53.697Z"
   },
   {
    "duration": 285,
    "start_time": "2022-02-10T11:01:11.873Z"
   },
   {
    "duration": 282,
    "start_time": "2022-02-10T11:01:34.323Z"
   },
   {
    "duration": 275,
    "start_time": "2022-02-10T11:03:34.914Z"
   },
   {
    "duration": 292,
    "start_time": "2022-02-10T11:03:57.682Z"
   },
   {
    "duration": 6,
    "start_time": "2022-02-10T11:04:04.772Z"
   },
   {
    "duration": 3,
    "start_time": "2022-02-10T11:04:16.627Z"
   },
   {
    "duration": 3,
    "start_time": "2022-02-10T11:04:50.788Z"
   },
   {
    "duration": 288,
    "start_time": "2022-02-10T11:04:55.187Z"
   },
   {
    "duration": 4,
    "start_time": "2022-02-10T11:04:59.939Z"
   },
   {
    "duration": 3,
    "start_time": "2022-02-10T11:05:08.077Z"
   },
   {
    "duration": 1836,
    "start_time": "2022-02-10T11:05:08.082Z"
   },
   {
    "duration": 829,
    "start_time": "2022-02-10T11:05:09.920Z"
   },
   {
    "duration": 13,
    "start_time": "2022-02-10T11:05:10.752Z"
   },
   {
    "duration": 8,
    "start_time": "2022-02-10T11:05:10.766Z"
   },
   {
    "duration": 7,
    "start_time": "2022-02-10T11:05:10.776Z"
   },
   {
    "duration": 8,
    "start_time": "2022-02-10T11:05:10.786Z"
   },
   {
    "duration": 1013,
    "start_time": "2022-02-10T11:05:10.796Z"
   },
   {
    "duration": 16,
    "start_time": "2022-02-10T11:05:11.811Z"
   },
   {
    "duration": 17,
    "start_time": "2022-02-10T11:05:11.828Z"
   },
   {
    "duration": 93,
    "start_time": "2022-02-10T11:05:11.847Z"
   },
   {
    "duration": 4,
    "start_time": "2022-02-10T11:05:11.942Z"
   },
   {
    "duration": 5,
    "start_time": "2022-02-10T11:05:11.948Z"
   },
   {
    "duration": 91,
    "start_time": "2022-02-10T11:05:11.954Z"
   },
   {
    "duration": -73,
    "start_time": "2022-02-10T11:05:12.121Z"
   },
   {
    "duration": -76,
    "start_time": "2022-02-10T11:05:12.125Z"
   },
   {
    "duration": -79,
    "start_time": "2022-02-10T11:05:12.129Z"
   },
   {
    "duration": -83,
    "start_time": "2022-02-10T11:05:12.134Z"
   },
   {
    "duration": -85,
    "start_time": "2022-02-10T11:05:12.137Z"
   },
   {
    "duration": -88,
    "start_time": "2022-02-10T11:05:12.141Z"
   },
   {
    "duration": -90,
    "start_time": "2022-02-10T11:05:12.144Z"
   },
   {
    "duration": -93,
    "start_time": "2022-02-10T11:05:12.148Z"
   },
   {
    "duration": -95,
    "start_time": "2022-02-10T11:05:12.151Z"
   },
   {
    "duration": -98,
    "start_time": "2022-02-10T11:05:12.155Z"
   },
   {
    "duration": -101,
    "start_time": "2022-02-10T11:05:12.159Z"
   },
   {
    "duration": -103,
    "start_time": "2022-02-10T11:05:12.163Z"
   },
   {
    "duration": -107,
    "start_time": "2022-02-10T11:05:12.167Z"
   },
   {
    "duration": -110,
    "start_time": "2022-02-10T11:05:12.171Z"
   },
   {
    "duration": -112,
    "start_time": "2022-02-10T11:05:12.175Z"
   },
   {
    "duration": -115,
    "start_time": "2022-02-10T11:05:12.179Z"
   },
   {
    "duration": -117,
    "start_time": "2022-02-10T11:05:12.182Z"
   },
   {
    "duration": -120,
    "start_time": "2022-02-10T11:05:12.186Z"
   },
   {
    "duration": -123,
    "start_time": "2022-02-10T11:05:12.190Z"
   },
   {
    "duration": -126,
    "start_time": "2022-02-10T11:05:12.194Z"
   },
   {
    "duration": -129,
    "start_time": "2022-02-10T11:05:12.198Z"
   },
   {
    "duration": -132,
    "start_time": "2022-02-10T11:05:12.202Z"
   },
   {
    "duration": -134,
    "start_time": "2022-02-10T11:05:12.205Z"
   },
   {
    "duration": -156,
    "start_time": "2022-02-10T11:05:12.228Z"
   },
   {
    "duration": -160,
    "start_time": "2022-02-10T11:05:12.233Z"
   },
   {
    "duration": -164,
    "start_time": "2022-02-10T11:05:12.238Z"
   },
   {
    "duration": -168,
    "start_time": "2022-02-10T11:05:12.244Z"
   },
   {
    "duration": -187,
    "start_time": "2022-02-10T11:05:12.264Z"
   },
   {
    "duration": -189,
    "start_time": "2022-02-10T11:05:12.267Z"
   },
   {
    "duration": -199,
    "start_time": "2022-02-10T11:05:12.278Z"
   },
   {
    "duration": -207,
    "start_time": "2022-02-10T11:05:12.287Z"
   },
   {
    "duration": -210,
    "start_time": "2022-02-10T11:05:12.291Z"
   },
   {
    "duration": -213,
    "start_time": "2022-02-10T11:05:12.295Z"
   },
   {
    "duration": -215,
    "start_time": "2022-02-10T11:05:12.298Z"
   },
   {
    "duration": -220,
    "start_time": "2022-02-10T11:05:12.304Z"
   },
   {
    "duration": -224,
    "start_time": "2022-02-10T11:05:12.309Z"
   },
   {
    "duration": -194,
    "start_time": "2022-02-10T11:05:12.312Z"
   },
   {
    "duration": -197,
    "start_time": "2022-02-10T11:05:12.316Z"
   },
   {
    "duration": -199,
    "start_time": "2022-02-10T11:05:12.319Z"
   },
   {
    "duration": 7,
    "start_time": "2022-02-10T11:08:31.885Z"
   },
   {
    "duration": 6,
    "start_time": "2022-02-10T11:08:40.990Z"
   },
   {
    "duration": 3,
    "start_time": "2022-02-10T11:10:43.834Z"
   },
   {
    "duration": 1585,
    "start_time": "2022-02-10T11:10:43.839Z"
   },
   {
    "duration": 944,
    "start_time": "2022-02-10T11:10:45.427Z"
   },
   {
    "duration": 10,
    "start_time": "2022-02-10T11:10:46.373Z"
   },
   {
    "duration": 7,
    "start_time": "2022-02-10T11:10:46.385Z"
   },
   {
    "duration": 7,
    "start_time": "2022-02-10T11:10:46.394Z"
   },
   {
    "duration": 5,
    "start_time": "2022-02-10T11:10:46.404Z"
   },
   {
    "duration": 1247,
    "start_time": "2022-02-10T11:10:46.410Z"
   },
   {
    "duration": 16,
    "start_time": "2022-02-10T11:10:47.658Z"
   },
   {
    "duration": 19,
    "start_time": "2022-02-10T11:10:47.676Z"
   },
   {
    "duration": 78,
    "start_time": "2022-02-10T11:10:47.696Z"
   },
   {
    "duration": 7,
    "start_time": "2022-02-10T11:10:47.775Z"
   },
   {
    "duration": 86,
    "start_time": "2022-02-10T11:10:47.784Z"
   },
   {
    "duration": -104,
    "start_time": "2022-02-10T11:10:47.977Z"
   },
   {
    "duration": -109,
    "start_time": "2022-02-10T11:10:47.983Z"
   },
   {
    "duration": -114,
    "start_time": "2022-02-10T11:10:47.989Z"
   },
   {
    "duration": -117,
    "start_time": "2022-02-10T11:10:47.993Z"
   },
   {
    "duration": -120,
    "start_time": "2022-02-10T11:10:47.997Z"
   },
   {
    "duration": -123,
    "start_time": "2022-02-10T11:10:48.001Z"
   },
   {
    "duration": -127,
    "start_time": "2022-02-10T11:10:48.006Z"
   },
   {
    "duration": -132,
    "start_time": "2022-02-10T11:10:48.012Z"
   },
   {
    "duration": -134,
    "start_time": "2022-02-10T11:10:48.015Z"
   },
   {
    "duration": -137,
    "start_time": "2022-02-10T11:10:48.019Z"
   },
   {
    "duration": -140,
    "start_time": "2022-02-10T11:10:48.023Z"
   },
   {
    "duration": -143,
    "start_time": "2022-02-10T11:10:48.026Z"
   },
   {
    "duration": -146,
    "start_time": "2022-02-10T11:10:48.030Z"
   },
   {
    "duration": -148,
    "start_time": "2022-02-10T11:10:48.033Z"
   },
   {
    "duration": -151,
    "start_time": "2022-02-10T11:10:48.037Z"
   },
   {
    "duration": -153,
    "start_time": "2022-02-10T11:10:48.040Z"
   },
   {
    "duration": -156,
    "start_time": "2022-02-10T11:10:48.044Z"
   },
   {
    "duration": -159,
    "start_time": "2022-02-10T11:10:48.047Z"
   },
   {
    "duration": -162,
    "start_time": "2022-02-10T11:10:48.051Z"
   },
   {
    "duration": -165,
    "start_time": "2022-02-10T11:10:48.055Z"
   },
   {
    "duration": -167,
    "start_time": "2022-02-10T11:10:48.058Z"
   },
   {
    "duration": -169,
    "start_time": "2022-02-10T11:10:48.061Z"
   },
   {
    "duration": -180,
    "start_time": "2022-02-10T11:10:48.072Z"
   },
   {
    "duration": -183,
    "start_time": "2022-02-10T11:10:48.076Z"
   },
   {
    "duration": -186,
    "start_time": "2022-02-10T11:10:48.080Z"
   },
   {
    "duration": -188,
    "start_time": "2022-02-10T11:10:48.083Z"
   },
   {
    "duration": -192,
    "start_time": "2022-02-10T11:10:48.088Z"
   },
   {
    "duration": -194,
    "start_time": "2022-02-10T11:10:48.091Z"
   },
   {
    "duration": -198,
    "start_time": "2022-02-10T11:10:48.095Z"
   },
   {
    "duration": -200,
    "start_time": "2022-02-10T11:10:48.098Z"
   },
   {
    "duration": -204,
    "start_time": "2022-02-10T11:10:48.103Z"
   },
   {
    "duration": -207,
    "start_time": "2022-02-10T11:10:48.107Z"
   },
   {
    "duration": -209,
    "start_time": "2022-02-10T11:10:48.110Z"
   },
   {
    "duration": -212,
    "start_time": "2022-02-10T11:10:48.113Z"
   },
   {
    "duration": -215,
    "start_time": "2022-02-10T11:10:48.117Z"
   },
   {
    "duration": -218,
    "start_time": "2022-02-10T11:10:48.121Z"
   },
   {
    "duration": -220,
    "start_time": "2022-02-10T11:10:48.124Z"
   },
   {
    "duration": -222,
    "start_time": "2022-02-10T11:10:48.127Z"
   },
   {
    "duration": -226,
    "start_time": "2022-02-10T11:10:48.131Z"
   },
   {
    "duration": -228,
    "start_time": "2022-02-10T11:10:48.134Z"
   },
   {
    "duration": 99,
    "start_time": "2022-02-10T11:11:29.928Z"
   },
   {
    "duration": 6,
    "start_time": "2022-02-10T11:11:44.290Z"
   },
   {
    "duration": 6,
    "start_time": "2022-02-10T11:11:57.589Z"
   },
   {
    "duration": 25,
    "start_time": "2022-02-10T11:12:06.965Z"
   },
   {
    "duration": 45,
    "start_time": "2022-02-10T11:12:30.690Z"
   },
   {
    "duration": 252,
    "start_time": "2022-02-10T11:12:34.073Z"
   },
   {
    "duration": 84,
    "start_time": "2022-02-10T11:12:57.882Z"
   },
   {
    "duration": 286,
    "start_time": "2022-02-10T11:13:11.385Z"
   },
   {
    "duration": 60,
    "start_time": "2022-02-10T11:14:19.442Z"
   },
   {
    "duration": 60,
    "start_time": "2022-02-10T11:14:26.762Z"
   },
   {
    "duration": 170,
    "start_time": "2022-02-10T11:14:36.606Z"
   },
   {
    "duration": 39,
    "start_time": "2022-02-10T11:18:51.326Z"
   },
   {
    "duration": 5,
    "start_time": "2022-02-10T11:18:55.062Z"
   },
   {
    "duration": 5,
    "start_time": "2022-02-10T11:18:57.118Z"
   },
   {
    "duration": 9,
    "start_time": "2022-02-10T11:19:00.419Z"
   },
   {
    "duration": 15,
    "start_time": "2022-02-10T11:21:13.465Z"
   },
   {
    "duration": 8,
    "start_time": "2022-02-10T11:21:17.017Z"
   },
   {
    "duration": 35,
    "start_time": "2022-02-10T11:21:19.426Z"
   },
   {
    "duration": 9,
    "start_time": "2022-02-10T11:21:42.727Z"
   },
   {
    "duration": 10,
    "start_time": "2022-02-10T11:22:00.143Z"
   },
   {
    "duration": 32,
    "start_time": "2022-02-10T11:26:40.729Z"
   },
   {
    "duration": 9,
    "start_time": "2022-02-10T11:26:52.100Z"
   },
   {
    "duration": 30,
    "start_time": "2022-02-10T11:29:55.781Z"
   },
   {
    "duration": 30,
    "start_time": "2022-02-10T11:30:32.940Z"
   },
   {
    "duration": 44,
    "start_time": "2022-02-10T11:30:59.924Z"
   },
   {
    "duration": 5,
    "start_time": "2022-02-10T11:32:36.864Z"
   },
   {
    "duration": 626,
    "start_time": "2022-02-10T11:32:37.404Z"
   },
   {
    "duration": 10310,
    "start_time": "2022-02-10T11:34:22.011Z"
   },
   {
    "duration": 2176,
    "start_time": "2022-02-10T11:34:32.323Z"
   },
   {
    "duration": 1016,
    "start_time": "2022-02-10T11:34:34.504Z"
   },
   {
    "duration": 10,
    "start_time": "2022-02-10T11:34:35.521Z"
   },
   {
    "duration": 22,
    "start_time": "2022-02-10T11:34:35.532Z"
   },
   {
    "duration": 7,
    "start_time": "2022-02-10T11:34:35.556Z"
   },
   {
    "duration": 12,
    "start_time": "2022-02-10T11:34:35.566Z"
   },
   {
    "duration": 1287,
    "start_time": "2022-02-10T11:34:35.580Z"
   },
   {
    "duration": 18,
    "start_time": "2022-02-10T11:34:36.869Z"
   },
   {
    "duration": 135,
    "start_time": "2022-02-10T11:34:36.889Z"
   },
   {
    "duration": 8,
    "start_time": "2022-02-10T11:34:37.025Z"
   },
   {
    "duration": 15,
    "start_time": "2022-02-10T11:34:37.034Z"
   },
   {
    "duration": 14,
    "start_time": "2022-02-10T11:34:37.051Z"
   },
   {
    "duration": 45,
    "start_time": "2022-02-10T11:34:37.067Z"
   },
   {
    "duration": 293,
    "start_time": "2022-02-10T11:34:37.114Z"
   },
   {
    "duration": 41,
    "start_time": "2022-02-10T11:34:37.409Z"
   },
   {
    "duration": 78,
    "start_time": "2022-02-10T11:34:37.452Z"
   },
   {
    "duration": 173,
    "start_time": "2022-02-10T11:34:37.532Z"
   },
   {
    "duration": 43,
    "start_time": "2022-02-10T11:34:37.707Z"
   },
   {
    "duration": 4,
    "start_time": "2022-02-10T11:34:37.751Z"
   },
   {
    "duration": 8,
    "start_time": "2022-02-10T11:34:37.757Z"
   },
   {
    "duration": 8,
    "start_time": "2022-02-10T11:34:37.768Z"
   },
   {
    "duration": 41,
    "start_time": "2022-02-10T11:34:37.779Z"
   },
   {
    "duration": 7,
    "start_time": "2022-02-10T11:34:37.821Z"
   },
   {
    "duration": 26,
    "start_time": "2022-02-10T11:34:37.829Z"
   },
   {
    "duration": 6,
    "start_time": "2022-02-10T11:34:37.857Z"
   },
   {
    "duration": 30,
    "start_time": "2022-02-10T11:34:37.865Z"
   },
   {
    "duration": 62,
    "start_time": "2022-02-10T11:34:37.897Z"
   },
   {
    "duration": 4,
    "start_time": "2022-02-10T11:34:37.961Z"
   },
   {
    "duration": 371,
    "start_time": "2022-02-10T11:34:37.966Z"
   },
   {
    "duration": 15,
    "start_time": "2022-02-10T11:34:38.339Z"
   },
   {
    "duration": 23,
    "start_time": "2022-02-10T11:34:38.356Z"
   },
   {
    "duration": 5,
    "start_time": "2022-02-10T11:34:38.381Z"
   },
   {
    "duration": 154,
    "start_time": "2022-02-10T11:34:38.387Z"
   },
   {
    "duration": 91,
    "start_time": "2022-02-10T11:34:38.543Z"
   },
   {
    "duration": 7,
    "start_time": "2022-02-10T11:34:38.637Z"
   },
   {
    "duration": 52,
    "start_time": "2022-02-10T11:34:38.646Z"
   },
   {
    "duration": 23,
    "start_time": "2022-02-10T11:34:38.700Z"
   },
   {
    "duration": 7,
    "start_time": "2022-02-10T11:34:38.725Z"
   },
   {
    "duration": 17,
    "start_time": "2022-02-10T11:34:38.734Z"
   },
   {
    "duration": 5,
    "start_time": "2022-02-10T11:34:38.752Z"
   },
   {
    "duration": 14,
    "start_time": "2022-02-10T11:34:38.759Z"
   },
   {
    "duration": 102,
    "start_time": "2022-02-10T11:34:38.774Z"
   },
   {
    "duration": -17,
    "start_time": "2022-02-10T11:34:38.895Z"
   },
   {
    "duration": -20,
    "start_time": "2022-02-10T11:34:38.899Z"
   },
   {
    "duration": -25,
    "start_time": "2022-02-10T11:34:38.905Z"
   },
   {
    "duration": -40,
    "start_time": "2022-02-10T11:34:38.921Z"
   },
   {
    "duration": -45,
    "start_time": "2022-02-10T11:34:38.927Z"
   },
   {
    "duration": 5572,
    "start_time": "2022-02-10T11:41:51.353Z"
   },
   {
    "duration": 2174,
    "start_time": "2022-02-10T11:41:56.928Z"
   },
   {
    "duration": 890,
    "start_time": "2022-02-10T11:41:59.104Z"
   },
   {
    "duration": 11,
    "start_time": "2022-02-10T11:41:59.997Z"
   },
   {
    "duration": 10,
    "start_time": "2022-02-10T11:42:00.010Z"
   },
   {
    "duration": 21,
    "start_time": "2022-02-10T11:42:00.022Z"
   },
   {
    "duration": 12,
    "start_time": "2022-02-10T11:42:00.045Z"
   },
   {
    "duration": 1077,
    "start_time": "2022-02-10T11:42:00.061Z"
   },
   {
    "duration": 22,
    "start_time": "2022-02-10T11:42:01.141Z"
   },
   {
    "duration": 183,
    "start_time": "2022-02-10T11:42:01.166Z"
   },
   {
    "duration": 4,
    "start_time": "2022-02-10T11:42:01.351Z"
   },
   {
    "duration": 24,
    "start_time": "2022-02-10T11:42:01.357Z"
   },
   {
    "duration": 18,
    "start_time": "2022-02-10T11:42:01.383Z"
   },
   {
    "duration": 52,
    "start_time": "2022-02-10T11:42:01.403Z"
   },
   {
    "duration": 349,
    "start_time": "2022-02-10T11:42:01.458Z"
   },
   {
    "duration": 47,
    "start_time": "2022-02-10T11:42:01.809Z"
   },
   {
    "duration": 77,
    "start_time": "2022-02-10T11:42:01.857Z"
   },
   {
    "duration": 197,
    "start_time": "2022-02-10T11:42:01.936Z"
   },
   {
    "duration": 40,
    "start_time": "2022-02-10T11:42:02.135Z"
   },
   {
    "duration": 4,
    "start_time": "2022-02-10T11:42:02.177Z"
   },
   {
    "duration": 33,
    "start_time": "2022-02-10T11:42:02.183Z"
   },
   {
    "duration": 17,
    "start_time": "2022-02-10T11:42:02.218Z"
   },
   {
    "duration": 14,
    "start_time": "2022-02-10T11:42:02.240Z"
   },
   {
    "duration": 6,
    "start_time": "2022-02-10T11:42:02.257Z"
   },
   {
    "duration": 54,
    "start_time": "2022-02-10T11:42:02.265Z"
   },
   {
    "duration": 9,
    "start_time": "2022-02-10T11:42:02.321Z"
   },
   {
    "duration": 34,
    "start_time": "2022-02-10T11:42:02.332Z"
   },
   {
    "duration": 72,
    "start_time": "2022-02-10T11:42:02.368Z"
   },
   {
    "duration": 5,
    "start_time": "2022-02-10T11:42:02.442Z"
   },
   {
    "duration": 358,
    "start_time": "2022-02-10T11:42:02.448Z"
   },
   {
    "duration": 24,
    "start_time": "2022-02-10T11:42:02.808Z"
   },
   {
    "duration": 30,
    "start_time": "2022-02-10T11:42:02.834Z"
   },
   {
    "duration": 7,
    "start_time": "2022-02-10T11:42:02.866Z"
   },
   {
    "duration": 176,
    "start_time": "2022-02-10T11:42:02.875Z"
   },
   {
    "duration": 89,
    "start_time": "2022-02-10T11:42:03.053Z"
   },
   {
    "duration": 9,
    "start_time": "2022-02-10T11:42:03.144Z"
   },
   {
    "duration": 90,
    "start_time": "2022-02-10T11:42:03.155Z"
   },
   {
    "duration": 7,
    "start_time": "2022-02-10T11:42:03.247Z"
   },
   {
    "duration": 11,
    "start_time": "2022-02-10T11:42:03.256Z"
   },
   {
    "duration": 24,
    "start_time": "2022-02-10T11:42:03.269Z"
   },
   {
    "duration": 7,
    "start_time": "2022-02-10T11:42:03.295Z"
   },
   {
    "duration": 31,
    "start_time": "2022-02-10T11:42:03.303Z"
   },
   {
    "duration": 111,
    "start_time": "2022-02-10T11:42:03.336Z"
   },
   {
    "duration": -27,
    "start_time": "2022-02-10T11:42:03.477Z"
   },
   {
    "duration": -32,
    "start_time": "2022-02-10T11:42:03.483Z"
   },
   {
    "duration": -42,
    "start_time": "2022-02-10T11:42:03.494Z"
   },
   {
    "duration": -47,
    "start_time": "2022-02-10T11:42:03.500Z"
   },
   {
    "duration": -51,
    "start_time": "2022-02-10T11:42:03.506Z"
   },
   {
    "duration": 6,
    "start_time": "2022-02-10T11:43:41.624Z"
   },
   {
    "duration": 45,
    "start_time": "2022-02-10T11:43:45.049Z"
   },
   {
    "duration": 5715,
    "start_time": "2022-02-10T11:47:34.335Z"
   },
   {
    "duration": 2020,
    "start_time": "2022-02-10T11:47:40.052Z"
   },
   {
    "duration": 1019,
    "start_time": "2022-02-10T11:47:42.074Z"
   },
   {
    "duration": 10,
    "start_time": "2022-02-10T11:47:43.096Z"
   },
   {
    "duration": 8,
    "start_time": "2022-02-10T11:47:43.109Z"
   },
   {
    "duration": 6,
    "start_time": "2022-02-10T11:47:43.118Z"
   },
   {
    "duration": 7,
    "start_time": "2022-02-10T11:47:43.126Z"
   },
   {
    "duration": 1065,
    "start_time": "2022-02-10T11:47:43.136Z"
   },
   {
    "duration": 15,
    "start_time": "2022-02-10T11:47:44.203Z"
   },
   {
    "duration": 112,
    "start_time": "2022-02-10T11:47:44.219Z"
   },
   {
    "duration": 5,
    "start_time": "2022-02-10T11:47:44.333Z"
   },
   {
    "duration": 12,
    "start_time": "2022-02-10T11:47:44.340Z"
   },
   {
    "duration": 28,
    "start_time": "2022-02-10T11:47:44.354Z"
   },
   {
    "duration": 328,
    "start_time": "2022-02-10T11:47:44.419Z"
   },
   {
    "duration": 6,
    "start_time": "2022-02-10T11:47:44.749Z"
   },
   {
    "duration": 41,
    "start_time": "2022-02-10T11:47:44.757Z"
   },
   {
    "duration": 77,
    "start_time": "2022-02-10T11:47:44.800Z"
   },
   {
    "duration": 209,
    "start_time": "2022-02-10T11:47:44.879Z"
   },
   {
    "duration": 53,
    "start_time": "2022-02-10T11:47:45.091Z"
   },
   {
    "duration": 6,
    "start_time": "2022-02-10T11:47:45.146Z"
   },
   {
    "duration": 7,
    "start_time": "2022-02-10T11:47:45.154Z"
   },
   {
    "duration": 12,
    "start_time": "2022-02-10T11:47:45.164Z"
   },
   {
    "duration": 47,
    "start_time": "2022-02-10T11:47:45.185Z"
   },
   {
    "duration": 7,
    "start_time": "2022-02-10T11:47:45.234Z"
   },
   {
    "duration": 28,
    "start_time": "2022-02-10T11:47:45.243Z"
   },
   {
    "duration": 8,
    "start_time": "2022-02-10T11:47:45.273Z"
   },
   {
    "duration": 63,
    "start_time": "2022-02-10T11:47:45.284Z"
   },
   {
    "duration": 70,
    "start_time": "2022-02-10T11:47:45.350Z"
   },
   {
    "duration": 5,
    "start_time": "2022-02-10T11:47:45.422Z"
   },
   {
    "duration": 297,
    "start_time": "2022-02-10T11:47:45.429Z"
   },
   {
    "duration": 17,
    "start_time": "2022-02-10T11:47:45.728Z"
   },
   {
    "duration": 29,
    "start_time": "2022-02-10T11:47:45.747Z"
   },
   {
    "duration": 7,
    "start_time": "2022-02-10T11:47:45.778Z"
   },
   {
    "duration": 135,
    "start_time": "2022-02-10T11:47:45.819Z"
   },
   {
    "duration": 83,
    "start_time": "2022-02-10T11:47:45.956Z"
   },
   {
    "duration": 7,
    "start_time": "2022-02-10T11:47:46.041Z"
   },
   {
    "duration": 48,
    "start_time": "2022-02-10T11:47:46.050Z"
   },
   {
    "duration": 23,
    "start_time": "2022-02-10T11:47:46.100Z"
   },
   {
    "duration": 7,
    "start_time": "2022-02-10T11:47:46.125Z"
   },
   {
    "duration": 11,
    "start_time": "2022-02-10T11:47:46.134Z"
   },
   {
    "duration": 5,
    "start_time": "2022-02-10T11:47:46.147Z"
   },
   {
    "duration": 12,
    "start_time": "2022-02-10T11:47:46.153Z"
   },
   {
    "duration": 97,
    "start_time": "2022-02-10T11:47:46.166Z"
   },
   {
    "duration": -54,
    "start_time": "2022-02-10T11:47:46.320Z"
   },
   {
    "duration": -60,
    "start_time": "2022-02-10T11:47:46.327Z"
   },
   {
    "duration": -64,
    "start_time": "2022-02-10T11:47:46.332Z"
   },
   {
    "duration": -70,
    "start_time": "2022-02-10T11:47:46.339Z"
   },
   {
    "duration": -73,
    "start_time": "2022-02-10T11:47:46.343Z"
   },
   {
    "duration": 6083,
    "start_time": "2022-02-10T11:52:09.560Z"
   },
   {
    "duration": 2750,
    "start_time": "2022-02-10T11:52:15.646Z"
   },
   {
    "duration": 799,
    "start_time": "2022-02-10T11:52:18.399Z"
   },
   {
    "duration": 16,
    "start_time": "2022-02-10T11:52:19.201Z"
   },
   {
    "duration": 18,
    "start_time": "2022-02-10T11:52:19.224Z"
   },
   {
    "duration": 4,
    "start_time": "2022-02-10T11:52:19.245Z"
   },
   {
    "duration": 7,
    "start_time": "2022-02-10T11:52:19.251Z"
   },
   {
    "duration": 1161,
    "start_time": "2022-02-10T11:52:19.261Z"
   },
   {
    "duration": 22,
    "start_time": "2022-02-10T11:52:20.424Z"
   },
   {
    "duration": 154,
    "start_time": "2022-02-10T11:52:20.448Z"
   },
   {
    "duration": 20,
    "start_time": "2022-02-10T11:52:20.604Z"
   },
   {
    "duration": 15,
    "start_time": "2022-02-10T11:52:20.627Z"
   },
   {
    "duration": 27,
    "start_time": "2022-02-10T11:52:20.644Z"
   },
   {
    "duration": 386,
    "start_time": "2022-02-10T11:52:20.673Z"
   },
   {
    "duration": 28,
    "start_time": "2022-02-10T11:52:21.061Z"
   },
   {
    "duration": 72,
    "start_time": "2022-02-10T11:52:21.091Z"
   },
   {
    "duration": 90,
    "start_time": "2022-02-10T11:52:21.165Z"
   },
   {
    "duration": 183,
    "start_time": "2022-02-10T11:52:21.257Z"
   },
   {
    "duration": 39,
    "start_time": "2022-02-10T11:52:21.442Z"
   },
   {
    "duration": 5,
    "start_time": "2022-02-10T11:52:21.484Z"
   },
   {
    "duration": 8,
    "start_time": "2022-02-10T11:52:21.518Z"
   },
   {
    "duration": 29,
    "start_time": "2022-02-10T11:52:21.528Z"
   },
   {
    "duration": 24,
    "start_time": "2022-02-10T11:52:21.563Z"
   },
   {
    "duration": 7,
    "start_time": "2022-02-10T11:52:21.590Z"
   },
   {
    "duration": 44,
    "start_time": "2022-02-10T11:52:21.599Z"
   },
   {
    "duration": 8,
    "start_time": "2022-02-10T11:52:21.645Z"
   },
   {
    "duration": 70,
    "start_time": "2022-02-10T11:52:21.656Z"
   },
   {
    "duration": 52,
    "start_time": "2022-02-10T11:52:21.730Z"
   },
   {
    "duration": 5,
    "start_time": "2022-02-10T11:52:21.784Z"
   },
   {
    "duration": 343,
    "start_time": "2022-02-10T11:52:21.791Z"
   },
   {
    "duration": 16,
    "start_time": "2022-02-10T11:52:22.136Z"
   },
   {
    "duration": 27,
    "start_time": "2022-02-10T11:52:22.155Z"
   },
   {
    "duration": 6,
    "start_time": "2022-02-10T11:52:22.184Z"
   },
   {
    "duration": 182,
    "start_time": "2022-02-10T11:52:22.192Z"
   },
   {
    "duration": 125,
    "start_time": "2022-02-10T11:52:22.376Z"
   },
   {
    "duration": 17,
    "start_time": "2022-02-10T11:52:22.503Z"
   },
   {
    "duration": 61,
    "start_time": "2022-02-10T11:52:22.522Z"
   },
   {
    "duration": 6,
    "start_time": "2022-02-10T11:52:22.585Z"
   },
   {
    "duration": 33,
    "start_time": "2022-02-10T11:52:22.593Z"
   },
   {
    "duration": 34,
    "start_time": "2022-02-10T11:52:22.628Z"
   },
   {
    "duration": 6,
    "start_time": "2022-02-10T11:52:22.664Z"
   },
   {
    "duration": 19,
    "start_time": "2022-02-10T11:52:22.671Z"
   },
   {
    "duration": 106,
    "start_time": "2022-02-10T11:52:22.693Z"
   },
   {
    "duration": -66,
    "start_time": "2022-02-10T11:52:22.868Z"
   },
   {
    "duration": -67,
    "start_time": "2022-02-10T11:52:22.871Z"
   },
   {
    "duration": -69,
    "start_time": "2022-02-10T11:52:22.875Z"
   },
   {
    "duration": -73,
    "start_time": "2022-02-10T11:52:22.880Z"
   },
   {
    "duration": -75,
    "start_time": "2022-02-10T11:52:22.884Z"
   },
   {
    "duration": 385,
    "start_time": "2022-02-10T12:07:15.421Z"
   },
   {
    "duration": 268,
    "start_time": "2022-02-10T12:07:27.293Z"
   },
   {
    "duration": 263,
    "start_time": "2022-02-10T12:07:48.349Z"
   },
   {
    "duration": 270,
    "start_time": "2022-02-10T12:07:57.470Z"
   },
   {
    "duration": 66,
    "start_time": "2022-02-10T12:08:04.462Z"
   },
   {
    "duration": 17,
    "start_time": "2022-02-10T12:08:09.311Z"
   },
   {
    "duration": 4,
    "start_time": "2022-02-10T12:08:51.212Z"
   },
   {
    "duration": 5,
    "start_time": "2022-02-10T12:09:06.509Z"
   },
   {
    "duration": 5,
    "start_time": "2022-02-10T12:09:14.799Z"
   },
   {
    "duration": -72,
    "start_time": "2022-02-10T12:09:44.058Z"
   },
   {
    "duration": 261,
    "start_time": "2022-02-10T12:10:56.592Z"
   },
   {
    "duration": 277,
    "start_time": "2022-02-10T12:11:00.096Z"
   },
   {
    "duration": 449,
    "start_time": "2022-02-10T12:11:28.736Z"
   },
   {
    "duration": 83,
    "start_time": "2022-02-10T12:11:43.661Z"
   },
   {
    "duration": 98,
    "start_time": "2022-02-10T12:11:57.265Z"
   },
   {
    "duration": 93,
    "start_time": "2022-02-10T12:12:09.792Z"
   },
   {
    "duration": 503,
    "start_time": "2022-02-10T12:12:25.246Z"
   },
   {
    "duration": 768,
    "start_time": "2022-02-10T12:13:04.596Z"
   },
   {
    "duration": 315,
    "start_time": "2022-02-10T12:13:13.104Z"
   },
   {
    "duration": 21,
    "start_time": "2022-02-10T12:13:25.262Z"
   },
   {
    "duration": 289,
    "start_time": "2022-02-10T12:13:31.777Z"
   },
   {
    "duration": 471,
    "start_time": "2022-02-10T12:13:33.684Z"
   },
   {
    "duration": 722,
    "start_time": "2022-02-10T12:13:45.328Z"
   },
   {
    "duration": 479,
    "start_time": "2022-02-10T12:13:49.022Z"
   },
   {
    "duration": 733,
    "start_time": "2022-02-10T12:14:14.320Z"
   },
   {
    "duration": 2402,
    "start_time": "2022-02-10T12:14:49.103Z"
   },
   {
    "duration": 2402,
    "start_time": "2022-02-10T12:15:31.953Z"
   },
   {
    "duration": 3470,
    "start_time": "2022-02-10T12:21:39.497Z"
   },
   {
    "duration": 19,
    "start_time": "2022-02-10T12:45:42.970Z"
   },
   {
    "duration": 17,
    "start_time": "2022-02-10T12:47:24.123Z"
   },
   {
    "duration": 7,
    "start_time": "2022-02-10T12:47:27.782Z"
   },
   {
    "duration": 1160,
    "start_time": "2022-02-10T12:47:48.154Z"
   },
   {
    "duration": 1127,
    "start_time": "2022-02-10T12:47:52.121Z"
   },
   {
    "duration": 20,
    "start_time": "2022-02-10T12:48:03.930Z"
   },
   {
    "duration": 8,
    "start_time": "2022-02-10T12:48:06.155Z"
   },
   {
    "duration": 324,
    "start_time": "2022-02-10T12:48:40.154Z"
   },
   {
    "duration": 282,
    "start_time": "2022-02-10T12:48:53.051Z"
   },
   {
    "duration": -17,
    "start_time": "2022-02-10T12:49:18.001Z"
   },
   {
    "duration": 291,
    "start_time": "2022-02-10T12:49:20.655Z"
   },
   {
    "duration": 298,
    "start_time": "2022-02-10T12:49:33.384Z"
   },
   {
    "duration": 278,
    "start_time": "2022-02-10T12:49:43.594Z"
   },
   {
    "duration": 265,
    "start_time": "2022-02-10T12:49:52.569Z"
   },
   {
    "duration": 302,
    "start_time": "2022-02-10T12:50:14.265Z"
   },
   {
    "duration": 346,
    "start_time": "2022-02-10T12:50:31.981Z"
   },
   {
    "duration": 323,
    "start_time": "2022-02-10T12:50:55.881Z"
   },
   {
    "duration": 314,
    "start_time": "2022-02-10T12:52:11.054Z"
   },
   {
    "duration": 328,
    "start_time": "2022-02-10T12:52:17.498Z"
   },
   {
    "duration": 302,
    "start_time": "2022-02-10T12:52:21.998Z"
   },
   {
    "duration": 424,
    "start_time": "2022-02-10T12:52:52.463Z"
   },
   {
    "duration": 529,
    "start_time": "2022-02-10T12:52:59.454Z"
   },
   {
    "duration": -38,
    "start_time": "2022-02-10T12:54:09.133Z"
   },
   {
    "duration": 520,
    "start_time": "2022-02-10T12:54:23.068Z"
   },
   {
    "duration": 575,
    "start_time": "2022-02-10T12:55:36.381Z"
   },
   {
    "duration": 623,
    "start_time": "2022-02-10T12:55:47.311Z"
   },
   {
    "duration": 548,
    "start_time": "2022-02-10T12:55:50.941Z"
   },
   {
    "duration": 557,
    "start_time": "2022-02-10T12:55:59.037Z"
   },
   {
    "duration": 569,
    "start_time": "2022-02-10T12:56:11.024Z"
   },
   {
    "duration": 361,
    "start_time": "2022-02-10T12:57:38.990Z"
   },
   {
    "duration": 351,
    "start_time": "2022-02-10T12:57:52.256Z"
   },
   {
    "duration": 269,
    "start_time": "2022-02-10T13:04:17.843Z"
   },
   {
    "duration": 7314,
    "start_time": "2022-02-10T13:04:31.816Z"
   },
   {
    "duration": 276,
    "start_time": "2022-02-10T13:05:07.819Z"
   },
   {
    "duration": 19,
    "start_time": "2022-02-10T13:09:10.635Z"
   },
   {
    "duration": 47,
    "start_time": "2022-02-10T13:09:26.970Z"
   },
   {
    "duration": 284,
    "start_time": "2022-02-10T13:10:07.179Z"
   },
   {
    "duration": 12,
    "start_time": "2022-02-10T13:10:27.144Z"
   },
   {
    "duration": 14,
    "start_time": "2022-02-10T13:10:49.864Z"
   },
   {
    "duration": 12,
    "start_time": "2022-02-10T13:11:05.047Z"
   },
   {
    "duration": 14,
    "start_time": "2022-02-10T13:11:34.475Z"
   },
   {
    "duration": 15,
    "start_time": "2022-02-10T13:11:41.660Z"
   },
   {
    "duration": 4,
    "start_time": "2022-02-10T13:20:29.153Z"
   },
   {
    "duration": 332,
    "start_time": "2022-02-10T13:20:37.393Z"
   },
   {
    "duration": 749,
    "start_time": "2022-02-10T13:20:46.010Z"
   },
   {
    "duration": 5,
    "start_time": "2022-02-10T13:20:58.257Z"
   },
   {
    "duration": 943,
    "start_time": "2022-02-10T13:21:00.706Z"
   },
   {
    "duration": 19,
    "start_time": "2022-02-10T13:21:34.294Z"
   },
   {
    "duration": 4,
    "start_time": "2022-02-10T13:21:46.082Z"
   },
   {
    "duration": 1943,
    "start_time": "2022-02-10T13:21:47.905Z"
   },
   {
    "duration": 4,
    "start_time": "2022-02-10T13:22:16.898Z"
   },
   {
    "duration": 549,
    "start_time": "2022-02-10T13:22:18.386Z"
   },
   {
    "duration": 5,
    "start_time": "2022-02-10T13:22:24.419Z"
   },
   {
    "duration": 622,
    "start_time": "2022-02-10T13:22:25.970Z"
   },
   {
    "duration": 6,
    "start_time": "2022-02-10T13:22:33.026Z"
   },
   {
    "duration": 590,
    "start_time": "2022-02-10T13:22:34.674Z"
   },
   {
    "duration": 4,
    "start_time": "2022-02-10T13:22:42.322Z"
   },
   {
    "duration": 567,
    "start_time": "2022-02-10T13:22:43.681Z"
   },
   {
    "duration": 4,
    "start_time": "2022-02-10T13:23:44.821Z"
   },
   {
    "duration": 2117,
    "start_time": "2022-02-10T13:23:46.147Z"
   },
   {
    "duration": 6,
    "start_time": "2022-02-10T13:35:49.436Z"
   },
   {
    "duration": 4,
    "start_time": "2022-02-10T13:35:55.595Z"
   },
   {
    "duration": 1242,
    "start_time": "2022-02-10T13:35:57.676Z"
   },
   {
    "duration": 1365,
    "start_time": "2022-02-10T13:50:16.584Z"
   },
   {
    "duration": 1486,
    "start_time": "2022-02-10T13:50:24.663Z"
   },
   {
    "duration": 1200,
    "start_time": "2022-02-10T13:50:58.039Z"
   },
   {
    "duration": 1184,
    "start_time": "2022-02-10T13:51:05.900Z"
   },
   {
    "duration": 1303,
    "start_time": "2022-02-10T13:51:28.888Z"
   },
   {
    "duration": 2,
    "start_time": "2022-02-11T05:57:41.206Z"
   },
   {
    "duration": 1456,
    "start_time": "2022-02-11T05:57:41.211Z"
   },
   {
    "duration": 933,
    "start_time": "2022-02-11T05:57:42.669Z"
   },
   {
    "duration": 9,
    "start_time": "2022-02-11T05:57:43.604Z"
   },
   {
    "duration": 4,
    "start_time": "2022-02-11T05:57:43.615Z"
   },
   {
    "duration": 4,
    "start_time": "2022-02-11T05:57:43.621Z"
   },
   {
    "duration": 4,
    "start_time": "2022-02-11T05:57:43.626Z"
   },
   {
    "duration": 993,
    "start_time": "2022-02-11T05:57:43.632Z"
   },
   {
    "duration": 13,
    "start_time": "2022-02-11T05:57:44.627Z"
   },
   {
    "duration": 3,
    "start_time": "2022-02-11T05:57:44.641Z"
   },
   {
    "duration": 101,
    "start_time": "2022-02-11T05:57:44.645Z"
   },
   {
    "duration": 4,
    "start_time": "2022-02-11T05:57:44.747Z"
   },
   {
    "duration": 5,
    "start_time": "2022-02-11T05:57:44.753Z"
   },
   {
    "duration": 396,
    "start_time": "2022-02-11T05:57:44.760Z"
   },
   {
    "duration": 26,
    "start_time": "2022-02-11T05:57:45.158Z"
   },
   {
    "duration": 49,
    "start_time": "2022-02-11T05:57:45.185Z"
   },
   {
    "duration": 51,
    "start_time": "2022-02-11T05:57:45.236Z"
   },
   {
    "duration": 53,
    "start_time": "2022-02-11T05:57:45.289Z"
   },
   {
    "duration": 4,
    "start_time": "2022-02-11T05:57:45.343Z"
   },
   {
    "duration": 7,
    "start_time": "2022-02-11T05:57:45.349Z"
   },
   {
    "duration": 13,
    "start_time": "2022-02-11T05:57:45.357Z"
   },
   {
    "duration": 7,
    "start_time": "2022-02-11T05:57:45.371Z"
   },
   {
    "duration": 57,
    "start_time": "2022-02-11T05:57:45.379Z"
   },
   {
    "duration": 7,
    "start_time": "2022-02-11T05:57:45.440Z"
   },
   {
    "duration": 5,
    "start_time": "2022-02-11T05:57:45.449Z"
   },
   {
    "duration": 22,
    "start_time": "2022-02-11T05:57:45.456Z"
   },
   {
    "duration": 56,
    "start_time": "2022-02-11T05:57:45.479Z"
   },
   {
    "duration": 3,
    "start_time": "2022-02-11T05:57:45.537Z"
   },
   {
    "duration": 651,
    "start_time": "2022-02-11T05:57:45.541Z"
   },
   {
    "duration": 2258,
    "start_time": "2022-02-11T05:57:43.936Z"
   },
   {
    "duration": 2252,
    "start_time": "2022-02-11T05:57:43.943Z"
   },
   {
    "duration": 2246,
    "start_time": "2022-02-11T05:57:43.949Z"
   },
   {
    "duration": 2242,
    "start_time": "2022-02-11T05:57:43.954Z"
   },
   {
    "duration": 2238,
    "start_time": "2022-02-11T05:57:43.959Z"
   },
   {
    "duration": 2234,
    "start_time": "2022-02-11T05:57:43.964Z"
   },
   {
    "duration": 2230,
    "start_time": "2022-02-11T05:57:43.968Z"
   },
   {
    "duration": 2225,
    "start_time": "2022-02-11T05:57:43.974Z"
   },
   {
    "duration": 2222,
    "start_time": "2022-02-11T05:57:43.978Z"
   },
   {
    "duration": 2218,
    "start_time": "2022-02-11T05:57:43.983Z"
   },
   {
    "duration": 2215,
    "start_time": "2022-02-11T05:57:43.987Z"
   },
   {
    "duration": 2211,
    "start_time": "2022-02-11T05:57:43.992Z"
   },
   {
    "duration": 2207,
    "start_time": "2022-02-11T05:57:43.996Z"
   },
   {
    "duration": 2202,
    "start_time": "2022-02-11T05:57:44.002Z"
   },
   {
    "duration": 2199,
    "start_time": "2022-02-11T05:57:44.006Z"
   },
   {
    "duration": 2195,
    "start_time": "2022-02-11T05:57:44.011Z"
   },
   {
    "duration": 2210,
    "start_time": "2022-02-11T05:57:44.016Z"
   },
   {
    "duration": 2196,
    "start_time": "2022-02-11T05:57:44.031Z"
   },
   {
    "duration": 2192,
    "start_time": "2022-02-11T05:57:44.036Z"
   },
   {
    "duration": 2184,
    "start_time": "2022-02-11T05:57:44.044Z"
   },
   {
    "duration": 2181,
    "start_time": "2022-02-11T05:57:44.048Z"
   },
   {
    "duration": 2177,
    "start_time": "2022-02-11T05:57:44.053Z"
   },
   {
    "duration": 2173,
    "start_time": "2022-02-11T05:57:44.058Z"
   },
   {
    "duration": 2169,
    "start_time": "2022-02-11T05:57:44.063Z"
   },
   {
    "duration": 2165,
    "start_time": "2022-02-11T05:57:44.067Z"
   },
   {
    "duration": 2161,
    "start_time": "2022-02-11T05:57:44.072Z"
   },
   {
    "duration": 2157,
    "start_time": "2022-02-11T05:57:44.077Z"
   },
   {
    "duration": 2153,
    "start_time": "2022-02-11T05:57:44.082Z"
   },
   {
    "duration": 2149,
    "start_time": "2022-02-11T05:57:44.086Z"
   },
   {
    "duration": 2145,
    "start_time": "2022-02-11T05:57:44.091Z"
   },
   {
    "duration": 2141,
    "start_time": "2022-02-11T05:57:44.096Z"
   },
   {
    "duration": 2138,
    "start_time": "2022-02-11T05:57:44.100Z"
   },
   {
    "duration": 2135,
    "start_time": "2022-02-11T05:57:44.104Z"
   },
   {
    "duration": 2130,
    "start_time": "2022-02-11T05:57:44.110Z"
   },
   {
    "duration": 10796,
    "start_time": "2022-02-11T06:06:41.324Z"
   },
   {
    "duration": 1880,
    "start_time": "2022-02-11T06:06:52.122Z"
   },
   {
    "duration": 885,
    "start_time": "2022-02-11T06:06:54.004Z"
   },
   {
    "duration": 9,
    "start_time": "2022-02-11T06:06:54.891Z"
   },
   {
    "duration": 5,
    "start_time": "2022-02-11T06:06:54.901Z"
   },
   {
    "duration": 4,
    "start_time": "2022-02-11T06:06:54.907Z"
   },
   {
    "duration": 5,
    "start_time": "2022-02-11T06:06:54.912Z"
   },
   {
    "duration": 968,
    "start_time": "2022-02-11T06:06:54.919Z"
   },
   {
    "duration": 12,
    "start_time": "2022-02-11T06:06:55.889Z"
   },
   {
    "duration": 3,
    "start_time": "2022-02-11T06:06:55.902Z"
   },
   {
    "duration": 92,
    "start_time": "2022-02-11T06:06:55.907Z"
   },
   {
    "duration": 4,
    "start_time": "2022-02-11T06:06:56.001Z"
   },
   {
    "duration": 20,
    "start_time": "2022-02-11T06:06:56.007Z"
   },
   {
    "duration": 375,
    "start_time": "2022-02-11T06:06:56.028Z"
   },
   {
    "duration": 27,
    "start_time": "2022-02-11T06:06:56.405Z"
   },
   {
    "duration": 37,
    "start_time": "2022-02-11T06:06:56.433Z"
   },
   {
    "duration": 69,
    "start_time": "2022-02-11T06:06:56.471Z"
   },
   {
    "duration": 35,
    "start_time": "2022-02-11T06:06:56.542Z"
   },
   {
    "duration": 4,
    "start_time": "2022-02-11T06:06:56.578Z"
   },
   {
    "duration": 9,
    "start_time": "2022-02-11T06:06:56.583Z"
   },
   {
    "duration": 14,
    "start_time": "2022-02-11T06:06:56.594Z"
   },
   {
    "duration": 18,
    "start_time": "2022-02-11T06:06:56.609Z"
   },
   {
    "duration": 23,
    "start_time": "2022-02-11T06:06:56.630Z"
   },
   {
    "duration": 6,
    "start_time": "2022-02-11T06:06:56.656Z"
   },
   {
    "duration": 6,
    "start_time": "2022-02-11T06:06:56.663Z"
   },
   {
    "duration": 24,
    "start_time": "2022-02-11T06:06:56.670Z"
   },
   {
    "duration": 43,
    "start_time": "2022-02-11T06:06:56.696Z"
   },
   {
    "duration": 3,
    "start_time": "2022-02-11T06:06:56.741Z"
   },
   {
    "duration": 305,
    "start_time": "2022-02-11T06:06:56.745Z"
   },
   {
    "duration": 13,
    "start_time": "2022-02-11T06:06:57.051Z"
   },
   {
    "duration": 21,
    "start_time": "2022-02-11T06:06:57.065Z"
   },
   {
    "duration": 4,
    "start_time": "2022-02-11T06:06:57.088Z"
   },
   {
    "duration": 97,
    "start_time": "2022-02-11T06:06:57.094Z"
   },
   {
    "duration": 69,
    "start_time": "2022-02-11T06:06:57.193Z"
   },
   {
    "duration": 4,
    "start_time": "2022-02-11T06:06:57.264Z"
   },
   {
    "duration": 5,
    "start_time": "2022-02-11T06:06:57.269Z"
   },
   {
    "duration": 66,
    "start_time": "2022-02-11T06:06:57.275Z"
   },
   {
    "duration": 32,
    "start_time": "2022-02-11T06:06:57.342Z"
   },
   {
    "duration": 4,
    "start_time": "2022-02-11T06:06:57.376Z"
   },
   {
    "duration": 8,
    "start_time": "2022-02-11T06:06:57.381Z"
   },
   {
    "duration": 7,
    "start_time": "2022-02-11T06:06:57.390Z"
   },
   {
    "duration": 14,
    "start_time": "2022-02-11T06:06:57.399Z"
   },
   {
    "duration": 330,
    "start_time": "2022-02-11T06:06:57.414Z"
   },
   {
    "duration": 14,
    "start_time": "2022-02-11T06:06:57.746Z"
   },
   {
    "duration": 11,
    "start_time": "2022-02-11T06:06:57.762Z"
   },
   {
    "duration": 1006,
    "start_time": "2022-02-11T06:06:57.775Z"
   },
   {
    "duration": 9,
    "start_time": "2022-02-11T06:06:58.783Z"
   },
   {
    "duration": 459,
    "start_time": "2022-02-11T06:06:58.794Z"
   },
   {
    "duration": 338,
    "start_time": "2022-02-11T06:06:58.917Z"
   },
   {
    "duration": 334,
    "start_time": "2022-02-11T06:06:58.922Z"
   },
   {
    "duration": 329,
    "start_time": "2022-02-11T06:06:58.928Z"
   },
   {
    "duration": 324,
    "start_time": "2022-02-11T06:06:58.934Z"
   },
   {
    "duration": 320,
    "start_time": "2022-02-11T06:06:58.939Z"
   },
   {
    "duration": 315,
    "start_time": "2022-02-11T06:06:58.945Z"
   },
   {
    "duration": 311,
    "start_time": "2022-02-11T06:06:58.949Z"
   },
   {
    "duration": 307,
    "start_time": "2022-02-11T06:06:58.954Z"
   },
   {
    "duration": 303,
    "start_time": "2022-02-11T06:06:58.959Z"
   },
   {
    "duration": 299,
    "start_time": "2022-02-11T06:06:58.964Z"
   },
   {
    "duration": 295,
    "start_time": "2022-02-11T06:06:58.969Z"
   },
   {
    "duration": 291,
    "start_time": "2022-02-11T06:06:58.974Z"
   },
   {
    "duration": 286,
    "start_time": "2022-02-11T06:06:58.979Z"
   },
   {
    "duration": 282,
    "start_time": "2022-02-11T06:06:58.984Z"
   },
   {
    "duration": 278,
    "start_time": "2022-02-11T06:06:58.989Z"
   },
   {
    "duration": 352,
    "start_time": "2022-02-11T06:08:40.332Z"
   },
   {
    "duration": 22,
    "start_time": "2022-02-11T06:09:16.493Z"
   },
   {
    "duration": 358,
    "start_time": "2022-02-11T06:09:46.220Z"
   },
   {
    "duration": 26,
    "start_time": "2022-02-11T06:10:06.285Z"
   },
   {
    "duration": 5156,
    "start_time": "2022-02-11T06:10:41.971Z"
   },
   {
    "duration": 1723,
    "start_time": "2022-02-11T06:10:47.129Z"
   },
   {
    "duration": 1045,
    "start_time": "2022-02-11T06:10:48.854Z"
   },
   {
    "duration": 8,
    "start_time": "2022-02-11T06:10:49.901Z"
   },
   {
    "duration": 5,
    "start_time": "2022-02-11T06:10:49.910Z"
   },
   {
    "duration": 10,
    "start_time": "2022-02-11T06:10:49.917Z"
   },
   {
    "duration": 10,
    "start_time": "2022-02-11T06:10:49.929Z"
   },
   {
    "duration": 1059,
    "start_time": "2022-02-11T06:10:49.940Z"
   },
   {
    "duration": 16,
    "start_time": "2022-02-11T06:10:51.002Z"
   },
   {
    "duration": 2,
    "start_time": "2022-02-11T06:10:51.020Z"
   },
   {
    "duration": 92,
    "start_time": "2022-02-11T06:10:51.024Z"
   },
   {
    "duration": 5,
    "start_time": "2022-02-11T06:10:51.127Z"
   },
   {
    "duration": 6,
    "start_time": "2022-02-11T06:10:51.134Z"
   },
   {
    "duration": 389,
    "start_time": "2022-02-11T06:10:51.141Z"
   },
   {
    "duration": 26,
    "start_time": "2022-02-11T06:10:51.532Z"
   },
   {
    "duration": 40,
    "start_time": "2022-02-11T06:10:51.560Z"
   },
   {
    "duration": 65,
    "start_time": "2022-02-11T06:10:51.601Z"
   },
   {
    "duration": 35,
    "start_time": "2022-02-11T06:10:51.667Z"
   },
   {
    "duration": 4,
    "start_time": "2022-02-11T06:10:51.704Z"
   },
   {
    "duration": 18,
    "start_time": "2022-02-11T06:10:51.709Z"
   },
   {
    "duration": 14,
    "start_time": "2022-02-11T06:10:51.729Z"
   },
   {
    "duration": 6,
    "start_time": "2022-02-11T06:10:51.744Z"
   },
   {
    "duration": 22,
    "start_time": "2022-02-11T06:10:51.752Z"
   },
   {
    "duration": 8,
    "start_time": "2022-02-11T06:10:51.775Z"
   },
   {
    "duration": 44,
    "start_time": "2022-02-11T06:10:51.784Z"
   },
   {
    "duration": 21,
    "start_time": "2022-02-11T06:10:51.830Z"
   },
   {
    "duration": 34,
    "start_time": "2022-02-11T06:10:51.854Z"
   },
   {
    "duration": 3,
    "start_time": "2022-02-11T06:10:51.890Z"
   },
   {
    "duration": 284,
    "start_time": "2022-02-11T06:10:51.895Z"
   },
   {
    "duration": 13,
    "start_time": "2022-02-11T06:10:52.180Z"
   },
   {
    "duration": 37,
    "start_time": "2022-02-11T06:10:52.195Z"
   },
   {
    "duration": 4,
    "start_time": "2022-02-11T06:10:52.233Z"
   },
   {
    "duration": 103,
    "start_time": "2022-02-11T06:10:52.239Z"
   },
   {
    "duration": 63,
    "start_time": "2022-02-11T06:10:52.343Z"
   },
   {
    "duration": 5,
    "start_time": "2022-02-11T06:10:52.407Z"
   },
   {
    "duration": 20,
    "start_time": "2022-02-11T06:10:52.413Z"
   },
   {
    "duration": 56,
    "start_time": "2022-02-11T06:10:52.434Z"
   },
   {
    "duration": 49,
    "start_time": "2022-02-11T06:10:52.492Z"
   },
   {
    "duration": 5,
    "start_time": "2022-02-11T06:10:52.542Z"
   },
   {
    "duration": 6,
    "start_time": "2022-02-11T06:10:52.548Z"
   },
   {
    "duration": 10,
    "start_time": "2022-02-11T06:10:52.555Z"
   },
   {
    "duration": 13,
    "start_time": "2022-02-11T06:10:52.567Z"
   },
   {
    "duration": 335,
    "start_time": "2022-02-11T06:10:52.581Z"
   },
   {
    "duration": 14,
    "start_time": "2022-02-11T06:10:52.917Z"
   },
   {
    "duration": 10,
    "start_time": "2022-02-11T06:10:52.933Z"
   },
   {
    "duration": 717,
    "start_time": "2022-02-11T06:10:52.945Z"
   },
   {
    "duration": 9,
    "start_time": "2022-02-11T06:10:53.663Z"
   },
   {
    "duration": 465,
    "start_time": "2022-02-11T06:10:53.674Z"
   },
   {
    "duration": 238,
    "start_time": "2022-02-11T06:10:53.903Z"
   },
   {
    "duration": 229,
    "start_time": "2022-02-11T06:10:53.912Z"
   },
   {
    "duration": 224,
    "start_time": "2022-02-11T06:10:53.918Z"
   },
   {
    "duration": 216,
    "start_time": "2022-02-11T06:10:53.927Z"
   },
   {
    "duration": 211,
    "start_time": "2022-02-11T06:10:53.932Z"
   },
   {
    "duration": 207,
    "start_time": "2022-02-11T06:10:53.937Z"
   },
   {
    "duration": 204,
    "start_time": "2022-02-11T06:10:53.941Z"
   },
   {
    "duration": 200,
    "start_time": "2022-02-11T06:10:53.946Z"
   },
   {
    "duration": 196,
    "start_time": "2022-02-11T06:10:53.950Z"
   },
   {
    "duration": 192,
    "start_time": "2022-02-11T06:10:53.955Z"
   },
   {
    "duration": 189,
    "start_time": "2022-02-11T06:10:53.959Z"
   },
   {
    "duration": 185,
    "start_time": "2022-02-11T06:10:53.963Z"
   },
   {
    "duration": 182,
    "start_time": "2022-02-11T06:10:53.967Z"
   },
   {
    "duration": 178,
    "start_time": "2022-02-11T06:10:53.972Z"
   },
   {
    "duration": 175,
    "start_time": "2022-02-11T06:10:53.976Z"
   },
   {
    "duration": 27,
    "start_time": "2022-02-11T06:11:22.842Z"
   },
   {
    "duration": 16,
    "start_time": "2022-02-11T06:12:06.686Z"
   },
   {
    "duration": 25,
    "start_time": "2022-02-11T06:12:26.152Z"
   },
   {
    "duration": 4877,
    "start_time": "2022-02-11T06:12:31.058Z"
   },
   {
    "duration": 1820,
    "start_time": "2022-02-11T06:12:35.937Z"
   },
   {
    "duration": 796,
    "start_time": "2022-02-11T06:12:37.759Z"
   },
   {
    "duration": 10,
    "start_time": "2022-02-11T06:12:38.557Z"
   },
   {
    "duration": 3,
    "start_time": "2022-02-11T06:12:38.568Z"
   },
   {
    "duration": 5,
    "start_time": "2022-02-11T06:12:38.573Z"
   },
   {
    "duration": 11,
    "start_time": "2022-02-11T06:12:38.580Z"
   },
   {
    "duration": 972,
    "start_time": "2022-02-11T06:12:38.594Z"
   },
   {
    "duration": 12,
    "start_time": "2022-02-11T06:12:39.568Z"
   },
   {
    "duration": 2,
    "start_time": "2022-02-11T06:12:39.582Z"
   },
   {
    "duration": 89,
    "start_time": "2022-02-11T06:12:39.586Z"
   },
   {
    "duration": 5,
    "start_time": "2022-02-11T06:12:39.676Z"
   },
   {
    "duration": 9,
    "start_time": "2022-02-11T06:12:39.682Z"
   },
   {
    "duration": 377,
    "start_time": "2022-02-11T06:12:39.692Z"
   },
   {
    "duration": 24,
    "start_time": "2022-02-11T06:12:40.071Z"
   },
   {
    "duration": 39,
    "start_time": "2022-02-11T06:12:40.097Z"
   },
   {
    "duration": 59,
    "start_time": "2022-02-11T06:12:40.137Z"
   },
   {
    "duration": 51,
    "start_time": "2022-02-11T06:12:40.198Z"
   },
   {
    "duration": 4,
    "start_time": "2022-02-11T06:12:40.250Z"
   },
   {
    "duration": 8,
    "start_time": "2022-02-11T06:12:40.255Z"
   },
   {
    "duration": 12,
    "start_time": "2022-02-11T06:12:40.265Z"
   },
   {
    "duration": 5,
    "start_time": "2022-02-11T06:12:40.278Z"
   },
   {
    "duration": 45,
    "start_time": "2022-02-11T06:12:40.286Z"
   },
   {
    "duration": 7,
    "start_time": "2022-02-11T06:12:40.333Z"
   },
   {
    "duration": 7,
    "start_time": "2022-02-11T06:12:40.341Z"
   },
   {
    "duration": 22,
    "start_time": "2022-02-11T06:12:40.349Z"
   },
   {
    "duration": 55,
    "start_time": "2022-02-11T06:12:40.373Z"
   },
   {
    "duration": 3,
    "start_time": "2022-02-11T06:12:40.430Z"
   },
   {
    "duration": 250,
    "start_time": "2022-02-11T06:12:40.435Z"
   },
   {
    "duration": 12,
    "start_time": "2022-02-11T06:12:40.687Z"
   },
   {
    "duration": 36,
    "start_time": "2022-02-11T06:12:40.701Z"
   },
   {
    "duration": 4,
    "start_time": "2022-02-11T06:12:40.738Z"
   },
   {
    "duration": 101,
    "start_time": "2022-02-11T06:12:40.743Z"
   },
   {
    "duration": 62,
    "start_time": "2022-02-11T06:12:40.845Z"
   },
   {
    "duration": 19,
    "start_time": "2022-02-11T06:12:40.908Z"
   },
   {
    "duration": 6,
    "start_time": "2022-02-11T06:12:40.928Z"
   },
   {
    "duration": 59,
    "start_time": "2022-02-11T06:12:40.935Z"
   },
   {
    "duration": 49,
    "start_time": "2022-02-11T06:12:40.995Z"
   },
   {
    "duration": 6,
    "start_time": "2022-02-11T06:12:41.045Z"
   },
   {
    "duration": 8,
    "start_time": "2022-02-11T06:12:41.052Z"
   },
   {
    "duration": 8,
    "start_time": "2022-02-11T06:12:41.061Z"
   },
   {
    "duration": 15,
    "start_time": "2022-02-11T06:12:41.071Z"
   },
   {
    "duration": 310,
    "start_time": "2022-02-11T06:12:41.087Z"
   },
   {
    "duration": 13,
    "start_time": "2022-02-11T06:12:41.399Z"
   },
   {
    "duration": 22,
    "start_time": "2022-02-11T06:12:41.414Z"
   },
   {
    "duration": 719,
    "start_time": "2022-02-11T06:12:41.437Z"
   },
   {
    "duration": 9,
    "start_time": "2022-02-11T06:12:42.157Z"
   },
   {
    "duration": 26,
    "start_time": "2022-02-11T06:12:42.168Z"
   },
   {
    "duration": 14,
    "start_time": "2022-02-11T06:12:42.195Z"
   },
   {
    "duration": 448,
    "start_time": "2022-02-11T06:12:42.210Z"
   },
   {
    "duration": 10,
    "start_time": "2022-02-11T06:12:42.660Z"
   },
   {
    "duration": 415,
    "start_time": "2022-02-11T06:12:42.671Z"
   },
   {
    "duration": 191,
    "start_time": "2022-02-11T06:12:42.897Z"
   },
   {
    "duration": 182,
    "start_time": "2022-02-11T06:12:42.906Z"
   },
   {
    "duration": 174,
    "start_time": "2022-02-11T06:12:42.915Z"
   },
   {
    "duration": 170,
    "start_time": "2022-02-11T06:12:42.920Z"
   },
   {
    "duration": 167,
    "start_time": "2022-02-11T06:12:42.924Z"
   },
   {
    "duration": 163,
    "start_time": "2022-02-11T06:12:42.929Z"
   },
   {
    "duration": 159,
    "start_time": "2022-02-11T06:12:42.934Z"
   },
   {
    "duration": 154,
    "start_time": "2022-02-11T06:12:42.939Z"
   },
   {
    "duration": 140,
    "start_time": "2022-02-11T06:12:42.954Z"
   },
   {
    "duration": 135,
    "start_time": "2022-02-11T06:12:42.960Z"
   },
   {
    "duration": 130,
    "start_time": "2022-02-11T06:12:42.966Z"
   },
   {
    "duration": 127,
    "start_time": "2022-02-11T06:12:42.970Z"
   },
   {
    "duration": 405,
    "start_time": "2022-02-11T06:15:02.076Z"
   },
   {
    "duration": 11,
    "start_time": "2022-02-11T06:15:36.282Z"
   },
   {
    "duration": 12,
    "start_time": "2022-02-11T06:16:11.353Z"
   },
   {
    "duration": 15,
    "start_time": "2022-02-11T06:16:13.385Z"
   },
   {
    "duration": 16,
    "start_time": "2022-02-11T06:16:13.672Z"
   },
   {
    "duration": 17690,
    "start_time": "2022-02-11T06:17:32.710Z"
   },
   {
    "duration": 1813,
    "start_time": "2022-02-11T06:17:50.402Z"
   },
   {
    "duration": 1022,
    "start_time": "2022-02-11T06:17:52.217Z"
   },
   {
    "duration": 9,
    "start_time": "2022-02-11T06:17:53.240Z"
   },
   {
    "duration": 5,
    "start_time": "2022-02-11T06:17:53.250Z"
   },
   {
    "duration": 4,
    "start_time": "2022-02-11T06:17:53.257Z"
   },
   {
    "duration": 4,
    "start_time": "2022-02-11T06:17:53.262Z"
   },
   {
    "duration": 972,
    "start_time": "2022-02-11T06:17:53.268Z"
   },
   {
    "duration": 16,
    "start_time": "2022-02-11T06:17:54.242Z"
   },
   {
    "duration": 3,
    "start_time": "2022-02-11T06:17:54.260Z"
   },
   {
    "duration": 81,
    "start_time": "2022-02-11T06:17:54.264Z"
   },
   {
    "duration": 6,
    "start_time": "2022-02-11T06:17:54.347Z"
   },
   {
    "duration": 9,
    "start_time": "2022-02-11T06:17:54.354Z"
   },
   {
    "duration": 395,
    "start_time": "2022-02-11T06:17:54.365Z"
   },
   {
    "duration": 21,
    "start_time": "2022-02-11T06:17:54.762Z"
   },
   {
    "duration": 25,
    "start_time": "2022-02-11T06:17:54.785Z"
   },
   {
    "duration": 38,
    "start_time": "2022-02-11T06:17:54.827Z"
   },
   {
    "duration": 32,
    "start_time": "2022-02-11T06:17:54.866Z"
   },
   {
    "duration": 4,
    "start_time": "2022-02-11T06:17:54.899Z"
   },
   {
    "duration": 23,
    "start_time": "2022-02-11T06:17:54.904Z"
   },
   {
    "duration": 11,
    "start_time": "2022-02-11T06:17:54.929Z"
   },
   {
    "duration": 5,
    "start_time": "2022-02-11T06:17:54.942Z"
   },
   {
    "duration": 20,
    "start_time": "2022-02-11T06:17:54.951Z"
   },
   {
    "duration": 5,
    "start_time": "2022-02-11T06:17:54.973Z"
   },
   {
    "duration": 6,
    "start_time": "2022-02-11T06:17:54.979Z"
   },
   {
    "duration": 52,
    "start_time": "2022-02-11T06:17:54.987Z"
   },
   {
    "duration": 34,
    "start_time": "2022-02-11T06:17:55.041Z"
   },
   {
    "duration": 4,
    "start_time": "2022-02-11T06:17:55.077Z"
   },
   {
    "duration": 289,
    "start_time": "2022-02-11T06:17:55.082Z"
   },
   {
    "duration": 14,
    "start_time": "2022-02-11T06:17:55.373Z"
   },
   {
    "duration": 40,
    "start_time": "2022-02-11T06:17:55.389Z"
   },
   {
    "duration": 5,
    "start_time": "2022-02-11T06:17:55.431Z"
   },
   {
    "duration": 125,
    "start_time": "2022-02-11T06:17:55.437Z"
   },
   {
    "duration": 69,
    "start_time": "2022-02-11T06:17:55.564Z"
   },
   {
    "duration": 6,
    "start_time": "2022-02-11T06:17:55.635Z"
   },
   {
    "duration": 5,
    "start_time": "2022-02-11T06:17:55.642Z"
   },
   {
    "duration": 79,
    "start_time": "2022-02-11T06:17:55.648Z"
   },
   {
    "duration": 23,
    "start_time": "2022-02-11T06:17:55.728Z"
   },
   {
    "duration": 3,
    "start_time": "2022-02-11T06:17:55.753Z"
   },
   {
    "duration": 5,
    "start_time": "2022-02-11T06:17:55.758Z"
   },
   {
    "duration": 8,
    "start_time": "2022-02-11T06:17:55.764Z"
   },
   {
    "duration": 8,
    "start_time": "2022-02-11T06:17:55.774Z"
   },
   {
    "duration": 312,
    "start_time": "2022-02-11T06:17:55.783Z"
   },
   {
    "duration": 10,
    "start_time": "2022-02-11T06:17:56.097Z"
   },
   {
    "duration": 24,
    "start_time": "2022-02-11T06:17:56.108Z"
   },
   {
    "duration": 729,
    "start_time": "2022-02-11T06:17:56.134Z"
   },
   {
    "duration": 8,
    "start_time": "2022-02-11T06:17:56.865Z"
   },
   {
    "duration": 411,
    "start_time": "2022-02-11T06:17:56.874Z"
   },
   {
    "duration": 87,
    "start_time": "2022-02-11T06:17:57.199Z"
   },
   {
    "duration": 76,
    "start_time": "2022-02-11T06:17:57.211Z"
   },
   {
    "duration": 72,
    "start_time": "2022-02-11T06:17:57.216Z"
   },
   {
    "duration": 66,
    "start_time": "2022-02-11T06:17:57.223Z"
   },
   {
    "duration": 62,
    "start_time": "2022-02-11T06:17:57.228Z"
   },
   {
    "duration": 58,
    "start_time": "2022-02-11T06:17:57.233Z"
   },
   {
    "duration": 52,
    "start_time": "2022-02-11T06:17:57.239Z"
   },
   {
    "duration": 47,
    "start_time": "2022-02-11T06:17:57.245Z"
   },
   {
    "duration": 43,
    "start_time": "2022-02-11T06:17:57.250Z"
   },
   {
    "duration": 39,
    "start_time": "2022-02-11T06:17:57.256Z"
   },
   {
    "duration": 35,
    "start_time": "2022-02-11T06:17:57.261Z"
   },
   {
    "duration": 30,
    "start_time": "2022-02-11T06:17:57.267Z"
   },
   {
    "duration": 26,
    "start_time": "2022-02-11T06:17:57.272Z"
   },
   {
    "duration": 21,
    "start_time": "2022-02-11T06:17:57.278Z"
   },
   {
    "duration": 18,
    "start_time": "2022-02-11T06:17:57.282Z"
   },
   {
    "duration": 13,
    "start_time": "2022-02-11T06:17:57.288Z"
   },
   {
    "duration": 9,
    "start_time": "2022-02-11T06:17:57.293Z"
   },
   {
    "duration": -7,
    "start_time": "2022-02-11T06:17:57.311Z"
   },
   {
    "duration": 16,
    "start_time": "2022-02-11T06:18:12.127Z"
   },
   {
    "duration": 15,
    "start_time": "2022-02-11T06:19:34.151Z"
   },
   {
    "duration": 17,
    "start_time": "2022-02-11T06:20:06.959Z"
   },
   {
    "duration": 10419,
    "start_time": "2022-02-11T06:20:22.745Z"
   },
   {
    "duration": 1755,
    "start_time": "2022-02-11T06:20:33.166Z"
   },
   {
    "duration": 769,
    "start_time": "2022-02-11T06:20:34.923Z"
   },
   {
    "duration": 9,
    "start_time": "2022-02-11T06:20:35.693Z"
   },
   {
    "duration": 20,
    "start_time": "2022-02-11T06:20:35.703Z"
   },
   {
    "duration": 10,
    "start_time": "2022-02-11T06:20:35.724Z"
   },
   {
    "duration": 4,
    "start_time": "2022-02-11T06:20:35.735Z"
   },
   {
    "duration": 987,
    "start_time": "2022-02-11T06:20:35.741Z"
   },
   {
    "duration": 15,
    "start_time": "2022-02-11T06:20:36.730Z"
   },
   {
    "duration": 15,
    "start_time": "2022-02-11T06:20:36.746Z"
   },
   {
    "duration": 87,
    "start_time": "2022-02-11T06:20:36.763Z"
   },
   {
    "duration": 5,
    "start_time": "2022-02-11T06:20:36.852Z"
   },
   {
    "duration": 26,
    "start_time": "2022-02-11T06:20:36.858Z"
   },
   {
    "duration": 368,
    "start_time": "2022-02-11T06:20:36.885Z"
   },
   {
    "duration": 21,
    "start_time": "2022-02-11T06:20:37.255Z"
   },
   {
    "duration": 25,
    "start_time": "2022-02-11T06:20:37.278Z"
   },
   {
    "duration": 58,
    "start_time": "2022-02-11T06:20:37.304Z"
   },
   {
    "duration": 35,
    "start_time": "2022-02-11T06:20:37.364Z"
   },
   {
    "duration": 4,
    "start_time": "2022-02-11T06:20:37.400Z"
   },
   {
    "duration": 23,
    "start_time": "2022-02-11T06:20:37.406Z"
   },
   {
    "duration": 25,
    "start_time": "2022-02-11T06:20:37.431Z"
   },
   {
    "duration": 7,
    "start_time": "2022-02-11T06:20:37.458Z"
   },
   {
    "duration": 24,
    "start_time": "2022-02-11T06:20:37.468Z"
   },
   {
    "duration": 5,
    "start_time": "2022-02-11T06:20:37.494Z"
   },
   {
    "duration": 5,
    "start_time": "2022-02-11T06:20:37.501Z"
   },
   {
    "duration": 32,
    "start_time": "2022-02-11T06:20:37.508Z"
   },
   {
    "duration": 31,
    "start_time": "2022-02-11T06:20:37.541Z"
   },
   {
    "duration": 3,
    "start_time": "2022-02-11T06:20:37.574Z"
   },
   {
    "duration": 292,
    "start_time": "2022-02-11T06:20:37.578Z"
   },
   {
    "duration": 14,
    "start_time": "2022-02-11T06:20:37.872Z"
   },
   {
    "duration": 18,
    "start_time": "2022-02-11T06:20:37.888Z"
   },
   {
    "duration": 19,
    "start_time": "2022-02-11T06:20:37.908Z"
   },
   {
    "duration": 113,
    "start_time": "2022-02-11T06:20:37.928Z"
   },
   {
    "duration": 57,
    "start_time": "2022-02-11T06:20:38.043Z"
   },
   {
    "duration": 6,
    "start_time": "2022-02-11T06:20:38.102Z"
   },
   {
    "duration": 5,
    "start_time": "2022-02-11T06:20:38.127Z"
   },
   {
    "duration": 52,
    "start_time": "2022-02-11T06:20:38.134Z"
   },
   {
    "duration": 42,
    "start_time": "2022-02-11T06:20:38.188Z"
   },
   {
    "duration": 4,
    "start_time": "2022-02-11T06:20:38.232Z"
   },
   {
    "duration": 6,
    "start_time": "2022-02-11T06:20:38.237Z"
   },
   {
    "duration": 11,
    "start_time": "2022-02-11T06:20:38.244Z"
   },
   {
    "duration": 8,
    "start_time": "2022-02-11T06:20:38.257Z"
   },
   {
    "duration": 320,
    "start_time": "2022-02-11T06:20:38.266Z"
   },
   {
    "duration": 10,
    "start_time": "2022-02-11T06:20:38.587Z"
   },
   {
    "duration": 20,
    "start_time": "2022-02-11T06:20:38.599Z"
   },
   {
    "duration": 738,
    "start_time": "2022-02-11T06:20:38.620Z"
   },
   {
    "duration": 9,
    "start_time": "2022-02-11T06:20:39.360Z"
   },
   {
    "duration": 43,
    "start_time": "2022-02-11T06:20:39.370Z"
   },
   {
    "duration": 28,
    "start_time": "2022-02-11T06:20:39.414Z"
   },
   {
    "duration": 154,
    "start_time": "2022-02-11T06:20:39.444Z"
   },
   {
    "duration": 8,
    "start_time": "2022-02-11T06:20:39.600Z"
   },
   {
    "duration": 439,
    "start_time": "2022-02-11T06:20:39.610Z"
   },
   {
    "duration": 77,
    "start_time": "2022-02-11T06:20:39.974Z"
   },
   {
    "duration": 69,
    "start_time": "2022-02-11T06:20:39.983Z"
   },
   {
    "duration": 65,
    "start_time": "2022-02-11T06:20:39.988Z"
   },
   {
    "duration": 62,
    "start_time": "2022-02-11T06:20:39.992Z"
   },
   {
    "duration": 57,
    "start_time": "2022-02-11T06:20:39.998Z"
   },
   {
    "duration": 53,
    "start_time": "2022-02-11T06:20:40.003Z"
   },
   {
    "duration": 49,
    "start_time": "2022-02-11T06:20:40.008Z"
   },
   {
    "duration": 46,
    "start_time": "2022-02-11T06:20:40.012Z"
   },
   {
    "duration": 42,
    "start_time": "2022-02-11T06:20:40.017Z"
   },
   {
    "duration": 37,
    "start_time": "2022-02-11T06:20:40.022Z"
   },
   {
    "duration": 32,
    "start_time": "2022-02-11T06:20:40.028Z"
   },
   {
    "duration": 28,
    "start_time": "2022-02-11T06:20:40.033Z"
   },
   {
    "duration": 7,
    "start_time": "2022-02-11T06:27:03.337Z"
   },
   {
    "duration": 142,
    "start_time": "2022-02-11T06:28:50.297Z"
   },
   {
    "duration": 9,
    "start_time": "2022-02-11T06:28:51.673Z"
   },
   {
    "duration": 10,
    "start_time": "2022-02-11T06:34:13.613Z"
   },
   {
    "duration": 338,
    "start_time": "2022-02-11T07:16:02.020Z"
   },
   {
    "duration": 8,
    "start_time": "2022-02-11T07:16:20.891Z"
   },
   {
    "duration": 10462,
    "start_time": "2022-02-11T07:16:42.586Z"
   },
   {
    "duration": 1773,
    "start_time": "2022-02-11T07:16:53.049Z"
   },
   {
    "duration": 903,
    "start_time": "2022-02-11T07:16:54.824Z"
   },
   {
    "duration": 9,
    "start_time": "2022-02-11T07:16:55.729Z"
   },
   {
    "duration": 6,
    "start_time": "2022-02-11T07:16:55.739Z"
   },
   {
    "duration": 5,
    "start_time": "2022-02-11T07:16:55.746Z"
   },
   {
    "duration": 4,
    "start_time": "2022-02-11T07:16:55.752Z"
   },
   {
    "duration": 973,
    "start_time": "2022-02-11T07:16:55.758Z"
   },
   {
    "duration": 15,
    "start_time": "2022-02-11T07:16:56.733Z"
   },
   {
    "duration": 2,
    "start_time": "2022-02-11T07:16:56.750Z"
   },
   {
    "duration": 86,
    "start_time": "2022-02-11T07:16:56.753Z"
   },
   {
    "duration": 6,
    "start_time": "2022-02-11T07:16:56.840Z"
   },
   {
    "duration": 6,
    "start_time": "2022-02-11T07:16:56.847Z"
   },
   {
    "duration": 402,
    "start_time": "2022-02-11T07:16:56.855Z"
   },
   {
    "duration": 22,
    "start_time": "2022-02-11T07:16:57.258Z"
   },
   {
    "duration": 26,
    "start_time": "2022-02-11T07:16:57.282Z"
   },
   {
    "duration": 45,
    "start_time": "2022-02-11T07:16:57.310Z"
   },
   {
    "duration": 37,
    "start_time": "2022-02-11T07:16:57.356Z"
   },
   {
    "duration": 4,
    "start_time": "2022-02-11T07:16:57.394Z"
   },
   {
    "duration": 7,
    "start_time": "2022-02-11T07:16:57.399Z"
   },
   {
    "duration": 11,
    "start_time": "2022-02-11T07:16:57.408Z"
   },
   {
    "duration": 9,
    "start_time": "2022-02-11T07:16:57.420Z"
   },
   {
    "duration": 20,
    "start_time": "2022-02-11T07:16:57.432Z"
   },
   {
    "duration": 5,
    "start_time": "2022-02-11T07:16:57.454Z"
   },
   {
    "duration": 6,
    "start_time": "2022-02-11T07:16:57.461Z"
   },
   {
    "duration": 20,
    "start_time": "2022-02-11T07:16:57.468Z"
   },
   {
    "duration": 38,
    "start_time": "2022-02-11T07:16:57.489Z"
   },
   {
    "duration": 3,
    "start_time": "2022-02-11T07:16:57.528Z"
   },
   {
    "duration": 269,
    "start_time": "2022-02-11T07:16:57.532Z"
   },
   {
    "duration": 17,
    "start_time": "2022-02-11T07:16:57.803Z"
   },
   {
    "duration": 24,
    "start_time": "2022-02-11T07:16:57.821Z"
   },
   {
    "duration": 6,
    "start_time": "2022-02-11T07:16:57.847Z"
   },
   {
    "duration": 116,
    "start_time": "2022-02-11T07:16:57.855Z"
   },
   {
    "duration": 66,
    "start_time": "2022-02-11T07:16:57.972Z"
   },
   {
    "duration": 6,
    "start_time": "2022-02-11T07:16:58.039Z"
   },
   {
    "duration": 4,
    "start_time": "2022-02-11T07:16:58.047Z"
   },
   {
    "duration": 54,
    "start_time": "2022-02-11T07:16:58.053Z"
   },
   {
    "duration": 28,
    "start_time": "2022-02-11T07:16:58.109Z"
   },
   {
    "duration": 5,
    "start_time": "2022-02-11T07:16:58.138Z"
   },
   {
    "duration": 7,
    "start_time": "2022-02-11T07:16:58.144Z"
   },
   {
    "duration": 8,
    "start_time": "2022-02-11T07:16:58.153Z"
   },
   {
    "duration": 9,
    "start_time": "2022-02-11T07:16:58.162Z"
   },
   {
    "duration": 411,
    "start_time": "2022-02-11T07:16:58.172Z"
   },
   {
    "duration": 9,
    "start_time": "2022-02-11T07:16:58.584Z"
   },
   {
    "duration": 33,
    "start_time": "2022-02-11T07:16:58.595Z"
   },
   {
    "duration": 888,
    "start_time": "2022-02-11T07:16:58.630Z"
   },
   {
    "duration": 8,
    "start_time": "2022-02-11T07:16:59.520Z"
   },
   {
    "duration": 17,
    "start_time": "2022-02-11T07:16:59.530Z"
   },
   {
    "duration": 167,
    "start_time": "2022-02-11T07:16:59.548Z"
   },
   {
    "duration": 16,
    "start_time": "2022-02-11T07:16:59.717Z"
   },
   {
    "duration": 435,
    "start_time": "2022-02-11T07:16:59.734Z"
   },
   {
    "duration": -19,
    "start_time": "2022-02-11T07:17:00.190Z"
   },
   {
    "duration": -27,
    "start_time": "2022-02-11T07:17:00.199Z"
   },
   {
    "duration": -34,
    "start_time": "2022-02-11T07:17:00.206Z"
   },
   {
    "duration": -38,
    "start_time": "2022-02-11T07:17:00.211Z"
   },
   {
    "duration": -42,
    "start_time": "2022-02-11T07:17:00.216Z"
   },
   {
    "duration": -46,
    "start_time": "2022-02-11T07:17:00.221Z"
   },
   {
    "duration": -50,
    "start_time": "2022-02-11T07:17:00.226Z"
   },
   {
    "duration": -53,
    "start_time": "2022-02-11T07:17:00.231Z"
   },
   {
    "duration": -57,
    "start_time": "2022-02-11T07:17:00.236Z"
   },
   {
    "duration": -64,
    "start_time": "2022-02-11T07:17:00.244Z"
   },
   {
    "duration": 15,
    "start_time": "2022-02-11T07:17:59.791Z"
   },
   {
    "duration": 22,
    "start_time": "2022-02-11T07:18:38.278Z"
   },
   {
    "duration": 6,
    "start_time": "2022-02-11T07:18:52.134Z"
   },
   {
    "duration": 5,
    "start_time": "2022-02-11T07:19:08.927Z"
   },
   {
    "duration": 478,
    "start_time": "2022-02-11T07:19:12.697Z"
   },
   {
    "duration": 123,
    "start_time": "2022-02-11T07:19:16.015Z"
   },
   {
    "duration": 130,
    "start_time": "2022-02-11T08:12:32.301Z"
   },
   {
    "duration": 244,
    "start_time": "2022-02-11T08:12:44.958Z"
   },
   {
    "duration": 119,
    "start_time": "2022-02-11T08:13:03.983Z"
   },
   {
    "duration": 128,
    "start_time": "2022-02-11T08:13:08.172Z"
   },
   {
    "duration": 123,
    "start_time": "2022-02-11T08:13:47.470Z"
   },
   {
    "duration": 258,
    "start_time": "2022-02-11T08:13:52.031Z"
   },
   {
    "duration": 94,
    "start_time": "2022-02-11T08:15:42.688Z"
   },
   {
    "duration": 95,
    "start_time": "2022-02-11T08:15:48.798Z"
   },
   {
    "duration": 172,
    "start_time": "2022-02-11T08:16:02.463Z"
   },
   {
    "duration": 128,
    "start_time": "2022-02-11T08:16:07.838Z"
   },
   {
    "duration": 290,
    "start_time": "2022-02-11T08:45:46.581Z"
   },
   {
    "duration": 138,
    "start_time": "2022-02-11T08:45:57.942Z"
   },
   {
    "duration": 132,
    "start_time": "2022-02-11T08:46:09.478Z"
   },
   {
    "duration": 116,
    "start_time": "2022-02-11T08:46:31.269Z"
   },
   {
    "duration": 127,
    "start_time": "2022-02-11T08:46:37.173Z"
   },
   {
    "duration": 319,
    "start_time": "2022-02-11T08:48:02.551Z"
   },
   {
    "duration": 127,
    "start_time": "2022-02-11T09:04:49.341Z"
   },
   {
    "duration": 125,
    "start_time": "2022-02-11T09:05:21.235Z"
   },
   {
    "duration": 423,
    "start_time": "2022-02-11T09:27:06.835Z"
   },
   {
    "duration": 347,
    "start_time": "2022-02-11T09:27:26.865Z"
   },
   {
    "duration": 331,
    "start_time": "2022-02-11T09:27:51.698Z"
   },
   {
    "duration": 319,
    "start_time": "2022-02-11T09:27:59.809Z"
   },
   {
    "duration": 335,
    "start_time": "2022-02-11T09:28:34.531Z"
   },
   {
    "duration": 462,
    "start_time": "2022-02-11T09:33:26.613Z"
   },
   {
    "duration": 1390,
    "start_time": "2022-02-11T09:36:45.736Z"
   },
   {
    "duration": 555,
    "start_time": "2022-02-11T09:36:55.800Z"
   },
   {
    "duration": 454,
    "start_time": "2022-02-11T09:37:07.192Z"
   },
   {
    "duration": 583,
    "start_time": "2022-02-11T09:37:21.049Z"
   },
   {
    "duration": 115,
    "start_time": "2022-02-11T09:44:04.576Z"
   },
   {
    "duration": 344,
    "start_time": "2022-02-11T09:44:10.925Z"
   },
   {
    "duration": 324,
    "start_time": "2022-02-11T09:44:15.340Z"
   },
   {
    "duration": 117,
    "start_time": "2022-02-11T09:44:36.463Z"
   },
   {
    "duration": 315,
    "start_time": "2022-02-11T11:13:33.549Z"
   },
   {
    "duration": 305,
    "start_time": "2022-02-11T11:13:38.045Z"
   },
   {
    "duration": 310,
    "start_time": "2022-02-11T11:14:16.111Z"
   },
   {
    "duration": 7,
    "start_time": "2022-02-11T11:14:31.759Z"
   },
   {
    "duration": 313,
    "start_time": "2022-02-11T11:14:46.686Z"
   },
   {
    "duration": 345,
    "start_time": "2022-02-11T11:14:51.981Z"
   },
   {
    "duration": 303,
    "start_time": "2022-02-11T11:14:58.656Z"
   },
   {
    "duration": 377,
    "start_time": "2022-02-11T11:15:06.095Z"
   },
   {
    "duration": 367,
    "start_time": "2022-02-11T11:15:23.086Z"
   },
   {
    "duration": 322,
    "start_time": "2022-02-11T11:15:35.759Z"
   },
   {
    "duration": 358,
    "start_time": "2022-02-11T11:16:09.456Z"
   },
   {
    "duration": 353,
    "start_time": "2022-02-11T11:16:48.928Z"
   },
   {
    "duration": 113,
    "start_time": "2022-02-11T11:17:21.296Z"
   },
   {
    "duration": 317,
    "start_time": "2022-02-11T11:17:23.696Z"
   },
   {
    "duration": 355,
    "start_time": "2022-02-11T11:17:54.757Z"
   },
   {
    "duration": 322,
    "start_time": "2022-02-11T11:18:13.232Z"
   },
   {
    "duration": 301,
    "start_time": "2022-02-11T11:18:24.817Z"
   },
   {
    "duration": 329,
    "start_time": "2022-02-11T11:19:31.459Z"
   },
   {
    "duration": 32,
    "start_time": "2022-02-11T11:20:00.434Z"
   },
   {
    "duration": 353,
    "start_time": "2022-02-11T11:20:57.107Z"
   },
   {
    "duration": 328,
    "start_time": "2022-02-11T11:21:09.440Z"
   },
   {
    "duration": 346,
    "start_time": "2022-02-11T13:30:42.127Z"
   },
   {
    "duration": 314,
    "start_time": "2022-02-11T13:30:54.014Z"
   },
   {
    "duration": 318,
    "start_time": "2022-02-11T13:30:59.582Z"
   },
   {
    "duration": 274,
    "start_time": "2022-02-11T13:31:04.031Z"
   },
   {
    "duration": 6,
    "start_time": "2022-02-11T13:31:32.401Z"
   },
   {
    "duration": 285,
    "start_time": "2022-02-11T13:32:09.551Z"
   },
   {
    "duration": 7,
    "start_time": "2022-02-11T13:33:48.721Z"
   },
   {
    "duration": 318,
    "start_time": "2022-02-11T13:34:51.682Z"
   },
   {
    "duration": 1070,
    "start_time": "2022-02-11T13:35:02.914Z"
   },
   {
    "duration": 350,
    "start_time": "2022-02-11T13:35:28.546Z"
   },
   {
    "duration": 506,
    "start_time": "2022-02-11T13:35:50.675Z"
   },
   {
    "duration": 575,
    "start_time": "2022-02-11T13:36:34.659Z"
   },
   {
    "duration": 117,
    "start_time": "2022-02-11T13:37:06.691Z"
   },
   {
    "duration": 333,
    "start_time": "2022-02-11T13:44:31.241Z"
   },
   {
    "duration": 267,
    "start_time": "2022-02-11T13:44:41.464Z"
   },
   {
    "duration": 394,
    "start_time": "2022-02-11T13:44:49.628Z"
   },
   {
    "duration": 294,
    "start_time": "2022-02-11T13:44:52.520Z"
   },
   {
    "duration": 310,
    "start_time": "2022-02-11T13:47:41.179Z"
   },
   {
    "duration": 333,
    "start_time": "2022-02-11T13:47:57.883Z"
   },
   {
    "duration": 272425,
    "start_time": "2022-02-12T15:59:36.886Z"
   },
   {
    "duration": 783,
    "start_time": "2022-02-12T16:04:09.315Z"
   },
   {
    "duration": -1743,
    "start_time": "2022-02-12T16:04:11.851Z"
   },
   {
    "duration": -1753,
    "start_time": "2022-02-12T16:04:11.864Z"
   },
   {
    "duration": -1758,
    "start_time": "2022-02-12T16:04:11.871Z"
   },
   {
    "duration": -1770,
    "start_time": "2022-02-12T16:04:11.885Z"
   },
   {
    "duration": -1775,
    "start_time": "2022-02-12T16:04:11.892Z"
   },
   {
    "duration": -1779,
    "start_time": "2022-02-12T16:04:11.899Z"
   },
   {
    "duration": -1779,
    "start_time": "2022-02-12T16:04:11.901Z"
   },
   {
    "duration": -1780,
    "start_time": "2022-02-12T16:04:11.904Z"
   },
   {
    "duration": -1781,
    "start_time": "2022-02-12T16:04:11.907Z"
   },
   {
    "duration": -1781,
    "start_time": "2022-02-12T16:04:11.909Z"
   },
   {
    "duration": -1781,
    "start_time": "2022-02-12T16:04:11.911Z"
   },
   {
    "duration": -1782,
    "start_time": "2022-02-12T16:04:11.914Z"
   },
   {
    "duration": -1788,
    "start_time": "2022-02-12T16:04:11.923Z"
   },
   {
    "duration": -1801,
    "start_time": "2022-02-12T16:04:11.938Z"
   },
   {
    "duration": -1808,
    "start_time": "2022-02-12T16:04:11.947Z"
   },
   {
    "duration": -1813,
    "start_time": "2022-02-12T16:04:11.954Z"
   },
   {
    "duration": -1813,
    "start_time": "2022-02-12T16:04:11.956Z"
   },
   {
    "duration": -1813,
    "start_time": "2022-02-12T16:04:11.958Z"
   },
   {
    "duration": -1813,
    "start_time": "2022-02-12T16:04:11.960Z"
   },
   {
    "duration": -1814,
    "start_time": "2022-02-12T16:04:11.963Z"
   },
   {
    "duration": -1814,
    "start_time": "2022-02-12T16:04:11.965Z"
   },
   {
    "duration": -1815,
    "start_time": "2022-02-12T16:04:11.968Z"
   },
   {
    "duration": -1821,
    "start_time": "2022-02-12T16:04:11.976Z"
   },
   {
    "duration": -1825,
    "start_time": "2022-02-12T16:04:11.982Z"
   },
   {
    "duration": -1825,
    "start_time": "2022-02-12T16:04:11.984Z"
   },
   {
    "duration": -1825,
    "start_time": "2022-02-12T16:04:11.986Z"
   },
   {
    "duration": -1826,
    "start_time": "2022-02-12T16:04:11.989Z"
   },
   {
    "duration": -1829,
    "start_time": "2022-02-12T16:04:11.994Z"
   },
   {
    "duration": -1833,
    "start_time": "2022-02-12T16:04:12.000Z"
   },
   {
    "duration": -1782,
    "start_time": "2022-02-12T16:04:12.004Z"
   },
   {
    "duration": -1783,
    "start_time": "2022-02-12T16:04:12.008Z"
   },
   {
    "duration": -1783,
    "start_time": "2022-02-12T16:04:12.011Z"
   },
   {
    "duration": -1796,
    "start_time": "2022-02-12T16:04:12.026Z"
   },
   {
    "duration": -1797,
    "start_time": "2022-02-12T16:04:12.029Z"
   },
   {
    "duration": -1797,
    "start_time": "2022-02-12T16:04:12.031Z"
   },
   {
    "duration": -1807,
    "start_time": "2022-02-12T16:04:12.043Z"
   },
   {
    "duration": -1807,
    "start_time": "2022-02-12T16:04:12.045Z"
   },
   {
    "duration": -1807,
    "start_time": "2022-02-12T16:04:12.047Z"
   },
   {
    "duration": -1815,
    "start_time": "2022-02-12T16:04:12.057Z"
   },
   {
    "duration": -1816,
    "start_time": "2022-02-12T16:04:12.060Z"
   },
   {
    "duration": -1943,
    "start_time": "2022-02-12T16:04:12.189Z"
   },
   {
    "duration": -1949,
    "start_time": "2022-02-12T16:04:12.197Z"
   },
   {
    "duration": -1949,
    "start_time": "2022-02-12T16:04:12.199Z"
   },
   {
    "duration": -1948,
    "start_time": "2022-02-12T16:04:12.201Z"
   },
   {
    "duration": -1949,
    "start_time": "2022-02-12T16:04:12.204Z"
   },
   {
    "duration": -1965,
    "start_time": "2022-02-12T16:04:12.222Z"
   },
   {
    "duration": -1965,
    "start_time": "2022-02-12T16:04:12.224Z"
   },
   {
    "duration": -1966,
    "start_time": "2022-02-12T16:04:12.227Z"
   },
   {
    "duration": -1966,
    "start_time": "2022-02-12T16:04:12.229Z"
   },
   {
    "duration": -1906,
    "start_time": "2022-02-12T16:04:12.232Z"
   },
   {
    "duration": -1916,
    "start_time": "2022-02-12T16:04:12.244Z"
   },
   {
    "duration": -1916,
    "start_time": "2022-02-12T16:04:12.247Z"
   },
   {
    "duration": -1916,
    "start_time": "2022-02-12T16:04:12.249Z"
   },
   {
    "duration": -1916,
    "start_time": "2022-02-12T16:04:12.251Z"
   },
   {
    "duration": -1919,
    "start_time": "2022-02-12T16:04:12.257Z"
   },
   {
    "duration": -2000,
    "start_time": "2022-02-12T16:04:12.340Z"
   },
   {
    "duration": -2017,
    "start_time": "2022-02-12T16:04:12.359Z"
   },
   {
    "duration": -2024,
    "start_time": "2022-02-12T16:04:12.368Z"
   },
   {
    "duration": -2025,
    "start_time": "2022-02-12T16:04:12.371Z"
   },
   {
    "duration": -2025,
    "start_time": "2022-02-12T16:04:12.373Z"
   },
   {
    "duration": -2025,
    "start_time": "2022-02-12T16:04:12.375Z"
   },
   {
    "duration": -2025,
    "start_time": "2022-02-12T16:04:12.377Z"
   },
   {
    "duration": -2025,
    "start_time": "2022-02-12T16:04:12.379Z"
   },
   {
    "duration": 2,
    "start_time": "2022-02-12T17:04:21.128Z"
   },
   {
    "duration": 1390,
    "start_time": "2022-02-12T17:04:21.132Z"
   },
   {
    "duration": 999,
    "start_time": "2022-02-12T17:04:22.524Z"
   },
   {
    "duration": 8,
    "start_time": "2022-02-12T17:04:23.525Z"
   },
   {
    "duration": 4,
    "start_time": "2022-02-12T17:04:23.535Z"
   },
   {
    "duration": 3,
    "start_time": "2022-02-12T17:04:23.540Z"
   },
   {
    "duration": 3,
    "start_time": "2022-02-12T17:04:23.545Z"
   },
   {
    "duration": 969,
    "start_time": "2022-02-12T17:04:23.551Z"
   },
   {
    "duration": 13,
    "start_time": "2022-02-12T17:04:24.522Z"
   },
   {
    "duration": 3,
    "start_time": "2022-02-12T17:04:24.536Z"
   },
   {
    "duration": 96,
    "start_time": "2022-02-12T17:04:24.540Z"
   },
   {
    "duration": 4,
    "start_time": "2022-02-12T17:04:24.638Z"
   },
   {
    "duration": 5,
    "start_time": "2022-02-12T17:04:24.644Z"
   },
   {
    "duration": 445,
    "start_time": "2022-02-12T17:04:24.651Z"
   },
   {
    "duration": 32,
    "start_time": "2022-02-12T17:04:25.098Z"
   },
   {
    "duration": 56,
    "start_time": "2022-02-12T17:04:25.132Z"
   },
   {
    "duration": 57,
    "start_time": "2022-02-12T17:04:25.189Z"
   },
   {
    "duration": 52,
    "start_time": "2022-02-12T17:04:25.248Z"
   },
   {
    "duration": 4,
    "start_time": "2022-02-12T17:04:25.301Z"
   },
   {
    "duration": 8,
    "start_time": "2022-02-12T17:04:25.307Z"
   },
   {
    "duration": 12,
    "start_time": "2022-02-12T17:04:25.316Z"
   },
   {
    "duration": 5,
    "start_time": "2022-02-12T17:04:25.330Z"
   },
   {
    "duration": 56,
    "start_time": "2022-02-12T17:04:25.338Z"
   },
   {
    "duration": 8,
    "start_time": "2022-02-12T17:04:25.396Z"
   },
   {
    "duration": 7,
    "start_time": "2022-02-12T17:04:25.406Z"
   },
   {
    "duration": 25,
    "start_time": "2022-02-12T17:04:25.415Z"
   },
   {
    "duration": 60,
    "start_time": "2022-02-12T17:04:25.442Z"
   },
   {
    "duration": 4,
    "start_time": "2022-02-12T17:04:25.504Z"
   },
   {
    "duration": 663,
    "start_time": "2022-02-12T17:04:25.509Z"
   },
   {
    "duration": -725,
    "start_time": "2022-02-12T17:04:26.899Z"
   },
   {
    "duration": -733,
    "start_time": "2022-02-12T17:04:26.908Z"
   },
   {
    "duration": -740,
    "start_time": "2022-02-12T17:04:26.916Z"
   },
   {
    "duration": -746,
    "start_time": "2022-02-12T17:04:26.923Z"
   },
   {
    "duration": -752,
    "start_time": "2022-02-12T17:04:26.930Z"
   },
   {
    "duration": -760,
    "start_time": "2022-02-12T17:04:26.939Z"
   },
   {
    "duration": -768,
    "start_time": "2022-02-12T17:04:26.947Z"
   },
   {
    "duration": -775,
    "start_time": "2022-02-12T17:04:26.955Z"
   },
   {
    "duration": -781,
    "start_time": "2022-02-12T17:04:26.962Z"
   },
   {
    "duration": -789,
    "start_time": "2022-02-12T17:04:26.971Z"
   },
   {
    "duration": -794,
    "start_time": "2022-02-12T17:04:26.977Z"
   },
   {
    "duration": -802,
    "start_time": "2022-02-12T17:04:26.986Z"
   },
   {
    "duration": -807,
    "start_time": "2022-02-12T17:04:26.992Z"
   },
   {
    "duration": -814,
    "start_time": "2022-02-12T17:04:27.000Z"
   },
   {
    "duration": -820,
    "start_time": "2022-02-12T17:04:27.007Z"
   },
   {
    "duration": -826,
    "start_time": "2022-02-12T17:04:27.014Z"
   },
   {
    "duration": -834,
    "start_time": "2022-02-12T17:04:27.023Z"
   },
   {
    "duration": -839,
    "start_time": "2022-02-12T17:04:27.030Z"
   },
   {
    "duration": -847,
    "start_time": "2022-02-12T17:04:27.039Z"
   },
   {
    "duration": -854,
    "start_time": "2022-02-12T17:04:27.047Z"
   },
   {
    "duration": -863,
    "start_time": "2022-02-12T17:04:27.056Z"
   },
   {
    "duration": -868,
    "start_time": "2022-02-12T17:04:27.062Z"
   },
   {
    "duration": -875,
    "start_time": "2022-02-12T17:04:27.070Z"
   },
   {
    "duration": -881,
    "start_time": "2022-02-12T17:04:27.077Z"
   },
   {
    "duration": -889,
    "start_time": "2022-02-12T17:04:27.086Z"
   },
   {
    "duration": -895,
    "start_time": "2022-02-12T17:04:27.093Z"
   },
   {
    "duration": -904,
    "start_time": "2022-02-12T17:04:27.102Z"
   },
   {
    "duration": -910,
    "start_time": "2022-02-12T17:04:27.109Z"
   },
   {
    "duration": -918,
    "start_time": "2022-02-12T17:04:27.118Z"
   },
   {
    "duration": -923,
    "start_time": "2022-02-12T17:04:27.124Z"
   },
   {
    "duration": -932,
    "start_time": "2022-02-12T17:04:27.133Z"
   },
   {
    "duration": -938,
    "start_time": "2022-02-12T17:04:27.140Z"
   },
   {
    "duration": -943,
    "start_time": "2022-02-12T17:04:27.146Z"
   },
   {
    "duration": -952,
    "start_time": "2022-02-12T17:04:27.156Z"
   },
   {
    "duration": -959,
    "start_time": "2022-02-12T17:04:27.163Z"
   },
   {
    "duration": -967,
    "start_time": "2022-02-12T17:04:27.172Z"
   },
   {
    "duration": -973,
    "start_time": "2022-02-12T17:04:27.179Z"
   },
   {
    "duration": -984,
    "start_time": "2022-02-12T17:04:27.191Z"
   },
   {
    "duration": -993,
    "start_time": "2022-02-12T17:04:27.201Z"
   },
   {
    "duration": -999,
    "start_time": "2022-02-12T17:04:27.208Z"
   },
   {
    "duration": -1010,
    "start_time": "2022-02-12T17:04:27.219Z"
   },
   {
    "duration": 3,
    "start_time": "2022-02-12T17:10:46.086Z"
   },
   {
    "duration": 1411,
    "start_time": "2022-02-12T17:10:46.091Z"
   },
   {
    "duration": 936,
    "start_time": "2022-02-12T17:10:47.505Z"
   },
   {
    "duration": 9,
    "start_time": "2022-02-12T17:10:48.443Z"
   },
   {
    "duration": 5,
    "start_time": "2022-02-12T17:10:48.454Z"
   },
   {
    "duration": 4,
    "start_time": "2022-02-12T17:10:48.460Z"
   },
   {
    "duration": 4,
    "start_time": "2022-02-12T17:10:48.465Z"
   },
   {
    "duration": 987,
    "start_time": "2022-02-12T17:10:48.472Z"
   },
   {
    "duration": 14,
    "start_time": "2022-02-12T17:10:49.461Z"
   },
   {
    "duration": 3,
    "start_time": "2022-02-12T17:10:49.476Z"
   },
   {
    "duration": 113,
    "start_time": "2022-02-12T17:10:49.480Z"
   },
   {
    "duration": 4,
    "start_time": "2022-02-12T17:10:49.595Z"
   },
   {
    "duration": 6,
    "start_time": "2022-02-12T17:10:49.601Z"
   },
   {
    "duration": 407,
    "start_time": "2022-02-12T17:10:49.608Z"
   },
   {
    "duration": 33,
    "start_time": "2022-02-12T17:10:50.016Z"
   },
   {
    "duration": 50,
    "start_time": "2022-02-12T17:10:50.051Z"
   },
   {
    "duration": 53,
    "start_time": "2022-02-12T17:10:50.103Z"
   },
   {
    "duration": 49,
    "start_time": "2022-02-12T17:10:50.158Z"
   },
   {
    "duration": 4,
    "start_time": "2022-02-12T17:10:50.208Z"
   },
   {
    "duration": 8,
    "start_time": "2022-02-12T17:10:50.213Z"
   },
   {
    "duration": 12,
    "start_time": "2022-02-12T17:10:50.223Z"
   },
   {
    "duration": 5,
    "start_time": "2022-02-12T17:10:50.237Z"
   },
   {
    "duration": 22,
    "start_time": "2022-02-12T17:10:50.273Z"
   },
   {
    "duration": 7,
    "start_time": "2022-02-12T17:10:50.297Z"
   },
   {
    "duration": 7,
    "start_time": "2022-02-12T17:10:50.305Z"
   },
   {
    "duration": 24,
    "start_time": "2022-02-12T17:10:50.313Z"
   },
   {
    "duration": 63,
    "start_time": "2022-02-12T17:10:50.338Z"
   },
   {
    "duration": 3,
    "start_time": "2022-02-12T17:10:50.403Z"
   },
   {
    "duration": 648,
    "start_time": "2022-02-12T17:10:50.407Z"
   },
   {
    "duration": -864,
    "start_time": "2022-02-12T17:10:51.921Z"
   },
   {
    "duration": -878,
    "start_time": "2022-02-12T17:10:51.936Z"
   },
   {
    "duration": -888,
    "start_time": "2022-02-12T17:10:51.946Z"
   },
   {
    "duration": -930,
    "start_time": "2022-02-12T17:10:51.989Z"
   },
   {
    "duration": -1019,
    "start_time": "2022-02-12T17:10:52.079Z"
   },
   {
    "duration": -1015,
    "start_time": "2022-02-12T17:10:52.086Z"
   },
   {
    "duration": -1023,
    "start_time": "2022-02-12T17:10:52.095Z"
   },
   {
    "duration": -1030,
    "start_time": "2022-02-12T17:10:52.103Z"
   },
   {
    "duration": -1039,
    "start_time": "2022-02-12T17:10:52.113Z"
   },
   {
    "duration": -1046,
    "start_time": "2022-02-12T17:10:52.121Z"
   },
   {
    "duration": -1055,
    "start_time": "2022-02-12T17:10:52.131Z"
   },
   {
    "duration": -1061,
    "start_time": "2022-02-12T17:10:52.138Z"
   },
   {
    "duration": -1069,
    "start_time": "2022-02-12T17:10:52.147Z"
   },
   {
    "duration": -1075,
    "start_time": "2022-02-12T17:10:52.154Z"
   },
   {
    "duration": -1082,
    "start_time": "2022-02-12T17:10:52.162Z"
   },
   {
    "duration": -1088,
    "start_time": "2022-02-12T17:10:52.169Z"
   },
   {
    "duration": -1131,
    "start_time": "2022-02-12T17:10:52.213Z"
   },
   {
    "duration": -1137,
    "start_time": "2022-02-12T17:10:52.220Z"
   },
   {
    "duration": -1147,
    "start_time": "2022-02-12T17:10:52.230Z"
   },
   {
    "duration": -1153,
    "start_time": "2022-02-12T17:10:52.237Z"
   },
   {
    "duration": -1160,
    "start_time": "2022-02-12T17:10:52.245Z"
   },
   {
    "duration": -1168,
    "start_time": "2022-02-12T17:10:52.254Z"
   },
   {
    "duration": -1176,
    "start_time": "2022-02-12T17:10:52.263Z"
   },
   {
    "duration": -1182,
    "start_time": "2022-02-12T17:10:52.270Z"
   },
   {
    "duration": -1189,
    "start_time": "2022-02-12T17:10:52.278Z"
   },
   {
    "duration": -1195,
    "start_time": "2022-02-12T17:10:52.285Z"
   },
   {
    "duration": -1203,
    "start_time": "2022-02-12T17:10:52.293Z"
   },
   {
    "duration": -1209,
    "start_time": "2022-02-12T17:10:52.300Z"
   },
   {
    "duration": -1216,
    "start_time": "2022-02-12T17:10:52.309Z"
   },
   {
    "duration": -1221,
    "start_time": "2022-02-12T17:10:52.315Z"
   },
   {
    "duration": -1226,
    "start_time": "2022-02-12T17:10:52.321Z"
   },
   {
    "duration": -1238,
    "start_time": "2022-02-12T17:10:52.333Z"
   },
   {
    "duration": -1247,
    "start_time": "2022-02-12T17:10:52.343Z"
   },
   {
    "duration": -1265,
    "start_time": "2022-02-12T17:10:52.362Z"
   },
   {
    "duration": -1274,
    "start_time": "2022-02-12T17:10:52.372Z"
   },
   {
    "duration": -1284,
    "start_time": "2022-02-12T17:10:52.383Z"
   },
   {
    "duration": -1294,
    "start_time": "2022-02-12T17:10:52.394Z"
   },
   {
    "duration": -1299,
    "start_time": "2022-02-12T17:10:52.400Z"
   },
   {
    "duration": -1309,
    "start_time": "2022-02-12T17:10:52.411Z"
   },
   {
    "duration": -1315,
    "start_time": "2022-02-12T17:10:52.418Z"
   },
   {
    "duration": -1322,
    "start_time": "2022-02-12T17:10:52.426Z"
   },
   {
    "duration": 22556,
    "start_time": "2022-02-12T17:12:35.288Z"
   },
   {
    "duration": 2019,
    "start_time": "2022-02-12T17:12:57.846Z"
   },
   {
    "duration": 902,
    "start_time": "2022-02-12T17:12:59.868Z"
   },
   {
    "duration": 9,
    "start_time": "2022-02-12T17:13:00.772Z"
   },
   {
    "duration": 10,
    "start_time": "2022-02-12T17:13:00.783Z"
   },
   {
    "duration": 6,
    "start_time": "2022-02-12T17:13:00.794Z"
   },
   {
    "duration": 10,
    "start_time": "2022-02-12T17:13:00.801Z"
   },
   {
    "duration": 971,
    "start_time": "2022-02-12T17:13:00.813Z"
   },
   {
    "duration": 18,
    "start_time": "2022-02-12T17:13:01.786Z"
   },
   {
    "duration": 3,
    "start_time": "2022-02-12T17:13:01.805Z"
   },
   {
    "duration": 78,
    "start_time": "2022-02-12T17:13:01.810Z"
   },
   {
    "duration": 6,
    "start_time": "2022-02-12T17:13:01.889Z"
   },
   {
    "duration": 8,
    "start_time": "2022-02-12T17:13:01.896Z"
   },
   {
    "duration": 399,
    "start_time": "2022-02-12T17:13:01.905Z"
   },
   {
    "duration": 26,
    "start_time": "2022-02-12T17:13:02.306Z"
   },
   {
    "duration": 25,
    "start_time": "2022-02-12T17:13:02.334Z"
   },
   {
    "duration": 38,
    "start_time": "2022-02-12T17:13:02.372Z"
   },
   {
    "duration": 32,
    "start_time": "2022-02-12T17:13:02.411Z"
   },
   {
    "duration": 4,
    "start_time": "2022-02-12T17:13:02.444Z"
   },
   {
    "duration": 28,
    "start_time": "2022-02-12T17:13:02.449Z"
   },
   {
    "duration": 12,
    "start_time": "2022-02-12T17:13:02.479Z"
   },
   {
    "duration": 6,
    "start_time": "2022-02-12T17:13:02.493Z"
   },
   {
    "duration": 21,
    "start_time": "2022-02-12T17:13:02.503Z"
   },
   {
    "duration": 5,
    "start_time": "2022-02-12T17:13:02.527Z"
   },
   {
    "duration": 5,
    "start_time": "2022-02-12T17:13:02.534Z"
   },
   {
    "duration": 18,
    "start_time": "2022-02-12T17:13:02.572Z"
   },
   {
    "duration": 34,
    "start_time": "2022-02-12T17:13:02.591Z"
   },
   {
    "duration": 4,
    "start_time": "2022-02-12T17:13:02.626Z"
   },
   {
    "duration": 328,
    "start_time": "2022-02-12T17:13:02.632Z"
   },
   {
    "duration": 22,
    "start_time": "2022-02-12T17:13:02.962Z"
   },
   {
    "duration": 21,
    "start_time": "2022-02-12T17:13:02.985Z"
   },
   {
    "duration": 5,
    "start_time": "2022-02-12T17:13:03.008Z"
   },
   {
    "duration": 78,
    "start_time": "2022-02-12T17:13:03.015Z"
   },
   {
    "duration": 5,
    "start_time": "2022-02-12T17:13:03.095Z"
   },
   {
    "duration": 120,
    "start_time": "2022-02-12T17:13:03.102Z"
   },
   {
    "duration": 71,
    "start_time": "2022-02-12T17:13:03.224Z"
   },
   {
    "duration": 6,
    "start_time": "2022-02-12T17:13:03.297Z"
   },
   {
    "duration": 5,
    "start_time": "2022-02-12T17:13:03.304Z"
   },
   {
    "duration": 76,
    "start_time": "2022-02-12T17:13:03.311Z"
   },
   {
    "duration": 24,
    "start_time": "2022-02-12T17:13:03.388Z"
   },
   {
    "duration": 4,
    "start_time": "2022-02-12T17:13:03.414Z"
   },
   {
    "duration": 4,
    "start_time": "2022-02-12T17:13:03.420Z"
   },
   {
    "duration": 6,
    "start_time": "2022-02-12T17:13:03.426Z"
   },
   {
    "duration": 37,
    "start_time": "2022-02-12T17:13:03.434Z"
   },
   {
    "duration": 6,
    "start_time": "2022-02-12T17:13:03.473Z"
   },
   {
    "duration": 8,
    "start_time": "2022-02-12T17:13:03.481Z"
   },
   {
    "duration": 10,
    "start_time": "2022-02-12T17:13:03.491Z"
   },
   {
    "duration": 373,
    "start_time": "2022-02-12T17:13:03.503Z"
   },
   {
    "duration": 514,
    "start_time": "2022-02-12T17:13:03.877Z"
   },
   {
    "duration": 10,
    "start_time": "2022-02-12T17:13:04.392Z"
   },
   {
    "duration": 10,
    "start_time": "2022-02-12T17:13:04.404Z"
   },
   {
    "duration": 4,
    "start_time": "2022-02-12T17:13:04.416Z"
   },
   {
    "duration": 845,
    "start_time": "2022-02-12T17:13:04.422Z"
   },
   {
    "duration": 11,
    "start_time": "2022-02-12T17:13:05.268Z"
   },
   {
    "duration": 14,
    "start_time": "2022-02-12T17:13:05.280Z"
   },
   {
    "duration": 306,
    "start_time": "2022-02-12T17:13:05.296Z"
   },
   {
    "duration": 11,
    "start_time": "2022-02-12T17:13:05.604Z"
   },
   {
    "duration": 1057,
    "start_time": "2022-02-12T17:13:05.617Z"
   },
   {
    "duration": 18,
    "start_time": "2022-02-12T17:13:06.676Z"
   },
   {
    "duration": 543,
    "start_time": "2022-02-12T17:13:06.695Z"
   },
   {
    "duration": 31,
    "start_time": "2022-02-12T17:13:07.240Z"
   },
   {
    "duration": 138,
    "start_time": "2022-02-12T17:13:07.273Z"
   },
   {
    "duration": 239,
    "start_time": "2022-02-12T17:13:07.412Z"
   },
   {
    "duration": 5,
    "start_time": "2022-02-12T17:13:07.653Z"
   },
   {
    "duration": 24,
    "start_time": "2022-02-12T17:13:07.659Z"
   },
   {
    "duration": 133,
    "start_time": "2022-02-12T17:13:07.685Z"
   },
   {
    "duration": 447,
    "start_time": "2022-02-12T17:13:07.820Z"
   },
   {
    "duration": 382,
    "start_time": "2022-02-12T17:13:08.274Z"
   },
   {
    "duration": 13,
    "start_time": "2022-02-12T17:13:08.658Z"
   },
   {
    "duration": 29,
    "start_time": "2022-02-12T17:13:08.673Z"
   },
   {
    "duration": 4,
    "start_time": "2022-02-12T17:14:25.058Z"
   },
   {
    "duration": 13,
    "start_time": "2022-02-12T17:14:36.668Z"
   },
   {
    "duration": 565,
    "start_time": "2022-02-12T17:16:15.881Z"
   },
   {
    "duration": 327,
    "start_time": "2022-02-12T17:16:32.400Z"
   },
   {
    "duration": 327,
    "start_time": "2022-02-12T17:16:37.059Z"
   },
   {
    "duration": 15,
    "start_time": "2022-02-12T17:17:08.830Z"
   },
   {
    "duration": 10594,
    "start_time": "2022-02-12T17:17:34.044Z"
   },
   {
    "duration": 1835,
    "start_time": "2022-02-12T17:17:44.640Z"
   },
   {
    "duration": 859,
    "start_time": "2022-02-12T17:17:46.477Z"
   },
   {
    "duration": 9,
    "start_time": "2022-02-12T17:17:47.338Z"
   },
   {
    "duration": 6,
    "start_time": "2022-02-12T17:17:47.348Z"
   },
   {
    "duration": 5,
    "start_time": "2022-02-12T17:17:47.356Z"
   },
   {
    "duration": 5,
    "start_time": "2022-02-12T17:17:47.363Z"
   },
   {
    "duration": 959,
    "start_time": "2022-02-12T17:17:47.370Z"
   },
   {
    "duration": 16,
    "start_time": "2022-02-12T17:17:48.331Z"
   },
   {
    "duration": 3,
    "start_time": "2022-02-12T17:17:48.349Z"
   },
   {
    "duration": 84,
    "start_time": "2022-02-12T17:17:48.354Z"
   },
   {
    "duration": 5,
    "start_time": "2022-02-12T17:17:48.439Z"
   },
   {
    "duration": 6,
    "start_time": "2022-02-12T17:17:48.446Z"
   },
   {
    "duration": 389,
    "start_time": "2022-02-12T17:17:48.453Z"
   },
   {
    "duration": 41,
    "start_time": "2022-02-12T17:17:48.843Z"
   },
   {
    "duration": 27,
    "start_time": "2022-02-12T17:17:48.886Z"
   },
   {
    "duration": 39,
    "start_time": "2022-02-12T17:17:48.915Z"
   },
   {
    "duration": 49,
    "start_time": "2022-02-12T17:17:48.956Z"
   },
   {
    "duration": 4,
    "start_time": "2022-02-12T17:17:49.007Z"
   },
   {
    "duration": 9,
    "start_time": "2022-02-12T17:17:49.012Z"
   },
   {
    "duration": 13,
    "start_time": "2022-02-12T17:17:49.022Z"
   },
   {
    "duration": 6,
    "start_time": "2022-02-12T17:17:49.036Z"
   },
   {
    "duration": 22,
    "start_time": "2022-02-12T17:17:49.074Z"
   },
   {
    "duration": 6,
    "start_time": "2022-02-12T17:17:49.098Z"
   },
   {
    "duration": 6,
    "start_time": "2022-02-12T17:17:49.105Z"
   },
   {
    "duration": 19,
    "start_time": "2022-02-12T17:17:49.113Z"
   },
   {
    "duration": 59,
    "start_time": "2022-02-12T17:17:49.133Z"
   },
   {
    "duration": 3,
    "start_time": "2022-02-12T17:17:49.194Z"
   },
   {
    "duration": 246,
    "start_time": "2022-02-12T17:17:49.199Z"
   },
   {
    "duration": 37,
    "start_time": "2022-02-12T17:17:49.447Z"
   },
   {
    "duration": 425,
    "start_time": "2022-02-12T17:17:49.486Z"
   },
   {
    "duration": -633,
    "start_time": "2022-02-12T17:17:50.545Z"
   },
   {
    "duration": -642,
    "start_time": "2022-02-12T17:17:50.555Z"
   },
   {
    "duration": -647,
    "start_time": "2022-02-12T17:17:50.561Z"
   },
   {
    "duration": -656,
    "start_time": "2022-02-12T17:17:50.571Z"
   },
   {
    "duration": -661,
    "start_time": "2022-02-12T17:17:50.577Z"
   },
   {
    "duration": -670,
    "start_time": "2022-02-12T17:17:50.587Z"
   },
   {
    "duration": -674,
    "start_time": "2022-02-12T17:17:50.592Z"
   },
   {
    "duration": -680,
    "start_time": "2022-02-12T17:17:50.599Z"
   },
   {
    "duration": -731,
    "start_time": "2022-02-12T17:17:50.651Z"
   },
   {
    "duration": -739,
    "start_time": "2022-02-12T17:17:50.660Z"
   },
   {
    "duration": -749,
    "start_time": "2022-02-12T17:17:50.671Z"
   },
   {
    "duration": -754,
    "start_time": "2022-02-12T17:17:50.677Z"
   },
   {
    "duration": -765,
    "start_time": "2022-02-12T17:17:50.689Z"
   },
   {
    "duration": -771,
    "start_time": "2022-02-12T17:17:50.696Z"
   },
   {
    "duration": -778,
    "start_time": "2022-02-12T17:17:50.704Z"
   },
   {
    "duration": -783,
    "start_time": "2022-02-12T17:17:50.710Z"
   },
   {
    "duration": -791,
    "start_time": "2022-02-12T17:17:50.719Z"
   },
   {
    "duration": -797,
    "start_time": "2022-02-12T17:17:50.726Z"
   },
   {
    "duration": -805,
    "start_time": "2022-02-12T17:17:50.735Z"
   },
   {
    "duration": -814,
    "start_time": "2022-02-12T17:17:50.745Z"
   },
   {
    "duration": -822,
    "start_time": "2022-02-12T17:17:50.754Z"
   },
   {
    "duration": -827,
    "start_time": "2022-02-12T17:17:50.760Z"
   },
   {
    "duration": -833,
    "start_time": "2022-02-12T17:17:50.767Z"
   },
   {
    "duration": -840,
    "start_time": "2022-02-12T17:17:50.775Z"
   },
   {
    "duration": -847,
    "start_time": "2022-02-12T17:17:50.783Z"
   },
   {
    "duration": -876,
    "start_time": "2022-02-12T17:17:50.813Z"
   },
   {
    "duration": -885,
    "start_time": "2022-02-12T17:17:50.823Z"
   },
   {
    "duration": -891,
    "start_time": "2022-02-12T17:17:50.830Z"
   },
   {
    "duration": -900,
    "start_time": "2022-02-12T17:17:50.840Z"
   },
   {
    "duration": -905,
    "start_time": "2022-02-12T17:17:50.846Z"
   },
   {
    "duration": -914,
    "start_time": "2022-02-12T17:17:50.856Z"
   },
   {
    "duration": -920,
    "start_time": "2022-02-12T17:17:50.863Z"
   },
   {
    "duration": -927,
    "start_time": "2022-02-12T17:17:50.871Z"
   },
   {
    "duration": -932,
    "start_time": "2022-02-12T17:17:50.877Z"
   },
   {
    "duration": -940,
    "start_time": "2022-02-12T17:17:50.886Z"
   },
   {
    "duration": -946,
    "start_time": "2022-02-12T17:17:50.893Z"
   },
   {
    "duration": -951,
    "start_time": "2022-02-12T17:17:50.899Z"
   },
   {
    "duration": -958,
    "start_time": "2022-02-12T17:17:50.907Z"
   },
   {
    "duration": -965,
    "start_time": "2022-02-12T17:17:50.915Z"
   },
   {
    "duration": -973,
    "start_time": "2022-02-12T17:17:50.924Z"
   },
   {
    "duration": -960,
    "start_time": "2022-02-12T17:17:50.931Z"
   },
   {
    "duration": 108,
    "start_time": "2022-02-12T17:20:43.701Z"
   },
   {
    "duration": 21,
    "start_time": "2022-02-12T17:21:04.781Z"
   },
   {
    "duration": 5,
    "start_time": "2022-02-12T17:21:06.402Z"
   },
   {
    "duration": 192,
    "start_time": "2022-02-12T17:22:51.380Z"
   },
   {
    "duration": 4,
    "start_time": "2022-02-12T17:23:10.296Z"
   },
   {
    "duration": 100,
    "start_time": "2022-02-12T17:23:57.544Z"
   },
   {
    "duration": 5,
    "start_time": "2022-02-12T17:24:04.540Z"
   },
   {
    "duration": 4,
    "start_time": "2022-02-12T17:26:44.576Z"
   },
   {
    "duration": 4,
    "start_time": "2022-02-12T17:28:47.626Z"
   },
   {
    "duration": 5,
    "start_time": "2022-02-12T17:28:59.780Z"
   },
   {
    "duration": 4,
    "start_time": "2022-02-12T17:29:25.903Z"
   },
   {
    "duration": 4,
    "start_time": "2022-02-12T17:29:37.284Z"
   },
   {
    "duration": 1229,
    "start_time": "2022-02-12T17:31:00.661Z"
   },
   {
    "duration": 1131,
    "start_time": "2022-02-12T17:31:06.393Z"
   },
   {
    "duration": 160,
    "start_time": "2022-02-12T17:31:28.909Z"
   },
   {
    "duration": 1446,
    "start_time": "2022-02-12T17:31:35.782Z"
   },
   {
    "duration": 1131,
    "start_time": "2022-02-12T17:31:43.600Z"
   },
   {
    "duration": 13,
    "start_time": "2022-02-12T17:32:47.472Z"
   },
   {
    "duration": 13,
    "start_time": "2022-02-12T17:33:17.273Z"
   },
   {
    "duration": 14,
    "start_time": "2022-02-12T17:33:51.619Z"
   },
   {
    "duration": 1135,
    "start_time": "2022-02-12T17:34:14.919Z"
   },
   {
    "duration": 21,
    "start_time": "2022-02-12T17:34:34.416Z"
   },
   {
    "duration": 4,
    "start_time": "2022-02-12T17:35:12.114Z"
   },
   {
    "duration": 4,
    "start_time": "2022-02-12T17:36:26.523Z"
   },
   {
    "duration": 3,
    "start_time": "2022-02-12T17:36:38.728Z"
   },
   {
    "duration": 5,
    "start_time": "2022-02-12T17:36:49.821Z"
   },
   {
    "duration": 5,
    "start_time": "2022-02-12T17:39:37.942Z"
   },
   {
    "duration": 7,
    "start_time": "2022-02-12T17:42:34.804Z"
   },
   {
    "duration": 5,
    "start_time": "2022-02-12T17:44:30.945Z"
   },
   {
    "duration": 6,
    "start_time": "2022-02-12T17:45:01.391Z"
   },
   {
    "duration": 5,
    "start_time": "2022-02-12T17:45:03.862Z"
   },
   {
    "duration": 4,
    "start_time": "2022-02-12T17:48:05.979Z"
   },
   {
    "duration": 5,
    "start_time": "2022-02-12T17:48:14.367Z"
   },
   {
    "duration": 19,
    "start_time": "2022-02-12T17:52:56.027Z"
   },
   {
    "duration": 3,
    "start_time": "2022-02-12T17:53:13.752Z"
   },
   {
    "duration": 1999,
    "start_time": "2022-02-12T17:53:13.757Z"
   },
   {
    "duration": 954,
    "start_time": "2022-02-12T17:53:15.757Z"
   },
   {
    "duration": 8,
    "start_time": "2022-02-12T17:53:16.713Z"
   },
   {
    "duration": 3,
    "start_time": "2022-02-12T17:53:16.723Z"
   },
   {
    "duration": 4,
    "start_time": "2022-02-12T17:53:16.728Z"
   },
   {
    "duration": 5,
    "start_time": "2022-02-12T17:53:16.733Z"
   },
   {
    "duration": 928,
    "start_time": "2022-02-12T17:53:16.739Z"
   },
   {
    "duration": 15,
    "start_time": "2022-02-12T17:53:17.669Z"
   },
   {
    "duration": 3,
    "start_time": "2022-02-12T17:53:17.686Z"
   },
   {
    "duration": 93,
    "start_time": "2022-02-12T17:53:17.690Z"
   },
   {
    "duration": 6,
    "start_time": "2022-02-12T17:53:17.785Z"
   },
   {
    "duration": 7,
    "start_time": "2022-02-12T17:53:17.793Z"
   },
   {
    "duration": 395,
    "start_time": "2022-02-12T17:53:17.801Z"
   },
   {
    "duration": 31,
    "start_time": "2022-02-12T17:53:18.199Z"
   },
   {
    "duration": 45,
    "start_time": "2022-02-12T17:53:18.231Z"
   },
   {
    "duration": 41,
    "start_time": "2022-02-12T17:53:18.277Z"
   },
   {
    "duration": 34,
    "start_time": "2022-02-12T17:53:18.319Z"
   },
   {
    "duration": 4,
    "start_time": "2022-02-12T17:53:18.371Z"
   },
   {
    "duration": 6,
    "start_time": "2022-02-12T17:53:18.377Z"
   },
   {
    "duration": 11,
    "start_time": "2022-02-12T17:53:18.384Z"
   },
   {
    "duration": 6,
    "start_time": "2022-02-12T17:53:18.396Z"
   },
   {
    "duration": 23,
    "start_time": "2022-02-12T17:53:18.403Z"
   },
   {
    "duration": 5,
    "start_time": "2022-02-12T17:53:18.429Z"
   },
   {
    "duration": 36,
    "start_time": "2022-02-12T17:53:18.437Z"
   },
   {
    "duration": 20,
    "start_time": "2022-02-12T17:53:18.474Z"
   },
   {
    "duration": 33,
    "start_time": "2022-02-12T17:53:18.495Z"
   },
   {
    "duration": 3,
    "start_time": "2022-02-12T17:53:18.529Z"
   },
   {
    "duration": 314,
    "start_time": "2022-02-12T17:53:18.533Z"
   },
   {
    "duration": 25,
    "start_time": "2022-02-12T17:53:18.848Z"
   },
   {
    "duration": 21,
    "start_time": "2022-02-12T17:53:18.875Z"
   },
   {
    "duration": 439,
    "start_time": "2022-02-12T17:53:18.897Z"
   },
   {
    "duration": -611,
    "start_time": "2022-02-12T17:53:19.948Z"
   },
   {
    "duration": -618,
    "start_time": "2022-02-12T17:53:19.956Z"
   },
   {
    "duration": -629,
    "start_time": "2022-02-12T17:53:19.968Z"
   },
   {
    "duration": -634,
    "start_time": "2022-02-12T17:53:19.974Z"
   },
   {
    "duration": -644,
    "start_time": "2022-02-12T17:53:19.985Z"
   },
   {
    "duration": -651,
    "start_time": "2022-02-12T17:53:19.993Z"
   },
   {
    "duration": -660,
    "start_time": "2022-02-12T17:53:20.002Z"
   },
   {
    "duration": -670,
    "start_time": "2022-02-12T17:53:20.013Z"
   },
   {
    "duration": -675,
    "start_time": "2022-02-12T17:53:20.019Z"
   },
   {
    "duration": -686,
    "start_time": "2022-02-12T17:53:20.031Z"
   },
   {
    "duration": -692,
    "start_time": "2022-02-12T17:53:20.038Z"
   },
   {
    "duration": -700,
    "start_time": "2022-02-12T17:53:20.047Z"
   },
   {
    "duration": -707,
    "start_time": "2022-02-12T17:53:20.055Z"
   },
   {
    "duration": -717,
    "start_time": "2022-02-12T17:53:20.066Z"
   },
   {
    "duration": -724,
    "start_time": "2022-02-12T17:53:20.073Z"
   },
   {
    "duration": -732,
    "start_time": "2022-02-12T17:53:20.082Z"
   },
   {
    "duration": -770,
    "start_time": "2022-02-12T17:53:20.121Z"
   },
   {
    "duration": -779,
    "start_time": "2022-02-12T17:53:20.131Z"
   },
   {
    "duration": -786,
    "start_time": "2022-02-12T17:53:20.139Z"
   },
   {
    "duration": -796,
    "start_time": "2022-02-12T17:53:20.150Z"
   },
   {
    "duration": -804,
    "start_time": "2022-02-12T17:53:20.158Z"
   },
   {
    "duration": -812,
    "start_time": "2022-02-12T17:53:20.167Z"
   },
   {
    "duration": -820,
    "start_time": "2022-02-12T17:53:20.176Z"
   },
   {
    "duration": -827,
    "start_time": "2022-02-12T17:53:20.184Z"
   },
   {
    "duration": -833,
    "start_time": "2022-02-12T17:53:20.191Z"
   },
   {
    "duration": -844,
    "start_time": "2022-02-12T17:53:20.203Z"
   },
   {
    "duration": -852,
    "start_time": "2022-02-12T17:53:20.212Z"
   },
   {
    "duration": -857,
    "start_time": "2022-02-12T17:53:20.218Z"
   },
   {
    "duration": -864,
    "start_time": "2022-02-12T17:53:20.225Z"
   },
   {
    "duration": -872,
    "start_time": "2022-02-12T17:53:20.235Z"
   },
   {
    "duration": -879,
    "start_time": "2022-02-12T17:53:20.242Z"
   },
   {
    "duration": -887,
    "start_time": "2022-02-12T17:53:20.251Z"
   },
   {
    "duration": -893,
    "start_time": "2022-02-12T17:53:20.258Z"
   },
   {
    "duration": -903,
    "start_time": "2022-02-12T17:53:20.269Z"
   },
   {
    "duration": -915,
    "start_time": "2022-02-12T17:53:20.282Z"
   },
   {
    "duration": -921,
    "start_time": "2022-02-12T17:53:20.289Z"
   },
   {
    "duration": -931,
    "start_time": "2022-02-12T17:53:20.300Z"
   },
   {
    "duration": -937,
    "start_time": "2022-02-12T17:53:20.307Z"
   },
   {
    "duration": -950,
    "start_time": "2022-02-12T17:53:20.320Z"
   },
   {
    "duration": -958,
    "start_time": "2022-02-12T17:53:20.330Z"
   },
   {
    "duration": 120,
    "start_time": "2022-02-12T17:55:04.324Z"
   },
   {
    "duration": 60,
    "start_time": "2022-02-12T17:55:06.125Z"
   },
   {
    "duration": 8,
    "start_time": "2022-02-12T17:55:15.754Z"
   },
   {
    "duration": 6,
    "start_time": "2022-02-12T17:55:21.397Z"
   },
   {
    "duration": 56,
    "start_time": "2022-02-12T17:55:22.517Z"
   },
   {
    "duration": 25,
    "start_time": "2022-02-12T17:55:39.921Z"
   },
   {
    "duration": 311,
    "start_time": "2022-02-12T17:55:52.775Z"
   },
   {
    "duration": 5,
    "start_time": "2022-02-12T17:55:56.258Z"
   },
   {
    "duration": 5,
    "start_time": "2022-02-12T17:55:57.494Z"
   },
   {
    "duration": 314,
    "start_time": "2022-02-12T17:56:07.520Z"
   },
   {
    "duration": 308,
    "start_time": "2022-02-12T17:56:16.508Z"
   },
   {
    "duration": 3862,
    "start_time": "2022-02-12T17:57:06.798Z"
   },
   {
    "duration": -692,
    "start_time": "2022-02-12T17:57:11.354Z"
   },
   {
    "duration": -703,
    "start_time": "2022-02-12T17:57:11.366Z"
   },
   {
    "duration": -713,
    "start_time": "2022-02-12T17:57:11.377Z"
   },
   {
    "duration": 7,
    "start_time": "2022-02-12T17:57:15.044Z"
   },
   {
    "duration": 5,
    "start_time": "2022-02-12T17:57:20.734Z"
   },
   {
    "duration": 7,
    "start_time": "2022-02-12T17:57:54.208Z"
   },
   {
    "duration": 7,
    "start_time": "2022-02-12T17:58:02.578Z"
   },
   {
    "duration": 6,
    "start_time": "2022-02-12T17:58:14.556Z"
   },
   {
    "duration": 9,
    "start_time": "2022-02-12T17:58:16.284Z"
   },
   {
    "duration": 2,
    "start_time": "2022-02-12T18:01:28.755Z"
   },
   {
    "duration": 2039,
    "start_time": "2022-02-12T18:01:28.762Z"
   },
   {
    "duration": 875,
    "start_time": "2022-02-12T18:01:30.803Z"
   },
   {
    "duration": 9,
    "start_time": "2022-02-12T18:01:31.680Z"
   },
   {
    "duration": 2,
    "start_time": "2022-02-12T18:01:31.691Z"
   },
   {
    "duration": 4,
    "start_time": "2022-02-12T18:01:31.694Z"
   },
   {
    "duration": 4,
    "start_time": "2022-02-12T18:01:31.699Z"
   },
   {
    "duration": 952,
    "start_time": "2022-02-12T18:01:31.705Z"
   },
   {
    "duration": 16,
    "start_time": "2022-02-12T18:01:32.659Z"
   },
   {
    "duration": 3,
    "start_time": "2022-02-12T18:01:32.677Z"
   },
   {
    "duration": 76,
    "start_time": "2022-02-12T18:01:32.681Z"
   },
   {
    "duration": 6,
    "start_time": "2022-02-12T18:01:32.771Z"
   },
   {
    "duration": 6,
    "start_time": "2022-02-12T18:01:32.778Z"
   },
   {
    "duration": 396,
    "start_time": "2022-02-12T18:01:32.786Z"
   },
   {
    "duration": 27,
    "start_time": "2022-02-12T18:01:33.183Z"
   },
   {
    "duration": 25,
    "start_time": "2022-02-12T18:01:33.212Z"
   },
   {
    "duration": 55,
    "start_time": "2022-02-12T18:01:33.239Z"
   },
   {
    "duration": 32,
    "start_time": "2022-02-12T18:01:33.295Z"
   },
   {
    "duration": 5,
    "start_time": "2022-02-12T18:01:33.328Z"
   },
   {
    "duration": 6,
    "start_time": "2022-02-12T18:01:33.334Z"
   },
   {
    "duration": 40,
    "start_time": "2022-02-12T18:01:33.341Z"
   },
   {
    "duration": 6,
    "start_time": "2022-02-12T18:01:33.383Z"
   },
   {
    "duration": 21,
    "start_time": "2022-02-12T18:01:33.390Z"
   },
   {
    "duration": 5,
    "start_time": "2022-02-12T18:01:33.415Z"
   },
   {
    "duration": 6,
    "start_time": "2022-02-12T18:01:33.422Z"
   },
   {
    "duration": 48,
    "start_time": "2022-02-12T18:01:33.429Z"
   },
   {
    "duration": 31,
    "start_time": "2022-02-12T18:01:33.478Z"
   },
   {
    "duration": 3,
    "start_time": "2022-02-12T18:01:33.511Z"
   },
   {
    "duration": 304,
    "start_time": "2022-02-12T18:01:33.515Z"
   },
   {
    "duration": 14,
    "start_time": "2022-02-12T18:01:33.821Z"
   },
   {
    "duration": 19,
    "start_time": "2022-02-12T18:01:33.836Z"
   },
   {
    "duration": 116,
    "start_time": "2022-02-12T18:01:33.872Z"
   },
   {
    "duration": 59,
    "start_time": "2022-02-12T18:01:33.990Z"
   },
   {
    "duration": 21,
    "start_time": "2022-02-12T18:01:34.050Z"
   },
   {
    "duration": 4,
    "start_time": "2022-02-12T18:01:34.073Z"
   },
   {
    "duration": 55,
    "start_time": "2022-02-12T18:01:34.079Z"
   },
   {
    "duration": 43,
    "start_time": "2022-02-12T18:01:34.135Z"
   },
   {
    "duration": 7,
    "start_time": "2022-02-12T18:01:34.179Z"
   },
   {
    "duration": 8,
    "start_time": "2022-02-12T18:01:34.188Z"
   },
   {
    "duration": 286,
    "start_time": "2022-02-12T18:01:34.197Z"
   },
   {
    "duration": 438,
    "start_time": "2022-02-12T18:01:34.485Z"
   },
   {
    "duration": -639,
    "start_time": "2022-02-12T18:01:35.564Z"
   },
   {
    "duration": -652,
    "start_time": "2022-02-12T18:01:35.578Z"
   },
   {
    "duration": -665,
    "start_time": "2022-02-12T18:01:35.591Z"
   },
   {
    "duration": -673,
    "start_time": "2022-02-12T18:01:35.600Z"
   },
   {
    "duration": -683,
    "start_time": "2022-02-12T18:01:35.611Z"
   },
   {
    "duration": -693,
    "start_time": "2022-02-12T18:01:35.622Z"
   },
   {
    "duration": -699,
    "start_time": "2022-02-12T18:01:35.629Z"
   },
   {
    "duration": -710,
    "start_time": "2022-02-12T18:01:35.641Z"
   },
   {
    "duration": -721,
    "start_time": "2022-02-12T18:01:35.653Z"
   },
   {
    "duration": -728,
    "start_time": "2022-02-12T18:01:35.661Z"
   },
   {
    "duration": -738,
    "start_time": "2022-02-12T18:01:35.671Z"
   },
   {
    "duration": -746,
    "start_time": "2022-02-12T18:01:35.680Z"
   },
   {
    "duration": -755,
    "start_time": "2022-02-12T18:01:35.690Z"
   },
   {
    "duration": -762,
    "start_time": "2022-02-12T18:01:35.698Z"
   },
   {
    "duration": -771,
    "start_time": "2022-02-12T18:01:35.708Z"
   },
   {
    "duration": -802,
    "start_time": "2022-02-12T18:01:35.740Z"
   },
   {
    "duration": -810,
    "start_time": "2022-02-12T18:01:35.748Z"
   },
   {
    "duration": -820,
    "start_time": "2022-02-12T18:01:35.759Z"
   },
   {
    "duration": -831,
    "start_time": "2022-02-12T18:01:35.771Z"
   },
   {
    "duration": -837,
    "start_time": "2022-02-12T18:01:35.778Z"
   },
   {
    "duration": -847,
    "start_time": "2022-02-12T18:01:35.789Z"
   },
   {
    "duration": -854,
    "start_time": "2022-02-12T18:01:35.797Z"
   },
   {
    "duration": -864,
    "start_time": "2022-02-12T18:01:35.808Z"
   },
   {
    "duration": -871,
    "start_time": "2022-02-12T18:01:35.815Z"
   },
   {
    "duration": -879,
    "start_time": "2022-02-12T18:01:35.824Z"
   },
   {
    "duration": -889,
    "start_time": "2022-02-12T18:01:35.835Z"
   },
   {
    "duration": -896,
    "start_time": "2022-02-12T18:01:35.843Z"
   },
   {
    "duration": -905,
    "start_time": "2022-02-12T18:01:35.853Z"
   },
   {
    "duration": -912,
    "start_time": "2022-02-12T18:01:35.861Z"
   },
   {
    "duration": -919,
    "start_time": "2022-02-12T18:01:35.869Z"
   },
   {
    "duration": -926,
    "start_time": "2022-02-12T18:01:35.877Z"
   },
   {
    "duration": 543,
    "start_time": "2022-02-12T18:02:57.415Z"
   },
   {
    "duration": 10,
    "start_time": "2022-02-12T18:03:11.387Z"
   },
   {
    "duration": 12,
    "start_time": "2022-02-12T18:04:18.478Z"
   },
   {
    "duration": 5,
    "start_time": "2022-02-12T18:04:21.944Z"
   },
   {
    "duration": 618,
    "start_time": "2022-02-12T18:04:24.087Z"
   },
   {
    "duration": 11,
    "start_time": "2022-02-12T18:05:08.377Z"
   },
   {
    "duration": 5,
    "start_time": "2022-02-12T18:05:09.648Z"
   },
   {
    "duration": 277,
    "start_time": "2022-02-12T18:05:14.345Z"
   },
   {
    "duration": 1038,
    "start_time": "2022-02-12T18:07:06.773Z"
   },
   {
    "duration": 940,
    "start_time": "2022-02-12T18:07:22.925Z"
   },
   {
    "duration": 866,
    "start_time": "2022-02-12T18:08:44.992Z"
   },
   {
    "duration": 881,
    "start_time": "2022-02-12T18:08:54.092Z"
   },
   {
    "duration": 939,
    "start_time": "2022-02-12T18:09:11.920Z"
   },
   {
    "duration": 894,
    "start_time": "2022-02-12T18:09:34.284Z"
   },
   {
    "duration": 941,
    "start_time": "2022-02-12T18:09:55.737Z"
   },
   {
    "duration": 1082,
    "start_time": "2022-02-12T18:10:21.862Z"
   },
   {
    "duration": 9,
    "start_time": "2022-02-12T18:11:55.947Z"
   },
   {
    "duration": 3,
    "start_time": "2022-02-12T18:12:12.868Z"
   },
   {
    "duration": 2021,
    "start_time": "2022-02-12T18:12:12.874Z"
   },
   {
    "duration": 1029,
    "start_time": "2022-02-12T18:12:14.897Z"
   },
   {
    "duration": 9,
    "start_time": "2022-02-12T18:12:15.927Z"
   },
   {
    "duration": 5,
    "start_time": "2022-02-12T18:12:15.937Z"
   },
   {
    "duration": 4,
    "start_time": "2022-02-12T18:12:15.944Z"
   },
   {
    "duration": 4,
    "start_time": "2022-02-12T18:12:15.949Z"
   },
   {
    "duration": 959,
    "start_time": "2022-02-12T18:12:15.954Z"
   },
   {
    "duration": 15,
    "start_time": "2022-02-12T18:12:16.916Z"
   },
   {
    "duration": 3,
    "start_time": "2022-02-12T18:12:16.933Z"
   },
   {
    "duration": 84,
    "start_time": "2022-02-12T18:12:16.937Z"
   },
   {
    "duration": 5,
    "start_time": "2022-02-12T18:12:17.023Z"
   },
   {
    "duration": 6,
    "start_time": "2022-02-12T18:12:17.030Z"
   },
   {
    "duration": 391,
    "start_time": "2022-02-12T18:12:17.038Z"
   },
   {
    "duration": 27,
    "start_time": "2022-02-12T18:12:17.431Z"
   },
   {
    "duration": 35,
    "start_time": "2022-02-12T18:12:17.459Z"
   },
   {
    "duration": 38,
    "start_time": "2022-02-12T18:12:17.496Z"
   },
   {
    "duration": 48,
    "start_time": "2022-02-12T18:12:17.536Z"
   },
   {
    "duration": 3,
    "start_time": "2022-02-12T18:12:17.586Z"
   },
   {
    "duration": 4,
    "start_time": "2022-02-12T18:12:17.591Z"
   },
   {
    "duration": 11,
    "start_time": "2022-02-12T18:12:17.597Z"
   },
   {
    "duration": 5,
    "start_time": "2022-02-12T18:12:17.609Z"
   },
   {
    "duration": 22,
    "start_time": "2022-02-12T18:12:17.616Z"
   },
   {
    "duration": 36,
    "start_time": "2022-02-12T18:12:17.641Z"
   },
   {
    "duration": 6,
    "start_time": "2022-02-12T18:12:17.679Z"
   },
   {
    "duration": 20,
    "start_time": "2022-02-12T18:12:17.686Z"
   },
   {
    "duration": 33,
    "start_time": "2022-02-12T18:12:17.707Z"
   },
   {
    "duration": 32,
    "start_time": "2022-02-12T18:12:17.741Z"
   },
   {
    "duration": 252,
    "start_time": "2022-02-12T18:12:17.774Z"
   },
   {
    "duration": 14,
    "start_time": "2022-02-12T18:12:18.028Z"
   },
   {
    "duration": 32,
    "start_time": "2022-02-12T18:12:18.043Z"
   },
   {
    "duration": 126,
    "start_time": "2022-02-12T18:12:18.076Z"
   },
   {
    "duration": 75,
    "start_time": "2022-02-12T18:12:18.203Z"
   },
   {
    "duration": 6,
    "start_time": "2022-02-12T18:12:18.280Z"
   },
   {
    "duration": 4,
    "start_time": "2022-02-12T18:12:18.288Z"
   },
   {
    "duration": 79,
    "start_time": "2022-02-12T18:12:18.293Z"
   },
   {
    "duration": 23,
    "start_time": "2022-02-12T18:12:18.374Z"
   },
   {
    "duration": 7,
    "start_time": "2022-02-12T18:12:18.398Z"
   },
   {
    "duration": 8,
    "start_time": "2022-02-12T18:12:18.406Z"
   },
   {
    "duration": 320,
    "start_time": "2022-02-12T18:12:18.416Z"
   },
   {
    "duration": 537,
    "start_time": "2022-02-12T18:12:18.738Z"
   },
   {
    "duration": 10,
    "start_time": "2022-02-12T18:12:19.277Z"
   },
   {
    "duration": 10,
    "start_time": "2022-02-12T18:12:19.288Z"
   },
   {
    "duration": 4,
    "start_time": "2022-02-12T18:12:19.300Z"
   },
   {
    "duration": 888,
    "start_time": "2022-02-12T18:12:19.305Z"
   },
   {
    "duration": 1001,
    "start_time": "2022-02-12T18:12:20.195Z"
   },
   {
    "duration": 10,
    "start_time": "2022-02-12T18:12:21.198Z"
   },
   {
    "duration": 4,
    "start_time": "2022-02-12T18:12:21.210Z"
   },
   {
    "duration": 303,
    "start_time": "2022-02-12T18:12:21.216Z"
   },
   {
    "duration": 59,
    "start_time": "2022-02-12T18:12:21.520Z"
   },
   {
    "duration": 1232,
    "start_time": "2022-02-12T18:12:21.581Z"
   },
   {
    "duration": 18,
    "start_time": "2022-02-12T18:12:22.814Z"
   },
   {
    "duration": 552,
    "start_time": "2022-02-12T18:12:22.834Z"
   },
   {
    "duration": 503,
    "start_time": "2022-02-12T18:12:23.388Z"
   },
   {
    "duration": -1927,
    "start_time": "2022-02-12T18:12:25.821Z"
   },
   {
    "duration": -1939,
    "start_time": "2022-02-12T18:12:25.835Z"
   },
   {
    "duration": -1949,
    "start_time": "2022-02-12T18:12:25.846Z"
   },
   {
    "duration": -1961,
    "start_time": "2022-02-12T18:12:25.859Z"
   },
   {
    "duration": -1970,
    "start_time": "2022-02-12T18:12:25.870Z"
   },
   {
    "duration": -1977,
    "start_time": "2022-02-12T18:12:25.878Z"
   },
   {
    "duration": -1987,
    "start_time": "2022-02-12T18:12:25.890Z"
   },
   {
    "duration": -1998,
    "start_time": "2022-02-12T18:12:25.902Z"
   },
   {
    "duration": -2005,
    "start_time": "2022-02-12T18:12:25.911Z"
   },
   {
    "duration": -2016,
    "start_time": "2022-02-12T18:12:25.923Z"
   },
   {
    "duration": -2027,
    "start_time": "2022-02-12T18:12:25.935Z"
   },
   {
    "duration": -2034,
    "start_time": "2022-02-12T18:12:25.944Z"
   },
   {
    "duration": -2044,
    "start_time": "2022-02-12T18:12:25.955Z"
   },
   {
    "duration": -2057,
    "start_time": "2022-02-12T18:12:25.970Z"
   },
   {
    "duration": -2064,
    "start_time": "2022-02-12T18:12:25.978Z"
   },
   {
    "duration": -2075,
    "start_time": "2022-02-12T18:12:25.990Z"
   },
   {
    "duration": -2085,
    "start_time": "2022-02-12T18:12:26.002Z"
   },
   {
    "duration": -2094,
    "start_time": "2022-02-12T18:12:26.012Z"
   },
   {
    "duration": -2104,
    "start_time": "2022-02-12T18:12:26.024Z"
   },
   {
    "duration": 24,
    "start_time": "2022-02-12T18:12:51.792Z"
   },
   {
    "duration": 240,
    "start_time": "2022-02-12T18:12:54.106Z"
   },
   {
    "duration": 124,
    "start_time": "2022-02-12T18:13:03.582Z"
   },
   {
    "duration": 5,
    "start_time": "2022-02-12T18:13:05.068Z"
   },
   {
    "duration": 17,
    "start_time": "2022-02-12T18:13:06.094Z"
   },
   {
    "duration": 98,
    "start_time": "2022-02-12T18:13:08.934Z"
   },
   {
    "duration": 339,
    "start_time": "2022-02-12T18:13:12.122Z"
   },
   {
    "duration": 347,
    "start_time": "2022-02-12T18:13:17.601Z"
   },
   {
    "duration": 6,
    "start_time": "2022-02-12T20:36:52.951Z"
   },
   {
    "duration": 16,
    "start_time": "2022-02-12T20:37:04.835Z"
   },
   {
    "duration": 7,
    "start_time": "2022-02-12T20:44:40.507Z"
   },
   {
    "duration": 23,
    "start_time": "2022-02-12T20:44:41.131Z"
   },
   {
    "duration": 8,
    "start_time": "2022-02-12T20:51:01.717Z"
   },
   {
    "duration": 23,
    "start_time": "2022-02-12T20:51:02.390Z"
   },
   {
    "duration": 7,
    "start_time": "2022-02-12T20:52:20.909Z"
   },
   {
    "duration": 6,
    "start_time": "2022-02-12T20:52:37.759Z"
   },
   {
    "duration": 5,
    "start_time": "2022-02-12T20:52:48.558Z"
   },
   {
    "duration": 6,
    "start_time": "2022-02-12T20:53:00.131Z"
   },
   {
    "duration": 5,
    "start_time": "2022-02-12T20:53:04.960Z"
   },
   {
    "duration": 7,
    "start_time": "2022-02-12T20:53:09.824Z"
   },
   {
    "duration": 7,
    "start_time": "2022-02-12T20:53:23.399Z"
   },
   {
    "duration": 6,
    "start_time": "2022-02-12T20:53:32.597Z"
   },
   {
    "duration": 103,
    "start_time": "2022-02-12T21:04:37.547Z"
   },
   {
    "duration": 4,
    "start_time": "2022-02-12T21:10:23.136Z"
   },
   {
    "duration": 17,
    "start_time": "2022-02-12T21:10:24.002Z"
   },
   {
    "duration": 4,
    "start_time": "2022-02-12T21:10:37.044Z"
   },
   {
    "duration": 18,
    "start_time": "2022-02-12T21:10:37.728Z"
   },
   {
    "duration": 332,
    "start_time": "2022-02-12T21:13:02.452Z"
   },
   {
    "duration": 17,
    "start_time": "2022-02-12T21:13:23.141Z"
   },
   {
    "duration": 315,
    "start_time": "2022-02-12T21:14:14.710Z"
   },
   {
    "duration": 94,
    "start_time": "2022-02-12T21:14:58.882Z"
   },
   {
    "duration": 353,
    "start_time": "2022-02-12T21:15:03.944Z"
   },
   {
    "duration": 6,
    "start_time": "2022-02-12T21:18:30.323Z"
   },
   {
    "duration": 18,
    "start_time": "2022-02-12T21:18:32.832Z"
   },
   {
    "duration": 5,
    "start_time": "2022-02-12T21:18:47.265Z"
   },
   {
    "duration": 21,
    "start_time": "2022-02-12T21:18:48.985Z"
   },
   {
    "duration": 3,
    "start_time": "2022-02-12T21:19:04.137Z"
   },
   {
    "duration": 2763,
    "start_time": "2022-02-12T21:19:04.143Z"
   },
   {
    "duration": 1132,
    "start_time": "2022-02-12T21:19:06.908Z"
   },
   {
    "duration": 8,
    "start_time": "2022-02-12T21:19:08.042Z"
   },
   {
    "duration": 4,
    "start_time": "2022-02-12T21:19:08.052Z"
   },
   {
    "duration": 4,
    "start_time": "2022-02-12T21:19:08.058Z"
   },
   {
    "duration": 3,
    "start_time": "2022-02-12T21:19:08.064Z"
   },
   {
    "duration": 977,
    "start_time": "2022-02-12T21:19:08.069Z"
   },
   {
    "duration": 16,
    "start_time": "2022-02-12T21:19:09.048Z"
   },
   {
    "duration": 3,
    "start_time": "2022-02-12T21:19:09.066Z"
   },
   {
    "duration": 78,
    "start_time": "2022-02-12T21:19:09.070Z"
   },
   {
    "duration": 6,
    "start_time": "2022-02-12T21:19:09.150Z"
   },
   {
    "duration": 7,
    "start_time": "2022-02-12T21:19:09.172Z"
   },
   {
    "duration": 423,
    "start_time": "2022-02-12T21:19:09.180Z"
   },
   {
    "duration": 28,
    "start_time": "2022-02-12T21:19:09.605Z"
   },
   {
    "duration": 27,
    "start_time": "2022-02-12T21:19:09.634Z"
   },
   {
    "duration": 41,
    "start_time": "2022-02-12T21:19:09.672Z"
   },
   {
    "duration": 33,
    "start_time": "2022-02-12T21:19:09.715Z"
   },
   {
    "duration": 4,
    "start_time": "2022-02-12T21:19:09.773Z"
   },
   {
    "duration": 4,
    "start_time": "2022-02-12T21:19:09.780Z"
   },
   {
    "duration": 13,
    "start_time": "2022-02-12T21:19:09.786Z"
   },
   {
    "duration": 5,
    "start_time": "2022-02-12T21:19:09.801Z"
   },
   {
    "duration": 24,
    "start_time": "2022-02-12T21:19:09.808Z"
   },
   {
    "duration": 39,
    "start_time": "2022-02-12T21:19:09.834Z"
   },
   {
    "duration": 7,
    "start_time": "2022-02-12T21:19:09.875Z"
   },
   {
    "duration": 21,
    "start_time": "2022-02-12T21:19:09.883Z"
   },
   {
    "duration": 38,
    "start_time": "2022-02-12T21:19:09.906Z"
   },
   {
    "duration": 5,
    "start_time": "2022-02-12T21:19:09.972Z"
   },
   {
    "duration": 272,
    "start_time": "2022-02-12T21:19:09.979Z"
   },
   {
    "duration": 30,
    "start_time": "2022-02-12T21:19:10.253Z"
   },
   {
    "duration": 26,
    "start_time": "2022-02-12T21:19:10.285Z"
   },
   {
    "duration": 188,
    "start_time": "2022-02-12T21:19:10.312Z"
   },
   {
    "duration": 111,
    "start_time": "2022-02-12T21:19:10.502Z"
   },
   {
    "duration": 7,
    "start_time": "2022-02-12T21:19:10.614Z"
   },
   {
    "duration": 4,
    "start_time": "2022-02-12T21:19:10.623Z"
   },
   {
    "duration": 76,
    "start_time": "2022-02-12T21:19:10.629Z"
   },
   {
    "duration": 486,
    "start_time": "2022-02-12T21:19:10.706Z"
   },
   {
    "duration": -1517,
    "start_time": "2022-02-12T21:19:12.711Z"
   },
   {
    "duration": -1530,
    "start_time": "2022-02-12T21:19:12.725Z"
   },
   {
    "duration": -1544,
    "start_time": "2022-02-12T21:19:12.740Z"
   },
   {
    "duration": -1556,
    "start_time": "2022-02-12T21:19:12.753Z"
   },
   {
    "duration": -1568,
    "start_time": "2022-02-12T21:19:12.766Z"
   },
   {
    "duration": -1575,
    "start_time": "2022-02-12T21:19:12.774Z"
   },
   {
    "duration": -1587,
    "start_time": "2022-02-12T21:19:12.787Z"
   },
   {
    "duration": -1598,
    "start_time": "2022-02-12T21:19:12.799Z"
   },
   {
    "duration": -1607,
    "start_time": "2022-02-12T21:19:12.808Z"
   },
   {
    "duration": -1617,
    "start_time": "2022-02-12T21:19:12.819Z"
   },
   {
    "duration": -1670,
    "start_time": "2022-02-12T21:19:12.873Z"
   },
   {
    "duration": -1684,
    "start_time": "2022-02-12T21:19:12.888Z"
   },
   {
    "duration": -1698,
    "start_time": "2022-02-12T21:19:12.902Z"
   },
   {
    "duration": -1706,
    "start_time": "2022-02-12T21:19:12.911Z"
   },
   {
    "duration": -1719,
    "start_time": "2022-02-12T21:19:12.925Z"
   },
   {
    "duration": -1733,
    "start_time": "2022-02-12T21:19:12.939Z"
   },
   {
    "duration": -1745,
    "start_time": "2022-02-12T21:19:12.952Z"
   },
   {
    "duration": -1759,
    "start_time": "2022-02-12T21:19:12.967Z"
   },
   {
    "duration": -1768,
    "start_time": "2022-02-12T21:19:12.977Z"
   },
   {
    "duration": -1778,
    "start_time": "2022-02-12T21:19:12.988Z"
   },
   {
    "duration": -1788,
    "start_time": "2022-02-12T21:19:12.999Z"
   },
   {
    "duration": -1796,
    "start_time": "2022-02-12T21:19:13.008Z"
   },
   {
    "duration": -1807,
    "start_time": "2022-02-12T21:19:13.019Z"
   },
   {
    "duration": -1820,
    "start_time": "2022-02-12T21:19:13.033Z"
   },
   {
    "duration": -1827,
    "start_time": "2022-02-12T21:19:13.041Z"
   },
   {
    "duration": -1839,
    "start_time": "2022-02-12T21:19:13.054Z"
   },
   {
    "duration": -1851,
    "start_time": "2022-02-12T21:19:13.066Z"
   },
   {
    "duration": -1860,
    "start_time": "2022-02-12T21:19:13.076Z"
   },
   {
    "duration": -1871,
    "start_time": "2022-02-12T21:19:13.088Z"
   },
   {
    "duration": -1884,
    "start_time": "2022-02-12T21:19:13.102Z"
   },
   {
    "duration": -1893,
    "start_time": "2022-02-12T21:19:13.112Z"
   },
   {
    "duration": -1904,
    "start_time": "2022-02-12T21:19:13.124Z"
   },
   {
    "duration": -1915,
    "start_time": "2022-02-12T21:19:13.136Z"
   },
   {
    "duration": -1927,
    "start_time": "2022-02-12T21:19:13.149Z"
   },
   {
    "duration": -1932,
    "start_time": "2022-02-12T21:19:13.157Z"
   },
   {
    "duration": -1942,
    "start_time": "2022-02-12T21:19:13.169Z"
   },
   {
    "duration": -1950,
    "start_time": "2022-02-12T21:19:13.178Z"
   },
   {
    "duration": -1960,
    "start_time": "2022-02-12T21:19:13.190Z"
   },
   {
    "duration": -1970,
    "start_time": "2022-02-12T21:19:13.202Z"
   },
   {
    "duration": 5,
    "start_time": "2022-02-12T21:19:33.972Z"
   },
   {
    "duration": 16,
    "start_time": "2022-02-12T21:19:35.598Z"
   },
   {
    "duration": 11,
    "start_time": "2022-02-12T21:20:01.944Z"
   },
   {
    "duration": 8,
    "start_time": "2022-02-12T21:20:09.676Z"
   },
   {
    "duration": 5,
    "start_time": "2022-02-12T21:20:19.819Z"
   },
   {
    "duration": 5,
    "start_time": "2022-02-12T21:21:30.157Z"
   },
   {
    "duration": 5,
    "start_time": "2022-02-12T21:23:28.043Z"
   },
   {
    "duration": 17,
    "start_time": "2022-02-12T21:23:28.919Z"
   },
   {
    "duration": 6,
    "start_time": "2022-02-12T21:23:40.481Z"
   },
   {
    "duration": 16,
    "start_time": "2022-02-12T21:23:42.410Z"
   },
   {
    "duration": 12,
    "start_time": "2022-02-12T21:23:57.291Z"
   },
   {
    "duration": 26,
    "start_time": "2022-02-12T21:24:19.511Z"
   },
   {
    "duration": 3,
    "start_time": "2022-02-12T21:24:40.891Z"
   },
   {
    "duration": 2068,
    "start_time": "2022-02-12T21:24:40.897Z"
   },
   {
    "duration": 1092,
    "start_time": "2022-02-12T21:24:42.967Z"
   },
   {
    "duration": 8,
    "start_time": "2022-02-12T21:24:44.061Z"
   },
   {
    "duration": 4,
    "start_time": "2022-02-12T21:24:44.071Z"
   },
   {
    "duration": 4,
    "start_time": "2022-02-12T21:24:44.077Z"
   },
   {
    "duration": 4,
    "start_time": "2022-02-12T21:24:44.082Z"
   },
   {
    "duration": 951,
    "start_time": "2022-02-12T21:24:44.087Z"
   },
   {
    "duration": 16,
    "start_time": "2022-02-12T21:24:45.041Z"
   },
   {
    "duration": 3,
    "start_time": "2022-02-12T21:24:45.059Z"
   },
   {
    "duration": 85,
    "start_time": "2022-02-12T21:24:45.064Z"
   },
   {
    "duration": 6,
    "start_time": "2022-02-12T21:24:45.150Z"
   },
   {
    "duration": 15,
    "start_time": "2022-02-12T21:24:45.157Z"
   },
   {
    "duration": 404,
    "start_time": "2022-02-12T21:24:45.173Z"
   },
   {
    "duration": 27,
    "start_time": "2022-02-12T21:24:45.579Z"
   },
   {
    "duration": 25,
    "start_time": "2022-02-12T21:24:45.608Z"
   },
   {
    "duration": 61,
    "start_time": "2022-02-12T21:24:45.634Z"
   },
   {
    "duration": 33,
    "start_time": "2022-02-12T21:24:45.697Z"
   },
   {
    "duration": 4,
    "start_time": "2022-02-12T21:24:45.732Z"
   },
   {
    "duration": 4,
    "start_time": "2022-02-12T21:24:45.737Z"
   },
   {
    "duration": 36,
    "start_time": "2022-02-12T21:24:45.743Z"
   },
   {
    "duration": 6,
    "start_time": "2022-02-12T21:24:45.781Z"
   },
   {
    "duration": 23,
    "start_time": "2022-02-12T21:24:45.788Z"
   },
   {
    "duration": 6,
    "start_time": "2022-02-12T21:24:45.815Z"
   },
   {
    "duration": 6,
    "start_time": "2022-02-12T21:24:45.824Z"
   },
   {
    "duration": 47,
    "start_time": "2022-02-12T21:24:45.831Z"
   },
   {
    "duration": 34,
    "start_time": "2022-02-12T21:24:45.879Z"
   },
   {
    "duration": 4,
    "start_time": "2022-02-12T21:24:45.914Z"
   },
   {
    "duration": 303,
    "start_time": "2022-02-12T21:24:45.919Z"
   },
   {
    "duration": 14,
    "start_time": "2022-02-12T21:24:46.224Z"
   },
   {
    "duration": 32,
    "start_time": "2022-02-12T21:24:46.240Z"
   },
   {
    "duration": 129,
    "start_time": "2022-02-12T21:24:46.273Z"
   },
   {
    "duration": 71,
    "start_time": "2022-02-12T21:24:46.404Z"
   },
   {
    "duration": 6,
    "start_time": "2022-02-12T21:24:46.477Z"
   },
   {
    "duration": 4,
    "start_time": "2022-02-12T21:24:46.485Z"
   },
   {
    "duration": 81,
    "start_time": "2022-02-12T21:24:46.491Z"
   },
   {
    "duration": 6,
    "start_time": "2022-02-12T21:24:46.573Z"
   },
   {
    "duration": 6,
    "start_time": "2022-02-12T21:24:46.580Z"
   },
   {
    "duration": 5,
    "start_time": "2022-02-12T21:24:46.587Z"
   },
   {
    "duration": 9,
    "start_time": "2022-02-12T21:24:46.594Z"
   },
   {
    "duration": 24,
    "start_time": "2022-02-12T21:24:46.605Z"
   },
   {
    "duration": 7,
    "start_time": "2022-02-12T21:24:46.630Z"
   },
   {
    "duration": 10,
    "start_time": "2022-02-12T21:24:46.672Z"
   },
   {
    "duration": 272,
    "start_time": "2022-02-12T21:24:46.683Z"
   },
   {
    "duration": 547,
    "start_time": "2022-02-12T21:24:46.956Z"
   },
   {
    "duration": 13,
    "start_time": "2022-02-12T21:24:47.504Z"
   },
   {
    "duration": 12,
    "start_time": "2022-02-12T21:24:47.519Z"
   },
   {
    "duration": 6,
    "start_time": "2022-02-12T21:24:47.573Z"
   },
   {
    "duration": 891,
    "start_time": "2022-02-12T21:24:47.581Z"
   },
   {
    "duration": 1082,
    "start_time": "2022-02-12T21:24:48.473Z"
   },
   {
    "duration": 15,
    "start_time": "2022-02-12T21:24:49.556Z"
   },
   {
    "duration": 4,
    "start_time": "2022-02-12T21:24:49.573Z"
   },
   {
    "duration": 234,
    "start_time": "2022-02-12T21:24:49.579Z"
   },
   {
    "duration": 9,
    "start_time": "2022-02-12T21:24:49.815Z"
   },
   {
    "duration": 950,
    "start_time": "2022-02-12T21:24:49.826Z"
   },
   {
    "duration": 18,
    "start_time": "2022-02-12T21:24:50.777Z"
   },
   {
    "duration": 562,
    "start_time": "2022-02-12T21:24:50.797Z"
   },
   {
    "duration": 29,
    "start_time": "2022-02-12T21:24:51.361Z"
   },
   {
    "duration": 259,
    "start_time": "2022-02-12T21:24:51.391Z"
   },
   {
    "duration": 131,
    "start_time": "2022-02-12T21:24:51.652Z"
   },
   {
    "duration": 5,
    "start_time": "2022-02-12T21:24:51.785Z"
   },
   {
    "duration": 18,
    "start_time": "2022-02-12T21:24:51.791Z"
   },
   {
    "duration": 153,
    "start_time": "2022-02-12T21:24:51.811Z"
   },
   {
    "duration": 394,
    "start_time": "2022-02-12T21:24:51.966Z"
   },
   {
    "duration": 417,
    "start_time": "2022-02-12T21:24:52.362Z"
   },
   {
    "duration": 10,
    "start_time": "2022-02-12T21:24:52.781Z"
   },
   {
    "duration": 26,
    "start_time": "2022-02-12T21:24:52.793Z"
   },
   {
    "duration": 4052,
    "start_time": "2022-02-12T21:24:52.820Z"
   },
   {
    "duration": -1480,
    "start_time": "2022-02-12T21:24:58.354Z"
   },
   {
    "duration": -1487,
    "start_time": "2022-02-12T21:24:58.362Z"
   },
   {
    "duration": -1498,
    "start_time": "2022-02-12T21:24:58.374Z"
   },
   {
    "duration": -1507,
    "start_time": "2022-02-12T21:24:58.384Z"
   },
   {
    "duration": -1513,
    "start_time": "2022-02-12T21:24:58.391Z"
   },
   {
    "duration": -1553,
    "start_time": "2022-02-12T21:24:58.432Z"
   },
   {
    "duration": -1564,
    "start_time": "2022-02-12T21:24:58.444Z"
   },
   {
    "duration": -1574,
    "start_time": "2022-02-12T21:24:58.455Z"
   },
   {
    "duration": 3,
    "start_time": "2022-02-13T07:24:57.937Z"
   },
   {
    "duration": 2329,
    "start_time": "2022-02-13T07:24:57.942Z"
   },
   {
    "duration": 1143,
    "start_time": "2022-02-13T07:25:00.273Z"
   },
   {
    "duration": 9,
    "start_time": "2022-02-13T07:25:01.418Z"
   },
   {
    "duration": 11,
    "start_time": "2022-02-13T07:25:01.429Z"
   },
   {
    "duration": 8,
    "start_time": "2022-02-13T07:25:01.441Z"
   },
   {
    "duration": 9,
    "start_time": "2022-02-13T07:25:01.451Z"
   },
   {
    "duration": 928,
    "start_time": "2022-02-13T07:25:01.462Z"
   },
   {
    "duration": 14,
    "start_time": "2022-02-13T07:25:02.391Z"
   },
   {
    "duration": 9,
    "start_time": "2022-02-13T07:25:02.406Z"
   },
   {
    "duration": 114,
    "start_time": "2022-02-13T07:25:02.416Z"
   },
   {
    "duration": 5,
    "start_time": "2022-02-13T07:25:02.532Z"
   },
   {
    "duration": 24,
    "start_time": "2022-02-13T07:25:02.539Z"
   },
   {
    "duration": 466,
    "start_time": "2022-02-13T07:25:02.565Z"
   },
   {
    "duration": 43,
    "start_time": "2022-02-13T07:25:03.033Z"
   },
   {
    "duration": 40,
    "start_time": "2022-02-13T07:25:03.078Z"
   },
   {
    "duration": 74,
    "start_time": "2022-02-13T07:25:03.120Z"
   },
   {
    "duration": 40,
    "start_time": "2022-02-13T07:25:03.196Z"
   },
   {
    "duration": 21,
    "start_time": "2022-02-13T07:25:03.240Z"
   },
   {
    "duration": 6,
    "start_time": "2022-02-13T07:25:03.264Z"
   },
   {
    "duration": 14,
    "start_time": "2022-02-13T07:25:03.272Z"
   },
   {
    "duration": 7,
    "start_time": "2022-02-13T07:25:03.288Z"
   },
   {
    "duration": 25,
    "start_time": "2022-02-13T07:25:03.296Z"
   },
   {
    "duration": 41,
    "start_time": "2022-02-13T07:25:03.322Z"
   },
   {
    "duration": 8,
    "start_time": "2022-02-13T07:25:03.365Z"
   },
   {
    "duration": 28,
    "start_time": "2022-02-13T07:25:03.375Z"
   },
   {
    "duration": 69,
    "start_time": "2022-02-13T07:25:03.405Z"
   },
   {
    "duration": 3,
    "start_time": "2022-02-13T07:25:03.476Z"
   },
   {
    "duration": 555,
    "start_time": "2022-02-13T07:25:03.481Z"
   },
   {
    "duration": -1206,
    "start_time": "2022-02-13T07:25:05.245Z"
   },
   {
    "duration": -1208,
    "start_time": "2022-02-13T07:25:05.248Z"
   },
   {
    "duration": -1209,
    "start_time": "2022-02-13T07:25:05.250Z"
   },
   {
    "duration": -1211,
    "start_time": "2022-02-13T07:25:05.253Z"
   },
   {
    "duration": -1213,
    "start_time": "2022-02-13T07:25:05.256Z"
   },
   {
    "duration": -1214,
    "start_time": "2022-02-13T07:25:05.258Z"
   },
   {
    "duration": -1216,
    "start_time": "2022-02-13T07:25:05.261Z"
   },
   {
    "duration": -1219,
    "start_time": "2022-02-13T07:25:05.264Z"
   },
   {
    "duration": -1208,
    "start_time": "2022-02-13T07:25:05.266Z"
   },
   {
    "duration": -1209,
    "start_time": "2022-02-13T07:25:05.269Z"
   },
   {
    "duration": -1211,
    "start_time": "2022-02-13T07:25:05.272Z"
   },
   {
    "duration": -1212,
    "start_time": "2022-02-13T07:25:05.274Z"
   },
   {
    "duration": -1214,
    "start_time": "2022-02-13T07:25:05.277Z"
   },
   {
    "duration": -1216,
    "start_time": "2022-02-13T07:25:05.280Z"
   },
   {
    "duration": -1218,
    "start_time": "2022-02-13T07:25:05.283Z"
   },
   {
    "duration": -1219,
    "start_time": "2022-02-13T07:25:05.285Z"
   },
   {
    "duration": -1221,
    "start_time": "2022-02-13T07:25:05.288Z"
   },
   {
    "duration": -1222,
    "start_time": "2022-02-13T07:25:05.290Z"
   },
   {
    "duration": -1224,
    "start_time": "2022-02-13T07:25:05.293Z"
   },
   {
    "duration": -1252,
    "start_time": "2022-02-13T07:25:05.322Z"
   },
   {
    "duration": -1263,
    "start_time": "2022-02-13T07:25:05.334Z"
   },
   {
    "duration": -1268,
    "start_time": "2022-02-13T07:25:05.340Z"
   },
   {
    "duration": -1274,
    "start_time": "2022-02-13T07:25:05.347Z"
   },
   {
    "duration": -1286,
    "start_time": "2022-02-13T07:25:05.360Z"
   },
   {
    "duration": -1288,
    "start_time": "2022-02-13T07:25:05.363Z"
   },
   {
    "duration": -1289,
    "start_time": "2022-02-13T07:25:05.365Z"
   },
   {
    "duration": -1291,
    "start_time": "2022-02-13T07:25:05.368Z"
   },
   {
    "duration": -1292,
    "start_time": "2022-02-13T07:25:05.370Z"
   },
   {
    "duration": -1294,
    "start_time": "2022-02-13T07:25:05.373Z"
   },
   {
    "duration": -1296,
    "start_time": "2022-02-13T07:25:05.376Z"
   },
   {
    "duration": -1297,
    "start_time": "2022-02-13T07:25:05.378Z"
   },
   {
    "duration": -1299,
    "start_time": "2022-02-13T07:25:05.381Z"
   },
   {
    "duration": -1300,
    "start_time": "2022-02-13T07:25:05.383Z"
   },
   {
    "duration": -1303,
    "start_time": "2022-02-13T07:25:05.387Z"
   },
   {
    "duration": -1305,
    "start_time": "2022-02-13T07:25:05.390Z"
   },
   {
    "duration": -1306,
    "start_time": "2022-02-13T07:25:05.392Z"
   },
   {
    "duration": -1327,
    "start_time": "2022-02-13T07:25:05.414Z"
   },
   {
    "duration": -1332,
    "start_time": "2022-02-13T07:25:05.420Z"
   },
   {
    "duration": -1361,
    "start_time": "2022-02-13T07:25:05.450Z"
   },
   {
    "duration": -1379,
    "start_time": "2022-02-13T07:25:05.469Z"
   },
   {
    "duration": -1401,
    "start_time": "2022-02-13T07:25:05.492Z"
   },
   {
    "duration": -1417,
    "start_time": "2022-02-13T07:25:05.509Z"
   },
   {
    "duration": -1431,
    "start_time": "2022-02-13T07:25:05.524Z"
   },
   {
    "duration": -1445,
    "start_time": "2022-02-13T07:25:05.538Z"
   },
   {
    "duration": 8,
    "start_time": "2022-07-14T13:35:02.032Z"
   },
   {
    "duration": 46,
    "start_time": "2022-07-14T13:35:11.826Z"
   },
   {
    "duration": 10,
    "start_time": "2022-07-14T13:35:19.441Z"
   },
   {
    "duration": 0,
    "start_time": "2022-07-14T13:35:19.452Z"
   },
   {
    "duration": 0,
    "start_time": "2022-07-14T13:35:19.454Z"
   },
   {
    "duration": 0,
    "start_time": "2022-07-14T13:35:19.455Z"
   },
   {
    "duration": 0,
    "start_time": "2022-07-14T13:35:19.456Z"
   },
   {
    "duration": 25,
    "start_time": "2022-07-14T13:35:19.469Z"
   },
   {
    "duration": 0,
    "start_time": "2022-07-14T13:35:19.495Z"
   },
   {
    "duration": 0,
    "start_time": "2022-07-14T13:35:19.497Z"
   },
   {
    "duration": 6,
    "start_time": "2022-07-14T13:35:19.505Z"
   },
   {
    "duration": 14,
    "start_time": "2022-07-14T13:35:19.519Z"
   },
   {
    "duration": 16,
    "start_time": "2022-07-14T13:35:19.550Z"
   },
   {
    "duration": 0,
    "start_time": "2022-07-14T13:35:19.568Z"
   },
   {
    "duration": 13,
    "start_time": "2022-07-14T13:35:19.569Z"
   },
   {
    "duration": 5,
    "start_time": "2022-07-14T13:35:19.594Z"
   },
   {
    "duration": 0,
    "start_time": "2022-07-14T13:35:19.600Z"
   },
   {
    "duration": 6,
    "start_time": "2022-07-14T13:35:19.623Z"
   },
   {
    "duration": 0,
    "start_time": "2022-07-14T13:35:19.631Z"
   },
   {
    "duration": 13,
    "start_time": "2022-07-14T13:35:19.655Z"
   },
   {
    "duration": 0,
    "start_time": "2022-07-14T13:35:19.670Z"
   },
   {
    "duration": 8,
    "start_time": "2022-07-14T13:35:19.675Z"
   },
   {
    "duration": 8,
    "start_time": "2022-07-14T13:35:19.685Z"
   },
   {
    "duration": 8,
    "start_time": "2022-07-14T13:35:19.711Z"
   },
   {
    "duration": 0,
    "start_time": "2022-07-14T13:35:19.721Z"
   },
   {
    "duration": 0,
    "start_time": "2022-07-14T13:35:19.722Z"
   },
   {
    "duration": 0,
    "start_time": "2022-07-14T13:35:19.724Z"
   },
   {
    "duration": 7,
    "start_time": "2022-07-14T13:35:19.734Z"
   },
   {
    "duration": 0,
    "start_time": "2022-07-14T13:35:19.743Z"
   },
   {
    "duration": 0,
    "start_time": "2022-07-14T13:35:19.744Z"
   },
   {
    "duration": 13,
    "start_time": "2022-07-14T13:35:19.757Z"
   },
   {
    "duration": 0,
    "start_time": "2022-07-14T13:35:19.772Z"
   },
   {
    "duration": 0,
    "start_time": "2022-07-14T13:35:19.773Z"
   },
   {
    "duration": 7,
    "start_time": "2022-07-14T13:35:19.795Z"
   },
   {
    "duration": 27,
    "start_time": "2022-07-14T13:35:19.808Z"
   },
   {
    "duration": 0,
    "start_time": "2022-07-14T13:35:19.837Z"
   },
   {
    "duration": 0,
    "start_time": "2022-07-14T13:35:19.838Z"
   },
   {
    "duration": 31,
    "start_time": "2022-07-14T13:35:19.846Z"
   },
   {
    "duration": 0,
    "start_time": "2022-07-14T13:35:19.879Z"
   },
   {
    "duration": 0,
    "start_time": "2022-07-14T13:35:19.880Z"
   },
   {
    "duration": 4,
    "start_time": "2022-07-14T13:35:19.905Z"
   },
   {
    "duration": 26,
    "start_time": "2022-07-14T13:35:19.911Z"
   },
   {
    "duration": 0,
    "start_time": "2022-07-14T13:35:19.938Z"
   },
   {
    "duration": 0,
    "start_time": "2022-07-14T13:35:19.939Z"
   },
   {
    "duration": 0,
    "start_time": "2022-07-14T13:35:19.940Z"
   },
   {
    "duration": 18,
    "start_time": "2022-07-14T13:35:19.945Z"
   },
   {
    "duration": 0,
    "start_time": "2022-07-14T13:35:19.964Z"
   },
   {
    "duration": 12,
    "start_time": "2022-07-14T13:35:19.970Z"
   },
   {
    "duration": 0,
    "start_time": "2022-07-14T13:35:19.984Z"
   },
   {
    "duration": 12,
    "start_time": "2022-07-14T13:35:19.989Z"
   },
   {
    "duration": 6,
    "start_time": "2022-07-14T13:35:20.035Z"
   },
   {
    "duration": 0,
    "start_time": "2022-07-14T13:35:20.043Z"
   },
   {
    "duration": 0,
    "start_time": "2022-07-14T13:35:20.044Z"
   },
   {
    "duration": 31,
    "start_time": "2022-07-14T13:35:20.051Z"
   },
   {
    "duration": 0,
    "start_time": "2022-07-14T13:35:20.084Z"
   },
   {
    "duration": 0,
    "start_time": "2022-07-14T13:35:20.085Z"
   },
   {
    "duration": 7,
    "start_time": "2022-07-14T13:35:20.097Z"
   },
   {
    "duration": 0,
    "start_time": "2022-07-14T13:35:20.105Z"
   },
   {
    "duration": 7,
    "start_time": "2022-07-14T13:35:20.134Z"
   },
   {
    "duration": 40,
    "start_time": "2022-07-14T13:35:20.142Z"
   },
   {
    "duration": 1781,
    "start_time": "2022-07-14T13:36:50.314Z"
   },
   {
    "duration": 2141,
    "start_time": "2022-07-14T13:36:52.098Z"
   },
   {
    "duration": 3,
    "start_time": "2022-07-14T13:36:54.241Z"
   },
   {
    "duration": 29,
    "start_time": "2022-07-14T13:36:54.246Z"
   },
   {
    "duration": 129,
    "start_time": "2022-07-14T13:36:54.278Z"
   },
   {
    "duration": 7,
    "start_time": "2022-07-14T13:36:54.408Z"
   },
   {
    "duration": 11,
    "start_time": "2022-07-14T13:36:54.416Z"
   },
   {
    "duration": 505,
    "start_time": "2022-07-14T13:36:54.428Z"
   },
   {
    "duration": 39,
    "start_time": "2022-07-14T13:36:54.935Z"
   },
   {
    "duration": 37,
    "start_time": "2022-07-14T13:36:54.976Z"
   },
   {
    "duration": 81,
    "start_time": "2022-07-14T13:36:55.016Z"
   },
   {
    "duration": 66,
    "start_time": "2022-07-14T13:36:55.099Z"
   },
   {
    "duration": 7,
    "start_time": "2022-07-14T13:36:55.168Z"
   },
   {
    "duration": 7,
    "start_time": "2022-07-14T13:36:55.178Z"
   },
   {
    "duration": 18,
    "start_time": "2022-07-14T13:36:55.187Z"
   },
   {
    "duration": 8,
    "start_time": "2022-07-14T13:36:55.207Z"
   },
   {
    "duration": 55,
    "start_time": "2022-07-14T13:36:55.217Z"
   },
   {
    "duration": 7,
    "start_time": "2022-07-14T13:36:55.274Z"
   },
   {
    "duration": 12,
    "start_time": "2022-07-14T13:36:55.283Z"
   },
   {
    "duration": 27,
    "start_time": "2022-07-14T13:36:55.296Z"
   },
   {
    "duration": 62,
    "start_time": "2022-07-14T13:36:55.325Z"
   },
   {
    "duration": 195,
    "start_time": "2022-07-14T13:36:55.389Z"
   },
   {
    "duration": 15,
    "start_time": "2022-07-14T13:36:55.586Z"
   },
   {
    "duration": 30,
    "start_time": "2022-07-14T13:36:55.603Z"
   },
   {
    "duration": 128,
    "start_time": "2022-07-14T13:36:55.653Z"
   },
   {
    "duration": 95,
    "start_time": "2022-07-14T13:36:55.783Z"
   },
   {
    "duration": 9,
    "start_time": "2022-07-14T13:36:55.880Z"
   },
   {
    "duration": 7,
    "start_time": "2022-07-14T13:36:55.891Z"
   },
   {
    "duration": 12,
    "start_time": "2022-07-14T13:36:55.899Z"
   },
   {
    "duration": 7,
    "start_time": "2022-07-14T13:36:55.913Z"
   },
   {
    "duration": 46,
    "start_time": "2022-07-14T13:36:55.922Z"
   },
   {
    "duration": 122,
    "start_time": "2022-07-14T13:36:55.971Z"
   },
   {
    "duration": 44,
    "start_time": "2022-07-14T13:36:56.095Z"
   },
   {
    "duration": 22,
    "start_time": "2022-07-14T13:36:56.141Z"
   },
   {
    "duration": 33,
    "start_time": "2022-07-14T13:36:56.166Z"
   },
   {
    "duration": 226,
    "start_time": "2022-07-14T13:36:56.202Z"
   },
   {
    "duration": 346,
    "start_time": "2022-07-14T13:36:56.429Z"
   },
   {
    "duration": 13,
    "start_time": "2022-07-14T13:36:56.777Z"
   },
   {
    "duration": 12,
    "start_time": "2022-07-14T13:36:56.792Z"
   },
   {
    "duration": 5,
    "start_time": "2022-07-14T13:36:56.805Z"
   },
   {
    "duration": 746,
    "start_time": "2022-07-14T13:36:56.813Z"
   },
   {
    "duration": 0,
    "start_time": "2022-07-14T13:36:57.560Z"
   },
   {
    "duration": 0,
    "start_time": "2022-07-14T13:36:57.563Z"
   },
   {
    "duration": 0,
    "start_time": "2022-07-14T13:36:57.563Z"
   },
   {
    "duration": 0,
    "start_time": "2022-07-14T13:36:57.564Z"
   },
   {
    "duration": 0,
    "start_time": "2022-07-14T13:36:57.566Z"
   },
   {
    "duration": 0,
    "start_time": "2022-07-14T13:36:57.568Z"
   },
   {
    "duration": 0,
    "start_time": "2022-07-14T13:36:57.573Z"
   },
   {
    "duration": 0,
    "start_time": "2022-07-14T13:36:57.574Z"
   },
   {
    "duration": 0,
    "start_time": "2022-07-14T13:36:57.575Z"
   },
   {
    "duration": 0,
    "start_time": "2022-07-14T13:36:57.576Z"
   },
   {
    "duration": 0,
    "start_time": "2022-07-14T13:36:57.577Z"
   },
   {
    "duration": 0,
    "start_time": "2022-07-14T13:36:57.578Z"
   },
   {
    "duration": 0,
    "start_time": "2022-07-14T13:36:57.579Z"
   },
   {
    "duration": 0,
    "start_time": "2022-07-14T13:36:57.580Z"
   },
   {
    "duration": 0,
    "start_time": "2022-07-14T13:36:57.581Z"
   },
   {
    "duration": 0,
    "start_time": "2022-07-14T13:36:57.582Z"
   },
   {
    "duration": 0,
    "start_time": "2022-07-14T13:36:57.583Z"
   },
   {
    "duration": 0,
    "start_time": "2022-07-14T13:36:57.584Z"
   },
   {
    "duration": 5,
    "start_time": "2022-07-14T13:37:35.513Z"
   },
   {
    "duration": 505,
    "start_time": "2022-07-14T13:37:39.713Z"
   },
   {
    "duration": 566,
    "start_time": "2022-07-14T13:37:44.747Z"
   },
   {
    "duration": 866,
    "start_time": "2022-07-14T13:37:45.314Z"
   },
   {
    "duration": 17,
    "start_time": "2022-07-14T13:37:46.188Z"
   },
   {
    "duration": 9,
    "start_time": "2022-07-14T13:37:46.208Z"
   },
   {
    "duration": 178,
    "start_time": "2022-07-14T13:37:46.219Z"
   },
   {
    "duration": 14,
    "start_time": "2022-07-14T13:37:46.399Z"
   },
   {
    "duration": 912,
    "start_time": "2022-07-14T13:37:46.415Z"
   },
   {
    "duration": 33,
    "start_time": "2022-07-14T13:37:47.328Z"
   },
   {
    "duration": 768,
    "start_time": "2022-07-14T13:37:47.362Z"
   },
   {
    "duration": 57,
    "start_time": "2022-07-14T13:37:48.132Z"
   },
   {
    "duration": 24,
    "start_time": "2022-07-14T13:37:48.192Z"
   },
   {
    "duration": 11,
    "start_time": "2022-07-14T13:37:48.218Z"
   },
   {
    "duration": 4,
    "start_time": "2022-07-14T13:37:48.230Z"
   },
   {
    "duration": 56,
    "start_time": "2022-07-14T13:37:48.254Z"
   },
   {
    "duration": 134,
    "start_time": "2022-07-14T13:37:48.312Z"
   },
   {
    "duration": 320,
    "start_time": "2022-07-14T13:37:48.447Z"
   },
   {
    "duration": 260,
    "start_time": "2022-07-14T13:37:48.771Z"
   },
   {
    "duration": 22,
    "start_time": "2022-07-14T13:37:49.034Z"
   },
   {
    "duration": 39,
    "start_time": "2022-07-14T13:37:49.067Z"
   },
   {
    "duration": 19,
    "start_time": "2022-07-14T14:03:55.918Z"
   },
   {
    "duration": 22,
    "start_time": "2022-07-14T14:04:11.165Z"
   },
   {
    "duration": 20,
    "start_time": "2022-07-14T14:06:28.086Z"
   },
   {
    "duration": 23,
    "start_time": "2022-07-14T14:06:42.927Z"
   },
   {
    "duration": 22,
    "start_time": "2022-07-14T14:06:49.593Z"
   },
   {
    "duration": 19,
    "start_time": "2022-07-14T14:06:58.918Z"
   },
   {
    "duration": 20,
    "start_time": "2022-07-14T14:07:08.446Z"
   },
   {
    "duration": 273,
    "start_time": "2022-07-14T14:07:35.126Z"
   },
   {
    "duration": 291,
    "start_time": "2022-07-14T14:07:50.211Z"
   },
   {
    "duration": 340,
    "start_time": "2022-07-14T14:07:58.078Z"
   },
   {
    "duration": 205,
    "start_time": "2022-07-14T14:08:05.600Z"
   },
   {
    "duration": 182,
    "start_time": "2022-07-14T14:10:41.128Z"
   },
   {
    "duration": 167,
    "start_time": "2022-07-14T14:10:48.803Z"
   },
   {
    "duration": 162,
    "start_time": "2022-07-14T14:11:05.368Z"
   },
   {
    "duration": 31,
    "start_time": "2022-07-14T14:11:26.807Z"
   },
   {
    "duration": 43,
    "start_time": "2022-07-14T14:11:56.680Z"
   },
   {
    "duration": 31,
    "start_time": "2022-07-14T14:12:03.697Z"
   },
   {
    "duration": 7,
    "start_time": "2022-07-14T14:12:52.687Z"
   },
   {
    "duration": 452,
    "start_time": "2022-07-14T14:12:55.887Z"
   },
   {
    "duration": 772,
    "start_time": "2022-07-14T14:13:00.719Z"
   },
   {
    "duration": 6,
    "start_time": "2022-07-14T14:13:50.888Z"
   },
   {
    "duration": 117,
    "start_time": "2022-07-14T14:13:52.599Z"
   },
   {
    "duration": 6,
    "start_time": "2022-07-14T14:14:02.165Z"
   },
   {
    "duration": 139,
    "start_time": "2022-07-14T14:14:04.679Z"
   },
   {
    "duration": 729,
    "start_time": "2022-07-14T14:14:17.269Z"
   },
   {
    "duration": 242,
    "start_time": "2022-07-14T14:14:46.248Z"
   },
   {
    "duration": 292,
    "start_time": "2022-07-14T14:14:56.320Z"
   },
   {
    "duration": 360,
    "start_time": "2022-07-14T14:15:02.662Z"
   }
  ],
  "kernelspec": {
   "display_name": "Python 3 (ipykernel)",
   "language": "python",
   "name": "python3"
  },
  "language_info": {
   "codemirror_mode": {
    "name": "ipython",
    "version": 3
   },
   "file_extension": ".py",
   "mimetype": "text/x-python",
   "name": "python",
   "nbconvert_exporter": "python",
   "pygments_lexer": "ipython3",
   "version": "3.9.13"
  },
  "toc": {
   "base_numbering": 1,
   "nav_menu": {},
   "number_sections": true,
   "sideBar": true,
   "skip_h1_title": true,
   "title_cell": "Содержание",
   "title_sidebar": "Содержание",
   "toc_cell": true,
   "toc_position": {
    "height": "calc(100% - 180px)",
    "left": "10px",
    "top": "150px",
    "width": "165px"
   },
   "toc_section_display": true,
   "toc_window_display": true
  }
 },
 "nbformat": 4,
 "nbformat_minor": 5
}
