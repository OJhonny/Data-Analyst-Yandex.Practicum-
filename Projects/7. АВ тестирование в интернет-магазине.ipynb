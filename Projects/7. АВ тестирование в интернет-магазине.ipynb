{
 "cells": [
  {
   "cell_type": "markdown",
   "metadata": {},
   "source": [
    "<div style=\"background: #0000; padding: 5px; border: 3px solid blue; border-radius: 5px;\">\n",
    "<font size=\"4\", color = \"black\">\n",
    "<b>КОММЕНТАРИЙ РЕВЬЮЕРА</b>\n",
    "<br /><br />\n",
    "Рад приветствовать тебя, Олег! <br />\n",
    "<br />    \n",
    "<br />\n",
    "Меня зовут Георгий Озбетелашвили, можно просто Гио. \n",
    "<br />\n",
    "Благодарю тебя, что прислала задание! Я перейду сразу на \"ты\" (если неудобно, то скажи мне).<br /> <br />Я буду комментировать твои задания по следующим принципам:<br />\n",
    "<b>ТАКОЙ ШРИФТ</b> - всегда начало моего комментария <br />\n",
    "<font color='blue'>такой фон</font> - комментарии с интересной ссылкой и дополнительной инфой<br/>\n",
    "<font color='green'>такой фон</font> - комментарии о том, что всё сделано правильно. Могу тут же оставить полезную рекомендацию <br/>\n",
    "<font color='orange'>такой фон</font> - комментарии о том, что всё хорошо, однако есть на что обратить внимание<br/>\n",
    "<font color='red'>такой фон</font> - комментарии о том, что есть критически важный момент, которому стоит уделить особое внимание и исправить.<br/>\n",
    "Чтобы было легче различать комментарии, я буду прикладывать к каждому типу комментария свой смайлик. Они буду ниже в примерах.\n",
    "<br /><br />\n",
    "Я буду стараться передавать тебе свой опыт и направлять тебя к правильному и эффективному решению, чтобы в дальнейшем ты могла расти дальше как крутой специалист ;) Будет круто, если будешь оставлять свои комментарии (просьба не удалять мои)! Помни, что глупых вопросов не бывает! А твой дружелюбный сосед ревьюер всегда будет рядом и поможет тебе)<br>\n",
    "<br> Ну что, народ, погнали!<br>\n",
    "    </font>\n",
    "    \n",
    "# ---------------------------------------------------------------------------------------------------------------\n",
    "# Примеры комментариев\n",
    "    \n",
    "<div class=\"alert alert-info\"; style=\"border-left: 7px solid blue\">\n",
    "<font size=\"4\"><b>Комментарий ревьюера 🎓</b></font>\n",
    "    <br /> \n",
    "    <font size=\"3\", color = \"black\">\n",
    "<br />\n",
    "      <br />Тут полезная ссылочка, советую посмотреть, если будет время :) Данная тема часто спрашивается на собеседованиях на джун-позиции  <br/>\n",
    "        <br /> <a href=\"https://webdevblog.ru/vvedenie-v-generatory-python/\">Введение в генераторы Python</a>\n",
    "    <br />\n",
    "    </font>\n",
    "\n",
    "</div>\n",
    "    \n",
    "<div class=\"alert alert-success\"; style=\"border-left: 7px solid green\">\n",
    "<font size=\"4\"><b>Комментарий ревьюера 🚀</b></font>\n",
    "    <br />\n",
    "    <font size=\"3\", color = \"black\">\n",
    "    <br /> Все отлично, интересная логика решения!  \n",
    "     <br />\n",
    "    </font>\n",
    "\n",
    "</div>\n",
    " \n",
    "<div class=\"alert alert-warning\" ; style=\"border-left: 7px solid orange\">\n",
    "<font size=\"4\"><b>Комментарий ревьюера 👀</b></font>\n",
    "    <br />\n",
    "    <font size=\"3\", color = \"black\">\n",
    "    <br /> Если таких замечаний >= 3, то следует исправить недочеты. Если кол-во замечаний меньше 3, то зачту проект \n",
    "    <br />\n",
    "    </font>\n",
    "\n",
    "</div>\n",
    "    \n",
    "<div class=\"alert alert-danger\"; style=\"border-left: 7px solid red\">\n",
    "<font size=\"4\"><b>Комментарий ревьюера 🦔 </b></font>\n",
    "    <br /> \n",
    "    <font size=\"3\", color = \"black\">\n",
    "<br />\n",
    "    Стоит исправить ошибки)  \n",
    "    <br />\n",
    "    </font>\n",
    "\n",
    "</div>"
   ]
  },
  {
   "cell_type": "markdown",
   "metadata": {},
   "source": [
    "<div style=\"background: #0000; padding: 5px; border: 3px solid blue; border-radius: 5px;\">\n",
    "<font size=\"4\", color = \"black\">\n",
    "<b>КОММЕНТАРИЙ РЕВЬЮЕРА v2</b>\n",
    "<br /><br />Привет, Олег! Спасибо тебе за важные исправления! Принимаю работу и желаю удачи в дальнейшем становлении крутым спецом😎<br>\n",
    "    <br> Мои новые комментарии будут с припиской  v2<br> \n",
    "    </font>"
   ]
  },
  {
   "cell_type": "markdown",
   "metadata": {
    "toc": true
   },
   "source": [
    "<h1>Содержание<span class=\"tocSkip\"></span></h1>\n",
    "<div class=\"toc\"><ul class=\"toc-item\"><li><span><a href=\"#Подготовка-данных\" data-toc-modified-id=\"Подготовка-данных-1\"><span class=\"toc-item-num\">1&nbsp;&nbsp;</span>Подготовка данных</a></span><ul class=\"toc-item\"><li><span><a href=\"#Импорт-библиотек-и-загрузка-данных\" data-toc-modified-id=\"Импорт-библиотек-и-загрузка-данных-1.1\"><span class=\"toc-item-num\">1.1&nbsp;&nbsp;</span>Импорт библиотек и загрузка данных</a></span></li><li><span><a href=\"#Обзор-данных\" data-toc-modified-id=\"Обзор-данных-1.2\"><span class=\"toc-item-num\">1.2&nbsp;&nbsp;</span>Обзор данных</a></span><ul class=\"toc-item\"><li><span><a href=\"#Таблица-hypothesis\" data-toc-modified-id=\"Таблица-hypothesis-1.2.1\"><span class=\"toc-item-num\">1.2.1&nbsp;&nbsp;</span>Таблица hypothesis</a></span></li><li><span><a href=\"#Таблица-orders\" data-toc-modified-id=\"Таблица-orders-1.2.2\"><span class=\"toc-item-num\">1.2.2&nbsp;&nbsp;</span>Таблица orders</a></span></li><li><span><a href=\"#Таблица-visitors\" data-toc-modified-id=\"Таблица-visitors-1.2.3\"><span class=\"toc-item-num\">1.2.3&nbsp;&nbsp;</span>Таблица visitors</a></span></li></ul></li><li><span><a href=\"#Выводы\" data-toc-modified-id=\"Выводы-1.3\"><span class=\"toc-item-num\">1.3&nbsp;&nbsp;</span>Выводы</a></span></li><li><span><a href=\"#Стиль-заголовков\" data-toc-modified-id=\"Стиль-заголовков-1.4\"><span class=\"toc-item-num\">1.4&nbsp;&nbsp;</span>Стиль заголовков</a></span></li><li><span><a href=\"#Обработка-пропусков\" data-toc-modified-id=\"Обработка-пропусков-1.5\"><span class=\"toc-item-num\">1.5&nbsp;&nbsp;</span>Обработка пропусков</a></span></li><li><span><a href=\"#Изменение-типа-данных\" data-toc-modified-id=\"Изменение-типа-данных-1.6\"><span class=\"toc-item-num\">1.6&nbsp;&nbsp;</span>Изменение типа данных</a></span></li><li><span><a href=\"#Обработка-дубликатов\" data-toc-modified-id=\"Обработка-дубликатов-1.7\"><span class=\"toc-item-num\">1.7&nbsp;&nbsp;</span>Обработка дубликатов</a></span></li><li><span><a href=\"#Корректность-распределения-пользователей-по-группам\" data-toc-modified-id=\"Корректность-распределения-пользователей-по-группам-1.8\"><span class=\"toc-item-num\">1.8&nbsp;&nbsp;</span>Корректность распределения пользователей по группам</a></span></li><li><span><a href=\"#Минимальная-и-максимальная-дата\" data-toc-modified-id=\"Минимальная-и-максимальная-дата-1.9\"><span class=\"toc-item-num\">1.9&nbsp;&nbsp;</span>Минимальная и максимальная дата</a></span></li><li><span><a href=\"#Выводы\" data-toc-modified-id=\"Выводы-1.10\"><span class=\"toc-item-num\">1.10&nbsp;&nbsp;</span>Выводы</a></span></li></ul></li><li><span><a href=\"#Приоритизация-гипотез\" data-toc-modified-id=\"Приоритизация-гипотез-2\"><span class=\"toc-item-num\">2&nbsp;&nbsp;</span>Приоритизация гипотез</a></span><ul class=\"toc-item\"><li><span><a href=\"#Приотиризация-фреймворком-ICE\" data-toc-modified-id=\"Приотиризация-фреймворком-ICE-2.1\"><span class=\"toc-item-num\">2.1&nbsp;&nbsp;</span>Приотиризация фреймворком ICE</a></span></li><li><span><a href=\"#Приотиризация-фреймворком-RICE\" data-toc-modified-id=\"Приотиризация-фреймворком-RICE-2.2\"><span class=\"toc-item-num\">2.2&nbsp;&nbsp;</span>Приотиризация фреймворком RICE</a></span></li><li><span><a href=\"#Вывод\" data-toc-modified-id=\"Вывод-2.3\"><span class=\"toc-item-num\">2.3&nbsp;&nbsp;</span>Вывод</a></span></li></ul></li><li><span><a href=\"#Исследовательский-анализ-A/B-теста\" data-toc-modified-id=\"Исследовательский-анализ-A/B-теста-3\"><span class=\"toc-item-num\">3&nbsp;&nbsp;</span>Исследовательский анализ A/B-теста</a></span><ul class=\"toc-item\"><li><span><a href=\"#Датафрейм-cumulative_data\" data-toc-modified-id=\"Датафрейм-cumulative_data-3.1\"><span class=\"toc-item-num\">3.1&nbsp;&nbsp;</span>Датафрейм cumulative_data</a></span></li><li><span><a href=\"#График-кумулятивной-выручки\" data-toc-modified-id=\"График-кумулятивной-выручки-3.2\"><span class=\"toc-item-num\">3.2&nbsp;&nbsp;</span>График кумулятивной выручки</a></span></li><li><span><a href=\"#График-кумулятивного-среднего-чека\" data-toc-modified-id=\"График-кумулятивного-среднего-чека-3.3\"><span class=\"toc-item-num\">3.3&nbsp;&nbsp;</span>График кумулятивного среднего чека</a></span></li><li><span><a href=\"#График-относительного-изменения-кумулятивного-среднего-чека-группы-B-к-группе-A\" data-toc-modified-id=\"График-относительного-изменения-кумулятивного-среднего-чека-группы-B-к-группе-A-3.4\"><span class=\"toc-item-num\">3.4&nbsp;&nbsp;</span>График относительного изменения кумулятивного среднего чека группы B к группе A</a></span></li><li><span><a href=\"#График-кумулятивной-конверсии\" data-toc-modified-id=\"График-кумулятивной-конверсии-3.5\"><span class=\"toc-item-num\">3.5&nbsp;&nbsp;</span>График кумулятивной конверсии</a></span></li><li><span><a href=\"#График-относительного-изменения-кумулятивной-конверсии-группы-B-к-группе-A\" data-toc-modified-id=\"График-относительного-изменения-кумулятивной-конверсии-группы-B-к-группе-A-3.6\"><span class=\"toc-item-num\">3.6&nbsp;&nbsp;</span>График относительного изменения кумулятивной конверсии группы B к группе A</a></span></li><li><span><a href=\"#График-количества-заказов-по-пользователям\" data-toc-modified-id=\"График-количества-заказов-по-пользователям-3.7\"><span class=\"toc-item-num\">3.7&nbsp;&nbsp;</span>График количества заказов по пользователям</a></span></li><li><span><a href=\"#Перцентили-количества-заказов-на-пользователя\" data-toc-modified-id=\"Перцентили-количества-заказов-на-пользователя-3.8\"><span class=\"toc-item-num\">3.8&nbsp;&nbsp;</span>Перцентили количества заказов на пользователя</a></span></li><li><span><a href=\"#График-стоимостей-заказов\" data-toc-modified-id=\"График-стоимостей-заказов-3.9\"><span class=\"toc-item-num\">3.9&nbsp;&nbsp;</span>График стоимостей заказов</a></span></li><li><span><a href=\"#Перцентили-стоимости-заказов\" data-toc-modified-id=\"Перцентили-стоимости-заказов-3.10\"><span class=\"toc-item-num\">3.10&nbsp;&nbsp;</span>Перцентили стоимости заказов</a></span></li><li><span><a href=\"#Выводы\" data-toc-modified-id=\"Выводы-3.11\"><span class=\"toc-item-num\">3.11&nbsp;&nbsp;</span>Выводы</a></span></li></ul></li><li><span><a href=\"#Статистический-анализ-A/B-теста\" data-toc-modified-id=\"Статистический-анализ-A/B-теста-4\"><span class=\"toc-item-num\">4&nbsp;&nbsp;</span>Статистический анализ A/B-теста</a></span><ul class=\"toc-item\"><li><span><a href=\"#Датафрейм-data--и-выборки-с-&quot;сырыми&quot;-данными\" data-toc-modified-id=\"Датафрейм-data--и-выборки-с-&quot;сырыми&quot;-данными-4.1\"><span class=\"toc-item-num\">4.1&nbsp;&nbsp;</span>Датафрейм data  и выборки с \"сырыми\" данными</a></span></li><li><span><a href=\"#Статистическая-значимость-различий-в-конверсии-между-группами-по-«сырым»-данным\" data-toc-modified-id=\"Статистическая-значимость-различий-в-конверсии-между-группами-по-«сырым»-данным-4.2\"><span class=\"toc-item-num\">4.2&nbsp;&nbsp;</span>Статистическая значимость различий в конверсии между группами по «сырым» данным</a></span></li><li><span><a href=\"#Статистическая-значимость-различий-в-среднем-чеке-между-группами-по-«сырым»-данным\" data-toc-modified-id=\"Статистическая-значимость-различий-в-среднем-чеке-между-группами-по-«сырым»-данным-4.3\"><span class=\"toc-item-num\">4.3&nbsp;&nbsp;</span>Статистическая значимость различий в среднем чеке между группами по «сырым» данным</a></span></li><li><span><a href=\"#Датафрейм-abnormal_date-и-выборки-с--&quot;очищенными&quot;-данными\" data-toc-modified-id=\"Датафрейм-abnormal_date-и-выборки-с--&quot;очищенными&quot;-данными-4.4\"><span class=\"toc-item-num\">4.4&nbsp;&nbsp;</span>Датафрейм abnormal_date и выборки с  \"очищенными\" данными</a></span></li><li><span><a href=\"#Статистическая-значимость-различий-в-конверсии-между-группами-по-«очищенным»-данным\" data-toc-modified-id=\"Статистическая-значимость-различий-в-конверсии-между-группами-по-«очищенным»-данным-4.5\"><span class=\"toc-item-num\">4.5&nbsp;&nbsp;</span>Статистическая значимость различий в конверсии между группами по «очищенным» данным</a></span></li><li><span><a href=\"#Статистическая-значимость-различий-в-среднем-чеке-между-группами-по-«очищенным»-данным\" data-toc-modified-id=\"Статистическая-значимость-различий-в-среднем-чеке-между-группами-по-«очищенным»-данным-4.6\"><span class=\"toc-item-num\">4.6&nbsp;&nbsp;</span>Статистическая значимость различий в среднем чеке между группами по «очищенным» данным</a></span></li><li><span><a href=\"#Выводы\" data-toc-modified-id=\"Выводы-4.7\"><span class=\"toc-item-num\">4.7&nbsp;&nbsp;</span>Выводы</a></span></li></ul></li><li><span><a href=\"#Общие-выводы\" data-toc-modified-id=\"Общие-выводы-5\"><span class=\"toc-item-num\">5&nbsp;&nbsp;</span>Общие выводы</a></span></li></ul></div>"
   ]
  },
  {
   "cell_type": "markdown",
   "metadata": {},
   "source": [
    "<div class=\"alert alert-success\"; style=\"border-left: 7px solid green\">\n",
    "<font size=\"4\"><b>Комментарий ревьюера 🚀</b></font>\n",
    "    <br />\n",
    "    <font size=\"3\", color = \"black\">\n",
    "    <br /> Отличное содержание проекта. Позволяет легко ориентироваться в нем.\n",
    "     <br />\n",
    "    </font>\n",
    "\n",
    "</div>"
   ]
  },
  {
   "cell_type": "markdown",
   "metadata": {},
   "source": [
    "**Проект \"A/B-тест в интернет-магазине\"**\n",
    "\n",
    "**Проблема:**\n",
    "\n",
    "Вместе с отделом маркетинга подготовлены несколько гипотез по увеличению выручки, которые нужно проверить с помощью A/B-теста.\n",
    "\n",
    "**Цель:**\n",
    "\n",
    "Провести приоритизацию гипотез по увеличению выручки и анализ A/B-теста, чтобы максимально повысить выручку интернет-магазина.\n",
    "\n",
    "**Задачи:**\n",
    "- Приоритизировать гипотезы; \n",
    "- Провести A/B-тест; \n",
    "- Проанализировать результаты A/B-теста.\n",
    "\n",
    "**План**\n",
    "\n",
    "- Часть 1. Подготовка данных. \n",
    "- Часть 2. Приоритизация гипотез.\n",
    "- Часть 3. Исследовательский анализ A/B-теста.\n",
    "- Часть 4. Статистический анализ A/B-теста.\n",
    "- Часть 5. Общие выводы\n",
    "\n",
    "**Описание данных**\n",
    "\n",
    "В файле /datasets/hypothesis.csv 9 гипотез по увеличению выручки интернет-магазина с указанными параметрами Reach, Impact, Confidence, Effort.\n",
    "\n",
    "Результаты A/B-тест будут в файлах /datasets/orders.csv и /datasets/visitors.csv."
   ]
  },
  {
   "cell_type": "markdown",
   "metadata": {},
   "source": [
    "<div class=\"alert alert-success\"; style=\"border-left: 7px solid green\">\n",
    "<font size=\"4\"><b>Комментарий ревьюера 🚀</b></font>\n",
    "    <br />\n",
    "    <font size=\"3\", color = \"black\">\n",
    "    <br /> Великолепно, что оформляешь введение в работу! Благодаря описанным задачам и данным будет легче вникнуть в работу как тебе через несколько месяцев, так и заказчику проекта\n",
    "     <br />\n",
    "    </font>\n",
    "\n",
    "</div>"
   ]
  },
  {
   "cell_type": "markdown",
   "metadata": {},
   "source": [
    "## Подготовка данных "
   ]
  },
  {
   "cell_type": "markdown",
   "metadata": {},
   "source": [
    "### Импорт библиотек и загрузка данных"
   ]
  },
  {
   "cell_type": "code",
   "execution_count": 2,
   "metadata": {},
   "outputs": [],
   "source": [
    "# импорт библиотек\n",
    "import pandas as pd                             # для анализа данных\n",
    "import numpy as np                              # для математических вычислений\n",
    "\n",
    "import seaborn as sns                           # для визуализации данных\n",
    "from matplotlib import pyplot as plt            # для визуализации данных\n",
    "%matplotlib inline\n",
    "\n",
    "import datetime as dt                           # для преобразования к типу данных\n",
    "from datetime import datetime      \n",
    "import scipy.stats as stats                     # для высокоуровневых математических вычислений\n",
    "from scipy import stats as st                   \n",
    "\n",
    "import warnings                                 # для предупреждений в программе \n",
    "warnings.filterwarnings('ignore')               # игнорировать предупреждения"
   ]
  },
  {
   "cell_type": "code",
   "execution_count": 3,
   "metadata": {},
   "outputs": [],
   "source": [
    "# создание переменных с датафреймами  \n",
    "hypothesis = pd.read_csv('/datasets/hypothesis.csv') # гипотезы\n",
    "orders = pd.read_csv('/datasets/orders.csv')  # заказы\n",
    "visitors = pd.read_csv('/datasets/visitors.csv')  # пользователи\n",
    "\n",
    "# с помощью pd.option настроим вывод так, чтобы:\n",
    "pd.options.display.max_columns = None\n",
    "pd.options.display.max_colwidth = -1                # текст в ячейке отражался полностью вне зависимости от длины;\n",
    "pd.options.display.float_format = '{:.2f}'.format   # все числа отражались с двумя знаками после запятой."
   ]
  },
  {
   "cell_type": "markdown",
   "metadata": {},
   "source": [
    "<div class=\"alert alert-success\"; style=\"border-left: 7px solid green\">\n",
    "<font size=\"4\"><b>Комментарий ревьюера 🚀</b></font>\n",
    "    <br />\n",
    "    <font size=\"3\", color = \"black\">\n",
    "    <br /> Вызваны все необходимые библиотеки для решения задач данного проекта! Обладаешь обширным инструментарием.\n",
    "     <br /><br />\n",
    "        Отлично, что настраиваешь pandas для корректной визуализации\n",
    "    </font>\n",
    "\n",
    "</div>"
   ]
  },
  {
   "cell_type": "markdown",
   "metadata": {},
   "source": [
    "### Обзор данных  "
   ]
  },
  {
   "cell_type": "markdown",
   "metadata": {},
   "source": [
    "#### Таблица hypothesis\n",
    "\n",
    "- Hypothesis — краткое описание гипотезы;\n",
    "- Reach — охват пользователей по 10-балльной шкале;\n",
    "- Impact — влияние на пользователей по 10-балльной шкале;\n",
    "- Confidence — уверенность в гипотезе по 10-балльной шкале;\n",
    "- Efforts — затраты ресурсов на проверку гипотезы по 10-балльной шкале. Чем больше значение Efforts, тем дороже проверка гипотезы."
   ]
  },
  {
   "cell_type": "markdown",
   "metadata": {},
   "source": [
    "<div class=\"alert alert-success\"; style=\"border-left: 7px solid green\">\n",
    "<font size=\"4\"><b>Комментарий ревьюера 🚀</b></font>\n",
    "    <br />\n",
    "    <font size=\"3\", color = \"black\">\n",
    "    <br /> Отличное описание данных\n",
    "     <br />\n",
    "    </font>\n",
    "\n",
    "</div>"
   ]
  },
  {
   "cell_type": "code",
   "execution_count": 4,
   "metadata": {
    "scrolled": false
   },
   "outputs": [
    {
     "data": {
      "text/plain": [
       "'5 рандомных строк таблицы:'"
      ]
     },
     "metadata": {},
     "output_type": "display_data"
    },
    {
     "data": {
      "text/html": [
       "<div>\n",
       "<style scoped>\n",
       "    .dataframe tbody tr th:only-of-type {\n",
       "        vertical-align: middle;\n",
       "    }\n",
       "\n",
       "    .dataframe tbody tr th {\n",
       "        vertical-align: top;\n",
       "    }\n",
       "\n",
       "    .dataframe thead th {\n",
       "        text-align: right;\n",
       "    }\n",
       "</style>\n",
       "<table border=\"1\" class=\"dataframe\">\n",
       "  <thead>\n",
       "    <tr style=\"text-align: right;\">\n",
       "      <th></th>\n",
       "      <th>Hypothesis</th>\n",
       "      <th>Reach</th>\n",
       "      <th>Impact</th>\n",
       "      <th>Confidence</th>\n",
       "      <th>Efforts</th>\n",
       "    </tr>\n",
       "  </thead>\n",
       "  <tbody>\n",
       "    <tr>\n",
       "      <th>0</th>\n",
       "      <td>Добавить два новых канала привлечения трафика, что позволит привлекать на 30% больше пользователей</td>\n",
       "      <td>3</td>\n",
       "      <td>10</td>\n",
       "      <td>8</td>\n",
       "      <td>6</td>\n",
       "    </tr>\n",
       "    <tr>\n",
       "      <th>8</th>\n",
       "      <td>Запустить акцию, дающую скидку на товар в день рождения</td>\n",
       "      <td>1</td>\n",
       "      <td>9</td>\n",
       "      <td>9</td>\n",
       "      <td>5</td>\n",
       "    </tr>\n",
       "    <tr>\n",
       "      <th>3</th>\n",
       "      <td>Изменить структура категорий, что увеличит конверсию, т.к. пользователи быстрее найдут нужный товар</td>\n",
       "      <td>8</td>\n",
       "      <td>3</td>\n",
       "      <td>3</td>\n",
       "      <td>8</td>\n",
       "    </tr>\n",
       "    <tr>\n",
       "      <th>4</th>\n",
       "      <td>Изменить цвет фона главной страницы, чтобы увеличить вовлеченность пользователей</td>\n",
       "      <td>3</td>\n",
       "      <td>1</td>\n",
       "      <td>1</td>\n",
       "      <td>1</td>\n",
       "    </tr>\n",
       "    <tr>\n",
       "      <th>7</th>\n",
       "      <td>Добавить форму подписки на все основные страницы, чтобы собрать базу клиентов для email-рассылок</td>\n",
       "      <td>10</td>\n",
       "      <td>7</td>\n",
       "      <td>8</td>\n",
       "      <td>5</td>\n",
       "    </tr>\n",
       "  </tbody>\n",
       "</table>\n",
       "</div>"
      ],
      "text/plain": [
       "                                                                                            Hypothesis  \\\n",
       "0  Добавить два новых канала привлечения трафика, что позволит привлекать на 30% больше пользователей    \n",
       "8  Запустить акцию, дающую скидку на товар в день рождения                                               \n",
       "3  Изменить структура категорий, что увеличит конверсию, т.к. пользователи быстрее найдут нужный товар   \n",
       "4  Изменить цвет фона главной страницы, чтобы увеличить вовлеченность пользователей                      \n",
       "7  Добавить форму подписки на все основные страницы, чтобы собрать базу клиентов для email-рассылок      \n",
       "\n",
       "   Reach  Impact  Confidence  Efforts  \n",
       "0  3      10      8           6        \n",
       "8  1      9       9           5        \n",
       "3  8      3       3           8        \n",
       "4  3      1       1           1        \n",
       "7  10     7       8           5        "
      ]
     },
     "metadata": {},
     "output_type": "display_data"
    },
    {
     "data": {
      "text/plain": [
       "'Статистика данных:'"
      ]
     },
     "metadata": {},
     "output_type": "display_data"
    },
    {
     "data": {
      "text/html": [
       "<div>\n",
       "<style scoped>\n",
       "    .dataframe tbody tr th:only-of-type {\n",
       "        vertical-align: middle;\n",
       "    }\n",
       "\n",
       "    .dataframe tbody tr th {\n",
       "        vertical-align: top;\n",
       "    }\n",
       "\n",
       "    .dataframe thead th {\n",
       "        text-align: right;\n",
       "    }\n",
       "</style>\n",
       "<table border=\"1\" class=\"dataframe\">\n",
       "  <thead>\n",
       "    <tr style=\"text-align: right;\">\n",
       "      <th></th>\n",
       "      <th>count</th>\n",
       "      <th>mean</th>\n",
       "      <th>std</th>\n",
       "      <th>min</th>\n",
       "      <th>25%</th>\n",
       "      <th>50%</th>\n",
       "      <th>75%</th>\n",
       "      <th>max</th>\n",
       "    </tr>\n",
       "  </thead>\n",
       "  <tbody>\n",
       "    <tr>\n",
       "      <th>Reach</th>\n",
       "      <td>9.00</td>\n",
       "      <td>4.78</td>\n",
       "      <td>3.15</td>\n",
       "      <td>1.00</td>\n",
       "      <td>3.00</td>\n",
       "      <td>3.00</td>\n",
       "      <td>8.00</td>\n",
       "      <td>10.00</td>\n",
       "    </tr>\n",
       "    <tr>\n",
       "      <th>Impact</th>\n",
       "      <td>9.00</td>\n",
       "      <td>4.78</td>\n",
       "      <td>3.19</td>\n",
       "      <td>1.00</td>\n",
       "      <td>3.00</td>\n",
       "      <td>3.00</td>\n",
       "      <td>7.00</td>\n",
       "      <td>10.00</td>\n",
       "    </tr>\n",
       "    <tr>\n",
       "      <th>Confidence</th>\n",
       "      <td>9.00</td>\n",
       "      <td>5.56</td>\n",
       "      <td>3.05</td>\n",
       "      <td>1.00</td>\n",
       "      <td>3.00</td>\n",
       "      <td>7.00</td>\n",
       "      <td>8.00</td>\n",
       "      <td>9.00</td>\n",
       "    </tr>\n",
       "    <tr>\n",
       "      <th>Efforts</th>\n",
       "      <td>9.00</td>\n",
       "      <td>4.89</td>\n",
       "      <td>2.80</td>\n",
       "      <td>1.00</td>\n",
       "      <td>3.00</td>\n",
       "      <td>5.00</td>\n",
       "      <td>6.00</td>\n",
       "      <td>10.00</td>\n",
       "    </tr>\n",
       "  </tbody>\n",
       "</table>\n",
       "</div>"
      ],
      "text/plain": [
       "            count  mean  std  min  25%  50%  75%   max\n",
       "Reach      9.00   4.78  3.15 1.00 3.00 3.00 8.00 10.00\n",
       "Impact     9.00   4.78  3.19 1.00 3.00 3.00 7.00 10.00\n",
       "Confidence 9.00   5.56  3.05 1.00 3.00 7.00 8.00 9.00 \n",
       "Efforts    9.00   4.89  2.80 1.00 3.00 5.00 6.00 10.00"
      ]
     },
     "metadata": {},
     "output_type": "display_data"
    },
    {
     "data": {
      "text/html": [
       "<div>\n",
       "<style scoped>\n",
       "    .dataframe tbody tr th:only-of-type {\n",
       "        vertical-align: middle;\n",
       "    }\n",
       "\n",
       "    .dataframe tbody tr th {\n",
       "        vertical-align: top;\n",
       "    }\n",
       "\n",
       "    .dataframe thead th {\n",
       "        text-align: right;\n",
       "    }\n",
       "</style>\n",
       "<table border=\"1\" class=\"dataframe\">\n",
       "  <thead>\n",
       "    <tr style=\"text-align: right;\">\n",
       "      <th></th>\n",
       "      <th>count</th>\n",
       "      <th>unique</th>\n",
       "      <th>top</th>\n",
       "      <th>freq</th>\n",
       "    </tr>\n",
       "  </thead>\n",
       "  <tbody>\n",
       "    <tr>\n",
       "      <th>Hypothesis</th>\n",
       "      <td>9</td>\n",
       "      <td>9</td>\n",
       "      <td>Изменить структура категорий, что увеличит конверсию, т.к. пользователи быстрее найдут нужный товар</td>\n",
       "      <td>1</td>\n",
       "    </tr>\n",
       "  </tbody>\n",
       "</table>\n",
       "</div>"
      ],
      "text/plain": [
       "           count unique  \\\n",
       "Hypothesis  9     9       \n",
       "\n",
       "                                                                                                            top  \\\n",
       "Hypothesis  Изменить структура категорий, что увеличит конверсию, т.к. пользователи быстрее найдут нужный товар   \n",
       "\n",
       "           freq  \n",
       "Hypothesis  1    "
      ]
     },
     "metadata": {},
     "output_type": "display_data"
    },
    {
     "data": {
      "text/plain": [
       "'Общая информация о данных:'"
      ]
     },
     "metadata": {},
     "output_type": "display_data"
    },
    {
     "name": "stdout",
     "output_type": "stream",
     "text": [
      "<class 'pandas.core.frame.DataFrame'>\n",
      "RangeIndex: 9 entries, 0 to 8\n",
      "Data columns (total 5 columns):\n",
      " #   Column      Non-Null Count  Dtype \n",
      "---  ------      --------------  ----- \n",
      " 0   Hypothesis  9 non-null      object\n",
      " 1   Reach       9 non-null      int64 \n",
      " 2   Impact      9 non-null      int64 \n",
      " 3   Confidence  9 non-null      int64 \n",
      " 4   Efforts     9 non-null      int64 \n",
      "dtypes: int64(4), object(1)\n",
      "memory usage: 488.0+ bytes\n"
     ]
    }
   ],
   "source": [
    "# случайная выборка, статистика и общая информация о датафрейме в одной мини-функции\n",
    "\n",
    "def info_dataframe(dataframe):\n",
    "    display(\"5 рандомных строк таблицы:\")\n",
    "    display(dataframe.sample(5))\n",
    "    display(\"Статистика данных:\")\n",
    "    display(dataframe.describe().T)\n",
    "    display(dataframe.describe(include='object').T)\n",
    "    display(\"Общая информация о данных:\")\n",
    "    dataframe.info()\n",
    "    \n",
    "info_dataframe(hypothesis)"
   ]
  },
  {
   "cell_type": "markdown",
   "metadata": {},
   "source": [
    "<div class=\"alert alert-success\"; style=\"border-left: 7px solid green\">\n",
    "<font size=\"4\"><b>Комментарий ревьюера 🚀</b></font>\n",
    "    <br />\n",
    "    <font size=\"3\", color = \"black\">\n",
    "    <br /> Отличная функция для автоматизации знакомства с данными\n",
    "     <br />\n",
    "    </font>\n",
    "\n",
    "</div>"
   ]
  },
  {
   "cell_type": "markdown",
   "metadata": {},
   "source": [
    "#### Таблица orders\n",
    "\n",
    "- transactionId — идентификатор заказа;\n",
    "- visitorId — идентификатор пользователя, совершившего заказ;\n",
    "- date — дата, когда был совершён заказ;\n",
    "- revenue — выручка заказа;\n",
    "- group — группа A/B-теста, в которую попал заказ."
   ]
  },
  {
   "cell_type": "code",
   "execution_count": 5,
   "metadata": {
    "scrolled": false
   },
   "outputs": [
    {
     "data": {
      "text/plain": [
       "'5 рандомных строк таблицы:'"
      ]
     },
     "metadata": {},
     "output_type": "display_data"
    },
    {
     "data": {
      "text/html": [
       "<div>\n",
       "<style scoped>\n",
       "    .dataframe tbody tr th:only-of-type {\n",
       "        vertical-align: middle;\n",
       "    }\n",
       "\n",
       "    .dataframe tbody tr th {\n",
       "        vertical-align: top;\n",
       "    }\n",
       "\n",
       "    .dataframe thead th {\n",
       "        text-align: right;\n",
       "    }\n",
       "</style>\n",
       "<table border=\"1\" class=\"dataframe\">\n",
       "  <thead>\n",
       "    <tr style=\"text-align: right;\">\n",
       "      <th></th>\n",
       "      <th>transactionId</th>\n",
       "      <th>visitorId</th>\n",
       "      <th>date</th>\n",
       "      <th>revenue</th>\n",
       "      <th>group</th>\n",
       "    </tr>\n",
       "  </thead>\n",
       "  <tbody>\n",
       "    <tr>\n",
       "      <th>503</th>\n",
       "      <td>2717892024</td>\n",
       "      <td>865916592</td>\n",
       "      <td>2019-08-24</td>\n",
       "      <td>990</td>\n",
       "      <td>A</td>\n",
       "    </tr>\n",
       "    <tr>\n",
       "      <th>533</th>\n",
       "      <td>3660038601</td>\n",
       "      <td>1463715810</td>\n",
       "      <td>2019-08-29</td>\n",
       "      <td>697</td>\n",
       "      <td>B</td>\n",
       "    </tr>\n",
       "    <tr>\n",
       "      <th>785</th>\n",
       "      <td>3502192780</td>\n",
       "      <td>683554837</td>\n",
       "      <td>2019-08-07</td>\n",
       "      <td>3739</td>\n",
       "      <td>B</td>\n",
       "    </tr>\n",
       "    <tr>\n",
       "      <th>977</th>\n",
       "      <td>3457754169</td>\n",
       "      <td>3752369942</td>\n",
       "      <td>2019-08-22</td>\n",
       "      <td>971</td>\n",
       "      <td>B</td>\n",
       "    </tr>\n",
       "    <tr>\n",
       "      <th>291</th>\n",
       "      <td>2315635631</td>\n",
       "      <td>2606208134</td>\n",
       "      <td>2019-08-03</td>\n",
       "      <td>4299</td>\n",
       "      <td>A</td>\n",
       "    </tr>\n",
       "  </tbody>\n",
       "</table>\n",
       "</div>"
      ],
      "text/plain": [
       "     transactionId   visitorId        date  revenue group\n",
       "503  2717892024     865916592   2019-08-24  990      A   \n",
       "533  3660038601     1463715810  2019-08-29  697      B   \n",
       "785  3502192780     683554837   2019-08-07  3739     B   \n",
       "977  3457754169     3752369942  2019-08-22  971      B   \n",
       "291  2315635631     2606208134  2019-08-03  4299     A   "
      ]
     },
     "metadata": {},
     "output_type": "display_data"
    },
    {
     "data": {
      "text/plain": [
       "'Статистика данных:'"
      ]
     },
     "metadata": {},
     "output_type": "display_data"
    },
    {
     "data": {
      "text/html": [
       "<div>\n",
       "<style scoped>\n",
       "    .dataframe tbody tr th:only-of-type {\n",
       "        vertical-align: middle;\n",
       "    }\n",
       "\n",
       "    .dataframe tbody tr th {\n",
       "        vertical-align: top;\n",
       "    }\n",
       "\n",
       "    .dataframe thead th {\n",
       "        text-align: right;\n",
       "    }\n",
       "</style>\n",
       "<table border=\"1\" class=\"dataframe\">\n",
       "  <thead>\n",
       "    <tr style=\"text-align: right;\">\n",
       "      <th></th>\n",
       "      <th>count</th>\n",
       "      <th>mean</th>\n",
       "      <th>std</th>\n",
       "      <th>min</th>\n",
       "      <th>25%</th>\n",
       "      <th>50%</th>\n",
       "      <th>75%</th>\n",
       "      <th>max</th>\n",
       "    </tr>\n",
       "  </thead>\n",
       "  <tbody>\n",
       "    <tr>\n",
       "      <th>transactionId</th>\n",
       "      <td>1197.00</td>\n",
       "      <td>2155621385.53</td>\n",
       "      <td>1229084904.76</td>\n",
       "      <td>1062393.00</td>\n",
       "      <td>1166775572.00</td>\n",
       "      <td>2145193898.00</td>\n",
       "      <td>3237740112.00</td>\n",
       "      <td>4293855558.00</td>\n",
       "    </tr>\n",
       "    <tr>\n",
       "      <th>visitorId</th>\n",
       "      <td>1197.00</td>\n",
       "      <td>2165960143.10</td>\n",
       "      <td>1236014192.15</td>\n",
       "      <td>5114589.00</td>\n",
       "      <td>1111826046.00</td>\n",
       "      <td>2217984702.00</td>\n",
       "      <td>3177606451.00</td>\n",
       "      <td>4283872382.00</td>\n",
       "    </tr>\n",
       "    <tr>\n",
       "      <th>revenue</th>\n",
       "      <td>1197.00</td>\n",
       "      <td>8348.01</td>\n",
       "      <td>39191.13</td>\n",
       "      <td>50.00</td>\n",
       "      <td>1220.00</td>\n",
       "      <td>2978.00</td>\n",
       "      <td>8290.00</td>\n",
       "      <td>1294500.00</td>\n",
       "    </tr>\n",
       "  </tbody>\n",
       "</table>\n",
       "</div>"
      ],
      "text/plain": [
       "                count          mean           std        min           25%  \\\n",
       "transactionId 1197.00 2155621385.53 1229084904.76 1062393.00 1166775572.00   \n",
       "visitorId     1197.00 2165960143.10 1236014192.15 5114589.00 1111826046.00   \n",
       "revenue       1197.00 8348.01       39191.13      50.00      1220.00         \n",
       "\n",
       "                        50%           75%           max  \n",
       "transactionId 2145193898.00 3237740112.00 4293855558.00  \n",
       "visitorId     2217984702.00 3177606451.00 4283872382.00  \n",
       "revenue       2978.00       8290.00       1294500.00     "
      ]
     },
     "metadata": {},
     "output_type": "display_data"
    },
    {
     "data": {
      "text/html": [
       "<div>\n",
       "<style scoped>\n",
       "    .dataframe tbody tr th:only-of-type {\n",
       "        vertical-align: middle;\n",
       "    }\n",
       "\n",
       "    .dataframe tbody tr th {\n",
       "        vertical-align: top;\n",
       "    }\n",
       "\n",
       "    .dataframe thead th {\n",
       "        text-align: right;\n",
       "    }\n",
       "</style>\n",
       "<table border=\"1\" class=\"dataframe\">\n",
       "  <thead>\n",
       "    <tr style=\"text-align: right;\">\n",
       "      <th></th>\n",
       "      <th>count</th>\n",
       "      <th>unique</th>\n",
       "      <th>top</th>\n",
       "      <th>freq</th>\n",
       "    </tr>\n",
       "  </thead>\n",
       "  <tbody>\n",
       "    <tr>\n",
       "      <th>date</th>\n",
       "      <td>1197</td>\n",
       "      <td>31</td>\n",
       "      <td>2019-08-05</td>\n",
       "      <td>48</td>\n",
       "    </tr>\n",
       "    <tr>\n",
       "      <th>group</th>\n",
       "      <td>1197</td>\n",
       "      <td>2</td>\n",
       "      <td>B</td>\n",
       "      <td>640</td>\n",
       "    </tr>\n",
       "  </tbody>\n",
       "</table>\n",
       "</div>"
      ],
      "text/plain": [
       "      count unique         top freq\n",
       "date   1197  31     2019-08-05  48 \n",
       "group  1197  2      B           640"
      ]
     },
     "metadata": {},
     "output_type": "display_data"
    },
    {
     "data": {
      "text/plain": [
       "'Общая информация о данных:'"
      ]
     },
     "metadata": {},
     "output_type": "display_data"
    },
    {
     "name": "stdout",
     "output_type": "stream",
     "text": [
      "<class 'pandas.core.frame.DataFrame'>\n",
      "RangeIndex: 1197 entries, 0 to 1196\n",
      "Data columns (total 5 columns):\n",
      " #   Column         Non-Null Count  Dtype \n",
      "---  ------         --------------  ----- \n",
      " 0   transactionId  1197 non-null   int64 \n",
      " 1   visitorId      1197 non-null   int64 \n",
      " 2   date           1197 non-null   object\n",
      " 3   revenue        1197 non-null   int64 \n",
      " 4   group          1197 non-null   object\n",
      "dtypes: int64(3), object(2)\n",
      "memory usage: 46.9+ KB\n"
     ]
    }
   ],
   "source": [
    "info_dataframe(orders)"
   ]
  },
  {
   "cell_type": "markdown",
   "metadata": {},
   "source": [
    "#### Таблица visitors\n",
    "\n",
    "- date — дата;\n",
    "- group — группа A/B-теста;\n",
    "- visitors — количество пользователей в указанную дату в указанной группе A/B-теста"
   ]
  },
  {
   "cell_type": "code",
   "execution_count": 6,
   "metadata": {},
   "outputs": [
    {
     "data": {
      "text/plain": [
       "'5 рандомных строк таблицы:'"
      ]
     },
     "metadata": {},
     "output_type": "display_data"
    },
    {
     "data": {
      "text/html": [
       "<div>\n",
       "<style scoped>\n",
       "    .dataframe tbody tr th:only-of-type {\n",
       "        vertical-align: middle;\n",
       "    }\n",
       "\n",
       "    .dataframe tbody tr th {\n",
       "        vertical-align: top;\n",
       "    }\n",
       "\n",
       "    .dataframe thead th {\n",
       "        text-align: right;\n",
       "    }\n",
       "</style>\n",
       "<table border=\"1\" class=\"dataframe\">\n",
       "  <thead>\n",
       "    <tr style=\"text-align: right;\">\n",
       "      <th></th>\n",
       "      <th>date</th>\n",
       "      <th>group</th>\n",
       "      <th>visitors</th>\n",
       "    </tr>\n",
       "  </thead>\n",
       "  <tbody>\n",
       "    <tr>\n",
       "      <th>7</th>\n",
       "      <td>2019-08-08</td>\n",
       "      <td>A</td>\n",
       "      <td>610</td>\n",
       "    </tr>\n",
       "    <tr>\n",
       "      <th>50</th>\n",
       "      <td>2019-08-20</td>\n",
       "      <td>B</td>\n",
       "      <td>560</td>\n",
       "    </tr>\n",
       "    <tr>\n",
       "      <th>44</th>\n",
       "      <td>2019-08-14</td>\n",
       "      <td>B</td>\n",
       "      <td>746</td>\n",
       "    </tr>\n",
       "    <tr>\n",
       "      <th>3</th>\n",
       "      <td>2019-08-04</td>\n",
       "      <td>A</td>\n",
       "      <td>717</td>\n",
       "    </tr>\n",
       "    <tr>\n",
       "      <th>13</th>\n",
       "      <td>2019-08-14</td>\n",
       "      <td>A</td>\n",
       "      <td>735</td>\n",
       "    </tr>\n",
       "  </tbody>\n",
       "</table>\n",
       "</div>"
      ],
      "text/plain": [
       "          date group  visitors\n",
       "7   2019-08-08  A     610     \n",
       "50  2019-08-20  B     560     \n",
       "44  2019-08-14  B     746     \n",
       "3   2019-08-04  A     717     \n",
       "13  2019-08-14  A     735     "
      ]
     },
     "metadata": {},
     "output_type": "display_data"
    },
    {
     "data": {
      "text/plain": [
       "'Статистика данных:'"
      ]
     },
     "metadata": {},
     "output_type": "display_data"
    },
    {
     "data": {
      "text/html": [
       "<div>\n",
       "<style scoped>\n",
       "    .dataframe tbody tr th:only-of-type {\n",
       "        vertical-align: middle;\n",
       "    }\n",
       "\n",
       "    .dataframe tbody tr th {\n",
       "        vertical-align: top;\n",
       "    }\n",
       "\n",
       "    .dataframe thead th {\n",
       "        text-align: right;\n",
       "    }\n",
       "</style>\n",
       "<table border=\"1\" class=\"dataframe\">\n",
       "  <thead>\n",
       "    <tr style=\"text-align: right;\">\n",
       "      <th></th>\n",
       "      <th>count</th>\n",
       "      <th>mean</th>\n",
       "      <th>std</th>\n",
       "      <th>min</th>\n",
       "      <th>25%</th>\n",
       "      <th>50%</th>\n",
       "      <th>75%</th>\n",
       "      <th>max</th>\n",
       "    </tr>\n",
       "  </thead>\n",
       "  <tbody>\n",
       "    <tr>\n",
       "      <th>visitors</th>\n",
       "      <td>62.00</td>\n",
       "      <td>607.29</td>\n",
       "      <td>114.40</td>\n",
       "      <td>361.00</td>\n",
       "      <td>534.00</td>\n",
       "      <td>624.50</td>\n",
       "      <td>710.50</td>\n",
       "      <td>770.00</td>\n",
       "    </tr>\n",
       "  </tbody>\n",
       "</table>\n",
       "</div>"
      ],
      "text/plain": [
       "          count   mean    std    min    25%    50%    75%    max\n",
       "visitors 62.00  607.29 114.40 361.00 534.00 624.50 710.50 770.00"
      ]
     },
     "metadata": {},
     "output_type": "display_data"
    },
    {
     "data": {
      "text/html": [
       "<div>\n",
       "<style scoped>\n",
       "    .dataframe tbody tr th:only-of-type {\n",
       "        vertical-align: middle;\n",
       "    }\n",
       "\n",
       "    .dataframe tbody tr th {\n",
       "        vertical-align: top;\n",
       "    }\n",
       "\n",
       "    .dataframe thead th {\n",
       "        text-align: right;\n",
       "    }\n",
       "</style>\n",
       "<table border=\"1\" class=\"dataframe\">\n",
       "  <thead>\n",
       "    <tr style=\"text-align: right;\">\n",
       "      <th></th>\n",
       "      <th>count</th>\n",
       "      <th>unique</th>\n",
       "      <th>top</th>\n",
       "      <th>freq</th>\n",
       "    </tr>\n",
       "  </thead>\n",
       "  <tbody>\n",
       "    <tr>\n",
       "      <th>date</th>\n",
       "      <td>62</td>\n",
       "      <td>31</td>\n",
       "      <td>2019-08-03</td>\n",
       "      <td>2</td>\n",
       "    </tr>\n",
       "    <tr>\n",
       "      <th>group</th>\n",
       "      <td>62</td>\n",
       "      <td>2</td>\n",
       "      <td>B</td>\n",
       "      <td>31</td>\n",
       "    </tr>\n",
       "  </tbody>\n",
       "</table>\n",
       "</div>"
      ],
      "text/plain": [
       "      count unique         top freq\n",
       "date   62    31     2019-08-03  2  \n",
       "group  62    2      B           31 "
      ]
     },
     "metadata": {},
     "output_type": "display_data"
    },
    {
     "data": {
      "text/plain": [
       "'Общая информация о данных:'"
      ]
     },
     "metadata": {},
     "output_type": "display_data"
    },
    {
     "name": "stdout",
     "output_type": "stream",
     "text": [
      "<class 'pandas.core.frame.DataFrame'>\n",
      "RangeIndex: 62 entries, 0 to 61\n",
      "Data columns (total 3 columns):\n",
      " #   Column    Non-Null Count  Dtype \n",
      "---  ------    --------------  ----- \n",
      " 0   date      62 non-null     object\n",
      " 1   group     62 non-null     object\n",
      " 2   visitors  62 non-null     int64 \n",
      "dtypes: int64(1), object(2)\n",
      "memory usage: 1.6+ KB\n"
     ]
    }
   ],
   "source": [
    "info_dataframe(visitors)"
   ]
  },
  {
   "cell_type": "markdown",
   "metadata": {},
   "source": [
    "### Выводы  \n",
    "\n",
    "1. Данные за период с 1.08.2019 по 31.08.2019 распределены в 3 датасетах. Датасет hypothesis содержит информацию о 9 гипотезах по увеличению выручки интернет-магазина. Датасет orders о заказах, пользователях, из совершивших и группе A/B-теста, в которую попал заказ. Датасет visitors о количестве пользователей в указанную дату в указанной группе A/B-теста.\n",
    "2. Проблемы со стилем в заголовках во всех датасетах. \n",
    "3. Неверный тип данных в датасетах orders (колонка date) и vivsitors (колонка date)."
   ]
  },
  {
   "cell_type": "markdown",
   "metadata": {},
   "source": [
    "<div class=\"alert alert-warning\" ; style=\"border-left: 7px solid orange\">\n",
    "<font size=\"4\"><b>Комментарий ревьюера 👀</b></font>\n",
    "    <br />\n",
    "    <font size=\"3\", color = \"black\">\n",
    "    <br /> Проведено знакомство с данными, поэтому следует сделать промежуточные выводы: где есть пропуски, где следует поменять тип данных\n",
    "    <br />\n",
    "    </font>\n",
    "</div>"
   ]
  },
  {
   "cell_type": "markdown",
   "metadata": {},
   "source": [
    "<div class=\"alert alert\"; style=\"border-left: 7px solid blue\">\n",
    "<font size=\"4\"><b>Комментарий студента </b></font>\n",
    "    <br /> \n",
    "    <font size=\"3\", color = \"black\">\n",
    "<br />\n",
    "      <br />Здравствуй, Гио! Исправил. <br/>\n",
    "    </font>"
   ]
  },
  {
   "cell_type": "markdown",
   "metadata": {},
   "source": [
    "<div class=\"alert alert-success\"; style=\"border-left: 7px solid green\">\n",
    "<font size=\"4\"><b>Комментарий ревьюера 🚀 v2</b></font>\n",
    "    <br />\n",
    "    <font size=\"3\", color = \"black\">\n",
    "    <br /> Отлично!\n",
    "     <br />\n",
    "    </font>\n",
    "\n",
    "</div>"
   ]
  },
  {
   "cell_type": "markdown",
   "metadata": {},
   "source": [
    "### Стиль заголовков"
   ]
  },
  {
   "cell_type": "markdown",
   "metadata": {},
   "source": [
    "Исправим стиль заголовков. \n",
    "\n",
    "И переименуем некоторые колонки для большего удобства. "
   ]
  },
  {
   "cell_type": "code",
   "execution_count": 7,
   "metadata": {},
   "outputs": [
    {
     "data": {
      "text/plain": [
       "Index(['transactionId', 'visitorId', 'date', 'revenue', 'group'], dtype='object')"
      ]
     },
     "execution_count": 7,
     "metadata": {},
     "output_type": "execute_result"
    }
   ],
   "source": [
    "orders.columns"
   ]
  },
  {
   "cell_type": "code",
   "execution_count": 8,
   "metadata": {},
   "outputs": [
    {
     "name": "stdout",
     "output_type": "stream",
     "text": [
      "Стиль заголовков исправлен:\n",
      "\n",
      "Index(['hypothesis', 'reach', 'impact', 'confidence', 'efforts'], dtype='object')\n",
      "Index(['order_id', 'user_id', 'date', 'revenue', 'group'], dtype='object')\n"
     ]
    },
    {
     "data": {
      "text/plain": [
       "Index(['date', 'group', 'visitors'], dtype='object')"
      ]
     },
     "execution_count": 8,
     "metadata": {},
     "output_type": "execute_result"
    }
   ],
   "source": [
    "# приведём заголовки к нижнему регистру\n",
    "hypothesis.columns = hypothesis.columns.str.lower()\n",
    "\n",
    "# переименуем колонки с неправильным стилем \n",
    "# и колнку transactionId на order_id, и visitorId на user_id\n",
    "orders.columns = ['order_id', 'user_id', 'date', 'revenue', 'group']\n",
    "visitors.columns = ['date', 'group', 'visitors']\n",
    "\n",
    "print('Стиль заголовков исправлен:\\n')\n",
    "print(hypothesis.columns)\n",
    "print(orders.columns)\n",
    "visitors.columns"
   ]
  },
  {
   "cell_type": "markdown",
   "metadata": {},
   "source": [
    "<div class=\"alert alert-success\"; style=\"border-left: 7px solid green\">\n",
    "<font size=\"4\"><b>Комментарий ревьюера 🚀</b></font>\n",
    "    <br />\n",
    "    <font size=\"3\", color = \"black\">\n",
    "    <br /> Отлично, что используешь метод str.lower(). Так будем меньше хардкодить (писать изменения вручную).\n",
    "     <br />\n",
    "    </font>\n",
    "\n",
    "</div>"
   ]
  },
  {
   "cell_type": "markdown",
   "metadata": {},
   "source": [
    "### Обработка пропусков"
   ]
  },
  {
   "cell_type": "markdown",
   "metadata": {},
   "source": [
    "Посмотрим наличие пропусков."
   ]
  },
  {
   "cell_type": "code",
   "execution_count": 9,
   "metadata": {},
   "outputs": [
    {
     "data": {
      "text/plain": [
       "'Количество пропусков в датафрейме visits:\\n'"
      ]
     },
     "metadata": {},
     "output_type": "display_data"
    },
    {
     "data": {
      "text/plain": [
       "hypothesis    0\n",
       "reach         0\n",
       "impact        0\n",
       "confidence    0\n",
       "efforts       0\n",
       "dtype: int64"
      ]
     },
     "metadata": {},
     "output_type": "display_data"
    },
    {
     "data": {
      "text/plain": [
       "'\\n'"
      ]
     },
     "metadata": {},
     "output_type": "display_data"
    },
    {
     "data": {
      "text/plain": [
       "'Количество пропусков в датафрейме orders:\\n'"
      ]
     },
     "metadata": {},
     "output_type": "display_data"
    },
    {
     "data": {
      "text/plain": [
       "order_id    0\n",
       "user_id     0\n",
       "date        0\n",
       "revenue     0\n",
       "group       0\n",
       "dtype: int64"
      ]
     },
     "metadata": {},
     "output_type": "display_data"
    },
    {
     "data": {
      "text/plain": [
       "'\\n'"
      ]
     },
     "metadata": {},
     "output_type": "display_data"
    },
    {
     "data": {
      "text/plain": [
       "'Количество пропусков в датафрейме costs:\\n'"
      ]
     },
     "metadata": {},
     "output_type": "display_data"
    },
    {
     "data": {
      "text/plain": [
       "date        0\n",
       "group       0\n",
       "visitors    0\n",
       "dtype: int64"
      ]
     },
     "metadata": {},
     "output_type": "display_data"
    },
    {
     "data": {
      "text/plain": [
       "'\\n'"
      ]
     },
     "metadata": {},
     "output_type": "display_data"
    }
   ],
   "source": [
    "display('Количество пропусков в датафрейме visits:\\n', hypothesis.isna().sum(), '\\n')\n",
    "display('Количество пропусков в датафрейме orders:\\n', orders.isna().sum(), '\\n')\n",
    "display('Количество пропусков в датафрейме costs:\\n', visitors.isna().sum(), '\\n')"
   ]
  },
  {
   "cell_type": "markdown",
   "metadata": {},
   "source": [
    "### Изменение типа данных"
   ]
  },
  {
   "cell_type": "markdown",
   "metadata": {},
   "source": [
    "Изменим тип данных в колонках (в скобках на какой тип меняется и почему):  \n",
    "- Датасет orders:\n",
    " - date (на datetime - столбец содержит значения даты).    \n",
    "- Датасет visitors:\n",
    " - date (на datetime - столбец содержит значения даты).   "
   ]
  },
  {
   "cell_type": "code",
   "execution_count": 10,
   "metadata": {},
   "outputs": [],
   "source": [
    "orders['date'] = pd.to_datetime(orders['date'], format='%Y-%m-%d')\n",
    "visitors['date'] = pd.to_datetime(visitors['date'], format='%Y-%m-%d')\n",
    "\n",
    "#orders.info()\n",
    "#visitors.info()"
   ]
  },
  {
   "cell_type": "markdown",
   "metadata": {},
   "source": [
    "<div class=\"alert alert-success\"; style=\"border-left: 7px solid green\">\n",
    "<font size=\"4\"><b>Комментарий ревьюера 🚀</b></font>\n",
    "    <br />\n",
    "    <font size=\"3\", color = \"black\">\n",
    "    <br /> Нравится смена типа данных с фиксированным форматом. Такой подход позволит избавиться от ошибок в будущем\n",
    "    </font>\n",
    "\n",
    "</div>"
   ]
  },
  {
   "cell_type": "markdown",
   "metadata": {},
   "source": [
    "### Обработка дубликатов"
   ]
  },
  {
   "cell_type": "markdown",
   "metadata": {},
   "source": [
    "Проверим на явные дубликаты."
   ]
  },
  {
   "cell_type": "code",
   "execution_count": 11,
   "metadata": {},
   "outputs": [
    {
     "name": "stdout",
     "output_type": "stream",
     "text": [
      "Количество строк-дубликатов в датафрейме hypothesis: 0\n",
      "Количество строк-дубликатов в датафрейме orders: 0\n",
      "Количество строк-дубликатов в датафрейме visitors: 0\n"
     ]
    }
   ],
   "source": [
    "print('Количество строк-дубликатов в датафрейме hypothesis:', hypothesis.duplicated().sum())\n",
    "print('Количество строк-дубликатов в датафрейме orders:', orders.duplicated().sum())\n",
    "print('Количество строк-дубликатов в датафрейме visitors:', visitors.duplicated().sum())"
   ]
  },
  {
   "cell_type": "markdown",
   "metadata": {},
   "source": [
    "Из обзора данных выше видно, что в колонках group в датасетах visitors и orders по 2 уникальных значения, соответствующих группам теста - A и В. Таким образом, неявных дубликатов также не обнаружено."
   ]
  },
  {
   "cell_type": "markdown",
   "metadata": {},
   "source": [
    "### Корректность распределения пользователей по группам"
   ]
  },
  {
   "cell_type": "markdown",
   "metadata": {},
   "source": [
    "Проверим на корректность распределения пользователей - может быть есть те, кто попал в обе группы."
   ]
  },
  {
   "cell_type": "code",
   "execution_count": 12,
   "metadata": {},
   "outputs": [
    {
     "name": "stdout",
     "output_type": "stream",
     "text": [
      "Количество пользователей, попавших в обе группы равно: 58\n"
     ]
    }
   ],
   "source": [
    "duplicated_users = orders.groupby('user_id').agg({'group' : ['nunique', 'unique']})\n",
    "duplicated_users.columns = ['groups', 'group_names']\n",
    "duplicated_users = duplicated_users.query('groups > 1')\n",
    "print('Количество пользователей, попавших в обе группы равно:', len(duplicated_users))"
   ]
  },
  {
   "cell_type": "markdown",
   "metadata": {},
   "source": [
    "Я исхожу не из собственного опыта, которого у меня нет, а из рекомендаций преподавателя по проектам (из 37, а не 39 когорты, если что). Он объяснил, что система АВ-тестирования должна автоматически выравнивать группы по размеру. Если пересечение самых ценных пользователей такое большое, то с остальными пользователями все еще хуже и выравнивать их не имеет смысла и в реальной, а не учебной ситуации A/B тест должен быть забракован. Но поскольку это учебный проект, мы продолжаем."
   ]
  },
  {
   "cell_type": "markdown",
   "metadata": {},
   "source": [
    "<div class=\"alert alert-success\"; style=\"border-left: 7px solid green\">\n",
    "<font size=\"4\"><b>Комментарий ревьюера 🚀</b></font>\n",
    "    <br />\n",
    "    <font size=\"3\", color = \"black\">\n",
    "    <br /> Отличная заметка по пользователям, которые попали в обе группы. Принято верное решение!\n",
    "    </font>\n",
    "\n",
    "</div>"
   ]
  },
  {
   "cell_type": "markdown",
   "metadata": {},
   "source": [
    "<div class=\"alert alert-warning\" ; style=\"border-left: 7px solid orange\">\n",
    "<font size=\"4\"><b>Комментарий ревьюера 👀</b></font>\n",
    "    <br />\n",
    "    <font size=\"3\", color = \"black\">\n",
    "    <br /> Стоит аргументировать, почему не удаляем таких пользователей\n",
    "     <br />\n",
    "    </font>\n",
    "\n",
    "</div>"
   ]
  },
  {
   "cell_type": "markdown",
   "metadata": {},
   "source": [
    "<div class=\"alert alert\"; style=\"border-left: 7px solid blue\">\n",
    "<font size=\"4\"><b>Комментарий студента </b></font>\n",
    "    <br /> \n",
    "    <font size=\"3\", color = \"black\">\n",
    "<br />\n",
    "      <br />Аргументировал. <br/>\n",
    "    </font>"
   ]
  },
  {
   "cell_type": "markdown",
   "metadata": {},
   "source": [
    "<div class=\"alert alert-success\"; style=\"border-left: 7px solid green\">\n",
    "<font size=\"4\"><b>Комментарий ревьюера 🚀 v2</b></font>\n",
    "    <br />\n",
    "    <font size=\"3\", color = \"black\">\n",
    "    <br /> Супер!\n",
    "     <br />\n",
    "    </font>\n",
    "\n",
    "</div>"
   ]
  },
  {
   "cell_type": "markdown",
   "metadata": {},
   "source": [
    "### Минимальная и максимальная дата "
   ]
  },
  {
   "cell_type": "markdown",
   "metadata": {},
   "source": [
    "Посмотрим за какой период имеются данные."
   ]
  },
  {
   "cell_type": "code",
   "execution_count": 13,
   "metadata": {},
   "outputs": [
    {
     "data": {
      "text/plain": [
       "'Дата первого заказа:'"
      ]
     },
     "metadata": {},
     "output_type": "display_data"
    },
    {
     "data": {
      "text/plain": [
       "Timestamp('2019-08-01 00:00:00')"
      ]
     },
     "metadata": {},
     "output_type": "display_data"
    },
    {
     "data": {
      "text/plain": [
       "'Дата первого визита:'"
      ]
     },
     "metadata": {},
     "output_type": "display_data"
    },
    {
     "data": {
      "text/plain": [
       "Timestamp('2019-08-01 00:00:00')"
      ]
     },
     "metadata": {},
     "output_type": "display_data"
    }
   ],
   "source": [
    "display('Дата первого заказа:', orders['date'].min())\n",
    "display('Дата первого визита:', visitors['date'].min())"
   ]
  },
  {
   "cell_type": "code",
   "execution_count": 14,
   "metadata": {},
   "outputs": [
    {
     "data": {
      "text/plain": [
       "'Дата последнего заказа:'"
      ]
     },
     "metadata": {},
     "output_type": "display_data"
    },
    {
     "data": {
      "text/plain": [
       "Timestamp('2019-08-31 00:00:00')"
      ]
     },
     "metadata": {},
     "output_type": "display_data"
    },
    {
     "data": {
      "text/plain": [
       "'Дата последнего визита:'"
      ]
     },
     "metadata": {},
     "output_type": "display_data"
    },
    {
     "data": {
      "text/plain": [
       "Timestamp('2019-08-31 00:00:00')"
      ]
     },
     "metadata": {},
     "output_type": "display_data"
    }
   ],
   "source": [
    "# дата регистрации последнего пользователя в 2018 году\n",
    "display('Дата последнего заказа:', orders['date'].max())\n",
    "display('Дата последнего визита:', visitors['date'].max())"
   ]
  },
  {
   "cell_type": "markdown",
   "metadata": {},
   "source": [
    "### Выводы  \n",
    "\n",
    "1. Исправлен стиль заголовков во всех датасетах. \n",
    "2. Пропусков и дубликатов не обнаружено.  \n",
    "3. Пользователи распределены в группы A/В теста не корректно - 58 из них попали в обе группы. \n",
    "4. Изменен тип данных в датасетах orders (колонка date) и vivsitors (колонка date) на datetime.\n",
    "5. Несмотря на некорректность распределения пользователей по группам, поскольку это учебный проект, данные готовы для анализа. "
   ]
  },
  {
   "cell_type": "markdown",
   "metadata": {},
   "source": [
    "<div class=\"alert alert-success\"; style=\"border-left: 7px solid green\">\n",
    "<font size=\"4\"><b>Комментарий ревьюера 🚀</b></font>\n",
    "    <br />\n",
    "    <font size=\"3\", color = \"black\">\n",
    "    <br /> Хороший суммирующий вывод по этапу\n",
    "    </font>\n",
    "\n",
    "</div>"
   ]
  },
  {
   "cell_type": "markdown",
   "metadata": {},
   "source": [
    "## Приоритизация гипотез"
   ]
  },
  {
   "cell_type": "markdown",
   "metadata": {},
   "source": [
    "В датасете hypothesis 9 гипотез по увеличению выручки интернет-магазина с указанными параметрами Reach, Impact, Confidence, Effort. \n",
    "\n",
    "Проведем приоритизацию гипотез."
   ]
  },
  {
   "cell_type": "code",
   "execution_count": 15,
   "metadata": {},
   "outputs": [
    {
     "data": {
      "text/html": [
       "<div>\n",
       "<style scoped>\n",
       "    .dataframe tbody tr th:only-of-type {\n",
       "        vertical-align: middle;\n",
       "    }\n",
       "\n",
       "    .dataframe tbody tr th {\n",
       "        vertical-align: top;\n",
       "    }\n",
       "\n",
       "    .dataframe thead th {\n",
       "        text-align: right;\n",
       "    }\n",
       "</style>\n",
       "<table border=\"1\" class=\"dataframe\">\n",
       "  <thead>\n",
       "    <tr style=\"text-align: right;\">\n",
       "      <th></th>\n",
       "      <th>hypothesis</th>\n",
       "      <th>reach</th>\n",
       "      <th>impact</th>\n",
       "      <th>confidence</th>\n",
       "      <th>efforts</th>\n",
       "    </tr>\n",
       "  </thead>\n",
       "  <tbody>\n",
       "    <tr>\n",
       "      <th>0</th>\n",
       "      <td>Добавить два новых канала привлечения трафика, что позволит привлекать на 30% больше пользователей</td>\n",
       "      <td>3</td>\n",
       "      <td>10</td>\n",
       "      <td>8</td>\n",
       "      <td>6</td>\n",
       "    </tr>\n",
       "    <tr>\n",
       "      <th>1</th>\n",
       "      <td>Запустить собственную службу доставки, что сократит срок доставки заказов</td>\n",
       "      <td>2</td>\n",
       "      <td>5</td>\n",
       "      <td>4</td>\n",
       "      <td>10</td>\n",
       "    </tr>\n",
       "    <tr>\n",
       "      <th>2</th>\n",
       "      <td>Добавить блоки рекомендаций товаров на сайт интернет магазина, чтобы повысить конверсию и средний чек заказа</td>\n",
       "      <td>8</td>\n",
       "      <td>3</td>\n",
       "      <td>7</td>\n",
       "      <td>3</td>\n",
       "    </tr>\n",
       "    <tr>\n",
       "      <th>3</th>\n",
       "      <td>Изменить структура категорий, что увеличит конверсию, т.к. пользователи быстрее найдут нужный товар</td>\n",
       "      <td>8</td>\n",
       "      <td>3</td>\n",
       "      <td>3</td>\n",
       "      <td>8</td>\n",
       "    </tr>\n",
       "    <tr>\n",
       "      <th>4</th>\n",
       "      <td>Изменить цвет фона главной страницы, чтобы увеличить вовлеченность пользователей</td>\n",
       "      <td>3</td>\n",
       "      <td>1</td>\n",
       "      <td>1</td>\n",
       "      <td>1</td>\n",
       "    </tr>\n",
       "    <tr>\n",
       "      <th>5</th>\n",
       "      <td>Добавить страницу отзывов клиентов о магазине, что позволит увеличить количество заказов</td>\n",
       "      <td>3</td>\n",
       "      <td>2</td>\n",
       "      <td>2</td>\n",
       "      <td>3</td>\n",
       "    </tr>\n",
       "    <tr>\n",
       "      <th>6</th>\n",
       "      <td>Показать на главной странице баннеры с актуальными акциями и распродажами, чтобы увеличить конверсию</td>\n",
       "      <td>5</td>\n",
       "      <td>3</td>\n",
       "      <td>8</td>\n",
       "      <td>3</td>\n",
       "    </tr>\n",
       "    <tr>\n",
       "      <th>7</th>\n",
       "      <td>Добавить форму подписки на все основные страницы, чтобы собрать базу клиентов для email-рассылок</td>\n",
       "      <td>10</td>\n",
       "      <td>7</td>\n",
       "      <td>8</td>\n",
       "      <td>5</td>\n",
       "    </tr>\n",
       "    <tr>\n",
       "      <th>8</th>\n",
       "      <td>Запустить акцию, дающую скидку на товар в день рождения</td>\n",
       "      <td>1</td>\n",
       "      <td>9</td>\n",
       "      <td>9</td>\n",
       "      <td>5</td>\n",
       "    </tr>\n",
       "  </tbody>\n",
       "</table>\n",
       "</div>"
      ],
      "text/plain": [
       "                                                                                                     hypothesis  \\\n",
       "0  Добавить два новых канала привлечения трафика, что позволит привлекать на 30% больше пользователей             \n",
       "1  Запустить собственную службу доставки, что сократит срок доставки заказов                                      \n",
       "2  Добавить блоки рекомендаций товаров на сайт интернет магазина, чтобы повысить конверсию и средний чек заказа   \n",
       "3  Изменить структура категорий, что увеличит конверсию, т.к. пользователи быстрее найдут нужный товар            \n",
       "4  Изменить цвет фона главной страницы, чтобы увеличить вовлеченность пользователей                               \n",
       "5  Добавить страницу отзывов клиентов о магазине, что позволит увеличить количество заказов                       \n",
       "6  Показать на главной странице баннеры с актуальными акциями и распродажами, чтобы увеличить конверсию           \n",
       "7  Добавить форму подписки на все основные страницы, чтобы собрать базу клиентов для email-рассылок               \n",
       "8  Запустить акцию, дающую скидку на товар в день рождения                                                        \n",
       "\n",
       "   reach  impact  confidence  efforts  \n",
       "0  3      10      8           6        \n",
       "1  2      5       4           10       \n",
       "2  8      3       7           3        \n",
       "3  8      3       3           8        \n",
       "4  3      1       1           1        \n",
       "5  3      2       2           3        \n",
       "6  5      3       8           3        \n",
       "7  10     7       8           5        \n",
       "8  1      9       9           5        "
      ]
     },
     "execution_count": 15,
     "metadata": {},
     "output_type": "execute_result"
    }
   ],
   "source": [
    "hypothesis.head(9)"
   ]
  },
  {
   "cell_type": "markdown",
   "metadata": {},
   "source": [
    "### Приотиризация фреймворком ICE"
   ]
  },
  {
   "cell_type": "code",
   "execution_count": 16,
   "metadata": {},
   "outputs": [
    {
     "data": {
      "text/html": [
       "<div>\n",
       "<style scoped>\n",
       "    .dataframe tbody tr th:only-of-type {\n",
       "        vertical-align: middle;\n",
       "    }\n",
       "\n",
       "    .dataframe tbody tr th {\n",
       "        vertical-align: top;\n",
       "    }\n",
       "\n",
       "    .dataframe thead th {\n",
       "        text-align: right;\n",
       "    }\n",
       "</style>\n",
       "<table border=\"1\" class=\"dataframe\">\n",
       "  <thead>\n",
       "    <tr style=\"text-align: right;\">\n",
       "      <th></th>\n",
       "      <th>hypothesis</th>\n",
       "      <th>ice</th>\n",
       "    </tr>\n",
       "  </thead>\n",
       "  <tbody>\n",
       "    <tr>\n",
       "      <th>8</th>\n",
       "      <td>Запустить акцию, дающую скидку на товар в день рождения</td>\n",
       "      <td>16.20</td>\n",
       "    </tr>\n",
       "    <tr>\n",
       "      <th>0</th>\n",
       "      <td>Добавить два новых канала привлечения трафика, что позволит привлекать на 30% больше пользователей</td>\n",
       "      <td>13.33</td>\n",
       "    </tr>\n",
       "    <tr>\n",
       "      <th>7</th>\n",
       "      <td>Добавить форму подписки на все основные страницы, чтобы собрать базу клиентов для email-рассылок</td>\n",
       "      <td>11.20</td>\n",
       "    </tr>\n",
       "    <tr>\n",
       "      <th>6</th>\n",
       "      <td>Показать на главной странице баннеры с актуальными акциями и распродажами, чтобы увеличить конверсию</td>\n",
       "      <td>8.00</td>\n",
       "    </tr>\n",
       "    <tr>\n",
       "      <th>2</th>\n",
       "      <td>Добавить блоки рекомендаций товаров на сайт интернет магазина, чтобы повысить конверсию и средний чек заказа</td>\n",
       "      <td>7.00</td>\n",
       "    </tr>\n",
       "    <tr>\n",
       "      <th>1</th>\n",
       "      <td>Запустить собственную службу доставки, что сократит срок доставки заказов</td>\n",
       "      <td>2.00</td>\n",
       "    </tr>\n",
       "    <tr>\n",
       "      <th>5</th>\n",
       "      <td>Добавить страницу отзывов клиентов о магазине, что позволит увеличить количество заказов</td>\n",
       "      <td>1.33</td>\n",
       "    </tr>\n",
       "    <tr>\n",
       "      <th>3</th>\n",
       "      <td>Изменить структура категорий, что увеличит конверсию, т.к. пользователи быстрее найдут нужный товар</td>\n",
       "      <td>1.12</td>\n",
       "    </tr>\n",
       "    <tr>\n",
       "      <th>4</th>\n",
       "      <td>Изменить цвет фона главной страницы, чтобы увеличить вовлеченность пользователей</td>\n",
       "      <td>1.00</td>\n",
       "    </tr>\n",
       "  </tbody>\n",
       "</table>\n",
       "</div>"
      ],
      "text/plain": [
       "                                                                                                     hypothesis  \\\n",
       "8  Запустить акцию, дающую скидку на товар в день рождения                                                        \n",
       "0  Добавить два новых канала привлечения трафика, что позволит привлекать на 30% больше пользователей             \n",
       "7  Добавить форму подписки на все основные страницы, чтобы собрать базу клиентов для email-рассылок               \n",
       "6  Показать на главной странице баннеры с актуальными акциями и распродажами, чтобы увеличить конверсию           \n",
       "2  Добавить блоки рекомендаций товаров на сайт интернет магазина, чтобы повысить конверсию и средний чек заказа   \n",
       "1  Запустить собственную службу доставки, что сократит срок доставки заказов                                      \n",
       "5  Добавить страницу отзывов клиентов о магазине, что позволит увеличить количество заказов                       \n",
       "3  Изменить структура категорий, что увеличит конверсию, т.к. пользователи быстрее найдут нужный товар            \n",
       "4  Изменить цвет фона главной страницы, чтобы увеличить вовлеченность пользователей                               \n",
       "\n",
       "    ice  \n",
       "8 16.20  \n",
       "0 13.33  \n",
       "7 11.20  \n",
       "6 8.00   \n",
       "2 7.00   \n",
       "1 2.00   \n",
       "5 1.33   \n",
       "3 1.12   \n",
       "4 1.00   "
      ]
     },
     "metadata": {},
     "output_type": "display_data"
    }
   ],
   "source": [
    "# создание колонки ice с результатами расчета фреймворка\n",
    "hypothesis['ice'] = hypothesis['impact'] * hypothesis['confidence'] / hypothesis['efforts']\n",
    "\n",
    "display(hypothesis[['hypothesis', 'ice']].sort_values(by='ice', ascending=False))"
   ]
  },
  {
   "cell_type": "markdown",
   "metadata": {},
   "source": [
    "<div class=\"alert alert-success\"; style=\"border-left: 7px solid green\">\n",
    "<font size=\"4\"><b>Комментарий ревьюера 🚀</b></font>\n",
    "    <br />\n",
    "    <font size=\"3\", color = \"black\">\n",
    "    <br /> Абсолютно верная формула для расчета ICE\n",
    "     <br />\n",
    "    </font>\n",
    "\n",
    "</div>"
   ]
  },
  {
   "cell_type": "markdown",
   "metadata": {},
   "source": [
    "Приоритет за гипотезой №8 - \"Запустить акцию, дающую скидку на товар в день рождения\"."
   ]
  },
  {
   "cell_type": "markdown",
   "metadata": {},
   "source": [
    "### Приотиризация фреймворком RICE"
   ]
  },
  {
   "cell_type": "code",
   "execution_count": 17,
   "metadata": {},
   "outputs": [
    {
     "data": {
      "text/html": [
       "<div>\n",
       "<style scoped>\n",
       "    .dataframe tbody tr th:only-of-type {\n",
       "        vertical-align: middle;\n",
       "    }\n",
       "\n",
       "    .dataframe tbody tr th {\n",
       "        vertical-align: top;\n",
       "    }\n",
       "\n",
       "    .dataframe thead th {\n",
       "        text-align: right;\n",
       "    }\n",
       "</style>\n",
       "<table border=\"1\" class=\"dataframe\">\n",
       "  <thead>\n",
       "    <tr style=\"text-align: right;\">\n",
       "      <th></th>\n",
       "      <th>hypothesis</th>\n",
       "      <th>rice</th>\n",
       "    </tr>\n",
       "  </thead>\n",
       "  <tbody>\n",
       "    <tr>\n",
       "      <th>7</th>\n",
       "      <td>Добавить форму подписки на все основные страницы, чтобы собрать базу клиентов для email-рассылок</td>\n",
       "      <td>112.00</td>\n",
       "    </tr>\n",
       "    <tr>\n",
       "      <th>2</th>\n",
       "      <td>Добавить блоки рекомендаций товаров на сайт интернет магазина, чтобы повысить конверсию и средний чек заказа</td>\n",
       "      <td>56.00</td>\n",
       "    </tr>\n",
       "    <tr>\n",
       "      <th>0</th>\n",
       "      <td>Добавить два новых канала привлечения трафика, что позволит привлекать на 30% больше пользователей</td>\n",
       "      <td>40.00</td>\n",
       "    </tr>\n",
       "    <tr>\n",
       "      <th>6</th>\n",
       "      <td>Показать на главной странице баннеры с актуальными акциями и распродажами, чтобы увеличить конверсию</td>\n",
       "      <td>40.00</td>\n",
       "    </tr>\n",
       "    <tr>\n",
       "      <th>8</th>\n",
       "      <td>Запустить акцию, дающую скидку на товар в день рождения</td>\n",
       "      <td>16.20</td>\n",
       "    </tr>\n",
       "    <tr>\n",
       "      <th>3</th>\n",
       "      <td>Изменить структура категорий, что увеличит конверсию, т.к. пользователи быстрее найдут нужный товар</td>\n",
       "      <td>9.00</td>\n",
       "    </tr>\n",
       "    <tr>\n",
       "      <th>1</th>\n",
       "      <td>Запустить собственную службу доставки, что сократит срок доставки заказов</td>\n",
       "      <td>4.00</td>\n",
       "    </tr>\n",
       "    <tr>\n",
       "      <th>5</th>\n",
       "      <td>Добавить страницу отзывов клиентов о магазине, что позволит увеличить количество заказов</td>\n",
       "      <td>4.00</td>\n",
       "    </tr>\n",
       "    <tr>\n",
       "      <th>4</th>\n",
       "      <td>Изменить цвет фона главной страницы, чтобы увеличить вовлеченность пользователей</td>\n",
       "      <td>3.00</td>\n",
       "    </tr>\n",
       "  </tbody>\n",
       "</table>\n",
       "</div>"
      ],
      "text/plain": [
       "                                                                                                     hypothesis  \\\n",
       "7  Добавить форму подписки на все основные страницы, чтобы собрать базу клиентов для email-рассылок               \n",
       "2  Добавить блоки рекомендаций товаров на сайт интернет магазина, чтобы повысить конверсию и средний чек заказа   \n",
       "0  Добавить два новых канала привлечения трафика, что позволит привлекать на 30% больше пользователей             \n",
       "6  Показать на главной странице баннеры с актуальными акциями и распродажами, чтобы увеличить конверсию           \n",
       "8  Запустить акцию, дающую скидку на товар в день рождения                                                        \n",
       "3  Изменить структура категорий, что увеличит конверсию, т.к. пользователи быстрее найдут нужный товар            \n",
       "1  Запустить собственную службу доставки, что сократит срок доставки заказов                                      \n",
       "5  Добавить страницу отзывов клиентов о магазине, что позволит увеличить количество заказов                       \n",
       "4  Изменить цвет фона главной страницы, чтобы увеличить вовлеченность пользователей                               \n",
       "\n",
       "    rice  \n",
       "7 112.00  \n",
       "2 56.00   \n",
       "0 40.00   \n",
       "6 40.00   \n",
       "8 16.20   \n",
       "3 9.00    \n",
       "1 4.00    \n",
       "5 4.00    \n",
       "4 3.00    "
      ]
     },
     "metadata": {},
     "output_type": "display_data"
    }
   ],
   "source": [
    "# создание колонки rice с результатами расчета фреймворка\n",
    "hypothesis['rice'] = hypothesis['reach'] * hypothesis['impact'] * hypothesis['confidence'] / hypothesis['efforts']\n",
    "\n",
    "display(hypothesis[['hypothesis', 'rice']].sort_values(by='rice', ascending=False))"
   ]
  },
  {
   "cell_type": "markdown",
   "metadata": {},
   "source": [
    "Получился совершенно другой результат. Приоритет за гипотезой №7 - \"Добавить форму подписки на все основные страницы, чтобы собрать базу клиентов для email-рассылок\". Причем в разы больше, чем в случае с результатом приоритизации фреймворком ICE, который не учитывает параметр  Reach (охват пользователей). Связано это с тем, что гипотеза №8 затронет значительно меньшее количество пользователей, чем гипотеза №7, т.к. день рождения, как известно, раз в году и у большинства пользователей его не будет в период акции, а рассылку на email получат значительно больший процент пользователей. Иначе: параметр Reach у гипотезы №7 равен 10, а у гипотезы №8 - 1."
   ]
  },
  {
   "cell_type": "markdown",
   "metadata": {},
   "source": [
    "### Вывод\n",
    "  \n",
    "По результатам RICE приоритетной была определена гипотеза №7 - \"Добавить форму подписки на все основные страницы, чтобы собрать базу клиентов для email-рассылок\". У нее 112 баллов против 56 баллов следующей за ней гипотезы №2 \"Добавить блоки рекомендаций товаров на сайт интернет магазина, чтобы повысить конверсию и средний чек заказа\". "
   ]
  },
  {
   "cell_type": "markdown",
   "metadata": {},
   "source": [
    "<div class=\"alert alert-success\"; style=\"border-left: 7px solid green\">\n",
    "<font size=\"4\"><b>Комментарий ревьюера 🚀</b></font>\n",
    "    <br />\n",
    "    <font size=\"3\", color = \"black\">\n",
    "    <br /> Молодец, произведены верные подсчеты по двум фрейворкам. Правильная сортировка по показателям.\n",
    "     <br /><br />\n",
    "        Нравится объяснение полученных результатов. Есть отличное понимание причинно-следственной связи\n",
    "    </font>\n",
    "\n",
    "</div>"
   ]
  },
  {
   "cell_type": "markdown",
   "metadata": {},
   "source": [
    "## Исследовательский анализ A/B-теста\n",
    "  \n",
    "Проанализируем результаты A/B-теста, которые содержатся в датасетах orders и visitors с помощью линейных и точечных графиков, а также расчета перцентилей."
   ]
  },
  {
   "cell_type": "markdown",
   "metadata": {},
   "source": [
    "### Датафрейм cumulative_data "
   ]
  },
  {
   "cell_type": "markdown",
   "metadata": {},
   "source": [
    "Чтобы построить графики, нужно собрать кумулятивные данные. Объявим датафрейм cumulative_data с колонками:\n",
    "\n",
    "- date — дата;\n",
    "- group — группа A/B-теста (A или B);\n",
    "- orders — кумулятивное количество заказов на указанную дату в указанной группе;\n",
    "- buyers — кумулятивное количество пользователей, совершивших хотя бы один заказ, на указанную дату в указанной группе;\n",
    "- revenue — кумулятивная выручка на указанную дату в указанной группе (средний чек);\n",
    "- visitors — кумулятивное количество посетителей интернет-магазина на указанную дату в определённой группе."
   ]
  },
  {
   "cell_type": "code",
   "execution_count": 39,
   "metadata": {},
   "outputs": [
    {
     "data": {
      "text/html": [
       "<div>\n",
       "<style scoped>\n",
       "    .dataframe tbody tr th:only-of-type {\n",
       "        vertical-align: middle;\n",
       "    }\n",
       "\n",
       "    .dataframe tbody tr th {\n",
       "        vertical-align: top;\n",
       "    }\n",
       "\n",
       "    .dataframe thead th {\n",
       "        text-align: right;\n",
       "    }\n",
       "</style>\n",
       "<table border=\"1\" class=\"dataframe\">\n",
       "  <thead>\n",
       "    <tr style=\"text-align: right;\">\n",
       "      <th></th>\n",
       "      <th>date</th>\n",
       "      <th>group</th>\n",
       "      <th>orders</th>\n",
       "      <th>buyers</th>\n",
       "      <th>revenue</th>\n",
       "      <th>visitors</th>\n",
       "    </tr>\n",
       "  </thead>\n",
       "  <tbody>\n",
       "    <tr>\n",
       "      <th>0</th>\n",
       "      <td>2019-08-01</td>\n",
       "      <td>A</td>\n",
       "      <td>24</td>\n",
       "      <td>20</td>\n",
       "      <td>148579</td>\n",
       "      <td>719</td>\n",
       "    </tr>\n",
       "    <tr>\n",
       "      <th>1</th>\n",
       "      <td>2019-08-01</td>\n",
       "      <td>B</td>\n",
       "      <td>21</td>\n",
       "      <td>20</td>\n",
       "      <td>101217</td>\n",
       "      <td>713</td>\n",
       "    </tr>\n",
       "    <tr>\n",
       "      <th>2</th>\n",
       "      <td>2019-08-02</td>\n",
       "      <td>A</td>\n",
       "      <td>44</td>\n",
       "      <td>38</td>\n",
       "      <td>242401</td>\n",
       "      <td>1338</td>\n",
       "    </tr>\n",
       "    <tr>\n",
       "      <th>3</th>\n",
       "      <td>2019-08-02</td>\n",
       "      <td>B</td>\n",
       "      <td>45</td>\n",
       "      <td>43</td>\n",
       "      <td>266748</td>\n",
       "      <td>1294</td>\n",
       "    </tr>\n",
       "    <tr>\n",
       "      <th>4</th>\n",
       "      <td>2019-08-03</td>\n",
       "      <td>A</td>\n",
       "      <td>68</td>\n",
       "      <td>62</td>\n",
       "      <td>354874</td>\n",
       "      <td>1845</td>\n",
       "    </tr>\n",
       "    <tr>\n",
       "      <th>5</th>\n",
       "      <td>2019-08-03</td>\n",
       "      <td>B</td>\n",
       "      <td>61</td>\n",
       "      <td>59</td>\n",
       "      <td>380996</td>\n",
       "      <td>1803</td>\n",
       "    </tr>\n",
       "    <tr>\n",
       "      <th>6</th>\n",
       "      <td>2019-08-04</td>\n",
       "      <td>A</td>\n",
       "      <td>84</td>\n",
       "      <td>77</td>\n",
       "      <td>425699</td>\n",
       "      <td>2562</td>\n",
       "    </tr>\n",
       "    <tr>\n",
       "      <th>7</th>\n",
       "      <td>2019-08-04</td>\n",
       "      <td>B</td>\n",
       "      <td>78</td>\n",
       "      <td>75</td>\n",
       "      <td>489567</td>\n",
       "      <td>2573</td>\n",
       "    </tr>\n",
       "    <tr>\n",
       "      <th>8</th>\n",
       "      <td>2019-08-05</td>\n",
       "      <td>A</td>\n",
       "      <td>109</td>\n",
       "      <td>100</td>\n",
       "      <td>549917</td>\n",
       "      <td>3318</td>\n",
       "    </tr>\n",
       "    <tr>\n",
       "      <th>9</th>\n",
       "      <td>2019-08-05</td>\n",
       "      <td>B</td>\n",
       "      <td>101</td>\n",
       "      <td>98</td>\n",
       "      <td>581995</td>\n",
       "      <td>3280</td>\n",
       "    </tr>\n",
       "  </tbody>\n",
       "</table>\n",
       "</div>"
      ],
      "text/plain": [
       "        date group  orders  buyers  revenue  visitors\n",
       "0 2019-08-01  A     24      20      148579   719     \n",
       "1 2019-08-01  B     21      20      101217   713     \n",
       "2 2019-08-02  A     44      38      242401   1338    \n",
       "3 2019-08-02  B     45      43      266748   1294    \n",
       "4 2019-08-03  A     68      62      354874   1845    \n",
       "5 2019-08-03  B     61      59      380996   1803    \n",
       "6 2019-08-04  A     84      77      425699   2562    \n",
       "7 2019-08-04  B     78      75      489567   2573    \n",
       "8 2019-08-05  A     109     100     549917   3318    \n",
       "9 2019-08-05  B     101     98      581995   3280    "
      ]
     },
     "execution_count": 39,
     "metadata": {},
     "output_type": "execute_result"
    }
   ],
   "source": [
    "# создаем массив уникальных пар значений дат и групп теста\n",
    "dates_groups = orders[['date','group']].drop_duplicates()\n",
    "\n",
    "# получаем агрегированные кумулятивные по дням данные о заказах \n",
    "orders_aggregated = ( dates_groups.apply(lambda x: orders[np.logical_and(orders['date'] <= x['date'],\n",
    "                                 orders['group'] == x['group'])]\n",
    "                                 .agg({'date' : 'max', 'group' : 'max', 'order_id' : 'nunique',\n",
    "                                       'user_id' : 'nunique', 'revenue' : 'sum'}), axis=1)\n",
    "                                 .sort_values(by=['date','group'])\n",
    "                   )\n",
    "\n",
    "# получаем агрегированные кумулятивные по дням данные о посетителях интернет-магазина \n",
    "visitors_aggregated = ( dates_groups.apply(lambda x: visitors[np.logical_and(visitors['date'] <= x['date'], \n",
    "                                          visitors['group'] == x['group'])]\n",
    "                                  .agg({'date' : 'max', 'group' : 'max', 'visitors' : 'sum'}), axis=1)\n",
    "                                  .sort_values(by=['date','group'])\n",
    "                     )\n",
    "\n",
    "# объединяем кумулятивные данные в одной таблице и присваиваем ее столбцам понятные названия\n",
    "cumulative_data = orders_aggregated.merge(\n",
    "    visitors_aggregated, left_on=['date', 'group'], right_on=['date', 'group']\n",
    ")\n",
    "cumulative_data.columns = ['date', 'group', 'orders', 'buyers', 'revenue', 'visitors'] \n",
    "cumulative_data.head(10)"
   ]
  },
  {
   "cell_type": "markdown",
   "metadata": {},
   "source": [
    "<div class=\"alert alert-success\"; style=\"border-left: 7px solid green\">\n",
    "<font size=\"4\"><b>Комментарий ревьюера 🚀</b></font>\n",
    "    <br />\n",
    "    <font size=\"3\", color = \"black\">\n",
    "    <br /> Супер! Получилась верная таблица с кумулятивными расчетами\n",
    "    </font>\n",
    "\n",
    "</div>"
   ]
  },
  {
   "cell_type": "markdown",
   "metadata": {},
   "source": [
    "<div class=\"alert alert-warning\" ; style=\"border-left: 7px solid orange\">\n",
    "<font size=\"4\"><b>Комментарий ревьюера 👀</b></font>\n",
    "    <br />\n",
    "    <font size=\"3\", color = \"black\">\n",
    "    <br /> При выводе на экран таблицу с кумулятивными расчетами следует использовать head, чтобы убедиться, что со временем данные растут и все верно считается. С sample мы получаем случайные строки, которые не позволяет проследить за тенденцией\n",
    "    <br />\n",
    "    </font>\n",
    "\n",
    "</div>"
   ]
  },
  {
   "cell_type": "markdown",
   "metadata": {},
   "source": [
    "<div class=\"alert alert\"; style=\"border-left: 7px solid blue\">\n",
    "<font size=\"4\"><b>Комментарий студента </b></font>\n",
    "    <br /> \n",
    "    <font size=\"3\", color = \"black\">\n",
    "<br />\n",
    "      <br />Понятно, исправил. <br/>\n",
    "    </font>"
   ]
  },
  {
   "cell_type": "markdown",
   "metadata": {},
   "source": [
    "<div class=\"alert alert-success\"; style=\"border-left: 7px solid green\">\n",
    "<font size=\"4\"><b>Комментарий ревьюера 🚀 v2</b></font>\n",
    "    <br />\n",
    "    <font size=\"3\", color = \"black\">\n",
    "    <br /> Молодец!\n",
    "     <br />\n",
    "    </font>\n",
    "\n",
    "</div>"
   ]
  },
  {
   "cell_type": "markdown",
   "metadata": {},
   "source": [
    "### График кумулятивной выручки "
   ]
  },
  {
   "cell_type": "code",
   "execution_count": 19,
   "metadata": {},
   "outputs": [
    {
     "data": {
      "image/png": "[encoded data removed]",
      "text/plain": [
       "<Figure size 1008x576 with 1 Axes>"
      ]
     },
     "metadata": {
      "needs_background": "light"
     },
     "output_type": "display_data"
    }
   ],
   "source": [
    "# датафрейм с кумулятивным количеством заказов и кумулятивной выручкой по дням в группе А\n",
    "cumulative_revenue_a = cumulative_data[cumulative_data['group']=='A'][['date','revenue', 'orders']]\n",
    "\n",
    "# датафрейм с кумулятивным количеством заказов и кумулятивной выручкой по дням в группе B\n",
    "cumulative_revenue_b = cumulative_data[cumulative_data['group']=='B'][['date','revenue', 'orders']]\n",
    "\n",
    "# Строим график выручки группы А\n",
    "plt.figure(figsize=(14, 8))\n",
    "plt.xticks(rotation=45)\n",
    "\n",
    "plt.plot(cumulative_revenue_a['date'], cumulative_revenue_a['revenue'], label='А', marker='o', color='blue')\n",
    "\n",
    "# Строим график выручки группы B\n",
    "plt.plot(cumulative_revenue_b['date'], cumulative_revenue_b['revenue'], label='B', marker='o', color='red')\n",
    "\n",
    "plt.ylabel('Кумулятивная выручка')\n",
    "plt.xlabel('Дата')\n",
    "plt.title('Кумулятивная выручка по группам A/B-теста', fontsize=16)\n",
    "plt.legend()\n",
    "plt.show()"
   ]
  },
  {
   "cell_type": "markdown",
   "metadata": {},
   "source": [
    "Несмотря на то, что в обеих группах выручка продолжает активно расти, очевидно, что в группе B она существенно выше и относительность роста между группами стабильна с середины августа. \n",
    "\n",
    "Также можно отметить резкий скачок выручки в группе B, произошедший 19.08 и определивший основное преимущество группы B. Этот всплеск может быть связан либо с большим числом заказов (возможно акция), либо с отдельными дорогими заказами. \n",
    "\n",
    "Этот момент нужно будет прояснить."
   ]
  },
  {
   "cell_type": "markdown",
   "metadata": {},
   "source": [
    "<div class=\"alert alert-success\"; style=\"border-left: 7px solid green\">\n",
    "<font size=\"4\"><b>Комментарий ревьюера 🚀</b></font>\n",
    "    <br />\n",
    "    <font size=\"3\", color = \"black\">\n",
    "    <br /> Отличное построение графика выручки! Нравится описание полученных результатов, верно замечены выбросы\n",
    "     <br />\n",
    "    </font>\n",
    "\n",
    "</div>"
   ]
  },
  {
   "cell_type": "markdown",
   "metadata": {},
   "source": [
    "### График кумулятивного среднего чека"
   ]
  },
  {
   "cell_type": "code",
   "execution_count": 20,
   "metadata": {},
   "outputs": [
    {
     "data": {
      "image/png": "[encoded data removed]",
      "text/plain": [
       "<Figure size 1008x576 with 1 Axes>"
      ]
     },
     "metadata": {
      "needs_background": "light"
     },
     "output_type": "display_data"
    }
   ],
   "source": [
    "# Строим график выручки группы А\n",
    "plt.figure(figsize=(14, 8))\n",
    "plt.xticks(rotation=45)\n",
    "\n",
    "plt.plot(cumulative_revenue_a['date'], cumulative_revenue_a['revenue']/cumulative_revenue_a['orders'],\n",
    "         label='А', marker='o', color='navy')\n",
    "\n",
    "# Строим график выручки группы B\n",
    "plt.plot(cumulative_revenue_b['date'], cumulative_revenue_b['revenue']/cumulative_revenue_b['orders'],\n",
    "         label='B', marker='o', color='orange')\n",
    "\n",
    "plt.ylabel('Кумулятивная выручка')\n",
    "plt.xlabel('Дата')\n",
    "plt.title('Кумулятивный средний чек по группам A/B-теста', fontsize=16)\n",
    "plt.legend()\n",
    "plt.show()"
   ]
  },
  {
   "cell_type": "markdown",
   "metadata": {},
   "source": [
    "На этом графике ситуация иная. Скачок 19.08 в группе B еще более значительный относительно остальной динамики. И самое главное - после него наблюдается постепенное, но почти ежедневное падение размера среднего чека, в отличие от обратного по динамике роста в группе А. Нужно больше данных, чтобы средний чек в группе В пришел к реальному значению."
   ]
  },
  {
   "cell_type": "markdown",
   "metadata": {},
   "source": [
    "<div class=\"alert alert-success\"; style=\"border-left: 7px solid green\">\n",
    "<font size=\"4\"><b>Комментарий ревьюера 🚀</b></font>\n",
    "    <br />\n",
    "    <font size=\"3\", color = \"black\">\n",
    "    <br /> Молодец, верный вывод!\n",
    "     <br />\n",
    "    </font>\n",
    "\n",
    "</div>"
   ]
  },
  {
   "cell_type": "markdown",
   "metadata": {},
   "source": [
    "### График относительного изменения кумулятивного среднего чека группы B к группе A"
   ]
  },
  {
   "cell_type": "code",
   "execution_count": 21,
   "metadata": {},
   "outputs": [
    {
     "data": {
      "text/html": [
       "<div>\n",
       "<style scoped>\n",
       "    .dataframe tbody tr th:only-of-type {\n",
       "        vertical-align: middle;\n",
       "    }\n",
       "\n",
       "    .dataframe tbody tr th {\n",
       "        vertical-align: top;\n",
       "    }\n",
       "\n",
       "    .dataframe thead th {\n",
       "        text-align: right;\n",
       "    }\n",
       "</style>\n",
       "<table border=\"1\" class=\"dataframe\">\n",
       "  <thead>\n",
       "    <tr style=\"text-align: right;\">\n",
       "      <th></th>\n",
       "      <th>date</th>\n",
       "      <th>revenueA</th>\n",
       "      <th>ordersA</th>\n",
       "      <th>revenueB</th>\n",
       "      <th>ordersB</th>\n",
       "    </tr>\n",
       "  </thead>\n",
       "  <tbody>\n",
       "    <tr>\n",
       "      <th>13</th>\n",
       "      <td>2019-08-14</td>\n",
       "      <td>1890852</td>\n",
       "      <td>268</td>\n",
       "      <td>2025446</td>\n",
       "      <td>308</td>\n",
       "    </tr>\n",
       "    <tr>\n",
       "      <th>2</th>\n",
       "      <td>2019-08-03</td>\n",
       "      <td>354874</td>\n",
       "      <td>68</td>\n",
       "      <td>380996</td>\n",
       "      <td>61</td>\n",
       "    </tr>\n",
       "    <tr>\n",
       "      <th>23</th>\n",
       "      <td>2019-08-24</td>\n",
       "      <td>3002070</td>\n",
       "      <td>441</td>\n",
       "      <td>4798722</td>\n",
       "      <td>493</td>\n",
       "    </tr>\n",
       "  </tbody>\n",
       "</table>\n",
       "</div>"
      ],
      "text/plain": [
       "         date  revenueA  ordersA  revenueB  ordersB\n",
       "13 2019-08-14  1890852   268      2025446   308    \n",
       "2  2019-08-03  354874    68       380996    61     \n",
       "23 2019-08-24  3002070   441      4798722   493    "
      ]
     },
     "execution_count": 21,
     "metadata": {},
     "output_type": "execute_result"
    }
   ],
   "source": [
    "# собираем данные в одном датафрейме\n",
    "cumulative_revenue = cumulative_revenue_a.merge(cumulative_revenue_b, left_on='date', right_on='date', how='left', \n",
    "                                                     suffixes=['A', 'B'])\n",
    "\n",
    "cumulative_revenue.sample(3)"
   ]
  },
  {
   "cell_type": "code",
   "execution_count": 22,
   "metadata": {},
   "outputs": [
    {
     "data": {
      "image/png": "[encoded data removed]",
      "text/plain": [
       "<Figure size 1008x576 with 1 Axes>"
      ]
     },
     "metadata": {
      "needs_background": "light"
     },
     "output_type": "display_data"
    }
   ],
   "source": [
    "plt.figure(figsize=(14, 8))\n",
    "plt.xticks(rotation=45)\n",
    "\n",
    "# cтроим отношение средних чеков\n",
    "plt.plot(cumulative_revenue['date'], (cumulative_revenue['revenueB']/cumulative_revenue['ordersB'])/\n",
    "                                          (cumulative_revenue['revenueA']/cumulative_revenue['ordersA'])-1, label='B',\n",
    "                                           marker='o', color='orange')\n",
    "\n",
    "# добавляем ось X\n",
    "plt.axhline(y=0, color='black', linestyle='--')\n",
    "\n",
    "plt.ylabel('Отношение кумулятивных средних чеков')\n",
    "plt.xlabel('Дата')\n",
    "plt.title('Относительное изменение кумулятивного среднего чека группы B к группе A', fontsize=16)\n",
    "plt.legend()\n",
    "plt.show()"
   ]
  },
  {
   "cell_type": "markdown",
   "metadata": {},
   "source": [
    "Более выраженно падение выручки в группе B и ее приближение к уровню в группе А."
   ]
  },
  {
   "cell_type": "markdown",
   "metadata": {},
   "source": [
    "1. Несмотря на то, что в обеих группах выручка продолжает активно расти, в группе B она существенно выше.\n",
    "2. 19.08 в группе B произошел сильный подъем выручки, который и определил дальнейшее преимущество. \n",
    "3. Предположительно данный скачок связан с какой-то разовой акцией или крупными заказами. \n",
    "4. В дальнейшем средний чек группы B показал стабильное падение, а группы А рост.\n",
    "5. Средний чек в группе B не соответствует реальному среднему чеку, т.к. искажен вышеописанным выбросом."
   ]
  },
  {
   "cell_type": "markdown",
   "metadata": {},
   "source": [
    "<div class=\"alert alert-success\"; style=\"border-left: 7px solid green\">\n",
    "<font size=\"4\"><b>Комментарий ревьюера 🚀</b></font>\n",
    "    <br />\n",
    "    <font size=\"3\", color = \"black\">\n",
    "    <br /> Отличное построение графика! Нравится выделение линии на уровне 0 по относительной разнице!\n",
    "     <br />\n",
    "    </font>\n",
    "\n",
    "</div>"
   ]
  },
  {
   "cell_type": "markdown",
   "metadata": {},
   "source": [
    "### График кумулятивной конверсии"
   ]
  },
  {
   "cell_type": "code",
   "execution_count": 23,
   "metadata": {},
   "outputs": [
    {
     "data": {
      "image/png": "[encoded data removed]",
      "text/plain": [
       "<Figure size 1008x576 with 1 Axes>"
      ]
     },
     "metadata": {
      "needs_background": "light"
     },
     "output_type": "display_data"
    }
   ],
   "source": [
    "# создаем новую колонку с расчетом кумулятивой конверсии\n",
    "cumulative_data['conversion'] = cumulative_data['orders']/cumulative_data['visitors']\n",
    "\n",
    "# отделяем данные по группе A\n",
    "cumulative_data_a = cumulative_data[cumulative_data['group']=='A']\n",
    "\n",
    "# отделяем данные по группе B\n",
    "cumulative_data_b = cumulative_data[cumulative_data['group']=='B']\n",
    "\n",
    "# строим графики\n",
    "plt.figure(figsize=(14, 8))\n",
    "plt.xticks(rotation=45)\n",
    "\n",
    "plt.plot(cumulative_data_a['date'], cumulative_data_a['conversion'], label='A', marker='o', color='crimson')\n",
    "plt.plot(cumulative_data_b['date'], cumulative_data_b['conversion'], label='B', marker='o', color='green')\n",
    "\n",
    "# задаем масштаб осей\n",
    "plt.axis([pd.to_datetime(\"2019-08-01\"), pd.to_datetime('2019-08-31'), 0, 0.05])\n",
    "\n",
    "plt.ylabel('Кумулятивная конверсия')\n",
    "plt.xlabel('Дата')\n",
    "plt.title('Кумулятивная конверсия по группам A/B-теста', fontsize=16)\n",
    "plt.legend()\n",
    "plt.show()"
   ]
  },
  {
   "cell_type": "markdown",
   "metadata": {},
   "source": [
    "Динамика стабилизировалась с середины августа. Небольшое, но уверенное преимущество за группой В."
   ]
  },
  {
   "cell_type": "markdown",
   "metadata": {},
   "source": [
    "<div class=\"alert alert-success\"; style=\"border-left: 7px solid green\">\n",
    "<font size=\"4\"><b>Комментарий ревьюера 🚀</b></font>\n",
    "    <br />\n",
    "    <font size=\"3\", color = \"black\">\n",
    "    <br />Молодец, верный подсчет конверсии!\n",
    "     <br /><br /> Также отличное построение графика! Верно замечен тренд\n",
    "    </font>\n",
    "\n",
    "</div>"
   ]
  },
  {
   "cell_type": "markdown",
   "metadata": {},
   "source": [
    "### График относительного изменения кумулятивной конверсии группы B к группе A"
   ]
  },
  {
   "cell_type": "code",
   "execution_count": 24,
   "metadata": {},
   "outputs": [
    {
     "data": {
      "image/png": "[encoded data removed]",
      "text/plain": [
       "<Figure size 1008x576 with 1 Axes>"
      ]
     },
     "metadata": {
      "needs_background": "light"
     },
     "output_type": "display_data"
    }
   ],
   "source": [
    "cumulative_conversions = ( cumulative_data_a[['date','conversion']].merge(cumulative_data_b[['date','conversion']], \n",
    "                                                                             left_on='date', right_on='date', how='left', \n",
    "                                                                             suffixes=['A', 'B'])\n",
    "                              )\n",
    "\n",
    "plt.figure(figsize=(14, 8))\n",
    "plt.xticks(rotation=45)\n",
    "\n",
    "plt.plot(cumulative_conversions['date'], \n",
    "         cumulative_conversions['conversionB']/cumulative_conversions['conversionA']-1, label='В', \n",
    "         marker='o', color='green')\n",
    "plt.ylabel('Кумулятивная конверсия')\n",
    "plt.xlabel('Дата')\n",
    "plt.title('Относительное изменение кумулятивной конверсии группы B к группе A', fontsize=16)\n",
    "plt.legend()\n",
    "\n",
    "plt.axhline(y=0, color='black', linestyle='--')\n",
    "plt.axhline(y=0.11, color='grey', linestyle='--')\n",
    "plt.axis([pd.to_datetime(\"2019-08-01\"), pd.to_datetime('2019-09-01'), -0.13, 0.22])\n",
    "plt.show()"
   ]
  },
  {
   "cell_type": "markdown",
   "metadata": {},
   "source": [
    "Конверсия в группе В превысила конверсию в группе А на 21% к середине августа, затем, после постепенного снижения, показала превышение от 10 до 14% в последней трети августа."
   ]
  },
  {
   "cell_type": "markdown",
   "metadata": {},
   "source": [
    "Кумулятивная конверсия в группе B выше, чем в группе А в среднем на 11%."
   ]
  },
  {
   "cell_type": "markdown",
   "metadata": {},
   "source": [
    "<div class=\"alert alert-success\"; style=\"border-left: 7px solid green\">\n",
    "<font size=\"4\"><b>Комментарий ревьюера 🚀</b></font>\n",
    "    <br />\n",
    "    <font size=\"3\", color = \"black\">\n",
    "    <br /> Да, видим, что после 8-го дня конверсия уже стабилизровалась. Отличное построение графиков!\n",
    "     <br />\n",
    "    </font>\n",
    "\n",
    "</div>"
   ]
  },
  {
   "cell_type": "markdown",
   "metadata": {},
   "source": [
    "### График количества заказов по пользователям"
   ]
  },
  {
   "cell_type": "code",
   "execution_count": 25,
   "metadata": {},
   "outputs": [
    {
     "data": {
      "text/html": [
       "<div>\n",
       "<style scoped>\n",
       "    .dataframe tbody tr th:only-of-type {\n",
       "        vertical-align: middle;\n",
       "    }\n",
       "\n",
       "    .dataframe tbody tr th {\n",
       "        vertical-align: top;\n",
       "    }\n",
       "\n",
       "    .dataframe thead th {\n",
       "        text-align: right;\n",
       "    }\n",
       "</style>\n",
       "<table border=\"1\" class=\"dataframe\">\n",
       "  <thead>\n",
       "    <tr style=\"text-align: right;\">\n",
       "      <th></th>\n",
       "      <th>user_id</th>\n",
       "      <th>orders</th>\n",
       "    </tr>\n",
       "  </thead>\n",
       "  <tbody>\n",
       "    <tr>\n",
       "      <th>1023</th>\n",
       "      <td>4256040402</td>\n",
       "      <td>11</td>\n",
       "    </tr>\n",
       "    <tr>\n",
       "      <th>591</th>\n",
       "      <td>2458001652</td>\n",
       "      <td>11</td>\n",
       "    </tr>\n",
       "    <tr>\n",
       "      <th>569</th>\n",
       "      <td>2378935119</td>\n",
       "      <td>9</td>\n",
       "    </tr>\n",
       "    <tr>\n",
       "      <th>487</th>\n",
       "      <td>2038680547</td>\n",
       "      <td>8</td>\n",
       "    </tr>\n",
       "    <tr>\n",
       "      <th>44</th>\n",
       "      <td>199603092</td>\n",
       "      <td>5</td>\n",
       "    </tr>\n",
       "    <tr>\n",
       "      <th>744</th>\n",
       "      <td>3062433592</td>\n",
       "      <td>5</td>\n",
       "    </tr>\n",
       "    <tr>\n",
       "      <th>55</th>\n",
       "      <td>237748145</td>\n",
       "      <td>5</td>\n",
       "    </tr>\n",
       "    <tr>\n",
       "      <th>917</th>\n",
       "      <td>3803269165</td>\n",
       "      <td>5</td>\n",
       "    </tr>\n",
       "    <tr>\n",
       "      <th>299</th>\n",
       "      <td>1230306981</td>\n",
       "      <td>5</td>\n",
       "    </tr>\n",
       "    <tr>\n",
       "      <th>897</th>\n",
       "      <td>3717692402</td>\n",
       "      <td>5</td>\n",
       "    </tr>\n",
       "  </tbody>\n",
       "</table>\n",
       "</div>"
      ],
      "text/plain": [
       "         user_id  orders\n",
       "1023  4256040402  11    \n",
       "591   2458001652  11    \n",
       "569   2378935119  9     \n",
       "487   2038680547  8     \n",
       "44    199603092   5     \n",
       "744   3062433592  5     \n",
       "55    237748145   5     \n",
       "917   3803269165  5     \n",
       "299   1230306981  5     \n",
       "897   3717692402  5     "
      ]
     },
     "metadata": {},
     "output_type": "display_data"
    }
   ],
   "source": [
    "# подсчитаем количество заказов по пользователям \n",
    "orders_by_users = orders.drop(['group', 'revenue', 'date'], axis=1)\\\n",
    "                      .groupby('user_id', as_index=False)\\\n",
    "                      .agg({'order_id' : pd.Series.nunique})\n",
    "orders_by_users.columns = ['user_id','orders']\n",
    "\n",
    "display(orders_by_users.sort_values(by='orders', ascending=False).head(10)) "
   ]
  },
  {
   "cell_type": "code",
   "execution_count": 26,
   "metadata": {},
   "outputs": [
    {
     "data": {
      "image/png": "[encoded data removed]",
      "text/plain": [
       "<Figure size 1008x576 with 1 Axes>"
      ]
     },
     "metadata": {
      "needs_background": "light"
     },
     "output_type": "display_data"
    }
   ],
   "source": [
    "# серия из чисел от 0 до количества наблюдений в orders_by_users\n",
    "x_values = pd.Series(range(0,len(orders_by_users)))\n",
    "\n",
    "# построим точечный график количества заказов по пользователям\n",
    "plt.figure(figsize=(14, 8))\n",
    "plt.scatter(x_values, orders_by_users['orders'], color='deepskyblue')\n",
    "plt.xlabel('Пользователи')\n",
    "plt.ylabel('Заказы')\n",
    "plt.title('Количество заказов по пользователям', fontsize=16)\n",
    "plt.show()"
   ]
  },
  {
   "cell_type": "markdown",
   "metadata": {},
   "source": [
    "Распределение заказов по пользователям выглядит нормальным: подавляющая часть сделала по 1 заказу, достаточно много тех, кто сделал 2 заказа, совсем мало сделавших более 2. Посмотрим более точные доли в расчете перцентилей."
   ]
  },
  {
   "cell_type": "markdown",
   "metadata": {},
   "source": [
    "<div class=\"alert alert-success\"; style=\"border-left: 7px solid green\">\n",
    "<font size=\"4\"><b>Комментарий ревьюера 🚀</b></font>\n",
    "    <br />\n",
    "    <font size=\"3\", color = \"black\">\n",
    "    <br /> Абсолютно верное построение точечного графика. Действительно, по графику видим, что аномальные значения начинаются от 3-4 заказов\n",
    "     <br />\n",
    "    </font>\n",
    "\n",
    "</div>"
   ]
  },
  {
   "cell_type": "markdown",
   "metadata": {},
   "source": [
    "### Перцентили количества заказов на пользователя"
   ]
  },
  {
   "cell_type": "markdown",
   "metadata": {},
   "source": [
    "Посчитаем 95-й и 99-й перцентили количества заказов на пользователя."
   ]
  },
  {
   "cell_type": "code",
   "execution_count": 27,
   "metadata": {
    "scrolled": true
   },
   "outputs": [
    {
     "name": "stdout",
     "output_type": "stream",
     "text": [
      "95-й перцентиль количества заказов на пользователя: 2.0 заказа\n",
      "99-й перцентиль количества заказов на пользователя: 4.0 заказа\n"
     ]
    }
   ],
   "source": [
    "percentiles = np.percentile(orders_by_users['orders'], [95, 99])\n",
    "print('95-й перцентиль количества заказов на пользователя: {} заказа'.format(percentiles[0]))\n",
    "print('99-й перцентиль количества заказов на пользователя: {} заказа'.format(percentiles[1]))"
   ]
  },
  {
   "cell_type": "markdown",
   "metadata": {},
   "source": [
    "1. Не более 5% пользователей оформили больше, чем 2 заказа. \n",
    "2. Возьмем эту границу как верхнюю - пользователей с более, чем 2 заказами будем считать аномальными. "
   ]
  },
  {
   "cell_type": "markdown",
   "metadata": {},
   "source": [
    "<div class=\"alert alert-success\"; style=\"border-left: 7px solid green\">\n",
    "<font size=\"4\"><b>Комментарий ревьюера 🚀</b></font>\n",
    "    <br />\n",
    "    <font size=\"3\", color = \"black\">\n",
    "    <br /> Супер! Верно найдена граница\n",
    "     <br />\n",
    "    </font>\n",
    "\n",
    "</div>"
   ]
  },
  {
   "cell_type": "markdown",
   "metadata": {},
   "source": [
    "### График стоимостей заказов"
   ]
  },
  {
   "cell_type": "code",
   "execution_count": 28,
   "metadata": {},
   "outputs": [
    {
     "data": {
      "image/png": "[encoded data removed]",
      "text/plain": [
       "<Figure size 1008x576 with 1 Axes>"
      ]
     },
     "metadata": {
      "needs_background": "light"
     },
     "output_type": "display_data"
    },
    {
     "data": {
      "text/plain": [
       "count   1197.00   \n",
       "mean    8348.01   \n",
       "std     39191.13  \n",
       "min     50.00     \n",
       "25%     1220.00   \n",
       "50%     2978.00   \n",
       "75%     8290.00   \n",
       "max     1294500.00\n",
       "Name: revenue, dtype: float64"
      ]
     },
     "execution_count": 28,
     "metadata": {},
     "output_type": "execute_result"
    }
   ],
   "source": [
    "# серия из чисел от 0 до количества наблюдений в orders\n",
    "x_values = pd.Series(range(0,len(orders)))\n",
    "\n",
    "# построим точечный график стоимостей заказов\n",
    "plt.figure(figsize=(14, 8))\n",
    "plt.scatter(x_values, orders['revenue'], color='maroon')\n",
    "plt.xlabel('Заказы')\n",
    "plt.ylabel('Стоимости заказов')\n",
    "plt.title('Cтоимости заказов', fontsize=16)\n",
    "plt.axis([0, 1200, 0, 100000])\n",
    "plt.show()\n",
    "orders['revenue'].describe()"
   ]
  },
  {
   "cell_type": "markdown",
   "metadata": {},
   "source": [
    "<div class=\"alert alert-success\"; style=\"border-left: 7px solid green\">\n",
    "<font size=\"4\"><b>Комментарий ревьюера 🚀</b></font>\n",
    "    <br />\n",
    "    <font size=\"3\", color = \"black\">\n",
    "    <br /> Отлично, что детализируешь график для более углубленного изучения распределения!\n",
    "     <br />\n",
    "    </font>\n",
    "\n",
    "</div>"
   ]
  },
  {
   "cell_type": "markdown",
   "metadata": {},
   "source": [
    "Основная часть заказов стоит меньше 10.000, границу аномальных заказов можно установить от 20.000. Есть и супераномальные заказы, такие как за 1.294.500. Они могут сильно искажать средние значения. Для окончательного определения нормальных границ рассчитаем перцентили."
   ]
  },
  {
   "cell_type": "markdown",
   "metadata": {},
   "source": [
    "### Перцентили стоимости заказов"
   ]
  },
  {
   "cell_type": "markdown",
   "metadata": {},
   "source": [
    "Посчитаем 95-й и 99-й перцентили стоимости заказов."
   ]
  },
  {
   "cell_type": "code",
   "execution_count": 29,
   "metadata": {
    "scrolled": true
   },
   "outputs": [
    {
     "name": "stdout",
     "output_type": "stream",
     "text": [
      "95-й перцентиль стоимости заказов: 28000\n",
      "99-й перцентиль стоимости заказов: 58233\n"
     ]
    }
   ],
   "source": [
    "percentiles = np.percentile(orders['revenue'], [95, 99])\n",
    "print('95-й перцентиль стоимости заказов: {:.0f}'.format(percentiles[0]))\n",
    "print('99-й перцентиль стоимости заказов: {:.0f}'.format(percentiles[1]))"
   ]
  },
  {
   "cell_type": "markdown",
   "metadata": {},
   "source": [
    "1. Не более 5% заказов стоят больше, чем 28.000. \n",
    "2. Возьмем эту границу как верхнюю - заказы дороже 28.000 будем считать аномальными. "
   ]
  },
  {
   "cell_type": "markdown",
   "metadata": {},
   "source": [
    "### Выводы\n",
    "\n",
    "1. Графики среднего чека показывают, что результаты группы B лучше группы A. Но это преимущество связано с большим выбросом. \n",
    "2. Графики конверсии показывают, что она выше в группе B на 11%.\n",
    "3. Графики количества и стоимостей заказов показывают наличие аномальных значений, а расчет перцентилей уточняет их число: аномальными решено считать количество заказов выше 2 и стоимость выше 28.000."
   ]
  },
  {
   "cell_type": "markdown",
   "metadata": {},
   "source": [
    "<div class=\"alert alert-success\"; style=\"border-left: 7px solid green\">\n",
    "<font size=\"4\"><b>Комментарий ревьюера 🚀</b></font>\n",
    "    <br />\n",
    "    <font size=\"3\", color = \"black\">\n",
    "    <br /> Супер, абсолютно верно найдена граница аномальных значений\n",
    "     <br />\n",
    "    </font>\n",
    "\n",
    "</div>"
   ]
  },
  {
   "cell_type": "markdown",
   "metadata": {},
   "source": [
    "## Статистический анализ A/B-теста\n",
    "  \n",
    "Проанализируем результаты A/B-теста, которые содержатся в датасетах orders и visitors, используя критерий Уилкоксона-Манна-Уитни и расчета относительных значений между группами по \"сырым\" и \"очищенным\" данным."
   ]
  },
  {
   "cell_type": "markdown",
   "metadata": {},
   "source": [
    "### Датафрейм data  и выборки с \"сырыми\" данными"
   ]
  },
  {
   "cell_type": "markdown",
   "metadata": {},
   "source": [
    "Создадим датафрейм `data`, в котором объединим необходимые для статистического анализа кумулятивные данные."
   ]
  },
  {
   "cell_type": "code",
   "execution_count": 30,
   "metadata": {
    "scrolled": true
   },
   "outputs": [
    {
     "data": {
      "text/html": [
       "<div>\n",
       "<style scoped>\n",
       "    .dataframe tbody tr th:only-of-type {\n",
       "        vertical-align: middle;\n",
       "    }\n",
       "\n",
       "    .dataframe tbody tr th {\n",
       "        vertical-align: top;\n",
       "    }\n",
       "\n",
       "    .dataframe thead th {\n",
       "        text-align: right;\n",
       "    }\n",
       "</style>\n",
       "<table border=\"1\" class=\"dataframe\">\n",
       "  <thead>\n",
       "    <tr style=\"text-align: right;\">\n",
       "      <th></th>\n",
       "      <th>date</th>\n",
       "      <th>orders_per_date_a</th>\n",
       "      <th>revenue_per_date_a</th>\n",
       "      <th>orders_per_date_b</th>\n",
       "      <th>revenue_per_date_b</th>\n",
       "      <th>orders_cummulative_a</th>\n",
       "      <th>revenue_cummulative_a</th>\n",
       "      <th>orders_cummulative_b</th>\n",
       "      <th>revenue_cummulative_b</th>\n",
       "      <th>visitors_per_date_a</th>\n",
       "      <th>visitors_per_date_b</th>\n",
       "      <th>visitors_cummulative_a</th>\n",
       "      <th>visitors_cummulative_b</th>\n",
       "    </tr>\n",
       "  </thead>\n",
       "  <tbody>\n",
       "    <tr>\n",
       "      <th>0</th>\n",
       "      <td>2019-08-01</td>\n",
       "      <td>24</td>\n",
       "      <td>148579</td>\n",
       "      <td>21</td>\n",
       "      <td>101217</td>\n",
       "      <td>24</td>\n",
       "      <td>148579</td>\n",
       "      <td>21</td>\n",
       "      <td>101217</td>\n",
       "      <td>719</td>\n",
       "      <td>713</td>\n",
       "      <td>719</td>\n",
       "      <td>713</td>\n",
       "    </tr>\n",
       "    <tr>\n",
       "      <th>1</th>\n",
       "      <td>2019-08-02</td>\n",
       "      <td>20</td>\n",
       "      <td>93822</td>\n",
       "      <td>24</td>\n",
       "      <td>165531</td>\n",
       "      <td>44</td>\n",
       "      <td>242401</td>\n",
       "      <td>45</td>\n",
       "      <td>266748</td>\n",
       "      <td>619</td>\n",
       "      <td>581</td>\n",
       "      <td>1338</td>\n",
       "      <td>1294</td>\n",
       "    </tr>\n",
       "    <tr>\n",
       "      <th>2</th>\n",
       "      <td>2019-08-03</td>\n",
       "      <td>24</td>\n",
       "      <td>112473</td>\n",
       "      <td>16</td>\n",
       "      <td>114248</td>\n",
       "      <td>68</td>\n",
       "      <td>354874</td>\n",
       "      <td>61</td>\n",
       "      <td>380996</td>\n",
       "      <td>507</td>\n",
       "      <td>509</td>\n",
       "      <td>1845</td>\n",
       "      <td>1803</td>\n",
       "    </tr>\n",
       "  </tbody>\n",
       "</table>\n",
       "</div>"
      ],
      "text/plain": [
       "        date  orders_per_date_a  revenue_per_date_a  orders_per_date_b  \\\n",
       "0 2019-08-01  24                 148579              21                  \n",
       "1 2019-08-02  20                 93822               24                  \n",
       "2 2019-08-03  24                 112473              16                  \n",
       "\n",
       "   revenue_per_date_b  orders_cummulative_a  revenue_cummulative_a  \\\n",
       "0  101217              24                    148579                  \n",
       "1  165531              44                    242401                  \n",
       "2  114248              68                    354874                  \n",
       "\n",
       "   orders_cummulative_b  revenue_cummulative_b  visitors_per_date_a  \\\n",
       "0  21                    101217                 719                   \n",
       "1  45                    266748                 619                   \n",
       "2  61                    380996                 507                   \n",
       "\n",
       "   visitors_per_date_b  visitors_cummulative_a  visitors_cummulative_b  \n",
       "0  713                  719                     713                     \n",
       "1  581                  1338                    1294                    \n",
       "2  509                  1845                    1803                    "
      ]
     },
     "execution_count": 30,
     "metadata": {},
     "output_type": "execute_result"
    }
   ],
   "source": [
    "# количество пользователей в выбранную дату в группе A\n",
    "visitors_a_daily = visitors[visitors['group']=='A'][['date', 'visitors']]\n",
    "visitors_a_daily.columns = ['date', 'visitors_per_date_a']\n",
    "\n",
    "# количество пользователей до выбранной даты включительно в группе A\n",
    "visitors_a_cummulative = visitors_a_daily.apply(lambda x: visitors_a_daily[visitors_a_daily['date'] <=x['date']]\\\n",
    "                                     .agg({'date' : 'max', 'visitors_per_date_a' : 'sum'}), axis=1)\n",
    "visitors_a_cummulative.columns = ['date', 'visitors_cummulative_a']\n",
    "\n",
    "# количество пользователей в выбранную дату в группе B\n",
    "visitors_b_daily = visitors[visitors['group']=='B'][['date', 'visitors']]\n",
    "visitors_b_daily.columns = ['date', 'visitors_per_date_b']\n",
    "\n",
    "# количество пользователей до выбранной даты включительно в группе В\n",
    "visitors_b_cummulative = visitors_b_daily.apply(lambda x: visitors_b_daily[visitors_b_daily['date'] <=x['date']]\\\n",
    "                                     .agg({'date' : 'max', 'visitors_per_date_b' : 'sum'}), axis=1)\n",
    "visitors_b_cummulative.columns = ['date', 'visitors_cummulative_b']\n",
    "\n",
    "# количество заказов и суммарная выручка в выбранную дату в группе A\n",
    "orders_a_daily = orders[orders['group']=='A'][['date', 'order_id', 'user_id', 'revenue']].groupby('date', as_index=False)\\\n",
    "                                     .agg({'order_id' : pd.Series.nunique, 'revenue' : 'sum'})\n",
    "orders_a_daily.columns = ['date', 'orders_per_date_a', 'revenue_per_date_a']\n",
    "\n",
    "# суммарное число заказов и суммарная выручка до выбранной даты включительно в группе A\n",
    "orders_a_cummulative = orders_a_daily.apply(lambda x: orders_a_daily[orders_a_daily['date'] <= x['date']]\\\n",
    "                                 .agg({'date' : 'max', 'orders_per_date_a' : 'sum', 'revenue_per_date_a' : 'sum'}), axis=1)\\\n",
    "                                 .sort_values(by=['date'])\n",
    "orders_a_cummulative.columns = ['date', 'orders_cummulative_a', 'revenue_cummulative_a']\n",
    "\n",
    "# количество заказов и суммарная выручка в выбранную дату в группе B\n",
    "orders_b_daily = orders[orders['group']=='B'][['date', 'order_id', 'user_id', 'revenue']].groupby('date', as_index=False)\\\n",
    "                                     .agg({'order_id' : pd.Series.nunique, 'revenue' : 'sum'})\n",
    "orders_b_daily.columns = ['date', 'orders_per_date_b', 'revenue_per_date_b']\n",
    "\n",
    "# суммарное число заказов и суммарная выручка до выбранной даты включительно в группе В\n",
    "orders_b_cummulative = orders_b_daily.apply(lambda x: orders_b_daily[orders_b_daily['date'] <= x['date']]\\\n",
    "                                 .agg({'date' : 'max', 'orders_per_date_b' : 'sum', 'revenue_per_date_b' : 'sum'}), axis=1)\\\n",
    "                                 .sort_values(by=['date'])\n",
    "orders_b_cummulative.columns = ['date', 'orders_cummulative_b', 'revenue_cummulative_b']\n",
    "\n",
    "# объединение в один датафрейм data\n",
    "data = orders_a_daily.merge(orders_b_daily, left_on='date', right_on='date', how='left')\\\n",
    "                   .merge(orders_a_cummulative, left_on='date', right_on='date', how='left')\\\n",
    "                   .merge(orders_b_cummulative, left_on='date', right_on='date', how='left')\\\n",
    "                   .merge(visitors_a_daily, left_on='date', right_on='date', how='left')\\\n",
    "                   .merge(visitors_b_daily, left_on='date', right_on='date', how='left')\\\n",
    "                   .merge(visitors_a_cummulative, left_on='date', right_on='date', how='left')\\\n",
    "                   .merge(visitors_b_cummulative, left_on='date', right_on='date', how='left')\n",
    "\n",
    "data.head(3)"
   ]
  },
  {
   "cell_type": "markdown",
   "metadata": {},
   "source": [
    "Описание данных датафрейма `data`:\n",
    "\n",
    " - date — дата;\n",
    " - orders_per_date_a — количество заказов в выбранную дату в группе A;\n",
    " - revenue_per_date_a — суммарная выручка в выбранную дату в группе A;\n",
    " - orders_per_date_b — количество заказов в выбранную дату в группе B;\n",
    " - revenue_per_date_b — суммарная выручка в выбранную дату в группе B;\n",
    " - orders_cummulative_a — суммарное число заказов до выбранной даты включительно в группе A;\n",
    " - revenue_cummulative_a — суммарная выручка до выбранной даты включительно в группе A;\n",
    " - orders_cummulative_b — суммарное количество заказов до выбранной даты включительно в группе B;\n",
    " - revenue_cummulative_b — суммарная выручка до выбранной даты включительно в группе B;\n",
    " - visitors_per_date_a — количество пользователей в выбранную дату в группе A;\n",
    " - visitors_per_date_b — количество пользователей в выбранную дату в группе B;\n",
    " - visitors_cummulative_a — количество пользователей до выбранной даты включительно в группе A;\n",
    " - visitors_cummulative_b — количество пользователей до выбранной даты включительно в группе B."
   ]
  },
  {
   "cell_type": "markdown",
   "metadata": {},
   "source": [
    "<div class=\"alert alert-success\"; style=\"border-left: 7px solid green\">\n",
    "<font size=\"4\"><b>Комментарий ревьюера 🚀</b></font>\n",
    "    <br />\n",
    "    <font size=\"3\", color = \"black\">\n",
    "    <br /> Молодец! Верно получен финальный датафрейм с необходимыми расчетами. Абсолютно грамотное соединение таблиц между собой\n",
    "     <br /><br />\n",
    "        Очень круто, что описываешь столбцы полученного датафрейма\n",
    "    </font>\n",
    "\n",
    "</div>"
   ]
  },
  {
   "cell_type": "markdown",
   "metadata": {},
   "source": [
    "Подготовим выборки с \"сырыми\" (содержащими аномальные значения) данными."
   ]
  },
  {
   "cell_type": "code",
   "execution_count": 31,
   "metadata": {},
   "outputs": [],
   "source": [
    "# создадим переменные orders_by_users_a и orders_by_users_b со столбцами ['user_id', 'orders'] \n",
    "# в них для каждого пользователя, который сделал хотя бы 1 заказ будет указано количество совершённых заказов\n",
    "orders_by_users_a = orders[orders['group']=='A'].groupby('user_id', as_index=False).agg({'order_id' : pd.Series.nunique})\n",
    "orders_by_users_a.columns = ['user_id', 'orders']\n",
    "\n",
    "orders_by_users_b = orders[orders['group']=='B'].groupby('user_id', as_index=False).agg({'order_id' : pd.Series.nunique})\n",
    "orders_by_users_b.columns = ['user_id', 'orders']\n",
    "\n",
    "# объявим переменные sample_a и sample_b, в которых пользователям из каждой группы А/В теста \n",
    "# будет соответствовать количество совершённых заказов \n",
    "# тем, кто ничего не заказал, будут соответствовать нули\n",
    "sample_a = pd.concat([orders_by_users_a['orders'],pd.Series(0, \n",
    "                     index=np.arange(data['visitors_per_date_a'].sum() \n",
    "                                     - len(orders_by_users_a['orders'])), name='orders')],axis=0)\n",
    "sample_b = pd.concat([orders_by_users_b['orders'],pd.Series(0, \n",
    "                     index=np.arange(data['visitors_per_date_b'].sum() \n",
    "                                     - len(orders_by_users_b['orders'])), name='orders')],axis=0)"
   ]
  },
  {
   "cell_type": "markdown",
   "metadata": {},
   "source": [
    "<div class=\"alert alert-success\"; style=\"border-left: 7px solid green\">\n",
    "<font size=\"4\"><b>Комментарий ревьюера 🚀</b></font>\n",
    "    <br />\n",
    "    <font size=\"3\", color = \"black\">\n",
    "    <br /> Верно получены выборки!\n",
    "    </font>\n",
    "\n",
    "</div>"
   ]
  },
  {
   "cell_type": "markdown",
   "metadata": {},
   "source": [
    "### Статистическая значимость различий в конверсии между группами по «сырым» данным"
   ]
  },
  {
   "cell_type": "markdown",
   "metadata": {},
   "source": [
    "Посчитаем статистическую значимость различий в конверсии между группами по «сырым» данным.\n",
    "\n",
    "Сформулируем статистические гипотезы из положения о том, что нулевая гипотеза всегда формулируется так, чтобы использовать знак равенства:\n",
    "\n",
    "- H0 — конверсия в группе А и группе В одинаковая.\n",
    "- H1 — конверсия в группе А и группе В различается.\n",
    "\n",
    "Применим статистический критерий Уилкоксона-Манна-Уитни к полученным выборкам."
   ]
  },
  {
   "cell_type": "markdown",
   "metadata": {},
   "source": [
    "<div class=\"alert alert-success\"; style=\"border-left: 7px solid green\">\n",
    "<font size=\"4\"><b>Комментарий ревьюера 🚀</b></font>\n",
    "    <br />\n",
    "    <font size=\"3\", color = \"black\">\n",
    "    <br /> Верная формулировка гипотез!\n",
    "     <br />\n",
    "    </font>\n",
    "\n",
    "</div>"
   ]
  },
  {
   "cell_type": "code",
   "execution_count": 32,
   "metadata": {},
   "outputs": [
    {
     "name": "stdout",
     "output_type": "stream",
     "text": [
      "p-value: 0.017\n",
      "Отвергаем нулевую гипотезу: конверсия в группе А и группе В по \"сырым\" данным различается.\n",
      "Относительное значение конверсии группы B по отношению к группе A по \"сырым\" данным: 0.138\n"
     ]
    }
   ],
   "source": [
    "# критический уровень статистической значимости зададим 5% поскольку у нас двусторонняя гипотеза и \n",
    "# вероятность отклониться от центра распределения в каждую сторону уменьшится до 2,5% \n",
    "# и это стандартная величина, обычно использующаяся в статистических тестах\n",
    "alpha = .05 \n",
    "\n",
    "pvalue = st.mannwhitneyu(sample_a, sample_b)[1]\n",
    "\n",
    "print(\"p-value: {0:.3f}\".format(pvalue))\n",
    "\n",
    "if pvalue < alpha:\n",
    "    print('Отвергаем нулевую гипотезу: конверсия в группе А и группе В по \"сырым\" данным различается.')\n",
    "else:\n",
    "    print('Не получилось отвергнуть нулевую гипотезу: конверсия в группе А и группе В по \"сырым\" данным одинаковая.')\n",
    "    \n",
    "# относительное различие в конверсии между группами\n",
    "print('Относительное значение конверсии группы B по отношению к группе A по \"сырым\" данным: {0:.3f}'\n",
    "      .format(sample_b.mean()/sample_a.mean()-1)) "
   ]
  },
  {
   "cell_type": "markdown",
   "metadata": {},
   "source": [
    "1. Статистическая проверка по \"сырым\" данным подтвердила, что конверсия в группах А/В теста различается.\n",
    "2. Прирост конверсии группы B по отношению к группе A равен 13,8%."
   ]
  },
  {
   "cell_type": "markdown",
   "metadata": {},
   "source": [
    "<div class=\"alert alert-success\"; style=\"border-left: 7px solid green\">\n",
    "<font size=\"4\"><b>Комментарий ревьюера 🚀</b></font>\n",
    "    <br />\n",
    "    <font size=\"3\", color = \"black\">\n",
    "    <br /> Супер! Получены верные результаты по расчетам стат теста и прироста. Нравится вывод и объяснение полученных значений\n",
    "     <br />\n",
    "    </font>\n",
    "\n",
    "</div>"
   ]
  },
  {
   "cell_type": "markdown",
   "metadata": {},
   "source": [
    "### Статистическая значимость различий в среднем чеке между группами по «сырым» данным"
   ]
  },
  {
   "cell_type": "markdown",
   "metadata": {},
   "source": [
    "Сформулируем статистические гипотезы:\n",
    "\n",
    "- H0 — средний чек в группе А и группе В одинаковый.\n",
    "- H1 — средний чек в группе А и группе В различается.\n",
    "\n",
    "Применим статистический критерий Уилкоксона-Манна-Уитни."
   ]
  },
  {
   "cell_type": "markdown",
   "metadata": {},
   "source": [
    "<div class=\"alert alert-success\"; style=\"border-left: 7px solid green\">\n",
    "<font size=\"4\"><b>Комментарий ревьюера 🚀</b></font>\n",
    "    <br />\n",
    "    <font size=\"3\", color = \"black\">\n",
    "    <br /> Верная формулировка гипотез!\n",
    "     <br />\n",
    "    </font>\n",
    "\n",
    "</div>"
   ]
  },
  {
   "cell_type": "code",
   "execution_count": 33,
   "metadata": {},
   "outputs": [
    {
     "name": "stdout",
     "output_type": "stream",
     "text": [
      "p-value: 0.729\n",
      "Не получилось отвергнуть нулевую гипотезу: средний чек в группе А и группе В по \"сырым\" данным одинаковый.\n",
      "Относительное значение среднего чека группы B по отношению к группе A по \"сырым\" данным: 0.259\n"
     ]
    }
   ],
   "source": [
    "# критический уровень статистической значимости зададим 5% \n",
    "alpha = .05 \n",
    "\n",
    "# передадим критерию mannwhitneyu() данные о выручке с заказов\n",
    "pvalue = stats.mannwhitneyu(orders[orders['group']=='A']['revenue'], orders[orders['group']=='B']['revenue'])[1]\n",
    "\n",
    "print(\"p-value: {0:.3f}\".format(pvalue))\n",
    "\n",
    "if pvalue < alpha:\n",
    "    print('Отвергаем нулевую гипотезу: средний чек в группе А и группе В по \"сырым\" данным различается.')\n",
    "else:\n",
    "    print('Не получилось отвергнуть нулевую гипотезу: средний чек в группе А и группе В по \"сырым\" данным одинаковый.')\n",
    "    \n",
    "# относительное различие в конверсии между группами\n",
    "print('Относительное значение среднего чека группы B по отношению к группе A по \"сырым\" данным: {0:.3f}'\n",
    "      .format(orders[orders['group']=='B']['revenue'].mean()/orders[orders['group']=='A']['revenue'].mean()-1)) "
   ]
  },
  {
   "cell_type": "markdown",
   "metadata": {},
   "source": [
    "1. Статистическая проверка по \"сырым\" данным показала, что средний чек в группах А/В теста одинаковый. Что подтверждает наше предположение об искажении этой метрики выбросом.\n",
    "2. При этом прирост среднего чека группы B по отношению к группе A равен 25,9%."
   ]
  },
  {
   "cell_type": "markdown",
   "metadata": {},
   "source": [
    "<div class=\"alert alert-success\"; style=\"border-left: 7px solid green\">\n",
    "<font size=\"4\"><b>Комментарий ревьюера 🚀</b></font>\n",
    "    <br />\n",
    "    <font size=\"3\", color = \"black\">\n",
    "    <br /> Правильная реализация стат теста! Верный вывод\n",
    "     <br />\n",
    "    </font>\n",
    "\n",
    "</div>"
   ]
  },
  {
   "cell_type": "markdown",
   "metadata": {},
   "source": [
    "### Датафрейм abnormal_date и выборки с  \"очищенными\" данными"
   ]
  },
  {
   "cell_type": "markdown",
   "metadata": {},
   "source": [
    "Для \"очистки\" данных применим определенные ранее границы для аномальных значений: не более 2 заказов или стоимость заказа не выше 28.000. Так мы уберём 5% пользователей с аномальным количеством заказов и от 1% до 5% пользователей с аномально дорогими заказами.\n",
    "\n",
    "Подготовим датафрейм `abnormal_date` с соответствующими срезами."
   ]
  },
  {
   "cell_type": "code",
   "execution_count": 44,
   "metadata": {
    "scrolled": true
   },
   "outputs": [
    {
     "name": "stdout",
     "output_type": "stream",
     "text": [
      "Всего аномальных пользователей: 74\n"
     ]
    }
   ],
   "source": [
    "# срез пользователей, совершивших заказы дороже 28 000 — `usersWithExpensiveOrders`. \n",
    "\n",
    "#  срезы пользователей с числом заказов больше 2 — `usersWithManyOrders`\n",
    "users_many_orders = pd.concat(\n",
    "    [\n",
    "        orders_by_users_a[orders_by_users_a['orders'] > orders_by_users_a['orders'].quantile(0.95)]['user_id'], \n",
    "        orders_by_users_b[orders_by_users_b['orders'] > orders_by_users_b['orders'].quantile(0.95)]['user_id'], \n",
    "    ],           \n",
    "                          axis = 0,\n",
    "                          )\n",
    "\n",
    "users_expensive_orders = orders[orders['revenue'] > orders['revenue'].quantile(0.95)]['user_id']\n",
    "\n",
    "# объединим их в таблице abnormal_date\n",
    "abnormal_date = pd.concat([users_many_orders, users_expensive_orders], axis=0).drop_duplicates().sort_values()\n",
    "\n",
    "# сколько всего аномальных пользователей\n",
    "print('Всего аномальных пользователей: {}'.format(len(abnormal_date))) \n",
    "\n",
    "\n"
   ]
  },
  {
   "cell_type": "markdown",
   "metadata": {},
   "source": [
    "<div class=\"alert alert-success\"; style=\"border-left: 7px solid green\">\n",
    "<font size=\"4\"><b>Комментарий ревьюера 🚀</b></font>\n",
    "    <br />\n",
    "    <font size=\"3\", color = \"black\">\n",
    "    <br /> Отличное выделение аномальных пользователей\n",
    "     <br />\n",
    "    </font>\n",
    "\n",
    "</div>"
   ]
  },
  {
   "cell_type": "markdown",
   "metadata": {},
   "source": [
    "<div class=\"alert alert-warning\" ; style=\"border-left: 7px solid orange\">\n",
    "<font size=\"4\"><b>Комментарий ревьюера 👀</b></font>\n",
    "    <br />\n",
    "    <font size=\"3\", color = \"black\">\n",
    "    <br /> Следует делать расчет с помощью кода (посчитать перцентили) и не вписывать значения вручную. Это приводит к отстутствию автоматизации, что может привести к ошибке\n",
    "    <br />\n",
    "    </font>\n",
    "\n",
    "</div>"
   ]
  },
  {
   "cell_type": "markdown",
   "metadata": {},
   "source": [
    "<div class=\"alert alert\"; style=\"border-left: 7px solid blue\">\n",
    "<font size=\"4\"><b>Комментарий студента </b></font>\n",
    "    <br /> \n",
    "    <font size=\"3\", color = \"black\">\n",
    "<br />\n",
    "      <br />Исправил. <br/>\n",
    "    </font>"
   ]
  },
  {
   "cell_type": "markdown",
   "metadata": {},
   "source": [
    "<div class=\"alert alert-success\"; style=\"border-left: 7px solid green\">\n",
    "<font size=\"4\"><b>Комментарий ревьюера 🚀 v2</b></font>\n",
    "    <br />\n",
    "    <font size=\"3\", color = \"black\">\n",
    "    <br /> Принимается\n",
    "     <br />\n",
    "    </font>\n",
    "\n",
    "</div>"
   ]
  },
  {
   "cell_type": "markdown",
   "metadata": {},
   "source": [
    "Подготовим выборки c \"очищенными\" данными."
   ]
  },
  {
   "cell_type": "code",
   "execution_count": 45,
   "metadata": {},
   "outputs": [],
   "source": [
    "sample_a_filtered = pd.concat([orders_by_users_a[np.logical_not(orders_by_users_a['user_id']\n",
    "                                                           .isin(abnormal_date))]['orders'], \n",
    "                               pd.Series(0, index=np.arange(data['visitors_per_date_a'].sum() \n",
    "                                                            - len(orders_by_users_a['orders'])),\n",
    "                                         name='orders')],axis=0)\n",
    "\n",
    "sample_b_filtered = pd.concat([orders_by_users_b[np.logical_not(orders_by_users_b['user_id']\n",
    "                                                           .isin(abnormal_date))]['orders'],\n",
    "                               pd.Series(0, index=np.arange(data['visitors_per_date_b'].sum() \n",
    "                                                            - len(orders_by_users_b['orders'])),\n",
    "                                         name='orders')],axis=0)"
   ]
  },
  {
   "cell_type": "markdown",
   "metadata": {},
   "source": [
    "### Статистическая значимость различий в конверсии между группами по «очищенным» данным"
   ]
  },
  {
   "cell_type": "markdown",
   "metadata": {},
   "source": [
    "Сформулируем статистические гипотезы:\n",
    "\n",
    "- H0 — конверсия в группе А и группе В одинаковая.\n",
    "- H1 — конверсия в группе А и группе В различается.\n",
    "\n",
    "Применим статистический критерий Уилкоксона-Манна-Уитни к полученным выборкам."
   ]
  },
  {
   "cell_type": "code",
   "execution_count": 47,
   "metadata": {},
   "outputs": [
    {
     "name": "stdout",
     "output_type": "stream",
     "text": [
      "p-value: 0.013\n",
      "Отвергаем нулевую гипотезу: конверсия в группе А и группе В по \"очищенным\" данным различается.\n",
      "Относительное значение конверсии группы B по отношению к группе A по \"очищенным\" данным: 0.173\n"
     ]
    }
   ],
   "source": [
    "# критический уровень статистической значимости зададим 5% \n",
    "alpha = .05 \n",
    "\n",
    "pvalue = st.mannwhitneyu(sample_a_filtered, sample_b_filtered)[1]\n",
    "\n",
    "print(\"p-value: {0:.3f}\".format(pvalue))\n",
    "\n",
    "if pvalue < alpha:\n",
    "    print('Отвергаем нулевую гипотезу: конверсия в группе А и группе В по \"очищенным\" данным различается.')\n",
    "else:\n",
    "    print('Не получилось отвергнуть нулевую гипотезу: конверсия в группе А и группе В по \"очищенным\" данным одинаковая.')\n",
    "    \n",
    "# относительное различие в конверсии между группами\n",
    "print('Относительное значение конверсии группы B по отношению к группе A по \"очищенным\" данным: {0:.3f}'\n",
    "      .format(sample_b_filtered.mean()/sample_a_filtered.mean()-1)) "
   ]
  },
  {
   "cell_type": "markdown",
   "metadata": {},
   "source": [
    "1. Статистическая проверка по \"очищенным\" данным показала такой же результат, как и по \"сырым\" - конверсия в группах А/В теста различается.\n",
    "2. Прирост конверсии группы B по отношению к группе A по \"очищенным\" данным вырос на 3,5% по сравнению с результатом по \"сырым\" данным и равен 17,3%. Получается, что аномальных пользователей было больше в группе А."
   ]
  },
  {
   "cell_type": "markdown",
   "metadata": {},
   "source": [
    "<div class=\"alert alert-success\"; style=\"border-left: 7px solid green\">\n",
    "<font size=\"4\"><b>Комментарий ревьюера 🚀</b></font>\n",
    "    <br />\n",
    "    <font size=\"3\", color = \"black\">\n",
    "    <br /> Верная логика реализации теста. Правильные результаты!\n",
    "     <br />\n",
    "    </font>\n",
    "\n",
    "</div>"
   ]
  },
  {
   "cell_type": "markdown",
   "metadata": {},
   "source": [
    "### Статистическая значимость различий в среднем чеке между группами по «очищенным» данным"
   ]
  },
  {
   "cell_type": "markdown",
   "metadata": {},
   "source": [
    "Сформулируем статистические гипотезы:\n",
    "\n",
    "- H0 — средний чек в группе А и группе В одинаковый.\n",
    "- H1 — средний чек в группе А и группе В различается.\n",
    "\n",
    "Применим статистический критерий Уилкоксона-Манна-Уитни."
   ]
  },
  {
   "cell_type": "code",
   "execution_count": 48,
   "metadata": {},
   "outputs": [
    {
     "name": "stdout",
     "output_type": "stream",
     "text": [
      "p-value: 0.738\n",
      "Не получилось отвергнуть нулевую гипотезу: средний чек в группе А и группе В по \"очищенным\" данным одинаковый\n",
      "Относительное значение среднего чека группы B по отношению к группе A по \"очищенным\" данным: -0.020\n"
     ]
    }
   ],
   "source": [
    "# критический уровень статистической значимости зададим 5% \n",
    "alpha = .05 \n",
    "\n",
    "# передадим критерию mannwhitneyu() данные о выручке с заказов\n",
    "pvalue = stats.mannwhitneyu(\n",
    "    orders[np.logical_and(orders['group']=='A', np.logical_not(orders['user_id'].isin(abnormal_date)))]['revenue'], \n",
    "    orders[np.logical_and(orders['group']=='B', np.logical_not(orders['user_id'].isin(abnormal_date)))]['revenue'])[1]\n",
    "\n",
    "print(\"p-value: {0:.3f}\".format(pvalue))\n",
    "\n",
    "if pvalue < alpha:\n",
    "    print('Отвергаем нулевую гипотезу: средний чек в группе А и группе В по \"очищенным\" данным различается.')\n",
    "else:\n",
    "    print('Не получилось отвергнуть нулевую гипотезу: средний чек в группе А и группе В по \"очищенным\" данным одинаковый')\n",
    "    \n",
    "# относительное различие в конверсии между группами\n",
    "print('Относительное значение среднего чека группы B по отношению к группе A по \"очищенным\" данным: {0:.3f}'\n",
    "      .format(orders[np.logical_and(orders['group']=='B', np.logical_not(\n",
    "                 orders['user_id'].isin(abnormal_date)))]['revenue'].mean()/orders[np.logical_and(\n",
    "                    orders['group']=='A', np.logical_not(orders['user_id'].isin(abnormal_date)))]['revenue'].mean() - 1)) "
   ]
  },
  {
   "cell_type": "markdown",
   "metadata": {},
   "source": [
    "1. Статистическая проверка по \"очищенным\" данным показала такой же результат, как и по \"сырым\" - средний чек в группах А/В теста одинаковый.\n",
    "2. Значение среднего чека группы B по отношению к группе A по \"очищенным\" данным по сравнению со значением по \"сырым\" изменилось очень существенно, упав с 25,9% до - 2%. Влияние аномалий в данном случае было очень существенно."
   ]
  },
  {
   "cell_type": "markdown",
   "metadata": {},
   "source": [
    "<div class=\"alert alert-success\"; style=\"border-left: 7px solid green\">\n",
    "<font size=\"4\"><b>Комментарий ревьюера 🚀</b></font>\n",
    "    <br />\n",
    "    <font size=\"3\", color = \"black\">\n",
    "    <br /> Абсолютная верная логика реализации стат теста и подсчета относительного увеличения среднего чека\n",
    "     <br /><br />\n",
    "        Отичное объяснение различий по среднему чеку\n",
    "    </font>\n",
    "\n",
    "</div>"
   ]
  },
  {
   "cell_type": "markdown",
   "metadata": {},
   "source": [
    "### Выводы\n",
    "\n",
    "1. Конверсия по\"сырым\" по \"очищенным\" данным в группах А/В теста различается. Прирост конверсии группы B по отношению к группе A по \"очищенным\" данным вырос на 3,5% по сравнению с результатом по \"сырым\" данным и равен 17,3%. \n",
    "2. Средний чек по\"сырым\" по \"очищенным\" данным в группах А/В теста одинаковый. Падение среднего чека группы B по отношению к группе A по \"очищенным\" данным по сравнению со значением по \"сырым\" составило с 25,9% до - 2%. "
   ]
  },
  {
   "cell_type": "markdown",
   "metadata": {},
   "source": [
    "## Общие выводы"
   ]
  },
  {
   "cell_type": "markdown",
   "metadata": {},
   "source": [
    "1. По результатам RICE приоритетной была определена гипотеза №7 - \"Добавить форму подписки на все основные страницы, чтобы собрать базу клиентов для email-рассылок\". У нее 112 баллов против 56 баллов следующей за ней гипотезы №2 \"Добавить блоки рекомендаций товаров на сайт интернет магазина, чтобы повысить конверсию и средний чек заказа\".\n",
    "2. В результате исследовательского и статистического анализа среднего чека и конверсии двух групп A/B теста принято решение остановить тест, т.к. несмотря на то, что средний чек в группах одинаковый, конверсия имеет статистически значимые различия и в группе В больше, чем в группе А на 17%, поэтому мы можем зафиксировать победу группы В."
   ]
  },
  {
   "cell_type": "markdown",
   "metadata": {},
   "source": [
    "<div class=\"alert alert-success\"; style=\"border-left: 7px solid green\">\n",
    "<font size=\"4\"><b>Комментарий ревьюера 🚀</b></font>\n",
    "    <br />\n",
    "    <font size=\"3\", color = \"black\">\n",
    "    <br /> Молодец, хороший суммирующий вывод! Верное решение по остановке теста. Правильные выводы по разнице групп по конверсиям и средним чекам!\n",
    "     <br /><br />\n",
    "        Спасибо тебе за работу! Она выполнена на высоком уровне. Чтобы я мог принять проект, следует исправить некоторые моменты (желтые комментарии). Если будут вопросы, то с радостью отвечу на них!\n",
    "    </font>\n",
    "\n",
    "</div>"
   ]
  },
  {
   "cell_type": "markdown",
   "metadata": {},
   "source": [
    "<div class=\"alert alert\"; style=\"border-left: 7px solid blue\">\n",
    "<font size=\"4\"><b>Комментарий студента </b></font>\n",
    "    <br /> \n",
    "    <font size=\"3\", color = \"black\">\n",
    "<br />\n",
    "      <br />Гио, спасибо тебе за внимательное ревью. Ошибки исправлены, вопросов нет. <br/>\n",
    "    </font>"
   ]
  },
  {
   "cell_type": "markdown",
   "metadata": {},
   "source": [
    "<div class=\"alert alert-success\"; style=\"border-left: 7px solid green\">\n",
    "<font size=\"4\"><b>Комментарий ревьюера 🚀 v2</b></font>\n",
    "    <br />\n",
    "    <font size=\"3\", color = \"black\">\n",
    "    <br /> Спасибо тебе за качественный проект! С радостю принимаю проект\n",
    "     <br />\n",
    "    </font>\n",
    "\n",
    "</div>"
   ]
  },
  {
   "cell_type": "code",
   "execution_count": null,
   "metadata": {},
   "outputs": [],
   "source": []
  }
 ],
 "metadata": {
  "ExecuteTimeLog": [
   {
    "duration": 1809,
    "start_time": "2022-04-21T16:55:19.058Z"
   },
   {
    "duration": 80,
    "start_time": "2022-04-21T16:55:20.869Z"
   },
   {
    "duration": 55,
    "start_time": "2022-04-21T16:55:20.951Z"
   },
   {
    "duration": 131,
    "start_time": "2022-04-21T16:55:21.009Z"
   },
   {
    "duration": 0,
    "start_time": "2022-04-21T16:55:21.144Z"
   },
   {
    "duration": 0,
    "start_time": "2022-04-21T16:55:21.145Z"
   },
   {
    "duration": 0,
    "start_time": "2022-04-21T16:55:21.147Z"
   },
   {
    "duration": 0,
    "start_time": "2022-04-21T16:55:21.148Z"
   },
   {
    "duration": 0,
    "start_time": "2022-04-21T16:55:21.149Z"
   },
   {
    "duration": 0,
    "start_time": "2022-04-21T16:55:21.150Z"
   },
   {
    "duration": 0,
    "start_time": "2022-04-21T16:55:21.151Z"
   },
   {
    "duration": 0,
    "start_time": "2022-04-21T16:55:21.152Z"
   },
   {
    "duration": 1,
    "start_time": "2022-04-21T16:55:21.153Z"
   },
   {
    "duration": 0,
    "start_time": "2022-04-21T16:55:21.154Z"
   },
   {
    "duration": 0,
    "start_time": "2022-04-21T16:55:21.155Z"
   },
   {
    "duration": 0,
    "start_time": "2022-04-21T16:55:21.157Z"
   },
   {
    "duration": 0,
    "start_time": "2022-04-21T16:55:21.158Z"
   },
   {
    "duration": 0,
    "start_time": "2022-04-21T16:55:21.159Z"
   },
   {
    "duration": 0,
    "start_time": "2022-04-21T16:55:21.160Z"
   },
   {
    "duration": 0,
    "start_time": "2022-04-21T16:55:21.161Z"
   },
   {
    "duration": 0,
    "start_time": "2022-04-21T16:55:21.162Z"
   },
   {
    "duration": 0,
    "start_time": "2022-04-21T16:55:21.163Z"
   },
   {
    "duration": 0,
    "start_time": "2022-04-21T16:55:21.164Z"
   },
   {
    "duration": 0,
    "start_time": "2022-04-21T16:55:21.165Z"
   },
   {
    "duration": 0,
    "start_time": "2022-04-21T16:55:21.166Z"
   },
   {
    "duration": 0,
    "start_time": "2022-04-21T16:55:21.167Z"
   },
   {
    "duration": 0,
    "start_time": "2022-04-21T16:55:21.168Z"
   },
   {
    "duration": 0,
    "start_time": "2022-04-21T16:55:21.169Z"
   },
   {
    "duration": 0,
    "start_time": "2022-04-21T16:55:21.171Z"
   },
   {
    "duration": 0,
    "start_time": "2022-04-21T16:55:21.172Z"
   },
   {
    "duration": 0,
    "start_time": "2022-04-21T16:55:21.173Z"
   },
   {
    "duration": 0,
    "start_time": "2022-04-21T16:55:21.174Z"
   },
   {
    "duration": 0,
    "start_time": "2022-04-21T16:55:21.175Z"
   },
   {
    "duration": 0,
    "start_time": "2022-04-21T16:55:21.176Z"
   },
   {
    "duration": 0,
    "start_time": "2022-04-21T16:55:21.177Z"
   },
   {
    "duration": 0,
    "start_time": "2022-04-21T16:55:21.234Z"
   },
   {
    "duration": 67,
    "start_time": "2022-04-21T16:57:33.163Z"
   },
   {
    "duration": 45,
    "start_time": "2022-04-21T16:57:33.233Z"
   },
   {
    "duration": 79,
    "start_time": "2022-04-21T16:57:33.280Z"
   },
   {
    "duration": 75,
    "start_time": "2022-04-21T16:57:33.361Z"
   },
   {
    "duration": 5,
    "start_time": "2022-04-21T16:57:33.438Z"
   },
   {
    "duration": 9,
    "start_time": "2022-04-21T16:57:33.445Z"
   },
   {
    "duration": 24,
    "start_time": "2022-04-21T16:57:33.455Z"
   },
   {
    "duration": 6,
    "start_time": "2022-04-21T16:57:33.481Z"
   },
   {
    "duration": 52,
    "start_time": "2022-04-21T16:57:33.489Z"
   },
   {
    "duration": 107,
    "start_time": "2022-04-21T16:57:33.544Z"
   },
   {
    "duration": 9,
    "start_time": "2022-04-21T16:57:33.653Z"
   },
   {
    "duration": 10,
    "start_time": "2022-04-21T16:57:33.663Z"
   },
   {
    "duration": 14,
    "start_time": "2022-04-21T16:57:33.674Z"
   },
   {
    "duration": 13,
    "start_time": "2022-04-21T16:57:33.690Z"
   },
   {
    "duration": 42,
    "start_time": "2022-04-21T16:57:33.705Z"
   },
   {
    "duration": 308,
    "start_time": "2022-04-21T16:57:33.749Z"
   },
   {
    "duration": 335,
    "start_time": "2022-04-21T16:57:34.059Z"
   },
   {
    "duration": 257,
    "start_time": "2022-04-21T16:57:34.396Z"
   },
   {
    "duration": 13,
    "start_time": "2022-04-21T16:57:34.655Z"
   },
   {
    "duration": 451,
    "start_time": "2022-04-21T16:57:34.670Z"
   },
   {
    "duration": 247,
    "start_time": "2022-04-21T16:57:35.123Z"
   },
   {
    "duration": 346,
    "start_time": "2022-04-21T16:57:35.371Z"
   },
   {
    "duration": 167,
    "start_time": "2022-04-21T16:57:35.719Z"
   },
   {
    "duration": 188,
    "start_time": "2022-04-21T16:57:35.888Z"
   },
   {
    "duration": 5,
    "start_time": "2022-04-21T16:57:36.078Z"
   },
   {
    "duration": 195,
    "start_time": "2022-04-21T16:57:36.085Z"
   },
   {
    "duration": 4,
    "start_time": "2022-04-21T16:57:36.281Z"
   },
   {
    "duration": 327,
    "start_time": "2022-04-21T16:57:36.289Z"
   },
   {
    "duration": 158,
    "start_time": "2022-04-21T16:57:36.618Z"
   },
   {
    "duration": 25,
    "start_time": "2022-04-21T16:57:36.778Z"
   },
   {
    "duration": 29,
    "start_time": "2022-04-21T16:57:36.804Z"
   },
   {
    "duration": 9,
    "start_time": "2022-04-21T16:57:36.835Z"
   },
   {
    "duration": 18,
    "start_time": "2022-04-21T16:57:36.845Z"
   },
   {
    "duration": 25,
    "start_time": "2022-04-21T16:57:36.865Z"
   },
   {
    "duration": 14,
    "start_time": "2022-04-21T16:57:36.892Z"
   },
   {
    "duration": 1668,
    "start_time": "2022-04-22T06:54:47.642Z"
   },
   {
    "duration": 51,
    "start_time": "2022-04-22T06:54:49.312Z"
   },
   {
    "duration": 80,
    "start_time": "2022-04-22T06:54:49.365Z"
   },
   {
    "duration": 102,
    "start_time": "2022-04-22T06:54:49.447Z"
   },
   {
    "duration": 80,
    "start_time": "2022-04-22T06:54:49.553Z"
   },
   {
    "duration": 6,
    "start_time": "2022-04-22T06:54:49.635Z"
   },
   {
    "duration": 45,
    "start_time": "2022-04-22T06:54:49.643Z"
   },
   {
    "duration": 33,
    "start_time": "2022-04-22T06:54:49.690Z"
   },
   {
    "duration": 8,
    "start_time": "2022-04-22T06:54:49.725Z"
   },
   {
    "duration": 54,
    "start_time": "2022-04-22T06:54:49.735Z"
   },
   {
    "duration": 141,
    "start_time": "2022-04-22T06:54:49.791Z"
   },
   {
    "duration": 14,
    "start_time": "2022-04-22T06:54:49.934Z"
   },
   {
    "duration": 39,
    "start_time": "2022-04-22T06:54:49.951Z"
   },
   {
    "duration": 15,
    "start_time": "2022-04-22T06:54:49.994Z"
   },
   {
    "duration": 21,
    "start_time": "2022-04-22T06:54:50.012Z"
   },
   {
    "duration": 57,
    "start_time": "2022-04-22T06:54:50.035Z"
   },
   {
    "duration": 636,
    "start_time": "2022-04-22T06:54:50.095Z"
   },
   {
    "duration": 17,
    "start_time": "2022-04-22T06:55:01.306Z"
   },
   {
    "duration": 77,
    "start_time": "2022-04-22T08:55:06.102Z"
   },
   {
    "duration": 1839,
    "start_time": "2022-04-22T08:55:25.382Z"
   },
   {
    "duration": 43,
    "start_time": "2022-04-22T08:55:27.224Z"
   },
   {
    "duration": 75,
    "start_time": "2022-04-22T08:55:27.270Z"
   },
   {
    "duration": 92,
    "start_time": "2022-04-22T08:55:27.348Z"
   },
   {
    "duration": 89,
    "start_time": "2022-04-22T08:55:27.443Z"
   },
   {
    "duration": 5,
    "start_time": "2022-04-22T08:55:27.535Z"
   },
   {
    "duration": 43,
    "start_time": "2022-04-22T08:55:27.542Z"
   },
   {
    "duration": 28,
    "start_time": "2022-04-22T08:55:27.593Z"
   },
   {
    "duration": 8,
    "start_time": "2022-04-22T08:55:27.624Z"
   },
   {
    "duration": 58,
    "start_time": "2022-04-22T08:55:27.636Z"
   },
   {
    "duration": 133,
    "start_time": "2022-04-22T08:55:27.699Z"
   },
   {
    "duration": 10,
    "start_time": "2022-04-22T08:55:27.834Z"
   },
   {
    "duration": 38,
    "start_time": "2022-04-22T08:55:27.847Z"
   },
   {
    "duration": 18,
    "start_time": "2022-04-22T08:55:27.887Z"
   },
   {
    "duration": 15,
    "start_time": "2022-04-22T08:55:27.907Z"
   },
   {
    "duration": 15,
    "start_time": "2022-04-22T08:55:27.924Z"
   },
   {
    "duration": 624,
    "start_time": "2022-04-22T08:55:27.941Z"
   },
   {
    "duration": 557,
    "start_time": "2022-04-22T08:55:28.568Z"
   },
   {
    "duration": 417,
    "start_time": "2022-04-22T08:55:29.128Z"
   },
   {
    "duration": 18,
    "start_time": "2022-04-22T08:55:29.547Z"
   },
   {
    "duration": 553,
    "start_time": "2022-04-22T08:55:29.568Z"
   },
   {
    "duration": 384,
    "start_time": "2022-04-22T08:55:30.123Z"
   },
   {
    "duration": 511,
    "start_time": "2022-04-22T08:55:30.510Z"
   },
   {
    "duration": 273,
    "start_time": "2022-04-22T08:55:31.023Z"
   },
   {
    "duration": 301,
    "start_time": "2022-04-22T08:55:31.299Z"
   },
   {
    "duration": 7,
    "start_time": "2022-04-22T08:55:31.602Z"
   },
   {
    "duration": 325,
    "start_time": "2022-04-22T08:55:31.611Z"
   },
   {
    "duration": 5,
    "start_time": "2022-04-22T08:55:31.941Z"
   },
   {
    "duration": 478,
    "start_time": "2022-04-22T08:55:31.949Z"
   },
   {
    "duration": 307,
    "start_time": "2022-04-22T08:55:32.429Z"
   },
   {
    "duration": 47,
    "start_time": "2022-04-22T08:55:32.739Z"
   },
   {
    "duration": 17,
    "start_time": "2022-04-22T08:55:32.789Z"
   },
   {
    "duration": 13,
    "start_time": "2022-04-22T08:55:32.808Z"
   },
   {
    "duration": 14,
    "start_time": "2022-04-22T08:55:32.824Z"
   },
   {
    "duration": 75,
    "start_time": "2022-04-22T08:55:32.840Z"
   },
   {
    "duration": 20,
    "start_time": "2022-04-22T08:55:32.917Z"
   },
   {
    "duration": 483,
    "start_time": "2022-04-22T08:56:04.595Z"
   },
   {
    "duration": 487,
    "start_time": "2022-04-22T08:56:35.910Z"
   },
   {
    "duration": 264,
    "start_time": "2022-04-22T09:24:48.132Z"
   },
   {
    "duration": 131,
    "start_time": "2022-04-22T09:27:36.856Z"
   },
   {
    "duration": 191,
    "start_time": "2022-04-22T09:32:09.875Z"
   },
   {
    "duration": 135,
    "start_time": "2022-04-22T09:35:29.891Z"
   },
   {
    "duration": 16,
    "start_time": "2022-04-22T09:37:21.255Z"
   },
   {
    "duration": 12,
    "start_time": "2022-04-22T09:38:36.762Z"
   },
   {
    "duration": 38,
    "start_time": "2022-04-22T09:38:46.762Z"
   },
   {
    "duration": 31,
    "start_time": "2022-04-22T09:39:09.014Z"
   },
   {
    "duration": 20,
    "start_time": "2022-04-22T09:39:09.048Z"
   }
  ],
  "kernelspec": {
   "display_name": "Python 3 (ipykernel)",
   "language": "python",
   "name": "python3"
  },
  "language_info": {
   "codemirror_mode": {
    "name": "ipython",
    "version": 3
   },
   "file_extension": ".py",
   "mimetype": "text/x-python",
   "name": "python",
   "nbconvert_exporter": "python",
   "pygments_lexer": "ipython3",
   "version": "3.9.5"
  },
  "toc": {
   "base_numbering": 1,
   "nav_menu": {},
   "number_sections": true,
   "sideBar": true,
   "skip_h1_title": true,
   "title_cell": "Содержание",
   "title_sidebar": "Contents",
   "toc_cell": true,
   "toc_position": {
    "height": "calc(100% - 180px)",
    "left": "10px",
    "top": "150px",
    "width": "165px"
   },
   "toc_section_display": true,
   "toc_window_display": true
  }
 },
 "nbformat": 4,
 "nbformat_minor": 2
}
