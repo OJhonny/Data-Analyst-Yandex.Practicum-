{
 "cells": [
  {
   "cell_type": "markdown",
   "metadata": {
    "toc": true
   },
   "source": [
    "<h1>Содержание<span class=\"tocSkip\"></span></h1>\n",
    "<div class=\"toc\"><ul class=\"toc-item\"><li><span><a href=\"#Предобработка-данных\" data-toc-modified-id=\"Предобработка-данных-1\"><span class=\"toc-item-num\">1&nbsp;&nbsp;</span>Предобработка данных</a></span><ul class=\"toc-item\"><li><span><a href=\"#Информация-о-пользователях-(таблица-users)\" data-toc-modified-id=\"Информация-о-пользователях-(таблица-users)-1.1\"><span class=\"toc-item-num\">1.1&nbsp;&nbsp;</span>Информация о пользователях (таблица users)</a></span></li><li><span><a href=\"#Информация-о-тарифах-(таблица-tariffs)\" data-toc-modified-id=\"Информация-о-тарифах-(таблица-tariffs)-1.2\"><span class=\"toc-item-num\">1.2&nbsp;&nbsp;</span>Информация о тарифах (таблица tariffs)</a></span></li><li><span><a href=\"#Информация-о-звонках-(таблица-calls)\" data-toc-modified-id=\"Информация-о-звонках-(таблица-calls)-1.3\"><span class=\"toc-item-num\">1.3&nbsp;&nbsp;</span>Информация о звонках (таблица calls)</a></span></li><li><span><a href=\"#Информация-об-интернет-сессиях-(таблица-internet-)\" data-toc-modified-id=\"Информация-об-интернет-сессиях-(таблица-internet-)-1.4\"><span class=\"toc-item-num\">1.4&nbsp;&nbsp;</span>Информация об интернет-сессиях (таблица internet )</a></span></li><li><span><a href=\"#Информация-о-сообщениях-(таблица-messages-)\" data-toc-modified-id=\"Информация-о-сообщениях-(таблица-messages-)-1.5\"><span class=\"toc-item-num\">1.5&nbsp;&nbsp;</span>Информация о сообщениях (таблица messages )</a></span></li><li><span><a href=\"#Выводы\" data-toc-modified-id=\"Выводы-1.6\"><span class=\"toc-item-num\">1.6&nbsp;&nbsp;</span>Выводы</a></span></li></ul></li><li><span><a href=\"#Подготовка-данных-для-анализа\" data-toc-modified-id=\"Подготовка-данных-для-анализа-2\"><span class=\"toc-item-num\">2&nbsp;&nbsp;</span>Подготовка данных для анализа</a></span><ul class=\"toc-item\"><li><span><a href=\"#Расчет-помесячного-потребления-услуг-пользователями\" data-toc-modified-id=\"Расчет-помесячного-потребления-услуг-пользователями-2.1\"><span class=\"toc-item-num\">2.1&nbsp;&nbsp;</span>Расчет помесячного потребления услуг пользователями</a></span><ul class=\"toc-item\"><li><span><a href=\"#Количество-минут-разговора-по-месяцам\" data-toc-modified-id=\"Количество-минут-разговора-по-месяцам-2.1.1\"><span class=\"toc-item-num\">2.1.1&nbsp;&nbsp;</span>Количество минут разговора по месяцам</a></span></li><li><span><a href=\"#Количество-сообщений-по-месяцам\" data-toc-modified-id=\"Количество-сообщений-по-месяцам-2.1.2\"><span class=\"toc-item-num\">2.1.2&nbsp;&nbsp;</span>Количество сообщений по месяцам</a></span></li><li><span><a href=\"#Количество-гигабайт-по-месяцам\" data-toc-modified-id=\"Количество-гигабайт-по-месяцам-2.1.3\"><span class=\"toc-item-num\">2.1.3&nbsp;&nbsp;</span>Количество гигабайт по месяцам</a></span></li><li><span><a href=\"#Сводная-таблица-помесячного-потребления-услуг-пользователями-services_total\" data-toc-modified-id=\"Сводная-таблица-помесячного-потребления-услуг-пользователями-services_total-2.1.4\"><span class=\"toc-item-num\">2.1.4&nbsp;&nbsp;</span>Сводная таблица помесячного потребления услуг пользователями services_total</a></span></li><li><span><a href=\"#Добавление-в-сводную-таблицу-расчетов-помесячного-потребления-сверх-включенных-в-пакеты-услуг\" data-toc-modified-id=\"Добавление-в-сводную-таблицу-расчетов-помесячного-потребления-сверх-включенных-в-пакеты-услуг-2.1.5\"><span class=\"toc-item-num\">2.1.5&nbsp;&nbsp;</span>Добавление в сводную таблицу расчетов помесячного потребления сверх включенных в пакеты услуг</a></span></li></ul></li><li><span><a href=\"#Расчет-помесячной-выручки-с-каждого-пользователя\" data-toc-modified-id=\"Расчет-помесячной-выручки-с-каждого-пользователя-2.2\"><span class=\"toc-item-num\">2.2&nbsp;&nbsp;</span>Расчет помесячной выручки с каждого пользователя</a></span></li><li><span><a href=\"#Финальная-таблица-для-анализа-final_data\" data-toc-modified-id=\"Финальная-таблица-для-анализа-final_data-2.3\"><span class=\"toc-item-num\">2.3&nbsp;&nbsp;</span>Финальная таблица для анализа final_data</a></span></li><li><span><a href=\"#Вывод\" data-toc-modified-id=\"Вывод-2.4\"><span class=\"toc-item-num\">2.4&nbsp;&nbsp;</span>Вывод</a></span></li></ul></li><li><span><a href=\"#Исследовательский-анализ-данных\" data-toc-modified-id=\"Исследовательский-анализ-данных-3\"><span class=\"toc-item-num\">3&nbsp;&nbsp;</span>Исследовательский анализ данных</a></span><ul class=\"toc-item\"><li><span><a href=\"#Изучение-использования-услуг-тарифов\" data-toc-modified-id=\"Изучение-использования-услуг-тарифов-3.1\"><span class=\"toc-item-num\">3.1&nbsp;&nbsp;</span>Изучение использования услуг тарифов</a></span><ul class=\"toc-item\"><li><span><a href=\"#Использование-минут-разговора\" data-toc-modified-id=\"Использование-минут-разговора-3.1.1\"><span class=\"toc-item-num\">3.1.1&nbsp;&nbsp;</span>Использование минут разговора</a></span></li><li><span><a href=\"#Использование-сообщений\" data-toc-modified-id=\"Использование-сообщений-3.1.2\"><span class=\"toc-item-num\">3.1.2&nbsp;&nbsp;</span>Использование сообщений</a></span></li><li><span><a href=\"#Использование-интернет-трафика\" data-toc-modified-id=\"Использование-интернет-трафика-3.1.3\"><span class=\"toc-item-num\">3.1.3&nbsp;&nbsp;</span>Использование интернет-трафика</a></span></li></ul></li><li><span><a href=\"#Сравнение-выручки-и-количества-пользователей-по-тарифам\" data-toc-modified-id=\"Сравнение-выручки-и-количества-пользователей-по-тарифам-3.2\"><span class=\"toc-item-num\">3.2&nbsp;&nbsp;</span>Сравнение выручки и количества пользователей по тарифам</a></span><ul class=\"toc-item\"><li><span><a href=\"#Сравнение-медианной-выручки\" data-toc-modified-id=\"Сравнение-медианной-выручки-3.2.1\"><span class=\"toc-item-num\">3.2.1&nbsp;&nbsp;</span>Сравнение медианной выручки</a></span></li><li><span><a href=\"#Сравнение-медианной-выручки-по-месяцам\" data-toc-modified-id=\"Сравнение-медианной-выручки-по-месяцам-3.2.2\"><span class=\"toc-item-num\">3.2.2&nbsp;&nbsp;</span>Сравнение медианной выручки по месяцам</a></span></li><li><span><a href=\"#Сравнение-количества-пользователей-по-месяцам\" data-toc-modified-id=\"Сравнение-количества-пользователей-по-месяцам-3.2.3\"><span class=\"toc-item-num\">3.2.3&nbsp;&nbsp;</span>Сравнение количества пользователей по месяцам</a></span></li></ul></li><li><span><a href=\"#Выводы\" data-toc-modified-id=\"Выводы-3.3\"><span class=\"toc-item-num\">3.3&nbsp;&nbsp;</span>Выводы</a></span></li></ul></li><li><span><a href=\"#Статистический-анализ-данных\" data-toc-modified-id=\"Статистический-анализ-данных-4\"><span class=\"toc-item-num\">4&nbsp;&nbsp;</span>Статистический анализ данных</a></span><ul class=\"toc-item\"><li><span><a href=\"#Анализ-средней-выручки-пользователей-тарифов-«Ультра»-и-«Смарт»\" data-toc-modified-id=\"Анализ-средней-выручки-пользователей-тарифов-«Ультра»-и-«Смарт»-4.1\"><span class=\"toc-item-num\">4.1&nbsp;&nbsp;</span>Анализ средней выручки пользователей тарифов «Ультра» и «Смарт»</a></span></li><li><span><a href=\"#Анализ-средней-выручки-пользователей-из-Москвы-и-других-регионов\" data-toc-modified-id=\"Анализ-средней-выручки-пользователей-из-Москвы-и-других-регионов-4.2\"><span class=\"toc-item-num\">4.2&nbsp;&nbsp;</span>Анализ средней выручки пользователей из Москвы и других регионов</a></span></li><li><span><a href=\"#Выводы\" data-toc-modified-id=\"Выводы-4.3\"><span class=\"toc-item-num\">4.3&nbsp;&nbsp;</span>Выводы</a></span></li></ul></li><li><span><a href=\"#Общие-выводы\" data-toc-modified-id=\"Общие-выводы-5\"><span class=\"toc-item-num\">5&nbsp;&nbsp;</span>Общие выводы</a></span></li></ul></div>"
   ]
  },
  {
   "cell_type": "markdown",
   "metadata": {},
   "source": [
    "# Определение перспективного тарифа для телеком-компании"
   ]
  },
  {
   "cell_type": "markdown",
   "metadata": {},
   "source": [
    "Вы аналитик компании «Мегалайн» — федерального оператора сотовой связи. Клиентам предлагают два тарифных плана: «Смарт» и «Ультра». Чтобы скорректировать рекламный бюджет, коммерческий департамент хочет понять, какой тариф приносит больше денег.  \n",
    "\n",
    "Вам предстоит сделать предварительный анализ тарифов на небольшой выборке клиентов. В вашем распоряжении данные 500 пользователей «Мегалайна»: кто они, откуда, каким тарифом пользуются, сколько звонков и сообщений каждый отправил за 2018 год. Нужно проанализировать поведение клиентов и сделать вывод — какой тариф лучше.  \n",
    "  \n",
    "**Выборка:**   \n",
    "500 пользователей обоих тарифов  \n",
    "  \n",
    "**Цели:**  \n",
    "1) Определить какой из тарифов является более перспективным, изучить закономерности использования клиентами услуг двух тарифов и выручку каждого тарифа.  \n",
    "3) Проверить статистические гипотезы:  \n",
    "- средняя выручка пользователей тарифов «Ультра» и «Смарт» различаются;  \n",
    "- средняя выручка пользователей из Москвы отличается от выручки пользователей из других регионов.  \n",
    "  \n",
    "**План:**  \n",
    "Шаг 0. Предобработка данных.  \n",
    "Шаг 1. Подготовка данных:  \n",
    "- произвести подсчет использованного пользователями количества минут, сообщений и интернет-трафика по месяцам.;\n",
    "- объединить расчеты в сводную таблицу;  \n",
    "- рассчитать общую помесячную выручку за минуты разговора, сообщения и гигабайты и добавить в сводную таблицу столбец с ее значениями;  \n",
    "- создать финальную таблицу, оставив только нужные для анализа колонки.  \n",
    "\n",
    "Шаг 3. Исследовательский анализ данных:  \n",
    "- изучить сколько минут разговора, сообщений и какой объём интернет-трафика требуется пользователям каждого тарифа в месяц;  \n",
    "- изучить какой из двух тарифов перспективнее, выяснив их доходность в 2018 году в абсолютном и временном значении, а также изучив изменение количества пользователей на протяжении года.\n",
    "\n",
    "Шаг 4. Статистический анализ данных:\n",
    "- проверить гипотезы:  \n",
    "  - средняя выручка пользователей тарифов «Ультра» и «Смарт» различаются;  \n",
    "  - средняя выручка пользователей из Москвы отличается от выручки пользователей из других регионов."
   ]
  },
  {
   "cell_type": "markdown",
   "metadata": {},
   "source": [
    "## Предобработка данных"
   ]
  },
  {
   "cell_type": "code",
   "execution_count": 2,
   "metadata": {},
   "outputs": [],
   "source": [
    "# импорт библиотек\n",
    "import pandas as pd\n",
    "import matplotlib.pyplot as plt \n",
    "import seaborn as sns\n",
    "from scipy import stats as st\n",
    "import numpy as np\n",
    "import math as mt"
   ]
  },
  {
   "cell_type": "code",
   "execution_count": 3,
   "metadata": {},
   "outputs": [],
   "source": [
    "# открытие файла\n",
    "users = pd.read_csv('/datasets/users.csv')\n",
    "tariffs = pd.read_csv('/datasets/tariffs.csv')\n",
    "calls = pd.read_csv('/datasets/calls.csv')\n",
    "internet = pd.read_csv('/datasets/internet.csv')\n",
    "messages = pd.read_csv('/datasets/messages.csv')\n",
    "\n",
    "# отображение в jupiter всех колонок датафрейма \n",
    "pd.set_option('display.max_columns', None)"
   ]
  },
  {
   "cell_type": "markdown",
   "metadata": {},
   "source": [
    "### Информация о пользователях (таблица users)  \n",
    "\n",
    "user_id — уникальный идентификатор пользователя  \n",
    "first_name — имя пользователя  \n",
    "last_name — фамилия пользователя  \n",
    "age — возраст пользователя (годы)  \n",
    "reg_date — дата подключения тарифа (день, месяц, год)  \n",
    "churn_date — дата прекращения пользования тарифом (если значение пропущено, то тариф ещё действовал на момент выгрузки данных)  \n",
    "city — город проживания пользователя  \n",
    "tariff — название тарифного плана  "
   ]
  },
  {
   "cell_type": "code",
   "execution_count": 4,
   "metadata": {},
   "outputs": [
    {
     "data": {
      "text/html": [
       "<div>\n",
       "<style scoped>\n",
       "    .dataframe tbody tr th:only-of-type {\n",
       "        vertical-align: middle;\n",
       "    }\n",
       "\n",
       "    .dataframe tbody tr th {\n",
       "        vertical-align: top;\n",
       "    }\n",
       "\n",
       "    .dataframe thead th {\n",
       "        text-align: right;\n",
       "    }\n",
       "</style>\n",
       "<table border=\"1\" class=\"dataframe\">\n",
       "  <thead>\n",
       "    <tr style=\"text-align: right;\">\n",
       "      <th></th>\n",
       "      <th>user_id</th>\n",
       "      <th>age</th>\n",
       "      <th>churn_date</th>\n",
       "      <th>city</th>\n",
       "      <th>first_name</th>\n",
       "      <th>last_name</th>\n",
       "      <th>reg_date</th>\n",
       "      <th>tariff</th>\n",
       "    </tr>\n",
       "  </thead>\n",
       "  <tbody>\n",
       "    <tr>\n",
       "      <td>407</td>\n",
       "      <td>1407</td>\n",
       "      <td>40</td>\n",
       "      <td>NaN</td>\n",
       "      <td>Челябинск</td>\n",
       "      <td>Элла</td>\n",
       "      <td>Пирогова</td>\n",
       "      <td>2018-08-14</td>\n",
       "      <td>smart</td>\n",
       "    </tr>\n",
       "  </tbody>\n",
       "</table>\n",
       "</div>"
      ],
      "text/plain": [
       "     user_id  age churn_date       city first_name last_name    reg_date  \\\n",
       "407     1407   40        NaN  Челябинск       Элла  Пирогова  2018-08-14   \n",
       "\n",
       "    tariff  \n",
       "407  smart  "
      ]
     },
     "metadata": {},
     "output_type": "display_data"
    },
    {
     "name": "stdout",
     "output_type": "stream",
     "text": [
      "<class 'pandas.core.frame.DataFrame'>\n",
      "RangeIndex: 500 entries, 0 to 499\n",
      "Data columns (total 8 columns):\n",
      "user_id       500 non-null int64\n",
      "age           500 non-null int64\n",
      "churn_date    38 non-null object\n",
      "city          500 non-null object\n",
      "first_name    500 non-null object\n",
      "last_name     500 non-null object\n",
      "reg_date      500 non-null object\n",
      "tariff        500 non-null object\n",
      "dtypes: int64(2), object(6)\n",
      "memory usage: 31.4+ KB\n"
     ]
    }
   ],
   "source": [
    "# случайная выборка\n",
    "display(users.sample())\n",
    "# общая информация о данных\n",
    "users.info()"
   ]
  },
  {
   "cell_type": "markdown",
   "metadata": {},
   "source": [
    "Проверка стиля заголовков."
   ]
  },
  {
   "cell_type": "code",
   "execution_count": 5,
   "metadata": {},
   "outputs": [
    {
     "data": {
      "text/plain": [
       "Index(['user_id', 'age', 'churn_date', 'city', 'first_name', 'last_name',\n",
       "       'reg_date', 'tariff'],\n",
       "      dtype='object')"
      ]
     },
     "execution_count": 5,
     "metadata": {},
     "output_type": "execute_result"
    }
   ],
   "source": [
    "users.columns"
   ]
  },
  {
   "cell_type": "markdown",
   "metadata": {},
   "source": [
    "Изменим тип данных в столбцах (в скобках на какой тип меняется и почему):  \n",
    "- churn_date (на datetime - столбец содержит значения даты);   \n",
    "- reg_date (на datetime - столбец содержит значения даты);"
   ]
  },
  {
   "cell_type": "code",
   "execution_count": 6,
   "metadata": {},
   "outputs": [],
   "source": [
    "users['churn_date'] = pd.to_datetime(users['churn_date'], format='%Y-%m-%d')\n",
    "users['reg_date'] = pd.to_datetime(users['reg_date'], format='%Y-%m-%d')"
   ]
  },
  {
   "cell_type": "code",
   "execution_count": 7,
   "metadata": {},
   "outputs": [],
   "source": [
    "# users.info()"
   ]
  },
  {
   "cell_type": "markdown",
   "metadata": {},
   "source": [
    "Проверка на дубликаты."
   ]
  },
  {
   "cell_type": "code",
   "execution_count": 8,
   "metadata": {},
   "outputs": [
    {
     "data": {
      "text/plain": [
       "'Количество строк-дубликатов равно 0.'"
      ]
     },
     "execution_count": 8,
     "metadata": {},
     "output_type": "execute_result"
    }
   ],
   "source": [
    "# на явные дуликаты\n",
    "'Количество строк-дубликатов равно {}.'.format(users.duplicated().sum())"
   ]
  },
  {
   "cell_type": "code",
   "execution_count": 9,
   "metadata": {},
   "outputs": [
    {
     "name": "stdout",
     "output_type": "stream",
     "text": [
      "Уникальные значения в столбце tariff:\n"
     ]
    },
    {
     "data": {
      "text/plain": [
       "smart    351\n",
       "ultra    149\n",
       "Name: tariff, dtype: int64"
      ]
     },
     "execution_count": 9,
     "metadata": {},
     "output_type": "execute_result"
    }
   ],
   "source": [
    "print('Уникальные значения в столбце tariff:')\n",
    "users['tariff'].value_counts()"
   ]
  },
  {
   "cell_type": "code",
   "execution_count": 10,
   "metadata": {},
   "outputs": [
    {
     "data": {
      "text/plain": [
       "array(['Архангельск', 'Астрахань', 'Балашиха', 'Барнаул', 'Белгород',\n",
       "       'Брянск', 'Владивосток', 'Владикавказ', 'Владимир', 'Волгоград',\n",
       "       'Волжский', 'Вологда', 'Воронеж', 'Грозный', 'Екатеринбург',\n",
       "       'Иваново', 'Ижевск', 'Иркутск', 'Казань', 'Калининград', 'Калуга',\n",
       "       'Кемерово', 'Киров', 'Кострома', 'Краснодар', 'Красноярск',\n",
       "       'Курган', 'Курск', 'Липецк', 'Магнитогорск', 'Махачкала', 'Москва',\n",
       "       'Мурманск', 'Набережные Челны', 'Нижневартовск', 'Нижний Новгород',\n",
       "       'Нижний Тагил', 'Новокузнецк', 'Новороссийск', 'Новосибирск',\n",
       "       'Омск', 'Оренбург', 'Орёл', 'Пенза', 'Пермь', 'Петрозаводск',\n",
       "       'Подольск', 'Ростов-на-Дону', 'Рязань', 'Самара',\n",
       "       'Санкт-Петербург', 'Саранск', 'Саратов', 'Севастополь', 'Смоленск',\n",
       "       'Сочи', 'Ставрополь', 'Стерлитамак', 'Сургут', 'Тамбов', 'Тверь',\n",
       "       'Тольятти', 'Томск', 'Тула', 'Тюмень', 'Улан-Удэ', 'Ульяновск',\n",
       "       'Уфа', 'Хабаровск', 'Химки', 'Чебоксары', 'Челябинск', 'Череповец',\n",
       "       'Чита', 'Якутск', 'Ярославль'], dtype=object)"
      ]
     },
     "execution_count": 10,
     "metadata": {},
     "output_type": "execute_result"
    }
   ],
   "source": [
    "users['city'].sort_values().unique()"
   ]
  },
  {
   "cell_type": "markdown",
   "metadata": {},
   "source": [
    "За какой период имеются данные."
   ]
  },
  {
   "cell_type": "code",
   "execution_count": 11,
   "metadata": {},
   "outputs": [
    {
     "data": {
      "text/plain": [
       "numpy.datetime64('2018-01-01T00:00:00.000000000')"
      ]
     },
     "execution_count": 11,
     "metadata": {},
     "output_type": "execute_result"
    }
   ],
   "source": [
    "# дата регистрации первого пользователя в 2018 году\n",
    "users['reg_date'].sort_values().unique().min()"
   ]
  },
  {
   "cell_type": "code",
   "execution_count": 12,
   "metadata": {},
   "outputs": [
    {
     "data": {
      "text/plain": [
       "numpy.datetime64('2018-12-31T00:00:00.000000000')"
      ]
     },
     "execution_count": 12,
     "metadata": {},
     "output_type": "execute_result"
    }
   ],
   "source": [
    "# дата регистрации последнего пользователя в 2018 году\n",
    "users['reg_date'].sort_values().unique().max()"
   ]
  },
  {
   "cell_type": "markdown",
   "metadata": {},
   "source": [
    "Общая статистика."
   ]
  },
  {
   "cell_type": "code",
   "execution_count": 13,
   "metadata": {},
   "outputs": [
    {
     "data": {
      "text/html": [
       "<div>\n",
       "<style scoped>\n",
       "    .dataframe tbody tr th:only-of-type {\n",
       "        vertical-align: middle;\n",
       "    }\n",
       "\n",
       "    .dataframe tbody tr th {\n",
       "        vertical-align: top;\n",
       "    }\n",
       "\n",
       "    .dataframe thead th {\n",
       "        text-align: right;\n",
       "    }\n",
       "</style>\n",
       "<table border=\"1\" class=\"dataframe\">\n",
       "  <thead>\n",
       "    <tr style=\"text-align: right;\">\n",
       "      <th></th>\n",
       "      <th>user_id</th>\n",
       "      <th>age</th>\n",
       "    </tr>\n",
       "  </thead>\n",
       "  <tbody>\n",
       "    <tr>\n",
       "      <td>count</td>\n",
       "      <td>500</td>\n",
       "      <td>500</td>\n",
       "    </tr>\n",
       "    <tr>\n",
       "      <td>mean</td>\n",
       "      <td>1249</td>\n",
       "      <td>46</td>\n",
       "    </tr>\n",
       "    <tr>\n",
       "      <td>std</td>\n",
       "      <td>144</td>\n",
       "      <td>16</td>\n",
       "    </tr>\n",
       "    <tr>\n",
       "      <td>min</td>\n",
       "      <td>1000</td>\n",
       "      <td>18</td>\n",
       "    </tr>\n",
       "    <tr>\n",
       "      <td>25%</td>\n",
       "      <td>1124</td>\n",
       "      <td>32</td>\n",
       "    </tr>\n",
       "    <tr>\n",
       "      <td>50%</td>\n",
       "      <td>1249</td>\n",
       "      <td>46</td>\n",
       "    </tr>\n",
       "    <tr>\n",
       "      <td>75%</td>\n",
       "      <td>1374</td>\n",
       "      <td>62</td>\n",
       "    </tr>\n",
       "    <tr>\n",
       "      <td>max</td>\n",
       "      <td>1499</td>\n",
       "      <td>75</td>\n",
       "    </tr>\n",
       "  </tbody>\n",
       "</table>\n",
       "</div>"
      ],
      "text/plain": [
       "       user_id  age\n",
       "count      500  500\n",
       "mean      1249   46\n",
       "std        144   16\n",
       "min       1000   18\n",
       "25%       1124   32\n",
       "50%       1249   46\n",
       "75%       1374   62\n",
       "max       1499   75"
      ]
     },
     "execution_count": 13,
     "metadata": {},
     "output_type": "execute_result"
    }
   ],
   "source": [
    "users.describe().astype(int)"
   ]
  },
  {
   "cell_type": "markdown",
   "metadata": {},
   "source": [
    "### Информация о тарифах (таблица tariffs)  \n",
    "\n",
    "tariff_name — название тарифа  \n",
    "rub_monthly_fee — ежемесячная абонентская плата в рублях  \n",
    "minutes_included — количество минут разговора в месяц, включённых в абонентскую плату  \n",
    "messages_included — количество сообщений в месяц, включённых в абонентскую плату  \n",
    "mb_per_month_included — объём интернет-трафика, включённого в абонентскую плату (в мегабайтах)  \n",
    "rub_per_minute — стоимость минуты разговора сверх тарифного пакета (например, если в тарифе 100 минут разговора в месяц, то со 101 минуты будет взиматься плата)  \n",
    "rub_per_message — стоимость отправки сообщения сверх тарифного пакета  \n",
    "rub_per_gb — стоимость дополнительного гигабайта интернет-трафика сверх тарифного пакета (1 гигабайт = 1024 мегабайта)  \n",
    "  \n",
    "Описание тарифов  \n",
    "  \n",
    "**Тариф «Смарт»**  \n",
    "Ежемесячная плата: `550 рублей`  \n",
    "Включено `500 минут` разговора, `50 сообщений` и `15 Гб` интернет-трафика.  \n",
    "_Стоимость услуг сверх тарифного пакета:_   \n",
    "1. минута разговора: `3 рубля` («Мегалайн» всегда округляет вверх значения минут и мегабайтов. Если пользователь проговорил всего 1 секунду, в тарифе засчитывается целая минута);   \n",
    "2. сообщение: `3 рубля`;   \n",
    "3. 1 Гб интернет-трафика: `200 рублей`.\n",
    "\n",
    "**Тариф «Ультра»**   \n",
    "Ежемесячная плата: `1950 рублей`  \n",
    "Включено `3000 минут` разговора, `1000 сообщений` и `30 Гб` интернет-трафика.  \n",
    "_Стоимость услуг сверх тарифного пакета:_   \n",
    "1. минута разговора: `1 рубль`;   \n",
    "2. сообщение: `1 рубль`;   \n",
    "3. 1 Гб интернет-трафика: `150 рублей`.    "
   ]
  },
  {
   "cell_type": "code",
   "execution_count": 14,
   "metadata": {},
   "outputs": [
    {
     "data": {
      "text/html": [
       "<div>\n",
       "<style scoped>\n",
       "    .dataframe tbody tr th:only-of-type {\n",
       "        vertical-align: middle;\n",
       "    }\n",
       "\n",
       "    .dataframe tbody tr th {\n",
       "        vertical-align: top;\n",
       "    }\n",
       "\n",
       "    .dataframe thead th {\n",
       "        text-align: right;\n",
       "    }\n",
       "</style>\n",
       "<table border=\"1\" class=\"dataframe\">\n",
       "  <thead>\n",
       "    <tr style=\"text-align: right;\">\n",
       "      <th></th>\n",
       "      <th>messages_included</th>\n",
       "      <th>mb_per_month_included</th>\n",
       "      <th>minutes_included</th>\n",
       "      <th>rub_monthly_fee</th>\n",
       "      <th>rub_per_gb</th>\n",
       "      <th>rub_per_message</th>\n",
       "      <th>rub_per_minute</th>\n",
       "      <th>tariff_name</th>\n",
       "    </tr>\n",
       "  </thead>\n",
       "  <tbody>\n",
       "    <tr>\n",
       "      <td>0</td>\n",
       "      <td>50</td>\n",
       "      <td>15360</td>\n",
       "      <td>500</td>\n",
       "      <td>550</td>\n",
       "      <td>200</td>\n",
       "      <td>3</td>\n",
       "      <td>3</td>\n",
       "      <td>smart</td>\n",
       "    </tr>\n",
       "    <tr>\n",
       "      <td>1</td>\n",
       "      <td>1000</td>\n",
       "      <td>30720</td>\n",
       "      <td>3000</td>\n",
       "      <td>1950</td>\n",
       "      <td>150</td>\n",
       "      <td>1</td>\n",
       "      <td>1</td>\n",
       "      <td>ultra</td>\n",
       "    </tr>\n",
       "  </tbody>\n",
       "</table>\n",
       "</div>"
      ],
      "text/plain": [
       "   messages_included  mb_per_month_included  minutes_included  \\\n",
       "0                 50                  15360               500   \n",
       "1               1000                  30720              3000   \n",
       "\n",
       "   rub_monthly_fee  rub_per_gb  rub_per_message  rub_per_minute tariff_name  \n",
       "0              550         200                3               3       smart  \n",
       "1             1950         150                1               1       ultra  "
      ]
     },
     "metadata": {},
     "output_type": "display_data"
    },
    {
     "name": "stdout",
     "output_type": "stream",
     "text": [
      "<class 'pandas.core.frame.DataFrame'>\n",
      "RangeIndex: 2 entries, 0 to 1\n",
      "Data columns (total 8 columns):\n",
      "messages_included        2 non-null int64\n",
      "mb_per_month_included    2 non-null int64\n",
      "minutes_included         2 non-null int64\n",
      "rub_monthly_fee          2 non-null int64\n",
      "rub_per_gb               2 non-null int64\n",
      "rub_per_message          2 non-null int64\n",
      "rub_per_minute           2 non-null int64\n",
      "tariff_name              2 non-null object\n",
      "dtypes: int64(7), object(1)\n",
      "memory usage: 256.0+ bytes\n"
     ]
    }
   ],
   "source": [
    "# случайная выборка\n",
    "display(tariffs.sample(2))\n",
    "# общая информация о данных\n",
    "tariffs.info()"
   ]
  },
  {
   "cell_type": "markdown",
   "metadata": {},
   "source": [
    "Проверка стиля заголовков."
   ]
  },
  {
   "cell_type": "code",
   "execution_count": 15,
   "metadata": {},
   "outputs": [
    {
     "data": {
      "text/plain": [
       "Index(['messages_included', 'mb_per_month_included', 'minutes_included',\n",
       "       'rub_monthly_fee', 'rub_per_gb', 'rub_per_message', 'rub_per_minute',\n",
       "       'tariff_name'],\n",
       "      dtype='object')"
      ]
     },
     "execution_count": 15,
     "metadata": {},
     "output_type": "execute_result"
    }
   ],
   "source": [
    "tariffs.columns"
   ]
  },
  {
   "cell_type": "markdown",
   "metadata": {},
   "source": [
    "Проверка на дубликаты не нужна, в таблице всего 2 строки."
   ]
  },
  {
   "cell_type": "markdown",
   "metadata": {},
   "source": [
    "### Информация о звонках (таблица calls)\n",
    "\n",
    "id — уникальный номер звонка  \n",
    "call_date — дата звонка  \n",
    "duration — длительность звонка в минутах  \n",
    "user_id — идентификатор пользователя, сделавшего звонок  "
   ]
  },
  {
   "cell_type": "code",
   "execution_count": 16,
   "metadata": {},
   "outputs": [
    {
     "data": {
      "text/html": [
       "<div>\n",
       "<style scoped>\n",
       "    .dataframe tbody tr th:only-of-type {\n",
       "        vertical-align: middle;\n",
       "    }\n",
       "\n",
       "    .dataframe tbody tr th {\n",
       "        vertical-align: top;\n",
       "    }\n",
       "\n",
       "    .dataframe thead th {\n",
       "        text-align: right;\n",
       "    }\n",
       "</style>\n",
       "<table border=\"1\" class=\"dataframe\">\n",
       "  <thead>\n",
       "    <tr style=\"text-align: right;\">\n",
       "      <th></th>\n",
       "      <th>id</th>\n",
       "      <th>call_date</th>\n",
       "      <th>duration</th>\n",
       "      <th>user_id</th>\n",
       "    </tr>\n",
       "  </thead>\n",
       "  <tbody>\n",
       "    <tr>\n",
       "      <td>180792</td>\n",
       "      <td>1452_166</td>\n",
       "      <td>2018-11-20</td>\n",
       "      <td>2.39</td>\n",
       "      <td>1452</td>\n",
       "    </tr>\n",
       "  </tbody>\n",
       "</table>\n",
       "</div>"
      ],
      "text/plain": [
       "              id   call_date  duration  user_id\n",
       "180792  1452_166  2018-11-20      2.39     1452"
      ]
     },
     "metadata": {},
     "output_type": "display_data"
    },
    {
     "name": "stdout",
     "output_type": "stream",
     "text": [
      "<class 'pandas.core.frame.DataFrame'>\n",
      "RangeIndex: 202607 entries, 0 to 202606\n",
      "Data columns (total 4 columns):\n",
      "id           202607 non-null object\n",
      "call_date    202607 non-null object\n",
      "duration     202607 non-null float64\n",
      "user_id      202607 non-null int64\n",
      "dtypes: float64(1), int64(1), object(2)\n",
      "memory usage: 6.2+ MB\n"
     ]
    }
   ],
   "source": [
    "# случайная выборка\n",
    "display(calls.sample())\n",
    "# общая информация о данных\n",
    "calls.info()"
   ]
  },
  {
   "cell_type": "markdown",
   "metadata": {},
   "source": [
    "_Примечание 1:_  \n",
    "Звонки с нулевой продолжительностью не ошибка: нулями обозначены пропущенные звонки, поэтому их не нужно удалять.  \n",
    "  \n",
    "_Примечание 2:_  \n",
    "«Мегалайн» всегда округляет секунды до минут. Каждый звонок округляется отдельно: даже если он длился всего 1 секунду, будет засчитан как 1 минута.  "
   ]
  },
  {
   "cell_type": "markdown",
   "metadata": {},
   "source": [
    "Проверка стиля заголовков."
   ]
  },
  {
   "cell_type": "code",
   "execution_count": 17,
   "metadata": {},
   "outputs": [
    {
     "data": {
      "text/plain": [
       "Index(['id', 'call_date', 'duration', 'user_id'], dtype='object')"
      ]
     },
     "execution_count": 17,
     "metadata": {},
     "output_type": "execute_result"
    }
   ],
   "source": [
    "calls.columns"
   ]
  },
  {
   "cell_type": "markdown",
   "metadata": {},
   "source": [
    "Изменим тип данных в столбцах (в скобках на какой тип меняется и почему):  \n",
    "- id (на int - столбец содержит целочисленные значения уникального номера звонка);  \n",
    "- call_date (на datetime - столбец содержит значения даты звонка);   \n",
    "- duration (на int - округлю  секунды до минут согласно политике \"Мегалайна\" (см. Примечание 2 выше);  "
   ]
  },
  {
   "cell_type": "code",
   "execution_count": 18,
   "metadata": {},
   "outputs": [],
   "source": [
    "calls['call_date'] = pd.to_datetime(calls['call_date'], format='%Y-%m-%d')\n",
    "calls['id'] = calls['id'].astype('int')\n",
    "\n",
    "# округлим продолжительность звонков в большую сторону\n",
    "calls['duration'] = np.ceil(calls['duration'])\n",
    "calls['duration'] = calls['duration'].astype(int)"
   ]
  },
  {
   "cell_type": "code",
   "execution_count": 19,
   "metadata": {},
   "outputs": [],
   "source": [
    "# calls.info()"
   ]
  },
  {
   "cell_type": "markdown",
   "metadata": {},
   "source": [
    "Проверка на дубликаты."
   ]
  },
  {
   "cell_type": "code",
   "execution_count": 20,
   "metadata": {},
   "outputs": [
    {
     "data": {
      "text/plain": [
       "'Количество строк-дубликатов равно 0.'"
      ]
     },
     "execution_count": 20,
     "metadata": {},
     "output_type": "execute_result"
    }
   ],
   "source": [
    "# на явные дуликаты\n",
    "'Количество строк-дубликатов равно {}.'.format(calls.duplicated().sum())"
   ]
  },
  {
   "cell_type": "markdown",
   "metadata": {},
   "source": [
    "Общая статистика."
   ]
  },
  {
   "cell_type": "code",
   "execution_count": 21,
   "metadata": {},
   "outputs": [
    {
     "data": {
      "text/html": [
       "<div>\n",
       "<style scoped>\n",
       "    .dataframe tbody tr th:only-of-type {\n",
       "        vertical-align: middle;\n",
       "    }\n",
       "\n",
       "    .dataframe tbody tr th {\n",
       "        vertical-align: top;\n",
       "    }\n",
       "\n",
       "    .dataframe thead th {\n",
       "        text-align: right;\n",
       "    }\n",
       "</style>\n",
       "<table border=\"1\" class=\"dataframe\">\n",
       "  <thead>\n",
       "    <tr style=\"text-align: right;\">\n",
       "      <th></th>\n",
       "      <th>id</th>\n",
       "      <th>duration</th>\n",
       "      <th>user_id</th>\n",
       "    </tr>\n",
       "  </thead>\n",
       "  <tbody>\n",
       "    <tr>\n",
       "      <td>count</td>\n",
       "      <td>202607</td>\n",
       "      <td>202607</td>\n",
       "      <td>202607</td>\n",
       "    </tr>\n",
       "    <tr>\n",
       "      <td>mean</td>\n",
       "      <td>1212254</td>\n",
       "      <td>7</td>\n",
       "      <td>1253</td>\n",
       "    </tr>\n",
       "    <tr>\n",
       "      <td>std</td>\n",
       "      <td>1725756</td>\n",
       "      <td>5</td>\n",
       "      <td>144</td>\n",
       "    </tr>\n",
       "    <tr>\n",
       "      <td>min</td>\n",
       "      <td>10000</td>\n",
       "      <td>0</td>\n",
       "      <td>1000</td>\n",
       "    </tr>\n",
       "    <tr>\n",
       "      <td>25%</td>\n",
       "      <td>1012286</td>\n",
       "      <td>2</td>\n",
       "      <td>1126</td>\n",
       "    </tr>\n",
       "    <tr>\n",
       "      <td>50%</td>\n",
       "      <td>1179376</td>\n",
       "      <td>6</td>\n",
       "      <td>1260</td>\n",
       "    </tr>\n",
       "    <tr>\n",
       "      <td>75%</td>\n",
       "      <td>1358125</td>\n",
       "      <td>11</td>\n",
       "      <td>1379</td>\n",
       "    </tr>\n",
       "    <tr>\n",
       "      <td>max</td>\n",
       "      <td>14581154</td>\n",
       "      <td>38</td>\n",
       "      <td>1499</td>\n",
       "    </tr>\n",
       "  </tbody>\n",
       "</table>\n",
       "</div>"
      ],
      "text/plain": [
       "             id  duration  user_id\n",
       "count    202607    202607   202607\n",
       "mean    1212254         7     1253\n",
       "std     1725756         5      144\n",
       "min       10000         0     1000\n",
       "25%     1012286         2     1126\n",
       "50%     1179376         6     1260\n",
       "75%     1358125        11     1379\n",
       "max    14581154        38     1499"
      ]
     },
     "execution_count": 21,
     "metadata": {},
     "output_type": "execute_result"
    }
   ],
   "source": [
    "calls.describe().astype(int)"
   ]
  },
  {
   "cell_type": "markdown",
   "metadata": {},
   "source": [
    "### Информация об интернет-сессиях (таблица internet )  \n",
    "\n",
    "id — уникальный номер сессии  \n",
    "mb_used — объём потраченного за сессию интернет-трафика (в мегабайтах)  \n",
    "session_date — дата интернет-сессии  \n",
    "user_id — идентификатор пользователя  \n",
    "  \n",
    "Описание столбца \"Unnamed: 0\" в документации нет. Его значения равны значениям столбца с индексами."
   ]
  },
  {
   "cell_type": "code",
   "execution_count": 22,
   "metadata": {},
   "outputs": [
    {
     "data": {
      "text/html": [
       "<div>\n",
       "<style scoped>\n",
       "    .dataframe tbody tr th:only-of-type {\n",
       "        vertical-align: middle;\n",
       "    }\n",
       "\n",
       "    .dataframe tbody tr th {\n",
       "        vertical-align: top;\n",
       "    }\n",
       "\n",
       "    .dataframe thead th {\n",
       "        text-align: right;\n",
       "    }\n",
       "</style>\n",
       "<table border=\"1\" class=\"dataframe\">\n",
       "  <thead>\n",
       "    <tr style=\"text-align: right;\">\n",
       "      <th></th>\n",
       "      <th>Unnamed: 0</th>\n",
       "      <th>id</th>\n",
       "      <th>mb_used</th>\n",
       "      <th>session_date</th>\n",
       "      <th>user_id</th>\n",
       "    </tr>\n",
       "  </thead>\n",
       "  <tbody>\n",
       "    <tr>\n",
       "      <td>94955</td>\n",
       "      <td>94955</td>\n",
       "      <td>1321_219</td>\n",
       "      <td>0.0</td>\n",
       "      <td>2018-07-16</td>\n",
       "      <td>1321</td>\n",
       "    </tr>\n",
       "  </tbody>\n",
       "</table>\n",
       "</div>"
      ],
      "text/plain": [
       "       Unnamed: 0        id  mb_used session_date  user_id\n",
       "94955       94955  1321_219      0.0   2018-07-16     1321"
      ]
     },
     "metadata": {},
     "output_type": "display_data"
    },
    {
     "name": "stdout",
     "output_type": "stream",
     "text": [
      "<class 'pandas.core.frame.DataFrame'>\n",
      "RangeIndex: 149396 entries, 0 to 149395\n",
      "Data columns (total 5 columns):\n",
      "Unnamed: 0      149396 non-null int64\n",
      "id              149396 non-null object\n",
      "mb_used         149396 non-null float64\n",
      "session_date    149396 non-null object\n",
      "user_id         149396 non-null int64\n",
      "dtypes: float64(1), int64(2), object(2)\n",
      "memory usage: 5.7+ MB\n"
     ]
    }
   ],
   "source": [
    "# случайная выборка\n",
    "display(internet.sample())\n",
    "# общая информация о данных\n",
    "internet.info()"
   ]
  },
  {
   "cell_type": "markdown",
   "metadata": {},
   "source": [
    "_Примечание:_  \n",
    "«Мегалайн» всегда округляет мегабайты — до гигабайт.  \n",
    "Для веб-трафика отдельные сессии не считаются. Вместо этого общая сумма за месяц округляется в бо́льшую сторону. Если абонент использует 1025 мегабайт в этом месяце, с него возьмут плату за 2 гигабайта.  "
   ]
  },
  {
   "cell_type": "markdown",
   "metadata": {},
   "source": [
    "Проверка стиля заголовков."
   ]
  },
  {
   "cell_type": "code",
   "execution_count": 23,
   "metadata": {},
   "outputs": [
    {
     "data": {
      "text/plain": [
       "Index(['Unnamed: 0', 'id', 'mb_used', 'session_date', 'user_id'], dtype='object')"
      ]
     },
     "execution_count": 23,
     "metadata": {},
     "output_type": "execute_result"
    }
   ],
   "source": [
    "internet.columns"
   ]
  },
  {
   "cell_type": "markdown",
   "metadata": {},
   "source": [
    "Заголовок столбца 'Unnamed: 0' изменять не буду, поскольку этот столбец в дальнейшем не будет использован в анализе, т.к. его значения полностью дублируют колонку с индексами."
   ]
  },
  {
   "cell_type": "markdown",
   "metadata": {},
   "source": [
    "Изменим тип данных в столбцах (в скобках на какой тип меняется и почему):  \n",
    "- id (на int - столбец содержит целочисленные значения уникального номера сессии);  \n",
    "- mb_used (на int - округлю  мегабайты до целых чисел в большую сторону, чтобы потом окргулить до гигабайтов согласно политике компании);  \n",
    "- session_date (на datetime - столбец содержит значения даты интернет-сессии);   "
   ]
  },
  {
   "cell_type": "code",
   "execution_count": 24,
   "metadata": {},
   "outputs": [],
   "source": [
    "internet['session_date'] = pd.to_datetime(internet['session_date'], format='%Y-%m-%d')\n",
    "internet['id'] = internet['id'].astype('int')\n",
    "# округлим объем израсходованного трафика до мегабайтов в большую сторону\n",
    "internet['mb_used'] = np.ceil(internet['mb_used'])\n",
    "# изменим тип данных\n",
    "internet['mb_used'] = internet['mb_used'].astype('int')"
   ]
  },
  {
   "cell_type": "code",
   "execution_count": 25,
   "metadata": {},
   "outputs": [],
   "source": [
    "# internet.info()"
   ]
  },
  {
   "cell_type": "markdown",
   "metadata": {},
   "source": [
    "Проверка на дубликаты."
   ]
  },
  {
   "cell_type": "code",
   "execution_count": 26,
   "metadata": {},
   "outputs": [
    {
     "data": {
      "text/plain": [
       "'Количество строк-дубликатов равно 0.'"
      ]
     },
     "execution_count": 26,
     "metadata": {},
     "output_type": "execute_result"
    }
   ],
   "source": [
    "# на явные дуликаты\n",
    "'Количество строк-дубликатов равно {}.'.format(internet.duplicated().sum())"
   ]
  },
  {
   "cell_type": "markdown",
   "metadata": {},
   "source": [
    "Общая статистика."
   ]
  },
  {
   "cell_type": "code",
   "execution_count": 27,
   "metadata": {},
   "outputs": [
    {
     "data": {
      "text/html": [
       "<div>\n",
       "<style scoped>\n",
       "    .dataframe tbody tr th:only-of-type {\n",
       "        vertical-align: middle;\n",
       "    }\n",
       "\n",
       "    .dataframe tbody tr th {\n",
       "        vertical-align: top;\n",
       "    }\n",
       "\n",
       "    .dataframe thead th {\n",
       "        text-align: right;\n",
       "    }\n",
       "</style>\n",
       "<table border=\"1\" class=\"dataframe\">\n",
       "  <thead>\n",
       "    <tr style=\"text-align: right;\">\n",
       "      <th></th>\n",
       "      <th>Unnamed: 0</th>\n",
       "      <th>id</th>\n",
       "      <th>mb_used</th>\n",
       "      <th>user_id</th>\n",
       "    </tr>\n",
       "  </thead>\n",
       "  <tbody>\n",
       "    <tr>\n",
       "      <td>count</td>\n",
       "      <td>149396</td>\n",
       "      <td>149396</td>\n",
       "      <td>149396</td>\n",
       "      <td>149396</td>\n",
       "    </tr>\n",
       "    <tr>\n",
       "      <td>mean</td>\n",
       "      <td>74697</td>\n",
       "      <td>896847</td>\n",
       "      <td>370</td>\n",
       "      <td>1252</td>\n",
       "    </tr>\n",
       "    <tr>\n",
       "      <td>std</td>\n",
       "      <td>43127</td>\n",
       "      <td>541975</td>\n",
       "      <td>278</td>\n",
       "      <td>144</td>\n",
       "    </tr>\n",
       "    <tr>\n",
       "      <td>min</td>\n",
       "      <td>0</td>\n",
       "      <td>10000</td>\n",
       "      <td>0</td>\n",
       "      <td>1000</td>\n",
       "    </tr>\n",
       "    <tr>\n",
       "      <td>25%</td>\n",
       "      <td>37348</td>\n",
       "      <td>138987</td>\n",
       "      <td>139</td>\n",
       "      <td>1130</td>\n",
       "    </tr>\n",
       "    <tr>\n",
       "      <td>50%</td>\n",
       "      <td>74697</td>\n",
       "      <td>1145212</td>\n",
       "      <td>349</td>\n",
       "      <td>1251</td>\n",
       "    </tr>\n",
       "    <tr>\n",
       "      <td>75%</td>\n",
       "      <td>112046</td>\n",
       "      <td>1321559</td>\n",
       "      <td>560</td>\n",
       "      <td>1380</td>\n",
       "    </tr>\n",
       "    <tr>\n",
       "      <td>max</td>\n",
       "      <td>149395</td>\n",
       "      <td>1499156</td>\n",
       "      <td>1725</td>\n",
       "      <td>1499</td>\n",
       "    </tr>\n",
       "  </tbody>\n",
       "</table>\n",
       "</div>"
      ],
      "text/plain": [
       "       Unnamed: 0       id  mb_used  user_id\n",
       "count      149396   149396   149396   149396\n",
       "mean        74697   896847      370     1252\n",
       "std         43127   541975      278      144\n",
       "min             0    10000        0     1000\n",
       "25%         37348   138987      139     1130\n",
       "50%         74697  1145212      349     1251\n",
       "75%        112046  1321559      560     1380\n",
       "max        149395  1499156     1725     1499"
      ]
     },
     "execution_count": 27,
     "metadata": {},
     "output_type": "execute_result"
    }
   ],
   "source": [
    "internet.describe().astype(int)"
   ]
  },
  {
   "cell_type": "markdown",
   "metadata": {},
   "source": [
    "### Информация о сообщениях (таблица messages )  \n",
    "\n",
    "id — уникальный номер сообщения  \n",
    "message_date — дата сообщения  \n",
    "user_id — идентификатор пользователя, отправившего сообщение  \n"
   ]
  },
  {
   "cell_type": "code",
   "execution_count": 28,
   "metadata": {},
   "outputs": [
    {
     "data": {
      "text/html": [
       "<div>\n",
       "<style scoped>\n",
       "    .dataframe tbody tr th:only-of-type {\n",
       "        vertical-align: middle;\n",
       "    }\n",
       "\n",
       "    .dataframe tbody tr th {\n",
       "        vertical-align: top;\n",
       "    }\n",
       "\n",
       "    .dataframe thead th {\n",
       "        text-align: right;\n",
       "    }\n",
       "</style>\n",
       "<table border=\"1\" class=\"dataframe\">\n",
       "  <thead>\n",
       "    <tr style=\"text-align: right;\">\n",
       "      <th></th>\n",
       "      <th>id</th>\n",
       "      <th>message_date</th>\n",
       "      <th>user_id</th>\n",
       "    </tr>\n",
       "  </thead>\n",
       "  <tbody>\n",
       "    <tr>\n",
       "      <td>96191</td>\n",
       "      <td>1395_178</td>\n",
       "      <td>2018-04-19</td>\n",
       "      <td>1395</td>\n",
       "    </tr>\n",
       "  </tbody>\n",
       "</table>\n",
       "</div>"
      ],
      "text/plain": [
       "             id message_date  user_id\n",
       "96191  1395_178   2018-04-19     1395"
      ]
     },
     "metadata": {},
     "output_type": "display_data"
    },
    {
     "name": "stdout",
     "output_type": "stream",
     "text": [
      "<class 'pandas.core.frame.DataFrame'>\n",
      "RangeIndex: 123036 entries, 0 to 123035\n",
      "Data columns (total 3 columns):\n",
      "id              123036 non-null object\n",
      "message_date    123036 non-null object\n",
      "user_id         123036 non-null int64\n",
      "dtypes: int64(1), object(2)\n",
      "memory usage: 2.8+ MB\n"
     ]
    }
   ],
   "source": [
    "# случайная выборка\n",
    "display(messages.sample())\n",
    "# общая информация о данных\n",
    "messages.info()"
   ]
  },
  {
   "cell_type": "markdown",
   "metadata": {},
   "source": [
    "Проверка стиля заголовков."
   ]
  },
  {
   "cell_type": "code",
   "execution_count": 29,
   "metadata": {},
   "outputs": [
    {
     "data": {
      "text/plain": [
       "Index(['id', 'message_date', 'user_id'], dtype='object')"
      ]
     },
     "execution_count": 29,
     "metadata": {},
     "output_type": "execute_result"
    }
   ],
   "source": [
    "messages.columns"
   ]
  },
  {
   "cell_type": "markdown",
   "metadata": {},
   "source": [
    "Изменим тип данных в столбцах (в скобках на какой тип меняется и почему):  \n",
    "- id (на int - столбец содержит целочисленные значения уникального номера сообщения);  \n",
    "- message_date (на datetime - столбец содержит значения даты сообщения);   "
   ]
  },
  {
   "cell_type": "code",
   "execution_count": 30,
   "metadata": {},
   "outputs": [],
   "source": [
    "messages['message_date'] = pd.to_datetime(messages['message_date'], format='%Y-%m-%d')\n",
    "messages['id'] = messages['id'].astype(int)"
   ]
  },
  {
   "cell_type": "code",
   "execution_count": 31,
   "metadata": {},
   "outputs": [],
   "source": [
    "# messages.info()"
   ]
  },
  {
   "cell_type": "markdown",
   "metadata": {},
   "source": [
    "Проверка на дубликаты."
   ]
  },
  {
   "cell_type": "code",
   "execution_count": 32,
   "metadata": {},
   "outputs": [
    {
     "data": {
      "text/plain": [
       "'Количество строк-дубликатов равно 0.'"
      ]
     },
     "execution_count": 32,
     "metadata": {},
     "output_type": "execute_result"
    }
   ],
   "source": [
    "# на явные дуликаты\n",
    "'Количество строк-дубликатов равно {}.'.format(messages.duplicated().sum())"
   ]
  },
  {
   "cell_type": "markdown",
   "metadata": {},
   "source": [
    "Общая статистика."
   ]
  },
  {
   "cell_type": "code",
   "execution_count": 33,
   "metadata": {},
   "outputs": [
    {
     "data": {
      "text/html": [
       "<div>\n",
       "<style scoped>\n",
       "    .dataframe tbody tr th:only-of-type {\n",
       "        vertical-align: middle;\n",
       "    }\n",
       "\n",
       "    .dataframe tbody tr th {\n",
       "        vertical-align: top;\n",
       "    }\n",
       "\n",
       "    .dataframe thead th {\n",
       "        text-align: right;\n",
       "    }\n",
       "</style>\n",
       "<table border=\"1\" class=\"dataframe\">\n",
       "  <thead>\n",
       "    <tr style=\"text-align: right;\">\n",
       "      <th></th>\n",
       "      <th>id</th>\n",
       "      <th>user_id</th>\n",
       "    </tr>\n",
       "  </thead>\n",
       "  <tbody>\n",
       "    <tr>\n",
       "      <td>count</td>\n",
       "      <td>123036</td>\n",
       "      <td>123036</td>\n",
       "    </tr>\n",
       "    <tr>\n",
       "      <td>mean</td>\n",
       "      <td>1144526</td>\n",
       "      <td>1256</td>\n",
       "    </tr>\n",
       "    <tr>\n",
       "      <td>std</td>\n",
       "      <td>1717919</td>\n",
       "      <td>143</td>\n",
       "    </tr>\n",
       "    <tr>\n",
       "      <td>min</td>\n",
       "      <td>10000</td>\n",
       "      <td>1000</td>\n",
       "    </tr>\n",
       "    <tr>\n",
       "      <td>25%</td>\n",
       "      <td>141889</td>\n",
       "      <td>1134</td>\n",
       "    </tr>\n",
       "    <tr>\n",
       "      <td>50%</td>\n",
       "      <td>1158504</td>\n",
       "      <td>1271</td>\n",
       "    </tr>\n",
       "    <tr>\n",
       "      <td>75%</td>\n",
       "      <td>1343105</td>\n",
       "      <td>1381</td>\n",
       "    </tr>\n",
       "    <tr>\n",
       "      <td>max</td>\n",
       "      <td>14331091</td>\n",
       "      <td>1499</td>\n",
       "    </tr>\n",
       "  </tbody>\n",
       "</table>\n",
       "</div>"
      ],
      "text/plain": [
       "             id  user_id\n",
       "count    123036   123036\n",
       "mean    1144526     1256\n",
       "std     1717919      143\n",
       "min       10000     1000\n",
       "25%      141889     1134\n",
       "50%     1158504     1271\n",
       "75%     1343105     1381\n",
       "max    14331091     1499"
      ]
     },
     "execution_count": 33,
     "metadata": {},
     "output_type": "execute_result"
    }
   ],
   "source": [
    "messages.describe().astype(int)"
   ]
  },
  {
   "cell_type": "markdown",
   "metadata": {},
   "source": [
    "### Выводы  \n",
    "  \n",
    "1. Данные распределены в 5 датасетах и содержат информацию о: пользователях тарифов, самих тарифах, совершенных звонках, отправленных сообщениях и проведенных интернет-сессиях за 2018 год.  \n",
    "2. Проблем со стилем в столбцах не обнаружено.  \n",
    "3. Были изменен тип данных:\n",
    "- таблица users: столбцы churn_date (на datetime) и reg_date (на datetime);  \n",
    "- таблица calls: столбцы: id (на int), call_date (на datetime), duration (на int c округлением в большую сторону);  \n",
    "- таблица internet: столбцы: id (на int), mb_used (на int c округлением в большую сторону), session_date (на datetime);  \n",
    "- таблица messages: столбцы id (на int) и message_date (на datetime).  \n",
    "4. Пропусков не найдено, кроме предусмотренных в столбце churn_date таблицы users.  \n",
    "5. Дубликатов не найдено.  \n",
    "6. Колонка 'Unnamed: 0' таблицы internet полностью дублирует колонку с индексами. Было решено ничего с ней не делать."
   ]
  },
  {
   "cell_type": "markdown",
   "metadata": {},
   "source": [
    "## Подготовка данных для анализа"
   ]
  },
  {
   "cell_type": "markdown",
   "metadata": {},
   "source": [
    "### Расчет помесячного потребления услуг пользователями"
   ]
  },
  {
   "cell_type": "markdown",
   "metadata": {},
   "source": [
    "Произведем подсчет использованного пользователями количества минут, сообщений и интернет-трафика по месяцам. "
   ]
  },
  {
   "cell_type": "markdown",
   "metadata": {},
   "source": [
    "#### Количество минут разговора по месяцам"
   ]
  },
  {
   "cell_type": "code",
   "execution_count": 34,
   "metadata": {},
   "outputs": [
    {
     "data": {
      "text/html": [
       "<div>\n",
       "<style scoped>\n",
       "    .dataframe tbody tr th:only-of-type {\n",
       "        vertical-align: middle;\n",
       "    }\n",
       "\n",
       "    .dataframe tbody tr th {\n",
       "        vertical-align: top;\n",
       "    }\n",
       "\n",
       "    .dataframe thead th {\n",
       "        text-align: right;\n",
       "    }\n",
       "</style>\n",
       "<table border=\"1\" class=\"dataframe\">\n",
       "  <thead>\n",
       "    <tr style=\"text-align: right;\">\n",
       "      <th></th>\n",
       "      <th>user_id</th>\n",
       "      <th>month</th>\n",
       "      <th>quantity_calls</th>\n",
       "      <th>total_minutes</th>\n",
       "    </tr>\n",
       "  </thead>\n",
       "  <tbody>\n",
       "    <tr>\n",
       "      <td>1546</td>\n",
       "      <td>1248</td>\n",
       "      <td>7</td>\n",
       "      <td>88</td>\n",
       "      <td>740</td>\n",
       "    </tr>\n",
       "  </tbody>\n",
       "</table>\n",
       "</div>"
      ],
      "text/plain": [
       "      user_id  month  quantity_calls  total_minutes\n",
       "1546     1248      7              88            740"
      ]
     },
     "execution_count": 34,
     "metadata": {},
     "output_type": "execute_result"
    }
   ],
   "source": [
    "# колонка с номерами месяцев, соответствующими дате разговора\n",
    "calls['month'] = calls['call_date'].dt.month\n",
    "\n",
    "# удалим пропуски, \"нулевые\" звонки, т.к. они не используют минуты и не нужны в анализе\n",
    "calls.drop(calls.loc[calls['duration'] == 0].index, inplace=True)\n",
    "\n",
    "# таблица calls_total с расчетом общего количества потребленных каждым пользователем минут по месяцам\n",
    "calls_total = pd.pivot_table(calls,\n",
    "                            index=['user_id', 'month'],\n",
    "                            values='duration',\n",
    "                            aggfunc=['count', 'sum']).reset_index()\n",
    "calls_total.columns = ['user_id', 'month', 'quantity_calls', 'total_minutes']\n",
    "\n",
    "#calls_total['tariff'].value_counts()\n",
    "#calls_total.sort_values(by='quantity_calls', ascending=False).head(10).reset_index(drop=True)\n",
    "#calls_total.info()\n",
    "calls_total.sample()"
   ]
  },
  {
   "cell_type": "markdown",
   "metadata": {},
   "source": [
    "Описание дополнительных данных:  \n",
    "- month - номер месяца;  \n",
    "- total_minutes - общее количество минут, израсходованных в месяце."
   ]
  },
  {
   "cell_type": "markdown",
   "metadata": {},
   "source": [
    "#### Количество сообщений по месяцам"
   ]
  },
  {
   "cell_type": "code",
   "execution_count": 35,
   "metadata": {},
   "outputs": [
    {
     "data": {
      "text/html": [
       "<div>\n",
       "<style scoped>\n",
       "    .dataframe tbody tr th:only-of-type {\n",
       "        vertical-align: middle;\n",
       "    }\n",
       "\n",
       "    .dataframe tbody tr th {\n",
       "        vertical-align: top;\n",
       "    }\n",
       "\n",
       "    .dataframe thead th {\n",
       "        text-align: right;\n",
       "    }\n",
       "</style>\n",
       "<table border=\"1\" class=\"dataframe\">\n",
       "  <thead>\n",
       "    <tr style=\"text-align: right;\">\n",
       "      <th></th>\n",
       "      <th>user_id</th>\n",
       "      <th>month</th>\n",
       "      <th>total_messages</th>\n",
       "    </tr>\n",
       "  </thead>\n",
       "  <tbody>\n",
       "    <tr>\n",
       "      <td>1506</td>\n",
       "      <td>1293</td>\n",
       "      <td>9</td>\n",
       "      <td>38</td>\n",
       "    </tr>\n",
       "  </tbody>\n",
       "</table>\n",
       "</div>"
      ],
      "text/plain": [
       "      user_id  month  total_messages\n",
       "1506     1293      9              38"
      ]
     },
     "execution_count": 35,
     "metadata": {},
     "output_type": "execute_result"
    }
   ],
   "source": [
    "# колонка с номерами месяцев, соответствующими дате отправки сообщения\n",
    "messages['month'] = messages['message_date'].dt.month\n",
    "\n",
    "# таблица messages_total с расчетом общего количества потребленных каждым пользователем сообщений по месяцам\n",
    "messages_total = pd.pivot_table(messages,\n",
    "                            index=['user_id', 'month'],\n",
    "                            values='id',\n",
    "                            aggfunc='count').reset_index()\n",
    "messages_total.columns = ['user_id', 'month', 'total_messages']\n",
    "\n",
    "#messages_total.sort_values(by='total_messages', ascending=False).head(10).reset_index(drop=True)\n",
    "#messages_total.info()\n",
    "messages_total.sample()"
   ]
  },
  {
   "cell_type": "markdown",
   "metadata": {},
   "source": [
    "Описание дополнительных данных:  \n",
    "- total_messages - общее количество сообщений, израсходованных в месяце."
   ]
  },
  {
   "cell_type": "markdown",
   "metadata": {},
   "source": [
    "#### Количество гигабайт по месяцам"
   ]
  },
  {
   "cell_type": "code",
   "execution_count": 36,
   "metadata": {},
   "outputs": [
    {
     "data": {
      "text/html": [
       "<div>\n",
       "<style scoped>\n",
       "    .dataframe tbody tr th:only-of-type {\n",
       "        vertical-align: middle;\n",
       "    }\n",
       "\n",
       "    .dataframe tbody tr th {\n",
       "        vertical-align: top;\n",
       "    }\n",
       "\n",
       "    .dataframe thead th {\n",
       "        text-align: right;\n",
       "    }\n",
       "</style>\n",
       "<table border=\"1\" class=\"dataframe\">\n",
       "  <thead>\n",
       "    <tr style=\"text-align: right;\">\n",
       "      <th></th>\n",
       "      <th>user_id</th>\n",
       "      <th>month</th>\n",
       "      <th>total_gigabytes</th>\n",
       "    </tr>\n",
       "  </thead>\n",
       "  <tbody>\n",
       "    <tr>\n",
       "      <td>2767</td>\n",
       "      <td>1431</td>\n",
       "      <td>4</td>\n",
       "      <td>20</td>\n",
       "    </tr>\n",
       "  </tbody>\n",
       "</table>\n",
       "</div>"
      ],
      "text/plain": [
       "      user_id  month  total_gigabytes\n",
       "2767     1431      4               20"
      ]
     },
     "execution_count": 36,
     "metadata": {},
     "output_type": "execute_result"
    }
   ],
   "source": [
    "# переведем мегабайты в гигабайты в таблице tariffs, создав колонку gb_per_month_included\n",
    "tariffs['gb_per_month_included'] = (tariffs['mb_per_month_included'] / 1024).apply(mt.ceil) \n",
    "\n",
    "# колонка с номерами месяцев, соответствующими дате интернет-сессии\n",
    "internet['month'] = internet['session_date'].dt.month\n",
    "\n",
    "# таблица internet_total с расчетом общего количества потребленных каждым пользователем гигабайт по месяцам\n",
    "internet_total = pd.pivot_table(internet,\n",
    "                            index=['user_id', 'month'],\n",
    "                            values='mb_used',\n",
    "                            aggfunc='sum').reset_index()\n",
    "internet_total.columns = ['user_id', 'month', 'total_gigabytes']\n",
    "\n",
    "# переведем мегабайты в гигабайты в таблице internet_total\n",
    "internet_total['total_gigabytes'] = (internet_total['total_gigabytes'] / 1024).apply(mt.ceil)\n",
    "\n",
    "#internet_total.sort_values(by='total_gigabytes', ascending=False).head(10).reset_index(drop=True)\n",
    "#internet_total.info()\n",
    "internet_total.sample()"
   ]
  },
  {
   "cell_type": "markdown",
   "metadata": {},
   "source": [
    "Описание дополнительных данных:  \n",
    "- total_gigabytes - общее количество гигабайт, израсходованных в месяце."
   ]
  },
  {
   "cell_type": "markdown",
   "metadata": {},
   "source": [
    "#### Сводная таблица помесячного потребления услуг пользователями services_total"
   ]
  },
  {
   "cell_type": "markdown",
   "metadata": {},
   "source": [
    "Объединим таблицы calls_total, messages_total, internet_total в одну таблицу services_total."
   ]
  },
  {
   "cell_type": "code",
   "execution_count": 37,
   "metadata": {},
   "outputs": [
    {
     "data": {
      "text/html": [
       "<div>\n",
       "<style scoped>\n",
       "    .dataframe tbody tr th:only-of-type {\n",
       "        vertical-align: middle;\n",
       "    }\n",
       "\n",
       "    .dataframe tbody tr th {\n",
       "        vertical-align: top;\n",
       "    }\n",
       "\n",
       "    .dataframe thead th {\n",
       "        text-align: right;\n",
       "    }\n",
       "</style>\n",
       "<table border=\"1\" class=\"dataframe\">\n",
       "  <thead>\n",
       "    <tr style=\"text-align: right;\">\n",
       "      <th></th>\n",
       "      <th>user_id</th>\n",
       "      <th>month</th>\n",
       "      <th>quantity_calls</th>\n",
       "      <th>total_minutes</th>\n",
       "      <th>total_messages</th>\n",
       "      <th>total_gigabytes</th>\n",
       "      <th>city</th>\n",
       "      <th>tariff</th>\n",
       "      <th>messages_included</th>\n",
       "      <th>mb_per_month_included</th>\n",
       "      <th>minutes_included</th>\n",
       "      <th>rub_monthly_fee</th>\n",
       "      <th>rub_per_gb</th>\n",
       "      <th>rub_per_message</th>\n",
       "      <th>rub_per_minute</th>\n",
       "      <th>gb_per_month_included</th>\n",
       "    </tr>\n",
       "  </thead>\n",
       "  <tbody>\n",
       "    <tr>\n",
       "      <td>2524</td>\n",
       "      <td>1338</td>\n",
       "      <td>11</td>\n",
       "      <td>21</td>\n",
       "      <td>186</td>\n",
       "      <td>29</td>\n",
       "      <td>14</td>\n",
       "      <td>Москва</td>\n",
       "      <td>smart</td>\n",
       "      <td>50</td>\n",
       "      <td>15360</td>\n",
       "      <td>500</td>\n",
       "      <td>550</td>\n",
       "      <td>200</td>\n",
       "      <td>3</td>\n",
       "      <td>3</td>\n",
       "      <td>15</td>\n",
       "    </tr>\n",
       "  </tbody>\n",
       "</table>\n",
       "</div>"
      ],
      "text/plain": [
       "      user_id  month  quantity_calls  total_minutes  total_messages  \\\n",
       "2524     1338     11              21            186              29   \n",
       "\n",
       "      total_gigabytes    city tariff  messages_included  \\\n",
       "2524               14  Москва  smart                 50   \n",
       "\n",
       "      mb_per_month_included  minutes_included  rub_monthly_fee  rub_per_gb  \\\n",
       "2524                  15360               500              550         200   \n",
       "\n",
       "      rub_per_message  rub_per_minute  gb_per_month_included  \n",
       "2524                3               3                     15  "
      ]
     },
     "execution_count": 37,
     "metadata": {},
     "output_type": "execute_result"
    }
   ],
   "source": [
    "# добавим нужные для дальнейшего анализа колонки из таблиц users и tariffs \n",
    "services_total = calls_total.merge(messages_total, on=['user_id', 'month'], how = 'outer')\n",
    "services_total = services_total.merge(internet_total, on=['user_id', 'month'], how = 'outer')\n",
    "\n",
    "# переименование столбца tariff_name в таблице tariffs для возможности слияния его с колонкой tariff в других таблицах\n",
    "tariffs = tariffs.rename(columns = {'tariff_name':'tariff'})\n",
    "\n",
    "# добавим нужные для дальнейшего анализа колонки из таблиц users и tariffs \n",
    "services_total = services_total.merge(users, on='user_id', how = 'outer')\n",
    "services_total = services_total.merge(tariffs, on='tariff', how = 'outer')\n",
    "\n",
    "# удалим лишние колонки\n",
    "services_total.drop(['age', 'first_name', 'last_name', 'churn_date', 'reg_date'], axis='columns', inplace=True)\n",
    "\n",
    "# Заменим пропуски 0. Их появление связано с разной длинной исходных таблиц по звонкам, сообщениям и интернету\n",
    "services_total = services_total.fillna(0)\n",
    "\n",
    "# удалим строки (всего 2 штуки) с нулями в колонке month, чтобы не путаться при визуализации в дальнейшем\n",
    "services_total.drop(services_total.loc[services_total['month'] == 0].index, inplace=True)\n",
    "\n",
    "# применим цикл для изменения типа данных\n",
    "columns = ['month', 'quantity_calls', 'total_minutes', 'total_messages', 'total_gigabytes']\n",
    "for i in columns:\n",
    "    services_total[i] = services_total[i].astype(int)\n",
    "\n",
    "#services_total.sort_values(by='total_gigabytes', ascending=False).head(10).reset_index(drop=True)\n",
    "#services_total.info()\n",
    "services_total.sample()"
   ]
  },
  {
   "cell_type": "markdown",
   "metadata": {},
   "source": [
    "#### Добавление в сводную таблицу расчетов помесячного потребления сверх включенных в пакеты услуг"
   ]
  },
  {
   "cell_type": "code",
   "execution_count": 38,
   "metadata": {},
   "outputs": [
    {
     "data": {
      "text/html": [
       "<div>\n",
       "<style scoped>\n",
       "    .dataframe tbody tr th:only-of-type {\n",
       "        vertical-align: middle;\n",
       "    }\n",
       "\n",
       "    .dataframe tbody tr th {\n",
       "        vertical-align: top;\n",
       "    }\n",
       "\n",
       "    .dataframe thead th {\n",
       "        text-align: right;\n",
       "    }\n",
       "</style>\n",
       "<table border=\"1\" class=\"dataframe\">\n",
       "  <thead>\n",
       "    <tr style=\"text-align: right;\">\n",
       "      <th></th>\n",
       "      <th>user_id</th>\n",
       "      <th>month</th>\n",
       "      <th>quantity_calls</th>\n",
       "      <th>total_minutes</th>\n",
       "      <th>total_messages</th>\n",
       "      <th>total_gigabytes</th>\n",
       "      <th>city</th>\n",
       "      <th>tariff</th>\n",
       "      <th>messages_included</th>\n",
       "      <th>mb_per_month_included</th>\n",
       "      <th>minutes_included</th>\n",
       "      <th>rub_monthly_fee</th>\n",
       "      <th>rub_per_gb</th>\n",
       "      <th>rub_per_message</th>\n",
       "      <th>rub_per_minute</th>\n",
       "      <th>gb_per_month_included</th>\n",
       "      <th>extra_gigabytes</th>\n",
       "      <th>extra_messages</th>\n",
       "      <th>extra_minutes</th>\n",
       "    </tr>\n",
       "  </thead>\n",
       "  <tbody>\n",
       "    <tr>\n",
       "      <td>2648</td>\n",
       "      <td>1374</td>\n",
       "      <td>9</td>\n",
       "      <td>49</td>\n",
       "      <td>391</td>\n",
       "      <td>73</td>\n",
       "      <td>14</td>\n",
       "      <td>Махачкала</td>\n",
       "      <td>smart</td>\n",
       "      <td>50</td>\n",
       "      <td>15360</td>\n",
       "      <td>500</td>\n",
       "      <td>550</td>\n",
       "      <td>200</td>\n",
       "      <td>3</td>\n",
       "      <td>3</td>\n",
       "      <td>15</td>\n",
       "      <td>0</td>\n",
       "      <td>23</td>\n",
       "      <td>0</td>\n",
       "    </tr>\n",
       "  </tbody>\n",
       "</table>\n",
       "</div>"
      ],
      "text/plain": [
       "      user_id  month  quantity_calls  total_minutes  total_messages  \\\n",
       "2648     1374      9              49            391              73   \n",
       "\n",
       "      total_gigabytes       city tariff  messages_included  \\\n",
       "2648               14  Махачкала  smart                 50   \n",
       "\n",
       "      mb_per_month_included  minutes_included  rub_monthly_fee  rub_per_gb  \\\n",
       "2648                  15360               500              550         200   \n",
       "\n",
       "      rub_per_message  rub_per_minute  gb_per_month_included  extra_gigabytes  \\\n",
       "2648                3               3                     15                0   \n",
       "\n",
       "      extra_messages  extra_minutes  \n",
       "2648              23              0  "
      ]
     },
     "execution_count": 38,
     "metadata": {},
     "output_type": "execute_result"
    }
   ],
   "source": [
    "# рассчитаем количество расходов в рамках пакета и сверх него и добавим соответствующие колонки \n",
    "services_total['extra_gigabytes'] = services_total['total_gigabytes'] - services_total['gb_per_month_included'] \n",
    "services_total['extra_messages'] = services_total['total_messages'] - services_total['messages_included'] \n",
    "services_total['extra_minutes'] = services_total['total_minutes'] - services_total['minutes_included'] \n",
    "\n",
    "# заменим минусовые значения на ноль\n",
    "services_total.loc[services_total['extra_minutes'] < 0, 'extra_minutes'] = 0\n",
    "services_total.loc[services_total['extra_messages'] < 0, 'extra_messages'] = 0\n",
    "services_total.loc[services_total['extra_gigabytes'] < 0, 'extra_gigabytes'] = 0\n",
    "\n",
    "#services_total.sort_values(by='extra_minutes', ascending=False).head(10).reset_index(drop=True)\n",
    "#services_total.info()\n",
    "services_total.sample()"
   ]
  },
  {
   "cell_type": "markdown",
   "metadata": {},
   "source": [
    "Описание дополнительных данных:  \n",
    "- extra_minutes - количество минут, израсходованных в месяце сверх тарифного пакета;  \n",
    "- extra_messages - количество сообщений, израсходованных в месяце сверх тарифного пакета;   \n",
    "- extra_gigabytes - количество гигабайт, израсходованных в месяце сверх тарифного пакета. "
   ]
  },
  {
   "cell_type": "markdown",
   "metadata": {},
   "source": [
    "### Расчет помесячной выручки с каждого пользователя"
   ]
  },
  {
   "cell_type": "markdown",
   "metadata": {},
   "source": [
    "Расчитаем общую помесяную выручку за минуты разговора, сообщения и гигабайты и добавим в сводную таблицу столбец с ее значениями."
   ]
  },
  {
   "cell_type": "code",
   "execution_count": 39,
   "metadata": {},
   "outputs": [],
   "source": [
    "services_total['monthly_revenue'] = ( (services_total['extra_minutes'] * services_total['rub_per_minute']) \n",
    "                                     + (services_total['extra_messages'] * services_total['rub_per_message'])\n",
    "                                     + (services_total['extra_gigabytes'] * services_total['rub_per_gb']) \n",
    "                                     + services_total['rub_monthly_fee']\n",
    "                                    )"
   ]
  },
  {
   "cell_type": "markdown",
   "metadata": {},
   "source": [
    "Описание дополнительных данных:  \n",
    "- monthly_revenue - помесячная выручка с каждого пользователя."
   ]
  },
  {
   "cell_type": "markdown",
   "metadata": {},
   "source": [
    "### Финальная таблица для анализа final_data"
   ]
  },
  {
   "cell_type": "markdown",
   "metadata": {},
   "source": [
    "Создадим финальную таблицу final_data, оставив только нужные для анализа колонки"
   ]
  },
  {
   "cell_type": "code",
   "execution_count": 40,
   "metadata": {},
   "outputs": [
    {
     "data": {
      "text/html": [
       "<div>\n",
       "<style scoped>\n",
       "    .dataframe tbody tr th:only-of-type {\n",
       "        vertical-align: middle;\n",
       "    }\n",
       "\n",
       "    .dataframe tbody tr th {\n",
       "        vertical-align: top;\n",
       "    }\n",
       "\n",
       "    .dataframe thead th {\n",
       "        text-align: right;\n",
       "    }\n",
       "</style>\n",
       "<table border=\"1\" class=\"dataframe\">\n",
       "  <thead>\n",
       "    <tr style=\"text-align: right;\">\n",
       "      <th></th>\n",
       "      <th>user_id</th>\n",
       "      <th>tariff</th>\n",
       "      <th>city</th>\n",
       "      <th>month</th>\n",
       "      <th>quantity_calls</th>\n",
       "      <th>total_minutes</th>\n",
       "      <th>extra_minutes</th>\n",
       "      <th>total_messages</th>\n",
       "      <th>extra_messages</th>\n",
       "      <th>total_gigabytes</th>\n",
       "      <th>extra_gigabytes</th>\n",
       "      <th>monthly_revenue</th>\n",
       "    </tr>\n",
       "  </thead>\n",
       "  <tbody>\n",
       "    <tr>\n",
       "      <td>888</td>\n",
       "      <td>1458</td>\n",
       "      <td>ultra</td>\n",
       "      <td>Барнаул</td>\n",
       "      <td>11</td>\n",
       "      <td>73</td>\n",
       "      <td>629</td>\n",
       "      <td>0</td>\n",
       "      <td>5</td>\n",
       "      <td>0</td>\n",
       "      <td>15</td>\n",
       "      <td>0</td>\n",
       "      <td>1950</td>\n",
       "    </tr>\n",
       "  </tbody>\n",
       "</table>\n",
       "</div>"
      ],
      "text/plain": [
       "     user_id tariff     city  month  quantity_calls  total_minutes  \\\n",
       "888     1458  ultra  Барнаул     11              73            629   \n",
       "\n",
       "     extra_minutes  total_messages  extra_messages  total_gigabytes  \\\n",
       "888              0               5               0               15   \n",
       "\n",
       "     extra_gigabytes  monthly_revenue  \n",
       "888                0             1950  "
      ]
     },
     "execution_count": 40,
     "metadata": {},
     "output_type": "execute_result"
    }
   ],
   "source": [
    "final_data = services_total[['user_id', 'tariff', 'city', 'month', 'quantity_calls', 'total_minutes', 'extra_minutes', 'total_messages', 'extra_messages', 'total_gigabytes', 'extra_gigabytes', 'monthly_revenue']]\n",
    "\n",
    "#final_data.info()\n",
    "final_data.sample()"
   ]
  },
  {
   "cell_type": "markdown",
   "metadata": {},
   "source": [
    "### Вывод  \n",
    "  \n",
    "1. Был произведен расчет помесячного потребления услуг пользователями и создана сводная таблица services_total с его результатами.  \n",
    "2. Был произведен расчет помесячной выручки с каждого пользователя и в таблицу services_total была добавлена колонка monthly_revenue с его результатами.  \n",
    "3. Была создана финальная таблица для анализа final_data."
   ]
  },
  {
   "cell_type": "markdown",
   "metadata": {},
   "source": [
    "## Исследовательский анализ данных"
   ]
  },
  {
   "cell_type": "markdown",
   "metadata": {},
   "source": [
    "### Изучение использования услуг тарифов\n",
    "\n",
    "Изучим сколько минут разговора, сообщений и какой объём интернет-трафика требуется пользователям каждого тарифа в месяц. Для этого посчитаем средние значения, дисперсию и стандартное отклонение, построим  боксплоты и гистограммы плотности, опишем распределения."
   ]
  },
  {
   "cell_type": "code",
   "execution_count": 41,
   "metadata": {},
   "outputs": [],
   "source": [
    "# создадим две переменнные, соответствующие срезам двух тарифов\n",
    "smart = final_data.query('tariff == \"smart\"')\n",
    "ultra = final_data.query('tariff == \"ultra\"')\n",
    "#ultra.info()"
   ]
  },
  {
   "cell_type": "markdown",
   "metadata": {},
   "source": [
    "Для автоматизации и повышения удобства восприятия информации определим функцию double_plot()."
   ]
  },
  {
   "cell_type": "code",
   "execution_count": 42,
   "metadata": {},
   "outputs": [],
   "source": [
    "'''\n",
    "Функция double_plot() строит распределения по двум датасетам на одном графике. \n",
    "Принимает три аргумента:\n",
    " - df_1 - имена первого датасета;\n",
    " - df_2 - имена второго датасета;\n",
    " - name - название параметра, для которого строится график.\n",
    "'''\n",
    "\n",
    "def double_plot(df_1, df_2, name):\n",
    "    try:\n",
    "        fig = plt.subplots(figsize = (12,5))\n",
    "        plt.xlabel(name)\n",
    "        plt.ylabel('плотность частоты')\n",
    "        plt.title(f\"{name}. Сравнение тарифов Smart и Ultra\")\n",
    "        sns.kdeplot(df_1, shade=True, label=\"Тариф Smart\")\n",
    "        sns.kdeplot(df_2, shade=True, label=\"Тариф Ultra\")\n",
    "        plt.legend()\n",
    "    except:\n",
    "        print('апшипка')"
   ]
  },
  {
   "cell_type": "markdown",
   "metadata": {},
   "source": [
    "#### Использование минут разговора"
   ]
  },
  {
   "cell_type": "code",
   "execution_count": 43,
   "metadata": {},
   "outputs": [
    {
     "name": "stdout",
     "output_type": "stream",
     "text": [
      "Тариф Smart. Минуты. Основная статистика распределения:\n",
      "\n",
      "count    2221\n",
      "mean      419\n",
      "std       188\n",
      "min         2\n",
      "25%       285\n",
      "50%       423\n",
      "75%       546\n",
      "max      1435\n",
      "Name: total_minutes, dtype: int64 \n",
      "\n",
      "Дисперсия: 35718 \n",
      "\n",
      "\n",
      "Тариф Ultra. Минуты. Основная статистика распределения:\n",
      "\n",
      "count     947\n",
      "mean      547\n",
      "std       305\n",
      "min         1\n",
      "25%       311\n",
      "50%       529\n",
      "75%       758\n",
      "max      1673\n",
      "Name: total_minutes, dtype: int64 \n",
      "\n",
      "Дисперсия: 93338\n"
     ]
    }
   ],
   "source": [
    "# срезы без нулевых значений\n",
    "minutes_s = smart.query('total_minutes != 0')\n",
    "minutes_u = ultra.query('total_minutes != 0')\n",
    "\n",
    "print('Тариф Smart. Минуты. Основная статистика распределения:\\n')\n",
    "print(minutes_s['total_minutes'].describe().astype(int), '\\n')\n",
    "print('Дисперсия:', np.var(minutes_s['total_minutes'], ddof=1).astype(int), '\\n\\n')\n",
    "\n",
    "print('Тариф Ultra. Минуты. Основная статистика распределения:\\n')\n",
    "print(minutes_u['total_minutes'].describe().astype(int), '\\n')\n",
    "print('Дисперсия:', np.var(minutes_u['total_minutes'], ddof=1).astype(int))"
   ]
  },
  {
   "cell_type": "code",
   "execution_count": 44,
   "metadata": {},
   "outputs": [
    {
     "data": {
      "text/plain": [
       "(0, 1450)"
      ]
     },
     "execution_count": 44,
     "metadata": {},
     "output_type": "execute_result"
    },
    {
     "data": {
      "image/png": "[encoded data removed]",
      "text/plain": [
       "<Figure size 936x360 with 2 Axes>"
      ]
     },
     "metadata": {
      "needs_background": "light"
     },
     "output_type": "display_data"
    }
   ],
   "source": [
    "# два боксплота на одном уровне\n",
    "fig, axes = plt.subplots(1,2, figsize = (13,5))\n",
    "\n",
    "minutes_s.boxplot('total_minutes', ax=axes[0]) \n",
    "axes[0].set_title('Минуты. Тариф Smart')\n",
    "axes[0].set_ylabel('минуты разговора')\n",
    "axes[0].set_ylim([0, 950])\n",
    "\n",
    "minutes_u.boxplot('total_minutes', ax=axes[1]) \n",
    "axes[1].set_title('Минуты. Тариф Ultra')\n",
    "axes[1].set_ylabel('минуты разговора')\n",
    "axes[1].set_ylim([0, 1450])"
   ]
  },
  {
   "cell_type": "code",
   "execution_count": 45,
   "metadata": {},
   "outputs": [
    {
     "data": {
      "image/png": "[encoded data removed]",
      "text/plain": [
       "<Figure size 864x360 with 1 Axes>"
      ]
     },
     "metadata": {
      "needs_background": "light"
     },
     "output_type": "display_data"
    }
   ],
   "source": [
    "# гистограммы плотности на одном графике с помощью выше определенной функции \n",
    "double_plot(minutes_s['total_minutes'], minutes_u['total_minutes'], 'Минуты')"
   ]
  },
  {
   "cell_type": "markdown",
   "metadata": {},
   "source": [
    "Основная часть значений тарифа \"Smart\" располагается в диапазоне от 230 до 600 минут, медиана: 423, среднее: 419, стандартное отклонение: 188, дисперсия: 35718.   \n",
    "  \n",
    "Основная часть значений тарифа \"Ultra\" располагается в диапазоне от 240 до 850 минут, медиана: 529, среднее: 547, стандартное отклонение: 305, дисперсия: 93338.  \n",
    "  \n",
    "Пользователи тарифа \"Ultra\" отличаются большим разнообразием использования минут разговора, в отличие от пользователей тарифа \"Smart\", основная плотность минут которого выраженно группируется около среднего значения. Несмотря на это ни один пользователь Ultra не использовал пакет минут (3000 мин.) полностью, а большинство не используют его даже на треть. Пользователи же Smart, напротив, используют большую часть пакета (500 мин.), а более 25% из них покупают дополнительные минуты."
   ]
  },
  {
   "cell_type": "markdown",
   "metadata": {},
   "source": [
    "#### Использование сообщений"
   ]
  },
  {
   "cell_type": "code",
   "execution_count": 46,
   "metadata": {},
   "outputs": [
    {
     "name": "stdout",
     "output_type": "stream",
     "text": [
      "Тариф Smart. Сообщения. Основная статистика распределения:\n",
      "\n",
      "count    1922\n",
      "mean       38\n",
      "std        26\n",
      "min         1\n",
      "25%        17\n",
      "50%        34\n",
      "75%        55\n",
      "max       143\n",
      "Name: total_messages, dtype: int64 \n",
      "\n",
      "Дисперсия: 717 \n",
      "\n",
      "\n",
      "Тариф Ultra. Сообщения. Основная статистика распределения:\n",
      "\n",
      "count    795\n",
      "mean      61\n",
      "std       45\n",
      "min        1\n",
      "25%       24\n",
      "50%       51\n",
      "75%       87\n",
      "max      224\n",
      "Name: total_messages, dtype: int64 \n",
      "\n",
      "Дисперсия: 2109\n"
     ]
    }
   ],
   "source": [
    "# срезы без нулевых значений\n",
    "messages_s = smart.query('total_messages != 0')\n",
    "messages_u = ultra.query('total_messages != 0')\n",
    "\n",
    "print('Тариф Smart. Сообщения. Основная статистика распределения:\\n')\n",
    "print(messages_s['total_messages'].describe().astype(int), '\\n')\n",
    "print('Дисперсия:', np.var(messages_s['total_messages'], ddof=1).astype(int), '\\n\\n')\n",
    "\n",
    "print('Тариф Ultra. Сообщения. Основная статистика распределения:\\n')\n",
    "print(messages_u['total_messages'].describe().astype(int), '\\n')\n",
    "print('Дисперсия:', np.var(messages_u['total_messages'], ddof=1).astype(int))"
   ]
  },
  {
   "cell_type": "code",
   "execution_count": 47,
   "metadata": {},
   "outputs": [
    {
     "data": {
      "text/plain": [
       "(0, 190)"
      ]
     },
     "execution_count": 47,
     "metadata": {},
     "output_type": "execute_result"
    },
    {
     "data": {
      "image/png": "[encoded data removed]",
      "text/plain": [
       "<Figure size 936x360 with 2 Axes>"
      ]
     },
     "metadata": {
      "needs_background": "light"
     },
     "output_type": "display_data"
    }
   ],
   "source": [
    "fig, axes = plt.subplots(1,2, figsize = (13,5))\n",
    "\n",
    "messages_s.boxplot('total_messages', ax=axes[0]) \n",
    "axes[0].set_title('Сообщения. Тариф Smart')\n",
    "axes[0].set_ylabel('сообщения')\n",
    "axes[0].set_ylim([0, 115])\n",
    "\n",
    "messages_u.boxplot('total_messages', ax=axes[1]) \n",
    "axes[1].set_title('Сообщения. Тариф Ultra')\n",
    "axes[1].set_ylabel('сообщения')\n",
    "axes[1].set_ylim([0, 190])"
   ]
  },
  {
   "cell_type": "code",
   "execution_count": 48,
   "metadata": {},
   "outputs": [
    {
     "data": {
      "image/png": "[encoded data removed]",
      "text/plain": [
       "<Figure size 864x360 with 1 Axes>"
      ]
     },
     "metadata": {
      "needs_background": "light"
     },
     "output_type": "display_data"
    }
   ],
   "source": [
    "double_plot(messages_s['total_messages'], messages_u['total_messages'], 'Сообщения')"
   ]
  },
  {
   "cell_type": "markdown",
   "metadata": {},
   "source": [
    "Основная часть значений тарифа \"Smart\" располагается в диапазоне от 10 до 65 сообщений, медиана: 34, среднее: 38, стандартное отклонение: 26, дисперсия: 717.   \n",
    "  \n",
    "Основная часть значений тарифа \"Ultra\" располагается в диапазоне от 15 до 105 минут, медиана: 51, среднее: 61, стандартное отклонение: 45, дисперсия: 2109.  \n",
    "  \n",
    "Пользователи тарифа \"Ultra\" отличаются большим разнообразием потребностей в количестве сообщений в сравнении с пользователями тарифа \"Smart\". Распределения обоих тарифов скошены вправо, что указывает на большое количество выбросов. Несмотря на это ни один пользователь Ultra не использовал пакет сообщений (1000 в месяц) полностью, а большинство не используют его даже на четверть. Пользователи же Smart, напротив, используют большую часть пакета (50 сообщений в месяц), а более 25% из них покупают дополнительные сообщения."
   ]
  },
  {
   "cell_type": "markdown",
   "metadata": {},
   "source": [
    "#### Использование интернет-трафика"
   ]
  },
  {
   "cell_type": "code",
   "execution_count": 49,
   "metadata": {},
   "outputs": [
    {
     "name": "stdout",
     "output_type": "stream",
     "text": [
      "Тариф Smart. Гигабайты. Основная статистика распределения:\n",
      "\n",
      "count    2227\n",
      "mean       16\n",
      "std         5\n",
      "min         1\n",
      "25%        13\n",
      "50%        17\n",
      "75%        20\n",
      "max        38\n",
      "Name: total_gigabytes, dtype: int64 \n",
      "\n",
      "Дисперсия: 32 \n",
      "\n",
      "\n",
      "Тариф Ultra. Гигабайты. Основная статистика распределения:\n",
      "\n",
      "count    974\n",
      "mean      19\n",
      "std        9\n",
      "min        1\n",
      "25%       12\n",
      "50%       19\n",
      "75%       27\n",
      "max       49\n",
      "Name: total_gigabytes, dtype: int64 \n",
      "\n",
      "Дисперсия: 94\n"
     ]
    }
   ],
   "source": [
    "# срезы без нулевых значений\n",
    "gigabytes_s = smart.query('total_gigabytes != 0')\n",
    "gigabytes_u = ultra.query('total_gigabytes != 0')\n",
    "\n",
    "print('Тариф Smart. Гигабайты. Основная статистика распределения:\\n')\n",
    "print(gigabytes_s['total_gigabytes'].describe().astype(int), '\\n')\n",
    "print('Дисперсия:', np.var(gigabytes_s['total_gigabytes'], ddof=1).astype(int), '\\n\\n')\n",
    "\n",
    "print('Тариф Ultra. Гигабайты. Основная статистика распределения:\\n')\n",
    "print(gigabytes_u['total_gigabytes'].describe().astype(int), '\\n')\n",
    "print('Дисперсия:', np.var(gigabytes_u['total_gigabytes'], ddof=1).astype(int))"
   ]
  },
  {
   "cell_type": "code",
   "execution_count": 50,
   "metadata": {},
   "outputs": [
    {
     "data": {
      "text/plain": [
       "(0, 50)"
      ]
     },
     "execution_count": 50,
     "metadata": {},
     "output_type": "execute_result"
    },
    {
     "data": {
      "image/png": "[encoded data removed]",
      "text/plain": [
       "<Figure size 936x360 with 2 Axes>"
      ]
     },
     "metadata": {
      "needs_background": "light"
     },
     "output_type": "display_data"
    }
   ],
   "source": [
    "fig, axes = plt.subplots(1,2, figsize = (13,5))\n",
    "\n",
    "gigabytes_s.boxplot('total_gigabytes', ax=axes[0]) \n",
    "axes[0].set_title('Гигабайты. Тариф Smart')\n",
    "axes[0].set_ylabel('гигабайты')\n",
    "axes[0].set_ylim([0,31])\n",
    "\n",
    "gigabytes_u.boxplot('total_gigabytes', ax=axes[1]) \n",
    "axes[1].set_title('Гигабайты. Тариф Ultra')\n",
    "axes[1].set_ylabel('гигабайты')\n",
    "axes[1].set_ylim([0, 50])"
   ]
  },
  {
   "cell_type": "code",
   "execution_count": 51,
   "metadata": {},
   "outputs": [
    {
     "data": {
      "image/png": "[encoded data removed]",
      "text/plain": [
       "<Figure size 864x360 with 1 Axes>"
      ]
     },
     "metadata": {
      "needs_background": "light"
     },
     "output_type": "display_data"
    }
   ],
   "source": [
    "double_plot(gigabytes_s['total_gigabytes'], gigabytes_u['total_gigabytes'], 'Гигабайты')"
   ]
  },
  {
   "cell_type": "markdown",
   "metadata": {},
   "source": [
    "Основная часть значений тарифа \"Smart\" располагается в диапазоне от 12 до 22 гигабайт, медиана: 17, среднее: 16, стандартное отклонение: 5, дисперсия: 32.   \n",
    "  \n",
    "Основная часть значений тарифа \"Ultra\" располагается в диапазоне от 10 до 32 гигабайт, медиана: 19, среднее: 19, стандартное отклонение: 9, дисперсия: 94.  \n",
    "  \n",
    "Пользователи тарифа \"Ultra\" отличаются большим разнообразием потребностей в количестве гигабайт в сравнении с пользователями тарифа \"Smart\". Распределения обоих тарифов скошены вправо, что указывает на большое количество выбросов. Более 75% пользователей Ultra хватает интернет-трафика, включенного в пакет (30 гигабайт в месяц). Объемы потребления интернет-трафика выше на 10 гигабайт в основной части распределения, чем у пользователей тарифа \"Smart\".  \n",
    "Меньше 50% пользователей Smart хватает интернет-трафика, включенного в пакет (15 гигабайт в месяц), а более 25% из них покупают дополнительные гигабайты."
   ]
  },
  {
   "cell_type": "markdown",
   "metadata": {},
   "source": [
    "### Сравнение выручки и количества пользователей по тарифам\n",
    "  \n",
    "Определим какой из двух тарифов перспективнее, изучив их медианную доходность в 2018 год, а также изучив изменение количества пользователей на протяжении года. Сравнивать абсолютную выручку мы не можем по той причине, что мы имеем дело с выборками, а не генеральными совокупностями. И эти выборки сильно различаются по количеству пользователей."
   ]
  },
  {
   "cell_type": "markdown",
   "metadata": {},
   "source": [
    "#### Сравнение медианной выручки "
   ]
  },
  {
   "cell_type": "code",
   "execution_count": 68,
   "metadata": {},
   "outputs": [
    {
     "name": "stdout",
     "output_type": "stream",
     "text": [
      "Cоотношение медианной выручки по тарифам.\n"
     ]
    },
    {
     "data": {
      "text/plain": [
       "tariff\n",
       "smart    1038\n",
       "ultra    1950\n",
       "Name: monthly_revenue, dtype: int64"
      ]
     },
     "metadata": {},
     "output_type": "display_data"
    },
    {
     "data": {
      "image/png": "[encoded data removed]",
      "text/plain": [
       "<Figure size 360x360 with 1 Axes>"
      ]
     },
     "metadata": {},
     "output_type": "display_data"
    }
   ],
   "source": [
    "# лучше всего для визуализации долей подойдет круговая диаграмма\n",
    "# прежде сгруппируем данные по тарифам и посчитаем суммы выручки для каждого\n",
    "print('Cоотношение медианной выручки по тарифам.')\n",
    "display(final_data.groupby('tariff')['monthly_revenue'].median().astype(int))\n",
    "final_data.groupby('tariff')['monthly_revenue']\\\n",
    "    .median().plot.pie(autopct='%.1f', fontsize=12, figsize=(5, 5))\n",
    "plt.show()"
   ]
  },
  {
   "cell_type": "markdown",
   "metadata": {},
   "source": [
    "Медианная выручка пользователей тарифа Ultra составила 1950 руб. против 1038 руб. у пользователей тарифа Smart."
   ]
  },
  {
   "cell_type": "markdown",
   "metadata": {},
   "source": [
    "#### Сравнение медианной выручки по месяцам"
   ]
  },
  {
   "cell_type": "code",
   "execution_count": 69,
   "metadata": {},
   "outputs": [
    {
     "data": {
      "text/plain": [
       "<function matplotlib.pyplot.legend(*args, **kwargs)>"
      ]
     },
     "execution_count": 69,
     "metadata": {},
     "output_type": "execute_result"
    },
    {
     "data": {
      "image/png": "[encoded data removed]",
      "text/plain": [
       "<Figure size 720x360 with 1 Axes>"
      ]
     },
     "metadata": {
      "needs_background": "light"
     },
     "output_type": "display_data"
    }
   ],
   "source": [
    "# сводная таблица месяца и ежемесячной выручки по тарифу smart\n",
    "smart_year = smart.pivot_table(index='month', values='monthly_revenue', aggfunc='median')\n",
    "# сводная таблица месяца и ежемесячной выручки по тарифу ultra\n",
    "ultra_year = ultra.pivot_table(index='month', values='monthly_revenue', aggfunc='median')\n",
    "\n",
    "# объединенная таблица двух сводных таблиц\n",
    "users_year = smart_year.merge(ultra_year, on='month', how='left')\n",
    "\n",
    "# переименование столбцов для удобства восприятия на графике\n",
    "users_year.columns = ['Выручка Smart', 'Выручка Ultra']\n",
    "\n",
    "# столбчатая диагарамма по сводной таблице \n",
    "users_year.plot(grid=True, figsize=(10, 5))\n",
    "plt.xlabel('месяц')\n",
    "plt.ylabel('медианная выручка в рублях')\n",
    "plt.title('Уровень медианной выручки по месяцам')\n",
    "plt.legend"
   ]
  },
  {
   "cell_type": "markdown",
   "metadata": {},
   "source": [
    "На графике видно, что медианная выручка от тарифа Ultra отличается абсолютной стабильностью в отличии от колеблющейся от месяца к месяцу выручки от тарифа Smart."
   ]
  },
  {
   "cell_type": "markdown",
   "metadata": {},
   "source": [
    "#### Сравнение количества пользователей по месяцам"
   ]
  },
  {
   "cell_type": "code",
   "execution_count": 55,
   "metadata": {},
   "outputs": [
    {
     "data": {
      "text/plain": [
       "<function matplotlib.pyplot.legend(*args, **kwargs)>"
      ]
     },
     "execution_count": 55,
     "metadata": {},
     "output_type": "execute_result"
    },
    {
     "data": {
      "image/png": "[encoded data removed]",
      "text/plain": [
       "<Figure size 720x360 with 1 Axes>"
      ]
     },
     "metadata": {
      "needs_background": "light"
     },
     "output_type": "display_data"
    }
   ],
   "source": [
    "# сводная таблица месяца и количества пользователей по тарифу smart\n",
    "smart_year = smart.pivot_table(index='month', values='monthly_revenue', aggfunc='count')\n",
    "# сводная таблица месяца и количества пользователей по тарифу ultra\n",
    "ultra_year = ultra.pivot_table(index='month', values='monthly_revenue', aggfunc='count')\n",
    "\n",
    "# объединенная таблица двух сводных таблиц\n",
    "users_year = smart_year.merge(ultra_year, on='month', how='left')\n",
    "\n",
    "# переименование столбцов для удобства восприятия на графике\n",
    "users_year.columns = ['Пользователи Smart', 'Пользователи Ultra']\n",
    "\n",
    "# столбчатая диагарамма по сводной таблице \n",
    "users_year.plot(grid=True, figsize=(10, 5))\n",
    "plt.xlabel('месяц')\n",
    "plt.ylabel('количество пользователей')\n",
    "plt.title('Количество пользователей по месяцам')\n",
    "plt.legend"
   ]
  },
  {
   "cell_type": "code",
   "execution_count": 56,
   "metadata": {
    "scrolled": true
   },
   "outputs": [],
   "source": [
    "# просмотр количества пользователей по конкретному месяцу\n",
    "\n",
    "#len(smart.query('month == 12'))\n",
    "#len(ultra.query('month == 12'))"
   ]
  },
  {
   "cell_type": "markdown",
   "metadata": {},
   "source": [
    "За 2018 год количество новых пользователей тарифа Smart выросло в 10 раз (34 человек до 337), а тарифа Ultra в 15 раз ( с 9 до 139 человек)."
   ]
  },
  {
   "cell_type": "markdown",
   "metadata": {},
   "source": [
    "### Выводы\n",
    "  \n",
    "1. 75% пользователей тарифа \"Smart\" хватает включенных в пакеты минут и сообщений. И меньше 50% пользователей хватает включенных в пакет гигабайтов. Можно предположить, что этот тариф нашел свою целевую аудиторию. Его выбирают люди, которые ориентируются прежде всего на меньшую стоимость тарифа и не имеют больших потребностей в использовании мобильного интернета. \n",
    "2. Большинство пользователей тарифа \"Ultra\" используют меньше 1/3 пакета минут и меньше 1/4 пакета сообщений. Более 75% пользователей хватает включенных в пакет гигабайтов.  Из этих данных можно предположить, что этот тариф также нашел свою целевую аудиторию. Его выбирают люди, которым интересна прежде всего услуга по использованию интернета.  \n",
    "3. Медианная выручка пользователей тарифа Ultra больше, чем у пользователей Smart (1950 руб. против 1038 руб.).    \n",
    "4. Рост количества новых пользователей Ultra значительно опережает таковой у тарифа Smart. За 2018 год количество новых пользователей тарифа Smart выросло в 10 раз (34 человек до 337), а тарифа Ultra в 15 раз (с 9 до 139 человек)."
   ]
  },
  {
   "cell_type": "markdown",
   "metadata": {},
   "source": [
    "## Статистический анализ данных\n",
    "  \n",
    "Проверим гипотезы:  \n",
    "- средняя выручка пользователей тарифов «Ультра» и «Смарт» различается;  \n",
    "- средняя выручка пользователей из Москвы отличается от выручки пользователей из других регионов.  "
   ]
  },
  {
   "cell_type": "markdown",
   "metadata": {},
   "source": [
    "### Анализ средней выручки пользователей тарифов «Ультра» и «Смарт»"
   ]
  },
  {
   "cell_type": "markdown",
   "metadata": {},
   "source": [
    "Посмотрим статистику по колонке monthly_revenue (среднемесячная выручка по каждому пользователю)."
   ]
  },
  {
   "cell_type": "code",
   "execution_count": 57,
   "metadata": {},
   "outputs": [
    {
     "name": "stdout",
     "output_type": "stream",
     "text": [
      "Среднемесячная выручка. Основная статистика распределения.\n",
      "\n",
      "Тариф Smart:\n",
      "\n",
      "count    2229\n",
      "mean     1294\n",
      "std       820\n",
      "min       550\n",
      "25%       550\n",
      "50%      1038\n",
      "75%      1750\n",
      "max      6770\n",
      "Name: monthly_revenue, dtype: int64 \n",
      "\n",
      "Дисперсия: 673931 \n",
      "\n",
      "Тариф Ultra:\n",
      "\n",
      "count     985\n",
      "mean     2071\n",
      "std       378\n",
      "min      1950\n",
      "25%      1950\n",
      "50%      1950\n",
      "75%      1950\n",
      "max      4800\n",
      "Name: monthly_revenue, dtype: int64 \n",
      "\n",
      "Дисперсия: 143491\n"
     ]
    }
   ],
   "source": [
    "print('Среднемесячная выручка. Основная статистика распределения.\\n')\n",
    "print('Тариф Smart:\\n')\n",
    "print(smart['monthly_revenue'].describe().astype(int), '\\n')\n",
    "print('Дисперсия:', np.var(smart['monthly_revenue'], ddof=1).astype(int), '\\n')\n",
    "\n",
    "print('Тариф Ultra:\\n')\n",
    "print(ultra['monthly_revenue'].describe().astype(int), '\\n')\n",
    "print('Дисперсия:', np.var(ultra['monthly_revenue'], ddof=1).astype(int))"
   ]
  },
  {
   "cell_type": "markdown",
   "metadata": {},
   "source": [
    "Выборки имеют разные дисперсии и более, чем в 2 раза различаются по размеру. Учтем это при проведении t-теста.  \n",
    "  \n",
    "Сформулируем статистические гипотезы из положения о том, что нулевая гипотеза всегда формулируется так, чтобы использовать знак равенства:  \n",
    "  \n",
    "H0 — средняя выручка пользователей тарифов «Ультра» и «Смарт» равна.  \n",
    "H1 — средняя выручка пользователей тарифов «Ультра» и «Смарт» различается.  "
   ]
  },
  {
   "cell_type": "code",
   "execution_count": 58,
   "metadata": {},
   "outputs": [
    {
     "name": "stdout",
     "output_type": "stream",
     "text": [
      "p-значение: 2.7240946993530856e-246\n",
      "Отвергаем нулевую гипотезу. Средняя выручка пользователей тарифов «Ультра» и «Смарт» различается.\n"
     ]
    }
   ],
   "source": [
    "# критический уровень статистической значимости зададим 5% поскольку у нас двусторонняя гипотеза и \n",
    "# вероятность отклониться от центра распределения в каждую сторону уменьшится до 2,5% \n",
    "# и это стандартная величина, обычно использующаяся в t-тесте\n",
    "alpha = .05 \n",
    "\n",
    "# поскольку у нас две независимые выборки, используем метод st.ttest_ind()\n",
    "# equal_var=False - дисперсии выборок не равны\n",
    "results = st.ttest_ind(\n",
    "    smart['monthly_revenue'], \n",
    "    ultra['monthly_revenue'], \n",
    "    equal_var=False) \n",
    "\n",
    "print('p-значение:', results.pvalue)\n",
    "\n",
    "# сравним получившееся p-значение с заданным уровнем статистической значимости\n",
    "if results.pvalue < alpha:\n",
    "    print('Отвергаем нулевую гипотезу. Средняя выручка пользователей тарифов «Ультра» и «Смарт» различается.')\n",
    "else:\n",
    "    print('Не получилось отвергнуть нулевую гипотезу. Средняя выручка пользователей тарифов «Ультра» и «Смарт» равна')"
   ]
  },
  {
   "cell_type": "markdown",
   "metadata": {},
   "source": [
    "### Анализ средней выручки пользователей из Москвы и других регионов"
   ]
  },
  {
   "cell_type": "markdown",
   "metadata": {},
   "source": [
    "Создадим переменные со срезами данных по Москве и по другим регионам."
   ]
  },
  {
   "cell_type": "code",
   "execution_count": 59,
   "metadata": {},
   "outputs": [],
   "source": [
    "moscow = final_data.query('city == \"Москва\"')\n",
    "regions = final_data.query('city != \"Москва\"')"
   ]
  },
  {
   "cell_type": "code",
   "execution_count": 60,
   "metadata": {},
   "outputs": [
    {
     "name": "stdout",
     "output_type": "stream",
     "text": [
      "Среднемесячная выручка. Основная статистика распределения.\n",
      "\n",
      "Пользователи из Москвы:\n",
      "\n",
      "count     611\n",
      "mean     1550\n",
      "std       752\n",
      "min       550\n",
      "25%       798\n",
      "50%      1750\n",
      "75%      1950\n",
      "max      5321\n",
      "Name: monthly_revenue, dtype: int64 \n",
      "\n",
      "Дисперсия: 566183 \n",
      "\n",
      "Пользователи из других регионов:\n",
      "\n",
      "count    2603\n",
      "mean     1528\n",
      "std       810\n",
      "min       550\n",
      "25%       750\n",
      "50%      1587\n",
      "75%      1950\n",
      "max      6770\n",
      "Name: monthly_revenue, dtype: int64 \n",
      "\n",
      "Дисперсия: 656766\n"
     ]
    }
   ],
   "source": [
    "print('Среднемесячная выручка. Основная статистика распределения.\\n')\n",
    "print('Пользователи из Москвы:\\n')\n",
    "print(moscow['monthly_revenue'].describe().astype(int), '\\n')\n",
    "print('Дисперсия:', np.var(moscow['monthly_revenue'], ddof=1).astype(int), '\\n')\n",
    "\n",
    "print('Пользователи из других регионов:\\n')\n",
    "print(regions['monthly_revenue'].describe().astype(int), '\\n')\n",
    "print('Дисперсия:', np.var(regions['monthly_revenue'], ddof=1).astype(int))"
   ]
  },
  {
   "cell_type": "markdown",
   "metadata": {},
   "source": [
    "Выборки имеют разные дисперсии и более, чем в 4 раза различаются по размеру. Учтем это при проведении t-теста.  \n",
    "  \n",
    "Сформулируем статистические гипотезы из положения о том, что нулевая гипотеза всегда формулируется так, чтобы использовать знак равенства:   \n",
    "  \n",
    "H0 — средняя выручка пользователей из Москвы и из других регионов равна.  \n",
    "H1 — средняя выручка пользователей  из Москвы и из других регионов различается.  "
   ]
  },
  {
   "cell_type": "code",
   "execution_count": 61,
   "metadata": {},
   "outputs": [
    {
     "name": "stdout",
     "output_type": "stream",
     "text": [
      "p-значение: 0.5126564657748214\n",
      "Не получилось отвергнуть нулевую гипотезу. Средняя выручка пользователей из Москвы и из других регионов равна.\n"
     ]
    }
   ],
   "source": [
    "# критический уровень статистической значимости зададим 5% поскольку у нас двусторонняя гипотеза и \n",
    "# вероятность отклониться от центра распределения в каждую сторону уменьшится до 2,5% \n",
    "# и это стандартная величина, обычно использующаяся в t-тесте\n",
    "alpha = .05 \n",
    "\n",
    "# поскольку у нас две независимые выборки, используем метод st.ttest_ind()\n",
    "# equal_var=False - дисперсии выборок не равны\n",
    "results = st.ttest_ind(\n",
    "    moscow['monthly_revenue'], \n",
    "    regions['monthly_revenue'], \n",
    "    equal_var=False) \n",
    "\n",
    "print('p-значение:', results.pvalue)\n",
    "\n",
    "# сравним получившееся p-значение с заданным уровнем статистической значимости\n",
    "if results.pvalue < alpha:\n",
    "    print('Отвергаем нулевую гипотезу. Средняя выручка пользователей из Москвы и из других регионов различается.')\n",
    "else:\n",
    "    print('Не получилось отвергнуть нулевую гипотезу. Средняя выручка пользователей из Москвы и из других регионов равна.')"
   ]
  },
  {
   "cell_type": "markdown",
   "metadata": {},
   "source": [
    "### Выводы  \n",
    "\n",
    "1. Средняя выручка пользователей тарифов «Ультра» и «Смарт» различается согласно t-тесту. Это же различие мы видим в расчетах среднего значения ежемесячной выручки - среднее значение выручки пользователей тарифа «Ультра» более, чем в 1,5 раза больше среднего значения пользователей тарифа «Смарт».  \n",
    "2. Не удалось подтвердить гипотезу о том, что средняя выручка пользователей из Москвы отличается от выручки пользователей из других регионов. С результатом статистической проверки согласуются расчеты среднего значения - разница между московскими и региональными пользователями всего 22 рубля. "
   ]
  },
  {
   "cell_type": "markdown",
   "metadata": {},
   "source": [
    "## Общие выводы"
   ]
  },
  {
   "cell_type": "markdown",
   "metadata": {},
   "source": [
    "1. Мы имеем дело с двумя различными аудиториями, соответствующими двум тарифам (исходя из различающихся средних их выручки). \n",
    "2. Более перспективным тарифом является тариф \"Ultra\". Так как по сравнению с тарифом \"Smart\" он имеет:\n",
    "- существенно более высокую медианную выручку (1950 руб. против 1038 руб.).\n",
    "- абсолютно стабильную медианную выручку в отличие от колеблющейся от месяца к месяцу выручки от тарифа Smart;    \n",
    "- существенно более высокий относительный прирост количества новых пользователей (за 2018 год количество новых пользователей тарифа Ultra выросло в 15 раз (с 9 до 139 человек) против 10-кратного роста (34 человек до 337) у тарифа Smart.  \n",
    "3. Целевая аудитория тарифа \"Smart\" не так хорошо, как аудитория \"Ultra\", понимает свои потребности в использовании услуги интернета. На это указывают особенности использования клиентами услуг тарифа: 75% из них хватает включенных в пакеты минут и сообщений. И только 50% хватает включенных в пакет гигабайтов. Соответственно еще 50% платят за гигабайты и это существенно увеличивает выручку от использования тарифа (напомним, 1 гб стоит 200 руб.). Этот тариф выбирают люди, которые ориентируются прежде всего на меньшую стоимость тарифа и имеют меньшие, в сравнении с аудиторией \"Ultra\", потребности в использовании мобильного интернета.  \n",
    "4. Тариф \"Ultra\" выбирают две категории клиентов:  \n",
    "- а) люди, имеющие более разнообразные потребности в использовании услуг мобильной связи. На это указывает существенно большая дисперсия в использовании всех услуг, чем у пользователей тарифа \"Smart\";  \n",
    "- б) люди, которым интересна прежде всего услуга по использованию интернета (объемы потребления интернета существенно выше, чем у пользователей тарифа \"Smart\", а 25% пользователей не хватает включенных в пакет 30 гигабайтов).  \n",
    "5. Различий в средней выручке между пользователями из Москвы и пользователями из других регионов России выявить не удалось. \n",
    "  \n",
    "Рекомендации:  \n",
    "\n",
    "- Перенаправить больше средств на рекламу тарифа \"Ultra\";\n",
    "- В рекламе тарифа \"Ultra\" сделать акцент на услуге интернет;  \n",
    "- Рекламная политика для всех регионов России, в том числе для Москвы, может быть единой."
   ]
  }
 ],
 "metadata": {
  "ExecuteTimeLog": [
   {
    "duration": 1419,
    "start_time": "2022-01-28T09:37:39.886Z"
   },
   {
    "duration": 548,
    "start_time": "2022-01-28T09:47:02.242Z"
   },
   {
    "duration": 432,
    "start_time": "2022-01-28T09:47:48.466Z"
   },
   {
    "duration": 31,
    "start_time": "2022-01-28T09:47:56.585Z"
   },
   {
    "duration": 55,
    "start_time": "2022-01-28T09:48:50.437Z"
   },
   {
    "duration": 1395,
    "start_time": "2022-01-31T14:12:38.897Z"
   },
   {
    "duration": 380,
    "start_time": "2022-01-31T14:12:46.951Z"
   },
   {
    "duration": 17,
    "start_time": "2022-01-31T14:12:53.202Z"
   },
   {
    "duration": 5,
    "start_time": "2022-01-31T14:13:06.761Z"
   },
   {
    "duration": 9,
    "start_time": "2022-01-31T14:13:12.342Z"
   },
   {
    "duration": 8,
    "start_time": "2022-01-31T14:13:17.189Z"
   },
   {
    "duration": 2,
    "start_time": "2022-01-31T14:13:38.817Z"
   },
   {
    "duration": 6,
    "start_time": "2022-01-31T14:13:42.600Z"
   },
   {
    "duration": 6,
    "start_time": "2022-01-31T14:13:45.309Z"
   },
   {
    "duration": 4,
    "start_time": "2022-01-31T14:13:50.189Z"
   },
   {
    "duration": 5,
    "start_time": "2022-01-31T14:13:52.262Z"
   },
   {
    "duration": 15,
    "start_time": "2022-01-31T14:13:55.197Z"
   },
   {
    "duration": 11,
    "start_time": "2022-01-31T14:14:02.688Z"
   },
   {
    "duration": 4,
    "start_time": "2022-01-31T14:14:09.457Z"
   },
   {
    "duration": 28,
    "start_time": "2022-01-31T14:14:12.697Z"
   },
   {
    "duration": 4,
    "start_time": "2022-01-31T14:14:28.642Z"
   },
   {
    "duration": 50,
    "start_time": "2022-01-31T14:14:31.524Z"
   },
   {
    "duration": 11,
    "start_time": "2022-01-31T14:14:35.501Z"
   },
   {
    "duration": 2,
    "start_time": "2022-01-31T14:14:46.129Z"
   },
   {
    "duration": 41,
    "start_time": "2022-01-31T14:14:48.602Z"
   },
   {
    "duration": 27,
    "start_time": "2022-01-31T14:14:51.537Z"
   },
   {
    "duration": 23,
    "start_time": "2022-01-31T14:15:06.983Z"
   },
   {
    "duration": 4,
    "start_time": "2022-01-31T14:15:10.628Z"
   },
   {
    "duration": 36,
    "start_time": "2022-01-31T14:15:12.817Z"
   },
   {
    "duration": 11,
    "start_time": "2022-01-31T14:15:17.328Z"
   },
   {
    "duration": 2,
    "start_time": "2022-01-31T14:15:32.049Z"
   },
   {
    "duration": 23,
    "start_time": "2022-01-31T14:15:38.777Z"
   },
   {
    "duration": 26,
    "start_time": "2022-01-31T14:15:41.128Z"
   },
   {
    "duration": 21,
    "start_time": "2022-01-31T14:15:57.824Z"
   },
   {
    "duration": 4,
    "start_time": "2022-01-31T14:16:20.816Z"
   },
   {
    "duration": 28,
    "start_time": "2022-01-31T14:16:27.242Z"
   },
   {
    "duration": 7,
    "start_time": "2022-01-31T14:16:30.302Z"
   },
   {
    "duration": 3,
    "start_time": "2022-01-31T14:16:37.840Z"
   },
   {
    "duration": 19,
    "start_time": "2022-01-31T14:16:42.921Z"
   },
   {
    "duration": 90,
    "start_time": "2022-02-01T08:53:05.683Z"
   },
   {
    "duration": 282,
    "start_time": "2022-02-01T08:55:32.871Z"
   },
   {
    "duration": 1182,
    "start_time": "2022-02-01T08:58:28.413Z"
   },
   {
    "duration": 415,
    "start_time": "2022-02-01T08:58:33.057Z"
   },
   {
    "duration": 18,
    "start_time": "2022-02-01T08:58:39.616Z"
   },
   {
    "duration": 7,
    "start_time": "2022-02-01T08:58:44.280Z"
   },
   {
    "duration": 8,
    "start_time": "2022-02-01T08:58:51.629Z"
   },
   {
    "duration": 6,
    "start_time": "2022-02-01T08:58:54.862Z"
   },
   {
    "duration": 13,
    "start_time": "2022-02-01T08:59:04.322Z"
   },
   {
    "duration": 61,
    "start_time": "2022-02-01T08:59:11.660Z"
   },
   {
    "duration": 55,
    "start_time": "2022-02-01T08:59:17.526Z"
   },
   {
    "duration": 42,
    "start_time": "2022-02-01T08:59:24.189Z"
   },
   {
    "duration": 12,
    "start_time": "2022-02-01T08:59:26.901Z"
   },
   {
    "duration": 3,
    "start_time": "2022-02-01T08:59:44.580Z"
   },
   {
    "duration": 299,
    "start_time": "2022-02-01T08:59:55.680Z"
   },
   {
    "duration": 12,
    "start_time": "2022-02-01T08:59:59.542Z"
   },
   {
    "duration": 8,
    "start_time": "2022-02-01T09:11:53.261Z"
   },
   {
    "duration": 2,
    "start_time": "2022-02-01T09:11:58.381Z"
   },
   {
    "duration": 2,
    "start_time": "2022-02-01T09:24:28.709Z"
   },
   {
    "duration": 18,
    "start_time": "2022-02-01T09:30:43.721Z"
   },
   {
    "duration": 20,
    "start_time": "2022-02-01T09:31:31.269Z"
   },
   {
    "duration": 23,
    "start_time": "2022-02-01T09:31:49.853Z"
   },
   {
    "duration": 24,
    "start_time": "2022-02-01T09:32:00.453Z"
   },
   {
    "duration": 13,
    "start_time": "2022-02-01T09:32:25.754Z"
   },
   {
    "duration": 14,
    "start_time": "2022-02-01T09:32:28.526Z"
   },
   {
    "duration": 19,
    "start_time": "2022-02-01T09:32:31.953Z"
   },
   {
    "duration": 19,
    "start_time": "2022-02-01T09:32:34.458Z"
   },
   {
    "duration": 14,
    "start_time": "2022-02-01T09:32:37.174Z"
   },
   {
    "duration": 14,
    "start_time": "2022-02-01T09:32:39.633Z"
   },
   {
    "duration": 2,
    "start_time": "2022-02-01T09:33:30.286Z"
   },
   {
    "duration": 1066,
    "start_time": "2022-02-01T13:30:34.938Z"
   },
   {
    "duration": 364,
    "start_time": "2022-02-01T13:30:36.005Z"
   },
   {
    "duration": 14,
    "start_time": "2022-02-01T13:30:36.371Z"
   },
   {
    "duration": 3,
    "start_time": "2022-02-01T13:30:36.386Z"
   },
   {
    "duration": 6,
    "start_time": "2022-02-01T13:30:36.391Z"
   },
   {
    "duration": 4,
    "start_time": "2022-02-01T13:30:36.399Z"
   },
   {
    "duration": 7,
    "start_time": "2022-02-01T13:30:36.404Z"
   },
   {
    "duration": 5,
    "start_time": "2022-02-01T13:30:36.413Z"
   },
   {
    "duration": 5,
    "start_time": "2022-02-01T13:30:36.421Z"
   },
   {
    "duration": 6,
    "start_time": "2022-02-01T13:30:36.427Z"
   },
   {
    "duration": 50,
    "start_time": "2022-02-01T13:30:36.434Z"
   },
   {
    "duration": 11,
    "start_time": "2022-02-01T13:30:36.485Z"
   },
   {
    "duration": 4,
    "start_time": "2022-02-01T13:30:36.497Z"
   },
   {
    "duration": 27,
    "start_time": "2022-02-01T13:30:36.503Z"
   },
   {
    "duration": 4,
    "start_time": "2022-02-01T13:30:36.532Z"
   },
   {
    "duration": 84,
    "start_time": "2022-02-01T13:30:36.537Z"
   },
   {
    "duration": 2,
    "start_time": "2022-02-01T13:30:36.623Z"
   },
   {
    "duration": 59,
    "start_time": "2022-02-01T13:30:36.627Z"
   },
   {
    "duration": 28,
    "start_time": "2022-02-01T13:30:36.688Z"
   },
   {
    "duration": 21,
    "start_time": "2022-02-01T13:30:36.718Z"
   },
   {
    "duration": 3,
    "start_time": "2022-02-01T13:30:36.741Z"
   },
   {
    "duration": 59,
    "start_time": "2022-02-01T13:30:36.745Z"
   },
   {
    "duration": 2,
    "start_time": "2022-02-01T13:30:36.807Z"
   },
   {
    "duration": 17,
    "start_time": "2022-02-01T13:30:36.811Z"
   },
   {
    "duration": 23,
    "start_time": "2022-02-01T13:30:36.830Z"
   },
   {
    "duration": 39,
    "start_time": "2022-02-01T13:30:36.854Z"
   },
   {
    "duration": 19,
    "start_time": "2022-02-01T13:30:36.894Z"
   },
   {
    "duration": 3,
    "start_time": "2022-02-01T13:30:36.914Z"
   },
   {
    "duration": 57,
    "start_time": "2022-02-01T13:30:36.919Z"
   },
   {
    "duration": 2,
    "start_time": "2022-02-01T13:30:36.978Z"
   },
   {
    "duration": 22,
    "start_time": "2022-02-01T13:30:36.981Z"
   },
   {
    "duration": 10,
    "start_time": "2022-02-01T13:30:37.004Z"
   },
   {
    "duration": 2,
    "start_time": "2022-02-01T13:30:37.016Z"
   },
   {
    "duration": 113,
    "start_time": "2022-02-01T13:30:37.020Z"
   },
   {
    "duration": -250,
    "start_time": "2022-02-01T13:30:37.384Z"
   },
   {
    "duration": -255,
    "start_time": "2022-02-01T13:30:37.390Z"
   },
   {
    "duration": -261,
    "start_time": "2022-02-01T13:30:37.397Z"
   },
   {
    "duration": -278,
    "start_time": "2022-02-01T13:30:37.415Z"
   },
   {
    "duration": -284,
    "start_time": "2022-02-01T13:30:37.421Z"
   },
   {
    "duration": -289,
    "start_time": "2022-02-01T13:30:37.427Z"
   },
   {
    "duration": -295,
    "start_time": "2022-02-01T13:30:37.434Z"
   },
   {
    "duration": -300,
    "start_time": "2022-02-01T13:30:37.439Z"
   },
   {
    "duration": -306,
    "start_time": "2022-02-01T13:30:37.446Z"
   },
   {
    "duration": -310,
    "start_time": "2022-02-01T13:30:37.451Z"
   },
   {
    "duration": -318,
    "start_time": "2022-02-01T13:30:37.459Z"
   },
   {
    "duration": -326,
    "start_time": "2022-02-01T13:30:37.468Z"
   },
   {
    "duration": -335,
    "start_time": "2022-02-01T13:30:37.478Z"
   },
   {
    "duration": -343,
    "start_time": "2022-02-01T13:30:37.486Z"
   },
   {
    "duration": -349,
    "start_time": "2022-02-01T13:30:37.493Z"
   },
   {
    "duration": -354,
    "start_time": "2022-02-01T13:30:37.499Z"
   },
   {
    "duration": -359,
    "start_time": "2022-02-01T13:30:37.505Z"
   },
   {
    "duration": -364,
    "start_time": "2022-02-01T13:30:37.510Z"
   },
   {
    "duration": -381,
    "start_time": "2022-02-01T13:30:37.528Z"
   },
   {
    "duration": -385,
    "start_time": "2022-02-01T13:30:37.533Z"
   },
   {
    "duration": -390,
    "start_time": "2022-02-01T13:30:37.539Z"
   },
   {
    "duration": -396,
    "start_time": "2022-02-01T13:30:37.545Z"
   },
   {
    "duration": -401,
    "start_time": "2022-02-01T13:30:37.551Z"
   },
   {
    "duration": 7,
    "start_time": "2022-02-01T13:31:25.117Z"
   },
   {
    "duration": 2,
    "start_time": "2022-02-01T13:31:34.978Z"
   },
   {
    "duration": 16,
    "start_time": "2022-02-01T13:31:57.295Z"
   },
   {
    "duration": 2,
    "start_time": "2022-02-01T13:32:04.925Z"
   },
   {
    "duration": 26,
    "start_time": "2022-02-01T15:41:21.264Z"
   },
   {
    "duration": 10,
    "start_time": "2022-02-01T15:41:39.732Z"
   },
   {
    "duration": 44,
    "start_time": "2022-02-01T15:48:46.489Z"
   },
   {
    "duration": 38,
    "start_time": "2022-02-01T15:48:51.970Z"
   },
   {
    "duration": 20,
    "start_time": "2022-02-01T15:50:12.551Z"
   },
   {
    "duration": 54,
    "start_time": "2022-02-01T16:27:54.850Z"
   },
   {
    "duration": 49,
    "start_time": "2022-02-01T16:28:07.141Z"
   },
   {
    "duration": 37,
    "start_time": "2022-02-01T16:28:45.202Z"
   },
   {
    "duration": 227,
    "start_time": "2022-02-01T16:35:06.382Z"
   },
   {
    "duration": 39,
    "start_time": "2022-02-01T16:35:14.609Z"
   },
   {
    "duration": 35,
    "start_time": "2022-02-01T16:35:33.536Z"
   },
   {
    "duration": 30,
    "start_time": "2022-02-01T16:36:05.888Z"
   },
   {
    "duration": 27,
    "start_time": "2022-02-01T16:36:20.613Z"
   },
   {
    "duration": 28,
    "start_time": "2022-02-01T16:36:40.401Z"
   },
   {
    "duration": 25,
    "start_time": "2022-02-01T16:36:55.622Z"
   },
   {
    "duration": 5,
    "start_time": "2022-02-01T16:41:18.304Z"
   },
   {
    "duration": 44,
    "start_time": "2022-02-01T16:43:11.167Z"
   },
   {
    "duration": 47,
    "start_time": "2022-02-01T16:43:23.253Z"
   },
   {
    "duration": 36,
    "start_time": "2022-02-01T16:43:42.069Z"
   },
   {
    "duration": 41,
    "start_time": "2022-02-01T16:46:41.935Z"
   },
   {
    "duration": 32,
    "start_time": "2022-02-01T16:46:56.712Z"
   },
   {
    "duration": 7,
    "start_time": "2022-02-01T16:49:57.406Z"
   },
   {
    "duration": 416,
    "start_time": "2022-02-01T17:00:16.401Z"
   },
   {
    "duration": 5,
    "start_time": "2022-02-01T17:02:09.071Z"
   },
   {
    "duration": 359,
    "start_time": "2022-02-01T17:02:31.714Z"
   },
   {
    "duration": 338,
    "start_time": "2022-02-01T17:02:57.206Z"
   },
   {
    "duration": 35,
    "start_time": "2022-02-01T17:03:14.015Z"
   },
   {
    "duration": 8,
    "start_time": "2022-02-01T17:03:21.837Z"
   },
   {
    "duration": 2,
    "start_time": "2022-02-01T17:05:43.806Z"
   },
   {
    "duration": 356,
    "start_time": "2022-02-02T07:49:32.273Z"
   },
   {
    "duration": 1071,
    "start_time": "2022-02-02T07:49:44.432Z"
   },
   {
    "duration": 355,
    "start_time": "2022-02-02T07:49:45.505Z"
   },
   {
    "duration": 14,
    "start_time": "2022-02-02T07:49:45.862Z"
   },
   {
    "duration": 5,
    "start_time": "2022-02-02T07:49:45.878Z"
   },
   {
    "duration": 15,
    "start_time": "2022-02-02T07:49:45.885Z"
   },
   {
    "duration": 12,
    "start_time": "2022-02-02T07:49:45.901Z"
   },
   {
    "duration": 17,
    "start_time": "2022-02-02T07:49:45.914Z"
   },
   {
    "duration": 11,
    "start_time": "2022-02-02T07:49:45.934Z"
   },
   {
    "duration": 27,
    "start_time": "2022-02-02T07:49:45.947Z"
   },
   {
    "duration": 7,
    "start_time": "2022-02-02T07:49:45.976Z"
   },
   {
    "duration": 40,
    "start_time": "2022-02-02T07:49:45.985Z"
   },
   {
    "duration": 24,
    "start_time": "2022-02-02T07:49:46.027Z"
   },
   {
    "duration": 9,
    "start_time": "2022-02-02T07:49:46.053Z"
   },
   {
    "duration": 41,
    "start_time": "2022-02-02T07:49:46.064Z"
   },
   {
    "duration": 3,
    "start_time": "2022-02-02T07:49:46.106Z"
   },
   {
    "duration": 61,
    "start_time": "2022-02-02T07:49:46.111Z"
   },
   {
    "duration": 3,
    "start_time": "2022-02-02T07:49:46.173Z"
   },
   {
    "duration": 55,
    "start_time": "2022-02-02T07:49:46.177Z"
   },
   {
    "duration": 31,
    "start_time": "2022-02-02T07:49:46.233Z"
   },
   {
    "duration": 26,
    "start_time": "2022-02-02T07:49:46.266Z"
   },
   {
    "duration": 3,
    "start_time": "2022-02-02T07:49:46.293Z"
   },
   {
    "duration": 42,
    "start_time": "2022-02-02T07:49:46.298Z"
   },
   {
    "duration": 2,
    "start_time": "2022-02-02T07:49:46.343Z"
   },
   {
    "duration": 32,
    "start_time": "2022-02-02T07:49:46.348Z"
   },
   {
    "duration": 29,
    "start_time": "2022-02-02T07:49:46.382Z"
   },
   {
    "duration": 24,
    "start_time": "2022-02-02T07:49:46.413Z"
   },
   {
    "duration": 19,
    "start_time": "2022-02-02T07:49:46.438Z"
   },
   {
    "duration": 15,
    "start_time": "2022-02-02T07:49:46.458Z"
   },
   {
    "duration": 37,
    "start_time": "2022-02-02T07:49:46.474Z"
   },
   {
    "duration": 14,
    "start_time": "2022-02-02T07:49:46.512Z"
   },
   {
    "duration": 35,
    "start_time": "2022-02-02T07:49:46.527Z"
   },
   {
    "duration": 47,
    "start_time": "2022-02-02T07:49:46.563Z"
   },
   {
    "duration": 30,
    "start_time": "2022-02-02T07:49:46.611Z"
   },
   {
    "duration": 8225,
    "start_time": "2022-02-02T07:49:46.642Z"
   },
   {
    "duration": 65,
    "start_time": "2022-02-02T07:49:54.804Z"
   },
   {
    "duration": 46,
    "start_time": "2022-02-02T07:49:54.824Z"
   },
   {
    "duration": 17,
    "start_time": "2022-02-02T07:49:54.854Z"
   },
   {
    "duration": -14,
    "start_time": "2022-02-02T07:49:54.885Z"
   },
   {
    "duration": -32,
    "start_time": "2022-02-02T07:49:54.904Z"
   },
   {
    "duration": -37,
    "start_time": "2022-02-02T07:49:54.910Z"
   },
   {
    "duration": -43,
    "start_time": "2022-02-02T07:49:54.917Z"
   },
   {
    "duration": -50,
    "start_time": "2022-02-02T07:49:54.925Z"
   },
   {
    "duration": -54,
    "start_time": "2022-02-02T07:49:54.930Z"
   },
   {
    "duration": -60,
    "start_time": "2022-02-02T07:49:54.937Z"
   },
   {
    "duration": -64,
    "start_time": "2022-02-02T07:49:54.942Z"
   },
   {
    "duration": -70,
    "start_time": "2022-02-02T07:49:54.949Z"
   },
   {
    "duration": -75,
    "start_time": "2022-02-02T07:49:54.954Z"
   },
   {
    "duration": -80,
    "start_time": "2022-02-02T07:49:54.960Z"
   },
   {
    "duration": -85,
    "start_time": "2022-02-02T07:49:54.966Z"
   },
   {
    "duration": -92,
    "start_time": "2022-02-02T07:49:54.974Z"
   },
   {
    "duration": -96,
    "start_time": "2022-02-02T07:49:54.979Z"
   },
   {
    "duration": -102,
    "start_time": "2022-02-02T07:49:54.986Z"
   },
   {
    "duration": -106,
    "start_time": "2022-02-02T07:49:54.991Z"
   },
   {
    "duration": -111,
    "start_time": "2022-02-02T07:49:54.997Z"
   },
   {
    "duration": -132,
    "start_time": "2022-02-02T07:49:55.019Z"
   },
   {
    "duration": -138,
    "start_time": "2022-02-02T07:49:55.026Z"
   },
   {
    "duration": -146,
    "start_time": "2022-02-02T07:49:55.035Z"
   },
   {
    "duration": 47,
    "start_time": "2022-02-02T08:02:46.684Z"
   },
   {
    "duration": 116,
    "start_time": "2022-02-02T08:04:48.549Z"
   },
   {
    "duration": 51,
    "start_time": "2022-02-02T08:04:58.677Z"
   },
   {
    "duration": 419,
    "start_time": "2022-02-02T08:10:00.826Z"
   },
   {
    "duration": 94,
    "start_time": "2022-02-02T08:15:39.739Z"
   },
   {
    "duration": 1009,
    "start_time": "2022-02-02T08:15:45.078Z"
   },
   {
    "duration": 56,
    "start_time": "2022-02-02T08:16:32.186Z"
   },
   {
    "duration": 55,
    "start_time": "2022-02-02T08:21:52.314Z"
   },
   {
    "duration": 53,
    "start_time": "2022-02-02T08:22:34.847Z"
   },
   {
    "duration": 50,
    "start_time": "2022-02-02T08:24:06.701Z"
   },
   {
    "duration": 53,
    "start_time": "2022-02-02T08:25:48.813Z"
   },
   {
    "duration": 56,
    "start_time": "2022-02-02T08:26:49.721Z"
   },
   {
    "duration": 59,
    "start_time": "2022-02-02T08:31:07.616Z"
   },
   {
    "duration": 60,
    "start_time": "2022-02-02T08:36:27.316Z"
   },
   {
    "duration": 68,
    "start_time": "2022-02-02T08:36:37.755Z"
   },
   {
    "duration": 62,
    "start_time": "2022-02-02T08:37:37.447Z"
   },
   {
    "duration": 59,
    "start_time": "2022-02-02T08:50:15.489Z"
   },
   {
    "duration": 55,
    "start_time": "2022-02-02T08:51:11.419Z"
   },
   {
    "duration": 62,
    "start_time": "2022-02-02T09:08:34.773Z"
   },
   {
    "duration": 339,
    "start_time": "2022-02-02T09:10:07.120Z"
   },
   {
    "duration": 55,
    "start_time": "2022-02-02T09:10:25.621Z"
   },
   {
    "duration": 831,
    "start_time": "2022-02-02T09:18:45.768Z"
   },
   {
    "duration": 60,
    "start_time": "2022-02-02T09:19:35.491Z"
   },
   {
    "duration": 73,
    "start_time": "2022-02-02T09:20:42.547Z"
   },
   {
    "duration": 76,
    "start_time": "2022-02-02T09:21:37.036Z"
   },
   {
    "duration": 74,
    "start_time": "2022-02-02T09:22:27.613Z"
   },
   {
    "duration": 74,
    "start_time": "2022-02-02T09:24:11.173Z"
   },
   {
    "duration": 61,
    "start_time": "2022-02-02T09:27:47.151Z"
   },
   {
    "duration": 62,
    "start_time": "2022-02-02T09:28:05.560Z"
   },
   {
    "duration": 63,
    "start_time": "2022-02-02T09:30:59.028Z"
   },
   {
    "duration": 62,
    "start_time": "2022-02-02T09:31:18.989Z"
   },
   {
    "duration": 62,
    "start_time": "2022-02-02T09:32:27.390Z"
   },
   {
    "duration": 61,
    "start_time": "2022-02-02T09:33:33.644Z"
   },
   {
    "duration": 78,
    "start_time": "2022-02-02T09:43:27.396Z"
   },
   {
    "duration": 84,
    "start_time": "2022-02-02T09:43:52.672Z"
   },
   {
    "duration": 51,
    "start_time": "2022-02-02T09:44:21.124Z"
   },
   {
    "duration": 53,
    "start_time": "2022-02-02T09:45:15.959Z"
   },
   {
    "duration": 1508,
    "start_time": "2022-02-02T13:22:38.476Z"
   },
   {
    "duration": 592,
    "start_time": "2022-02-02T13:22:39.987Z"
   },
   {
    "duration": 25,
    "start_time": "2022-02-02T13:22:40.582Z"
   },
   {
    "duration": 5,
    "start_time": "2022-02-02T13:22:40.610Z"
   },
   {
    "duration": 9,
    "start_time": "2022-02-02T13:22:40.618Z"
   },
   {
    "duration": 5,
    "start_time": "2022-02-02T13:22:40.629Z"
   },
   {
    "duration": 15,
    "start_time": "2022-02-02T13:22:40.659Z"
   },
   {
    "duration": 9,
    "start_time": "2022-02-02T13:22:40.678Z"
   },
   {
    "duration": 7,
    "start_time": "2022-02-02T13:22:40.690Z"
   },
   {
    "duration": 9,
    "start_time": "2022-02-02T13:22:40.700Z"
   },
   {
    "duration": 79,
    "start_time": "2022-02-02T13:22:40.712Z"
   },
   {
    "duration": 20,
    "start_time": "2022-02-02T13:22:40.794Z"
   },
   {
    "duration": 5,
    "start_time": "2022-02-02T13:22:40.816Z"
   },
   {
    "duration": 83,
    "start_time": "2022-02-02T13:22:40.824Z"
   },
   {
    "duration": 5,
    "start_time": "2022-02-02T13:22:40.909Z"
   },
   {
    "duration": 109,
    "start_time": "2022-02-02T13:22:40.916Z"
   },
   {
    "duration": 3,
    "start_time": "2022-02-02T13:22:41.028Z"
   },
   {
    "duration": 85,
    "start_time": "2022-02-02T13:22:41.033Z"
   },
   {
    "duration": 57,
    "start_time": "2022-02-02T13:22:41.121Z"
   },
   {
    "duration": 34,
    "start_time": "2022-02-02T13:22:41.181Z"
   },
   {
    "duration": 5,
    "start_time": "2022-02-02T13:22:41.218Z"
   },
   {
    "duration": 93,
    "start_time": "2022-02-02T13:22:41.225Z"
   },
   {
    "duration": 3,
    "start_time": "2022-02-02T13:22:41.323Z"
   },
   {
    "duration": 47,
    "start_time": "2022-02-02T13:22:41.330Z"
   },
   {
    "duration": 44,
    "start_time": "2022-02-02T13:22:41.379Z"
   },
   {
    "duration": 68,
    "start_time": "2022-02-02T13:22:41.426Z"
   },
   {
    "duration": 28,
    "start_time": "2022-02-02T13:22:41.496Z"
   },
   {
    "duration": 5,
    "start_time": "2022-02-02T13:22:41.526Z"
   },
   {
    "duration": 65,
    "start_time": "2022-02-02T13:22:41.534Z"
   },
   {
    "duration": 3,
    "start_time": "2022-02-02T13:22:41.602Z"
   },
   {
    "duration": 61,
    "start_time": "2022-02-02T13:22:41.607Z"
   },
   {
    "duration": 122,
    "start_time": "2022-02-02T13:22:41.671Z"
   },
   {
    "duration": 76,
    "start_time": "2022-02-02T13:22:41.796Z"
   },
   {
    "duration": 502,
    "start_time": "2022-02-02T13:22:41.874Z"
   },
   {
    "duration": -1152,
    "start_time": "2022-02-02T13:22:43.531Z"
   },
   {
    "duration": -1163,
    "start_time": "2022-02-02T13:22:43.543Z"
   },
   {
    "duration": -1172,
    "start_time": "2022-02-02T13:22:43.554Z"
   },
   {
    "duration": -1184,
    "start_time": "2022-02-02T13:22:43.567Z"
   },
   {
    "duration": -1215,
    "start_time": "2022-02-02T13:22:43.600Z"
   },
   {
    "duration": -1227,
    "start_time": "2022-02-02T13:22:43.613Z"
   },
   {
    "duration": -1234,
    "start_time": "2022-02-02T13:22:43.622Z"
   },
   {
    "duration": -1244,
    "start_time": "2022-02-02T13:22:43.633Z"
   },
   {
    "duration": -1253,
    "start_time": "2022-02-02T13:22:43.644Z"
   },
   {
    "duration": -1259,
    "start_time": "2022-02-02T13:22:43.651Z"
   },
   {
    "duration": -1269,
    "start_time": "2022-02-02T13:22:43.662Z"
   },
   {
    "duration": -1278,
    "start_time": "2022-02-02T13:22:43.672Z"
   },
   {
    "duration": -1283,
    "start_time": "2022-02-02T13:22:43.678Z"
   },
   {
    "duration": -1289,
    "start_time": "2022-02-02T13:22:43.685Z"
   },
   {
    "duration": -1294,
    "start_time": "2022-02-02T13:22:43.692Z"
   },
   {
    "duration": -1317,
    "start_time": "2022-02-02T13:22:43.716Z"
   },
   {
    "duration": -1327,
    "start_time": "2022-02-02T13:22:43.728Z"
   },
   {
    "duration": -1336,
    "start_time": "2022-02-02T13:22:43.739Z"
   },
   {
    "duration": -1343,
    "start_time": "2022-02-02T13:22:43.747Z"
   },
   {
    "duration": -1348,
    "start_time": "2022-02-02T13:22:43.754Z"
   },
   {
    "duration": -1353,
    "start_time": "2022-02-02T13:22:43.761Z"
   },
   {
    "duration": -1363,
    "start_time": "2022-02-02T13:22:43.772Z"
   },
   {
    "duration": -1370,
    "start_time": "2022-02-02T13:22:43.781Z"
   },
   {
    "duration": -1376,
    "start_time": "2022-02-02T13:22:43.789Z"
   },
   {
    "duration": 82,
    "start_time": "2022-02-02T13:27:36.493Z"
   },
   {
    "duration": 113,
    "start_time": "2022-02-02T13:53:06.511Z"
   },
   {
    "duration": 529,
    "start_time": "2022-02-02T13:56:48.874Z"
   },
   {
    "duration": 107,
    "start_time": "2022-02-02T13:57:06.079Z"
   },
   {
    "duration": 97,
    "start_time": "2022-02-02T13:59:39.932Z"
   },
   {
    "duration": 90,
    "start_time": "2022-02-02T14:00:28.273Z"
   },
   {
    "duration": 113,
    "start_time": "2022-02-02T14:00:41.760Z"
   },
   {
    "duration": 100,
    "start_time": "2022-02-02T14:00:50.717Z"
   },
   {
    "duration": 32,
    "start_time": "2022-02-02T15:05:23.794Z"
   },
   {
    "duration": 104,
    "start_time": "2022-02-02T15:33:48.002Z"
   },
   {
    "duration": 79,
    "start_time": "2022-02-02T15:34:21.430Z"
   },
   {
    "duration": 91,
    "start_time": "2022-02-02T15:34:47.115Z"
   },
   {
    "duration": 1905,
    "start_time": "2022-02-02T15:39:36.657Z"
   },
   {
    "duration": 36,
    "start_time": "2022-02-02T15:42:38.281Z"
   },
   {
    "duration": 16026,
    "start_time": "2022-02-02T15:44:25.718Z"
   },
   {
    "duration": 1082,
    "start_time": "2022-02-03T07:34:21.372Z"
   },
   {
    "duration": 403,
    "start_time": "2022-02-03T07:34:22.456Z"
   },
   {
    "duration": 19,
    "start_time": "2022-02-03T07:34:22.861Z"
   },
   {
    "duration": 4,
    "start_time": "2022-02-03T07:34:22.881Z"
   },
   {
    "duration": 7,
    "start_time": "2022-02-03T07:34:22.886Z"
   },
   {
    "duration": 4,
    "start_time": "2022-02-03T07:34:22.895Z"
   },
   {
    "duration": 28,
    "start_time": "2022-02-03T07:34:22.901Z"
   },
   {
    "duration": 5,
    "start_time": "2022-02-03T07:34:22.930Z"
   },
   {
    "duration": 5,
    "start_time": "2022-02-03T07:34:22.937Z"
   },
   {
    "duration": 5,
    "start_time": "2022-02-03T07:34:22.944Z"
   },
   {
    "duration": 14,
    "start_time": "2022-02-03T07:34:22.950Z"
   },
   {
    "duration": 10,
    "start_time": "2022-02-03T07:34:22.966Z"
   },
   {
    "duration": 3,
    "start_time": "2022-02-03T07:34:22.977Z"
   },
   {
    "duration": 70,
    "start_time": "2022-02-03T07:34:22.981Z"
   },
   {
    "duration": 3,
    "start_time": "2022-02-03T07:34:23.052Z"
   },
   {
    "duration": 75,
    "start_time": "2022-02-03T07:34:23.057Z"
   },
   {
    "duration": 2,
    "start_time": "2022-02-03T07:34:23.133Z"
   },
   {
    "duration": 46,
    "start_time": "2022-02-03T07:34:23.136Z"
   },
   {
    "duration": 46,
    "start_time": "2022-02-03T07:34:23.183Z"
   },
   {
    "duration": 22,
    "start_time": "2022-02-03T07:34:23.231Z"
   },
   {
    "duration": 3,
    "start_time": "2022-02-03T07:34:23.254Z"
   },
   {
    "duration": 36,
    "start_time": "2022-02-03T07:34:23.258Z"
   },
   {
    "duration": 2,
    "start_time": "2022-02-03T07:34:23.296Z"
   },
   {
    "duration": 41,
    "start_time": "2022-02-03T07:34:23.299Z"
   },
   {
    "duration": 22,
    "start_time": "2022-02-03T07:34:23.341Z"
   },
   {
    "duration": 25,
    "start_time": "2022-02-03T07:34:23.364Z"
   },
   {
    "duration": 47,
    "start_time": "2022-02-03T07:34:23.392Z"
   },
   {
    "duration": 3,
    "start_time": "2022-02-03T07:34:23.441Z"
   },
   {
    "duration": 28,
    "start_time": "2022-02-03T07:34:23.445Z"
   },
   {
    "duration": 2,
    "start_time": "2022-02-03T07:34:23.474Z"
   },
   {
    "duration": 19,
    "start_time": "2022-02-03T07:34:23.478Z"
   },
   {
    "duration": 10806,
    "start_time": "2022-02-03T07:34:23.499Z"
   },
   {
    "duration": 101,
    "start_time": "2022-02-03T07:34:34.206Z"
   },
   {
    "duration": 96,
    "start_time": "2022-02-03T07:34:34.212Z"
   },
   {
    "duration": 90,
    "start_time": "2022-02-03T07:34:34.219Z"
   },
   {
    "duration": 85,
    "start_time": "2022-02-03T07:34:34.225Z"
   },
   {
    "duration": 80,
    "start_time": "2022-02-03T07:34:34.231Z"
   },
   {
    "duration": 72,
    "start_time": "2022-02-03T07:34:34.240Z"
   },
   {
    "duration": 66,
    "start_time": "2022-02-03T07:34:34.246Z"
   },
   {
    "duration": 59,
    "start_time": "2022-02-03T07:34:34.254Z"
   },
   {
    "duration": 55,
    "start_time": "2022-02-03T07:34:34.259Z"
   },
   {
    "duration": 37,
    "start_time": "2022-02-03T07:34:34.278Z"
   },
   {
    "duration": 31,
    "start_time": "2022-02-03T07:34:34.285Z"
   },
   {
    "duration": 26,
    "start_time": "2022-02-03T07:34:34.291Z"
   },
   {
    "duration": 21,
    "start_time": "2022-02-03T07:34:34.297Z"
   },
   {
    "duration": 14,
    "start_time": "2022-02-03T07:34:34.304Z"
   },
   {
    "duration": 9,
    "start_time": "2022-02-03T07:34:34.310Z"
   },
   {
    "duration": 3,
    "start_time": "2022-02-03T07:34:34.317Z"
   },
   {
    "duration": -2,
    "start_time": "2022-02-03T07:34:34.323Z"
   },
   {
    "duration": -7,
    "start_time": "2022-02-03T07:34:34.329Z"
   },
   {
    "duration": -12,
    "start_time": "2022-02-03T07:34:34.335Z"
   },
   {
    "duration": -17,
    "start_time": "2022-02-03T07:34:34.341Z"
   },
   {
    "duration": -22,
    "start_time": "2022-02-03T07:34:34.347Z"
   },
   {
    "duration": -27,
    "start_time": "2022-02-03T07:34:34.353Z"
   },
   {
    "duration": -31,
    "start_time": "2022-02-03T07:34:34.358Z"
   },
   {
    "duration": -36,
    "start_time": "2022-02-03T07:34:34.364Z"
   },
   {
    "duration": -68,
    "start_time": "2022-02-03T07:34:34.396Z"
   },
   {
    "duration": -74,
    "start_time": "2022-02-03T07:34:34.403Z"
   },
   {
    "duration": -79,
    "start_time": "2022-02-03T07:34:34.409Z"
   },
   {
    "duration": -89,
    "start_time": "2022-02-03T07:34:34.420Z"
   },
   {
    "duration": 73,
    "start_time": "2022-02-03T07:37:22.714Z"
   },
   {
    "duration": 12,
    "start_time": "2022-02-03T07:38:02.943Z"
   },
   {
    "duration": 47,
    "start_time": "2022-02-03T07:39:11.508Z"
   },
   {
    "duration": 79,
    "start_time": "2022-02-03T07:58:43.908Z"
   },
   {
    "duration": 84,
    "start_time": "2022-02-03T07:59:23.466Z"
   },
   {
    "duration": 88,
    "start_time": "2022-02-03T07:59:30.602Z"
   },
   {
    "duration": 85,
    "start_time": "2022-02-03T07:59:51.899Z"
   },
   {
    "duration": 86,
    "start_time": "2022-02-03T08:08:28.276Z"
   },
   {
    "duration": 102,
    "start_time": "2022-02-03T08:12:09.183Z"
   },
   {
    "duration": 92,
    "start_time": "2022-02-03T08:13:04.492Z"
   },
   {
    "duration": 105,
    "start_time": "2022-02-03T08:14:01.584Z"
   },
   {
    "duration": 89,
    "start_time": "2022-02-03T08:14:30.956Z"
   },
   {
    "duration": 47,
    "start_time": "2022-02-03T08:14:34.207Z"
   },
   {
    "duration": 56,
    "start_time": "2022-02-03T08:14:48.460Z"
   },
   {
    "duration": 114,
    "start_time": "2022-02-03T08:21:08.717Z"
   },
   {
    "duration": 126,
    "start_time": "2022-02-03T08:25:09.367Z"
   },
   {
    "duration": 34,
    "start_time": "2022-02-03T08:30:38.509Z"
   },
   {
    "duration": 20,
    "start_time": "2022-02-03T08:40:38.933Z"
   },
   {
    "duration": 19,
    "start_time": "2022-02-03T08:41:14.637Z"
   },
   {
    "duration": 37,
    "start_time": "2022-02-03T08:41:24.018Z"
   },
   {
    "duration": 64,
    "start_time": "2022-02-03T08:48:05.697Z"
   },
   {
    "duration": 66,
    "start_time": "2022-02-03T08:48:19.795Z"
   },
   {
    "duration": 63,
    "start_time": "2022-02-03T08:48:36.556Z"
   },
   {
    "duration": 30,
    "start_time": "2022-02-03T08:52:19.458Z"
   },
   {
    "duration": 32,
    "start_time": "2022-02-03T08:52:55.765Z"
   },
   {
    "duration": 28,
    "start_time": "2022-02-03T08:53:34.953Z"
   },
   {
    "duration": 40,
    "start_time": "2022-02-03T08:54:59.126Z"
   },
   {
    "duration": 36,
    "start_time": "2022-02-03T08:55:09.981Z"
   },
   {
    "duration": 38,
    "start_time": "2022-02-03T08:55:49.024Z"
   },
   {
    "duration": 39,
    "start_time": "2022-02-03T08:56:00.061Z"
   },
   {
    "duration": 35,
    "start_time": "2022-02-03T08:56:07.961Z"
   },
   {
    "duration": 21,
    "start_time": "2022-02-03T08:56:35.401Z"
   },
   {
    "duration": 17,
    "start_time": "2022-02-03T09:09:45.056Z"
   },
   {
    "duration": 17,
    "start_time": "2022-02-03T09:10:21.663Z"
   },
   {
    "duration": 19,
    "start_time": "2022-02-03T09:10:32.795Z"
   },
   {
    "duration": 346,
    "start_time": "2022-02-03T09:14:26.745Z"
   },
   {
    "duration": 35,
    "start_time": "2022-02-03T09:14:46.245Z"
   },
   {
    "duration": 340,
    "start_time": "2022-02-03T09:19:50.250Z"
   },
   {
    "duration": 36,
    "start_time": "2022-02-03T09:23:10.455Z"
   },
   {
    "duration": 39613,
    "start_time": "2022-02-03T09:35:21.258Z"
   },
   {
    "duration": 23,
    "start_time": "2022-02-03T09:36:43.434Z"
   },
   {
    "duration": 37,
    "start_time": "2022-02-03T09:39:27.851Z"
   },
   {
    "duration": 23,
    "start_time": "2022-02-03T09:43:20.598Z"
   },
   {
    "duration": 1075,
    "start_time": "2022-02-03T13:25:56.487Z"
   },
   {
    "duration": 395,
    "start_time": "2022-02-03T13:25:57.566Z"
   },
   {
    "duration": 15,
    "start_time": "2022-02-03T13:25:57.963Z"
   },
   {
    "duration": 3,
    "start_time": "2022-02-03T13:25:57.980Z"
   },
   {
    "duration": 8,
    "start_time": "2022-02-03T13:25:57.985Z"
   },
   {
    "duration": 5,
    "start_time": "2022-02-03T13:25:57.994Z"
   },
   {
    "duration": 18,
    "start_time": "2022-02-03T13:25:58.001Z"
   },
   {
    "duration": 17,
    "start_time": "2022-02-03T13:25:58.022Z"
   },
   {
    "duration": 11,
    "start_time": "2022-02-03T13:25:58.041Z"
   },
   {
    "duration": 7,
    "start_time": "2022-02-03T13:25:58.054Z"
   },
   {
    "duration": 21,
    "start_time": "2022-02-03T13:25:58.063Z"
   },
   {
    "duration": 19,
    "start_time": "2022-02-03T13:25:58.085Z"
   },
   {
    "duration": 7,
    "start_time": "2022-02-03T13:25:58.105Z"
   },
   {
    "duration": 42,
    "start_time": "2022-02-03T13:25:58.114Z"
   },
   {
    "duration": 4,
    "start_time": "2022-02-03T13:25:58.157Z"
   },
   {
    "duration": 55,
    "start_time": "2022-02-03T13:25:58.162Z"
   },
   {
    "duration": 2,
    "start_time": "2022-02-03T13:25:58.219Z"
   },
   {
    "duration": 44,
    "start_time": "2022-02-03T13:25:58.227Z"
   },
   {
    "duration": 31,
    "start_time": "2022-02-03T13:25:58.272Z"
   },
   {
    "duration": 36,
    "start_time": "2022-02-03T13:25:58.305Z"
   },
   {
    "duration": 4,
    "start_time": "2022-02-03T13:25:58.342Z"
   },
   {
    "duration": 38,
    "start_time": "2022-02-03T13:25:58.347Z"
   },
   {
    "duration": 2,
    "start_time": "2022-02-03T13:25:58.389Z"
   },
   {
    "duration": 35,
    "start_time": "2022-02-03T13:25:58.393Z"
   },
   {
    "duration": 22,
    "start_time": "2022-02-03T13:25:58.430Z"
   },
   {
    "duration": 25,
    "start_time": "2022-02-03T13:25:58.453Z"
   },
   {
    "duration": 19,
    "start_time": "2022-02-03T13:25:58.479Z"
   },
   {
    "duration": 30,
    "start_time": "2022-02-03T13:25:58.499Z"
   },
   {
    "duration": 30,
    "start_time": "2022-02-03T13:25:58.530Z"
   },
   {
    "duration": 2,
    "start_time": "2022-02-03T13:25:58.561Z"
   },
   {
    "duration": 19,
    "start_time": "2022-02-03T13:25:58.565Z"
   },
   {
    "duration": 98,
    "start_time": "2022-02-03T13:25:58.585Z"
   },
   {
    "duration": 31,
    "start_time": "2022-02-03T13:25:58.684Z"
   },
   {
    "duration": 53,
    "start_time": "2022-02-03T13:25:58.716Z"
   },
   {
    "duration": 36,
    "start_time": "2022-02-03T13:25:58.771Z"
   },
   {
    "duration": 36,
    "start_time": "2022-02-03T13:25:58.808Z"
   },
   {
    "duration": 401,
    "start_time": "2022-02-03T13:25:58.845Z"
   },
   {
    "duration": 176,
    "start_time": "2022-02-03T13:25:59.071Z"
   },
   {
    "duration": 172,
    "start_time": "2022-02-03T13:25:59.077Z"
   },
   {
    "duration": 151,
    "start_time": "2022-02-03T13:25:59.099Z"
   },
   {
    "duration": 146,
    "start_time": "2022-02-03T13:25:59.105Z"
   },
   {
    "duration": 138,
    "start_time": "2022-02-03T13:25:59.114Z"
   },
   {
    "duration": 132,
    "start_time": "2022-02-03T13:25:59.121Z"
   },
   {
    "duration": 126,
    "start_time": "2022-02-03T13:25:59.128Z"
   },
   {
    "duration": 120,
    "start_time": "2022-02-03T13:25:59.135Z"
   },
   {
    "duration": 114,
    "start_time": "2022-02-03T13:25:59.142Z"
   },
   {
    "duration": 41,
    "start_time": "2022-02-03T13:25:59.216Z"
   },
   {
    "duration": 35,
    "start_time": "2022-02-03T13:25:59.223Z"
   },
   {
    "duration": 29,
    "start_time": "2022-02-03T13:25:59.230Z"
   },
   {
    "duration": 23,
    "start_time": "2022-02-03T13:25:59.237Z"
   },
   {
    "duration": 18,
    "start_time": "2022-02-03T13:25:59.243Z"
   },
   {
    "duration": 11,
    "start_time": "2022-02-03T13:25:59.251Z"
   },
   {
    "duration": 5,
    "start_time": "2022-02-03T13:25:59.258Z"
   },
   {
    "duration": 0,
    "start_time": "2022-02-03T13:25:59.264Z"
   },
   {
    "duration": -6,
    "start_time": "2022-02-03T13:25:59.271Z"
   },
   {
    "duration": -14,
    "start_time": "2022-02-03T13:25:59.279Z"
   },
   {
    "duration": -20,
    "start_time": "2022-02-03T13:25:59.286Z"
   },
   {
    "duration": -27,
    "start_time": "2022-02-03T13:25:59.294Z"
   },
   {
    "duration": -32,
    "start_time": "2022-02-03T13:25:59.300Z"
   },
   {
    "duration": -38,
    "start_time": "2022-02-03T13:25:59.307Z"
   },
   {
    "duration": -57,
    "start_time": "2022-02-03T13:25:59.327Z"
   },
   {
    "duration": 14,
    "start_time": "2022-02-03T13:44:52.296Z"
   },
   {
    "duration": 19,
    "start_time": "2022-02-03T13:45:01.255Z"
   },
   {
    "duration": 110,
    "start_time": "2022-02-03T14:04:43.760Z"
   },
   {
    "duration": 34,
    "start_time": "2022-02-03T14:05:17.890Z"
   },
   {
    "duration": 35,
    "start_time": "2022-02-03T14:05:25.635Z"
   },
   {
    "duration": 33,
    "start_time": "2022-02-03T14:05:39.396Z"
   },
   {
    "duration": 20,
    "start_time": "2022-02-03T14:05:48.372Z"
   },
   {
    "duration": 108,
    "start_time": "2022-02-03T14:06:19.349Z"
   },
   {
    "duration": 153,
    "start_time": "2022-02-03T14:07:16.386Z"
   },
   {
    "duration": 19,
    "start_time": "2022-02-03T14:07:22.401Z"
   },
   {
    "duration": 15,
    "start_time": "2022-02-03T14:07:51.387Z"
   },
   {
    "duration": 19,
    "start_time": "2022-02-03T14:08:25.242Z"
   },
   {
    "duration": 16,
    "start_time": "2022-02-03T14:55:31.877Z"
   },
   {
    "duration": 7273,
    "start_time": "2022-02-03T14:59:14.765Z"
   },
   {
    "duration": 4,
    "start_time": "2022-02-03T15:03:15.865Z"
   },
   {
    "duration": 4,
    "start_time": "2022-02-03T15:07:25.381Z"
   },
   {
    "duration": 1463,
    "start_time": "2022-02-04T08:35:18.592Z"
   },
   {
    "duration": 532,
    "start_time": "2022-02-04T08:35:20.057Z"
   },
   {
    "duration": 24,
    "start_time": "2022-02-04T08:35:20.592Z"
   },
   {
    "duration": 5,
    "start_time": "2022-02-04T08:35:20.619Z"
   },
   {
    "duration": 15,
    "start_time": "2022-02-04T08:35:20.627Z"
   },
   {
    "duration": 3,
    "start_time": "2022-02-04T08:35:20.670Z"
   },
   {
    "duration": 14,
    "start_time": "2022-02-04T08:35:20.675Z"
   },
   {
    "duration": 8,
    "start_time": "2022-02-04T08:35:20.691Z"
   },
   {
    "duration": 11,
    "start_time": "2022-02-04T08:35:20.703Z"
   },
   {
    "duration": 7,
    "start_time": "2022-02-04T08:35:20.717Z"
   },
   {
    "duration": 59,
    "start_time": "2022-02-04T08:35:20.727Z"
   },
   {
    "duration": 18,
    "start_time": "2022-02-04T08:35:20.789Z"
   },
   {
    "duration": 5,
    "start_time": "2022-02-04T08:35:20.810Z"
   },
   {
    "duration": 78,
    "start_time": "2022-02-04T08:35:20.817Z"
   },
   {
    "duration": 5,
    "start_time": "2022-02-04T08:35:20.897Z"
   },
   {
    "duration": 104,
    "start_time": "2022-02-04T08:35:20.905Z"
   },
   {
    "duration": 3,
    "start_time": "2022-02-04T08:35:21.012Z"
   },
   {
    "duration": 95,
    "start_time": "2022-02-04T08:35:21.017Z"
   },
   {
    "duration": 60,
    "start_time": "2022-02-04T08:35:21.114Z"
   },
   {
    "duration": 35,
    "start_time": "2022-02-04T08:35:21.176Z"
   },
   {
    "duration": 6,
    "start_time": "2022-02-04T08:35:21.213Z"
   },
   {
    "duration": 93,
    "start_time": "2022-02-04T08:35:21.223Z"
   },
   {
    "duration": 4,
    "start_time": "2022-02-04T08:35:21.318Z"
   },
   {
    "duration": 25,
    "start_time": "2022-02-04T08:35:21.324Z"
   },
   {
    "duration": 52,
    "start_time": "2022-02-04T08:35:21.370Z"
   },
   {
    "duration": 59,
    "start_time": "2022-02-04T08:35:21.425Z"
   },
   {
    "duration": 29,
    "start_time": "2022-02-04T08:35:21.490Z"
   },
   {
    "duration": 6,
    "start_time": "2022-02-04T08:35:21.522Z"
   },
   {
    "duration": 73,
    "start_time": "2022-02-04T08:35:21.530Z"
   },
   {
    "duration": 3,
    "start_time": "2022-02-04T08:35:21.606Z"
   },
   {
    "duration": 36,
    "start_time": "2022-02-04T08:35:21.611Z"
   },
   {
    "duration": 130,
    "start_time": "2022-02-04T08:35:21.669Z"
   },
   {
    "duration": 48,
    "start_time": "2022-02-04T08:35:21.801Z"
   },
   {
    "duration": 81,
    "start_time": "2022-02-04T08:35:21.851Z"
   },
   {
    "duration": 75,
    "start_time": "2022-02-04T08:35:21.934Z"
   },
   {
    "duration": 36,
    "start_time": "2022-02-04T08:35:22.012Z"
   },
   {
    "duration": 8,
    "start_time": "2022-02-04T08:35:22.069Z"
   },
   {
    "duration": 9,
    "start_time": "2022-02-04T08:35:22.079Z"
   },
   {
    "duration": 420,
    "start_time": "2022-02-04T08:35:22.090Z"
   },
   {
    "duration": 373,
    "start_time": "2022-02-04T08:35:22.139Z"
   },
   {
    "duration": 368,
    "start_time": "2022-02-04T08:35:22.146Z"
   },
   {
    "duration": 363,
    "start_time": "2022-02-04T08:35:22.153Z"
   },
   {
    "duration": 358,
    "start_time": "2022-02-04T08:35:22.159Z"
   },
   {
    "duration": 342,
    "start_time": "2022-02-04T08:35:22.176Z"
   },
   {
    "duration": 339,
    "start_time": "2022-02-04T08:35:22.181Z"
   },
   {
    "duration": 334,
    "start_time": "2022-02-04T08:35:22.188Z"
   },
   {
    "duration": 328,
    "start_time": "2022-02-04T08:35:22.195Z"
   },
   {
    "duration": 324,
    "start_time": "2022-02-04T08:35:22.201Z"
   },
   {
    "duration": 320,
    "start_time": "2022-02-04T08:35:22.207Z"
   },
   {
    "duration": 315,
    "start_time": "2022-02-04T08:35:22.213Z"
   },
   {
    "duration": 311,
    "start_time": "2022-02-04T08:35:22.219Z"
   },
   {
    "duration": 306,
    "start_time": "2022-02-04T08:35:22.225Z"
   },
   {
    "duration": 302,
    "start_time": "2022-02-04T08:35:22.231Z"
   },
   {
    "duration": 298,
    "start_time": "2022-02-04T08:35:22.237Z"
   },
   {
    "duration": 295,
    "start_time": "2022-02-04T08:35:22.242Z"
   },
   {
    "duration": 290,
    "start_time": "2022-02-04T08:35:22.248Z"
   },
   {
    "duration": 286,
    "start_time": "2022-02-04T08:35:22.254Z"
   },
   {
    "duration": 280,
    "start_time": "2022-02-04T08:35:22.261Z"
   },
   {
    "duration": 276,
    "start_time": "2022-02-04T08:35:22.267Z"
   },
   {
    "duration": 261,
    "start_time": "2022-02-04T08:35:22.283Z"
   },
   {
    "duration": 256,
    "start_time": "2022-02-04T08:35:22.289Z"
   },
   {
    "duration": 7,
    "start_time": "2022-02-04T08:35:33.170Z"
   },
   {
    "duration": 29,
    "start_time": "2022-02-04T08:36:03.354Z"
   },
   {
    "duration": 22,
    "start_time": "2022-02-04T08:39:35.019Z"
   },
   {
    "duration": 18,
    "start_time": "2022-02-04T08:44:08.744Z"
   },
   {
    "duration": 23,
    "start_time": "2022-02-04T08:44:41.177Z"
   },
   {
    "duration": 21,
    "start_time": "2022-02-04T08:44:59.591Z"
   },
   {
    "duration": 23,
    "start_time": "2022-02-04T08:45:17.383Z"
   },
   {
    "duration": 29,
    "start_time": "2022-02-04T08:45:25.975Z"
   },
   {
    "duration": 30,
    "start_time": "2022-02-04T08:45:46.639Z"
   },
   {
    "duration": 27,
    "start_time": "2022-02-04T08:49:18.663Z"
   },
   {
    "duration": 29,
    "start_time": "2022-02-04T08:49:56.702Z"
   },
   {
    "duration": 29,
    "start_time": "2022-02-04T08:53:08.608Z"
   },
   {
    "duration": 21,
    "start_time": "2022-02-04T08:53:43.550Z"
   },
   {
    "duration": 17,
    "start_time": "2022-02-04T08:55:40.462Z"
   },
   {
    "duration": 325,
    "start_time": "2022-02-04T09:08:45.802Z"
   },
   {
    "duration": 17,
    "start_time": "2022-02-04T09:10:14.067Z"
   },
   {
    "duration": 16,
    "start_time": "2022-02-04T09:10:34.789Z"
   },
   {
    "duration": 9,
    "start_time": "2022-02-04T09:10:42.148Z"
   },
   {
    "duration": 16,
    "start_time": "2022-02-04T09:18:43.648Z"
   },
   {
    "duration": 19,
    "start_time": "2022-02-04T09:19:00.995Z"
   },
   {
    "duration": 17,
    "start_time": "2022-02-04T09:19:20.795Z"
   },
   {
    "duration": 18,
    "start_time": "2022-02-04T09:21:48.426Z"
   },
   {
    "duration": 25,
    "start_time": "2022-02-04T09:22:09.543Z"
   },
   {
    "duration": 19,
    "start_time": "2022-02-04T09:32:30.192Z"
   },
   {
    "duration": 275,
    "start_time": "2022-02-04T09:41:39.311Z"
   },
   {
    "duration": 19,
    "start_time": "2022-02-04T09:43:13.080Z"
   },
   {
    "duration": 21,
    "start_time": "2022-02-04T09:43:34.101Z"
   },
   {
    "duration": 16,
    "start_time": "2022-02-04T09:44:05.926Z"
   },
   {
    "duration": 19,
    "start_time": "2022-02-04T09:44:18.661Z"
   },
   {
    "duration": 22,
    "start_time": "2022-02-04T09:44:51.205Z"
   },
   {
    "duration": 20,
    "start_time": "2022-02-04T09:45:25.831Z"
   },
   {
    "duration": 1488,
    "start_time": "2022-02-04T13:14:08.611Z"
   },
   {
    "duration": 534,
    "start_time": "2022-02-04T13:14:10.102Z"
   },
   {
    "duration": 36,
    "start_time": "2022-02-04T13:14:10.638Z"
   },
   {
    "duration": 7,
    "start_time": "2022-02-04T13:14:10.678Z"
   },
   {
    "duration": 14,
    "start_time": "2022-02-04T13:14:10.688Z"
   },
   {
    "duration": 7,
    "start_time": "2022-02-04T13:14:10.705Z"
   },
   {
    "duration": 13,
    "start_time": "2022-02-04T13:14:10.716Z"
   },
   {
    "duration": 11,
    "start_time": "2022-02-04T13:14:10.771Z"
   },
   {
    "duration": 14,
    "start_time": "2022-02-04T13:14:10.786Z"
   },
   {
    "duration": 8,
    "start_time": "2022-02-04T13:14:10.802Z"
   },
   {
    "duration": 56,
    "start_time": "2022-02-04T13:14:10.813Z"
   },
   {
    "duration": 20,
    "start_time": "2022-02-04T13:14:10.871Z"
   },
   {
    "duration": 6,
    "start_time": "2022-02-04T13:14:10.893Z"
   },
   {
    "duration": 73,
    "start_time": "2022-02-04T13:14:10.901Z"
   },
   {
    "duration": 6,
    "start_time": "2022-02-04T13:14:10.977Z"
   },
   {
    "duration": 165,
    "start_time": "2022-02-04T13:14:10.986Z"
   },
   {
    "duration": 4,
    "start_time": "2022-02-04T13:14:11.154Z"
   },
   {
    "duration": 120,
    "start_time": "2022-02-04T13:14:11.169Z"
   },
   {
    "duration": 78,
    "start_time": "2022-02-04T13:14:11.292Z"
   },
   {
    "duration": 54,
    "start_time": "2022-02-04T13:14:11.372Z"
   },
   {
    "duration": 7,
    "start_time": "2022-02-04T13:14:11.429Z"
   },
   {
    "duration": 85,
    "start_time": "2022-02-04T13:14:11.439Z"
   },
   {
    "duration": 3,
    "start_time": "2022-02-04T13:14:11.533Z"
   },
   {
    "duration": 41,
    "start_time": "2022-02-04T13:14:11.539Z"
   },
   {
    "duration": 47,
    "start_time": "2022-02-04T13:14:11.583Z"
   },
   {
    "duration": 63,
    "start_time": "2022-02-04T13:14:11.633Z"
   },
   {
    "duration": 31,
    "start_time": "2022-02-04T13:14:11.698Z"
   },
   {
    "duration": 38,
    "start_time": "2022-02-04T13:14:11.731Z"
   },
   {
    "duration": 43,
    "start_time": "2022-02-04T13:14:11.771Z"
   },
   {
    "duration": 2,
    "start_time": "2022-02-04T13:14:11.817Z"
   },
   {
    "duration": 54,
    "start_time": "2022-02-04T13:14:11.822Z"
   },
   {
    "duration": 140,
    "start_time": "2022-02-04T13:14:11.879Z"
   },
   {
    "duration": 62,
    "start_time": "2022-02-04T13:14:12.022Z"
   },
   {
    "duration": 69,
    "start_time": "2022-02-04T13:14:12.087Z"
   },
   {
    "duration": 61,
    "start_time": "2022-02-04T13:14:12.169Z"
   },
   {
    "duration": 59,
    "start_time": "2022-02-04T13:14:12.233Z"
   },
   {
    "duration": 15,
    "start_time": "2022-02-04T13:14:12.295Z"
   },
   {
    "duration": 25,
    "start_time": "2022-02-04T13:14:12.312Z"
   },
   {
    "duration": 22,
    "start_time": "2022-02-04T13:14:12.339Z"
   },
   {
    "duration": 10,
    "start_time": "2022-02-04T13:14:12.370Z"
   },
   {
    "duration": 23,
    "start_time": "2022-02-04T13:14:12.383Z"
   },
   {
    "duration": 903,
    "start_time": "2022-02-04T13:14:12.408Z"
   },
   {
    "duration": 92,
    "start_time": "2022-02-04T13:14:13.221Z"
   },
   {
    "duration": 87,
    "start_time": "2022-02-04T13:14:13.228Z"
   },
   {
    "duration": 82,
    "start_time": "2022-02-04T13:14:13.234Z"
   },
   {
    "duration": 77,
    "start_time": "2022-02-04T13:14:13.240Z"
   },
   {
    "duration": 54,
    "start_time": "2022-02-04T13:14:13.265Z"
   },
   {
    "duration": 49,
    "start_time": "2022-02-04T13:14:13.271Z"
   },
   {
    "duration": 44,
    "start_time": "2022-02-04T13:14:13.277Z"
   },
   {
    "duration": 40,
    "start_time": "2022-02-04T13:14:13.283Z"
   },
   {
    "duration": 35,
    "start_time": "2022-02-04T13:14:13.289Z"
   },
   {
    "duration": 29,
    "start_time": "2022-02-04T13:14:13.296Z"
   },
   {
    "duration": 23,
    "start_time": "2022-02-04T13:14:13.303Z"
   },
   {
    "duration": 10,
    "start_time": "2022-02-04T13:14:13.318Z"
   },
   {
    "duration": 4,
    "start_time": "2022-02-04T13:14:13.325Z"
   },
   {
    "duration": 0,
    "start_time": "2022-02-04T13:14:13.330Z"
   },
   {
    "duration": -6,
    "start_time": "2022-02-04T13:14:13.337Z"
   },
   {
    "duration": -10,
    "start_time": "2022-02-04T13:14:13.343Z"
   },
   {
    "duration": -15,
    "start_time": "2022-02-04T13:14:13.349Z"
   },
   {
    "duration": -20,
    "start_time": "2022-02-04T13:14:13.355Z"
   },
   {
    "duration": -26,
    "start_time": "2022-02-04T13:14:13.362Z"
   },
   {
    "duration": -6,
    "start_time": "2022-02-04T13:14:13.375Z"
   },
   {
    "duration": -12,
    "start_time": "2022-02-04T13:14:13.383Z"
   },
   {
    "duration": -17,
    "start_time": "2022-02-04T13:14:13.389Z"
   },
   {
    "duration": 20,
    "start_time": "2022-02-04T13:14:21.631Z"
   },
   {
    "duration": 478,
    "start_time": "2022-02-04T13:17:09.851Z"
   },
   {
    "duration": 472,
    "start_time": "2022-02-04T13:17:29.536Z"
   },
   {
    "duration": 494,
    "start_time": "2022-02-04T13:18:37.478Z"
   },
   {
    "duration": 740,
    "start_time": "2022-02-04T13:19:16.911Z"
   },
   {
    "duration": 492,
    "start_time": "2022-02-04T13:19:33.216Z"
   },
   {
    "duration": 597,
    "start_time": "2022-02-04T13:20:22.699Z"
   },
   {
    "duration": 491,
    "start_time": "2022-02-04T13:21:13.419Z"
   },
   {
    "duration": 807,
    "start_time": "2022-02-04T13:22:05.813Z"
   },
   {
    "duration": 505,
    "start_time": "2022-02-04T13:22:36.718Z"
   },
   {
    "duration": 772,
    "start_time": "2022-02-04T13:23:44.016Z"
   },
   {
    "duration": 278,
    "start_time": "2022-02-04T13:41:22.801Z"
   },
   {
    "duration": 6,
    "start_time": "2022-02-04T13:41:29.867Z"
   },
   {
    "duration": 422,
    "start_time": "2022-02-04T13:41:33.553Z"
   },
   {
    "duration": 6,
    "start_time": "2022-02-04T13:52:30.431Z"
   },
   {
    "duration": 104,
    "start_time": "2022-02-04T13:59:02.801Z"
   },
   {
    "duration": 7,
    "start_time": "2022-02-04T13:59:33.946Z"
   },
   {
    "duration": 99,
    "start_time": "2022-02-04T13:59:52.841Z"
   },
   {
    "duration": 7,
    "start_time": "2022-02-04T14:00:47.541Z"
   },
   {
    "duration": 7,
    "start_time": "2022-02-04T14:01:00.861Z"
   },
   {
    "duration": 408,
    "start_time": "2022-02-04T14:01:08.881Z"
   },
   {
    "duration": 7199,
    "start_time": "2022-02-04T14:08:50.295Z"
   },
   {
    "duration": -860,
    "start_time": "2022-02-04T14:09:29.583Z"
   },
   {
    "duration": 24260,
    "start_time": "2022-02-04T14:11:26.814Z"
   },
   {
    "duration": 46568,
    "start_time": "2022-02-04T14:12:36.567Z"
   },
   {
    "duration": 6,
    "start_time": "2022-02-04T15:27:09.261Z"
   },
   {
    "duration": 413,
    "start_time": "2022-02-04T15:27:13.227Z"
   },
   {
    "duration": 6,
    "start_time": "2022-02-04T15:41:27.922Z"
   },
   {
    "duration": 404,
    "start_time": "2022-02-04T15:41:38.381Z"
   },
   {
    "duration": 1068,
    "start_time": "2022-02-06T08:06:50.785Z"
   },
   {
    "duration": 360,
    "start_time": "2022-02-06T08:06:51.855Z"
   },
   {
    "duration": 17,
    "start_time": "2022-02-06T08:06:52.217Z"
   },
   {
    "duration": 3,
    "start_time": "2022-02-06T08:06:52.236Z"
   },
   {
    "duration": 6,
    "start_time": "2022-02-06T08:06:52.241Z"
   },
   {
    "duration": 3,
    "start_time": "2022-02-06T08:06:52.249Z"
   },
   {
    "duration": 8,
    "start_time": "2022-02-06T08:06:52.253Z"
   },
   {
    "duration": 5,
    "start_time": "2022-02-06T08:06:52.264Z"
   },
   {
    "duration": 4,
    "start_time": "2022-02-06T08:06:52.271Z"
   },
   {
    "duration": 4,
    "start_time": "2022-02-06T08:06:52.313Z"
   },
   {
    "duration": 15,
    "start_time": "2022-02-06T08:06:52.319Z"
   },
   {
    "duration": 11,
    "start_time": "2022-02-06T08:06:52.336Z"
   },
   {
    "duration": 4,
    "start_time": "2022-02-06T08:06:52.348Z"
   },
   {
    "duration": 59,
    "start_time": "2022-02-06T08:06:52.353Z"
   },
   {
    "duration": 4,
    "start_time": "2022-02-06T08:06:52.413Z"
   },
   {
    "duration": 56,
    "start_time": "2022-02-06T08:06:52.419Z"
   },
   {
    "duration": 2,
    "start_time": "2022-02-06T08:06:52.477Z"
   },
   {
    "duration": 69,
    "start_time": "2022-02-06T08:06:52.480Z"
   },
   {
    "duration": 32,
    "start_time": "2022-02-06T08:06:52.551Z"
   },
   {
    "duration": 40,
    "start_time": "2022-02-06T08:06:52.584Z"
   },
   {
    "duration": 4,
    "start_time": "2022-02-06T08:06:52.625Z"
   },
   {
    "duration": 39,
    "start_time": "2022-02-06T08:06:52.630Z"
   },
   {
    "duration": 2,
    "start_time": "2022-02-06T08:06:52.672Z"
   },
   {
    "duration": 37,
    "start_time": "2022-02-06T08:06:52.676Z"
   },
   {
    "duration": 24,
    "start_time": "2022-02-06T08:06:52.714Z"
   },
   {
    "duration": 27,
    "start_time": "2022-02-06T08:06:52.740Z"
   },
   {
    "duration": 20,
    "start_time": "2022-02-06T08:06:52.768Z"
   },
   {
    "duration": 25,
    "start_time": "2022-02-06T08:06:52.789Z"
   },
   {
    "duration": 30,
    "start_time": "2022-02-06T08:06:52.815Z"
   },
   {
    "duration": 2,
    "start_time": "2022-02-06T08:06:52.846Z"
   },
   {
    "duration": 20,
    "start_time": "2022-02-06T08:06:52.850Z"
   },
   {
    "duration": 102,
    "start_time": "2022-02-06T08:06:52.871Z"
   },
   {
    "duration": 39,
    "start_time": "2022-02-06T08:06:52.974Z"
   },
   {
    "duration": 42,
    "start_time": "2022-02-06T08:06:53.014Z"
   },
   {
    "duration": 33,
    "start_time": "2022-02-06T08:06:53.057Z"
   },
   {
    "duration": 37,
    "start_time": "2022-02-06T08:06:53.091Z"
   },
   {
    "duration": 4,
    "start_time": "2022-02-06T08:06:53.129Z"
   },
   {
    "duration": 9,
    "start_time": "2022-02-06T08:06:53.134Z"
   },
   {
    "duration": 16,
    "start_time": "2022-02-06T08:06:53.144Z"
   },
   {
    "duration": 6,
    "start_time": "2022-02-06T08:06:53.162Z"
   },
   {
    "duration": 4,
    "start_time": "2022-02-06T08:06:53.169Z"
   },
   {
    "duration": 37,
    "start_time": "2022-02-06T08:06:53.175Z"
   },
   {
    "duration": 311,
    "start_time": "2022-02-06T08:06:53.214Z"
   },
   {
    "duration": 250,
    "start_time": "2022-02-06T08:06:53.526Z"
   },
   {
    "duration": 269,
    "start_time": "2022-02-06T08:06:53.777Z"
   },
   {
    "duration": -693,
    "start_time": "2022-02-06T08:06:54.740Z"
   },
   {
    "duration": -704,
    "start_time": "2022-02-06T08:06:54.753Z"
   },
   {
    "duration": -746,
    "start_time": "2022-02-06T08:06:54.796Z"
   },
   {
    "duration": -760,
    "start_time": "2022-02-06T08:06:54.811Z"
   },
   {
    "duration": -772,
    "start_time": "2022-02-06T08:06:54.823Z"
   },
   {
    "duration": -782,
    "start_time": "2022-02-06T08:06:54.835Z"
   },
   {
    "duration": -792,
    "start_time": "2022-02-06T08:06:54.846Z"
   },
   {
    "duration": -805,
    "start_time": "2022-02-06T08:06:54.860Z"
   },
   {
    "duration": -816,
    "start_time": "2022-02-06T08:06:54.872Z"
   },
   {
    "duration": -827,
    "start_time": "2022-02-06T08:06:54.883Z"
   },
   {
    "duration": -858,
    "start_time": "2022-02-06T08:06:54.915Z"
   },
   {
    "duration": -868,
    "start_time": "2022-02-06T08:06:54.926Z"
   },
   {
    "duration": -874,
    "start_time": "2022-02-06T08:06:54.933Z"
   },
   {
    "duration": -880,
    "start_time": "2022-02-06T08:06:54.941Z"
   },
   {
    "duration": -886,
    "start_time": "2022-02-06T08:06:54.948Z"
   },
   {
    "duration": -892,
    "start_time": "2022-02-06T08:06:54.956Z"
   },
   {
    "duration": -898,
    "start_time": "2022-02-06T08:06:54.963Z"
   },
   {
    "duration": -905,
    "start_time": "2022-02-06T08:06:54.971Z"
   },
   {
    "duration": -910,
    "start_time": "2022-02-06T08:06:54.977Z"
   },
   {
    "duration": -916,
    "start_time": "2022-02-06T08:06:54.984Z"
   },
   {
    "duration": -922,
    "start_time": "2022-02-06T08:06:54.991Z"
   },
   {
    "duration": -931,
    "start_time": "2022-02-06T08:06:55.001Z"
   },
   {
    "duration": 306,
    "start_time": "2022-02-06T08:07:06.630Z"
   },
   {
    "duration": 289,
    "start_time": "2022-02-06T08:24:57.642Z"
   },
   {
    "duration": 289,
    "start_time": "2022-02-06T08:25:02.938Z"
   },
   {
    "duration": 286,
    "start_time": "2022-02-06T08:25:09.337Z"
   },
   {
    "duration": 352,
    "start_time": "2022-02-06T08:25:16.030Z"
   },
   {
    "duration": 302,
    "start_time": "2022-02-06T08:25:26.595Z"
   },
   {
    "duration": 295,
    "start_time": "2022-02-06T08:25:35.184Z"
   },
   {
    "duration": 39,
    "start_time": "2022-02-06T08:35:00.298Z"
   },
   {
    "duration": 14,
    "start_time": "2022-02-06T08:36:16.664Z"
   },
   {
    "duration": 12,
    "start_time": "2022-02-06T08:38:42.954Z"
   },
   {
    "duration": 13,
    "start_time": "2022-02-06T09:07:18.688Z"
   },
   {
    "duration": 13,
    "start_time": "2022-02-06T09:13:00.688Z"
   },
   {
    "duration": 300,
    "start_time": "2022-02-06T09:13:18.267Z"
   },
   {
    "duration": 316,
    "start_time": "2022-02-06T09:13:41.027Z"
   },
   {
    "duration": 297,
    "start_time": "2022-02-06T09:14:18.327Z"
   },
   {
    "duration": 298,
    "start_time": "2022-02-06T09:14:23.425Z"
   },
   {
    "duration": 302,
    "start_time": "2022-02-06T09:14:30.621Z"
   },
   {
    "duration": 251,
    "start_time": "2022-02-06T09:14:39.142Z"
   },
   {
    "duration": 16,
    "start_time": "2022-02-06T09:16:54.162Z"
   },
   {
    "duration": 16,
    "start_time": "2022-02-06T09:18:14.626Z"
   },
   {
    "duration": 17,
    "start_time": "2022-02-06T09:20:01.826Z"
   },
   {
    "duration": 55,
    "start_time": "2022-02-06T09:23:18.245Z"
   },
   {
    "duration": 196,
    "start_time": "2022-02-06T09:23:40.180Z"
   },
   {
    "duration": 5,
    "start_time": "2022-02-06T09:23:52.269Z"
   },
   {
    "duration": 267,
    "start_time": "2022-02-06T09:24:04.112Z"
   },
   {
    "duration": 262,
    "start_time": "2022-02-06T09:25:10.800Z"
   },
   {
    "duration": 379,
    "start_time": "2022-02-06T09:29:34.712Z"
   },
   {
    "duration": 17,
    "start_time": "2022-02-06T09:30:14.093Z"
   },
   {
    "duration": 4,
    "start_time": "2022-02-06T09:49:26.804Z"
   },
   {
    "duration": 338,
    "start_time": "2022-02-07T08:18:43.618Z"
   },
   {
    "duration": -322,
    "start_time": "2022-02-07T08:18:44.283Z"
   },
   {
    "duration": -328,
    "start_time": "2022-02-07T08:18:44.290Z"
   },
   {
    "duration": -338,
    "start_time": "2022-02-07T08:18:44.302Z"
   },
   {
    "duration": -345,
    "start_time": "2022-02-07T08:18:44.311Z"
   },
   {
    "duration": -355,
    "start_time": "2022-02-07T08:18:44.322Z"
   },
   {
    "duration": -366,
    "start_time": "2022-02-07T08:18:44.335Z"
   },
   {
    "duration": -376,
    "start_time": "2022-02-07T08:18:44.347Z"
   },
   {
    "duration": -382,
    "start_time": "2022-02-07T08:18:44.355Z"
   },
   {
    "duration": -428,
    "start_time": "2022-02-07T08:18:44.403Z"
   },
   {
    "duration": -432,
    "start_time": "2022-02-07T08:18:44.409Z"
   },
   {
    "duration": -439,
    "start_time": "2022-02-07T08:18:44.417Z"
   },
   {
    "duration": -444,
    "start_time": "2022-02-07T08:18:44.424Z"
   },
   {
    "duration": -456,
    "start_time": "2022-02-07T08:18:44.438Z"
   },
   {
    "duration": -465,
    "start_time": "2022-02-07T08:18:44.448Z"
   },
   {
    "duration": -470,
    "start_time": "2022-02-07T08:18:44.455Z"
   },
   {
    "duration": -477,
    "start_time": "2022-02-07T08:18:44.463Z"
   },
   {
    "duration": -485,
    "start_time": "2022-02-07T08:18:44.472Z"
   },
   {
    "duration": -492,
    "start_time": "2022-02-07T08:18:44.481Z"
   },
   {
    "duration": -502,
    "start_time": "2022-02-07T08:18:44.493Z"
   },
   {
    "duration": -521,
    "start_time": "2022-02-07T08:18:44.514Z"
   },
   {
    "duration": -529,
    "start_time": "2022-02-07T08:18:44.523Z"
   },
   {
    "duration": -538,
    "start_time": "2022-02-07T08:18:44.534Z"
   },
   {
    "duration": -545,
    "start_time": "2022-02-07T08:18:44.542Z"
   },
   {
    "duration": -553,
    "start_time": "2022-02-07T08:18:44.552Z"
   },
   {
    "duration": -561,
    "start_time": "2022-02-07T08:18:44.562Z"
   },
   {
    "duration": -568,
    "start_time": "2022-02-07T08:18:44.570Z"
   },
   {
    "duration": -572,
    "start_time": "2022-02-07T08:18:44.576Z"
   },
   {
    "duration": -583,
    "start_time": "2022-02-07T08:18:44.588Z"
   },
   {
    "duration": -590,
    "start_time": "2022-02-07T08:18:44.597Z"
   },
   {
    "duration": -600,
    "start_time": "2022-02-07T08:18:44.608Z"
   },
   {
    "duration": -559,
    "start_time": "2022-02-07T08:18:44.628Z"
   },
   {
    "duration": -566,
    "start_time": "2022-02-07T08:18:44.637Z"
   },
   {
    "duration": -575,
    "start_time": "2022-02-07T08:18:44.647Z"
   },
   {
    "duration": -583,
    "start_time": "2022-02-07T08:18:44.657Z"
   },
   {
    "duration": -592,
    "start_time": "2022-02-07T08:18:44.667Z"
   },
   {
    "duration": -597,
    "start_time": "2022-02-07T08:18:44.674Z"
   },
   {
    "duration": -604,
    "start_time": "2022-02-07T08:18:44.682Z"
   },
   {
    "duration": -609,
    "start_time": "2022-02-07T08:18:44.688Z"
   },
   {
    "duration": -614,
    "start_time": "2022-02-07T08:18:44.695Z"
   },
   {
    "duration": -619,
    "start_time": "2022-02-07T08:18:44.701Z"
   },
   {
    "duration": -624,
    "start_time": "2022-02-07T08:18:44.707Z"
   },
   {
    "duration": -629,
    "start_time": "2022-02-07T08:18:44.714Z"
   },
   {
    "duration": -634,
    "start_time": "2022-02-07T08:18:44.720Z"
   },
   {
    "duration": -648,
    "start_time": "2022-02-07T08:18:44.735Z"
   },
   {
    "duration": -652,
    "start_time": "2022-02-07T08:18:44.741Z"
   },
   {
    "duration": -658,
    "start_time": "2022-02-07T08:18:44.748Z"
   },
   {
    "duration": -662,
    "start_time": "2022-02-07T08:18:44.754Z"
   },
   {
    "duration": -668,
    "start_time": "2022-02-07T08:18:44.761Z"
   },
   {
    "duration": -673,
    "start_time": "2022-02-07T08:18:44.767Z"
   },
   {
    "duration": -678,
    "start_time": "2022-02-07T08:18:44.774Z"
   },
   {
    "duration": -683,
    "start_time": "2022-02-07T08:18:44.780Z"
   },
   {
    "duration": -687,
    "start_time": "2022-02-07T08:18:44.786Z"
   },
   {
    "duration": 335,
    "start_time": "2022-02-07T08:18:44.103Z"
   },
   {
    "duration": -789,
    "start_time": "2022-02-07T08:18:45.230Z"
   },
   {
    "duration": -795,
    "start_time": "2022-02-07T08:18:45.237Z"
   },
   {
    "duration": -800,
    "start_time": "2022-02-07T08:18:45.243Z"
   },
   {
    "duration": -824,
    "start_time": "2022-02-07T08:18:45.269Z"
   },
   {
    "duration": -830,
    "start_time": "2022-02-07T08:18:45.276Z"
   },
   {
    "duration": -854,
    "start_time": "2022-02-07T08:18:45.301Z"
   },
   {
    "duration": -859,
    "start_time": "2022-02-07T08:18:45.308Z"
   },
   {
    "duration": -897,
    "start_time": "2022-02-07T08:18:45.348Z"
   },
   {
    "duration": -902,
    "start_time": "2022-02-07T08:18:45.355Z"
   },
   {
    "duration": -906,
    "start_time": "2022-02-07T08:18:45.361Z"
   },
   {
    "duration": -921,
    "start_time": "2022-02-07T08:18:45.378Z"
   },
   {
    "duration": -926,
    "start_time": "2022-02-07T08:18:45.385Z"
   },
   {
    "duration": -931,
    "start_time": "2022-02-07T08:18:45.393Z"
   },
   {
    "duration": -953,
    "start_time": "2022-02-07T08:18:45.417Z"
   },
   {
    "duration": -959,
    "start_time": "2022-02-07T08:18:45.425Z"
   },
   {
    "duration": 1543,
    "start_time": "2022-02-07T08:23:11.596Z"
   },
   {
    "duration": 4,
    "start_time": "2022-02-07T08:23:15.313Z"
   },
   {
    "duration": 582,
    "start_time": "2022-02-07T08:23:15.323Z"
   },
   {
    "duration": 24,
    "start_time": "2022-02-07T08:23:15.908Z"
   },
   {
    "duration": 5,
    "start_time": "2022-02-07T08:23:15.936Z"
   },
   {
    "duration": 10,
    "start_time": "2022-02-07T08:23:15.970Z"
   },
   {
    "duration": 7,
    "start_time": "2022-02-07T08:23:15.982Z"
   },
   {
    "duration": 11,
    "start_time": "2022-02-07T08:23:15.992Z"
   },
   {
    "duration": 9,
    "start_time": "2022-02-07T08:23:16.006Z"
   },
   {
    "duration": 50,
    "start_time": "2022-02-07T08:23:16.022Z"
   },
   {
    "duration": 7,
    "start_time": "2022-02-07T08:23:16.075Z"
   },
   {
    "duration": 22,
    "start_time": "2022-02-07T08:23:16.084Z"
   },
   {
    "duration": 20,
    "start_time": "2022-02-07T08:23:16.108Z"
   },
   {
    "duration": 5,
    "start_time": "2022-02-07T08:23:16.170Z"
   },
   {
    "duration": 41,
    "start_time": "2022-02-07T08:23:16.178Z"
   },
   {
    "duration": 5,
    "start_time": "2022-02-07T08:23:16.222Z"
   },
   {
    "duration": 117,
    "start_time": "2022-02-07T08:23:16.229Z"
   },
   {
    "duration": 3,
    "start_time": "2022-02-07T08:23:16.348Z"
   },
   {
    "duration": 89,
    "start_time": "2022-02-07T08:23:16.353Z"
   },
   {
    "duration": 62,
    "start_time": "2022-02-07T08:23:16.444Z"
   },
   {
    "duration": 62,
    "start_time": "2022-02-07T08:23:16.508Z"
   },
   {
    "duration": 5,
    "start_time": "2022-02-07T08:23:16.573Z"
   },
   {
    "duration": 64,
    "start_time": "2022-02-07T08:23:16.581Z"
   },
   {
    "duration": 3,
    "start_time": "2022-02-07T08:23:16.647Z"
   },
   {
    "duration": 34,
    "start_time": "2022-02-07T08:23:16.656Z"
   },
   {
    "duration": 87,
    "start_time": "2022-02-07T08:23:16.694Z"
   },
   {
    "duration": 41,
    "start_time": "2022-02-07T08:23:16.783Z"
   },
   {
    "duration": 49,
    "start_time": "2022-02-07T08:23:16.826Z"
   },
   {
    "duration": 5,
    "start_time": "2022-02-07T08:23:16.877Z"
   },
   {
    "duration": 48,
    "start_time": "2022-02-07T08:23:16.884Z"
   },
   {
    "duration": 3,
    "start_time": "2022-02-07T08:23:16.934Z"
   },
   {
    "duration": 59,
    "start_time": "2022-02-07T08:23:16.940Z"
   },
   {
    "duration": 147,
    "start_time": "2022-02-07T08:23:17.001Z"
   },
   {
    "duration": 57,
    "start_time": "2022-02-07T08:23:17.151Z"
   },
   {
    "duration": 80,
    "start_time": "2022-02-07T08:23:17.210Z"
   },
   {
    "duration": 78,
    "start_time": "2022-02-07T08:23:17.293Z"
   },
   {
    "duration": 34,
    "start_time": "2022-02-07T08:23:17.374Z"
   },
   {
    "duration": 8,
    "start_time": "2022-02-07T08:23:17.411Z"
   },
   {
    "duration": 9,
    "start_time": "2022-02-07T08:23:17.421Z"
   },
   {
    "duration": 54,
    "start_time": "2022-02-07T08:23:17.432Z"
   },
   {
    "duration": 15,
    "start_time": "2022-02-07T08:23:17.489Z"
   },
   {
    "duration": 14,
    "start_time": "2022-02-07T08:23:17.507Z"
   },
   {
    "duration": 53,
    "start_time": "2022-02-07T08:23:17.524Z"
   },
   {
    "duration": 597,
    "start_time": "2022-02-07T08:23:17.580Z"
   },
   {
    "duration": 417,
    "start_time": "2022-02-07T08:23:18.179Z"
   },
   {
    "duration": 24,
    "start_time": "2022-02-07T08:23:18.598Z"
   },
   {
    "duration": 538,
    "start_time": "2022-02-07T08:23:18.625Z"
   },
   {
    "duration": 444,
    "start_time": "2022-02-07T08:23:19.165Z"
   },
   {
    "duration": 24,
    "start_time": "2022-02-07T08:23:19.611Z"
   },
   {
    "duration": 496,
    "start_time": "2022-02-07T08:23:19.637Z"
   },
   {
    "duration": 487,
    "start_time": "2022-02-07T08:23:20.136Z"
   },
   {
    "duration": 334,
    "start_time": "2022-02-07T08:23:20.626Z"
   },
   {
    "duration": -415,
    "start_time": "2022-02-07T08:23:21.378Z"
   },
   {
    "duration": -420,
    "start_time": "2022-02-07T08:23:21.385Z"
   },
   {
    "duration": -426,
    "start_time": "2022-02-07T08:23:21.393Z"
   },
   {
    "duration": -434,
    "start_time": "2022-02-07T08:23:21.404Z"
   },
   {
    "duration": -455,
    "start_time": "2022-02-07T08:23:21.427Z"
   },
   {
    "duration": -466,
    "start_time": "2022-02-07T08:23:21.440Z"
   },
   {
    "duration": -475,
    "start_time": "2022-02-07T08:23:21.451Z"
   },
   {
    "duration": -479,
    "start_time": "2022-02-07T08:23:21.457Z"
   },
   {
    "duration": -485,
    "start_time": "2022-02-07T08:23:21.466Z"
   },
   {
    "duration": -490,
    "start_time": "2022-02-07T08:23:21.473Z"
   },
   {
    "duration": -496,
    "start_time": "2022-02-07T08:23:21.481Z"
   },
   {
    "duration": -501,
    "start_time": "2022-02-07T08:23:21.488Z"
   },
   {
    "duration": -505,
    "start_time": "2022-02-07T08:23:21.495Z"
   },
   {
    "duration": -511,
    "start_time": "2022-02-07T08:23:21.503Z"
   },
   {
    "duration": -516,
    "start_time": "2022-02-07T08:23:21.510Z"
   },
   {
    "duration": -519,
    "start_time": "2022-02-07T08:23:21.516Z"
   },
   {
    "duration": -540,
    "start_time": "2022-02-07T08:23:21.539Z"
   },
   {
    "duration": -545,
    "start_time": "2022-02-07T08:23:21.546Z"
   },
   {
    "duration": -553,
    "start_time": "2022-02-07T08:23:21.557Z"
   },
   {
    "duration": -558,
    "start_time": "2022-02-07T08:23:21.564Z"
   },
   {
    "duration": -564,
    "start_time": "2022-02-07T08:23:21.572Z"
   },
   {
    "duration": -569,
    "start_time": "2022-02-07T08:23:21.579Z"
   },
   {
    "duration": 449,
    "start_time": "2022-02-07T08:24:59.001Z"
   },
   {
    "duration": 25,
    "start_time": "2022-02-07T08:27:06.168Z"
   },
   {
    "duration": 385,
    "start_time": "2022-02-07T08:27:50.093Z"
   },
   {
    "duration": 463,
    "start_time": "2022-02-07T08:27:53.773Z"
   },
   {
    "duration": 403,
    "start_time": "2022-02-07T08:30:00.870Z"
   },
   {
    "duration": 476,
    "start_time": "2022-02-07T08:31:33.936Z"
   },
   {
    "duration": 471,
    "start_time": "2022-02-07T08:31:43.989Z"
   },
   {
    "duration": 464,
    "start_time": "2022-02-07T08:31:48.949Z"
   },
   {
    "duration": 447,
    "start_time": "2022-02-07T08:33:48.378Z"
   },
   {
    "duration": 29,
    "start_time": "2022-02-07T08:41:45.863Z"
   },
   {
    "duration": 440,
    "start_time": "2022-02-07T08:45:33.686Z"
   },
   {
    "duration": 457,
    "start_time": "2022-02-07T08:46:36.299Z"
   },
   {
    "duration": 496,
    "start_time": "2022-02-07T08:46:44.979Z"
   },
   {
    "duration": 25,
    "start_time": "2022-02-07T08:47:01.480Z"
   },
   {
    "duration": 25,
    "start_time": "2022-02-07T09:26:15.650Z"
   },
   {
    "duration": 20,
    "start_time": "2022-02-07T09:26:41.032Z"
   },
   {
    "duration": 16,
    "start_time": "2022-02-07T09:30:23.607Z"
   },
   {
    "duration": 17,
    "start_time": "2022-02-07T09:30:49.767Z"
   },
   {
    "duration": 98,
    "start_time": "2022-02-07T09:38:41.222Z"
   },
   {
    "duration": 29,
    "start_time": "2022-02-07T09:38:53.190Z"
   },
   {
    "duration": 21,
    "start_time": "2022-02-07T09:39:01.368Z"
   },
   {
    "duration": 1681,
    "start_time": "2022-02-07T13:06:41.314Z"
   },
   {
    "duration": 498,
    "start_time": "2022-02-07T13:06:42.997Z"
   },
   {
    "duration": 26,
    "start_time": "2022-02-07T13:06:43.499Z"
   },
   {
    "duration": 23,
    "start_time": "2022-02-07T13:06:43.529Z"
   },
   {
    "duration": 11,
    "start_time": "2022-02-07T13:06:43.556Z"
   },
   {
    "duration": 10,
    "start_time": "2022-02-07T13:06:43.569Z"
   },
   {
    "duration": 18,
    "start_time": "2022-02-07T13:06:43.582Z"
   },
   {
    "duration": 9,
    "start_time": "2022-02-07T13:06:43.602Z"
   },
   {
    "duration": 8,
    "start_time": "2022-02-07T13:06:43.649Z"
   },
   {
    "duration": 11,
    "start_time": "2022-02-07T13:06:43.659Z"
   },
   {
    "duration": 22,
    "start_time": "2022-02-07T13:06:43.672Z"
   },
   {
    "duration": 52,
    "start_time": "2022-02-07T13:06:43.697Z"
   },
   {
    "duration": 6,
    "start_time": "2022-02-07T13:06:43.751Z"
   },
   {
    "duration": 49,
    "start_time": "2022-02-07T13:06:43.759Z"
   },
   {
    "duration": 6,
    "start_time": "2022-02-07T13:06:43.811Z"
   },
   {
    "duration": 100,
    "start_time": "2022-02-07T13:06:43.819Z"
   },
   {
    "duration": 3,
    "start_time": "2022-02-07T13:06:43.922Z"
   },
   {
    "duration": 89,
    "start_time": "2022-02-07T13:06:43.927Z"
   },
   {
    "duration": 60,
    "start_time": "2022-02-07T13:06:44.018Z"
   },
   {
    "duration": 34,
    "start_time": "2022-02-07T13:06:44.080Z"
   },
   {
    "duration": 6,
    "start_time": "2022-02-07T13:06:44.116Z"
   },
   {
    "duration": 51,
    "start_time": "2022-02-07T13:06:44.148Z"
   },
   {
    "duration": 3,
    "start_time": "2022-02-07T13:06:44.201Z"
   },
   {
    "duration": 48,
    "start_time": "2022-02-07T13:06:44.206Z"
   },
   {
    "duration": 51,
    "start_time": "2022-02-07T13:06:44.256Z"
   },
   {
    "duration": 58,
    "start_time": "2022-02-07T13:06:44.309Z"
   },
   {
    "duration": 28,
    "start_time": "2022-02-07T13:06:44.372Z"
   },
   {
    "duration": 6,
    "start_time": "2022-02-07T13:06:44.403Z"
   },
   {
    "duration": 88,
    "start_time": "2022-02-07T13:06:44.412Z"
   },
   {
    "duration": 3,
    "start_time": "2022-02-07T13:06:44.502Z"
   },
   {
    "duration": 51,
    "start_time": "2022-02-07T13:06:44.507Z"
   },
   {
    "duration": 127,
    "start_time": "2022-02-07T13:06:44.560Z"
   },
   {
    "duration": 45,
    "start_time": "2022-02-07T13:06:44.689Z"
   },
   {
    "duration": 75,
    "start_time": "2022-02-07T13:06:44.736Z"
   },
   {
    "duration": 75,
    "start_time": "2022-02-07T13:06:44.813Z"
   },
   {
    "duration": 33,
    "start_time": "2022-02-07T13:06:44.891Z"
   },
   {
    "duration": 33,
    "start_time": "2022-02-07T13:06:44.927Z"
   },
   {
    "duration": 13,
    "start_time": "2022-02-07T13:06:44.962Z"
   },
   {
    "duration": 18,
    "start_time": "2022-02-07T13:06:44.978Z"
   },
   {
    "duration": 10,
    "start_time": "2022-02-07T13:06:44.998Z"
   },
   {
    "duration": 16,
    "start_time": "2022-02-07T13:06:45.011Z"
   },
   {
    "duration": 40,
    "start_time": "2022-02-07T13:06:45.030Z"
   },
   {
    "duration": 462,
    "start_time": "2022-02-07T13:06:45.072Z"
   },
   {
    "duration": 377,
    "start_time": "2022-02-07T13:06:45.536Z"
   },
   {
    "duration": 40,
    "start_time": "2022-02-07T13:06:45.916Z"
   },
   {
    "duration": 456,
    "start_time": "2022-02-07T13:06:45.959Z"
   },
   {
    "duration": 396,
    "start_time": "2022-02-07T13:06:46.417Z"
   },
   {
    "duration": 38,
    "start_time": "2022-02-07T13:06:46.816Z"
   },
   {
    "duration": 461,
    "start_time": "2022-02-07T13:06:46.857Z"
   },
   {
    "duration": 377,
    "start_time": "2022-02-07T13:06:47.322Z"
   },
   {
    "duration": 25,
    "start_time": "2022-02-07T13:06:47.702Z"
   },
   {
    "duration": 602,
    "start_time": "2022-02-07T13:06:47.750Z"
   },
   {
    "duration": 119,
    "start_time": "2022-02-07T13:06:48.235Z"
   },
   {
    "duration": 8,
    "start_time": "2022-02-07T13:30:25.586Z"
   },
   {
    "duration": 19,
    "start_time": "2022-02-07T13:32:32.707Z"
   },
   {
    "duration": 8,
    "start_time": "2022-02-07T13:40:04.593Z"
   },
   {
    "duration": 101,
    "start_time": "2022-02-07T13:41:08.647Z"
   },
   {
    "duration": 8,
    "start_time": "2022-02-07T13:41:20.327Z"
   },
   {
    "duration": 9,
    "start_time": "2022-02-07T13:46:23.461Z"
   },
   {
    "duration": 512,
    "start_time": "2022-02-07T13:46:59.878Z"
   },
   {
    "duration": 296,
    "start_time": "2022-02-07T13:47:31.246Z"
   },
   {
    "duration": 14,
    "start_time": "2022-02-07T13:50:03.191Z"
   },
   {
    "duration": 11,
    "start_time": "2022-02-07T13:51:24.271Z"
   },
   {
    "duration": 25,
    "start_time": "2022-02-07T13:53:13.194Z"
   },
   {
    "duration": 92,
    "start_time": "2022-02-07T13:53:39.466Z"
   },
   {
    "duration": 10,
    "start_time": "2022-02-07T13:54:19.461Z"
   },
   {
    "duration": 18,
    "start_time": "2022-02-07T13:55:50.740Z"
   },
   {
    "duration": 19,
    "start_time": "2022-02-07T13:56:54.809Z"
   },
   {
    "duration": 18,
    "start_time": "2022-02-07T13:57:08.765Z"
   },
   {
    "duration": 20,
    "start_time": "2022-02-07T13:57:25.186Z"
   },
   {
    "duration": 19,
    "start_time": "2022-02-07T13:57:53.412Z"
   },
   {
    "duration": 26,
    "start_time": "2022-02-07T13:58:21.926Z"
   },
   {
    "duration": 21,
    "start_time": "2022-02-07T13:59:03.410Z"
   },
   {
    "duration": 103,
    "start_time": "2022-02-07T14:03:44.446Z"
   },
   {
    "duration": 9,
    "start_time": "2022-02-07T14:04:10.751Z"
   },
   {
    "duration": 20,
    "start_time": "2022-02-07T14:49:24.240Z"
   },
   {
    "duration": 8,
    "start_time": "2022-02-07T14:51:09.175Z"
   },
   {
    "duration": 7,
    "start_time": "2022-02-07T14:51:36.091Z"
   },
   {
    "duration": 7,
    "start_time": "2022-02-07T14:54:10.832Z"
   },
   {
    "duration": 7,
    "start_time": "2022-02-07T15:25:39.566Z"
   },
   {
    "duration": 7,
    "start_time": "2022-02-07T15:25:47.361Z"
   },
   {
    "duration": 6,
    "start_time": "2022-02-07T15:26:02.502Z"
   },
   {
    "duration": 552,
    "start_time": "2022-02-07T15:42:32.384Z"
   },
   {
    "duration": 410,
    "start_time": "2022-02-07T15:42:43.732Z"
   },
   {
    "duration": 1525,
    "start_time": "2022-02-08T08:39:20.394Z"
   },
   {
    "duration": 534,
    "start_time": "2022-02-08T08:39:21.921Z"
   },
   {
    "duration": 26,
    "start_time": "2022-02-08T08:39:22.459Z"
   },
   {
    "duration": 7,
    "start_time": "2022-02-08T08:39:22.489Z"
   },
   {
    "duration": 12,
    "start_time": "2022-02-08T08:39:22.499Z"
   },
   {
    "duration": 36,
    "start_time": "2022-02-08T08:39:22.513Z"
   },
   {
    "duration": 14,
    "start_time": "2022-02-08T08:39:22.552Z"
   },
   {
    "duration": 9,
    "start_time": "2022-02-08T08:39:22.569Z"
   },
   {
    "duration": 8,
    "start_time": "2022-02-08T08:39:22.586Z"
   },
   {
    "duration": 58,
    "start_time": "2022-02-08T08:39:22.599Z"
   },
   {
    "duration": 8,
    "start_time": "2022-02-08T08:39:22.660Z"
   },
   {
    "duration": 33,
    "start_time": "2022-02-08T08:39:22.671Z"
   },
   {
    "duration": 56,
    "start_time": "2022-02-08T08:39:22.707Z"
   },
   {
    "duration": 10,
    "start_time": "2022-02-08T08:39:22.766Z"
   },
   {
    "duration": 70,
    "start_time": "2022-02-08T08:39:22.779Z"
   },
   {
    "duration": 6,
    "start_time": "2022-02-08T08:39:22.851Z"
   },
   {
    "duration": 97,
    "start_time": "2022-02-08T08:39:22.860Z"
   },
   {
    "duration": 3,
    "start_time": "2022-02-08T08:39:22.960Z"
   },
   {
    "duration": 91,
    "start_time": "2022-02-08T08:39:22.966Z"
   },
   {
    "duration": 43,
    "start_time": "2022-02-08T08:39:23.060Z"
   },
   {
    "duration": 62,
    "start_time": "2022-02-08T08:39:23.106Z"
   },
   {
    "duration": 5,
    "start_time": "2022-02-08T08:39:23.170Z"
   },
   {
    "duration": 76,
    "start_time": "2022-02-08T08:39:23.178Z"
   },
   {
    "duration": 3,
    "start_time": "2022-02-08T08:39:23.256Z"
   },
   {
    "duration": 28,
    "start_time": "2022-02-08T08:39:23.261Z"
   },
   {
    "duration": 68,
    "start_time": "2022-02-08T08:39:23.291Z"
   },
   {
    "duration": 40,
    "start_time": "2022-02-08T08:39:23.365Z"
   },
   {
    "duration": 55,
    "start_time": "2022-02-08T08:39:23.408Z"
   },
   {
    "duration": 16,
    "start_time": "2022-02-08T08:39:23.466Z"
   },
   {
    "duration": 60,
    "start_time": "2022-02-08T08:39:23.485Z"
   },
   {
    "duration": 3,
    "start_time": "2022-02-08T08:39:23.548Z"
   },
   {
    "duration": 41,
    "start_time": "2022-02-08T08:39:23.553Z"
   },
   {
    "duration": 132,
    "start_time": "2022-02-08T08:39:23.597Z"
   },
   {
    "duration": 50,
    "start_time": "2022-02-08T08:39:23.732Z"
   },
   {
    "duration": 83,
    "start_time": "2022-02-08T08:39:23.786Z"
   },
   {
    "duration": 56,
    "start_time": "2022-02-08T08:39:23.872Z"
   },
   {
    "duration": 48,
    "start_time": "2022-02-08T08:39:23.931Z"
   },
   {
    "duration": 15,
    "start_time": "2022-02-08T08:39:23.982Z"
   },
   {
    "duration": 9,
    "start_time": "2022-02-08T08:39:23.999Z"
   },
   {
    "duration": 43,
    "start_time": "2022-02-08T08:39:24.011Z"
   },
   {
    "duration": 14,
    "start_time": "2022-02-08T08:39:24.056Z"
   },
   {
    "duration": 15,
    "start_time": "2022-02-08T08:39:24.072Z"
   },
   {
    "duration": 32,
    "start_time": "2022-02-08T08:39:24.089Z"
   },
   {
    "duration": 492,
    "start_time": "2022-02-08T08:39:24.124Z"
   },
   {
    "duration": 412,
    "start_time": "2022-02-08T08:39:24.618Z"
   },
   {
    "duration": 34,
    "start_time": "2022-02-08T08:39:25.032Z"
   },
   {
    "duration": 661,
    "start_time": "2022-02-08T08:39:25.068Z"
   },
   {
    "duration": 420,
    "start_time": "2022-02-08T08:39:25.732Z"
   },
   {
    "duration": 29,
    "start_time": "2022-02-08T08:39:26.155Z"
   },
   {
    "duration": 502,
    "start_time": "2022-02-08T08:39:26.187Z"
   },
   {
    "duration": 398,
    "start_time": "2022-02-08T08:39:26.692Z"
   },
   {
    "duration": 5,
    "start_time": "2022-02-08T08:39:27.093Z"
   },
   {
    "duration": 11,
    "start_time": "2022-02-08T08:39:27.101Z"
   },
   {
    "duration": 580,
    "start_time": "2022-02-08T08:39:27.115Z"
   },
   {
    "duration": 14,
    "start_time": "2022-02-08T08:39:27.684Z"
   },
   {
    "duration": 10,
    "start_time": "2022-02-08T08:39:27.690Z"
   },
   {
    "duration": -13,
    "start_time": "2022-02-08T08:39:27.715Z"
   },
   {
    "duration": -16,
    "start_time": "2022-02-08T08:39:27.720Z"
   },
   {
    "duration": -19,
    "start_time": "2022-02-08T08:39:27.725Z"
   },
   {
    "duration": -23,
    "start_time": "2022-02-08T08:39:27.731Z"
   },
   {
    "duration": 588,
    "start_time": "2022-02-08T08:39:53.084Z"
   },
   {
    "duration": 366,
    "start_time": "2022-02-08T08:50:25.708Z"
   },
   {
    "duration": 21,
    "start_time": "2022-02-08T08:52:02.532Z"
   },
   {
    "duration": 9,
    "start_time": "2022-02-08T08:52:02.556Z"
   },
   {
    "duration": 25,
    "start_time": "2022-02-08T08:52:02.568Z"
   },
   {
    "duration": 26,
    "start_time": "2022-02-08T08:52:02.596Z"
   },
   {
    "duration": 30,
    "start_time": "2022-02-08T08:52:02.624Z"
   },
   {
    "duration": 93,
    "start_time": "2022-02-08T08:54:05.565Z"
   },
   {
    "duration": 101,
    "start_time": "2022-02-08T08:55:24.825Z"
   },
   {
    "duration": 17,
    "start_time": "2022-02-08T09:02:51.278Z"
   },
   {
    "duration": 16,
    "start_time": "2022-02-08T09:03:57.793Z"
   },
   {
    "duration": 389,
    "start_time": "2022-02-08T09:04:16.565Z"
   },
   {
    "duration": 439,
    "start_time": "2022-02-08T09:04:31.747Z"
   },
   {
    "duration": 9,
    "start_time": "2022-02-08T09:06:54.825Z"
   },
   {
    "duration": 20,
    "start_time": "2022-02-08T09:16:03.643Z"
   },
   {
    "duration": 11,
    "start_time": "2022-02-08T09:16:53.182Z"
   },
   {
    "duration": 10,
    "start_time": "2022-02-08T09:17:09.145Z"
   },
   {
    "duration": 9,
    "start_time": "2022-02-08T09:17:26.978Z"
   },
   {
    "duration": 9,
    "start_time": "2022-02-08T09:22:27.224Z"
   },
   {
    "duration": 1245,
    "start_time": "2022-02-08T09:25:56.855Z"
   },
   {
    "duration": 20,
    "start_time": "2022-02-08T09:26:08.923Z"
   },
   {
    "duration": 21,
    "start_time": "2022-02-08T09:26:15.243Z"
   },
   {
    "duration": 1276,
    "start_time": "2022-02-08T09:27:46.096Z"
   },
   {
    "duration": 1173,
    "start_time": "2022-02-08T09:27:50.072Z"
   },
   {
    "duration": 21,
    "start_time": "2022-02-08T09:27:53.764Z"
   },
   {
    "duration": 17,
    "start_time": "2022-02-08T09:28:40.239Z"
   },
   {
    "duration": 10,
    "start_time": "2022-02-08T09:29:14.644Z"
   },
   {
    "duration": 12,
    "start_time": "2022-02-08T09:29:26.831Z"
   },
   {
    "duration": 15,
    "start_time": "2022-02-08T09:29:49.947Z"
   },
   {
    "duration": 307,
    "start_time": "2022-02-08T09:30:24.577Z"
   },
   {
    "duration": 10,
    "start_time": "2022-02-08T09:30:42.457Z"
   },
   {
    "duration": 16,
    "start_time": "2022-02-08T09:30:55.532Z"
   },
   {
    "duration": 12,
    "start_time": "2022-02-08T09:31:03.956Z"
   },
   {
    "duration": 10,
    "start_time": "2022-02-08T09:31:13.964Z"
   },
   {
    "duration": 41,
    "start_time": "2022-02-08T09:39:31.054Z"
   },
   {
    "duration": 36,
    "start_time": "2022-02-08T09:39:53.987Z"
   },
   {
    "duration": 45,
    "start_time": "2022-02-08T09:40:00.785Z"
   },
   {
    "duration": 7,
    "start_time": "2022-02-08T09:40:19.577Z"
   },
   {
    "duration": 17,
    "start_time": "2022-02-08T09:40:23.871Z"
   },
   {
    "duration": 9,
    "start_time": "2022-02-08T09:40:26.725Z"
   },
   {
    "duration": 297,
    "start_time": "2022-02-08T09:44:00.944Z"
   },
   {
    "duration": 331,
    "start_time": "2022-02-08T09:45:03.949Z"
   },
   {
    "duration": 292,
    "start_time": "2022-02-08T09:45:32.946Z"
   },
   {
    "duration": 42,
    "start_time": "2022-02-08T09:46:38.292Z"
   },
   {
    "duration": 37,
    "start_time": "2022-02-08T09:47:30.487Z"
   },
   {
    "duration": 7,
    "start_time": "2022-02-08T09:47:38.092Z"
   },
   {
    "duration": 6,
    "start_time": "2022-02-08T09:47:45.684Z"
   },
   {
    "duration": 16,
    "start_time": "2022-02-08T09:47:49.420Z"
   },
   {
    "duration": 24,
    "start_time": "2022-02-08T09:48:01.500Z"
   },
   {
    "duration": 19,
    "start_time": "2022-02-08T09:48:07.653Z"
   },
   {
    "duration": 18,
    "start_time": "2022-02-08T09:48:14.144Z"
   },
   {
    "duration": 12,
    "start_time": "2022-02-08T09:48:14.165Z"
   },
   {
    "duration": 15,
    "start_time": "2022-02-08T09:48:14.180Z"
   },
   {
    "duration": 14,
    "start_time": "2022-02-08T09:48:14.198Z"
   },
   {
    "duration": 38,
    "start_time": "2022-02-08T09:48:14.215Z"
   },
   {
    "duration": 36,
    "start_time": "2022-02-08T09:48:14.256Z"
   },
   {
    "duration": 471,
    "start_time": "2022-02-08T09:48:14.294Z"
   },
   {
    "duration": 393,
    "start_time": "2022-02-08T09:48:14.769Z"
   },
   {
    "duration": 26,
    "start_time": "2022-02-08T09:48:15.167Z"
   },
   {
    "duration": 469,
    "start_time": "2022-02-08T09:48:15.195Z"
   },
   {
    "duration": 384,
    "start_time": "2022-02-08T09:48:15.667Z"
   },
   {
    "duration": 25,
    "start_time": "2022-02-08T09:48:16.053Z"
   },
   {
    "duration": 886,
    "start_time": "2022-02-08T09:48:16.080Z"
   },
   {
    "duration": 524,
    "start_time": "2022-02-08T09:48:16.968Z"
   },
   {
    "duration": 20,
    "start_time": "2022-02-08T09:48:17.494Z"
   },
   {
    "duration": 33,
    "start_time": "2022-02-08T09:48:17.517Z"
   },
   {
    "duration": 11,
    "start_time": "2022-02-08T09:48:17.553Z"
   },
   {
    "duration": 20,
    "start_time": "2022-02-08T09:48:17.566Z"
   },
   {
    "duration": 7,
    "start_time": "2022-02-08T09:48:17.588Z"
   },
   {
    "duration": 9,
    "start_time": "2022-02-08T09:48:17.597Z"
   },
   {
    "duration": 156,
    "start_time": "2022-02-08T09:48:17.609Z"
   },
   {
    "duration": 410,
    "start_time": "2022-02-08T09:48:17.768Z"
   },
   {
    "duration": 487,
    "start_time": "2022-02-08T09:48:18.182Z"
   },
   {
    "duration": 351,
    "start_time": "2022-02-08T09:56:30.160Z"
   },
   {
    "duration": 111,
    "start_time": "2022-02-08T09:56:45.921Z"
   },
   {
    "duration": 108,
    "start_time": "2022-02-08T09:57:25.106Z"
   },
   {
    "duration": 113,
    "start_time": "2022-02-08T09:57:48.413Z"
   },
   {
    "duration": 116,
    "start_time": "2022-02-08T09:57:53.399Z"
   },
   {
    "duration": 23,
    "start_time": "2022-02-08T09:58:05.865Z"
   },
   {
    "duration": 8,
    "start_time": "2022-02-08T09:58:13.384Z"
   },
   {
    "duration": 17,
    "start_time": "2022-02-08T09:58:28.196Z"
   },
   {
    "duration": 1569,
    "start_time": "2022-02-08T13:35:45.964Z"
   },
   {
    "duration": 499,
    "start_time": "2022-02-08T13:35:47.537Z"
   },
   {
    "duration": 31,
    "start_time": "2022-02-08T13:35:48.039Z"
   },
   {
    "duration": 5,
    "start_time": "2022-02-08T13:35:48.073Z"
   },
   {
    "duration": 9,
    "start_time": "2022-02-08T13:35:48.081Z"
   },
   {
    "duration": 5,
    "start_time": "2022-02-08T13:35:48.092Z"
   },
   {
    "duration": 11,
    "start_time": "2022-02-08T13:35:48.099Z"
   },
   {
    "duration": 51,
    "start_time": "2022-02-08T13:35:48.116Z"
   },
   {
    "duration": 7,
    "start_time": "2022-02-08T13:35:48.170Z"
   },
   {
    "duration": 6,
    "start_time": "2022-02-08T13:35:48.179Z"
   },
   {
    "duration": 7,
    "start_time": "2022-02-08T13:35:48.187Z"
   },
   {
    "duration": 66,
    "start_time": "2022-02-08T13:35:48.196Z"
   },
   {
    "duration": 22,
    "start_time": "2022-02-08T13:35:48.265Z"
   },
   {
    "duration": 5,
    "start_time": "2022-02-08T13:35:48.289Z"
   },
   {
    "duration": 76,
    "start_time": "2022-02-08T13:35:48.296Z"
   },
   {
    "duration": 5,
    "start_time": "2022-02-08T13:35:48.375Z"
   },
   {
    "duration": 98,
    "start_time": "2022-02-08T13:35:48.382Z"
   },
   {
    "duration": 3,
    "start_time": "2022-02-08T13:35:48.482Z"
   },
   {
    "duration": 77,
    "start_time": "2022-02-08T13:35:48.488Z"
   },
   {
    "duration": 48,
    "start_time": "2022-02-08T13:35:48.567Z"
   },
   {
    "duration": 73,
    "start_time": "2022-02-08T13:35:48.617Z"
   },
   {
    "duration": 6,
    "start_time": "2022-02-08T13:35:48.693Z"
   },
   {
    "duration": 111,
    "start_time": "2022-02-08T13:35:48.707Z"
   },
   {
    "duration": 4,
    "start_time": "2022-02-08T13:35:48.823Z"
   },
   {
    "duration": 47,
    "start_time": "2022-02-08T13:35:48.829Z"
   },
   {
    "duration": 60,
    "start_time": "2022-02-08T13:35:48.879Z"
   },
   {
    "duration": 55,
    "start_time": "2022-02-08T13:35:48.941Z"
   },
   {
    "duration": 29,
    "start_time": "2022-02-08T13:35:48.998Z"
   },
   {
    "duration": 6,
    "start_time": "2022-02-08T13:35:49.059Z"
   },
   {
    "duration": 45,
    "start_time": "2022-02-08T13:35:49.068Z"
   },
   {
    "duration": 3,
    "start_time": "2022-02-08T13:35:49.115Z"
   },
   {
    "duration": 64,
    "start_time": "2022-02-08T13:35:49.121Z"
   },
   {
    "duration": 136,
    "start_time": "2022-02-08T13:35:49.188Z"
   },
   {
    "duration": 60,
    "start_time": "2022-02-08T13:35:49.327Z"
   },
   {
    "duration": 81,
    "start_time": "2022-02-08T13:35:49.390Z"
   },
   {
    "duration": 55,
    "start_time": "2022-02-08T13:35:49.473Z"
   },
   {
    "duration": 7,
    "start_time": "2022-02-08T13:35:49.531Z"
   },
   {
    "duration": 35,
    "start_time": "2022-02-08T13:35:49.560Z"
   },
   {
    "duration": 7,
    "start_time": "2022-02-08T13:35:49.597Z"
   },
   {
    "duration": 6,
    "start_time": "2022-02-08T13:35:49.607Z"
   },
   {
    "duration": 53,
    "start_time": "2022-02-08T13:35:49.615Z"
   },
   {
    "duration": 11,
    "start_time": "2022-02-08T13:35:49.670Z"
   },
   {
    "duration": 7,
    "start_time": "2022-02-08T13:35:49.684Z"
   },
   {
    "duration": 27,
    "start_time": "2022-02-08T13:35:49.693Z"
   },
   {
    "duration": 515,
    "start_time": "2022-02-08T13:35:49.722Z"
   },
   {
    "duration": 403,
    "start_time": "2022-02-08T13:35:50.239Z"
   },
   {
    "duration": 32,
    "start_time": "2022-02-08T13:35:50.644Z"
   },
   {
    "duration": 496,
    "start_time": "2022-02-08T13:35:50.679Z"
   },
   {
    "duration": 419,
    "start_time": "2022-02-08T13:35:51.177Z"
   },
   {
    "duration": 24,
    "start_time": "2022-02-08T13:35:51.599Z"
   },
   {
    "duration": 483,
    "start_time": "2022-02-08T13:35:51.626Z"
   },
   {
    "duration": 690,
    "start_time": "2022-02-08T13:35:52.111Z"
   },
   {
    "duration": 72,
    "start_time": "2022-02-08T13:35:52.803Z"
   },
   {
    "duration": 10,
    "start_time": "2022-02-08T13:35:52.877Z"
   },
   {
    "duration": 10,
    "start_time": "2022-02-08T13:35:52.890Z"
   },
   {
    "duration": 74,
    "start_time": "2022-02-08T13:35:52.902Z"
   },
   {
    "duration": 9,
    "start_time": "2022-02-08T13:35:52.979Z"
   },
   {
    "duration": 12,
    "start_time": "2022-02-08T13:35:52.991Z"
   },
   {
    "duration": 235,
    "start_time": "2022-02-08T13:35:53.006Z"
   },
   {
    "duration": 523,
    "start_time": "2022-02-08T13:35:53.243Z"
   },
   {
    "duration": 413,
    "start_time": "2022-02-08T13:35:53.768Z"
   },
   {
    "duration": 62,
    "start_time": "2022-02-08T13:36:51.581Z"
   },
   {
    "duration": 32,
    "start_time": "2022-02-08T13:36:54.975Z"
   },
   {
    "duration": 30,
    "start_time": "2022-02-08T13:37:02.121Z"
   },
   {
    "duration": 6,
    "start_time": "2022-02-08T13:37:02.154Z"
   },
   {
    "duration": 8,
    "start_time": "2022-02-08T13:37:02.163Z"
   },
   {
    "duration": 17,
    "start_time": "2022-02-08T13:37:02.174Z"
   },
   {
    "duration": 10,
    "start_time": "2022-02-08T13:37:02.194Z"
   },
   {
    "duration": 6,
    "start_time": "2022-02-08T13:37:02.206Z"
   },
   {
    "duration": 57,
    "start_time": "2022-02-08T13:37:02.215Z"
   },
   {
    "duration": 476,
    "start_time": "2022-02-08T13:37:02.275Z"
   },
   {
    "duration": 383,
    "start_time": "2022-02-08T13:37:02.758Z"
   },
   {
    "duration": 31,
    "start_time": "2022-02-08T13:37:03.145Z"
   },
   {
    "duration": 481,
    "start_time": "2022-02-08T13:37:03.179Z"
   },
   {
    "duration": 399,
    "start_time": "2022-02-08T13:37:03.663Z"
   },
   {
    "duration": 24,
    "start_time": "2022-02-08T13:37:04.064Z"
   },
   {
    "duration": 462,
    "start_time": "2022-02-08T13:37:04.091Z"
   },
   {
    "duration": 395,
    "start_time": "2022-02-08T13:37:04.560Z"
   },
   {
    "duration": 20,
    "start_time": "2022-02-08T13:37:04.960Z"
   },
   {
    "duration": 9,
    "start_time": "2022-02-08T13:37:04.983Z"
   },
   {
    "duration": 13,
    "start_time": "2022-02-08T13:37:04.997Z"
   },
   {
    "duration": 61,
    "start_time": "2022-02-08T13:37:05.012Z"
   },
   {
    "duration": 7,
    "start_time": "2022-02-08T13:37:05.075Z"
   },
   {
    "duration": 10,
    "start_time": "2022-02-08T13:37:05.085Z"
   },
   {
    "duration": 133,
    "start_time": "2022-02-08T13:37:05.098Z"
   },
   {
    "duration": 404,
    "start_time": "2022-02-08T13:37:05.234Z"
   },
   {
    "duration": 482,
    "start_time": "2022-02-08T13:37:05.641Z"
   },
   {
    "duration": 511,
    "start_time": "2022-02-08T13:52:24.401Z"
   },
   {
    "duration": 378,
    "start_time": "2022-02-08T13:52:37.202Z"
   },
   {
    "duration": 9,
    "start_time": "2022-02-08T13:52:46.061Z"
   },
   {
    "duration": 12,
    "start_time": "2022-02-08T13:53:28.094Z"
   },
   {
    "duration": 5,
    "start_time": "2022-02-08T13:57:15.918Z"
   },
   {
    "duration": 6,
    "start_time": "2022-02-08T13:57:37.486Z"
   },
   {
    "duration": 5,
    "start_time": "2022-02-08T13:57:49.811Z"
   },
   {
    "duration": 126,
    "start_time": "2022-02-08T13:58:52.558Z"
   },
   {
    "duration": 351,
    "start_time": "2022-02-08T13:59:10.605Z"
   },
   {
    "duration": 446,
    "start_time": "2022-02-08T13:59:37.765Z"
   },
   {
    "duration": 421,
    "start_time": "2022-02-08T13:59:46.414Z"
   },
   {
    "duration": 380,
    "start_time": "2022-02-08T13:59:53.486Z"
   },
   {
    "duration": 407,
    "start_time": "2022-02-08T14:00:31.965Z"
   },
   {
    "duration": 127,
    "start_time": "2022-02-08T14:01:19.232Z"
   },
   {
    "duration": 479,
    "start_time": "2022-02-08T14:02:43.872Z"
   },
   {
    "duration": 540,
    "start_time": "2022-02-08T14:03:17.443Z"
   },
   {
    "duration": 9,
    "start_time": "2022-02-08T14:05:46.211Z"
   },
   {
    "duration": 10,
    "start_time": "2022-02-08T14:06:01.171Z"
   },
   {
    "duration": 9,
    "start_time": "2022-02-08T14:06:16.655Z"
   },
   {
    "duration": 8,
    "start_time": "2022-02-08T14:07:10.369Z"
   },
   {
    "duration": 9,
    "start_time": "2022-02-08T14:12:09.903Z"
   },
   {
    "duration": 240,
    "start_time": "2022-02-08T14:13:10.367Z"
   },
   {
    "duration": 9,
    "start_time": "2022-02-08T14:13:13.286Z"
   },
   {
    "duration": 10,
    "start_time": "2022-02-08T14:14:28.227Z"
   },
   {
    "duration": 8,
    "start_time": "2022-02-08T14:14:54.839Z"
   },
   {
    "duration": 2,
    "start_time": "2022-02-08T14:20:03.465Z"
   },
   {
    "duration": 393,
    "start_time": "2022-02-08T14:22:36.248Z"
   },
   {
    "duration": 102,
    "start_time": "2022-02-08T14:22:54.219Z"
   },
   {
    "duration": 12,
    "start_time": "2022-02-08T14:27:09.371Z"
   },
   {
    "duration": 12,
    "start_time": "2022-02-08T14:28:10.424Z"
   },
   {
    "duration": 10,
    "start_time": "2022-02-08T14:30:32.969Z"
   },
   {
    "duration": 9,
    "start_time": "2022-02-08T15:08:24.066Z"
   },
   {
    "duration": 396,
    "start_time": "2022-02-08T15:11:37.746Z"
   },
   {
    "duration": 125,
    "start_time": "2022-02-08T15:16:14.758Z"
   },
   {
    "duration": 134,
    "start_time": "2022-02-08T15:17:02.687Z"
   },
   {
    "duration": 15,
    "start_time": "2022-02-08T15:18:01.219Z"
   },
   {
    "duration": 18,
    "start_time": "2022-02-08T15:18:12.478Z"
   },
   {
    "duration": 19,
    "start_time": "2022-02-08T15:18:49.799Z"
   },
   {
    "duration": 19,
    "start_time": "2022-02-08T15:19:36.650Z"
   },
   {
    "duration": 12,
    "start_time": "2022-02-08T15:19:40.185Z"
   },
   {
    "duration": 139,
    "start_time": "2022-02-08T15:20:30.546Z"
   },
   {
    "duration": 18,
    "start_time": "2022-02-08T15:21:25.459Z"
   },
   {
    "duration": 20,
    "start_time": "2022-02-08T15:21:42.853Z"
   },
   {
    "duration": 14,
    "start_time": "2022-02-08T15:26:13.721Z"
   },
   {
    "duration": 13,
    "start_time": "2022-02-08T15:26:16.457Z"
   },
   {
    "duration": 4,
    "start_time": "2022-02-08T15:37:14.711Z"
   },
   {
    "duration": 399,
    "start_time": "2022-02-08T16:01:10.542Z"
   },
   {
    "duration": 425,
    "start_time": "2022-02-08T16:01:25.734Z"
   },
   {
    "duration": 396,
    "start_time": "2022-02-08T16:33:08.893Z"
   },
   {
    "duration": 445,
    "start_time": "2022-02-08T16:41:27.432Z"
   },
   {
    "duration": 108,
    "start_time": "2022-02-08T16:41:37.721Z"
   },
   {
    "duration": 22,
    "start_time": "2022-02-08T16:47:20.317Z"
   },
   {
    "duration": 343,
    "start_time": "2022-02-08T16:48:00.300Z"
   },
   {
    "duration": 5034,
    "start_time": "2022-02-08T16:49:58.892Z"
   },
   {
    "duration": 8,
    "start_time": "2022-02-08T18:22:59.637Z"
   },
   {
    "duration": 8,
    "start_time": "2022-02-08T18:23:49.095Z"
   },
   {
    "duration": 8,
    "start_time": "2022-02-08T18:23:57.757Z"
   },
   {
    "duration": 1246,
    "start_time": "2022-02-09T07:44:49.538Z"
   },
   {
    "duration": 471,
    "start_time": "2022-02-09T07:44:50.786Z"
   },
   {
    "duration": 18,
    "start_time": "2022-02-09T07:44:51.259Z"
   },
   {
    "duration": 5,
    "start_time": "2022-02-09T07:44:51.279Z"
   },
   {
    "duration": 26,
    "start_time": "2022-02-09T07:44:51.286Z"
   },
   {
    "duration": 9,
    "start_time": "2022-02-09T07:44:51.314Z"
   },
   {
    "duration": 12,
    "start_time": "2022-02-09T07:44:51.325Z"
   },
   {
    "duration": 7,
    "start_time": "2022-02-09T07:44:51.340Z"
   },
   {
    "duration": 8,
    "start_time": "2022-02-09T07:44:51.349Z"
   },
   {
    "duration": 7,
    "start_time": "2022-02-09T07:44:51.359Z"
   },
   {
    "duration": 7,
    "start_time": "2022-02-09T07:44:51.368Z"
   },
   {
    "duration": 18,
    "start_time": "2022-02-09T07:44:51.408Z"
   },
   {
    "duration": 17,
    "start_time": "2022-02-09T07:44:51.428Z"
   },
   {
    "duration": 5,
    "start_time": "2022-02-09T07:44:51.447Z"
   },
   {
    "duration": 69,
    "start_time": "2022-02-09T07:44:51.455Z"
   },
   {
    "duration": 4,
    "start_time": "2022-02-09T07:44:51.526Z"
   },
   {
    "duration": 83,
    "start_time": "2022-02-09T07:44:51.532Z"
   },
   {
    "duration": 3,
    "start_time": "2022-02-09T07:44:51.617Z"
   },
   {
    "duration": 60,
    "start_time": "2022-02-09T07:44:51.622Z"
   },
   {
    "duration": 54,
    "start_time": "2022-02-09T07:44:51.684Z"
   },
   {
    "duration": 45,
    "start_time": "2022-02-09T07:44:51.741Z"
   },
   {
    "duration": 6,
    "start_time": "2022-02-09T07:44:51.808Z"
   },
   {
    "duration": 45,
    "start_time": "2022-02-09T07:44:51.820Z"
   },
   {
    "duration": 3,
    "start_time": "2022-02-09T07:44:51.868Z"
   },
   {
    "duration": 46,
    "start_time": "2022-02-09T07:44:51.874Z"
   },
   {
    "duration": 33,
    "start_time": "2022-02-09T07:44:51.922Z"
   },
   {
    "duration": 52,
    "start_time": "2022-02-09T07:44:51.958Z"
   },
   {
    "duration": 25,
    "start_time": "2022-02-09T07:44:52.012Z"
   },
   {
    "duration": 4,
    "start_time": "2022-02-09T07:44:52.040Z"
   },
   {
    "duration": 61,
    "start_time": "2022-02-09T07:44:52.046Z"
   },
   {
    "duration": 3,
    "start_time": "2022-02-09T07:44:52.110Z"
   },
   {
    "duration": 38,
    "start_time": "2022-02-09T07:44:52.115Z"
   },
   {
    "duration": 141,
    "start_time": "2022-02-09T07:44:52.156Z"
   },
   {
    "duration": 57,
    "start_time": "2022-02-09T07:44:52.299Z"
   },
   {
    "duration": 84,
    "start_time": "2022-02-09T07:44:52.359Z"
   },
   {
    "duration": 80,
    "start_time": "2022-02-09T07:44:52.445Z"
   },
   {
    "duration": 9,
    "start_time": "2022-02-09T07:44:52.527Z"
   },
   {
    "duration": 38,
    "start_time": "2022-02-09T07:44:52.538Z"
   },
   {
    "duration": 31,
    "start_time": "2022-02-09T07:44:52.579Z"
   },
   {
    "duration": 22,
    "start_time": "2022-02-09T07:44:52.612Z"
   },
   {
    "duration": 20,
    "start_time": "2022-02-09T07:44:52.636Z"
   },
   {
    "duration": 19,
    "start_time": "2022-02-09T07:44:52.658Z"
   },
   {
    "duration": 21,
    "start_time": "2022-02-09T07:44:52.679Z"
   },
   {
    "duration": 36,
    "start_time": "2022-02-09T07:44:52.701Z"
   },
   {
    "duration": 320,
    "start_time": "2022-02-09T07:44:52.739Z"
   },
   {
    "duration": 280,
    "start_time": "2022-02-09T07:44:53.061Z"
   },
   {
    "duration": 19,
    "start_time": "2022-02-09T07:44:53.343Z"
   },
   {
    "duration": 343,
    "start_time": "2022-02-09T07:44:53.364Z"
   },
   {
    "duration": 277,
    "start_time": "2022-02-09T07:44:53.709Z"
   },
   {
    "duration": 29,
    "start_time": "2022-02-09T07:44:53.987Z"
   },
   {
    "duration": 307,
    "start_time": "2022-02-09T07:44:54.018Z"
   },
   {
    "duration": 275,
    "start_time": "2022-02-09T07:44:54.326Z"
   },
   {
    "duration": 156,
    "start_time": "2022-02-09T07:44:54.603Z"
   },
   {
    "duration": 290,
    "start_time": "2022-02-09T07:44:54.761Z"
   },
   {
    "duration": 3,
    "start_time": "2022-02-09T07:44:55.053Z"
   },
   {
    "duration": 292,
    "start_time": "2022-02-09T07:44:55.058Z"
   },
   {
    "duration": 2,
    "start_time": "2022-02-09T07:44:55.352Z"
   },
   {
    "duration": 21,
    "start_time": "2022-02-09T07:44:55.356Z"
   },
   {
    "duration": 30,
    "start_time": "2022-02-09T07:44:55.379Z"
   },
   {
    "duration": 14,
    "start_time": "2022-02-09T07:44:55.411Z"
   },
   {
    "duration": 26,
    "start_time": "2022-02-09T07:44:55.427Z"
   },
   {
    "duration": 17,
    "start_time": "2022-02-09T07:44:55.455Z"
   },
   {
    "duration": 7,
    "start_time": "2022-02-09T07:45:01.572Z"
   },
   {
    "duration": 4,
    "start_time": "2022-02-09T09:07:17.914Z"
   },
   {
    "duration": 451,
    "start_time": "2022-02-09T09:07:17.920Z"
   },
   {
    "duration": 15,
    "start_time": "2022-02-09T09:07:18.374Z"
   },
   {
    "duration": 5,
    "start_time": "2022-02-09T09:07:18.409Z"
   },
   {
    "duration": 11,
    "start_time": "2022-02-09T09:07:18.416Z"
   },
   {
    "duration": 8,
    "start_time": "2022-02-09T09:07:18.429Z"
   },
   {
    "duration": 19,
    "start_time": "2022-02-09T09:07:18.439Z"
   },
   {
    "duration": 6,
    "start_time": "2022-02-09T09:07:18.462Z"
   },
   {
    "duration": 37,
    "start_time": "2022-02-09T09:07:18.471Z"
   },
   {
    "duration": 6,
    "start_time": "2022-02-09T09:07:18.511Z"
   },
   {
    "duration": 8,
    "start_time": "2022-02-09T09:07:18.520Z"
   },
   {
    "duration": 18,
    "start_time": "2022-02-09T09:07:18.531Z"
   },
   {
    "duration": 13,
    "start_time": "2022-02-09T09:07:18.550Z"
   },
   {
    "duration": 42,
    "start_time": "2022-02-09T09:07:18.565Z"
   },
   {
    "duration": 53,
    "start_time": "2022-02-09T09:07:18.610Z"
   },
   {
    "duration": 6,
    "start_time": "2022-02-09T09:07:18.666Z"
   },
   {
    "duration": 124,
    "start_time": "2022-02-09T09:07:18.674Z"
   },
   {
    "duration": 6,
    "start_time": "2022-02-09T09:07:18.801Z"
   },
   {
    "duration": 64,
    "start_time": "2022-02-09T09:07:18.810Z"
   },
   {
    "duration": 62,
    "start_time": "2022-02-09T09:07:18.877Z"
   },
   {
    "duration": 28,
    "start_time": "2022-02-09T09:07:18.941Z"
   },
   {
    "duration": 5,
    "start_time": "2022-02-09T09:07:18.971Z"
   },
   {
    "duration": 68,
    "start_time": "2022-02-09T09:07:18.980Z"
   },
   {
    "duration": 3,
    "start_time": "2022-02-09T09:07:19.050Z"
   },
   {
    "duration": 20,
    "start_time": "2022-02-09T09:07:19.055Z"
   },
   {
    "duration": 50,
    "start_time": "2022-02-09T09:07:19.077Z"
   },
   {
    "duration": 32,
    "start_time": "2022-02-09T09:07:19.129Z"
   },
   {
    "duration": 51,
    "start_time": "2022-02-09T09:07:19.163Z"
   },
   {
    "duration": 5,
    "start_time": "2022-02-09T09:07:19.216Z"
   },
   {
    "duration": 37,
    "start_time": "2022-02-09T09:07:19.223Z"
   },
   {
    "duration": 3,
    "start_time": "2022-02-09T09:07:19.262Z"
   },
   {
    "duration": 57,
    "start_time": "2022-02-09T09:07:19.267Z"
   },
   {
    "duration": 98,
    "start_time": "2022-02-09T09:07:19.326Z"
   },
   {
    "duration": 36,
    "start_time": "2022-02-09T09:07:19.426Z"
   },
   {
    "duration": 66,
    "start_time": "2022-02-09T09:07:19.464Z"
   },
   {
    "duration": 43,
    "start_time": "2022-02-09T09:07:19.532Z"
   },
   {
    "duration": 6,
    "start_time": "2022-02-09T09:07:19.576Z"
   },
   {
    "duration": 24,
    "start_time": "2022-02-09T09:07:19.607Z"
   },
   {
    "duration": 5,
    "start_time": "2022-02-09T09:07:19.633Z"
   },
   {
    "duration": 9,
    "start_time": "2022-02-09T09:07:19.640Z"
   },
   {
    "duration": 16,
    "start_time": "2022-02-09T09:07:19.651Z"
   },
   {
    "duration": 47,
    "start_time": "2022-02-09T09:07:19.669Z"
   },
   {
    "duration": 10,
    "start_time": "2022-02-09T09:07:19.718Z"
   },
   {
    "duration": 26,
    "start_time": "2022-02-09T09:07:19.730Z"
   },
   {
    "duration": 340,
    "start_time": "2022-02-09T09:07:19.759Z"
   },
   {
    "duration": 281,
    "start_time": "2022-02-09T09:07:20.101Z"
   },
   {
    "duration": 32,
    "start_time": "2022-02-09T09:07:20.384Z"
   },
   {
    "duration": 326,
    "start_time": "2022-02-09T09:07:20.418Z"
   },
   {
    "duration": 387,
    "start_time": "2022-02-09T09:07:20.746Z"
   },
   {
    "duration": 20,
    "start_time": "2022-02-09T09:07:21.136Z"
   },
   {
    "duration": 343,
    "start_time": "2022-02-09T09:07:21.158Z"
   },
   {
    "duration": 271,
    "start_time": "2022-02-09T09:07:21.507Z"
   },
   {
    "duration": 91,
    "start_time": "2022-02-09T09:07:21.780Z"
   },
   {
    "duration": 368,
    "start_time": "2022-02-09T09:07:21.873Z"
   },
   {
    "duration": 2,
    "start_time": "2022-02-09T09:07:22.244Z"
   },
   {
    "duration": 414,
    "start_time": "2022-02-09T09:07:22.248Z"
   },
   {
    "duration": 3,
    "start_time": "2022-02-09T09:07:22.664Z"
   },
   {
    "duration": 25,
    "start_time": "2022-02-09T09:07:22.669Z"
   },
   {
    "duration": 9,
    "start_time": "2022-02-09T09:07:22.709Z"
   },
   {
    "duration": 60,
    "start_time": "2022-02-09T09:07:22.721Z"
   },
   {
    "duration": 26,
    "start_time": "2022-02-09T09:07:22.784Z"
   },
   {
    "duration": 15,
    "start_time": "2022-02-09T09:07:22.812Z"
   },
   {
    "duration": 4,
    "start_time": "2022-02-09T09:37:34.728Z"
   },
   {
    "duration": 322,
    "start_time": "2022-02-09T09:58:14.050Z"
   },
   {
    "duration": 1158,
    "start_time": "2022-02-09T13:27:24.399Z"
   },
   {
    "duration": 368,
    "start_time": "2022-02-09T13:27:25.559Z"
   },
   {
    "duration": 14,
    "start_time": "2022-02-09T13:27:25.929Z"
   },
   {
    "duration": 4,
    "start_time": "2022-02-09T13:27:25.944Z"
   },
   {
    "duration": 7,
    "start_time": "2022-02-09T13:27:25.950Z"
   },
   {
    "duration": 6,
    "start_time": "2022-02-09T13:27:25.958Z"
   },
   {
    "duration": 9,
    "start_time": "2022-02-09T13:27:25.965Z"
   },
   {
    "duration": 5,
    "start_time": "2022-02-09T13:27:25.976Z"
   },
   {
    "duration": 6,
    "start_time": "2022-02-09T13:27:25.983Z"
   },
   {
    "duration": 5,
    "start_time": "2022-02-09T13:27:25.990Z"
   },
   {
    "duration": 32,
    "start_time": "2022-02-09T13:27:25.996Z"
   },
   {
    "duration": 12,
    "start_time": "2022-02-09T13:27:26.030Z"
   },
   {
    "duration": 11,
    "start_time": "2022-02-09T13:27:26.044Z"
   },
   {
    "duration": 5,
    "start_time": "2022-02-09T13:27:26.056Z"
   },
   {
    "duration": 30,
    "start_time": "2022-02-09T13:27:26.062Z"
   },
   {
    "duration": 3,
    "start_time": "2022-02-09T13:27:26.093Z"
   },
   {
    "duration": 76,
    "start_time": "2022-02-09T13:27:26.098Z"
   },
   {
    "duration": 2,
    "start_time": "2022-02-09T13:27:26.176Z"
   },
   {
    "duration": 56,
    "start_time": "2022-02-09T13:27:26.179Z"
   },
   {
    "duration": 33,
    "start_time": "2022-02-09T13:27:26.236Z"
   },
   {
    "duration": 21,
    "start_time": "2022-02-09T13:27:26.271Z"
   },
   {
    "duration": 3,
    "start_time": "2022-02-09T13:27:26.293Z"
   },
   {
    "duration": 55,
    "start_time": "2022-02-09T13:27:26.299Z"
   },
   {
    "duration": 2,
    "start_time": "2022-02-09T13:27:26.356Z"
   },
   {
    "duration": 18,
    "start_time": "2022-02-09T13:27:26.360Z"
   },
   {
    "duration": 22,
    "start_time": "2022-02-09T13:27:26.379Z"
   },
   {
    "duration": 48,
    "start_time": "2022-02-09T13:27:26.403Z"
   },
   {
    "duration": 18,
    "start_time": "2022-02-09T13:27:26.453Z"
   },
   {
    "duration": 3,
    "start_time": "2022-02-09T13:27:26.473Z"
   },
   {
    "duration": 49,
    "start_time": "2022-02-09T13:27:26.478Z"
   },
   {
    "duration": 2,
    "start_time": "2022-02-09T13:27:26.528Z"
   },
   {
    "duration": 24,
    "start_time": "2022-02-09T13:27:26.532Z"
   },
   {
    "duration": 88,
    "start_time": "2022-02-09T13:27:26.557Z"
   },
   {
    "duration": 29,
    "start_time": "2022-02-09T13:27:26.647Z"
   },
   {
    "duration": 56,
    "start_time": "2022-02-09T13:27:26.677Z"
   },
   {
    "duration": 34,
    "start_time": "2022-02-09T13:27:26.734Z"
   },
   {
    "duration": 18,
    "start_time": "2022-02-09T13:27:26.769Z"
   },
   {
    "duration": 4,
    "start_time": "2022-02-09T13:27:26.788Z"
   },
   {
    "duration": 10,
    "start_time": "2022-02-09T13:27:26.794Z"
   },
   {
    "duration": 27,
    "start_time": "2022-02-09T13:27:26.805Z"
   },
   {
    "duration": 5,
    "start_time": "2022-02-09T13:27:26.833Z"
   },
   {
    "duration": 16,
    "start_time": "2022-02-09T13:27:26.839Z"
   },
   {
    "duration": 384,
    "start_time": "2022-02-09T13:27:26.856Z"
   },
   {
    "duration": 274,
    "start_time": "2022-02-09T13:27:27.242Z"
   },
   {
    "duration": 20,
    "start_time": "2022-02-09T13:27:27.517Z"
   },
   {
    "duration": 253,
    "start_time": "2022-02-09T13:27:27.539Z"
   },
   {
    "duration": 221,
    "start_time": "2022-02-09T13:27:27.793Z"
   },
   {
    "duration": 22,
    "start_time": "2022-02-09T13:27:28.015Z"
   },
   {
    "duration": 247,
    "start_time": "2022-02-09T13:27:28.038Z"
   },
   {
    "duration": 214,
    "start_time": "2022-02-09T13:27:28.286Z"
   },
   {
    "duration": 123,
    "start_time": "2022-02-09T13:27:28.501Z"
   },
   {
    "duration": 220,
    "start_time": "2022-02-09T13:27:28.627Z"
   },
   {
    "duration": 2,
    "start_time": "2022-02-09T13:27:28.849Z"
   },
   {
    "duration": 227,
    "start_time": "2022-02-09T13:27:28.852Z"
   },
   {
    "duration": 2,
    "start_time": "2022-02-09T13:27:29.080Z"
   },
   {
    "duration": 14,
    "start_time": "2022-02-09T13:27:29.084Z"
   },
   {
    "duration": 4,
    "start_time": "2022-02-09T13:27:29.100Z"
   },
   {
    "duration": 26,
    "start_time": "2022-02-09T13:27:29.106Z"
   },
   {
    "duration": 12,
    "start_time": "2022-02-09T13:27:29.134Z"
   },
   {
    "duration": 5,
    "start_time": "2022-02-09T13:27:29.147Z"
   },
   {
    "duration": 260,
    "start_time": "2022-02-09T13:27:34.142Z"
   },
   {
    "duration": 2,
    "start_time": "2022-02-09T13:44:40.835Z"
   },
   {
    "duration": 22,
    "start_time": "2022-02-09T13:46:09.134Z"
   },
   {
    "duration": 77,
    "start_time": "2022-02-09T13:48:21.136Z"
   },
   {
    "duration": 70,
    "start_time": "2022-02-09T13:48:39.876Z"
   },
   {
    "duration": 1492,
    "start_time": "2022-02-14T15:29:06.540Z"
   },
   {
    "duration": 541,
    "start_time": "2022-02-14T15:29:08.034Z"
   },
   {
    "duration": 25,
    "start_time": "2022-02-14T15:29:08.578Z"
   },
   {
    "duration": 8,
    "start_time": "2022-02-14T15:29:08.607Z"
   },
   {
    "duration": 10,
    "start_time": "2022-02-14T15:29:08.618Z"
   },
   {
    "duration": 4,
    "start_time": "2022-02-14T15:29:08.661Z"
   },
   {
    "duration": 14,
    "start_time": "2022-02-14T15:29:08.668Z"
   },
   {
    "duration": 9,
    "start_time": "2022-02-14T15:29:08.687Z"
   },
   {
    "duration": 17,
    "start_time": "2022-02-14T15:29:08.699Z"
   },
   {
    "duration": 45,
    "start_time": "2022-02-14T15:29:08.719Z"
   },
   {
    "duration": 10,
    "start_time": "2022-02-14T15:29:08.766Z"
   },
   {
    "duration": 25,
    "start_time": "2022-02-14T15:29:08.778Z"
   },
   {
    "duration": 55,
    "start_time": "2022-02-14T15:29:08.805Z"
   },
   {
    "duration": 6,
    "start_time": "2022-02-14T15:29:08.863Z"
   },
   {
    "duration": 40,
    "start_time": "2022-02-14T15:29:08.872Z"
   },
   {
    "duration": 6,
    "start_time": "2022-02-14T15:29:08.914Z"
   },
   {
    "duration": 115,
    "start_time": "2022-02-14T15:29:08.922Z"
   },
   {
    "duration": 4,
    "start_time": "2022-02-14T15:29:09.039Z"
   },
   {
    "duration": 78,
    "start_time": "2022-02-14T15:29:09.060Z"
   },
   {
    "duration": 65,
    "start_time": "2022-02-14T15:29:09.140Z"
   },
   {
    "duration": 70,
    "start_time": "2022-02-14T15:29:09.208Z"
   },
   {
    "duration": 7,
    "start_time": "2022-02-14T15:29:09.280Z"
   },
   {
    "duration": 117,
    "start_time": "2022-02-14T15:29:09.295Z"
   },
   {
    "duration": 3,
    "start_time": "2022-02-14T15:29:09.417Z"
   },
   {
    "duration": 80,
    "start_time": "2022-02-14T15:29:09.424Z"
   },
   {
    "duration": 75,
    "start_time": "2022-02-14T15:29:09.507Z"
   },
   {
    "duration": 42,
    "start_time": "2022-02-14T15:29:09.585Z"
   },
   {
    "duration": 5,
    "start_time": "2022-02-14T15:29:09.629Z"
   },
   {
    "duration": 43,
    "start_time": "2022-02-14T15:29:09.660Z"
   },
   {
    "duration": 3,
    "start_time": "2022-02-14T15:29:09.705Z"
   },
   {
    "duration": 70,
    "start_time": "2022-02-14T15:29:09.710Z"
   },
   {
    "duration": 24,
    "start_time": "2022-02-14T15:29:09.782Z"
   },
   {
    "duration": 143,
    "start_time": "2022-02-14T15:29:09.808Z"
   },
   {
    "duration": 47,
    "start_time": "2022-02-14T15:29:09.953Z"
   },
   {
    "duration": 93,
    "start_time": "2022-02-14T15:29:10.002Z"
   },
   {
    "duration": 73,
    "start_time": "2022-02-14T15:29:10.097Z"
   },
   {
    "duration": 32,
    "start_time": "2022-02-14T15:29:10.173Z"
   },
   {
    "duration": 6,
    "start_time": "2022-02-14T15:29:10.207Z"
   },
   {
    "duration": 52,
    "start_time": "2022-02-14T15:29:10.217Z"
   },
   {
    "duration": 10,
    "start_time": "2022-02-14T15:29:10.272Z"
   },
   {
    "duration": 9,
    "start_time": "2022-02-14T15:29:10.284Z"
   },
   {
    "duration": 25,
    "start_time": "2022-02-14T15:29:10.295Z"
   },
   {
    "duration": 612,
    "start_time": "2022-02-14T15:29:10.322Z"
   },
   {
    "duration": 540,
    "start_time": "2022-02-14T15:29:10.937Z"
   },
   {
    "duration": 25,
    "start_time": "2022-02-14T15:29:11.480Z"
   },
   {
    "duration": 484,
    "start_time": "2022-02-14T15:29:11.507Z"
   },
   {
    "duration": 409,
    "start_time": "2022-02-14T15:29:11.994Z"
   },
   {
    "duration": 29,
    "start_time": "2022-02-14T15:29:12.406Z"
   },
   {
    "duration": 488,
    "start_time": "2022-02-14T15:29:12.438Z"
   },
   {
    "duration": 415,
    "start_time": "2022-02-14T15:29:12.929Z"
   },
   {
    "duration": 204,
    "start_time": "2022-02-14T15:29:13.347Z"
   },
   {
    "duration": 419,
    "start_time": "2022-02-14T15:29:13.553Z"
   },
   {
    "duration": 13,
    "start_time": "2022-02-14T15:29:13.975Z"
   },
   {
    "duration": 414,
    "start_time": "2022-02-14T15:29:13.991Z"
   },
   {
    "duration": 3,
    "start_time": "2022-02-14T15:29:14.408Z"
   },
   {
    "duration": 17,
    "start_time": "2022-02-14T15:29:14.414Z"
   },
   {
    "duration": 38,
    "start_time": "2022-02-14T15:29:14.434Z"
   },
   {
    "duration": 14,
    "start_time": "2022-02-14T15:29:14.475Z"
   },
   {
    "duration": 25,
    "start_time": "2022-02-14T15:29:14.491Z"
   },
   {
    "duration": 41,
    "start_time": "2022-02-14T15:29:14.519Z"
   },
   {
    "duration": 283,
    "start_time": "2022-02-15T09:15:29.634Z"
   },
   {
    "duration": 1136,
    "start_time": "2022-02-15T09:15:43.047Z"
   },
   {
    "duration": 366,
    "start_time": "2022-02-15T09:15:44.185Z"
   },
   {
    "duration": 17,
    "start_time": "2022-02-15T09:15:44.553Z"
   },
   {
    "duration": 4,
    "start_time": "2022-02-15T09:15:44.572Z"
   },
   {
    "duration": 13,
    "start_time": "2022-02-15T09:15:44.578Z"
   },
   {
    "duration": 5,
    "start_time": "2022-02-15T09:15:44.593Z"
   },
   {
    "duration": 25,
    "start_time": "2022-02-15T09:15:44.599Z"
   },
   {
    "duration": 7,
    "start_time": "2022-02-15T09:15:44.626Z"
   },
   {
    "duration": 7,
    "start_time": "2022-02-15T09:15:44.636Z"
   },
   {
    "duration": 6,
    "start_time": "2022-02-15T09:15:44.645Z"
   },
   {
    "duration": 9,
    "start_time": "2022-02-15T09:15:44.652Z"
   },
   {
    "duration": 14,
    "start_time": "2022-02-15T09:15:44.663Z"
   },
   {
    "duration": 45,
    "start_time": "2022-02-15T09:15:44.679Z"
   },
   {
    "duration": 4,
    "start_time": "2022-02-15T09:15:44.726Z"
   },
   {
    "duration": 41,
    "start_time": "2022-02-15T09:15:44.731Z"
   },
   {
    "duration": 4,
    "start_time": "2022-02-15T09:15:44.773Z"
   },
   {
    "duration": 81,
    "start_time": "2022-02-15T09:15:44.778Z"
   },
   {
    "duration": 3,
    "start_time": "2022-02-15T09:15:44.860Z"
   },
   {
    "duration": 56,
    "start_time": "2022-02-15T09:15:44.864Z"
   },
   {
    "duration": 34,
    "start_time": "2022-02-15T09:15:44.922Z"
   },
   {
    "duration": 25,
    "start_time": "2022-02-15T09:15:44.957Z"
   },
   {
    "duration": 3,
    "start_time": "2022-02-15T09:15:44.984Z"
   },
   {
    "duration": 74,
    "start_time": "2022-02-15T09:15:44.989Z"
   },
   {
    "duration": 3,
    "start_time": "2022-02-15T09:15:45.064Z"
   },
   {
    "duration": 37,
    "start_time": "2022-02-15T09:15:45.069Z"
   },
   {
    "duration": 43,
    "start_time": "2022-02-15T09:15:45.108Z"
   },
   {
    "duration": 22,
    "start_time": "2022-02-15T09:15:45.155Z"
   },
   {
    "duration": 4,
    "start_time": "2022-02-15T09:15:45.179Z"
   },
   {
    "duration": 60,
    "start_time": "2022-02-15T09:15:45.185Z"
   },
   {
    "duration": 2,
    "start_time": "2022-02-15T09:15:45.247Z"
   },
   {
    "duration": 25,
    "start_time": "2022-02-15T09:15:45.251Z"
   },
   {
    "duration": 19,
    "start_time": "2022-02-15T09:15:45.277Z"
   },
   {
    "duration": 106,
    "start_time": "2022-02-15T09:15:45.298Z"
   },
   {
    "duration": 43,
    "start_time": "2022-02-15T09:15:45.406Z"
   },
   {
    "duration": 51,
    "start_time": "2022-02-15T09:15:45.450Z"
   },
   {
    "duration": 54,
    "start_time": "2022-02-15T09:15:45.503Z"
   },
   {
    "duration": 22,
    "start_time": "2022-02-15T09:15:45.558Z"
   },
   {
    "duration": 5,
    "start_time": "2022-02-15T09:15:45.582Z"
   },
   {
    "duration": 38,
    "start_time": "2022-02-15T09:15:45.588Z"
   },
   {
    "duration": 7,
    "start_time": "2022-02-15T09:15:45.627Z"
   },
   {
    "duration": 14,
    "start_time": "2022-02-15T09:15:45.636Z"
   },
   {
    "duration": 27,
    "start_time": "2022-02-15T09:15:45.652Z"
   },
   {
    "duration": 289,
    "start_time": "2022-02-15T09:15:45.680Z"
   },
   {
    "duration": 251,
    "start_time": "2022-02-15T09:15:45.970Z"
   },
   {
    "duration": 18,
    "start_time": "2022-02-15T09:15:46.223Z"
   },
   {
    "duration": 305,
    "start_time": "2022-02-15T09:15:46.243Z"
   },
   {
    "duration": 299,
    "start_time": "2022-02-15T09:15:46.550Z"
   },
   {
    "duration": 17,
    "start_time": "2022-02-15T09:15:46.851Z"
   },
   {
    "duration": 298,
    "start_time": "2022-02-15T09:15:46.870Z"
   },
   {
    "duration": 238,
    "start_time": "2022-02-15T09:15:47.170Z"
   },
   {
    "duration": 163,
    "start_time": "2022-02-15T09:15:47.410Z"
   },
   {
    "duration": 241,
    "start_time": "2022-02-15T09:15:47.575Z"
   },
   {
    "duration": 2,
    "start_time": "2022-02-15T09:15:47.818Z"
   },
   {
    "duration": 248,
    "start_time": "2022-02-15T09:15:47.822Z"
   },
   {
    "duration": 2,
    "start_time": "2022-02-15T09:15:48.072Z"
   },
   {
    "duration": 14,
    "start_time": "2022-02-15T09:15:48.076Z"
   },
   {
    "duration": 5,
    "start_time": "2022-02-15T09:15:48.092Z"
   },
   {
    "duration": 8,
    "start_time": "2022-02-15T09:15:48.119Z"
   },
   {
    "duration": 14,
    "start_time": "2022-02-15T09:15:48.128Z"
   },
   {
    "duration": 5,
    "start_time": "2022-02-15T09:15:48.144Z"
   },
   {
    "duration": 75,
    "start_time": "2022-02-15T09:16:13.321Z"
   },
   {
    "duration": 74,
    "start_time": "2022-02-15T09:20:08.212Z"
   },
   {
    "duration": 73,
    "start_time": "2022-02-15T09:20:43.908Z"
   },
   {
    "duration": 75,
    "start_time": "2022-02-15T09:21:29.140Z"
   },
   {
    "duration": 79,
    "start_time": "2022-02-15T09:22:40.120Z"
   },
   {
    "duration": 74,
    "start_time": "2022-02-15T09:23:58.079Z"
   },
   {
    "duration": 76,
    "start_time": "2022-02-15T09:26:55.269Z"
   },
   {
    "duration": 243,
    "start_time": "2022-02-15T09:29:28.832Z"
   }
  ],
  "kernelspec": {
   "display_name": "Python 3",
   "language": "python",
   "name": "python3"
  },
  "language_info": {
   "codemirror_mode": {
    "name": "ipython",
    "version": 3
   },
   "file_extension": ".py",
   "mimetype": "text/x-python",
   "name": "python",
   "nbconvert_exporter": "python",
   "pygments_lexer": "ipython3",
   "version": "3.7.12"
  },
  "toc": {
   "base_numbering": 1,
   "nav_menu": {},
   "number_sections": true,
   "sideBar": true,
   "skip_h1_title": true,
   "title_cell": "Содержание",
   "title_sidebar": "Contents",
   "toc_cell": true,
   "toc_position": {
    "height": "calc(100% - 180px)",
    "left": "10px",
    "top": "150px",
    "width": "186.009px"
   },
   "toc_section_display": true,
   "toc_window_display": false
  }
 },
 "nbformat": 4,
 "nbformat_minor": 2
}
